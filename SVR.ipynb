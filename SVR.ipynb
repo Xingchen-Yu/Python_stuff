{
 "cells": [
  {
   "cell_type": "code",
   "execution_count": 1,
   "id": "f1531be6-b8a4-4fb0-8b7d-fcb1aee609ec",
   "metadata": {},
   "outputs": [],
   "source": [
    "from sklearn.model_selection import train_test_split\n",
    "from sklearn.kernel_approximation import Nystroem\n",
    "from sklearn.svm import SVR\n",
    "import numpy as np"
   ]
  },
  {
   "cell_type": "code",
   "execution_count": 12,
   "id": "e3a5e16c-1156-4b66-93b1-2f7be7bab54d",
   "metadata": {},
   "outputs": [],
   "source": [
    "approx = True"
   ]
  },
  {
   "cell_type": "code",
   "execution_count": 14,
   "id": "c1890a95-00cc-4635-a0d7-84bf42ca5fb7",
   "metadata": {},
   "outputs": [],
   "source": [
    "n = 10000\n",
    "p = 40\n",
    "rng = np.random.RandomState(8888)\n",
    "x_mat = np.concatenate((np.full(n,1).reshape(-1,1),rng.normal(size=(n,p))),axis=1) \n",
    "beta_true = rng.normal(size = p+1)\n",
    "y = np.dot(x_mat,beta_true) + rng.normal(size=n)"
   ]
  },
  {
   "cell_type": "code",
   "execution_count": 15,
   "id": "0f0ed899-a8f5-4f39-b04b-3ba00066f57d",
   "metadata": {},
   "outputs": [],
   "source": [
    "X_train, X_test, y_train, y_test = train_test_split(x_mat, y, test_size=0.2, random_state=42)\n",
    "if approx:\n",
    "    feature_map_nystroem = Nystroem(gamma=.2, n_jobs=8, random_state=1, n_components=100)\n",
    "    X_train = feature_map_nystroem.fit_transform(X_train)\n",
    "    feature_map_nystroem_ts = Nystroem(gamma=.2, n_jobs=8, random_state=1, n_components=100)\n",
    "    X_test = feature_map_nystroem_ts.fit_transform(X_test)"
   ]
  },
  {
   "cell_type": "code",
   "execution_count": 16,
   "id": "ea279bde-1450-4e7e-86b4-f364f5a0ff7a",
   "metadata": {},
   "outputs": [
    {
     "name": "stdout",
     "output_type": "stream",
     "text": [
      "2.29 s ± 0 ns per loop (mean ± std. dev. of 1 run, 1 loop each)\n"
     ]
    }
   ],
   "source": [
    "clf = SVR()\n",
    "%timeit -r1 clf.fit(X_train,y_train)"
   ]
  },
  {
   "cell_type": "code",
   "execution_count": 17,
   "id": "ed3e0be5-21ba-4ffe-a2f4-f2a5e0c41a27",
   "metadata": {},
   "outputs": [
    {
     "data": {
      "text/plain": [
       "34.91025392963849"
      ]
     },
     "execution_count": 17,
     "metadata": {},
     "output_type": "execute_result"
    }
   ],
   "source": [
    "np.mean((clf.predict(X_test) - y_test)**2)"
   ]
  },
  {
   "cell_type": "code",
   "execution_count": 9,
   "id": "87543477-2be6-459a-b64a-e8ef693b2916",
   "metadata": {},
   "outputs": [],
   "source": [
    "from sklearn import datasets, svm\n",
    "from sklearn.kernel_approximation import Nystroem\n",
    "X, y = datasets.load_digits(n_class=9, return_X_y=True)"
   ]
  },
  {
   "cell_type": "code",
   "execution_count": 13,
   "id": "29d7cf97-4739-40b7-adf4-6bb85d4a801c",
   "metadata": {},
   "outputs": [],
   "source": [
    "data = X / 16.\n",
    "clf = svm.LinearSVC()\n",
    "feature_map_nystroem = Nystroem(gamma=.2,\n",
    "                                 random_state=1,\n",
    "                                 n_components=300)\n",
    "data_transformed = feature_map_nystroem.fit_transform(data)"
   ]
  },
  {
   "cell_type": "code",
   "execution_count": 15,
   "id": "8d45d6bf-1d70-4a30-9ab2-19528bcd319a",
   "metadata": {},
   "outputs": [
    {
     "data": {
      "text/plain": [
       "(1617, 64)"
      ]
     },
     "execution_count": 15,
     "metadata": {},
     "output_type": "execute_result"
    }
   ],
   "source": [
    "data.shape"
   ]
  },
  {
   "cell_type": "code",
   "execution_count": 16,
   "id": "c078d1f3-49bb-4acc-9c1b-ae37f89acb0f",
   "metadata": {},
   "outputs": [
    {
     "data": {
      "text/plain": [
       "(1617, 300)"
      ]
     },
     "execution_count": 16,
     "metadata": {},
     "output_type": "execute_result"
    }
   ],
   "source": [
    "data_transformed.shape"
   ]
  },
  {
   "cell_type": "code",
   "execution_count": 17,
   "id": "a408fc9a-de3b-48a2-9c15-01dc5c089fea",
   "metadata": {},
   "outputs": [
    {
     "data": {
      "text/plain": [
       "0.9987631416202845"
      ]
     },
     "execution_count": 17,
     "metadata": {},
     "output_type": "execute_result"
    }
   ],
   "source": [
    "clf.fit(data_transformed, y)\n",
    "clf.score(data_transformed, y)"
   ]
  },
  {
   "cell_type": "code",
   "execution_count": 19,
   "id": "083d9000-552d-4a1c-b9f6-fe78f430c3a0",
   "metadata": {},
   "outputs": [
    {
     "data": {
      "text/plain": [
       "0.9931972789115646"
      ]
     },
     "execution_count": 19,
     "metadata": {},
     "output_type": "execute_result"
    }
   ],
   "source": [
    "clf2 = svm.LinearSVC()\n",
    "clf2.fit(data,y)\n",
    "clf2.score(data,y)"
   ]
  },
  {
   "cell_type": "code",
   "execution_count": null,
   "id": "6e5d4351-56cc-40a1-9b65-2aa359b372a8",
   "metadata": {},
   "outputs": [],
   "source": []
  }
 ],
 "metadata": {
  "kernelspec": {
   "display_name": "Python 3 (ipykernel)",
   "language": "python",
   "name": "python3"
  },
  "language_info": {
   "codemirror_mode": {
    "name": "ipython",
    "version": 3
   },
   "file_extension": ".py",
   "mimetype": "text/x-python",
   "name": "python",
   "nbconvert_exporter": "python",
   "pygments_lexer": "ipython3",
   "version": "3.9.7"
  }
 },
 "nbformat": 4,
 "nbformat_minor": 5
}
