{
 "cells": [
  {
   "cell_type": "markdown",
   "id": "c5d65f33-c39c-46dd-bd3f-5d0b5f397a26",
   "metadata": {},
   "source": [
    "## High Five"
   ]
  },
  {
   "cell_type": "code",
   "execution_count": null,
   "id": "a2d50d4f-7aca-4031-a7a7-568481d3f918",
   "metadata": {},
   "outputs": [],
   "source": [
    "class Solution:\n",
    "    def highFive(self, items: List[List[int]]) -> List[List[int]]:\n",
    "        reports = dict()\n",
    "        ## important\n",
    "        for x_id, x_score in items:\n",
    "            if x_id in reports:\n",
    "                if len(reports[x_id])<5:\n",
    "                    reports[x_id].append(x_score)\n",
    "                    if len(reports[x_id]) == 4:\n",
    "                        reports[x_id] = sorted(reports[x_id])\n",
    "                else:\n",
    "                    if x_score> reports[x_id][0]:\n",
    "                        reports[x_id].pop(0)\n",
    "                        reports[x_id].append(x_score)\n",
    "                        reports[x_id] = sorted(reports[x_id])\n",
    "                    \n",
    "            else:\n",
    "                reports[x_id] = [x_score]\n",
    "            \n",
    "        return sorted([[x, floor(sum(reports[x])/5)] for x in reports], key = lambda x: x[0])\n",
    "    \n",
    "    "
   ]
  },
  {
   "cell_type": "code",
   "execution_count": 3,
   "id": "554e427f-e261-484f-90db-187cb104d999",
   "metadata": {},
   "outputs": [
    {
     "data": {
      "text/plain": [
       "defaultdict(list, {})"
      ]
     },
     "execution_count": 3,
     "metadata": {},
     "output_type": "execute_result"
    }
   ],
   "source": [
    "from collections import defaultdict\n",
    "defaultdict(list)"
   ]
  },
  {
   "cell_type": "markdown",
   "id": "3a5f9238-6382-45de-b55c-b2ccd927699d",
   "metadata": {},
   "source": [
    "__heap solution: similar to above but it's just `heap`__ \\\n",
    "Note: To access the smallest item without popping it, use `heap[0]`."
   ]
  },
  {
   "cell_type": "code",
   "execution_count": 9,
   "id": "90305e19-7155-4043-a044-6fa53f4c14bf",
   "metadata": {},
   "outputs": [],
   "source": [
    "from collections import defaultdict"
   ]
  },
  {
   "cell_type": "markdown",
   "id": "6683bf3d-d3ee-4d44-9d51-91e92d4e026f",
   "metadata": {},
   "source": [
    "Usually, a Python dictionary throws a `KeyError` if you try to get an item with a key that is not currently in the dictionary. The `defaultdict` in contrast will simply create any items that you try to access (provided of course they do not exist yet). To create such a \"default\" item, it calls the function object that you pass to the constructor (more precisely, it's an arbitrary \"callable\" object, which includes function and type objects). For the first example, default items are created using `int()`, which will return the integer object 0. For the second example, default items are created using `list()`, which returns a new empty list object."
   ]
  },
  {
   "cell_type": "code",
   "execution_count": null,
   "id": "95eda6da-1620-40fb-b520-41350ae422ca",
   "metadata": {},
   "outputs": [],
   "source": [
    "class Solution:\n",
    "    def highFive(self, items: List[List[int]]) -> List[List[int]]:\n",
    "        scores = defaultdict(list)\n",
    "        ## important heap\n",
    "        for sid, score in items:\n",
    "            if sid not in scores:\n",
    "                heapq.heapify(scores[sid])\n",
    "            heapq.heappush(scores[sid], score)\n",
    "            if len(scores[sid]) > 5:\n",
    "                heapq.heappop(scores[sid])\n",
    "                      \n",
    "        return sorted([[x, sum(scores[x])//5] for x in scores], key = lambda x: x[0])"
   ]
  },
  {
   "cell_type": "markdown",
   "id": "9070192d-5b61-446f-9854-837bf640f752",
   "metadata": {},
   "source": [
    "## Shortest Sord Distance"
   ]
  },
  {
   "cell_type": "code",
   "execution_count": null,
   "id": "77f033e6-154d-4e91-99ec-a916940eab01",
   "metadata": {},
   "outputs": [],
   "source": [
    "class Solution:\n",
    "    def shortestDistance(self, wordsDict: List[str], word1: str, word2: str) -> int:\n",
    "        kobe = dict(zip([word1, word2],[-1,-1]))\n",
    "        min_dist = len(wordsDict)\n",
    "        for i in range(len(wordsDict)):\n",
    "            if wordsDict[i] == word1:\n",
    "                kobe[word1] = i\n",
    "            elif wordsDict[i] == word2:\n",
    "                kobe[word2] = i\n",
    "            \n",
    "            if kobe[word1] !=-1 and kobe[word2] !=-1:\n",
    "                min_dist = min(min_dist, abs(kobe[word1] - kobe[word2]))\n",
    "            \n",
    "        return min_dist"
   ]
  },
  {
   "cell_type": "markdown",
   "id": "5a6b53b5-1bd9-42c1-8aae-76088e6ac360",
   "metadata": {},
   "source": [
    "## Palindrome Permutation"
   ]
  },
  {
   "cell_type": "code",
   "execution_count": null,
   "id": "2c212df5-4949-4316-88c3-7a47c2fe30f2",
   "metadata": {},
   "outputs": [],
   "source": [
    "class Solution:\n",
    "    def canPermutePalindrome(self, s: str) -> bool:\n",
    "        len_s = len(s)\n",
    "        if len_s == 1:\n",
    "            return True\n",
    "        else:\n",
    "            kobe = dict()\n",
    "            for i in range(len_s):\n",
    "                if s[i] in kobe:\n",
    "                    ## important\n",
    "                    kobe.pop(s[i])     \n",
    "                else:\n",
    "                    kobe[s[i]] = 1     \n",
    "            if len(kobe)<=1:\n",
    "                return True\n",
    "            else:\n",
    "                return False"
   ]
  },
  {
   "cell_type": "markdown",
   "id": "6ad3d575-73b6-4173-85e9-a5f38213faeb",
   "metadata": {},
   "source": [
    "## Missing Ranges"
   ]
  },
  {
   "cell_type": "code",
   "execution_count": null,
   "id": "07ae54da-b881-4075-9415-de5d5d5a618e",
   "metadata": {},
   "outputs": [],
   "source": [
    "class Solution:\n",
    "    def findMissingRanges(self, nums: List[int], lower: int, upper: int) -> List[str]:\n",
    "        out = []\n",
    "\n",
    "        if len(nums) == 1 and lower == upper and lower == nums[0]:\n",
    "            return out\n",
    "\n",
    "        if len(nums) ==0:\n",
    "            if lower == upper:\n",
    "                return [str(lower)]\n",
    "            else:\n",
    "                return [ (\"->\").join(str(x) for x in [lower,upper])]\n",
    "        \n",
    "        if nums[-1] != upper:\n",
    "            nums.append(upper+1)\n",
    "        if nums[0] != lower:\n",
    "            nums.insert(0,lower-1)\n",
    "\n",
    "        for i in range(len(nums)-1):\n",
    "            a = nums[i]\n",
    "            b = nums[i+1]\n",
    "            if b-a !=1:\n",
    "                temp_list = [a+1,b-1] if a+1 != b-1 else [a+1]\n",
    "                out.append((\"->\").join(str(x) for x in temp_list))\n",
    "\n",
    "        return out  "
   ]
  },
  {
   "cell_type": "markdown",
   "id": "3660dc6d-dfdb-4675-91b7-1a65fea92db8",
   "metadata": {},
   "source": [
    "## Binary search"
   ]
  },
  {
   "cell_type": "code",
   "execution_count": null,
   "id": "73c02549-32e0-4245-a3ac-6b506403b252",
   "metadata": {},
   "outputs": [],
   "source": [
    "class Solution:\n",
    "    def search(self, nums: List[int], target: int) -> int:\n",
    "        left, right = 0, len(nums) - 1\n",
    "        \n",
    "        while left <= right:\n",
    "            mid = left + (right - left)//2\n",
    "            \n",
    "            if nums[mid] < target:\n",
    "                left = mid + 1\n",
    "            elif nums[mid] > target:\n",
    "                right = mid - 1\n",
    "            else:\n",
    "                return mid\n",
    "            \n",
    "        return -1"
   ]
  },
  {
   "cell_type": "markdown",
   "id": "b6bb5513-4068-432a-aeb3-8816708b1a61",
   "metadata": {
    "tags": []
   },
   "source": [
    "##  Fixed Point (Binary search)\n",
    "Important! want to find the smallest index"
   ]
  },
  {
   "cell_type": "code",
   "execution_count": null,
   "id": "1a5c1bc3-7871-464c-889e-3542e4959198",
   "metadata": {},
   "outputs": [],
   "source": [
    "class Solution:\n",
    "    def fixedPoint(self, arr: List[int]) -> int:\n",
    "        left, right = 0, len(arr) - 1\n",
    "\n",
    "        answer = -1\n",
    "\n",
    "        while left <= right:\n",
    "            mid = (left + right) // 2\n",
    "\n",
    "            if arr[mid]<mid:\n",
    "                left = mid + 1\n",
    "            elif arr[mid]>mid:\n",
    "                right = mid -1\n",
    "            else:\n",
    "                ## if found one, we need to keep looking at the left side since we want the smallest index                \n",
    "                answer = mid\n",
    "                right = mid - 1\n",
    "        return answer        "
   ]
  },
  {
   "cell_type": "markdown",
   "id": "31b121cd-21fb-4e72-9080-e42909d6830b",
   "metadata": {},
   "source": [
    "## Square root (Binary Search or Newton)"
   ]
  },
  {
   "cell_type": "code",
   "execution_count": null,
   "id": "69eccdb7-1069-4ebc-be37-f4f36c7ee3a3",
   "metadata": {},
   "outputs": [],
   "source": [
    "class Solution:\n",
    "    def mySqrt(self, x: int) -> int:\n",
    "        if x < 2:\n",
    "            return x\n",
    "        \n",
    "        left, right = 2, x//2\n",
    "        \n",
    "        while left <= right:\n",
    "            mid = (left + right) // 2\n",
    "            kobe = mid * mid\n",
    "            if kobe < x:\n",
    "                left = mid + 1\n",
    "            elif kobe > x:\n",
    "                right = mid - 1\n",
    "            else:\n",
    "                return mid\n",
    "            ## important, since it wants the integer part that's why we use right due to the following 2 ways of breaking while loop\n",
    "            ## 1. left = mid + 1, 2. right = mid - 1 only the right will be the lower bound\n",
    "        return right"
   ]
  },
  {
   "cell_type": "code",
   "execution_count": null,
   "id": "e461b8fa-f078-4728-9dfa-65849151f89d",
   "metadata": {},
   "outputs": [],
   "source": [
    "class Solution:\n",
    "    def mySqrt(self, x: int) -> int:\n",
    "        if x <2 :\n",
    "            return x\n",
    "        else:\n",
    "            x0 = x\n",
    "            x1 = 0.5 * (x0 + x/x0)\n",
    "            while abs(x1-x0)>=1:\n",
    "                x0 = x1\n",
    "                x1 = 0.5 * (x0 + x/x0)\n",
    "            return int(x1)\n",
    "        "
   ]
  },
  {
   "cell_type": "markdown",
   "id": "a2b51e6c-22fe-466b-a755-c347c5c15a01",
   "metadata": {},
   "source": [
    "## Two Sum Less Than K (two pointer)"
   ]
  },
  {
   "cell_type": "code",
   "execution_count": null,
   "id": "c7de5630-2c8c-4444-a1f5-67989fb09787",
   "metadata": {},
   "outputs": [],
   "source": [
    "class Solution:\n",
    "    def twoSumLessThanK(self, nums: List[int], k: int) -> int:\n",
    "        nums.sort()\n",
    "        answer = -1\n",
    "        left = 0\n",
    "        right = len(nums) - 1\n",
    "        ## left = right not allowed since needs two distinct sum\n",
    "        while left < right:\n",
    "            c_sum = nums[left] + nums[right]\n",
    "            if c_sum >= k:\n",
    "                right -= 1\n",
    "            else:\n",
    "                left += 1\n",
    "                answer = max(c_sum, answer)\n",
    "        \n",
    "        return answer"
   ]
  },
  {
   "cell_type": "markdown",
   "id": "e2a81e98-8fd4-4729-b0d6-c8077fa33dce",
   "metadata": {},
   "source": [
    "## Intersection of Three Sorted Arrays (three pointers)"
   ]
  },
  {
   "cell_type": "code",
   "execution_count": null,
   "id": "b4cbce9c-35ae-465e-a159-c9825f5645e6",
   "metadata": {},
   "outputs": [],
   "source": [
    "class Solution:\n",
    "    def arraysIntersection(self, arr1: List[int], arr2: List[int], arr3: List[int]) -> List[int]:\n",
    "        answer = []\n",
    "        p1 = p2 = p3 = 0\n",
    "        while p1<len(arr1) and  p2<len(arr2) and  p3<len(arr3):\n",
    "            if arr1[p1] == arr2[p2] == arr3[p3]:\n",
    "                answer.append(arr1[p1])\n",
    "                p1 +=1\n",
    "                p2 +=1\n",
    "                p3 +=1\n",
    "            else:\n",
    "                ## move arr1[p1] until it's no longer smaller than  arr2[p2]\n",
    "                if arr1[p1] < arr2[p2]:\n",
    "                    p1 +=1\n",
    "                 ## then move arr1[p2] until it's no longer smaller than  arr2[p3]    \n",
    "                elif arr2[p2] < arr3[p3]:\n",
    "                    p2 +=1\n",
    "                else:\n",
    "                    p3 +=1\n",
    "        return answer     "
   ]
  },
  {
   "cell_type": "markdown",
   "id": "24348370-c28b-4933-9f22-7b6a474d0aea",
   "metadata": {},
   "source": [
    "## How Many Apples Can You Put into the Basket"
   ]
  },
  {
   "cell_type": "code",
   "execution_count": null,
   "id": "318515c6-aa69-4ce5-93e8-e265c2dc8f51",
   "metadata": {},
   "outputs": [],
   "source": [
    "## slow version\n",
    "def maxNumberOfApples(self, weight: List[int]) -> int:\n",
    "    weight.sort() \n",
    "    total_weight = 0\n",
    "    apples = 0\n",
    "    for i in range(len(weight)):\n",
    "        total_weight += weight[i]\n",
    "        if total_weight > 5000:\n",
    "            break\n",
    "        else:\n",
    "            apples +=1\n",
    "    return apples"
   ]
  },
  {
   "cell_type": "code",
   "execution_count": null,
   "id": "69673e4c-6a21-4a75-b970-0d24a647ed99",
   "metadata": {},
   "outputs": [],
   "source": [
    "class Solution(object):\n",
    "    def mergeTwoLists(self, l1, l2):\n",
    "        res = ListNode(-1)\n",
    "        curr = res\n",
    "        while(l1 and l2):\n",
    "            if l1.val < l2.val:\n",
    "                curr.next = l1\n",
    "                l1 = l1.next\n",
    "            else:\n",
    "                curr.next = l2\n",
    "                l2 = l2.next\n",
    "            curr = curr.next\n",
    "        curr.next = l1 or l2\n",
    "        return res.next"
   ]
  },
  {
   "cell_type": "markdown",
   "id": "e02f1e3d-76a0-40e6-a254-199c057166d2",
   "metadata": {},
   "source": [
    "## Merge Two Sorted Lists (two pointer)"
   ]
  },
  {
   "cell_type": "code",
   "execution_count": 124,
   "id": "aa0e5392-cec6-482a-9da5-a14593489f03",
   "metadata": {},
   "outputs": [],
   "source": [
    "def kobe(nums1, nums2):\n",
    "    p1 = p2 = 0\n",
    "    out = []\n",
    "    while p1<len(nums1) and p2<len(nums2):\n",
    "        if nums1[p1] >= nums2[p2]:\n",
    "            out.append(nums2[p2])\n",
    "            p2 += 1\n",
    "        else:\n",
    "            out.append(nums1[p1])\n",
    "            p1 += 1\n",
    "            \n",
    "    if p1 == len(nums1):\n",
    "        out.extend(nums2[p2:])\n",
    "    elif p2 == len(nums2):\n",
    "        out.extend(nums1[p1:])    \n",
    "    return out"
   ]
  },
  {
   "cell_type": "markdown",
   "id": "b9b9c6ea-3514-429f-96a2-19ac3d1de87f",
   "metadata": {},
   "source": [
    "__linked list__: "
   ]
  },
  {
   "cell_type": "code",
   "execution_count": 183,
   "id": "719aed5e-e36b-4d37-aeff-fd45f1c17b0f",
   "metadata": {},
   "outputs": [],
   "source": [
    "class ListNode(object):\n",
    "    def __init__(self, val=0, next=None):\n",
    "        self.val = val\n",
    "        self.next = next\n",
    "class Solution(object):\n",
    "    def mergeTwoLists(self, list1: [ListNode], list2: [ListNode]) -> [ListNode]:\n",
    "        ## reference \n",
    "        res = ListNode(-1)\n",
    "        curr = res\n",
    "        while(list1 and list2):\n",
    "            if list1.val < list2.val:\n",
    "                curr.next = list1\n",
    "                list1 = list1.next\n",
    "            else:\n",
    "                curr.next = list2\n",
    "                list2 = list2.next\n",
    "            ## curr is changing but `res` won't \n",
    "            curr = curr.next\n",
    "        curr.next = list1 or list2 # curr.next = list1 if list1 else list2 <===> curr.next = list1 if list1 is not None else list2\n",
    "        return res.next  "
   ]
  },
  {
   "cell_type": "markdown",
   "id": "9f61a3e4-3803-466c-9934-07015c22cc4d",
   "metadata": {},
   "source": [
    "## H index"
   ]
  },
  {
   "cell_type": "code",
   "execution_count": null,
   "id": "1edb05b7-48f2-452c-ad27-34af7fb741fb",
   "metadata": {},
   "outputs": [],
   "source": [
    "def hIndex(self, citations: List[int]) -> int:\n",
    "    return sum(i < j for i, j in enumerate(sorted(citations, reverse=True)))"
   ]
  },
  {
   "cell_type": "code",
   "execution_count": 6,
   "id": "d2d69dfd-b66a-49bb-94f3-c202f44841bc",
   "metadata": {},
   "outputs": [
    {
     "name": "stdout",
     "output_type": "stream",
     "text": [
      "[6, 5, 3, 2, 0]\n"
     ]
    },
    {
     "data": {
      "text/plain": [
       "3"
      ]
     },
     "execution_count": 6,
     "metadata": {},
     "output_type": "execute_result"
    }
   ],
   "source": [
    "citations = [3,0,6,5,2]\n",
    "print(sorted(citations, reverse=True))\n",
    "sum([i <= j for i, j in enumerate(sorted(citations, reverse=True),1)])"
   ]
  },
  {
   "cell_type": "code",
   "execution_count": 7,
   "id": "6e8bfc41-9946-40df-832b-ba56f04f3d74",
   "metadata": {},
   "outputs": [
    {
     "data": {
      "text/plain": [
       "3"
      ]
     },
     "execution_count": 7,
     "metadata": {},
     "output_type": "execute_result"
    }
   ],
   "source": [
    "[i == j for i, j in enumerate(sorted(citations, reverse=True),1)].index(1) + 1"
   ]
  },
  {
   "cell_type": "markdown",
   "id": "dd31ddf0-b82b-4f06-90ec-9560e61f50dd",
   "metadata": {},
   "source": [
    "## Sort Characters By Frequency"
   ]
  },
  {
   "cell_type": "markdown",
   "id": "a7454466-46f4-420c-80ea-8a95ca426297",
   "metadata": {},
   "source": [
    "__Dictionary sorting, iterating, Counter__"
   ]
  },
  {
   "cell_type": "code",
   "execution_count": 217,
   "id": "833918df-ef81-4741-b9e9-3c757c0cabc6",
   "metadata": {},
   "outputs": [],
   "source": [
    "class Solution:\n",
    "    def frequencySort(self, s: str) -> str:\n",
    "        ##\n",
    "        s_dict = {}\n",
    "        for i in range(len(s)):\n",
    "            if s[i] in s_dict:\n",
    "                s_dict[s[i]]+=1\n",
    "            else:\n",
    "                s_dict[s[i]] = 1\n",
    "        ##\n",
    "        \n",
    "        s_dict = dict(sorted(s_dict.items(), key=lambda item: -item[1]))\n",
    "        return \"\".join(x for x in [i*j for (i,j) in s_dict.items()])\n",
    "        "
   ]
  },
  {
   "cell_type": "code",
   "execution_count": null,
   "id": "2e5c512f-3f6c-41fe-8dea-07f06f44c700",
   "metadata": {
    "tags": []
   },
   "outputs": [],
   "source": [
    "class Solution:\n",
    "    def frequencySort(self, s: str) -> str:\n",
    "        s_dict = dict(sorted(collections.Counter(s).items(), key=lambda item: -item[1]))\n",
    "        return \"\".join(x for x in [i*j for (i,j) in s_dict.items()])"
   ]
  },
  {
   "cell_type": "markdown",
   "id": "a7513730-c797-4c58-a8c3-fb1f864dabcf",
   "metadata": {},
   "source": [
    "## Search in sorted Matrix (Binary search)"
   ]
  },
  {
   "cell_type": "markdown",
   "id": "113680de-c8f0-42d2-b905-e6d3f0b6196a",
   "metadata": {},
   "source": [
    "The reason why we use `rigth_row`:\n",
    "- Undershoot (smaller,  before breaking the while loop, left_row = rightrow and since\n",
    "- sdf"
   ]
  },
  {
   "cell_type": "code",
   "execution_count": null,
   "id": "19eca7b7-42df-44ef-9b44-47d4ecbc2388",
   "metadata": {},
   "outputs": [],
   "source": [
    "class Solution:\n",
    "    def searchMatrix(self, matrix: List[List[int]], target: int) -> bool:\n",
    "        if len(matrix) == 1 and len(matrix[0]) ==1:\n",
    "            return matrix[0][0] == target\n",
    "        \n",
    "        left_row, right_row = 0, len(matrix) -1s\n",
    "        while left_row <= right_row:\n",
    "            mid = (left_row + right_row) // 2\n",
    "            mid_value = matrix[mid][0]\n",
    "            if mid_value<target:\n",
    "                left_row = mid + 1\n",
    "            elif mid_value>target:\n",
    "                right_row = mid - 1\n",
    "            else:\n",
    "                return True\n",
    "\n",
    "        left_col, right_col = 0, len(matrix[0]) -1\n",
    "        while left_col <= right_col:\n",
    "            mid_col = (left_col + right_col) // 2\n",
    "            ## important using right since left<=right\n",
    "            mid_col_value = matrix[right_row][mid_col]\n",
    "            if mid_col_value<target:\n",
    "                left_col = mid_col + 1\n",
    "            elif mid_col_value>target:\n",
    "                right_col = mid_col - 1\n",
    "            else:\n",
    "                return True \n",
    "\n",
    "        return False\n",
    "        "
   ]
  },
  {
   "cell_type": "markdown",
   "id": "ecc33a06-685e-4479-a36e-9efa971154fd",
   "metadata": {},
   "source": [
    "## Meeting room"
   ]
  },
  {
   "cell_type": "code",
   "execution_count": null,
   "id": "ffc81afc-f3e2-473f-88b2-b6b55faab819",
   "metadata": {},
   "outputs": [],
   "source": [
    "class Solution:\n",
    "    def canAttendMeetings(self, itv: List[List[int]]) -> bool:\n",
    "        itv.sort()\n",
    "        if len(itv) <= 1:\n",
    "            return True\n",
    "        \n",
    "        for i in range(1,len(itv)):\n",
    "            prev = itv[i-1]\n",
    "            curr = itv[i]\n",
    "            if prev[1] > curr[0]:\n",
    "                return False\n",
    "            \n",
    "        return True"
   ]
  },
  {
   "cell_type": "markdown",
   "id": "7e5f4b15-abb3-4b43-b7d6-e4c8efa27a1f",
   "metadata": {},
   "source": [
    "## Meeting room 2\n",
    "`heap` solution"
   ]
  },
  {
   "cell_type": "code",
   "execution_count": null,
   "id": "8eb77068-cbda-4a9f-9333-b4c3ed5a754c",
   "metadata": {},
   "outputs": [],
   "source": [
    "class Solution:\n",
    "    def minMeetingRooms(self, intervals: List[List[int]]) -> int:\n",
    "        \n",
    "        if len(intervals) == 1:\n",
    "            return 1\n",
    "\n",
    "        free_rooms = []\n",
    "\n",
    "        intervals.sort()\n",
    "\n",
    "        heapq.heappush(free_rooms, intervals[0][1])\n",
    "        \n",
    "        for time_slot in intervals[1:]:\n",
    "            if free_rooms[0]<=time_slot[0]:\n",
    "                heapq.heappop(free_rooms)\n",
    "                \n",
    "            ## else statement here is wrong because we still need to add the latest time_slot after popping,\n",
    "            heapq.heappush(free_rooms,time_slot[1])\n",
    "        \n",
    "        return len(free_rooms)"
   ]
  },
  {
   "cell_type": "code",
   "execution_count": null,
   "id": "494641bb-6780-4f42-9f6b-3d8c9c40f1b6",
   "metadata": {},
   "outputs": [],
   "source": [
    "## non-heap solution\n",
    "class Solution:\n",
    "    def minMeetingRooms(self, intervals: List[List[int]]) -> int:\n",
    "        \n",
    "        if len(intervals) == 1:\n",
    "            return 1\n",
    "\n",
    "        free_rooms = []\n",
    "\n",
    "        intervals.sort()\n",
    "\n",
    "        free_rooms.append(intervals[0][1])\n",
    "        \n",
    "        for start, end in intervals[1:]:\n",
    "            if free_rooms[0]<=start:\n",
    "                free_rooms.pop(0)\n",
    "                \n",
    "            free_rooms.append(end)\n",
    "            free_rooms.sort()\n",
    "        return len(free_rooms)"
   ]
  },
  {
   "cell_type": "code",
   "execution_count": null,
   "id": "2de093f5-9a56-4593-85e0-a9eeb8158ab0",
   "metadata": {},
   "outputs": [],
   "source": [
    "## pointer solution (god)\n",
    "class Solution:\n",
    "    def minMeetingRooms(self, intervals):\n",
    "            e = ret = 0\n",
    "            start = sorted(i.start for i in intervals)\n",
    "            end = sorted(i.end for i in intervals)\n",
    "\n",
    "            for s in range(len(start)):\n",
    "                if start[s] < end[e]: \n",
    "                    ret += 1\n",
    "                else: \n",
    "                    e += 1\n",
    "            return ret     "
   ]
  },
  {
   "cell_type": "markdown",
   "id": "3848a743-e699-4f74-86dc-4fdad07d8c95",
   "metadata": {},
   "source": [
    "## Merged interval"
   ]
  },
  {
   "cell_type": "code",
   "execution_count": null,
   "id": "c015af62-d449-49ca-82c6-e166842a4f95",
   "metadata": {},
   "outputs": [],
   "source": [
    "class Solution:\n",
    "    def merge(self, intervals: List[List[int]]) -> List[List[int]]:\n",
    "        if len(intervals) == 1: return intervals\n",
    "        \n",
    "        intervals.sort()\n",
    "        \n",
    "        out = [intervals[0]]\n",
    "\n",
    "        for start, end in intervals[1:]:\n",
    "            if out[-1][1]>= start:\n",
    "                out[-1] = [min(start, out[-1][0]), max(end, out[-1][1])]\n",
    "            else:\n",
    "                out.append([start,end])\n",
    "        \n",
    "        return out"
   ]
  },
  {
   "cell_type": "markdown",
   "id": "bf971c1e-666c-49f3-9d1c-e1a4abc651f5",
   "metadata": {},
   "source": [
    "__in place version: important don't use `len()` in the while loop...__"
   ]
  },
  {
   "cell_type": "code",
   "execution_count": null,
   "id": "9b05119c-58ae-40ee-b822-eb8dcd1cd63d",
   "metadata": {},
   "outputs": [],
   "source": [
    "class Solution:\n",
    "    def merge(self, intervals: List[List[int]]) -> List[List[int]]:\n",
    "        \n",
    "        intervals.sort()\n",
    "        stop = len(intervals)\n",
    "        p = 0\n",
    "        for _ in range(stop-1):\n",
    "            if intervals[p][1] >= intervals[p+1][0]:\n",
    "                intervals[p] = [min(intervals[p][0], intervals[p+1][0]),\n",
    "                                max(intervals[p][1], intervals[p+1][1])]\n",
    "                intervals.pop(p+1)\n",
    "            else:\n",
    "                p += 1\n",
    "                \n",
    "        return intervals"
   ]
  },
  {
   "cell_type": "markdown",
   "id": "75705588-af5f-4b88-b7fb-f1cd7e787ddb",
   "metadata": {},
   "source": [
    "## Occurrences After Bigram"
   ]
  },
  {
   "cell_type": "code",
   "execution_count": null,
   "id": "1ae3d05d-21d7-487d-8c4b-44017ad8903b",
   "metadata": {},
   "outputs": [],
   "source": [
    "class Solution:\n",
    "    def findOcurrences(self, text: str, first: str, second: str) -> List[str]:\n",
    "        out = []\n",
    "        text = text.split(\" \")\n",
    "        for i in range(len(text)-2):\n",
    "            if text[i] == first and text[i+1] == second:\n",
    "                out.append(text[i+2])\n",
    "            \n",
    "        return out\n",
    "    \n",
    "    \n",
    "# class Solution:\n",
    "#     def findOcurrences(self, text: str, first: str, second: str) -> List[str]:\n",
    "#         out = []\n",
    "#         text = text.split(\" \")\n",
    "#         for i in range(1,len(text)-1):\n",
    "#             if text[i] == second and text[i-1] == first:\n",
    "#                 out.append(text[i+1])\n",
    "#         return out    "
   ]
  },
  {
   "cell_type": "markdown",
   "id": "2baf0282-5bb3-49b5-ad47-c1d585e7b144",
   "metadata": {},
   "source": [
    "## Parsing numbers from text (Not Leetcode)"
   ]
  },
  {
   "cell_type": "code",
   "execution_count": null,
   "id": "150162ca-b3d1-4448-a84a-b18933aa0105",
   "metadata": {},
   "outputs": [],
   "source": [
    "l = []\n",
    "for t in txt.split():\n",
    "    try:\n",
    "        l.append(float(t))\n",
    "    except ValueError:\n",
    "        pass"
   ]
  },
  {
   "cell_type": "markdown",
   "id": "62349305-92fc-404b-985b-86350eeb5070",
   "metadata": {},
   "source": [
    "## Fibonacci Number"
   ]
  },
  {
   "cell_type": "code",
   "execution_count": null,
   "id": "3cafea44-3f38-4065-b88b-83709fc77459",
   "metadata": {},
   "outputs": [],
   "source": [
    "## recursion O(2^n) slowest, see below image\n",
    "#https://leetcode.com/problems/fibonacci-number/solutions/362772/Figures/509/fibonacciRecursion5.png\n",
    "class Solution:\n",
    "    def fib(self, n: int) -> int:\n",
    "        if n<=1:\n",
    "            return n\n",
    "        return self.fib(n-1) + self.fib(n-2)\n"
   ]
  },
  {
   "cell_type": "code",
   "execution_count": null,
   "id": "74fbd21b-acd7-4b18-8a2d-a40b2636f8c4",
   "metadata": {},
   "outputs": [],
   "source": [
    "class Solution:\n",
    "    def fib(self, n: int) -> int:\n",
    "        if n <= 1:\n",
    "            return n\n",
    "        \n",
    "        f_n1 = 1\n",
    "        f_n2 = 0\n",
    "        ## range stops before n+1\n",
    "        for i in range(2,n+1):\n",
    "            f_n = f_n1 + f_n2\n",
    "            f_n2 = f_n1\n",
    "            f_n1 = f_n\n",
    "        return f_n"
   ]
  },
  {
   "cell_type": "markdown",
   "id": "076d4751-90d1-4d60-b30e-09dac1195a15",
   "metadata": {},
   "source": [
    "The following is better"
   ]
  },
  {
   "cell_type": "code",
   "execution_count": null,
   "id": "6d6fecec-5e5e-4c80-a895-de9ef2190801",
   "metadata": {},
   "outputs": [],
   "source": [
    "class Solution:\n",
    "    def fib(self, n: int) -> int:\n",
    "        if n<=1:\n",
    "            return n\n",
    "        \n",
    "        f_t1, f_t = 0, 1\n",
    "        for i in range(2,n+1):\n",
    "            f_t, f_t1 = f_t1 + f_t, f_t\n",
    "        \n",
    "        return f_t"
   ]
  },
  {
   "cell_type": "markdown",
   "id": "2c3aa448-291c-475e-87b1-c6c6c89a1038",
   "metadata": {},
   "source": [
    "Best complexity solution is golden ratio and Matrix Exponentiation, $O(n)$. Golden ratio has the best time complexity $O(1)$"
   ]
  },
  {
   "cell_type": "code",
   "execution_count": 3,
   "id": "0bb0fdbb-8273-4828-9a3d-ab748e738da0",
   "metadata": {},
   "outputs": [
    {
     "data": {
      "text/plain": [
       "array([[3, 2],\n",
       "       [2, 1]])"
      ]
     },
     "execution_count": 3,
     "metadata": {},
     "output_type": "execute_result"
    }
   ],
   "source": [
    "## Matrix Exponentiation\n",
    "from numpy.linalg import matrix_power as mp\n",
    "\n",
    "A = [[1,1],[1,0]]\n",
    "mp(A,3)"
   ]
  },
  {
   "cell_type": "markdown",
   "id": "188c6e9c-3204-42f2-80d2-ba2825472172",
   "metadata": {},
   "source": [
    "## Climbing stairs\n",
    "DP solution like Fibonacci number\n",
    "\n",
    "One can reach $i^{th}$\n",
    "  step in one of the two ways:\n",
    "\n",
    "Taking a single step from $(i-1)^{th}$ step.\n",
    "\n",
    "Taking a step of 2 from $(i-2)^{th}$ step."
   ]
  },
  {
   "cell_type": "code",
   "execution_count": null,
   "id": "29bd23a6-b7cd-48a3-b338-d026346a768c",
   "metadata": {},
   "outputs": [],
   "source": [
    "class Solution:\n",
    "    def climbStairs(self, n: int) -> int:\n",
    "        if n<=3:\n",
    "            return n\n",
    "        \n",
    "        f_n1, f_n2 = 3, 2\n",
    "        \n",
    "        for i in range(4, n+1):\n",
    "            f_n = f_n1 + f_n2\n",
    "            f_n2 = f_n1\n",
    "            f_n1 = f_n\n",
    "            print(f_n)\n",
    "        return f_n"
   ]
  },
  {
   "cell_type": "markdown",
   "id": "1cc9325d-0666-41f0-9dbf-b44d645f1ab5",
   "metadata": {},
   "source": [
    "## Non-overlapping Intervals"
   ]
  },
  {
   "cell_type": "code",
   "execution_count": null,
   "id": "759ad39b-b726-4efc-969e-bb299afe5617",
   "metadata": {
    "tags": []
   },
   "outputs": [],
   "source": [
    "## documentating the non-overlapping intervals\n",
    "class Solution:\n",
    "    def eraseOverlapIntervals(self, intervals: List[List[int]]) -> int:\n",
    "        if len(intervals) == 1:\n",
    "            return 0\n",
    "        \n",
    "        intervals.sort()\n",
    "        out = [intervals[0]]\n",
    "        for start,end in intervals[1:]:\n",
    "            if start< out[-1][1]:\n",
    "                if out[-1][1] > end:\n",
    "                    out[-1] = [start,end]\n",
    "            else:\n",
    "                out.append([start,end]) \n",
    "        return len(intervals) - len(out)\n",
    "    \n",
    "## just counting\n",
    "class Solution:\n",
    "    def eraseOverlapIntervals(self, intervals: List[List[int]]) -> int:\n",
    "        rm_counts = 0\n",
    "        if len(intervals) == 1:\n",
    "            return rm_counts\n",
    "        \n",
    "        intervals.sort()\n",
    "        curr_end = intervals[0][1]\n",
    "        for start,end in intervals[1:]:\n",
    "            if start < curr_end:\n",
    "                rm_counts += 1\n",
    "                curr_end = min(end,curr_end)\n",
    "            else:\n",
    "                curr_end = end\n",
    "                \n",
    "        return rm_counts\n",
    "            "
   ]
  },
  {
   "cell_type": "markdown",
   "id": "8a968439-59bb-4969-90cf-8532fcc2e671",
   "metadata": {},
   "source": [
    "## Verifying an Alien Dictionary"
   ]
  },
  {
   "cell_type": "code",
   "execution_count": null,
   "id": "8109da33-9447-4b39-a305-04155c33051b",
   "metadata": {},
   "outputs": [],
   "source": [
    "class Solution:\n",
    "    def isAlienSorted(self, words: List[str], order: str) -> bool:\n",
    "        order_map = {}\n",
    "        \n",
    "        for i, letter in enumerate(order):\n",
    "            order_map[letter] = i\n",
    "        \n",
    "        for j in range(len(words)-1):\n",
    "            \n",
    "            for k in range(len(words[j])):\n",
    "                \n",
    "                if k >= len(words[j+1]):\n",
    "                    return False\n",
    "                \n",
    "                if words[j][k] != words[j+1][k]:   \n",
    "                    if order_map[words[j][k]] > order_map[words[j+1][k]]:\n",
    "                        return False\n",
    "                    ## break here is crucial since if the first word is different and order is correct, then we don't need to look at the remaining \n",
    "                    break\n",
    "        \n",
    "        return True\n",
    "                "
   ]
  },
  {
   "cell_type": "markdown",
   "id": "20e1e15a-bf83-43b9-a981-b988d078f9e0",
   "metadata": {},
   "source": [
    "## Baseball Game"
   ]
  },
  {
   "cell_type": "code",
   "execution_count": null,
   "id": "03ed01ec-a0b2-4991-96b7-316dfbc3008d",
   "metadata": {},
   "outputs": [],
   "source": [
    "class Solution:\n",
    "    def calPoints(self, ops: List[str]) -> int:\n",
    "        out = []\n",
    "        for i in range(len(ops)):\n",
    "            if ops[i] == '+':\n",
    "                out.append(out[-1] + out[-2])\n",
    "            elif ops[i] == 'D':\n",
    "                out.append(out[-1] * 2)\n",
    "            elif ops[i] == 'C':\n",
    "                out.pop()\n",
    "            else:\n",
    "                out.append(int(ops[i]))                \n",
    "        return sum(out)\n",
    "        "
   ]
  },
  {
   "cell_type": "markdown",
   "id": "f9598e7b-4af1-48aa-a5b4-2ca6f95a6fb2",
   "metadata": {},
   "source": [
    "## Paint House"
   ]
  },
  {
   "cell_type": "markdown",
   "id": "6698458b-fdb4-4a71-843b-20ea43e8a428",
   "metadata": {},
   "source": [
    "__`O(n)`__"
   ]
  },
  {
   "cell_type": "code",
   "execution_count": null,
   "id": "b3f8d50a-b8ff-4997-9e89-28905502fc84",
   "metadata": {},
   "outputs": [],
   "source": [
    "## bottom up\n",
    "class Solution:\n",
    "    def minCost(self, costs: List[List[int]]) -> int:   \n",
    "        \n",
    "        for n in reversed(range(len(costs) - 1)):\n",
    "\n",
    "            costs[n][0] += min(costs[n + 1][1], costs[n + 1][2])\n",
    "\n",
    "            costs[n][1] += min(costs[n + 1][0], costs[n + 1][2])\n",
    "\n",
    "            costs[n][2] += min(costs[n + 1][0], costs[n + 1][1])\n",
    "\n",
    "        return min(costs[0]) "
   ]
  },
  {
   "cell_type": "code",
   "execution_count": null,
   "id": "158aff5e-3efd-4ec6-bc96-4719b99f99fc",
   "metadata": {},
   "outputs": [],
   "source": [
    "## top-down \n",
    "class Solution:\n",
    "    def minCost(self, costs: List[List[int]]) -> int:  \n",
    "        if len(costs) == 0 :\n",
    "            return min(costs[0]) \n",
    "        \n",
    "        for n in range(len(costs)-1):\n",
    "            costs[n+1][0] += min(costs[n][1], costs[n][2])\n",
    "            costs[n+1][1] += min(costs[n][0], costs[n][2])\n",
    "            costs[n+1][2] += min(costs[n][0], costs[n][1])\n",
    "            \n",
    "        return min(costs[-1]) "
   ]
  },
  {
   "cell_type": "markdown",
   "id": "2b3ff7b8-a120-4afa-a441-e1a57dfc9528",
   "metadata": {},
   "source": [
    "__`O(2^n)`__"
   ]
  },
  {
   "cell_type": "code",
   "execution_count": null,
   "id": "08e65ec9-d680-4b39-abf0-a4720ad8055c",
   "metadata": {},
   "outputs": [],
   "source": [
    "class Solution:\n",
    "    def minCost(self, costs: List[List[int]]) -> int:  \n",
    "        n = len(costs)\n",
    "        def paint_cost(n, color):\n",
    "            ## total costs at n^th node\n",
    "            total_costs = costs[n][color]\n",
    "            ## if it's the end node, then return the costs\n",
    "            if (n+1) == len(costs):\n",
    "                pass\n",
    "            elif color == 0:\n",
    "                total_costs += min(paint_cost(n+1,1), paint_cost(n+1,2))\n",
    "            elif color == 1:\n",
    "                total_costs += min(paint_cost(n+1,0), paint_cost(n+1,2))\n",
    "            else:\n",
    "                total_costs += min(paint_cost(n+1,0), paint_cost(n+1,1))\n",
    "                \n",
    "            return total_costs\n",
    "        \n",
    "        \n",
    "        return min(paint_cost(0,0), paint_cost(0,1), paint_cost(0,2))"
   ]
  },
  {
   "cell_type": "markdown",
   "id": "b73e98e2-7d15-4928-92da-7234d6580e85",
   "metadata": {},
   "source": [
    "## Missing values"
   ]
  },
  {
   "cell_type": "code",
   "execution_count": null,
   "id": "940d920d-1758-4b46-8651-751aff4f6301",
   "metadata": {},
   "outputs": [],
   "source": [
    "class Solution:\n",
    "    def missingNumber(self, nums: List[int]) -> int:\n",
    "        total =  sum([x for x in range(len(nums)+1)])\n",
    "        return total - sum(nums)"
   ]
  },
  {
   "cell_type": "code",
   "execution_count": null,
   "id": "2208fdb3-1a4d-42a8-b221-10db887c4a7c",
   "metadata": {},
   "outputs": [],
   "source": [
    "class Solution:\n",
    "    def missingNumber(self, nums: List[int]) -> int:\n",
    "        mapping = set(nums)\n",
    "        for i in range(len(nums) + 1):\n",
    "            if i not in mapping:\n",
    "                return i\n",
    "        "
   ]
  },
  {
   "cell_type": "code",
   "execution_count": null,
   "id": "c2d58503-957f-4834-b46f-590d6ffc8d04",
   "metadata": {},
   "outputs": [],
   "source": [
    "class Solution:\n",
    "    def missingNumber(self, nums):\n",
    "        expected_sum = len(nums)*(len(nums)+1)//2\n",
    "        actual_sum = sum(nums)\n",
    "        return expected_sum - actual_sum"
   ]
  },
  {
   "cell_type": "code",
   "execution_count": null,
   "id": "15467c60-ac6c-4b0c-94cb-3722b09d6b82",
   "metadata": {},
   "outputs": [],
   "source": [
    "## bit manipulation\n",
    "class Solution:\n",
    "    def missingNumber(self, nums: List[int]) -> int:\n",
    "        missing = len(nums)\n",
    "        for i, num in enumerate(nums):\n",
    "            missing ^= i ^ num\n",
    "        \n",
    "        return missing\n",
    "        "
   ]
  },
  {
   "cell_type": "markdown",
   "id": "97c658f7-755d-4167-ba88-1ea24bfe7709",
   "metadata": {},
   "source": [
    "## Order 0 to the end"
   ]
  },
  {
   "cell_type": "code",
   "execution_count": null,
   "id": "6284d49e-8733-4350-ad45-7576a4f6add6",
   "metadata": {},
   "outputs": [],
   "source": [
    "class Solution:\n",
    "    def moveZeroes(self, nums: List[int]) -> None:\n",
    "        \"\"\"\n",
    "        Do not return anything, modify nums in-place instead.\n",
    "        \"\"\"\n",
    "\n",
    "        i = 0\n",
    "        for j in range(len(nums)):\n",
    "            if nums[i] == 0:\n",
    "                nums.pop(i)\n",
    "                nums.append(0)\n",
    "            else:\n",
    "                i += 1\n",
    "            \n",
    "        return nums"
   ]
  },
  {
   "cell_type": "markdown",
   "id": "43c2608c-c050-4579-bff9-718b68e9d7d5",
   "metadata": {},
   "source": [
    "## backpack problem (Lintcode 92)"
   ]
  },
  {
   "cell_type": "markdown",
   "id": "5948cc23-5d4d-4a15-8cfb-8cd54dbab1e0",
   "metadata": {},
   "source": [
    "__memory: `O(m*n)`__"
   ]
  },
  {
   "cell_type": "code",
   "execution_count": null,
   "id": "e203a571-6593-4c06-a0b2-8cb1c4575597",
   "metadata": {},
   "outputs": [],
   "source": [
    "class Solution:\n",
    "    \"\"\"\n",
    "    @param m: An integer m denotes the size of a backpack\n",
    "    @param a: Given n items with size A[i]\n",
    "    @return: The maximum size\n",
    "    \"\"\"\n",
    "    def back_pack(self, m: int, a: List[int]) -> int:\n",
    "        # write your code here\n",
    "        n = len(a)\n",
    "        if sum(a) <= m:\n",
    "            return sum(a)\n",
    "        ## dp[i][j]: the max_capacity after putting i^th item into the bag with j remaining capacity\n",
    "        dp = [[0] * (m+1) for _ in range(n + 1)]\n",
    "        for i in range(1, n+1):\n",
    "            for j in range(1, m+1):\n",
    "                if a[i - 1] > j:\n",
    "                    ## if the new item exceeds the remaining weight,\n",
    "                    ## we can't include this item, so it equals the previous\n",
    "                    dp[i][j] = dp[i-1][j]\n",
    "                else:\n",
    "                    ## if we include this items\n",
    "                    dp[i][j] = max(dp[i-1][j-a[i-1]] + a[i-1], dp[i-1][j])\n",
    "\n",
    "            \n",
    "        return dp[n][m] ## final state\n"
   ]
  },
  {
   "cell_type": "markdown",
   "id": "3d5e3deb-7b68-4e89-bc58-49a8acd34e6b",
   "metadata": {},
   "source": [
    "__memory: `O(m)`__"
   ]
  },
  {
   "cell_type": "code",
   "execution_count": null,
   "id": "29753893-9ab1-4ade-b821-fabcb09daf1f",
   "metadata": {},
   "outputs": [],
   "source": [
    "class Solution:\n",
    "    def back_pack(self, m: int, a: List[int]) -> int:\n",
    "        # write your code here\n",
    "        if sum(a) <= m:\n",
    "            return sum(a)\n",
    "        ## dp[j]: the maximum capacity with remaining weight j   \n",
    "        dp = [0] * (m+1)\n",
    "        for i in range(len(a)):\n",
    "            for j in range(m,a[i] -1, -1):\n",
    "                dp[j] = max(dp[j], dp[j - a[i]] + a[i])\n",
    "\n",
    "        return dp[m]"
   ]
  },
  {
   "cell_type": "markdown",
   "id": "34e657f0-237a-4188-8b4c-24e4040658eb",
   "metadata": {},
   "source": [
    "## Strobogrammatic Number"
   ]
  },
  {
   "cell_type": "code",
   "execution_count": null,
   "id": "79416dd7-ce55-43a0-b774-e79e315d1f94",
   "metadata": {},
   "outputs": [],
   "source": [
    "class Solution:\n",
    "    def isStrobogrammatic(self, num: str) -> bool:\n",
    "        st_num = {\"0\":\"0\",\"1\":\"1\",\"6\":\"9\",\"8\":\"8\",\"9\":\"6\"}\n",
    "\n",
    "        for i in range(len(num)//2 + 1):\n",
    "            if num[i] not in st_num:\n",
    "                return False\n",
    "            elif st_num[num[i]] != num[-(i+1)]:\n",
    "                return False\n",
    "            \n",
    "        return True"
   ]
  },
  {
   "cell_type": "markdown",
   "id": "cba31219-ebdb-4ff4-9f47-0a9059010fb1",
   "metadata": {},
   "source": [
    "## Contains Duplicate II"
   ]
  },
  {
   "cell_type": "code",
   "execution_count": null,
   "id": "883000ce-cdb2-4d17-896a-f1e1aa5e0a4a",
   "metadata": {},
   "outputs": [],
   "source": [
    "class Solution:\n",
    "    def containsNearbyDuplicate(self, nums: List[int], k: int) -> bool:\n",
    "        if len(nums) == 1:\n",
    "            return False\n",
    "        \n",
    "        hashmap = {}\n",
    "        for i in range(len(nums)):\n",
    "            if nums[i] not in hashmap:\n",
    "                hashmap[nums[i]] = i\n",
    "            else:\n",
    "                if abs(hashmap[nums[i]] - i) <= k:\n",
    "                    return True\n",
    "                else:\n",
    "                    hashmap[nums[i]] = i\n",
    "                            \n",
    "        return False"
   ]
  },
  {
   "cell_type": "markdown",
   "id": "5d7b4e7d-22b4-4cba-a42a-3d5fdd1be848",
   "metadata": {},
   "source": [
    "##  Build Array from Permutation"
   ]
  },
  {
   "cell_type": "code",
   "execution_count": null,
   "id": "1cd75ff0-cd9e-423e-952d-b097b48f7252",
   "metadata": {},
   "outputs": [],
   "source": [
    "class Solution:\n",
    "    def buildArray(self, nums: List[int]) -> List[int]:\n",
    "        return [nums[x] for x in nums]"
   ]
  },
  {
   "cell_type": "markdown",
   "id": "a2426e09-3d92-43fe-b5dd-dd3bc92fa7d0",
   "metadata": {},
   "source": [
    "## Best Time to Buy and Sell Stock"
   ]
  },
  {
   "cell_type": "code",
   "execution_count": null,
   "id": "4c0dcdde-dfa7-4c13-a1d1-8b246d0d31c9",
   "metadata": {},
   "outputs": [],
   "source": [
    "class Solution:\n",
    "    def maxProfit(self, prices: List[int]) -> int:\n",
    "        \n",
    "        min_price = prices[0]\n",
    "        max_profit = 0\n",
    "        for i in range(1,len(prices)):\n",
    "            min_price = min(min_price,prices[i])\n",
    "            max_profit = max(max_profit, prices[i] - min_price)        \n",
    "        \n",
    "        return max_profit"
   ]
  },
  {
   "cell_type": "markdown",
   "id": "6b56cbd9-49d7-4fa7-835e-a744f3410062",
   "metadata": {},
   "source": [
    "## Maximum Subarray"
   ]
  },
  {
   "cell_type": "code",
   "execution_count": null,
   "id": "6d215de7-1c25-4756-b823-5f34fd39ef57",
   "metadata": {},
   "outputs": [],
   "source": [
    "class Solution:\n",
    "    def maxSubArray(self, nums: List[int]) -> int:\n",
    "        max_sum = curr_sum = nums[0]\n",
    "        for i in range(1,len(nums)):\n",
    "            if curr_sum < 0:\n",
    "                curr_sum = nums[i]\n",
    "            else:\n",
    "                curr_sum += nums[i]\n",
    "            max_sum = max(max_sum, curr_sum)\n",
    "        return max_sum"
   ]
  },
  {
   "cell_type": "code",
   "execution_count": null,
   "id": "4f0c8dd7-8685-4b76-a0ca-6b84cda4f8fd",
   "metadata": {},
   "outputs": [],
   "source": [
    "## shorter version \n",
    "class Solution:\n",
    "    def maxSubArray(self, nums: List[int]) -> int:\n",
    "        current_sum = max_sum = nums[0]\n",
    "        for i in range(1,len(nums)):\n",
    "            x_i = nums[i]\n",
    "            current_sum = max(current_sum + x_i,x_i)\n",
    "            max_sum = max(current_sum,max_sum)\n",
    "        return max_sum    \n",
    "    "
   ]
  },
  {
   "cell_type": "markdown",
   "id": "5a1d9b97-f330-404b-9aeb-2094c5770563",
   "metadata": {},
   "source": [
    "## Longest Common Prefix"
   ]
  },
  {
   "cell_type": "code",
   "execution_count": null,
   "id": "457fa7ab-4dbc-4fa5-9712-ab83b0329124",
   "metadata": {},
   "outputs": [],
   "source": [
    "class Solution:\n",
    "    def longestCommonPrefix(self, strs: List[str]) -> str:\n",
    "        pattern = ''\n",
    "        strs.sort(key = lambda x: len(x))\n",
    "        n = len(strs[0])\n",
    "        \n",
    "        if n == 0: return pattern\n",
    "        \n",
    "        for i in range(n):\n",
    "            for words in strs[1:]:\n",
    "                if words[i] != strs[0][i]:\n",
    "                    return pattern\n",
    "            pattern = pattern + strs[0][i]       \n",
    "        return pattern"
   ]
  },
  {
   "cell_type": "markdown",
   "id": "1a9da7ae-bc87-457c-9cd5-c9f0bf65a4d7",
   "metadata": {},
   "source": [
    "## Single Number"
   ]
  },
  {
   "cell_type": "code",
   "execution_count": null,
   "id": "f0055310-b952-4584-b871-6c8ee948eef6",
   "metadata": {},
   "outputs": [],
   "source": [
    "## nlog(n) + n/2 = nlog(n)\n",
    "class Solution:\n",
    "    def singleNumber(self, nums: List[int]) -> int:\n",
    "        if len(nums) == 1 : return nums[0]\n",
    "        nums.sort()\n",
    "        for i in range(1, len(nums), 2):\n",
    "            if nums[i-1] != nums[i]:\n",
    "                return nums[i-1]\n",
    "        \n",
    "        return nums[-1]   "
   ]
  },
  {
   "cell_type": "code",
   "execution_count": null,
   "id": "2b55196e-14ff-44e2-8590-43d4b2e44ae4",
   "metadata": {},
   "outputs": [],
   "source": [
    "## hashmap\n",
    "class Solution:\n",
    "    def singleNumber(self, nums: List[int]) -> int:\n",
    "        out = {}\n",
    "        for i in range(len(nums)):\n",
    "            if nums[i] in out:\n",
    "                out[nums[i]] += 1\n",
    "            else:\n",
    "                out[nums[i]] = 1\n",
    "            \n",
    "        for i in out:\n",
    "            if out[i] == 1:\n",
    "                return i"
   ]
  },
  {
   "cell_type": "code",
   "execution_count": null,
   "id": "4027601d-5219-4a46-aa55-190f72d36615",
   "metadata": {},
   "outputs": [],
   "source": [
    "## hashmap with default dictionary\n",
    "from collections import defaultdict\n",
    "class Solution:\n",
    "    def singleNumber(self, nums: List[int]) -> int:\n",
    "        hash_table = defaultdict(int)\n",
    "        for i in nums:\n",
    "            hash_table[i] += 1\n",
    "        \n",
    "        for i in hash_table:\n",
    "            if hash_table[i] == 1:\n",
    "                return i"
   ]
  },
  {
   "cell_type": "code",
   "execution_count": null,
   "id": "ea8a94c4-c75e-4f3a-8a0b-b23574458a69",
   "metadata": {},
   "outputs": [],
   "source": [
    "## easier\n",
    "class Solution(object):\n",
    "    def singleNumber(self, nums):\n",
    "        \"\"\"\n",
    "        :type nums: List[int]\n",
    "        :rtype: int\n",
    "        \"\"\"\n",
    "        return 2 * sum(set(nums)) - sum(nums)"
   ]
  },
  {
   "cell_type": "code",
   "execution_count": null,
   "id": "144d8bf7-65fc-426f-ac9d-506e879a7149",
   "metadata": {},
   "outputs": [],
   "source": [
    "## best solution (bit manipulation)\n",
    "class Solution(object):\n",
    "    def singleNumber(self, nums):\n",
    "        \"\"\"\n",
    "        :type nums: List[int]\n",
    "        :rtype: int\n",
    "        \"\"\"\n",
    "        a = 0\n",
    "        for i in nums:\n",
    "            a ^= i\n",
    "        return a"
   ]
  },
  {
   "cell_type": "markdown",
   "id": "39b8ba9a-c1b6-42cb-a8aa-a556d9dcf204",
   "metadata": {},
   "source": [
    "## Pascal's triangle"
   ]
  },
  {
   "cell_type": "code",
   "execution_count": null,
   "id": "fad2d362-2811-4235-8d9d-5245a9e864f1",
   "metadata": {},
   "outputs": [],
   "source": [
    "class Solution:\n",
    "    def generate(self, numRows: int) -> List[List[int]]:\n",
    "        out = [[1]]\n",
    "        if numRows == 1: return out\n",
    "        \n",
    "        for i in range(1,numRows):\n",
    "            row_i = []\n",
    "            for j in range(1,i):\n",
    "                row_i.append(out[i-1][j-1] + out[i-1][j])\n",
    "                \n",
    "            out.append([1] + row_i + [1])\n",
    "            \n",
    "        return out"
   ]
  },
  {
   "cell_type": "markdown",
   "id": "19ec9bec-4e93-4881-9bea-20c12975d4cd",
   "metadata": {},
   "source": [
    "## Pascal's triangle 2"
   ]
  },
  {
   "cell_type": "code",
   "execution_count": null,
   "id": "1c6f5b0a-3ab5-43b6-b40a-4172e75d7ea8",
   "metadata": {},
   "outputs": [],
   "source": [
    "## lower memory than above\n",
    "class Solution:\n",
    "    def getRow(self, rowIndex: int) -> List[int]:\n",
    "        if rowIndex <=1:\n",
    "            return [1 for i in range(rowIndex+1)]\n",
    "        \n",
    "        out = [1,1]\n",
    "        for i in range(2, rowIndex+1):\n",
    "            temp = [1,1]\n",
    "            for j in range(1,i):\n",
    "                temp.insert(j,out[j-1] + out[j])\n",
    "            out = temp[:]\n",
    "            \n",
    "        return out"
   ]
  },
  {
   "cell_type": "code",
   "execution_count": null,
   "id": "95c5092a-5ba4-4689-8fc7-d1076d351b50",
   "metadata": {},
   "outputs": [],
   "source": [
    "## even lower memory \n",
    "class Solution:\n",
    "    def getRow(self, rowIndex: int) -> List[int]:\n",
    "        if rowIndex <=1:\n",
    "            return [1 for i in range(rowIndex+1)]\n",
    "        \n",
    "        out = [1,1]\n",
    "        for i in range(2, rowIndex+1):\n",
    "            out.append(1)\n",
    "            for j in range(i-1,0,-1):\n",
    "                out[j] = out[j-1] + out[j]\n",
    "        return out"
   ]
  },
  {
   "cell_type": "code",
   "execution_count": null,
   "id": "75b4b7ac-c50a-412f-a6bd-28690c9d34f0",
   "metadata": {},
   "outputs": [],
   "source": [
    "## O(K) instead of O(k^2), math\n",
    "class Solution:\n",
    "    def getRow(self, rowIndex: int) -> List[int]:\n",
    "        if rowIndex <=1:\n",
    "            return [1 for i in range(rowIndex+1)]\n",
    "        \n",
    "        for i in range(2, rowIndex+1):\n",
    "            out = [1,1]\n",
    "            for j in range(1,i):\n",
    "                out.insert(j,int(out[j-1] * (i - j + 1)/j))\n",
    "        return out\n",
    "        "
   ]
  },
  {
   "cell_type": "markdown",
   "id": "d6a4cc27-ed38-4d27-be55-97caee1b92b0",
   "metadata": {
    "tags": []
   },
   "source": [
    "## Majority Element"
   ]
  },
  {
   "cell_type": "code",
   "execution_count": null,
   "id": "74793cb3-726a-4051-95b7-1da9af89f57c",
   "metadata": {},
   "outputs": [],
   "source": [
    "class Solution:\n",
    "    def majorityElement(self, nums: List[int]) -> int:\n",
    "        \n",
    "        counts = dict()\n",
    "        for num in nums:\n",
    "            if num in counts:\n",
    "                counts[num] += 1\n",
    "            else:\n",
    "                counts[num] = 1\n",
    "\n",
    "        return sorted(counts.items(), key = lambda x: -x[1])[0][0]"
   ]
  },
  {
   "cell_type": "code",
   "execution_count": null,
   "id": "638332e2-ac84-485e-9973-64672086e2dc",
   "metadata": {},
   "outputs": [],
   "source": [
    "## better than above\n",
    "class Solution:\n",
    "    def majorityElement(self, nums: List[int]) -> int:\n",
    "        hash_table = defaultdict(int)\n",
    "        for num in nums:\n",
    "            hash_table[num] +=1\n",
    "        \n",
    "        return max(hash_table, key = hash_table.get)"
   ]
  },
  {
   "cell_type": "code",
   "execution_count": 1,
   "id": "e58ae577-4903-48f1-8669-9faf9e49e532",
   "metadata": {},
   "outputs": [],
   "source": [
    "## same as above but use function\n",
    "class Solution:\n",
    "    def majorityElement(nums):\n",
    "        counts = collections.Counter(nums)\n",
    "        return max(counts.keys(), key=counts.get)"
   ]
  },
  {
   "cell_type": "markdown",
   "id": "61ebf3aa-6b24-4b35-8ce4-cde7207ab515",
   "metadata": {},
   "source": [
    "__Boyer-Moore Voting Algorithm:__\n",
    "Very interesting idea"
   ]
  },
  {
   "cell_type": "code",
   "execution_count": null,
   "id": "67b966fb-1cf8-4c42-8542-f24b287f6b46",
   "metadata": {},
   "outputs": [],
   "source": [
    "class Solution:\n",
    "    def majorityElement(self, nums: List[int]) -> int:\n",
    "        counts = 0\n",
    "        \n",
    "        for num in nums:\n",
    "            if counts == 0:\n",
    "                BM = num\n",
    "            counts += (1 if num == BM else -1)\n",
    "        \n",
    "        return BM"
   ]
  },
  {
   "cell_type": "code",
   "execution_count": null,
   "id": "57a1c4c2-c3c6-47ba-b5f2-7ecc74990b28",
   "metadata": {},
   "outputs": [],
   "source": [
    "## longer version\n",
    "class Solution:\n",
    "    def majorityElement(self, nums):\n",
    "        count = 0\n",
    "        \n",
    "        for num in nums:\n",
    "            if count == 0:\n",
    "                candidate = num\n",
    "                count +=1\n",
    "            elif candidate == num:\n",
    "                count += 1\n",
    "            else:\n",
    "                count -= 1\n",
    "        return candidate"
   ]
  },
  {
   "cell_type": "markdown",
   "id": "44ed5f07-8d90-4be5-8e07-156ee9073cf7",
   "metadata": {},
   "source": [
    "## contains duplicates"
   ]
  },
  {
   "cell_type": "code",
   "execution_count": null,
   "id": "f2739052-08d1-4fcf-8f2b-f96000741baa",
   "metadata": {},
   "outputs": [],
   "source": [
    "class Solution:\n",
    "    def containsDuplicate(self, nums: List[int]) -> bool:\n",
    "        return len(set(nums)) != len(nums)"
   ]
  },
  {
   "cell_type": "code",
   "execution_count": null,
   "id": "4eb61dc6-0e38-46a6-83a7-c214a50f2792",
   "metadata": {},
   "outputs": [],
   "source": [
    "class Solution:\n",
    "    def containsDuplicate(self, nums: List[int]) -> bool:\n",
    "        dick = dict()\n",
    "        for num in nums:\n",
    "            if num in dick:\n",
    "                return True\n",
    "            else:\n",
    "                dick[num] = 1\n",
    "                \n",
    "        return False "
   ]
  },
  {
   "cell_type": "code",
   "execution_count": null,
   "id": "ce327677-e8b1-4b2a-b7f6-cdde8b7314f0",
   "metadata": {},
   "outputs": [],
   "source": [
    "class Solution:\n",
    "    def containsDuplicate(self, nums: List[int]) -> bool:\n",
    "        nums.sort()\n",
    "        for i in range(1,len(nums)):\n",
    "            if nums[i] == nums[i-1]:return True\n",
    "        \n",
    "        return False"
   ]
  },
  {
   "cell_type": "markdown",
   "id": "aa488121-20c5-420b-b248-e2537bd8505c",
   "metadata": {},
   "source": [
    "## Merge Sorted Array"
   ]
  },
  {
   "cell_type": "code",
   "execution_count": null,
   "id": "70e53840-7c61-4e2b-90db-11fc5a37e774",
   "metadata": {},
   "outputs": [],
   "source": [
    "## (m+n) * log(m+n)\n",
    "class Solution:\n",
    "    def merge(self, nums1: List[int], m: int, nums2: List[int], n: int) -> None:\n",
    "        \"\"\"\n",
    "        Do not return anything, modify nums1 in-place instead.\n",
    "        \"\"\"\n",
    "        for i in range(len(nums1[m:])):\n",
    "            nums1[m+i] = nums2[i]\n",
    "        nums1.sort()\n"
   ]
  },
  {
   "cell_type": "code",
   "execution_count": null,
   "id": "f846f837-b265-4f63-957a-71da74ca4455",
   "metadata": {},
   "outputs": [],
   "source": [
    "## O(m+n): complexity, O(m) for memory\n",
    "class Solution:\n",
    "    def merge(self, nums1: List[int], m: int, nums2: List[int], n: int) -> None:\n",
    "        \"\"\"\n",
    "        Do not return anything, modify nums1 in-place instead.\n",
    "        \"\"\"\n",
    "        p1 = p2 = 0\n",
    "        nums1_copy = nums1[:m] \n",
    "        for p in range(m+n):\n",
    "            ## important: p2>=n must be in the front!!!!\n",
    "            if p2 >= n or (p1 < m and nums1_copy[p1] <= nums2[p2]):\n",
    "                nums1[p] = nums1_copy[p1]\n",
    "                p1 += 1\n",
    "            else:\n",
    "                nums1[p] = nums2[p2]\n",
    "                p2 += 1"
   ]
  },
  {
   "cell_type": "code",
   "execution_count": null,
   "id": "70150fb5-d3f2-4e81-b750-a9e2a01b7c9d",
   "metadata": {},
   "outputs": [],
   "source": [
    "## O(m+n): complexity, O(1) for memory, important!\n",
    "class Solution:\n",
    "    def merge(self, nums1: List[int], m: int, nums2: List[int], n: int) -> None:\n",
    "        \"\"\"\n",
    "        Do not return anything, modify nums1 in-place instead.\n",
    "        \"\"\"\n",
    "        p1 = m - 1\n",
    "        p2 = n - 1\n",
    "        for p in range(m+n-1,-1,-1):\n",
    "            ## all p2 has been written, and remaining p1 is guaranteed to be sorted\n",
    "            ## recall p1 is the longer one with zero's\n",
    "            if p2 < 0:\n",
    "                break\n",
    "            elif p1>=0 and nums1[p1] > nums2[p2]:\n",
    "                nums1[p] = nums1[p1]\n",
    "                p1 -= 1\n",
    "            else:\n",
    "                nums1[p] = nums2[p2]\n",
    "                p2 -= 1"
   ]
  },
  {
   "cell_type": "markdown",
   "id": "9e6a0beb-b4c5-46d0-b39d-8082ec5c5cad",
   "metadata": {},
   "source": [
    "## Search Insert Position (binary search)\n",
    "important!!"
   ]
  },
  {
   "cell_type": "code",
   "execution_count": null,
   "id": "14b27961-d85a-423e-8246-96bc1db42f07",
   "metadata": {},
   "outputs": [],
   "source": [
    "class Solution:\n",
    "    def searchInsert(self, nums: List[int], target: int) -> int:\n",
    "        left, right = 0, len(nums) - 1\n",
    "        \n",
    "        while left <= right:\n",
    "            mid = (left + right)//2\n",
    "            if nums[mid] < target:\n",
    "                left = mid + 1\n",
    "            elif nums[mid] > target:\n",
    "                right = mid - 1\n",
    "            else:\n",
    "                return mid\n",
    "        ## comparing to the sqrt (int) question, this time we need left because we insert after the index!!!    \n",
    "        return left"
   ]
  },
  {
   "cell_type": "markdown",
   "id": "29e420f0-2a6e-438a-881f-7d6eeece2db1",
   "metadata": {},
   "source": [
    "## Implement strStr()"
   ]
  },
  {
   "cell_type": "code",
   "execution_count": null,
   "id": "1fcc6f6b-421a-4e80-98be-c3bf5d14cbd0",
   "metadata": {},
   "outputs": [],
   "source": [
    "class Solution:\n",
    "    def strStr(self, haystack: str, needle: str) -> int:\n",
    "        \n",
    "        len_needle = len(needle)\n",
    "        for i in range(len(haystack)):\n",
    "            if haystack[i:(i+len_needle)] == needle:\n",
    "                return i\n",
    "        \n",
    "        return -1"
   ]
  },
  {
   "cell_type": "markdown",
   "id": "301845c5-a3f8-4667-a97a-cd0d0ccb996f",
   "metadata": {},
   "source": [
    "## Interval List Intersections"
   ]
  },
  {
   "cell_type": "code",
   "execution_count": null,
   "id": "ffb70bae-6ceb-4d1e-aa4d-41d18135f4b2",
   "metadata": {},
   "outputs": [],
   "source": [
    "## mine \n",
    "class Solution:\n",
    "    def intervalIntersection(self, fl: List[List[int]], sl: List[List[int]]) -> List[List[int]]:\n",
    "\n",
    "        out = []\n",
    "        p1 = p2 = 0\n",
    "        while p1<len(fl) and p2<len(sl):\n",
    "            \n",
    "            if fl[p1][0] <= sl[p2][1] and sl[p2][0]<= fl[p1][0]:\n",
    "                if sl[p2][1] < fl[p1][1]:\n",
    "                    out.append([max(fl[p1][0], sl[p2][0]), sl[p2][1]])\n",
    "                    p2 += 1\n",
    "                else:\n",
    "                    out.append(fl[p1])\n",
    "                    p1 += 1\n",
    "                \n",
    "            elif sl[p2][0] <= fl[p1][1] and  fl[p1][0] <= sl[p2][0]:\n",
    "                if sl[p2][1]> fl[p1][1]:\n",
    "                    out.append([max(fl[p1][0], sl[p2][0]), fl[p1][1]])  \n",
    "                    p1 += 1\n",
    "                else:\n",
    "                    out.append(sl[p2])\n",
    "                    p2 += 1\n",
    "            elif fl[p1][1] < sl[p2][0]: ## fl[p1][1] < sl[p2][1] also works\n",
    "                p1 += 1\n",
    "            else:\n",
    "                p2 += 1\n",
    "\n",
    "        return out"
   ]
  },
  {
   "cell_type": "code",
   "execution_count": null,
   "id": "79087715-266e-4cd8-832b-7f17c2e2ff1a",
   "metadata": {},
   "outputs": [],
   "source": [
    "## shorter version\n",
    "class Solution:\n",
    "    def intervalIntersection(self, A: List[List[int]], B: List[List[int]]) -> List[List[int]]:\n",
    "        ans = []\n",
    "        i = j = 0\n",
    "\n",
    "        while i < len(A) and j < len(B):\n",
    "            # Let's check if A[i] intersects B[j].\n",
    "            # lo - the startpoint of the intersection\n",
    "            # hi - the endpoint of the intersection\n",
    "            lo = max(A[i][0], B[j][0])\n",
    "            hi = min(A[i][1], B[j][1])\n",
    "            if lo <= hi:\n",
    "                ans.append([lo, hi])\n",
    "\n",
    "            # Remove the interval with the smallest endpoint\n",
    "            if A[i][1] < B[j][1]:\n",
    "                i += 1\n",
    "            else:\n",
    "                j += 1\n",
    "\n",
    "        return ans"
   ]
  },
  {
   "cell_type": "markdown",
   "id": "29bf4f32-f617-44e7-ba3d-997f89927391",
   "metadata": {},
   "source": [
    "## Valid Parentheses"
   ]
  },
  {
   "cell_type": "code",
   "execution_count": null,
   "id": "52cfc973-84c1-4526-8b00-2a6b337a6682",
   "metadata": {},
   "outputs": [],
   "source": [
    "class Solution(object):\n",
    "    def isValid(self, s):\n",
    "        \"\"\"\n",
    "        :type s: str\n",
    "        :rtype: bool\n",
    "        \"\"\"\n",
    "        stack = []\n",
    "        mapping = {\")\": \"(\", \"}\": \"{\", \"]\": \"[\"}\n",
    "        \n",
    "        for s_i in s:\n",
    "            \n",
    "            if s_i in mapping:\n",
    "                last_item = stack.pop() if stack else \"kobe\"\n",
    "                if mapping[s_i] != last_item:\n",
    "                    return False\n",
    "            else:\n",
    "                stack.append(s_i)\n",
    "                \n",
    "        # In the end, if the stack is empty, then we have a valid expression.\n",
    "        # The stack won't be empty for cases like ((()        \n",
    "        return not stack\n"
   ]
  },
  {
   "cell_type": "markdown",
   "id": "f9016170-f7b6-4901-8bd6-d239af4695d6",
   "metadata": {},
   "source": [
    "## Find top 2 elements in a list (Non-LC)"
   ]
  },
  {
   "cell_type": "code",
   "execution_count": 1,
   "id": "2d02cb6c-01b3-4b8e-89a2-292d8e67cf90",
   "metadata": {},
   "outputs": [],
   "source": [
    "def find_top2(nums):\n",
    "    m1 = max(nums[:2])\n",
    "    m2 = min(nums[:1])\n",
    "    for num in nums:\n",
    "        if num > m2:\n",
    "            if num >= m1:\n",
    "                m1, m2 = num, m1\n",
    "            else:\n",
    "                m2 = num\n",
    "    return m1,m2"
   ]
  },
  {
   "cell_type": "markdown",
   "id": "b66eb2cd-d8e1-4bf9-bf2d-b1ca0cbad5f8",
   "metadata": {},
   "source": [
    "## Top K Frequent Elements"
   ]
  },
  {
   "cell_type": "code",
   "execution_count": null,
   "id": "e9f43027-c1ba-465e-8470-0a1f1427acd7",
   "metadata": {},
   "outputs": [],
   "source": [
    "class Solution:\n",
    "    def topKFrequent(self, nums: List[int], k: int) -> List[int]:\n",
    "        kobe = defaultdict(int)\n",
    "        for num in nums:\n",
    "            kobe[num] += 1\n",
    "        \n",
    "        return sorted(kobe, key=kobe.get, reverse=True)[:k]"
   ]
  },
  {
   "cell_type": "code",
   "execution_count": null,
   "id": "86fecd8d-a253-43b8-bd09-1e80aa6fe89e",
   "metadata": {},
   "outputs": [],
   "source": [
    "class Solution:\n",
    "    def topKFrequent(self, nums: List[int], k: int) -> List[int]: \n",
    "        # O(1) time \n",
    "        if k == len(nums):\n",
    "            return nums\n",
    "\n",
    "        count = Counter(nums)   \n",
    "        return heapq.nlargest(k, count, key=count.get) "
   ]
  },
  {
   "cell_type": "markdown",
   "id": "69de9d41-e57d-4a77-afb2-e440d0f90117",
   "metadata": {},
   "source": [
    "## Pow(x,n)"
   ]
  },
  {
   "cell_type": "code",
   "execution_count": null,
   "id": "15509eab-02dc-4230-a2de-81f5693c8623",
   "metadata": {},
   "outputs": [],
   "source": [
    "class Solution:\n",
    "    def myPow(self, x: float, n: int) -> float:\n",
    "        def kobe(base = x, exponent = abs(n)):\n",
    "            if exponent == 0:\n",
    "                return 1\n",
    "            elif exponent % 2 == 0:\n",
    "                return kobe(base * base, exponent/2)\n",
    "            else:\n",
    "                return base * kobe(base * base, exponent//2) \n",
    "        \n",
    "        out = kobe()\n",
    "\n",
    "        return float(out) if n >=0 else 1/out"
   ]
  },
  {
   "cell_type": "markdown",
   "id": "a4cfe7f8-10f1-484c-bcea-a05b63ab375a",
   "metadata": {},
   "source": [
    "## Count bigram (non-leetcode)"
   ]
  },
  {
   "cell_type": "code",
   "execution_count": 10,
   "id": "7805292a-ea80-459c-821a-215430882155",
   "metadata": {},
   "outputs": [],
   "source": [
    "test_str = 'geeksforgeeks'"
   ]
  },
  {
   "cell_type": "code",
   "execution_count": 23,
   "id": "cbb43a18-e55d-4ee7-b233-02ead389ce87",
   "metadata": {},
   "outputs": [],
   "source": [
    "from collections import defaultdict\n",
    "def count_bigram(kobe):\n",
    "    out = defaultdict(int)\n",
    "    for i in range(len(kobe)-1):\n",
    "        out[kobe[i:(i+2)]] += 1\n",
    "    \n",
    "    return out\n",
    "        "
   ]
  },
  {
   "cell_type": "code",
   "execution_count": 30,
   "id": "6f3ff3a2-b832-42ad-84d9-2115aa138c8a",
   "metadata": {},
   "outputs": [
    {
     "data": {
      "text/plain": [
       "Counter({'ge': 2,\n",
       "         'ee': 2,\n",
       "         'ek': 2,\n",
       "         'ks': 2,\n",
       "         'sf': 1,\n",
       "         'fo': 1,\n",
       "         'or': 1,\n",
       "         'rg': 1})"
      ]
     },
     "execution_count": 30,
     "metadata": {},
     "output_type": "execute_result"
    }
   ],
   "source": [
    "from collections import Counter\n",
    "Counter([test_str[i:(i+2)] for i in range(len(test_str)-1)])"
   ]
  },
  {
   "cell_type": "markdown",
   "id": "d68f5135-d7e4-41fb-ac28-5ecbb20adaf5",
   "metadata": {},
   "source": [
    "### words instead of strings "
   ]
  },
  {
   "cell_type": "code",
   "execution_count": 72,
   "id": "50693712-9984-4d2e-ac56-e2b0d38c43d2",
   "metadata": {},
   "outputs": [],
   "source": [
    "test_list = ['geeksforgeeks is best', 'I love it','kobe is best']"
   ]
  },
  {
   "cell_type": "code",
   "execution_count": 73,
   "id": "583c946c-ede0-486b-9754-c9662fb42b94",
   "metadata": {},
   "outputs": [],
   "source": [
    "def count_bigram_words(kobe):\n",
    "    out = defaultdict(int)\n",
    "    for i in range(len(kobe)):\n",
    "        temp = kobe[i].split(\" \")\n",
    "        for j in range(len(temp)-1):\n",
    "            out[temp[j] + \", \" + temp[j+1]] +=1\n",
    "    return out"
   ]
  },
  {
   "cell_type": "code",
   "execution_count": 74,
   "id": "3b0df9db-64c7-4b46-bb3b-23736788a575",
   "metadata": {},
   "outputs": [
    {
     "data": {
      "text/plain": [
       "defaultdict(int,\n",
       "            {'geeksforgeeks, is': 1,\n",
       "             'is, best': 2,\n",
       "             'I, love': 1,\n",
       "             'love, it': 1,\n",
       "             'kobe, is': 1})"
      ]
     },
     "execution_count": 74,
     "metadata": {},
     "output_type": "execute_result"
    }
   ],
   "source": [
    "count_bigram_words(test_list)"
   ]
  },
  {
   "cell_type": "markdown",
   "id": "389d9c57-25ff-4b52-86d1-57e445871380",
   "metadata": {},
   "source": [
    "## uber interview"
   ]
  },
  {
   "cell_type": "code",
   "execution_count": null,
   "id": "c2b18835-ed79-4c50-a28b-e382195d8c84",
   "metadata": {},
   "outputs": [],
   "source": [
    "# import requests\n",
    "# import mysql.connector\n",
    "# import pandas as pd\n",
    "\n",
    "# Write a function that takes two lists of integers and returns\n",
    "# the smallest non-negative difference between pairs of values\n",
    "# between the two lists.\n",
    "# \n",
    "# Examples:\n",
    "# \n",
    "# arr1 = [1, 3, 15, 11, 2]\n",
    "# arr2 = [23, 127, 235, 19, 8]\n",
    "# \n",
    "# smallest_difference(arr1, arr2)\n",
    "# >> 3\n",
    "# \n",
    "arr1 = [3, 1, 5, 6, 9, 2]\n",
    "arr2 = [27, 17, 20, 13]\n",
    "# \n",
    "# smallest_difference(arr1, arr2)\n",
    "# >> 4\n",
    "## brute force\n",
    "def smallest_difference(arr1, arr2):\n",
    "    out = float('inf')\n",
    "    for i in range(len(arr1)):\n",
    "        for j in range(len(arr2)):\n",
    "            out = min(out, abs(arr1[i]-arr2[j]))\n",
    "    \n",
    "    return out\n",
    "\n",
    "\n",
    "## optimized with sorting\n",
    "mlog(m) + nlog(n)  m+n \n",
    "def smallest_difference2(arr1, arr2):\n",
    "    arr1.sort()\n",
    "    arr2.sort()\n",
    "    out = float('inf')\n",
    "    \n",
    "    p1 = p2 = 0\n",
    "    \n",
    "    while p1< len(arr1) and p2 < len(arr2):\n",
    "        out = min(out,  abs(arr1[p1]-arr2[p2]))\n",
    "        if arr1[p1] < arr2[p2]:\n",
    "            p1 += 1\n",
    "        else:\n",
    "            p2 += 1\n",
    "   \n",
    "    return out\n",
    "    \n",
    "print(smallest_difference2(arr1, arr2))"
   ]
  },
  {
   "cell_type": "markdown",
   "id": "c62270f8-f234-4fa0-9899-14fdea015e05",
   "metadata": {},
   "source": [
    "## Valid Palindrome"
   ]
  },
  {
   "cell_type": "code",
   "execution_count": null,
   "id": "6ad21608-4458-4347-a185-63253f62dfa4",
   "metadata": {},
   "outputs": [],
   "source": [
    "class Solution:\n",
    "    def isPalindrome(self, s: str) -> bool:\n",
    "        p1, p2 = 0, len(s)-1\n",
    "        while p1<p2:\n",
    "            c1, c2 = s[p1].isalnum(), s[p2].isalnum()\n",
    "            if c1 and c2:\n",
    "                if s[p1].lower() == s[p2].lower():\n",
    "                    p1+=1\n",
    "                    p2-=1\n",
    "                else:\n",
    "                    return False\n",
    "            else:\n",
    "                if not c1:\n",
    "                    p1+=1\n",
    "                if not c2:\n",
    "                    p2-=1\n",
    "        \n",
    "        return True"
   ]
  },
  {
   "cell_type": "markdown",
   "id": "fb972207-1ef6-45e4-b759-98a482896dce",
   "metadata": {},
   "source": [
    "## Valid Palindrome 2"
   ]
  },
  {
   "cell_type": "code",
   "execution_count": 1,
   "id": "65ec85ce-7c30-4540-adeb-79513806a74a",
   "metadata": {},
   "outputs": [],
   "source": [
    "## O(N)\n",
    "class Solution:\n",
    "    def validPalindrome(self, s: str) -> bool:\n",
    "        def kobe(s):\n",
    "            p1, p2 = 0, len(s)-1\n",
    "            while p1<p2:\n",
    "                if s[p1] != s[p2]:\n",
    "                    return False\n",
    "                p1+=1\n",
    "                p2-=1\n",
    "            return True\n",
    "        \n",
    "        p1, p2 = 0, len(s)-1\n",
    "        while p1<p2:\n",
    "            if s[p1] != s[p2]:\n",
    "                if kobe(s[:p1]+s[(p1+1):]) or kobe(s[:p2]+s[(p2+1):]):\n",
    "                    return True\n",
    "                else:\n",
    "                    return False\n",
    "            p1+=1\n",
    "            p2-=1\n",
    "        return True"
   ]
  },
  {
   "cell_type": "markdown",
   "id": "12d13f11-909f-4b33-b084-5592c1a81957",
   "metadata": {},
   "source": [
    "## Special Positions in a Binary Matrix"
   ]
  },
  {
   "cell_type": "code",
   "execution_count": null,
   "id": "ef598be8-0142-4f07-910f-0326725583c5",
   "metadata": {},
   "outputs": [],
   "source": [
    "class Solution:\n",
    "    def numSpecial(self, mat: List[List[int]]) -> int:\n",
    "        count = 0\n",
    "        ## transpose\n",
    "        cols = list(zip(*mat))\n",
    "        for row in mat:\n",
    "            if sum(row)==1 and sum(cols[row.index(1)])==1:\n",
    "                count+=1\n",
    "        return count"
   ]
  },
  {
   "cell_type": "markdown",
   "id": "c50ec28c-5d70-412b-b2ec-5b4d2d18e84c",
   "metadata": {},
   "source": [
    "## Running Sum of 1d Array"
   ]
  },
  {
   "cell_type": "code",
   "execution_count": null,
   "id": "9d4ffde0-101c-4408-bd31-bd45a62e12ff",
   "metadata": {},
   "outputs": [],
   "source": [
    "## O(n) in place\n",
    "class Solution:\n",
    "    def runningSum(self, nums: List[int]) -> List[int]:\n",
    "        for i in range(1,len(nums)):\n",
    "            nums[i] = nums[i] + nums[i-1]\n",
    "        return nums"
   ]
  },
  {
   "cell_type": "markdown",
   "id": "c09e8bee-8d8e-4801-95ba-02d699dd78ad",
   "metadata": {},
   "source": [
    "## Shuffle the Array"
   ]
  },
  {
   "cell_type": "code",
   "execution_count": null,
   "id": "281cc78e-804d-4e6e-906f-7001bf946aca",
   "metadata": {},
   "outputs": [],
   "source": [
    "class Solution:\n",
    "    def shuffle(self, nums: List[int], n: int) -> List[int]:\n",
    "        nums_new = []\n",
    "        ## important to use floor division\n",
    "        n = len(nums)//2\n",
    "        for (x, y) in zip(nums[:n],nums[n:]):\n",
    "            nums_new.extend([x,y])\n",
    "        return nums_new"
   ]
  },
  {
   "cell_type": "code",
   "execution_count": 8,
   "id": "114cbcc0-66ef-4ed1-82ea-e4e6ca569d48",
   "metadata": {},
   "outputs": [
    {
     "data": {
      "text/plain": [
       "[2, 3, 5, 3, 2, 5]"
      ]
     },
     "execution_count": 8,
     "metadata": {},
     "output_type": "execute_result"
    }
   ],
   "source": [
    "## inplace\n",
    "class Solution:\n",
    "    def shuffle(self, nums: List[int], n: int) -> List[int]:\n",
    "        n = len(nums)//2\n",
    "        p1 = 0\n",
    "        ## don't need to swap last pair\n",
    "        for i in range(n-1):\n",
    "            nums.insert(p1+1, nums.pop(n+i))\n",
    "            p1+=2\n",
    "        return nums"
   ]
  },
  {
   "cell_type": "markdown",
   "id": "9feee1e6-5421-48db-9823-347c68288820",
   "metadata": {},
   "source": [
    "## Squares of a Sorted Array"
   ]
  },
  {
   "cell_type": "code",
   "execution_count": null,
   "id": "b19cd289-d68b-404d-916e-9a0ea52e912f",
   "metadata": {},
   "outputs": [],
   "source": [
    "class Solution:\n",
    "    def sortedSquares(self, nums: List[int]) -> List[int]:\n",
    "        n = len(nums)\n",
    "        out = [0] * n\n",
    "        p1, p2 = 0, n-1\n",
    "        for i in range(p2,-1,-1):\n",
    "            if abs(nums[p1])>abs(nums[p2]):\n",
    "                out[i] = nums[p1]**2\n",
    "                p1 +=1\n",
    "            else:\n",
    "                out[i] = nums[p2]**2\n",
    "                p2 -=1\n",
    "        return out   "
   ]
  },
  {
   "cell_type": "markdown",
   "id": "2aa58b32-61cc-4394-93b6-a64e641da7ae",
   "metadata": {},
   "source": [
    "## Reverse String (in place)"
   ]
  },
  {
   "cell_type": "code",
   "execution_count": null,
   "id": "5ed3d9e0-290a-4c90-bb5e-13b38a0e794b",
   "metadata": {},
   "outputs": [],
   "source": [
    "class Solution:\n",
    "    def reverseString(self, s: List[str]) -> None:\n",
    "        \"\"\"\n",
    "        Do not return anything, modify s in-place instead.\n",
    "        \"\"\"\n",
    "        for i in range(len(s)-2,-1,-1):\n",
    "            kobe = s.pop(i)\n",
    "            s.append(kobe)\n",
    "        "
   ]
  },
  {
   "cell_type": "code",
   "execution_count": null,
   "id": "e551a6a9-3205-4f76-a765-c6e6bcee203c",
   "metadata": {},
   "outputs": [],
   "source": [
    "## swapping O(n) with n/2 operation\n",
    "class Solution:\n",
    "    def reverseString(self, s: List[str]) -> None:\n",
    "        \"\"\"\n",
    "        Do not return anything, modify s in-place instead.\n",
    "        \"\"\"\n",
    "        for i in range(len(s)//2):\n",
    "            s[i],s[-(i+1)] = s[-(i+1)], s[i]"
   ]
  },
  {
   "cell_type": "markdown",
   "id": "72618c5f-61a3-4d63-a3d8-0b0fc1aaf782",
   "metadata": {},
   "source": [
    "## Find Pivot Index"
   ]
  },
  {
   "cell_type": "code",
   "execution_count": null,
   "id": "89b60886-206d-488c-8903-1a5896f3182e",
   "metadata": {},
   "outputs": [],
   "source": [
    "class Solution:\n",
    "    def pivotIndex(self, nums: List[int]) -> int:\n",
    "        total = sum(nums)\n",
    "        l_sum = 0\n",
    "        for i in range(len(nums)):\n",
    "            if l_sum == (total-nums[i]-l_sum):\n",
    "                return i\n",
    "            l_sum += nums[i]\n",
    "            \n",
    "        return -1"
   ]
  },
  {
   "cell_type": "markdown",
   "id": "c305b17b-8f03-437f-9dbb-9af40321a65f",
   "metadata": {},
   "source": [
    "## Merge Strings Alternately"
   ]
  },
  {
   "cell_type": "code",
   "execution_count": null,
   "id": "84cf3704-69de-4272-8b52-4f9471af7fe8",
   "metadata": {},
   "outputs": [],
   "source": [
    "class Solution:\n",
    "    def mergeAlternately(self, word1: str, word2: str) -> str:\n",
    "        out=\"\"\n",
    "        n1, n2 = len(word1), len(word2)\n",
    "        n = max(n1, n2)\n",
    "        for i in range(n):\n",
    "            if i>=n1:\n",
    "                out += word2[i]\n",
    "            elif i>=n2:\n",
    "                out += word1[i] \n",
    "            else:\n",
    "                out += word1[i] + word2[i]\n",
    "        \n",
    "        return out"
   ]
  },
  {
   "cell_type": "code",
   "execution_count": null,
   "id": "b407341c-ec52-4f0f-ae98-cae9d9ab642d",
   "metadata": {},
   "outputs": [],
   "source": [
    "class Solution:\n",
    "    def mergeAlternately(self, word1: str, word2: str) -> str:\n",
    "        out=\"\"\n",
    "        n = min(len(word1), len(word2))\n",
    "        for i in range(n):\n",
    "            out += word1[i] + word2[i]\n",
    "        \n",
    "        return out + word1[(i+1):] + word2[(i+1):]\n",
    "        "
   ]
  },
  {
   "cell_type": "markdown",
   "id": "0cf61ade-5ac4-4828-8d6b-53ee3f36fdca",
   "metadata": {},
   "source": [
    "## Final Prices With a Special Discount in a Shop"
   ]
  },
  {
   "cell_type": "code",
   "execution_count": null,
   "id": "54bd83e2-7920-46c8-bf0d-b0b497f67986",
   "metadata": {},
   "outputs": [],
   "source": [
    "class Solution:\n",
    "    def finalPrices(self, prices: List[int]) -> List[int]:\n",
    "        out = []\n",
    "        n = len(prices)\n",
    "        for i in range(n-1):\n",
    "            for j in range(i+1,n):\n",
    "                if prices[j]<= prices[i]:\n",
    "                    out.append(prices[i]-prices[j])\n",
    "                    break\n",
    "                if j == n-1:    \n",
    "                    out.append(prices[i])\n",
    "        \n",
    "        out.append(prices[-1])\n",
    "        return out"
   ]
  },
  {
   "cell_type": "code",
   "execution_count": null,
   "id": "11f48027-42b7-4178-97a6-02463cf1a3ff",
   "metadata": {},
   "outputs": [],
   "source": [
    "## Monotonous Increasing Stack stragegy (important)\n",
    "## https://leetcode.com/problems/final-prices-with-a-special-discount-in-a-shop/discuss/966403/Python-3-One-pass-Visual-explain-Monotonous-stack\n",
    "class Solution:\n",
    "    def finalPrices(self, prices: List[int]) -> List[int]:\n",
    "        res, stack = prices[:], []\n",
    "        for i, price in enumerate(prices):\n",
    "            while stack and prices[stack[-1]] >= price:\n",
    "                res[stack.pop()] -= price\n",
    "            stack.append(i)\n",
    "        return res"
   ]
  },
  {
   "cell_type": "markdown",
   "id": "98f79d38-8cec-4c91-8ea9-32636aea5298",
   "metadata": {},
   "source": [
    "## Find the Distance Value Between Two Arrays"
   ]
  },
  {
   "cell_type": "code",
   "execution_count": null,
   "id": "537cb449-a0ae-48b6-a26a-dbb5f900845b",
   "metadata": {},
   "outputs": [],
   "source": [
    "class Solution:\n",
    "    def findTheDistanceValue(self, arr1: List[int], arr2: List[int], d: int) -> int:\n",
    "        out = len(arr1)\n",
    "        for ar1 in arr1:\n",
    "            for ar2 in arr2:\n",
    "                if abs(ar2-ar1)<=d:\n",
    "                    out-=1\n",
    "                    break\n",
    "        return out"
   ]
  },
  {
   "cell_type": "code",
   "execution_count": null,
   "id": "01d6da61-4abe-4a85-9ee6-f382c83fda2c",
   "metadata": {},
   "outputs": [],
   "source": [
    "## two pointer\n",
    "class Solution:\n",
    "    def findTheDistanceValue(self, arr1: List[int], arr2: List[int], d: int) -> int:\n",
    "        arr1.sort()\n",
    "        arr2.sort()\n",
    "        i = 0\n",
    "        j = 0\n",
    "        dist = 0\n",
    "        while i < len(arr1) and j < len(arr2):\n",
    "            if arr1[i] >= arr2[j]:\n",
    "                if arr1[i] - arr2[j] > d:\n",
    "                    j += 1\n",
    "                else:\n",
    "                    i += 1\n",
    "            else:\n",
    "                if arr2[j] - arr1[i] > d:\n",
    "                    i += 1\n",
    "                    dist += 1\n",
    "                else:\n",
    "                    i += 1\n",
    "        dist += len(arr1) - i\n",
    "        return dist \n",
    "    \n",
    "## shorter version but harder to understand                        \n",
    "class Solution:\n",
    "    def findTheDistanceValue(self, arr1: List[int], arr2: List[int], d: int) -> int:\n",
    "        arr1.sort()\n",
    "        arr2.sort()\n",
    "        p1 = p2 = 0\n",
    "        count = 0\n",
    "        while p1<len(arr1) and p2<len(arr2):\n",
    "            if arr1[p1] <= arr2[p2]+d:\n",
    "                if arr1[p1] < arr2[p2]-d: count+=1\n",
    "                p1+=1\n",
    "            else:p2+=1\n",
    "        return count + len(arr1) - p1     "
   ]
  },
  {
   "cell_type": "markdown",
   "id": "823480ac-27f0-42c9-ab87-8b1e55d19c16",
   "metadata": {},
   "source": [
    "## Word Pattern"
   ]
  },
  {
   "cell_type": "code",
   "execution_count": null,
   "id": "2bf2aa7b-afef-4f57-9ad2-bc164bb52889",
   "metadata": {},
   "outputs": [],
   "source": [
    "class Solution:\n",
    "    def wordPattern(self, pattern: str, s: str) -> bool:\n",
    "        s = s.split()\n",
    "        \n",
    "        p_to_s = {}\n",
    "        s_to_p = {}\n",
    "        \n",
    "        if len(pattern)!=len(s): return False\n",
    "        \n",
    "        for p, s in zip(pattern, s):\n",
    "            if (p not in p_to_s) and (s not in s_to_p):\n",
    "                p_to_s[p] = s\n",
    "                s_to_p[s] = p\n",
    "            \n",
    "            elif p_to_s.get(p)!=s or s_to_p.get(s) !=p:\n",
    "                return False\n",
    "            \n",
    "        return True \n",
    "        "
   ]
  },
  {
   "cell_type": "markdown",
   "id": "74f7ed43-359c-40ea-b25c-a2620e547e36",
   "metadata": {},
   "source": [
    "## Isomorphic strings (similar to word pattern question above)"
   ]
  },
  {
   "cell_type": "code",
   "execution_count": null,
   "id": "916d4c20-dc7c-47e3-8900-e7804b354790",
   "metadata": {},
   "outputs": [],
   "source": [
    "class Solution:\n",
    "    def isIsomorphic(self, s: str, t: str) -> bool:\n",
    "        s_to_t = {}\n",
    "        t_to_s = {}\n",
    "        for i, s_i in enumerate(s):\n",
    "            t_i = t[i]\n",
    "            if s_i in s_to_t:\n",
    "                if s_to_t[s_i] != t_i or t_to_s[t_i] != s_i:\n",
    "                    return False\n",
    "            else:\n",
    "                if t_i in t_to_s and t_to_s[t_i]!=s_i:\n",
    "                    return False\n",
    "                s_to_t[s_i] = t_i\n",
    "                t_to_s[t_i] = s_i\n",
    "                \n",
    "        return True"
   ]
  },
  {
   "cell_type": "code",
   "execution_count": null,
   "id": "88c9a928-900b-46f9-bb35-336ef280e8ab",
   "metadata": {},
   "outputs": [],
   "source": [
    "## succinct version, important, .get() here avoids Keyerror if keys not available.\n",
    "class Solution:\n",
    "    def isIsomorphic(self, s: str, t: str) -> bool:\n",
    "        s_to_t = {}\n",
    "        t_to_s = {}\n",
    "        for s_i, t_i in zip(s,t):\n",
    "            if (s_i not in s_to_t) and (t_i not in t_to_s):\n",
    "                s_to_t[s_i] = t_i\n",
    "                t_to_s[t_i] = s_i\n",
    "                \n",
    "            elif s_to_t.get(s_i) != t_i or t_to_s.get(t_i) != s_i:\n",
    "                return False\n",
    "                \n",
    "        return True"
   ]
  },
  {
   "cell_type": "markdown",
   "id": "a36e2af6-5e35-4792-87f6-f404cb758255",
   "metadata": {},
   "source": [
    "## Divisor Game"
   ]
  },
  {
   "cell_type": "code",
   "execution_count": null,
   "id": "035bc01a-d4ab-4542-924a-6abd6a9625b7",
   "metadata": {},
   "outputs": [],
   "source": [
    "class Solution:\n",
    "    def divisorGame(self, n: int) -> bool:\n",
    "        return n % 2 == 0"
   ]
  },
  {
   "cell_type": "markdown",
   "id": "a3f6dcc6-9094-45dd-9fcb-81865c637df4",
   "metadata": {},
   "source": [
    "## Two Sum II - Input Array Is Sorted"
   ]
  },
  {
   "cell_type": "code",
   "execution_count": null,
   "id": "abdc056b-0faf-408a-9207-37d07fd9b74a",
   "metadata": {},
   "outputs": [],
   "source": [
    "class Solution:\n",
    "    def twoSum(self, numbers: List[int], target: int) -> List[int]:\n",
    "        left, right = 0, len(numbers) - 1 \n",
    "        while left<right:\n",
    "            curr_sum = numbers[left] + numbers[right]\n",
    "            if curr_sum == target:\n",
    "                return [left+1, right+1]\n",
    "            elif curr_sum > target:\n",
    "                right -= 1\n",
    "            else:\n",
    "                left += 1"
   ]
  },
  {
   "cell_type": "markdown",
   "id": "ac158cc2-c04d-453c-a389-2462ea0184e5",
   "metadata": {},
   "source": [
    "## LC course, longest subarray \n",
    "\n",
    "Example 1: Given an array of positive integers nums and an integer k, find the length of the longest subarray whose sum is less than or equal to k."
   ]
  },
  {
   "cell_type": "code",
   "execution_count": 9,
   "id": "4e3590a9-65be-4cb9-9205-2d2efa22e2b3",
   "metadata": {},
   "outputs": [],
   "source": [
    "nums = [3, 1, 2, 7, 4, 2, 1, 1, 5]\n",
    "def find_long(nums, target):\n",
    "    curr_sum = left = answer = 0\n",
    "    for right in range(len(nums)):\n",
    "        curr_sum += nums[right]\n",
    "        while curr_sum > target:\n",
    "            curr_sum -= nums[left]\n",
    "            left += 1\n",
    "        \n",
    "        answer = max(answer, right - left + 1)\n",
    "    return answer"
   ]
  },
  {
   "cell_type": "markdown",
   "id": "d8440cd2-3545-48bf-bc88-c6fa7324265f",
   "metadata": {},
   "source": [
    "## length of the longest substring"
   ]
  },
  {
   "cell_type": "markdown",
   "id": "3d7ab6e3-c914-4cb2-9389-bee5514ee128",
   "metadata": {},
   "source": [
    "Example 2: You are given a binary substring s (a string containing only \"0\" and \"1\"). An operation involves flipping a \"0\" into a \"1\". What is the length of the longest substring containing only \"1\" after performing at most one operation?\n",
    "\n",
    "For example, given `s = \"1101100111\"`, the answer is 5. If you perform the operation at index 2, the string becomes `1111100111`."
   ]
  },
  {
   "cell_type": "code",
   "execution_count": null,
   "id": "d4f166c2-98b5-44fb-b7cd-fc1b37226710",
   "metadata": {},
   "outputs": [],
   "source": [
    "def find_length(s):\n",
    "    left = curr = ans = 0 \n",
    "    for right in range(len(s)):\n",
    "        if s[right] == \"0\":\n",
    "            curr += 1\n",
    "        while curr > 1:\n",
    "            if s[left] == \"0\":\n",
    "                curr -= 1\n",
    "            left += 1\n",
    "        ans = max(ans, right - left + 1)\n",
    "    \n",
    "    return ans"
   ]
  },
  {
   "cell_type": "markdown",
   "id": "a5f169a1-ad66-466e-a0c6-dd294b5da602",
   "metadata": {},
   "source": [
    "## Maximum Subarray"
   ]
  },
  {
   "cell_type": "code",
   "execution_count": null,
   "id": "5d3faaff-c489-4a0c-b3d6-5777ed656d65",
   "metadata": {},
   "outputs": [],
   "source": [
    "class Solution:\n",
    "    def numSubarrayProductLessThanK(self, nums: List[int], k: int) -> int:\n",
    "        left = answer =  0\n",
    "        curr_prod = 1\n",
    "        if k <= 1: return 0\n",
    "        \n",
    "        for right, val in enumerate(nums):\n",
    "            curr_prod *= val\n",
    "            while curr_prod >= k :\n",
    "                curr_prod /= nums[left]\n",
    "                left += 1\n",
    "            answer += (right - left + 1)\n",
    "\n",
    "        return answer\n",
    "                "
   ]
  },
  {
   "cell_type": "markdown",
   "id": "6fae8563-aaf2-45b2-a845-84ad792e2c10",
   "metadata": {},
   "source": [
    "## Largest sum whose length is K\n",
    "\n",
    "Example 4: Given an integer array nums and an integer k, find the sum of the subarray with the largest sum whose length is k."
   ]
  },
  {
   "cell_type": "code",
   "execution_count": null,
   "id": "9ff8bf9d-87f4-4425-addc-2993e430057d",
   "metadata": {},
   "outputs": [],
   "source": []
  },
  {
   "cell_type": "code",
   "execution_count": null,
   "id": "ea9b4779-dc8f-45d6-9e2d-84b12492b247",
   "metadata": {},
   "outputs": [],
   "source": [
    "def largest_K_sum(nums):\n",
    "    curr_max = \n",
    "    \n",
    "    f"
   ]
  }
 ],
 "metadata": {
  "kernelspec": {
   "display_name": "Python 3 (ipykernel)",
   "language": "python",
   "name": "python3"
  },
  "language_info": {
   "codemirror_mode": {
    "name": "ipython",
    "version": 3
   },
   "file_extension": ".py",
   "mimetype": "text/x-python",
   "name": "python",
   "nbconvert_exporter": "python",
   "pygments_lexer": "ipython3",
   "version": "3.9.7"
  }
 },
 "nbformat": 4,
 "nbformat_minor": 5
}
