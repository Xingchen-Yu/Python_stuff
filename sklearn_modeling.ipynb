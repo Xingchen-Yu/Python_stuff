{
 "cells": [
  {
   "cell_type": "markdown",
   "id": "f3325d77-cb92-4ddc-874c-0076683e0322",
   "metadata": {},
   "source": [
    "# Sklearn statistical machine learning"
   ]
  },
  {
   "cell_type": "markdown",
   "id": "02917e44-746a-498d-9a13-4f8fc26d9071",
   "metadata": {},
   "source": [
    "## Standardize (columns) and normalize (rows)"
   ]
  },
  {
   "cell_type": "code",
   "execution_count": null,
   "id": "99688706-213f-40bd-8101-31910495cbf5",
   "metadata": {},
   "outputs": [],
   "source": [
    "from sklearn.preprocessing."
   ]
  }
 ],
 "metadata": {
  "kernelspec": {
   "display_name": "Python 3 (ipykernel)",
   "language": "python",
   "name": "python3"
  },
  "language_info": {
   "codemirror_mode": {
    "name": "ipython",
    "version": 3
   },
   "file_extension": ".py",
   "mimetype": "text/x-python",
   "name": "python",
   "nbconvert_exporter": "python",
   "pygments_lexer": "ipython3",
   "version": "3.9.7"
  }
 },
 "nbformat": 4,
 "nbformat_minor": 5
}
