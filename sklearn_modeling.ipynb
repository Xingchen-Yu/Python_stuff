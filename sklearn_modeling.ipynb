{
 "cells": [
  {
   "cell_type": "markdown",
   "id": "f3325d77-cb92-4ddc-874c-0076683e0322",
   "metadata": {},
   "source": [
    "# Sklearn statistical machine learning"
   ]
  },
  {
   "cell_type": "markdown",
   "id": "02917e44-746a-498d-9a13-4f8fc26d9071",
   "metadata": {},
   "source": [
    "## Train test split, Standardize (columns) and normalize (rows)"
   ]
  },
  {
   "cell_type": "code",
   "execution_count": 59,
   "id": "99688706-213f-40bd-8101-31910495cbf5",
   "metadata": {},
   "outputs": [],
   "source": [
    "import numpy as np\n",
    "import pandas as pd\n",
    "import seaborn as sns\n",
    "from sklearn.preprocessing import StandardScaler,Normalizer\n",
    "from sklearn.model_selection import train_test_split, GridSearchCV, RandomizedSearchCV\n",
    "from sklearn.metrics import mean_squared_error\n",
    "import matplotlib.pyplot as plt"
   ]
  },
  {
   "cell_type": "code",
   "execution_count": 2,
   "id": "9c1eee56-cb7d-4a53-baf1-179dcd8f137c",
   "metadata": {},
   "outputs": [],
   "source": [
    "n = 10000\n",
    "p = 40\n",
    "rng = np.random.RandomState(8888)\n",
    "x_mat = rng.normal(size=(n,p))\n",
    "beta_true = rng.normal(size = p)\n",
    "y = np.dot(x_mat,beta_true) + rng.normal(size=n)"
   ]
  },
  {
   "cell_type": "code",
   "execution_count": 3,
   "id": "88deebea-57bf-4ba0-8597-85be29f5bf3c",
   "metadata": {},
   "outputs": [
    {
     "data": {
      "text/plain": [
       "(array([  22.,  158.,  658., 1704., 2741., 2637., 1465.,  505.,   89.,\n",
       "          21.]),\n",
       " array([-21.44136517, -17.06860753, -12.69584989,  -8.32309224,\n",
       "         -3.9503346 ,   0.42242304,   4.79518068,   9.16793833,\n",
       "         13.54069597,  17.91345361,  22.28621125]),\n",
       " <BarContainer object of 10 artists>)"
      ]
     },
     "execution_count": 3,
     "metadata": {},
     "output_type": "execute_result"
    },
    {
     "data": {
      "image/png": "[encoded data removed]",
      "text/plain": [
       "<Figure size 432x288 with 1 Axes>"
      ]
     },
     "metadata": {
      "needs_background": "light"
     },
     "output_type": "display_data"
    }
   ],
   "source": [
    "plt.hist(y)"
   ]
  },
  {
   "cell_type": "code",
   "execution_count": 4,
   "id": "4e1f1384-67a5-4860-89c3-db90ee2abcb6",
   "metadata": {},
   "outputs": [],
   "source": [
    "## make random class\n",
    "z = np.zeros_like(y)\n",
    "z[y>10] = 3\n",
    "z[y<-10] = 2"
   ]
  },
  {
   "cell_type": "markdown",
   "id": "b8cc706f-0a96-4470-9a84-8be8863c01a3",
   "metadata": {},
   "source": [
    "`train_test_split`: __`stratify`__: classification label"
   ]
  },
  {
   "cell_type": "code",
   "execution_count": 5,
   "id": "4e77f115-5b37-4a58-8ee0-ecd155fda948",
   "metadata": {},
   "outputs": [],
   "source": [
    "tr_X, ts_X, tr_Y, ts_Y = train_test_split(x_mat,y,test_size=0.2,random_state =0)"
   ]
  },
  {
   "cell_type": "code",
   "execution_count": 6,
   "id": "fbfb2553-b414-4399-829b-d914bdfedbc3",
   "metadata": {},
   "outputs": [],
   "source": [
    "tr_X, ts_X, tr_z, ts_z = train_test_split(x_mat,z,test_size=0.2,random_state =0,stratify=z)"
   ]
  },
  {
   "cell_type": "code",
   "execution_count": 7,
   "id": "e4eec05e-fd80-4b1b-8c0a-0108280569f6",
   "metadata": {},
   "outputs": [
    {
     "name": "stdout",
     "output_type": "stream",
     "text": [
      "0.0465 0.0465\n"
     ]
    }
   ],
   "source": [
    "print(sum(tr_z==3)/len(tr_z),sum(ts_z==3)/len(ts_z))"
   ]
  },
  {
   "cell_type": "code",
   "execution_count": 8,
   "id": "fc55fcee-19c0-491f-b867-82646d78a44e",
   "metadata": {},
   "outputs": [
    {
     "name": "stdout",
     "output_type": "stream",
     "text": [
      "0.048625 0.0485\n"
     ]
    }
   ],
   "source": [
    "print(sum(tr_z==2)/len(tr_z),sum(ts_z==2)/len(ts_z))"
   ]
  },
  {
   "cell_type": "code",
   "execution_count": 9,
   "id": "7d0dfe67-ea3c-4508-99eb-f9cb828184d4",
   "metadata": {},
   "outputs": [
    {
     "name": "stdout",
     "output_type": "stream",
     "text": [
      "0.904875 0.905\n"
     ]
    }
   ],
   "source": [
    "print(sum(tr_z==0)/len(tr_z),sum(ts_z==0)/len(ts_z))"
   ]
  },
  {
   "cell_type": "markdown",
   "id": "210be049-d184-4901-8c99-ffa664b1a0a8",
   "metadata": {},
   "source": [
    "#### `StandardScaler` defaults `with_mean=True` and  `with_std=True` can be adjusted"
   ]
  },
  {
   "cell_type": "code",
   "execution_count": 67,
   "id": "0ea4c926-1bae-4d25-a3a3-406a78f76caf",
   "metadata": {},
   "outputs": [],
   "source": [
    "standardizer = StandardScaler().fit(tr_X)\n",
    "tr_X = standardizer.transform(tr_X)\n",
    "ts_X = standardizer.transform(ts_X)"
   ]
  },
  {
   "cell_type": "code",
   "execution_count": 68,
   "id": "6db874a0-a1d6-47dc-a80d-974486a271c4",
   "metadata": {},
   "outputs": [
    {
     "data": {
      "text/plain": [
       "array([-2.57576079e-17,  3.62487818e-17,  3.78239107e-17, -1.78329573e-18,\n",
       "       -1.99840144e-18, -2.88380431e-17, -6.97497615e-17, -3.85247390e-17,\n",
       "       -8.18789481e-18,  3.36952688e-17,  8.84015083e-18,  7.82728916e-17,\n",
       "       -3.38062911e-17, -3.20021787e-17, -3.61516372e-18, -1.12132525e-17,\n",
       "        2.85604873e-17, -3.18911564e-17,  1.92484917e-17,  2.15938378e-17,\n",
       "       -5.09314813e-17, -2.77555756e-19, -3.46944695e-18, -4.95298247e-17,\n",
       "        7.60502772e-18, -1.37390099e-17, -2.04974926e-17, -1.00336406e-17,\n",
       "        3.06005221e-18, -1.61988478e-17,  8.38218384e-18,  4.79200013e-17,\n",
       "       -2.23709939e-17,  6.65023592e-17, -2.62984079e-17, -2.89490654e-17,\n",
       "        2.68396416e-17,  2.70616862e-17, -1.72570291e-17,  3.37299633e-17])"
      ]
     },
     "execution_count": 68,
     "metadata": {},
     "output_type": "execute_result"
    }
   ],
   "source": [
    "tr_X.mean(axis=0)"
   ]
  },
  {
   "cell_type": "code",
   "execution_count": 69,
   "id": "17fb30ed-1a85-4a53-a82e-a34fac8d6d7e",
   "metadata": {},
   "outputs": [
    {
     "data": {
      "text/plain": [
       "array([1., 1., 1., 1., 1., 1., 1., 1., 1., 1., 1., 1., 1., 1., 1., 1., 1.,\n",
       "       1., 1., 1., 1., 1., 1., 1., 1., 1., 1., 1., 1., 1., 1., 1., 1., 1.,\n",
       "       1., 1., 1., 1., 1., 1.])"
      ]
     },
     "execution_count": 69,
     "metadata": {},
     "output_type": "execute_result"
    }
   ],
   "source": [
    "tr_X.std(axis=0)"
   ]
  },
  {
   "cell_type": "markdown",
   "id": "e04f1ac2-7be4-467c-adb8-9eff23fd7db5",
   "metadata": {},
   "source": [
    "#### `Normalizer` default is `l2`, `l1` and `max` are available"
   ]
  },
  {
   "cell_type": "code",
   "execution_count": 70,
   "id": "7475544f-c696-4126-98b0-07d7fc3489e6",
   "metadata": {},
   "outputs": [],
   "source": [
    "normalizer = Normalizer().fit(tr_X)\n",
    "tr_X_norm = normalizer.transform(tr_X)\n",
    "ts_X_norm = normalizer.transform(ts_X)"
   ]
  },
  {
   "cell_type": "code",
   "execution_count": 79,
   "id": "5138d9e6-1423-4e64-83c1-3b80863ba90e",
   "metadata": {},
   "outputs": [
    {
     "data": {
      "text/plain": [
       "True"
      ]
     },
     "execution_count": 79,
     "metadata": {},
     "output_type": "execute_result"
    }
   ],
   "source": [
    "np.sqrt(np.sum(tr_X_norm**2,axis=1)).sum() == tr_X_norm.shape[0]"
   ]
  },
  {
   "cell_type": "code",
   "execution_count": 80,
   "id": "df90311b-794c-4082-bc62-69474a2337e9",
   "metadata": {},
   "outputs": [
    {
     "data": {
      "text/plain": [
       "True"
      ]
     },
     "execution_count": 80,
     "metadata": {},
     "output_type": "execute_result"
    }
   ],
   "source": [
    "np.sqrt(np.sum(tr_X_norm**2,axis=1)).sum() == tr_X_norm.shape[0]"
   ]
  },
  {
   "cell_type": "markdown",
   "id": "76b303d4-00ac-4379-a09c-37bb2bb495c1",
   "metadata": {},
   "source": [
    "## Naive Bayes"
   ]
  },
  {
   "cell_type": "code",
   "execution_count": 24,
   "id": "25df579e-d28b-401d-9349-35af248c7eaa",
   "metadata": {},
   "outputs": [
    {
     "data": {
      "image/png": "[encoded data removed]",
      "text/plain": [
       "<Figure size 432x288 with 1 Axes>"
      ]
     },
     "metadata": {
      "needs_background": "light"
     },
     "output_type": "display_data"
    }
   ],
   "source": [
    "from sklearn.datasets import make_blobs\n",
    "X, y = make_blobs(1000, 2, centers=2, random_state=2, cluster_std=3)\n",
    "plt.scatter(X[:, 0], X[:, 1], c=y, s=50, cmap='RdBu');"
   ]
  },
  {
   "cell_type": "markdown",
   "id": "4204c714-beef-492f-873d-06359a67fc7f",
   "metadata": {},
   "source": [
    "### `Gaussian`, `multinomial` and `Categorical`. `Complement Naive Bayes` is for imblanced `multinomial`. Except for `Gaussian`, the rest are for counts data, popular in text classification and simple NLP."
   ]
  },
  {
   "cell_type": "code",
   "execution_count": 25,
   "id": "146b3e39-ff24-4ca0-8513-fdb4525731b4",
   "metadata": {},
   "outputs": [],
   "source": [
    "from sklearn.naive_bayes import GaussianNB\n",
    "model = GaussianNB()\n",
    "tr_X, ts_X, tr_Y, ts_Y = train_test_split(X,y,test_size=0.2,random_state =0)\n",
    "model.fit(tr_X, tr_Y)\n",
    "predicted_y = model.predict(ts_X);"
   ]
  },
  {
   "cell_type": "code",
   "execution_count": 26,
   "id": "3f4458d4-6d19-4892-93f9-5375143fd97b",
   "metadata": {},
   "outputs": [],
   "source": [
    "predict_proba =  model.predict_proba(ts_X);"
   ]
  },
  {
   "cell_type": "markdown",
   "id": "7c5ef531-2f90-42a2-9886-f96bce248562",
   "metadata": {},
   "source": [
    "### Classification results: `classification_report` and `confusion_matrix`"
   ]
  },
  {
   "cell_type": "code",
   "execution_count": 27,
   "id": "442eac69-8350-4ddb-a51e-d32cadf7789b",
   "metadata": {},
   "outputs": [],
   "source": [
    "from sklearn.metrics import confusion_matrix\n",
    "mat = confusion_matrix(ts_Y,predicted_y)"
   ]
  },
  {
   "cell_type": "markdown",
   "id": "8bd4fdc3-67a9-439a-8181-b44de6aff093",
   "metadata": {},
   "source": [
    "#### true is y-axis and predicted is x-axis"
   ]
  },
  {
   "cell_type": "code",
   "execution_count": 28,
   "id": "5bfc959c-3e29-4c00-a143-f21e54ce6e7b",
   "metadata": {},
   "outputs": [
    {
     "data": {
      "text/plain": [
       "array([[107,   2],\n",
       "       [  9,  82]], dtype=int64)"
      ]
     },
     "execution_count": 28,
     "metadata": {},
     "output_type": "execute_result"
    }
   ],
   "source": [
    "mat"
   ]
  },
  {
   "cell_type": "code",
   "execution_count": 29,
   "id": "ea14c911-394f-4270-adb8-705a6526e9b5",
   "metadata": {},
   "outputs": [
    {
     "data": {
      "image/png": "[encoded data removed]",
      "text/plain": [
       "<Figure size 432x288 with 1 Axes>"
      ]
     },
     "metadata": {
      "needs_background": "light"
     },
     "output_type": "display_data"
    }
   ],
   "source": [
    "sns.heatmap(mat.T, square=True, annot=True, fmt='d', cbar=False,)\n",
    "plt.xlabel('true label')\n",
    "plt.ylabel('predicted label');"
   ]
  },
  {
   "cell_type": "code",
   "execution_count": 23,
   "id": "09675d54-d9f4-45de-9d4a-822cf2cb4738",
   "metadata": {},
   "outputs": [
    {
     "name": "stdout",
     "output_type": "stream",
     "text": [
      "              precision    recall  f1-score   support\n",
      "\n",
      "           0       1.00      0.99      1.00       110\n",
      "           1       0.99      1.00      0.99        90\n",
      "\n",
      "    accuracy                           0.99       200\n",
      "   macro avg       0.99      1.00      0.99       200\n",
      "weighted avg       1.00      0.99      1.00       200\n",
      "\n"
     ]
    }
   ],
   "source": [
    "from sklearn.metrics import classification_report\n",
    "print(classification_report(predicted_y, ts_Y))"
   ]
  },
  {
   "cell_type": "code",
   "execution_count": 35,
   "id": "b92232a8-2323-4882-ba52-98600781e462",
   "metadata": {
    "collapsed": true,
    "jupyter": {
     "outputs_hidden": true
    },
    "tags": []
   },
   "outputs": [
    {
     "data": {
      "text/plain": [
       "\u001b[1;31mSignature:\u001b[0m\n",
       "\u001b[0mmetrics\u001b[0m\u001b[1;33m.\u001b[0m\u001b[0mroc_curve\u001b[0m\u001b[1;33m(\u001b[0m\u001b[1;33m\n",
       "\u001b[0m    \u001b[0my_true\u001b[0m\u001b[1;33m,\u001b[0m\u001b[1;33m\n",
       "\u001b[0m    \u001b[0my_score\u001b[0m\u001b[1;33m,\u001b[0m\u001b[1;33m\n",
       "\u001b[0m    \u001b[1;33m*\u001b[0m\u001b[1;33m,\u001b[0m\u001b[1;33m\n",
       "\u001b[0m    \u001b[0mpos_label\u001b[0m\u001b[1;33m=\u001b[0m\u001b[1;32mNone\u001b[0m\u001b[1;33m,\u001b[0m\u001b[1;33m\n",
       "\u001b[0m    \u001b[0msample_weight\u001b[0m\u001b[1;33m=\u001b[0m\u001b[1;32mNone\u001b[0m\u001b[1;33m,\u001b[0m\u001b[1;33m\n",
       "\u001b[0m    \u001b[0mdrop_intermediate\u001b[0m\u001b[1;33m=\u001b[0m\u001b[1;32mTrue\u001b[0m\u001b[1;33m,\u001b[0m\u001b[1;33m\n",
       "\u001b[0m\u001b[1;33m)\u001b[0m\u001b[1;33m\u001b[0m\u001b[1;33m\u001b[0m\u001b[0m\n",
       "\u001b[1;31mDocstring:\u001b[0m\n",
       "Compute Receiver operating characteristic (ROC).\n",
       "\n",
       "Note: this implementation is restricted to the binary classification task.\n",
       "\n",
       "Read more in the :ref:`User Guide <roc_metrics>`.\n",
       "\n",
       "Parameters\n",
       "----------\n",
       "y_true : ndarray of shape (n_samples,)\n",
       "    True binary labels. If labels are not either {-1, 1} or {0, 1}, then\n",
       "    pos_label should be explicitly given.\n",
       "\n",
       "y_score : ndarray of shape (n_samples,)\n",
       "    Target scores, can either be probability estimates of the positive\n",
       "    class, confidence values, or non-thresholded measure of decisions\n",
       "    (as returned by \"decision_function\" on some classifiers).\n",
       "\n",
       "pos_label : int or str, default=None\n",
       "    The label of the positive class.\n",
       "    When ``pos_label=None``, if `y_true` is in {-1, 1} or {0, 1},\n",
       "    ``pos_label`` is set to 1, otherwise an error will be raised.\n",
       "\n",
       "sample_weight : array-like of shape (n_samples,), default=None\n",
       "    Sample weights.\n",
       "\n",
       "drop_intermediate : bool, default=True\n",
       "    Whether to drop some suboptimal thresholds which would not appear\n",
       "    on a plotted ROC curve. This is useful in order to create lighter\n",
       "    ROC curves.\n",
       "\n",
       "    .. versionadded:: 0.17\n",
       "       parameter *drop_intermediate*.\n",
       "\n",
       "Returns\n",
       "-------\n",
       "fpr : ndarray of shape (>2,)\n",
       "    Increasing false positive rates such that element i is the false\n",
       "    positive rate of predictions with score >= `thresholds[i]`.\n",
       "\n",
       "tpr : ndarray of shape (>2,)\n",
       "    Increasing true positive rates such that element `i` is the true\n",
       "    positive rate of predictions with score >= `thresholds[i]`.\n",
       "\n",
       "thresholds : ndarray of shape = (n_thresholds,)\n",
       "    Decreasing thresholds on the decision function used to compute\n",
       "    fpr and tpr. `thresholds[0]` represents no instances being predicted\n",
       "    and is arbitrarily set to `max(y_score) + 1`.\n",
       "\n",
       "See Also\n",
       "--------\n",
       "plot_roc_curve : Plot Receiver operating characteristic (ROC) curve.\n",
       "RocCurveDisplay : ROC Curve visualization.\n",
       "det_curve: Compute error rates for different probability thresholds.\n",
       "roc_auc_score : Compute the area under the ROC curve.\n",
       "\n",
       "Notes\n",
       "-----\n",
       "Since the thresholds are sorted from low to high values, they\n",
       "are reversed upon returning them to ensure they correspond to both ``fpr``\n",
       "and ``tpr``, which are sorted in reversed order during their calculation.\n",
       "\n",
       "References\n",
       "----------\n",
       ".. [1] `Wikipedia entry for the Receiver operating characteristic\n",
       "        <https://en.wikipedia.org/wiki/Receiver_operating_characteristic>`_\n",
       "\n",
       ".. [2] Fawcett T. An introduction to ROC analysis[J]. Pattern Recognition\n",
       "       Letters, 2006, 27(8):861-874.\n",
       "\n",
       "Examples\n",
       "--------\n",
       ">>> import numpy as np\n",
       ">>> from sklearn import metrics\n",
       ">>> y = np.array([1, 1, 2, 2])\n",
       ">>> scores = np.array([0.1, 0.4, 0.35, 0.8])\n",
       ">>> fpr, tpr, thresholds = metrics.roc_curve(y, scores, pos_label=2)\n",
       ">>> fpr\n",
       "array([0. , 0. , 0.5, 0.5, 1. ])\n",
       ">>> tpr\n",
       "array([0. , 0.5, 0.5, 1. , 1. ])\n",
       ">>> thresholds\n",
       "array([1.8 , 0.8 , 0.4 , 0.35, 0.1 ])\n",
       "\u001b[1;31mFile:\u001b[0m      c:\\users\\josep\\anaconda3\\lib\\site-packages\\sklearn\\metrics\\_ranking.py\n",
       "\u001b[1;31mType:\u001b[0m      function\n"
      ]
     },
     "metadata": {},
     "output_type": "display_data"
    }
   ],
   "source": [
    "?metrics.roc_curve"
   ]
  },
  {
   "cell_type": "code",
   "execution_count": 87,
   "id": "2ccbe88f-ac35-4543-a607-56e8d60f1b18",
   "metadata": {
    "tags": []
   },
   "outputs": [],
   "source": [
    "from sklearn.metrics import roc_curve, auc\n",
    "fpr, tpr, thresholds = roc_curve(ts_Y, predict_proba[:,0],pos_label = 0)\n",
    "auc_results = auc(fpr, tpr)"
   ]
  },
  {
   "cell_type": "code",
   "execution_count": 105,
   "id": "c3a160f1-b9cb-4fa0-a59c-4348ffc469df",
   "metadata": {},
   "outputs": [
    {
     "data": {
      "image/png": "[encoded data removed]",
      "text/plain": [
       "<Figure size 432x288 with 1 Axes>"
      ]
     },
     "metadata": {
      "needs_background": "light"
     },
     "output_type": "display_data"
    }
   ],
   "source": [
    "plt.figure()\n",
    "lw = 1\n",
    "plt.plot(\n",
    "    fpr,\n",
    "    tpr,\n",
    "    color=\"darkorange\",\n",
    "    lw=lw,\n",
    "    label=f'ROC curve (area = {np.round(auc_results,2)})',\n",
    ")\n",
    "plt.plot([0, 1], [0, 1], color=\"navy\", lw=lw, linestyle=\"--\")\n",
    "plt.xlim([0.0, 1.0])\n",
    "plt.ylim([0.0, 1.05])\n",
    "plt.xlabel(\"False Positive Rate\")\n",
    "plt.ylabel(\"True Positive Rate\")\n",
    "plt.title(\"Toy Example\")\n",
    "plt.legend(loc=\"lower right\")\n",
    "plt.show()"
   ]
  },
  {
   "cell_type": "markdown",
   "id": "181f839e-ccce-4703-93d6-2c1a789c6572",
   "metadata": {
    "tags": []
   },
   "source": [
    "#### manual calculation of AUC"
   ]
  },
  {
   "cell_type": "markdown",
   "id": "5906d3b5-44c7-428d-b07e-89cbfe228aaa",
   "metadata": {},
   "source": [
    "__tripozoidal approach__"
   ]
  },
  {
   "cell_type": "code",
   "execution_count": 102,
   "id": "df695e8a-a4a5-4c59-a9df-c61f6883d559",
   "metadata": {},
   "outputs": [
    {
     "data": {
      "text/plain": [
       "0.9820546426051013"
      ]
     },
     "execution_count": 102,
     "metadata": {},
     "output_type": "execute_result"
    }
   ],
   "source": [
    "sum((fpr[1:n_fpr] - fpr[:n_fpr-1]) * ( tpr[1:n_fpr] + tpr[:n_fpr-1]) /2)"
   ]
  },
  {
   "cell_type": "markdown",
   "id": "4520f42c-37bf-4235-9aa5-68797273480b",
   "metadata": {},
   "source": [
    "### `AdaBoost`"
   ]
  },
  {
   "cell_type": "code",
   "execution_count": 73,
   "id": "1fc2af4c-3fe6-4883-a235-a37d37ff2138",
   "metadata": {},
   "outputs": [],
   "source": [
    "from sklearn.ensemble import AdaBoostRegressor\n",
    "from sklearn.datasets import make_regression\n",
    "from sklearn.linear_model import ElasticNet\n",
    "X, y = make_regression(n_samples=1000, n_features=50, n_informative=10,noise= 2,\n",
    "                      random_state=0, shuffle=False)"
   ]
  },
  {
   "cell_type": "code",
   "execution_count": 74,
   "id": "d656d276-7d28-4652-9991-c6ece1f20a2c",
   "metadata": {},
   "outputs": [],
   "source": [
    "X_tr, X_ts, Y_tr, Y_ts = train_test_split(X, y, test_size = 0.2, random_state= 8888)"
   ]
  },
  {
   "cell_type": "code",
   "execution_count": 81,
   "id": "f046d43a-76bc-4a9f-8fff-50ee3ba3c504",
   "metadata": {},
   "outputs": [],
   "source": [
    "params_grid = {'alpha': np.logspace(-6,6,20),'l1_ratio': np.linspace(0,1,11)}"
   ]
  },
  {
   "cell_type": "code",
   "execution_count": 91,
   "id": "d3ac3b7d-5ebc-42a9-acfa-b2144fd280f6",
   "metadata": {},
   "outputs": [
    {
     "data": {
      "text/plain": [
       "GridSearchCV(cv=5, estimator=ElasticNet(), n_jobs=-1,\n",
       "             param_grid={'alpha': array([1.00000000e-06, 4.28133240e-06, 1.83298071e-05, 7.84759970e-05,\n",
       "       3.35981829e-04, 1.43844989e-03, 6.15848211e-03, 2.63665090e-02,\n",
       "       1.12883789e-01, 4.83293024e-01, 2.06913808e+00, 8.85866790e+00,\n",
       "       3.79269019e+01, 1.62377674e+02, 6.95192796e+02, 2.97635144e+03,\n",
       "       1.27427499e+04, 5.45559478e+04, 2.33572147e+05, 1.00000000e+06]),\n",
       "                         'l1_ratio': array([0. , 0.1, 0.2, 0.3, 0.4, 0.5, 0.6, 0.7, 0.8, 0.9, 1. ])})"
      ]
     },
     "execution_count": 91,
     "metadata": {},
     "output_type": "execute_result"
    }
   ],
   "source": [
    "en_model = ElasticNet()\n",
    "en_model_grid = GridSearchCV(model,param_grid = params_grid,cv=5, n_jobs=-1)\n",
    "en_model_grid.fit(X_tr,Y_tr)"
   ]
  },
  {
   "cell_type": "code",
   "execution_count": 92,
   "id": "daf4c495-77d1-4411-bbc7-fc658ee4d957",
   "metadata": {},
   "outputs": [
    {
     "data": {
      "text/plain": [
       "ElasticNet(alpha=0.11288378916846883, l1_ratio=1.0)"
      ]
     },
     "execution_count": 92,
     "metadata": {},
     "output_type": "execute_result"
    }
   ],
   "source": [
    "en_model_grid.best_estimator_"
   ]
  },
  {
   "cell_type": "code",
   "execution_count": 93,
   "id": "17f85387-a7a4-4d69-baaa-8c50d82fed8f",
   "metadata": {},
   "outputs": [
    {
     "data": {
      "text/plain": [
       "4.490568825516849"
      ]
     },
     "execution_count": 93,
     "metadata": {},
     "output_type": "execute_result"
    }
   ],
   "source": [
    "en_model_best_mse = mean_squared_error(en_model_grid.best_estimator_.predict(X_ts),Y_ts)\n",
    "en_model_best_mse"
   ]
  },
  {
   "cell_type": "code",
   "execution_count": 94,
   "id": "78f9b400-6f32-4084-aa7b-da3f940ca133",
   "metadata": {},
   "outputs": [
    {
     "data": {
      "text/plain": [
       "array([ 50, 100, 150, 200, 250, 300, 350, 400, 450, 500])"
      ]
     },
     "execution_count": 94,
     "metadata": {},
     "output_type": "execute_result"
    }
   ],
   "source": [
    "np.arange(50,501,50)"
   ]
  },
  {
   "cell_type": "code",
   "execution_count": 168,
   "id": "43bc9b93-dd2d-4cdb-83c7-12ce1f592066",
   "metadata": {},
   "outputs": [],
   "source": [
    "params_grid_boost = {'learning_rate':np.linspace(1,5,10), 'n_estimators':np.arange(2,20,1),'loss':[\"linear\", \"square\", \"exponential\"]} "
   ]
  },
  {
   "cell_type": "code",
   "execution_count": 173,
   "id": "b1450a84-5a2b-4cd8-b434-93c205a365f0",
   "metadata": {},
   "outputs": [
    {
     "data": {
      "text/plain": [
       "GridSearchCV(cv=5,\n",
       "             estimator=AdaBoostRegressor(base_estimator=ElasticNet(alpha=0.11288378916846883,\n",
       "                                                                   l1_ratio=1.0),\n",
       "                                         random_state=0),\n",
       "             n_jobs=-1,\n",
       "             param_grid={'learning_rate': array([1.        , 1.44444444, 1.88888889, 2.33333333, 2.77777778,\n",
       "       3.22222222, 3.66666667, 4.11111111, 4.55555556, 5.        ]),\n",
       "                         'loss': ['linear', 'square', 'exponential'],\n",
       "                         'n_estimators': array([ 2,  3,  4,  5,  6,  7,  8,  9, 10, 11, 12, 13, 14, 15, 16, 17, 18,\n",
       "       19])})"
      ]
     },
     "execution_count": 173,
     "metadata": {},
     "output_type": "execute_result"
    }
   ],
   "source": [
    "base_model = en_model_grid.best_estimator_\n",
    "adboost_regr = AdaBoostRegressor(base_estimator = base_model,random_state=0)\n",
    "ada_grid = GridSearchCV(adboost_regr,param_grid = params_grid_boost,cv=5, n_jobs=-1)\n",
    "ada_grid.fit(X_tr,Y_tr)"
   ]
  },
  {
   "cell_type": "code",
   "execution_count": 174,
   "id": "f17a40d5-0acc-46b6-8953-6bb7e66b4f4b",
   "metadata": {},
   "outputs": [
    {
     "data": {
      "text/plain": [
       "AdaBoostRegressor(base_estimator=ElasticNet(alpha=0.11288378916846883,\n",
       "                                            l1_ratio=1.0),\n",
       "                  loss='exponential', n_estimators=4, random_state=0)"
      ]
     },
     "execution_count": 174,
     "metadata": {},
     "output_type": "execute_result"
    }
   ],
   "source": [
    "ada_grid.best_estimator_"
   ]
  },
  {
   "cell_type": "code",
   "execution_count": 175,
   "id": "8340abc4-c5c7-4fcd-a3cf-dc685ddd956e",
   "metadata": {},
   "outputs": [
    {
     "data": {
      "text/plain": [
       "4.41862800471854"
      ]
     },
     "execution_count": 175,
     "metadata": {},
     "output_type": "execute_result"
    }
   ],
   "source": [
    "ada_en_model_best_mse = mean_squared_error(ada_grid.best_estimator_.predict(X_ts),Y_ts)\n",
    "ada_en_model_best_mse"
   ]
  },
  {
   "cell_type": "code",
   "execution_count": 176,
   "id": "e2f00c04-0bdb-45ba-86ef-12aa70d1d743",
   "metadata": {},
   "outputs": [
    {
     "data": {
      "text/plain": [
       "1.6"
      ]
     },
     "execution_count": 176,
     "metadata": {},
     "output_type": "execute_result"
    }
   ],
   "source": [
    "np.round((en_model_best_mse - ada_en_model_best_mse )/en_model_best_mse * 100,2)"
   ]
  },
  {
   "cell_type": "code",
   "execution_count": null,
   "id": "7e80bd16-1e84-4ca1-ac27-5826ec641924",
   "metadata": {},
   "outputs": [],
   "source": []
  }
 ],
 "metadata": {
  "kernelspec": {
   "display_name": "Python 3 (ipykernel)",
   "language": "python",
   "name": "python3"
  },
  "language_info": {
   "codemirror_mode": {
    "name": "ipython",
    "version": 3
   },
   "file_extension": ".py",
   "mimetype": "text/x-python",
   "name": "python",
   "nbconvert_exporter": "python",
   "pygments_lexer": "ipython3",
   "version": "3.9.7"
  }
 },
 "nbformat": 4,
 "nbformat_minor": 5
}
