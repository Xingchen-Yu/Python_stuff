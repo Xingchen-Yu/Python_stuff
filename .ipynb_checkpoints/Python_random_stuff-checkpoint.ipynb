{
 "cells": [
  {
   "cell_type": "code",
   "execution_count": 1,
   "id": "290c3bd7-785c-468e-a608-5411d56ef9b5",
   "metadata": {},
   "outputs": [],
   "source": [
    "import numpy as np"
   ]
  },
  {
   "cell_type": "markdown",
   "id": "d400cf00-52b9-438a-b050-d407fb29eb04",
   "metadata": {},
   "source": [
    "### create heterogeneous lists\n",
    "\n",
    "But this flexibility comes at a cost: to allow these flexible types, each item in the list must contain its own type info, reference count, and other information–that is, each item is a complete Python object. In the special case that all variables are of the same type, much of this information is redundant: it can be much more efficient to store data in a fixed-type array. "
   ]
  },
  {
   "cell_type": "code",
   "execution_count": 2,
   "id": "3ba629b6-437b-4162-99b1-e40e6d37f0cb",
   "metadata": {},
   "outputs": [
    {
     "data": {
      "text/plain": [
       "[bool, str, float, int]"
      ]
     },
     "execution_count": 2,
     "metadata": {},
     "output_type": "execute_result"
    }
   ],
   "source": [
    "L3 = [True, \"2\", 3.0, 4]\n",
    "[type(item) for item in L3]"
   ]
  },
  {
   "cell_type": "markdown",
   "id": "7162a3ca-b06c-4cec-a69c-f0fc69844a5f",
   "metadata": {},
   "source": [
    "### fixed type"
   ]
  },
  {
   "cell_type": "code",
   "execution_count": 6,
   "id": "9c6d1eaf-4f22-4676-849c-82b817bff8a1",
   "metadata": {},
   "outputs": [
    {
     "data": {
      "text/plain": [
       "array([[2, 3, 4],\n",
       "       [4, 5, 6],\n",
       "       [6, 7, 8]])"
      ]
     },
     "execution_count": 6,
     "metadata": {},
     "output_type": "execute_result"
    }
   ],
   "source": [
    "x = np.array([range(i, i + 3) for i in [2, 4, 6]])\n",
    "x"
   ]
  },
  {
   "cell_type": "markdown",
   "id": "15059c79-f89f-4db5-a27c-13a2a4982341",
   "metadata": {},
   "source": [
    "### numpy functions"
   ]
  },
  {
   "cell_type": "markdown",
   "id": "7f2b19ee-a036-4daf-becc-268ff1961bbc",
   "metadata": {},
   "source": [
    "difference between `np.arrange` and `np.linspace`"
   ]
  },
  {
   "cell_type": "code",
   "execution_count": 9,
   "id": "8b2d307d-22a6-46bd-9b74-d9af150d9642",
   "metadata": {},
   "outputs": [
    {
     "data": {
      "text/plain": [
       "array([ 0,  2,  4,  6,  8, 10, 12, 14, 16, 18])"
      ]
     },
     "execution_count": 9,
     "metadata": {},
     "output_type": "execute_result"
    }
   ],
   "source": [
    "np.arange(0, 20, 2)"
   ]
  },
  {
   "cell_type": "code",
   "execution_count": 12,
   "id": "237a4d77-dba2-4959-8a0f-324c78fd6e9c",
   "metadata": {},
   "outputs": [
    {
     "data": {
      "text/plain": [
       "array([ 0.,  2.,  4.,  6.,  8., 10., 12., 14., 16., 18.])"
      ]
     },
     "execution_count": 12,
     "metadata": {},
     "output_type": "execute_result"
    }
   ],
   "source": [
    "np.linspace(0,18,10)"
   ]
  },
  {
   "cell_type": "markdown",
   "id": "ddfabe40-4f7c-44d3-be2d-2e6af144f7bd",
   "metadata": {},
   "source": [
    "### numpy distributions"
   ]
  },
  {
   "cell_type": "code",
   "execution_count": 20,
   "id": "f1e838b1-fc6d-4d5a-ab8f-ee7661b33e35",
   "metadata": {},
   "outputs": [
    {
     "data": {
      "text/plain": [
       "array([3.00076968, 4.0011984 , 4.94693757])"
      ]
     },
     "execution_count": 20,
     "metadata": {},
     "output_type": "execute_result"
    }
   ],
   "source": [
    "## uniform (a,b)\n",
    "a = 3\n",
    "b = 5\n",
    "out = np.random.random(100) * (b-a) + a\n",
    "np.quantile(out,[0,0.5,1])"
   ]
  },
  {
   "cell_type": "code",
   "execution_count": 33,
   "id": "622a8b83-9e9d-4e28-8b3f-a67d42bdb5a8",
   "metadata": {},
   "outputs": [
    {
     "data": {
      "text/plain": [
       "array([[ 1.31970288, -0.3063791 , -2.06636449, -0.3009498 , -0.58731355],\n",
       "       [-1.65031391, -1.11686232,  0.36602873, -0.98115691, -1.52107592]])"
      ]
     },
     "execution_count": 33,
     "metadata": {},
     "output_type": "execute_result"
    }
   ],
   "source": [
    "## normal (mean, sd)\n",
    "np.random.normal(loc = 0,scale=1,size=10)\n",
    "np.random.normal(loc = 0,scale=1,size=(2,5))"
   ]
  },
  {
   "cell_type": "code",
   "execution_count": 30,
   "id": "f9a42628-8987-488f-a8c8-6e500c57d7e2",
   "metadata": {},
   "outputs": [
    {
     "data": {
      "text/plain": [
       "array(['a', 'b', 'a', 'b', 'b'], dtype='<U1')"
      ]
     },
     "execution_count": 30,
     "metadata": {},
     "output_type": "execute_result"
    }
   ],
   "source": [
    "## multinomial like sample in R\n",
    "np.random.choice(np.array(['a','b']),size=5,replace=True,p=[0.1,0.9])"
   ]
  },
  {
   "cell_type": "code",
   "execution_count": 34,
   "id": "241638ea-1a70-40c3-af9c-8ef40bcde990",
   "metadata": {},
   "outputs": [
    {
     "data": {
      "text/plain": [
       "9"
      ]
     },
     "execution_count": 37,
     "metadata": {},
     "output_type": "execute_result"
    }
   ],
   "source": [
    "## sample random intergers from discrete 0 to 9\n",
    "np.random.randint(0, 10, (3, 3))"
   ]
  }
 ],
 "metadata": {
  "kernelspec": {
   "display_name": "Python 3 (ipykernel)",
   "language": "python",
   "name": "python3"
  },
  "language_info": {
   "codemirror_mode": {
    "name": "ipython",
    "version": 3
   },
   "file_extension": ".py",
   "mimetype": "text/x-python",
   "name": "python",
   "nbconvert_exporter": "python",
   "pygments_lexer": "ipython3",
   "version": "3.9.7"
  }
 },
 "nbformat": 4,
 "nbformat_minor": 5
}
