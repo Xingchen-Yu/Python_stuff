{
 "cells": [
  {
   "cell_type": "markdown",
   "id": "d20beb5c-3284-4b3e-a085-76fc37195d6b",
   "metadata": {},
   "source": [
    "## Low rank Kernel Approximation `Nystroem`"
   ]
  },
  {
   "cell_type": "code",
   "execution_count": 1,
   "id": "f1531be6-b8a4-4fb0-8b7d-fcb1aee609ec",
   "metadata": {},
   "outputs": [],
   "source": [
    "from sklearn.model_selection import train_test_split\n",
    "from sklearn import datasets, svm\n",
    "from sklearn.metrics import confusion_matrix\n",
    "from sklearn import datasets, svm\n",
    "from sklearn.metrics import confusion_matrix\n",
    "from sklearn.kernel_approximation import Nystroem\n",
    "from sklearn.svm import SVR\n",
    "import numpy as np"
   ]
  },
  {
   "cell_type": "code",
   "execution_count": 2,
   "id": "29d7cf97-4739-40b7-adf4-6bb85d4a801c",
   "metadata": {},
   "outputs": [],
   "source": [
    "X, y = datasets.load_digits(n_class=9, return_X_y=True)\n",
    "data = X / 16.\n",
    "clf = svm.LinearSVC()\n",
    "feature_map_nystroem = Nystroem(gamma=.2,\n",
    "                                 random_state=1,\n",
    "                                 n_components=300)\n",
    "X_train, X_test, y_train, y_test = train_test_split(data, y, test_size=0.2, random_state=42)\n",
    "low_ranker = feature_map_nystroem.fit(X_train)\n",
    "X_train = low_ranker.transform(X_train)\n",
    "X_test = low_ranker.transform(X_test)"
   ]
  },
  {
   "cell_type": "code",
   "execution_count": 3,
   "id": "a408fc9a-de3b-48a2-9c15-01dc5c089fea",
   "metadata": {},
   "outputs": [
    {
     "data": {
      "text/plain": [
       "0.9976798143851509"
      ]
     },
     "execution_count": 3,
     "metadata": {},
     "output_type": "execute_result"
    }
   ],
   "source": [
    "clf.fit(X_train, y_train)\n",
    "clf.score(X_train, y_train)"
   ]
  },
  {
   "cell_type": "code",
   "execution_count": 4,
   "id": "682fb986-4640-43f6-a421-ce5b8b0f3794",
   "metadata": {},
   "outputs": [
    {
     "data": {
      "text/plain": [
       "array([[136,   0,   0,   0,   0,   0,   0,   0,   0],\n",
       "       [  0, 157,   0,   0,   0,   0,   0,   0,   2],\n",
       "       [  0,   0, 131,   0,   0,   0,   0,   0,   0],\n",
       "       [  0,   0,   0, 145,   0,   1,   0,   0,   0],\n",
       "       [  0,   0,   0,   0, 150,   0,   0,   0,   0],\n",
       "       [  0,   0,   0,   0,   0, 140,   0,   0,   0],\n",
       "       [  0,   0,   0,   0,   0,   0, 147,   0,   0],\n",
       "       [  0,   0,   0,   0,   0,   0,   0, 144,   0],\n",
       "       [  0,   0,   0,   0,   0,   0,   0,   0, 140]], dtype=int64)"
      ]
     },
     "execution_count": 4,
     "metadata": {},
     "output_type": "execute_result"
    }
   ],
   "source": [
    "confusion_matrix(clf.predict(X_train), y_train)"
   ]
  },
  {
   "cell_type": "code",
   "execution_count": 5,
   "id": "6e5d4351-56cc-40a1-9b65-2aa359b372a8",
   "metadata": {},
   "outputs": [
    {
     "data": {
      "text/plain": [
       "array([[42,  0,  0,  0,  0,  0,  0,  0,  0],\n",
       "       [ 0, 24,  0,  0,  0,  0,  0,  0,  0],\n",
       "       [ 0,  0, 46,  0,  0,  0,  0,  0,  0],\n",
       "       [ 0,  0,  0, 38,  0,  0,  0,  0,  0],\n",
       "       [ 0,  0,  0,  0, 31,  0,  0,  0,  0],\n",
       "       [ 0,  1,  0,  0,  0, 41,  0,  0,  0],\n",
       "       [ 0,  0,  0,  0,  0,  0, 34,  0,  0],\n",
       "       [ 0,  0,  0,  0,  0,  0,  0, 35,  1],\n",
       "       [ 0,  0,  0,  0,  0,  0,  0,  0, 31]], dtype=int64)"
      ]
     },
     "execution_count": 5,
     "metadata": {},
     "output_type": "execute_result"
    }
   ],
   "source": [
    "confusion_matrix(clf.predict(X_test), y_test)"
   ]
  },
  {
   "cell_type": "code",
   "execution_count": null,
   "id": "eb45ae54-2f69-433b-a023-f70e8bf844b7",
   "metadata": {},
   "outputs": [],
   "source": []
  }
 ],
 "metadata": {
  "kernelspec": {
   "display_name": "Python 3 (ipykernel)",
   "language": "python",
   "name": "python3"
  },
  "language_info": {
   "codemirror_mode": {
    "name": "ipython",
    "version": 3
   },
   "file_extension": ".py",
   "mimetype": "text/x-python",
   "name": "python",
   "nbconvert_exporter": "python",
   "pygments_lexer": "ipython3",
   "version": "3.9.7"
  }
 },
 "nbformat": 4,
 "nbformat_minor": 5
}
