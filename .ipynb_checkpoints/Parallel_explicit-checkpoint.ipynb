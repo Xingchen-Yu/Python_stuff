{
 "cells": [
  {
   "cell_type": "markdown",
   "id": "7b47b9ed-5b0c-45a2-bc89-7c492dd5d168",
   "metadata": {},
   "source": [
    "#### faster pandas through numpy, vectorization and parallel computing\n",
    "\n",
    "https://yuanjiang.space/threadpoolexecutor-map-method-with-multiple-parameters parallel trick"
   ]
  },
  {
   "cell_type": "code",
   "execution_count": 1,
   "id": "7e5805f5-28c7-4019-8585-ef5f0b3fdcf5",
   "metadata": {},
   "outputs": [],
   "source": [
    "import numpy as np\n",
    "import pandas as pd"
   ]
  },
  {
   "cell_type": "code",
   "execution_count": 2,
   "id": "ba8036b0-9852-4d60-a024-cc1b37919c59",
   "metadata": {},
   "outputs": [],
   "source": [
    "df = pd.DataFrame(np.random.normal(size=(10000,2)))"
   ]
  },
  {
   "cell_type": "code",
   "execution_count": 3,
   "id": "f40799cc-b65b-47a0-b310-436dcb14bcb3",
   "metadata": {},
   "outputs": [],
   "source": [
    "def sum_square(a,b):\n",
    "    return (a + b)**2"
   ]
  },
  {
   "cell_type": "code",
   "execution_count": 4,
   "id": "feff5fc2-0300-47db-98a3-0614493e2f22",
   "metadata": {
    "tags": []
   },
   "outputs": [
    {
     "name": "stdout",
     "output_type": "stream",
     "text": [
      "205 ms ± 3.1 ms per loop (mean ± std. dev. of 7 runs, 1 loop each)\n"
     ]
    }
   ],
   "source": [
    "%timeit [sum_square(row[0], row[1]) for _, row in df.iterrows()]"
   ]
  },
  {
   "cell_type": "code",
   "execution_count": 5,
   "id": "d642ef13-e517-4a14-90bc-a6ae48ab29a1",
   "metadata": {},
   "outputs": [
    {
     "name": "stdout",
     "output_type": "stream",
     "text": [
      "4.82 ms ± 69 µs per loop (mean ± std. dev. of 7 runs, 100 loops each)\n"
     ]
    }
   ],
   "source": [
    "%timeit [sum_square(a, b) for a, b in df[[0, 1]].itertuples(index=False)]"
   ]
  },
  {
   "cell_type": "code",
   "execution_count": 6,
   "id": "4fe885e3-80ae-409d-8048-d64bf16cc31a",
   "metadata": {},
   "outputs": [
    {
     "name": "stdout",
     "output_type": "stream",
     "text": [
      "54.8 ms ± 479 µs per loop (mean ± std. dev. of 7 runs, 10 loops each)\n"
     ]
    }
   ],
   "source": [
    "%timeit df.apply(lambda row: sum_square(row[0], row[1]), axis=1 )"
   ]
  },
  {
   "cell_type": "code",
   "execution_count": 7,
   "id": "e83858ca-1c63-4f74-bb6a-3ebb3222dafe",
   "metadata": {},
   "outputs": [
    {
     "name": "stdout",
     "output_type": "stream",
     "text": [
      "18.7 ms ± 148 µs per loop (mean ± std. dev. of 7 runs, 100 loops each)\n"
     ]
    }
   ],
   "source": [
    "%timeit df.apply(lambda row: sum_square(row[0], row[1]), raw=True, axis=1 )"
   ]
  },
  {
   "cell_type": "code",
   "execution_count": 8,
   "id": "0276c77b-5d20-4eee-82c1-96e7aabebd45",
   "metadata": {},
   "outputs": [
    {
     "name": "stdout",
     "output_type": "stream",
     "text": [
      "1.86 ms ± 26.5 µs per loop (mean ± std. dev. of 7 runs, 1000 loops each)\n"
     ]
    }
   ],
   "source": [
    "%timeit np.vectorize(sum_square)(df[0], df[1])"
   ]
  },
  {
   "cell_type": "code",
   "execution_count": 9,
   "id": "28ba5439-b8c7-446f-8a9c-1a9d775cbae5",
   "metadata": {},
   "outputs": [
    {
     "name": "stdout",
     "output_type": "stream",
     "text": [
      "102 µs ± 1.03 µs per loop (mean ± std. dev. of 7 runs, 10000 loops each)\n"
     ]
    }
   ],
   "source": [
    "%timeit np.power(df[0] + df[1], 2)"
   ]
  },
  {
   "cell_type": "code",
   "execution_count": 10,
   "id": "223f8aba-1258-46b8-a2a4-8ee34b4497d8",
   "metadata": {},
   "outputs": [
    {
     "name": "stdout",
     "output_type": "stream",
     "text": [
      "98.5 µs ± 813 ns per loop (mean ± std. dev. of 7 runs, 10000 loops each)\n"
     ]
    }
   ],
   "source": [
    "%timeit sum_square(df,df)"
   ]
  },
  {
   "cell_type": "code",
   "execution_count": 56,
   "id": "4f4c5bd3-c6f3-46cf-8d2e-35117ddbc586",
   "metadata": {},
   "outputs": [],
   "source": [
    "n_core = 12\n",
    "df_split = np.array_split(df, n_core)"
   ]
  },
  {
   "cell_type": "code",
   "execution_count": 57,
   "id": "c3e3f528-9f20-4e4d-bf76-5625b66ec9c0",
   "metadata": {},
   "outputs": [],
   "source": [
    "import concurrent.futures\n",
    "pool = concurrent.futures.ThreadPoolExecutor(max_workers = n_core)\n",
    "#pool = concurrent.futures.ProcessPoolExecutor(max_workers = n_core)"
   ]
  },
  {
   "cell_type": "markdown",
   "id": "47a94abc-53a1-4637-bb5c-3398c1fa3b42",
   "metadata": {},
   "source": [
    "#### simple function parallel"
   ]
  },
  {
   "cell_type": "code",
   "execution_count": 58,
   "id": "8c8e67fb-5246-4be7-a6eb-f035076af0c2",
   "metadata": {},
   "outputs": [],
   "source": [
    "import sys\n",
    "import temp_func as tf"
   ]
  },
  {
   "cell_type": "code",
   "execution_count": 59,
   "id": "c8b50e55-203f-4338-b5dc-729ad4b3e197",
   "metadata": {
    "tags": []
   },
   "outputs": [
    {
     "name": "stdout",
     "output_type": "stream",
     "text": [
      "1.62 ms ± 9.58 µs per loop (mean ± std. dev. of 7 runs, 1000 loops each)\n"
     ]
    }
   ],
   "source": [
    "%timeit pd.concat(pool.map(sum_square, df_split,df_split))"
   ]
  },
  {
   "cell_type": "code",
   "execution_count": 10,
   "id": "5877acce-589d-4fe4-b1ea-5c6218347588",
   "metadata": {},
   "outputs": [
    {
     "name": "stdout",
     "output_type": "stream",
     "text": [
      "904 µs ± 8.76 µs per loop (mean ± std. dev. of 7 runs, 1000 loops each)\n"
     ]
    }
   ],
   "source": [
    "%timeit pd.concat(pool.map(tf.sum_square, df_split,df_split))"
   ]
  },
  {
   "cell_type": "markdown",
   "id": "ddbae03d-4bab-4056-b335-79b6af0a609c",
   "metadata": {},
   "source": [
    "#### grid search parallel"
   ]
  },
  {
   "cell_type": "code",
   "execution_count": 51,
   "id": "546394ea-f967-48bb-930e-9e914afbf9f0",
   "metadata": {},
   "outputs": [],
   "source": [
    "import numpy as np\n",
    "from joblib import parallel_backend # added line.\n",
    "from sklearn.datasets import load_digits\n",
    "from sklearn.model_selection import ParameterGrid\n",
    "from sklearn.svm import SVC      \n",
    "\n",
    "param_space = list(ParameterGrid({\n",
    "    'C': [0.1,1,3,5],\n",
    "    'gamma':[1,2,5],\n",
    "}))"
   ]
  },
  {
   "cell_type": "code",
   "execution_count": 52,
   "id": "5e3f17ee-499e-4595-a9b4-5524364b7dc0",
   "metadata": {},
   "outputs": [],
   "source": [
    "n_set = len(param_space)"
   ]
  },
  {
   "cell_type": "code",
   "execution_count": 114,
   "id": "2781609a-8efc-4982-8158-664f5229db79",
   "metadata": {},
   "outputs": [],
   "source": [
    "digits = load_digits()\n",
    "def train_all(df, param_space):\n",
    "    n_set = len(param_space)\n",
    "    predict_out = np.array([])\n",
    "    for param in param_space:\n",
    "        model = SVC(kernel='rbf',C = param['C'], gamma = param['gamma'],random_state=0)\n",
    "        model.fit(df.data, df.target)\n",
    "        predict_out = np.concatenate((predict_out, model.predict(df.data)))\n",
    "    return predict_out"
   ]
  },
  {
   "cell_type": "code",
   "execution_count": 115,
   "id": "203193ff-7b07-42bd-9e83-60fad11d282b",
   "metadata": {},
   "outputs": [
    {
     "name": "stdout",
     "output_type": "stream",
     "text": [
      "7.1 s ± 0 ns per loop (mean ± std. dev. of 1 run, 1 loop each)\n"
     ]
    }
   ],
   "source": [
    "%timeit -r1 -n1 train_all(digits,param_space)"
   ]
  },
  {
   "cell_type": "code",
   "execution_count": 139,
   "id": "0af3b0f1-4fd3-4cb5-a104-ec19fd876f85",
   "metadata": {},
   "outputs": [],
   "source": [
    "kobe = train_all(digits,param_space)"
   ]
  },
  {
   "cell_type": "code",
   "execution_count": 140,
   "id": "93f0c731-81ff-4669-a911-dc17b40b483a",
   "metadata": {},
   "outputs": [
    {
     "data": {
      "text/plain": [
       "(21564,)"
      ]
     },
     "execution_count": 140,
     "metadata": {},
     "output_type": "execute_result"
    }
   ],
   "source": [
    "kobe.shape"
   ]
  },
  {
   "cell_type": "code",
   "execution_count": 108,
   "id": "bb25111a-adcb-460d-ac88-bd6f0e6cbfb6",
   "metadata": {},
   "outputs": [],
   "source": [
    "param_space_split = np.array_split(param_space, n_core)"
   ]
  },
  {
   "cell_type": "code",
   "execution_count": 109,
   "id": "093a4703-cba6-4653-a97d-2fa223bf93db",
   "metadata": {},
   "outputs": [],
   "source": [
    "from itertools import repeat"
   ]
  },
  {
   "cell_type": "code",
   "execution_count": 113,
   "id": "82f676c7-fca9-4e4d-b3b0-cbf24c727316",
   "metadata": {},
   "outputs": [
    {
     "name": "stdout",
     "output_type": "stream",
     "text": [
      "64.3 µs ± 0 ns per loop (mean ± std. dev. of 1 run, 1 loop each)\n"
     ]
    }
   ],
   "source": [
    "%timeit -r1 -n1 pool.map(train_all,repeat(digits),param_space_split)"
   ]
  },
  {
   "cell_type": "code",
   "execution_count": 137,
   "id": "5773ae21-1391-41d0-b1d7-a5b508213a9e",
   "metadata": {},
   "outputs": [
    {
     "name": "stderr",
     "output_type": "stream",
     "text": [
      "C:\\Users\\josep\\AppData\\Local\\Temp/ipykernel_9484/1877725765.py:1: FutureWarning: arrays to stack must be passed as a \"sequence\" type such as list or tuple. Support for non-sequence iterables such as generators is deprecated as of NumPy 1.16 and will raise an error in the future.\n",
      "  out =  np.hstack(pool.map(train_all,repeat(digits),param_space_split))\n"
     ]
    }
   ],
   "source": [
    "out =  np.hstack(pool.map(train_all,repeat(digits),param_space_split))"
   ]
  },
  {
   "cell_type": "code",
   "execution_count": 141,
   "id": "1334f906-fc8f-4ff9-9eb3-7090fcd1c257",
   "metadata": {},
   "outputs": [
    {
     "data": {
      "text/plain": [
       "True"
      ]
     },
     "execution_count": 141,
     "metadata": {},
     "output_type": "execute_result"
    }
   ],
   "source": [
    "np.array_equal(out,kobe)"
   ]
  },
  {
   "cell_type": "code",
   "execution_count": 124,
   "id": "0d8404a3-0c8b-4191-9f6f-66250d33136c",
   "metadata": {},
   "outputs": [
    {
     "data": {
      "text/plain": [
       "[{'C': 0.1, 'gamma': 1},\n",
       " {'C': 0.1, 'gamma': 2},\n",
       " {'C': 0.1, 'gamma': 5},\n",
       " {'C': 1, 'gamma': 1},\n",
       " {'C': 1, 'gamma': 2},\n",
       " {'C': 1, 'gamma': 5},\n",
       " {'C': 3, 'gamma': 1},\n",
       " {'C': 3, 'gamma': 2},\n",
       " {'C': 3, 'gamma': 5},\n",
       " {'C': 5, 'gamma': 1},\n",
       " {'C': 5, 'gamma': 2},\n",
       " {'C': 5, 'gamma': 5}]"
      ]
     },
     "execution_count": 124,
     "metadata": {},
     "output_type": "execute_result"
    }
   ],
   "source": [
    "param_space"
   ]
  },
  {
   "cell_type": "code",
   "execution_count": null,
   "id": "6d3e76ac-eb92-4a38-a309-b4b2150be928",
   "metadata": {},
   "outputs": [],
   "source": []
  }
 ],
 "metadata": {
  "kernelspec": {
   "display_name": "Python 3 (ipykernel)",
   "language": "python",
   "name": "python3"
  },
  "language_info": {
   "codemirror_mode": {
    "name": "ipython",
    "version": 3
   },
   "file_extension": ".py",
   "mimetype": "text/x-python",
   "name": "python",
   "nbconvert_exporter": "python",
   "pygments_lexer": "ipython3",
   "version": "3.9.7"
  }
 },
 "nbformat": 4,
 "nbformat_minor": 5
}
