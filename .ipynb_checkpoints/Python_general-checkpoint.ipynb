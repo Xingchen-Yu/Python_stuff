{
 "cells": [
  {
   "cell_type": "markdown",
   "id": "72a3b37b-913e-47e4-9066-aa62b03c4b41",
   "metadata": {
    "tags": []
   },
   "source": [
    "## `*args` and `**kwargs` \n",
    "- `*args` (Non-Keyword Arguments): single asterisk (*) to unpack iterables\n",
    "\n",
    "- `**kwargs` (Keyword Arguments): use two asterisks (**) to unpack dictionaries\n",
    "\n",
    "__where args and kwargs are just names, can be changed to anything__\n",
    "\n",
    "see `myfun4` for direct example.\n",
    "\n",
    "We use the “wildcard” or “*” notation like this – *args OR **kwargs – as our function’s argument when we have doubts about the number of  arguments we should pass in a function.” "
   ]
  },
  {
   "cell_type": "markdown",
   "id": "8eaa1256-b549-4fac-ab02-eaa9eaf9fced",
   "metadata": {},
   "source": [
    "Using the *, the variable that we associate with the * becomes an iterable meaning you can do things like iterate over it, run some higher-order functions such as map and filter, etc."
   ]
  },
  {
   "cell_type": "code",
   "execution_count": 7,
   "id": "796a7d47-ef29-4d23-a94d-1b9b49f57285",
   "metadata": {},
   "outputs": [
    {
     "name": "stdout",
     "output_type": "stream",
     "text": [
      "Hello\n",
      "Welcome\n",
      "to\n",
      "GeeksforGeeks\n"
     ]
    }
   ],
   "source": [
    "def myFun(*argv):\n",
    "    for arg in argv:\n",
    "        print (arg)\n",
    "\n",
    "myFun('Hello', 'Welcome', 'to', 'GeeksforGeeks')\n"
   ]
  },
  {
   "cell_type": "markdown",
   "id": "d5f739d2-9b0a-46e6-a359-53ffb3763607",
   "metadata": {},
   "source": [
    "__`*argv` not a list but a tuple__"
   ]
  },
  {
   "cell_type": "code",
   "execution_count": 31,
   "id": "639667bb-5a7d-4374-a6ed-982bc0d94df2",
   "metadata": {},
   "outputs": [
    {
     "name": "stdout",
     "output_type": "stream",
     "text": [
      "(1, 10)\n"
     ]
    }
   ],
   "source": [
    "def print_stuff(*argv):\n",
    "    print(argv)\n",
    "print_stuff(1,10)"
   ]
  },
  {
   "cell_type": "code",
   "execution_count": 6,
   "id": "fad5fb75-63ee-4334-a3a9-239f68e275f6",
   "metadata": {},
   "outputs": [
    {
     "name": "stdout",
     "output_type": "stream",
     "text": [
      "First argument : Hello\n",
      "Next argument through *argv : Welcome\n",
      "Next argument through *argv : to\n",
      "Next argument through *argv : GeeksforGeeks\n"
     ]
    }
   ],
   "source": [
    "def myFun2(arg1, *argv):\n",
    "    print (\"First argument :\", arg1)\n",
    "    for arg in argv:\n",
    "        print(\"Next argument through *argv :\", arg)\n",
    "myFun2('Hello', 'Welcome', 'to', 'GeeksforGeeks')"
   ]
  },
  {
   "cell_type": "markdown",
   "id": "0427d412-8545-4045-af82-887f5b6cac2c",
   "metadata": {},
   "source": [
    "__One can think of the kwargs as being a dictionary that maps each keyword to the value that we pass alongside it. That is why when we iterate over the kwargs there doesn’t seem to be any order in which they were printed out.__"
   ]
  },
  {
   "cell_type": "code",
   "execution_count": 9,
   "id": "1969f002-040e-49e4-ae7a-a6fc39538257",
   "metadata": {},
   "outputs": [
    {
     "name": "stdout",
     "output_type": "stream",
     "text": [
      "first == Geeks\n",
      "mid == for\n",
      "last == Geeks\n"
     ]
    }
   ],
   "source": [
    "def myFun3(**kwargs): \n",
    "    for key, value in kwargs.items():\n",
    "        #print (\"%s == %s\" %(key, value))\n",
    "        print(f'{key} == {value}')\n",
    "## Driver code\n",
    "myFun3(first ='Geeks', mid ='for', last='Geeks')    "
   ]
  },
  {
   "cell_type": "markdown",
   "id": "10a1d4cf-0c20-4955-bebc-41edc132e2f8",
   "metadata": {},
   "source": [
    "__good for wrapper functions in which multiple arguments are passed to the inner function__"
   ]
  },
  {
   "cell_type": "code",
   "execution_count": 21,
   "id": "f548c6ec-f8ef-4e9a-9fc4-1e3cbeffdffb",
   "metadata": {},
   "outputs": [
    {
     "name": "stdout",
     "output_type": "stream",
     "text": [
      "Non-Keyword Arguments \n",
      "\n",
      "arg1: Geeks\n",
      "arg2: for\n",
      "arg3: Geeks\n",
      "\n",
      "Keyword Arguments\n",
      "\n",
      "arg1: Geeks\n",
      "arg2: for\n",
      "arg3: Geeks\n",
      "\n",
      "Keyword Arguments 2\n",
      "\n",
      "arg1: Geeks\n",
      "arg2: for\n",
      "arg3: Geeks\n"
     ]
    }
   ],
   "source": [
    "def myFun4(arg1, arg2, arg3):\n",
    "    print(\"arg1:\", arg1)\n",
    "    print(\"arg2:\", arg2)\n",
    "    print(\"arg3:\", arg3)\n",
    "    \n",
    "def myFun5(**kwargs):\n",
    "    myFun4(**kwargs)\n",
    "    \n",
    "print('Non-Keyword Arguments \\n')\n",
    "args = (\"Geeks\", \"for\", \"Geeks\")\n",
    "myFun4(*args)\n",
    "print('\\nKeyword Arguments\\n')\n",
    "\n",
    "kwargs = {\"arg1\" : \"Geeks\", \"arg2\" : \"for\", \"arg3\" : \"Geeks\"}\n",
    "myFun4(**kwargs)\n",
    "\n",
    "print('\\nKeyword Arguments 2\\n')\n",
    "myFun5(arg1 = \"Geeks\", arg2 = \"for\", arg3 = \"Geeks\")"
   ]
  },
  {
   "cell_type": "markdown",
   "id": "0bb9bacb-404d-4108-b459-d9f25296ce53",
   "metadata": {
    "tags": []
   },
   "source": [
    "### ordering\n",
    "- Standard arguments\n",
    "- *args arguments\n",
    "- **kwargs arguments"
   ]
  },
  {
   "cell_type": "code",
   "execution_count": 33,
   "id": "76923994-1845-4f5d-8ed7-7f98bdf9be1b",
   "metadata": {},
   "outputs": [],
   "source": [
    "def my_function(a, b, *args, **kwargs):\n",
    "    pass"
   ]
  },
  {
   "cell_type": "markdown",
   "id": "d5186ddc-6dc3-4213-b9f7-b8a8b360e976",
   "metadata": {},
   "source": [
    "## Unpacking operator"
   ]
  },
  {
   "cell_type": "code",
   "execution_count": 37,
   "id": "820aca3b-d304-4ea9-86f7-3dc1b616bb72",
   "metadata": {},
   "outputs": [],
   "source": [
    "a = [1,3,5]"
   ]
  },
  {
   "cell_type": "code",
   "execution_count": 38,
   "id": "384e54aa-2576-4375-a284-61216f3d0c00",
   "metadata": {},
   "outputs": [
    {
     "name": "stdout",
     "output_type": "stream",
     "text": [
      "[1, 3, 5]\n"
     ]
    }
   ],
   "source": [
    "print(a)"
   ]
  },
  {
   "cell_type": "code",
   "execution_count": 48,
   "id": "31478ce9-ca1a-463f-a8ad-c18186bd1194",
   "metadata": {},
   "outputs": [
    {
     "name": "stdout",
     "output_type": "stream",
     "text": [
      "1 3 5\n"
     ]
    }
   ],
   "source": [
    "print(*a)"
   ]
  },
  {
   "cell_type": "code",
   "execution_count": 47,
   "id": "09c864cb-b8c6-419f-bf7d-6a38417cd657",
   "metadata": {},
   "outputs": [
    {
     "data": {
      "text/plain": [
       "9"
      ]
     },
     "execution_count": 47,
     "metadata": {},
     "output_type": "execute_result"
    }
   ],
   "source": [
    "sum(a)"
   ]
  },
  {
   "cell_type": "markdown",
   "id": "5b688501-805a-4863-98a5-aa4e29fee014",
   "metadata": {},
   "source": [
    "__number of args must match__"
   ]
  },
  {
   "cell_type": "code",
   "execution_count": 41,
   "id": "67f2f9e4-3fbc-4207-94cf-ce2fdade44fe",
   "metadata": {},
   "outputs": [
    {
     "name": "stdout",
     "output_type": "stream",
     "text": [
      "6\n"
     ]
    }
   ],
   "source": [
    "def my_sum(a, b, c):\n",
    "    print(a + b + c)\n",
    "\n",
    "my_list = [1, 2, 3]\n",
    "my_sum(*my_list)"
   ]
  },
  {
   "cell_type": "code",
   "execution_count": 42,
   "id": "4183dc08-92b3-4b66-92e0-bbe433478f3a",
   "metadata": {},
   "outputs": [
    {
     "ename": "TypeError",
     "evalue": "my_sum() takes 3 positional arguments but 4 were given",
     "output_type": "error",
     "traceback": [
      "\u001b[1;31m---------------------------------------------------------------------------\u001b[0m",
      "\u001b[1;31mTypeError\u001b[0m                                 Traceback (most recent call last)",
      "\u001b[1;32m~\\AppData\\Local\\Temp/ipykernel_5420/1301026290.py\u001b[0m in \u001b[0;36m<module>\u001b[1;34m\u001b[0m\n\u001b[0;32m      1\u001b[0m \u001b[0mmy_list\u001b[0m \u001b[1;33m=\u001b[0m \u001b[1;33m[\u001b[0m\u001b[1;36m1\u001b[0m\u001b[1;33m,\u001b[0m \u001b[1;36m2\u001b[0m\u001b[1;33m,\u001b[0m \u001b[1;36m3\u001b[0m\u001b[1;33m,\u001b[0m\u001b[1;36m4\u001b[0m\u001b[1;33m]\u001b[0m\u001b[1;33m\u001b[0m\u001b[1;33m\u001b[0m\u001b[0m\n\u001b[1;32m----> 2\u001b[1;33m \u001b[0mmy_sum\u001b[0m\u001b[1;33m(\u001b[0m\u001b[1;33m*\u001b[0m\u001b[0mmy_list\u001b[0m\u001b[1;33m)\u001b[0m\u001b[1;33m\u001b[0m\u001b[1;33m\u001b[0m\u001b[0m\n\u001b[0m",
      "\u001b[1;31mTypeError\u001b[0m: my_sum() takes 3 positional arguments but 4 were given"
     ]
    }
   ],
   "source": [
    "my_list = [1, 2, 3, 4]\n",
    "my_sum(*my_list)"
   ]
  },
  {
   "cell_type": "markdown",
   "id": "6e9de4a9-5dbf-4f77-817c-903bd5d1e920",
   "metadata": {},
   "source": [
    "When you use the * operator to unpack a list and pass arguments to a function, it’s exactly as though you’re passing every single argument alone. This means that you can use multiple unpacking operators to get values from several lists and pass them all to a single function."
   ]
  },
  {
   "cell_type": "code",
   "execution_count": 50,
   "id": "7e9ad7d1-a960-4c49-9040-71d72f18f114",
   "metadata": {},
   "outputs": [
    {
     "name": "stdout",
     "output_type": "stream",
     "text": [
      "45\n"
     ]
    }
   ],
   "source": [
    "def my_sum(*args):\n",
    "    result = 0\n",
    "    for x in args:\n",
    "        result += x\n",
    "    return result\n",
    "\n",
    "list1 = [1, 2, 3]\n",
    "list2 = [4, 5]\n",
    "list3 = [6, 7, 8, 9]\n",
    "\n",
    "print(my_sum(*list1, *list2, *list3))"
   ]
  },
  {
   "cell_type": "code",
   "execution_count": 51,
   "id": "45de72ef-99de-457d-a352-2280c5081983",
   "metadata": {},
   "outputs": [
    {
     "name": "stdout",
     "output_type": "stream",
     "text": [
      "45\n"
     ]
    }
   ],
   "source": [
    "list_all = list1 + list2 + list3\n",
    "print(my_sum(*list_all))"
   ]
  },
  {
   "cell_type": "markdown",
   "id": "d460c686-4069-48be-a27e-e2368ffa2639",
   "metadata": {},
   "source": [
    "### strings to list of strings"
   ]
  },
  {
   "cell_type": "code",
   "execution_count": 61,
   "id": "1ea9e306-216c-41cd-a2c7-c2db1adf56bf",
   "metadata": {},
   "outputs": [
    {
     "name": "stdout",
     "output_type": "stream",
     "text": [
      "['R', 'e', 'a', 'l', 'P', 'y', 't', 'h', 'o', 'n']\n"
     ]
    }
   ],
   "source": [
    "a = [*\"RealPython\"]\n",
    "print(a)"
   ]
  },
  {
   "cell_type": "code",
   "execution_count": 62,
   "id": "2ca2fcd9-0cb1-4614-890e-a34a7de54f60",
   "metadata": {},
   "outputs": [
    {
     "name": "stdout",
     "output_type": "stream",
     "text": [
      "R e a l P y t h o n\n"
     ]
    }
   ],
   "source": [
    "print(*\"RealPython\")"
   ]
  },
  {
   "cell_type": "markdown",
   "id": "7e4e0756-2baa-4398-83bc-363b365fa39b",
   "metadata": {},
   "source": [
    "__important__"
   ]
  },
  {
   "cell_type": "code",
   "execution_count": 76,
   "id": "1b4feaa8-2f38-4187-ad7c-cb2aac4124cd",
   "metadata": {},
   "outputs": [
    {
     "name": "stdout",
     "output_type": "stream",
     "text": [
      "['R', 'e', 'a', 'l', 'P', 'y', 't', 'h', 'o', 'n']\n"
     ]
    }
   ],
   "source": [
    "*a, = \"RealPython\"\n",
    "print(a)"
   ]
  },
  {
   "cell_type": "code",
   "execution_count": 75,
   "id": "93e6328a-6a05-459d-8c56-481216c35f72",
   "metadata": {},
   "outputs": [
    {
     "name": "stdout",
     "output_type": "stream",
     "text": [
      "['R', 'e', 'a', 'l', 'P', 'y', 't', 'h', 'o']\n"
     ]
    }
   ],
   "source": [
    "*a,_ = \"RealPython\"\n",
    "print(a)\n"
   ]
  },
  {
   "cell_type": "code",
   "execution_count": 66,
   "id": "ba7c98c6-4964-4e22-97ec-0388e838f14d",
   "metadata": {},
   "outputs": [
    {
     "name": "stdout",
     "output_type": "stream",
     "text": [
      "['R', 'e', 'a', 'l', 'P', 'y', 't', 'h', 'o']\n",
      "n\n"
     ]
    }
   ],
   "source": [
    "*a,b = \"RealPython\"\n",
    "print(a)\n",
    "print(b)"
   ]
  },
  {
   "cell_type": "code",
   "execution_count": 67,
   "id": "149276ae-fed3-41ec-88b6-4d318eea3af6",
   "metadata": {},
   "outputs": [
    {
     "name": "stdout",
     "output_type": "stream",
     "text": [
      "['R', 'e', 'a', 'l', 'P', 'y', 't', 'h']\n",
      "o\n",
      "n\n"
     ]
    }
   ],
   "source": [
    "*a,b, c = \"RealPython\"\n",
    "print(a)\n",
    "print(b)\n",
    "print(c)"
   ]
  },
  {
   "cell_type": "code",
   "execution_count": 71,
   "id": "17d395a2-924a-4290-8567-5816e4281637",
   "metadata": {},
   "outputs": [
    {
     "name": "stdout",
     "output_type": "stream",
     "text": [
      "R\n",
      "['e', 'a', 'l', 'P', 'y', 't', 'h', 'o', 'n']\n"
     ]
    }
   ],
   "source": [
    "a,*b = \"RealPython\" \n",
    "print(a)\n",
    "print(b)"
   ]
  },
  {
   "cell_type": "markdown",
   "id": "a4e32e87-5836-4546-ae0b-a3823d95c4d4",
   "metadata": {},
   "source": [
    "__merge list using `*`__"
   ]
  },
  {
   "cell_type": "code",
   "execution_count": 52,
   "id": "c011c244-d319-4ef7-ac27-4e7f978836a0",
   "metadata": {},
   "outputs": [
    {
     "name": "stdout",
     "output_type": "stream",
     "text": [
      "45\n"
     ]
    }
   ],
   "source": [
    "list_all_2 = [*list1, *list2, *list3]\n",
    "print(my_sum(*list_all_2))"
   ]
  },
  {
   "cell_type": "markdown",
   "id": "53d093c9-2eae-415c-aff7-a2d4e1f8cce0",
   "metadata": {},
   "source": [
    "__merge dict using `**`__"
   ]
  },
  {
   "cell_type": "code",
   "execution_count": 58,
   "id": "c1d9df9a-a4af-4bb7-9f8f-e4c1c6acf0de",
   "metadata": {},
   "outputs": [
    {
     "data": {
      "text/plain": [
       "{'A': 1, 'B': 2, 'C': 3, 'D': 4}"
      ]
     },
     "execution_count": 58,
     "metadata": {},
     "output_type": "execute_result"
    }
   ],
   "source": [
    "my_first_dict = {\"A\": 1, \"B\": 2}\n",
    "my_second_dict = {\"C\": 3, \"D\": 4}\n",
    "my_merged_dict = {**my_first_dict, **my_second_dict}\n",
    "my_merged_dict"
   ]
  },
  {
   "cell_type": "code",
   "execution_count": 59,
   "id": "30c81754-7ae2-4b6b-a403-de63d2ca456e",
   "metadata": {},
   "outputs": [
    {
     "data": {
      "text/plain": [
       "{'A': 1, 'B': 2, 'C': 3, 'D': 4}"
      ]
     },
     "execution_count": 59,
     "metadata": {},
     "output_type": "execute_result"
    }
   ],
   "source": [
    "my_first_dict.update(my_second_dict)\n",
    "my_first_dict"
   ]
  },
  {
   "cell_type": "markdown",
   "id": "7f1bca8a-4e90-4bf5-a670-e9e5e848551a",
   "metadata": {},
   "source": [
    "## if __name__ == \"__main__\"\n",
    "default entry point"
   ]
  },
  {
   "cell_type": "code",
   "execution_count": 77,
   "id": "5927df4f-5597-4186-995c-67d80c27aaaf",
   "metadata": {},
   "outputs": [
    {
     "data": {
      "text/plain": [
       "'__main__'"
      ]
     },
     "execution_count": 77,
     "metadata": {},
     "output_type": "execute_result"
    }
   ],
   "source": [
    "__name__"
   ]
  },
  {
   "cell_type": "markdown",
   "id": "5634f283-61e6-4030-a469-e19e6b99d4fc",
   "metadata": {},
   "source": [
    "## Exception Handeling"
   ]
  },
  {
   "cell_type": "code",
   "execution_count": 87,
   "id": "9344bf3c-dceb-4bec-b442-ff3b0a660997",
   "metadata": {},
   "outputs": [],
   "source": [
    "x,y = 1, 0"
   ]
  },
  {
   "cell_type": "code",
   "execution_count": 86,
   "id": "9c7151f8-46de-4bf1-baec-c8b37c5b3209",
   "metadata": {},
   "outputs": [
    {
     "data": {
      "text/plain": [
       "0.1"
      ]
     },
     "execution_count": 86,
     "metadata": {},
     "output_type": "execute_result"
    }
   ],
   "source": [
    "try:\n",
    "    z = x/y\n",
    "except ZeroDivisionError:\n",
    "    z = None\n",
    "z"
   ]
  },
  {
   "cell_type": "markdown",
   "id": "ecd92a1c-bc80-4e8c-be9f-6b25136ea0c0",
   "metadata": {},
   "source": [
    "__use error handeling to get number out of strings__"
   ]
  },
  {
   "cell_type": "code",
   "execution_count": 10,
   "id": "85456c20-dc43-47af-9f6f-d83091a34135",
   "metadata": {},
   "outputs": [],
   "source": [
    "temp = ['5 min','-5 asdf','asdf','0 asdf']"
   ]
  },
  {
   "cell_type": "code",
   "execution_count": 11,
   "id": "36502eaf-31e8-49a5-b4b8-9538010ae81c",
   "metadata": {},
   "outputs": [],
   "source": [
    "out = []\n",
    "for i in range(len(temp)):\n",
    "    for j in temp[i].split():\n",
    "        try:\n",
    "            out.append(float(j))\n",
    "        except ValueError:\n",
    "            pass"
   ]
  },
  {
   "cell_type": "code",
   "execution_count": 106,
   "id": "53fd4843-b289-4470-9b25-d243c57dcd60",
   "metadata": {},
   "outputs": [
    {
     "name": "stdin",
     "output_type": "stream",
     "text": [
      "Enter number1:  3\n",
      "Enter number2:  2\n"
     ]
    },
    {
     "name": "stdout",
     "output_type": "stream",
     "text": [
      "Division is:  1.5\n"
     ]
    }
   ],
   "source": [
    "## input read everything in as string, if we have x/int(y), the TypeError will pop up\n",
    "x=input(\"Enter number1: \")\n",
    "y=input(\"Enter number2: \")\n",
    "try:\n",
    "    z = int(x) / int(y)\n",
    "except ZeroDivisionError:\n",
    "    print('Division by zero exception')\n",
    "    z = None\n",
    "# use e to get the error if don't know\n",
    "except TypeError as e:\n",
    "    print('Type error exception', type(e).__name__)\n",
    "    z = None\n",
    "print(\"Division is: \", z)"
   ]
  },
  {
   "cell_type": "markdown",
   "id": "33d77025-3c5f-4c93-9ae6-374c92a40a8e",
   "metadata": {},
   "source": [
    "## `continue`, `break` and `pass`"
   ]
  },
  {
   "cell_type": "code",
   "execution_count": 18,
   "id": "2697f4ec-1922-4d1c-990e-8788e838e350",
   "metadata": {},
   "outputs": [
    {
     "name": "stdout",
     "output_type": "stream",
     "text": [
      "Number is 0\n",
      "Number is 1\n",
      "Number is 2\n",
      "Number is 3\n",
      "Number is 4\n",
      "Out of loop\n"
     ]
    }
   ],
   "source": [
    "number = 0\n",
    "\n",
    "for number in range(10):\n",
    "    if number == 5:\n",
    "        break    # break here\n",
    "\n",
    "    print('Number is ' + str(number))\n",
    "\n",
    "print('Out of loop')"
   ]
  },
  {
   "cell_type": "code",
   "execution_count": 19,
   "id": "8b98ba3e-d40a-41f6-8ac4-b553a0a7aec8",
   "metadata": {},
   "outputs": [
    {
     "name": "stdout",
     "output_type": "stream",
     "text": [
      "Number is 0\n",
      "Number is 1\n",
      "Number is 2\n",
      "Number is 3\n",
      "Number is 4\n",
      "Number is 6\n",
      "Number is 7\n",
      "Number is 8\n",
      "Number is 9\n",
      "Out of loop\n"
     ]
    }
   ],
   "source": [
    "number = 0\n",
    "\n",
    "for number in range(10):\n",
    "    if number == 5:\n",
    "        continue    # continue here\n",
    "\n",
    "    print('Number is ' + str(number))\n",
    "\n",
    "print('Out of loop')"
   ]
  },
  {
   "cell_type": "code",
   "execution_count": 20,
   "id": "e84f320e-2fc7-4e0b-a5cc-822dd7a37afe",
   "metadata": {},
   "outputs": [
    {
     "name": "stdout",
     "output_type": "stream",
     "text": [
      "Number is 0\n",
      "Number is 1\n",
      "Number is 2\n",
      "Number is 3\n",
      "Number is 4\n",
      "Number is 5\n",
      "Number is 6\n",
      "Number is 7\n",
      "Number is 8\n",
      "Number is 9\n",
      "Out of loop\n"
     ]
    }
   ],
   "source": [
    "number = 0\n",
    "\n",
    "for number in range(10):\n",
    "    if number == 5:\n",
    "        pass    # pass here\n",
    "\n",
    "    print('Number is ' + str(number))\n",
    "\n",
    "print('Out of loop')"
   ]
  },
  {
   "cell_type": "markdown",
   "id": "42b6bba9-6607-48fe-a9ce-73aa3d00015e",
   "metadata": {},
   "source": [
    "## `Class`\n",
    "[Class,Object, instance](https://www.codecademy.com/forum_questions/558cd3fc76b8fe06280002ce)"
   ]
  },
  {
   "cell_type": "code",
   "execution_count": 4,
   "id": "7a6bc681-7627-4d9e-867c-ccf60cd3db25",
   "metadata": {},
   "outputs": [],
   "source": [
    "class Human:\n",
    "    def __init__(self, name, occ):\n",
    "        self.name = name\n",
    "        self.occupation = occ\n",
    "\n",
    "    def do_work(self):\n",
    "        if self.occupation == \"tennis player\":\n",
    "            print(self.name, \"plays tennis\")\n",
    "        elif self.occupation == \"actor\":\n",
    "            print(self.name, \"shoots film\")\n",
    "\n",
    "    def speaks(self):\n",
    "        print(self.name, \"says how are you?\")"
   ]
  },
  {
   "cell_type": "code",
   "execution_count": 5,
   "id": "6166432b-2289-4ed0-bfc0-28c128c6bca9",
   "metadata": {},
   "outputs": [
    {
     "name": "stdout",
     "output_type": "stream",
     "text": [
      "tom cruise shoots film\n",
      "tom cruise says how are you?\n",
      "maria sharapova plays tennis\n",
      "maria sharapova says how are you?\n"
     ]
    }
   ],
   "source": [
    "tom = Human(\"tom cruise\",\"actor\")\n",
    "tom.do_work()\n",
    "tom.speaks()\n",
    "\n",
    "maria = Human(\"maria sharapova\",\"tennis player\")\n",
    "maria.do_work()\n",
    "maria.speaks()"
   ]
  },
  {
   "cell_type": "code",
   "execution_count": 26,
   "id": "1cf52a52-8400-4195-aab2-88b24b1b7ed7",
   "metadata": {},
   "outputs": [],
   "source": [
    "class employer:\n",
    "    def __init__(self, id, name):\n",
    "        self.id = id\n",
    "        self.name = name\n",
    "    def show(self):\n",
    "        print(f'Name: {self.name}, ID: {self.id}')"
   ]
  },
  {
   "cell_type": "code",
   "execution_count": 38,
   "id": "c0cc9143-6230-4792-aaaf-f2d4314de85d",
   "metadata": {},
   "outputs": [
    {
     "name": "stdout",
     "output_type": "stream",
     "text": [
      "Name: kobe, ID: 8\n"
     ]
    }
   ],
   "source": [
    "emp = employer(8,'kobe')\n",
    "emp.show()"
   ]
  },
  {
   "cell_type": "code",
   "execution_count": 42,
   "id": "03308e85-ee7a-4af5-9dde-862a9a385b09",
   "metadata": {},
   "outputs": [
    {
     "ename": "TypeError",
     "evalue": "__init__() missing 1 required positional argument: 'name'",
     "output_type": "error",
     "traceback": [
      "\u001b[1;31m---------------------------------------------------------------------------\u001b[0m",
      "\u001b[1;31mTypeError\u001b[0m                                 Traceback (most recent call last)",
      "\u001b[1;32m~\\AppData\\Local\\Temp/ipykernel_16896/2704843024.py\u001b[0m in \u001b[0;36m<module>\u001b[1;34m\u001b[0m\n\u001b[1;32m----> 1\u001b[1;33m \u001b[0memp2\u001b[0m \u001b[1;33m=\u001b[0m \u001b[0memployer\u001b[0m\u001b[1;33m(\u001b[0m\u001b[1;36m8\u001b[0m\u001b[1;33m)\u001b[0m\u001b[1;33m\u001b[0m\u001b[1;33m\u001b[0m\u001b[0m\n\u001b[0m\u001b[0;32m      2\u001b[0m \u001b[0memp\u001b[0m\u001b[1;33m.\u001b[0m\u001b[0mshow\u001b[0m\u001b[1;33m(\u001b[0m\u001b[1;33m)\u001b[0m\u001b[1;33m\u001b[0m\u001b[1;33m\u001b[0m\u001b[0m\n",
      "\u001b[1;31mTypeError\u001b[0m: __init__() missing 1 required positional argument: 'name'"
     ]
    }
   ],
   "source": [
    "## this won't work\n",
    "emp2 = employer(8)\n",
    "emp.show()"
   ]
  },
  {
   "cell_type": "code",
   "execution_count": 39,
   "id": "9856fbf8-a010-44b0-819b-4be6973a28cb",
   "metadata": {},
   "outputs": [
    {
     "data": {
      "text/plain": [
       "'kobe'"
      ]
     },
     "execution_count": 39,
     "metadata": {},
     "output_type": "execute_result"
    }
   ],
   "source": [
    "del emp.id\n",
    "emp.name"
   ]
  },
  {
   "cell_type": "code",
   "execution_count": 40,
   "id": "6db7f041-55fb-4ab7-a1d1-c23550af26b4",
   "metadata": {},
   "outputs": [
    {
     "name": "stdout",
     "output_type": "stream",
     "text": [
      "emp.id is not defined\n"
     ]
    }
   ],
   "source": [
    "try:\n",
    "    print(emp.id)\n",
    "except AttributeError:\n",
    "    print(\"emp.id is not defined\")"
   ]
  },
  {
   "cell_type": "code",
   "execution_count": 41,
   "id": "8250718d-ec53-41a8-8197-a195d3b21d64",
   "metadata": {},
   "outputs": [
    {
     "name": "stdout",
     "output_type": "stream",
     "text": [
      "emp is not defined\n"
     ]
    }
   ],
   "source": [
    "del emp\n",
    "try:\n",
    "    emp.display()\n",
    "except NameError:\n",
    "    print(\"emp is not defined\")"
   ]
  },
  {
   "cell_type": "markdown",
   "id": "186350c2-dc6c-4ce0-b4fd-2ac01e58c4bf",
   "metadata": {},
   "source": [
    "## Inheritence\n",
    "- Code Reuse\n",
    "- Extensibility\n",
    "- Readibility"
   ]
  },
  {
   "cell_type": "code",
   "execution_count": 6,
   "id": "201c15e8-87a4-49ae-99af-e1c38ea324ec",
   "metadata": {},
   "outputs": [
    {
     "name": "stdout",
     "output_type": "stream",
     "text": [
      "I'm car\n",
      "general use: transporation\n",
      "I'm motor cycle\n",
      "general use: transporation\n",
      "True\n",
      "True\n"
     ]
    }
   ],
   "source": [
    "class Vehicle:\n",
    "    def general_usage(self):\n",
    "        print(\"general use: transporation\")\n",
    "\n",
    "class Car(Vehicle):\n",
    "    def __init__(self):\n",
    "        print(\"I'm car\")\n",
    "        self.wheels = 4\n",
    "        self.has_roof = True\n",
    "\n",
    "    def specific_usage(self):\n",
    "        self.general_usage()\n",
    "        print(\"specific use: commute to work, vacation with family\")\n",
    "\n",
    "class MotorCycle(Vehicle):\n",
    "    def __init__(self):\n",
    "        print(\"I'm motor cycle\")\n",
    "        self.wheels = 2\n",
    "        self.has_roof = False\n",
    "\n",
    "    def specific_usage(self):\n",
    "        self.general_usage()\n",
    "        print(\"specific use: road trip, racing\")\n",
    "\n",
    "c = Car()\n",
    "## c doesn't have the general_usage function but inherited from Vehicle class\n",
    "c.general_usage()\n",
    "m = MotorCycle()\n",
    "m.general_usage()\n",
    "print(issubclass(Car,Vehicle)) ## car is a subclass of vehicle\n",
    "\n",
    "print(isinstance(c,Car)) ## c is object of class"
   ]
  },
  {
   "cell_type": "markdown",
   "id": "bb1b9cf4-3f67-4d14-af77-03c95d35add6",
   "metadata": {},
   "source": [
    "### Multiple Inheritence"
   ]
  },
  {
   "cell_type": "code",
   "execution_count": 10,
   "id": "015db19c-5e3a-4b28-a15d-af8e1d73888f",
   "metadata": {},
   "outputs": [
    {
     "name": "stdout",
     "output_type": "stream",
     "text": [
      "sports\n",
      "cooking,art\n",
      "gardening,programming\n"
     ]
    }
   ],
   "source": [
    "class Father():\n",
    "    def f_skills(self):\n",
    "        print(\"gardening,programming\")\n",
    "\n",
    "class Mother():\n",
    "    def m_skills(self):\n",
    "        print(\"cooking,art\")\n",
    "\n",
    "class Child(Father,Mother):\n",
    "    def skills(self):\n",
    "        print(\"sports\")\n",
    "\n",
    "c = Child()\n",
    "c.skills()\n",
    "c.m_skills()\n",
    "c.f_skills()"
   ]
  },
  {
   "cell_type": "code",
   "execution_count": 12,
   "id": "b094f262-3fb8-4d9f-8d20-7010171711a4",
   "metadata": {},
   "outputs": [
    {
     "name": "stdout",
     "output_type": "stream",
     "text": [
      "gardening,programming\n",
      "cooking,art\n",
      "sports\n"
     ]
    }
   ],
   "source": [
    "class Father():\n",
    "    def skills(self):\n",
    "        print(\"gardening,programming\")\n",
    "\n",
    "class Mother():\n",
    "    def skills(self):\n",
    "        print(\"cooking,art\")\n",
    "\n",
    "class Child(Father,Mother):\n",
    "    def skills(self):\n",
    "        Father.skills(self) ## need to pass self\n",
    "        Mother.skills(self)\n",
    "        print(\"sports\")\n",
    "\n",
    "c = Child()\n",
    "c.skills()"
   ]
  },
  {
   "cell_type": "code",
   "execution_count": 20,
   "id": "bca39863-9aa1-4f32-98f5-9900507804ff",
   "metadata": {},
   "outputs": [
    {
     "name": "stdout",
     "output_type": "stream",
     "text": [
      "Jessa's age is: 20\n",
      "Joy's age is: 27\n"
     ]
    }
   ],
   "source": [
    "from datetime import date\n",
    "\n",
    "class Student:\n",
    "    def __init__(self, name, age):\n",
    "        self.name = name\n",
    "        self.age = age\n",
    "\n",
    "    @classmethod\n",
    "    def calculate_age(cls, name, birth_year):\n",
    "        # calculate age an set it as a age\n",
    "        # return new object\n",
    "        return cls(name, date.today().year - birth_year)\n",
    "\n",
    "    def show(self):\n",
    "        print(self.name + \"'s age is: \" + str(self.age))\n",
    "\n",
    "jessa = Student('Jessa', 20)\n",
    "jessa.show()\n",
    "\n",
    "# create new object using the factory method\n",
    "joy = Student.calculate_age(\"Joy\", 1995)\n",
    "joy.show()"
   ]
  },
  {
   "cell_type": "code",
   "execution_count": 22,
   "id": "597f3881-01bf-40d2-bd4a-985fd29e98cc",
   "metadata": {},
   "outputs": [
    {
     "data": {
      "text/plain": [
       "('Joy', 27)"
      ]
     },
     "execution_count": 22,
     "metadata": {},
     "output_type": "execute_result"
    }
   ],
   "source": [
    "joy.name, joy.age"
   ]
  },
  {
   "cell_type": "markdown",
   "id": "d442fea5-d667-4efe-963b-c6fb8784167f",
   "metadata": {},
   "source": [
    "## Iterator"
   ]
  },
  {
   "cell_type": "code",
   "execution_count": 1,
   "id": "56e6f111-d40c-4743-81eb-74e2ab30bccd",
   "metadata": {},
   "outputs": [],
   "source": [
    "a = ['kobe','bryant', \"is\", 'the', 'goat']"
   ]
  },
  {
   "cell_type": "code",
   "execution_count": 2,
   "id": "fbb8a04a-8d35-44c7-a0e4-6a6e298b9eeb",
   "metadata": {},
   "outputs": [
    {
     "data": {
      "text/plain": [
       "['__add__',\n",
       " '__class__',\n",
       " '__class_getitem__',\n",
       " '__contains__',\n",
       " '__delattr__',\n",
       " '__delitem__',\n",
       " '__dir__',\n",
       " '__doc__',\n",
       " '__eq__',\n",
       " '__format__',\n",
       " '__ge__',\n",
       " '__getattribute__',\n",
       " '__getitem__',\n",
       " '__gt__',\n",
       " '__hash__',\n",
       " '__iadd__',\n",
       " '__imul__',\n",
       " '__init__',\n",
       " '__init_subclass__',\n",
       " '__iter__',\n",
       " '__le__',\n",
       " '__len__',\n",
       " '__lt__',\n",
       " '__mul__',\n",
       " '__ne__',\n",
       " '__new__',\n",
       " '__reduce__',\n",
       " '__reduce_ex__',\n",
       " '__repr__',\n",
       " '__reversed__',\n",
       " '__rmul__',\n",
       " '__setattr__',\n",
       " '__setitem__',\n",
       " '__sizeof__',\n",
       " '__str__',\n",
       " '__subclasshook__',\n",
       " 'append',\n",
       " 'clear',\n",
       " 'copy',\n",
       " 'count',\n",
       " 'extend',\n",
       " 'index',\n",
       " 'insert',\n",
       " 'pop',\n",
       " 'remove',\n",
       " 'reverse',\n",
       " 'sort']"
      ]
     },
     "execution_count": 2,
     "metadata": {},
     "output_type": "execute_result"
    }
   ],
   "source": [
    "dir(a)"
   ]
  },
  {
   "cell_type": "code",
   "execution_count": 4,
   "id": "2f127dad-3143-4e05-82a9-fc94f09f590b",
   "metadata": {},
   "outputs": [
    {
     "data": {
      "text/plain": [
       "<list_iterator at 0x1f6a9c31280>"
      ]
     },
     "execution_count": 4,
     "metadata": {},
     "output_type": "execute_result"
    }
   ],
   "source": [
    "iter_a = iter(a)\n",
    "iter_a"
   ]
  },
  {
   "cell_type": "code",
   "execution_count": 5,
   "id": "17f4e431-70d5-4c8d-9542-d7e5771b7abd",
   "metadata": {},
   "outputs": [
    {
     "data": {
      "text/plain": [
       "'kobe'"
      ]
     },
     "execution_count": 5,
     "metadata": {},
     "output_type": "execute_result"
    }
   ],
   "source": [
    "next(iter_a)"
   ]
  },
  {
   "cell_type": "code",
   "execution_count": 6,
   "id": "2414be57-f4f5-4de2-b13f-6f4a2ca52ad5",
   "metadata": {},
   "outputs": [
    {
     "data": {
      "text/plain": [
       "'bryant'"
      ]
     },
     "execution_count": 6,
     "metadata": {},
     "output_type": "execute_result"
    }
   ],
   "source": [
    "next(iter_a)"
   ]
  },
  {
   "cell_type": "code",
   "execution_count": 7,
   "id": "91365708-f007-4c97-8e56-ea95465a6e53",
   "metadata": {},
   "outputs": [
    {
     "data": {
      "text/plain": [
       "'is'"
      ]
     },
     "execution_count": 7,
     "metadata": {},
     "output_type": "execute_result"
    }
   ],
   "source": [
    "next(iter_a)"
   ]
  },
  {
   "cell_type": "code",
   "execution_count": 8,
   "id": "e152a49a-dc5a-4a60-a2d7-7a1b5d57e035",
   "metadata": {},
   "outputs": [
    {
     "data": {
      "text/plain": [
       "'the'"
      ]
     },
     "execution_count": 8,
     "metadata": {},
     "output_type": "execute_result"
    }
   ],
   "source": [
    "next(iter_a)"
   ]
  },
  {
   "cell_type": "code",
   "execution_count": 9,
   "id": "0406468b-016c-409f-bf87-167e3fd6ea18",
   "metadata": {},
   "outputs": [
    {
     "data": {
      "text/plain": [
       "'goat'"
      ]
     },
     "execution_count": 9,
     "metadata": {},
     "output_type": "execute_result"
    }
   ],
   "source": [
    "next(iter_a)"
   ]
  },
  {
   "cell_type": "code",
   "execution_count": 10,
   "id": "501eed03-8e5e-4085-bd25-13a1b55c9018",
   "metadata": {},
   "outputs": [
    {
     "ename": "StopIteration",
     "evalue": "",
     "output_type": "error",
     "traceback": [
      "\u001b[1;31m---------------------------------------------------------------------------\u001b[0m",
      "\u001b[1;31mStopIteration\u001b[0m                             Traceback (most recent call last)",
      "\u001b[1;32m~\\AppData\\Local\\Temp/ipykernel_9420/3255143482.py\u001b[0m in \u001b[0;36m<module>\u001b[1;34m\u001b[0m\n\u001b[1;32m----> 1\u001b[1;33m \u001b[0mnext\u001b[0m\u001b[1;33m(\u001b[0m\u001b[0miter_a\u001b[0m\u001b[1;33m)\u001b[0m\u001b[1;33m\u001b[0m\u001b[1;33m\u001b[0m\u001b[0m\n\u001b[0m",
      "\u001b[1;31mStopIteration\u001b[0m: "
     ]
    }
   ],
   "source": [
    "next(iter_a)"
   ]
  },
  {
   "cell_type": "code",
   "execution_count": 11,
   "id": "ba0e94b6-11fb-4496-ba39-8b0d56153ec2",
   "metadata": {},
   "outputs": [
    {
     "name": "stdout",
     "output_type": "stream",
     "text": [
      "x\n",
      "y\n"
     ]
    }
   ],
   "source": [
    "d1 = {\"x\":1,\"y\":2}\n",
    "for key in d1:\n",
    "    print(key)"
   ]
  },
  {
   "cell_type": "code",
   "execution_count": 12,
   "id": "cb52a9cf-0bdb-4a0d-bf83-c97261411632",
   "metadata": {},
   "outputs": [
    {
     "name": "stdout",
     "output_type": "stream",
     "text": [
      "x 1\n",
      "y 2\n"
     ]
    }
   ],
   "source": [
    "for key, value in d1.items():\n",
    "    print(key,value)"
   ]
  },
  {
   "cell_type": "code",
   "execution_count": 13,
   "id": "0ea2ce41-6fba-46b4-bbc5-294aaf0f5068",
   "metadata": {},
   "outputs": [
    {
     "ename": "TypeError",
     "evalue": "'RemoteControl' object is not iterable",
     "output_type": "error",
     "traceback": [
      "\u001b[1;31m---------------------------------------------------------------------------\u001b[0m",
      "\u001b[1;31mTypeError\u001b[0m                                 Traceback (most recent call last)",
      "\u001b[1;32m~\\AppData\\Local\\Temp/ipykernel_9420/3002823287.py\u001b[0m in \u001b[0;36m<module>\u001b[1;34m\u001b[0m\n\u001b[0;32m     14\u001b[0m \u001b[1;33m\u001b[0m\u001b[0m\n\u001b[0;32m     15\u001b[0m \u001b[0mr\u001b[0m \u001b[1;33m=\u001b[0m \u001b[0mRemoteControl\u001b[0m\u001b[1;33m(\u001b[0m\u001b[1;33m)\u001b[0m\u001b[1;33m\u001b[0m\u001b[1;33m\u001b[0m\u001b[0m\n\u001b[1;32m---> 16\u001b[1;33m \u001b[0mitr\u001b[0m\u001b[1;33m=\u001b[0m\u001b[0miter\u001b[0m\u001b[1;33m(\u001b[0m\u001b[0mr\u001b[0m\u001b[1;33m)\u001b[0m\u001b[1;33m\u001b[0m\u001b[1;33m\u001b[0m\u001b[0m\n\u001b[0m\u001b[0;32m     17\u001b[0m \u001b[0mprint\u001b[0m\u001b[1;33m(\u001b[0m\u001b[0mnext\u001b[0m\u001b[1;33m(\u001b[0m\u001b[0mitr\u001b[0m\u001b[1;33m)\u001b[0m\u001b[1;33m)\u001b[0m\u001b[1;33m\u001b[0m\u001b[1;33m\u001b[0m\u001b[0m\n\u001b[0;32m     18\u001b[0m \u001b[0mprint\u001b[0m\u001b[1;33m(\u001b[0m\u001b[0mnext\u001b[0m\u001b[1;33m(\u001b[0m\u001b[0mitr\u001b[0m\u001b[1;33m)\u001b[0m\u001b[1;33m)\u001b[0m\u001b[1;33m\u001b[0m\u001b[1;33m\u001b[0m\u001b[0m\n",
      "\u001b[1;31mTypeError\u001b[0m: 'RemoteControl' object is not iterable"
     ]
    }
   ],
   "source": [
    "class RemoteControl():\n",
    "    def __init__(self):\n",
    "        self.channels = [\"HBO\",\"cnn\",\"abc\",\"espn\"]\n",
    "        self.index = -1\n",
    "    ## required if we want to use iterator function (\"iter(r)\" later)\n",
    "    def __iter__(self):\n",
    "        return self\n",
    "    \n",
    "    def __next__(self):\n",
    "        self.index += 1\n",
    "        \n",
    "        if self.index == len(self.channels):\n",
    "            raise StopIteration\n",
    "        \n",
    "        return self.channels[self.index]\n",
    "    \n",
    "r = RemoteControl()\n",
    "itr=iter(r)\n",
    "print(next(itr))\n",
    "print(next(itr))\n",
    "print(next(itr))\n",
    "print(next(itr))\n",
    "print(next(itr))"
   ]
  },
  {
   "cell_type": "markdown",
   "id": "75246e09-9825-4cd1-b0ca-b56665426988",
   "metadata": {},
   "source": [
    "## Generator\n",
    "`yield` statement below can return one at a time to save memory (return all in once is \n",
    "memory costly)\n",
    "\n",
    "- Don't need to implement the `next()` method anymore like above section\n",
    "- Don't need the `StopIteration` exception anymore"
   ]
  },
  {
   "cell_type": "code",
   "execution_count": 15,
   "id": "e8dfe041-678b-49bc-9703-752d47e0eea0",
   "metadata": {},
   "outputs": [],
   "source": [
    "def remote_control_next():\n",
    "    yield 'kobe'\n",
    "    yield 'bryant'"
   ]
  },
  {
   "cell_type": "code",
   "execution_count": 21,
   "id": "ab143416-40a0-4e99-89e5-b64a39aa2e34",
   "metadata": {},
   "outputs": [
    {
     "data": {
      "text/plain": [
       "'kobe'"
      ]
     },
     "execution_count": 21,
     "metadata": {},
     "output_type": "execute_result"
    }
   ],
   "source": [
    "a = remote_control_next()\n",
    "next(a)"
   ]
  },
  {
   "cell_type": "code",
   "execution_count": 22,
   "id": "e5bc2a42-5eac-4be3-a2db-41324e3ed162",
   "metadata": {},
   "outputs": [
    {
     "data": {
      "text/plain": [
       "'bryant'"
      ]
     },
     "execution_count": 22,
     "metadata": {},
     "output_type": "execute_result"
    }
   ],
   "source": [
    "next(a)"
   ]
  },
  {
   "cell_type": "code",
   "execution_count": 23,
   "id": "1c660cde-e414-4fce-9f42-b5d3f9bb820a",
   "metadata": {},
   "outputs": [
    {
     "ename": "StopIteration",
     "evalue": "",
     "output_type": "error",
     "traceback": [
      "\u001b[1;31m---------------------------------------------------------------------------\u001b[0m",
      "\u001b[1;31mStopIteration\u001b[0m                             Traceback (most recent call last)",
      "\u001b[1;32m~\\AppData\\Local\\Temp/ipykernel_9420/1242322984.py\u001b[0m in \u001b[0;36m<module>\u001b[1;34m\u001b[0m\n\u001b[1;32m----> 1\u001b[1;33m \u001b[0mnext\u001b[0m\u001b[1;33m(\u001b[0m\u001b[0ma\u001b[0m\u001b[1;33m)\u001b[0m\u001b[1;33m\u001b[0m\u001b[1;33m\u001b[0m\u001b[0m\n\u001b[0m",
      "\u001b[1;31mStopIteration\u001b[0m: "
     ]
    }
   ],
   "source": [
    "next(a)"
   ]
  },
  {
   "cell_type": "markdown",
   "id": "128a40b1-01a0-435c-bd9a-ac2a43713735",
   "metadata": {},
   "source": [
    "For loop works for generator too"
   ]
  },
  {
   "cell_type": "code",
   "execution_count": 25,
   "id": "b935a630-0948-4bc4-bc88-96ef82637c3a",
   "metadata": {},
   "outputs": [
    {
     "name": "stdout",
     "output_type": "stream",
     "text": [
      "kobe\n",
      "bryant\n"
     ]
    }
   ],
   "source": [
    "for c in remote_control_next():\n",
    "    print(c)"
   ]
  },
  {
   "cell_type": "code",
   "execution_count": 27,
   "id": "60432bda-7762-4e3b-81b1-d4174b29b4a1",
   "metadata": {},
   "outputs": [
    {
     "name": "stdout",
     "output_type": "stream",
     "text": [
      "0\n",
      "1\n",
      "1\n",
      "2\n",
      "3\n",
      "5\n",
      "8\n",
      "13\n",
      "21\n",
      "34\n",
      "55\n",
      "89\n"
     ]
    }
   ],
   "source": [
    "def fib_num():\n",
    "    a, b = 0, 1\n",
    "    while True:\n",
    "        yield a\n",
    "        a, b = b, a+b\n",
    "\n",
    "for num in fib_num():\n",
    "    if num > 100:\n",
    "        break\n",
    "    print(num)"
   ]
  },
  {
   "cell_type": "markdown",
   "id": "b40daae5-338a-4561-a065-4e369a33ec2e",
   "metadata": {},
   "source": [
    "## set, frozen set"
   ]
  },
  {
   "cell_type": "code",
   "execution_count": 1,
   "id": "0475ec55-2f87-423e-8b3d-6455e5881e73",
   "metadata": {},
   "outputs": [],
   "source": [
    "a = {'kobe','kobe'}\n",
    "a"
   ]
  },
  {
   "cell_type": "code",
   "execution_count": 4,
   "id": "16d2e72e-6757-4952-b42d-ac715249c1ea",
   "metadata": {},
   "outputs": [
    {
     "data": {
      "text/plain": [
       "{'bryant', 'kobe'}"
      ]
     },
     "execution_count": 4,
     "metadata": {},
     "output_type": "execute_result"
    }
   ],
   "source": [
    "a.add('bryant')\n",
    "a"
   ]
  },
  {
   "cell_type": "markdown",
   "id": "2eead1ac-a811-4ae4-9031-21b05e694690",
   "metadata": {},
   "source": [
    "__set is unordered__"
   ]
  },
  {
   "cell_type": "code",
   "execution_count": 5,
   "id": "36c46f73-374e-4d30-a120-5c50fc6f1be1",
   "metadata": {},
   "outputs": [
    {
     "ename": "TypeError",
     "evalue": "'set' object is not subscriptable",
     "output_type": "error",
     "traceback": [
      "\u001b[1;31m---------------------------------------------------------------------------\u001b[0m",
      "\u001b[1;31mTypeError\u001b[0m                                 Traceback (most recent call last)",
      "\u001b[1;32m~\\AppData\\Local\\Temp/ipykernel_9308/1109539928.py\u001b[0m in \u001b[0;36m<module>\u001b[1;34m\u001b[0m\n\u001b[1;32m----> 1\u001b[1;33m \u001b[0ma\u001b[0m\u001b[1;33m[\u001b[0m\u001b[1;36m0\u001b[0m\u001b[1;33m]\u001b[0m\u001b[1;33m\u001b[0m\u001b[1;33m\u001b[0m\u001b[0m\n\u001b[0m",
      "\u001b[1;31mTypeError\u001b[0m: 'set' object is not subscriptable"
     ]
    }
   ],
   "source": [
    "a[0]"
   ]
  },
  {
   "cell_type": "code",
   "execution_count": 7,
   "id": "c1a6a7c4-bc39-4a86-96ca-76052834c9e4",
   "metadata": {},
   "outputs": [],
   "source": [
    "b = frozenset(a)"
   ]
  },
  {
   "cell_type": "code",
   "execution_count": 8,
   "id": "2f6e7476-8888-4691-a0a5-26e543b1c557",
   "metadata": {},
   "outputs": [
    {
     "ename": "AttributeError",
     "evalue": "'frozenset' object has no attribute 'add'",
     "output_type": "error",
     "traceback": [
      "\u001b[1;31m---------------------------------------------------------------------------\u001b[0m",
      "\u001b[1;31mAttributeError\u001b[0m                            Traceback (most recent call last)",
      "\u001b[1;32m~\\AppData\\Local\\Temp/ipykernel_9308/2923994694.py\u001b[0m in \u001b[0;36m<module>\u001b[1;34m\u001b[0m\n\u001b[1;32m----> 1\u001b[1;33m \u001b[0mb\u001b[0m\u001b[1;33m.\u001b[0m\u001b[0madd\u001b[0m\u001b[1;33m(\u001b[0m\u001b[1;34m'3'\u001b[0m\u001b[1;33m)\u001b[0m\u001b[1;33m\u001b[0m\u001b[1;33m\u001b[0m\u001b[0m\n\u001b[0m",
      "\u001b[1;31mAttributeError\u001b[0m: 'frozenset' object has no attribute 'add'"
     ]
    }
   ],
   "source": [
    "b.add('3')"
   ]
  },
  {
   "cell_type": "code",
   "execution_count": 9,
   "id": "9e1ae5cd-2f7a-4745-be6c-99d725fd6049",
   "metadata": {},
   "outputs": [
    {
     "data": {
      "text/plain": [
       "True"
      ]
     },
     "execution_count": 9,
     "metadata": {},
     "output_type": "execute_result"
    }
   ],
   "source": [
    "'kobe' in b"
   ]
  },
  {
   "cell_type": "code",
   "execution_count": 10,
   "id": "a844c0a2-1c3f-4072-8288-15b180f53590",
   "metadata": {},
   "outputs": [
    {
     "data": {
      "text/plain": [
       "True"
      ]
     },
     "execution_count": 10,
     "metadata": {},
     "output_type": "execute_result"
    }
   ],
   "source": [
    "'kobe' in a"
   ]
  },
  {
   "cell_type": "code",
   "execution_count": 11,
   "id": "72e4ea3c-10b0-4cb5-bb68-5c856b6bab92",
   "metadata": {},
   "outputs": [],
   "source": [
    "x = {1,3,5}\n",
    "y = {2,3,4}"
   ]
  },
  {
   "cell_type": "code",
   "execution_count": 17,
   "id": "c5b91c26-e44f-47e9-8520-5450bfe51444",
   "metadata": {},
   "outputs": [
    {
     "data": {
      "text/plain": [
       "{3}"
      ]
     },
     "execution_count": 17,
     "metadata": {},
     "output_type": "execute_result"
    }
   ],
   "source": [
    "x & y"
   ]
  },
  {
   "cell_type": "code",
   "execution_count": 16,
   "id": "f7213144-9998-481f-b30a-79af20740eb4",
   "metadata": {},
   "outputs": [
    {
     "data": {
      "text/plain": [
       "True"
      ]
     },
     "execution_count": 16,
     "metadata": {},
     "output_type": "execute_result"
    }
   ],
   "source": [
    "x & y == x.intersection(y)"
   ]
  },
  {
   "cell_type": "code",
   "execution_count": 14,
   "id": "dc60bde5-1e48-438c-97d3-7e71562ab49a",
   "metadata": {},
   "outputs": [
    {
     "data": {
      "text/plain": [
       "{1, 2, 3, 4, 5}"
      ]
     },
     "execution_count": 14,
     "metadata": {},
     "output_type": "execute_result"
    }
   ],
   "source": [
    "x | y"
   ]
  },
  {
   "cell_type": "code",
   "execution_count": 15,
   "id": "b188e6af-0007-437d-977e-d401aace6d2b",
   "metadata": {},
   "outputs": [
    {
     "data": {
      "text/plain": [
       "{3}"
      ]
     },
     "execution_count": 15,
     "metadata": {},
     "output_type": "execute_result"
    }
   ],
   "source": [
    "x & y"
   ]
  },
  {
   "cell_type": "code",
   "execution_count": 18,
   "id": "eae1c3ec-d24b-49aa-985c-8d747739c240",
   "metadata": {},
   "outputs": [
    {
     "data": {
      "text/plain": [
       "{1, 5}"
      ]
     },
     "execution_count": 18,
     "metadata": {},
     "output_type": "execute_result"
    }
   ],
   "source": [
    "x - y ## in x not in y"
   ]
  },
  {
   "cell_type": "markdown",
   "id": "bfd0e70c-be52-416c-a6a8-b89098ccad08",
   "metadata": {},
   "source": [
    "__subset__"
   ]
  },
  {
   "cell_type": "code",
   "execution_count": 19,
   "id": "50482e85-e54a-4067-bf78-727543b156ce",
   "metadata": {},
   "outputs": [
    {
     "data": {
      "text/plain": [
       "False"
      ]
     },
     "execution_count": 19,
     "metadata": {},
     "output_type": "execute_result"
    }
   ],
   "source": [
    "x < y"
   ]
  },
  {
   "cell_type": "code",
   "execution_count": 20,
   "id": "ec592ee6-fd4f-4276-8b87-17d92478d23f",
   "metadata": {},
   "outputs": [
    {
     "data": {
      "text/plain": [
       "True"
      ]
     },
     "execution_count": 20,
     "metadata": {},
     "output_type": "execute_result"
    }
   ],
   "source": [
    "z = {1,3}\n",
    "z<x"
   ]
  },
  {
   "cell_type": "code",
   "execution_count": null,
   "id": "6b53b4ec-f127-4da0-aa31-6669c459e26c",
   "metadata": {},
   "outputs": [],
   "source": []
  }
 ],
 "metadata": {
  "kernelspec": {
   "display_name": "Python 3 (ipykernel)",
   "language": "python",
   "name": "python3"
  },
  "language_info": {
   "codemirror_mode": {
    "name": "ipython",
    "version": 3
   },
   "file_extension": ".py",
   "mimetype": "text/x-python",
   "name": "python",
   "nbconvert_exporter": "python",
   "pygments_lexer": "ipython3",
   "version": "3.9.7"
  }
 },
 "nbformat": 4,
 "nbformat_minor": 5
}
