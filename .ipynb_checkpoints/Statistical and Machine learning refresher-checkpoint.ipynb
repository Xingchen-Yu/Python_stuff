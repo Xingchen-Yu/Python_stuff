{
 "cells": [
  {
   "cell_type": "markdown",
   "id": "50737325-5872-400c-9e01-87d447aed6a8",
   "metadata": {
    "jp-MarkdownHeadingCollapsed": true
   },
   "source": [
    "## Power transformation"
   ]
  },
  {
   "cell_type": "markdown",
   "id": "21e5da82-5abc-4d19-9ccc-f8275c7eb7b0",
   "metadata": {},
   "source": [
    "### Box-Cox transformation works on positive only"
   ]
  },
  {
   "cell_type": "code",
   "execution_count": 3,
   "id": "2e1f5af2-8e0d-4a28-8a4d-b0463d46ec22",
   "metadata": {},
   "outputs": [
    {
     "name": "stdout",
     "output_type": "stream",
     "text": [
      "[[-1.33269291 -0.70710678]\n",
      " [ 0.25653283 -0.70710678]\n",
      " [ 1.07616008  1.41421356]]\n"
     ]
    }
   ],
   "source": [
    "import numpy as np\n",
    "from sklearn.preprocessing import power_transform\n",
    "data = [[1, 2], [3, 2], [4, 5]]\n",
    "print(power_transform(data, method='box-cox'))"
   ]
  },
  {
   "cell_type": "markdown",
   "id": "997b347e-27a8-44ea-89a6-656225a98227",
   "metadata": {},
   "source": [
    "### Yeo-Johnson works on both positive and negative"
   ]
  },
  {
   "cell_type": "code",
   "execution_count": 4,
   "id": "3a51ceef-68d7-4e2f-a298-acd1f5dbddb5",
   "metadata": {},
   "outputs": [
    {
     "name": "stdout",
     "output_type": "stream",
     "text": [
      "[[-1.31616039 -0.70710678]\n",
      " [ 0.20998268 -0.70710678]\n",
      " [ 1.1061777   1.41421356]]\n"
     ]
    }
   ],
   "source": [
    "print(power_transform(data, method='yeo-johnson'))"
   ]
  },
  {
   "cell_type": "markdown",
   "id": "4b2123a1-fdfe-4b1f-a020-c21ac939ec5a",
   "metadata": {},
   "source": [
    "## Spatial correlation"
   ]
  },
  {
   "cell_type": "markdown",
   "id": "d228ee7d-84af-4c7f-86ca-d5be6dc1f583",
   "metadata": {},
   "source": [
    "Oftentimes, finding spatial autocorrelation in a variable is a result of that variable depending on other variables, which may or may not be spatially dependent themselves. For instance, house prices often exhibit positive autocorrelation, not because home prices are determined by their relative position on Earth, but because house prices rely upon other variables – school zones, median income, housing availability and more – which may themselves be spatially autocorrelated.\n",
    "\n",
    "Similarily, corn yields are spatially correlated because of weather and soil environment."
   ]
  },
  {
   "cell_type": "code",
   "execution_count": 6,
   "id": "c520c8b9-b980-4e46-b337-4d8fb008022b",
   "metadata": {},
   "outputs": [
    {
     "name": "stdout",
     "output_type": "stream",
     "text": [
      "Collecting tabulate\n",
      "  Downloading tabulate-0.9.0-py3-none-any.whl (35 kB)\n",
      "Installing collected packages: tabulate\n",
      "Successfully installed tabulate-0.9.0\n"
     ]
    }
   ],
   "source": [
    "!pip install tabulate"
   ]
  },
  {
   "cell_type": "code",
   "execution_count": 7,
   "id": "62fe9cb6-557f-41c3-b782-c227974a4c4a",
   "metadata": {},
   "outputs": [
    {
     "name": "stdout",
     "output_type": "stream",
     "text": [
      "| Aspect                                              | Spatial Modeling                                     | Traditional ML                                                |\n",
      "|:----------------------------------------------------|:-----------------------------------------------------|:--------------------------------------------------------------|\n",
      "| Handling Spatial Autocorrelation                    | Explicitly accounts for spatial dependence           | Assumes independence of observations                          |\n",
      "| Model Interpretability                              | Often more interpretable for spatial relationships   | Can be less interpretable, especially for complex models      |\n",
      "| Prediction Accuracy for Spatial Phenomena           | Can be superior, especially for interpolation        | May struggle with strong spatial dependencies                 |\n",
      "| Uncertainty Quantification                          | Better estimates considering spatial dependencies    | May underestimate uncertainty in spatial contexts             |\n",
      "| Computational Efficiency for Large Spatial Datasets | Can be more efficient for certain spatial structures | Efficient for high-dimensional, non-spatial data              |\n",
      "| Handling Non-linear Relationships                   | Limited to specific forms of non-linearity           | Excellent at capturing complex non-linear relationships       |\n",
      "| Explicit Modeling of Spatial Processes              | Yes                                                  | No explicit modeling                                          |\n",
      "| Addressing Spatial Heterogeneity                    | Can model varying relationships across space         | Assumes constant relationships across space                   |\n",
      "| Handling Modifiable Areal Unit Problem (MAUP)       | Can help mitigate MAUP issues                        | Generally does not address MAUP                               |\n",
      "| Use Case                                            | When spatial structure is central to the analysis    | When focus is on complex relationships between many variables |\n"
     ]
    }
   ],
   "source": [
    "import pandas as pd\n",
    "from tabulate import tabulate\n",
    "\n",
    "# Create a dictionary with the comparison data\n",
    "comparison_data = {\n",
    "    'Aspect': [\n",
    "        'Handling Spatial Autocorrelation',\n",
    "        'Model Interpretability',\n",
    "        'Prediction Accuracy for Spatial Phenomena',\n",
    "        'Uncertainty Quantification',\n",
    "        'Computational Efficiency for Large Spatial Datasets',\n",
    "        'Handling Non-linear Relationships',\n",
    "        'Explicit Modeling of Spatial Processes',\n",
    "        'Addressing Spatial Heterogeneity',\n",
    "        'Handling Modifiable Areal Unit Problem (MAUP)',\n",
    "        'Use Case'\n",
    "    ],\n",
    "    'Spatial Modeling': [\n",
    "        'Explicitly accounts for spatial dependence',\n",
    "        'Often more interpretable for spatial relationships',\n",
    "        'Can be superior, especially for interpolation',\n",
    "        'Better estimates considering spatial dependencies',\n",
    "        'Can be more efficient for certain spatial structures',\n",
    "        'Limited to specific forms of non-linearity',\n",
    "        'Yes',\n",
    "        'Can model varying relationships across space',\n",
    "        'Can help mitigate MAUP issues',\n",
    "        'When spatial structure is central to the analysis'\n",
    "    ],\n",
    "    'Traditional ML': [\n",
    "        'Assumes independence of observations',\n",
    "        'Can be less interpretable, especially for complex models',\n",
    "        'May struggle with strong spatial dependencies',\n",
    "        'May underestimate uncertainty in spatial contexts',\n",
    "        'Efficient for high-dimensional, non-spatial data',\n",
    "        'Excellent at capturing complex non-linear relationships',\n",
    "        'No explicit modeling',\n",
    "        'Assumes constant relationships across space',\n",
    "        'Generally does not address MAUP',\n",
    "        'When focus is on complex relationships between many variables'\n",
    "    ]\n",
    "}\n",
    "\n",
    "# Create a DataFrame\n",
    "df = pd.DataFrame(comparison_data)\n",
    "\n",
    "# Generate the table\n",
    "table = tabulate(df, headers='keys', tablefmt='pipe', showindex=False)\n",
    "\n",
    "print(table)"
   ]
  },
  {
   "cell_type": "markdown",
   "id": "e7582c7e-ec83-4850-a20a-2b894a997fc6",
   "metadata": {},
   "source": [
    "### Modifiable Areal Unit Problem (MAUP)\n",
    "\n",
    "Definition:\n",
    "MAUP refers to the problem where the same set of spatial data can produce different results when aggregated in different ways. It occurs because spatial data can be grouped or divided into units in many different ways, and the choice of these units can affect the analysis outcomes.\n",
    "\n",
    "They are typically using in spatial regression (non krigging) that's discrete, which makes map-unit level predictions."
   ]
  },
  {
   "cell_type": "code",
   "execution_count": 8,
   "id": "9341df1d-18fa-4d65-a8f2-e4be7a4adb25",
   "metadata": {},
   "outputs": [
    {
     "data": {
      "image/jpeg": "[encoded data removed]",
      "text/plain": [
       "<IPython.core.display.Image object>"
      ]
     },
     "execution_count": 8,
     "metadata": {},
     "output_type": "execute_result"
    }
   ],
   "source": [
    "from IPython import display\n",
    "display.Image(\"./images/aggregation.JPG\")"
   ]
  },
  {
   "cell_type": "markdown",
   "id": "2a7bfb3f-363b-46f2-a7e7-039f8aefe66e",
   "metadata": {
    "tags": []
   },
   "source": [
    "# Weighted Least Squares (WLS)\n",
    "\n",
    "Weighted Least Squares (WLS) is a generalization of Ordinary Least Squares (OLS) where each data point is assigned a different weight, typically based on the variance of the observations. WLS is used when the assumption of homoscedasticity (constant variance of errors) in OLS is violated, i.e., when there is heteroscedasticity (non-constant variance).\n",
    "\n",
    "## Mathematical Formulation\n",
    "\n",
    "### OLS:\n",
    "In OLS, we minimize the sum of squared residuals:\n",
    "\n",
    "$$\n",
    "\\min_{\\beta} \\sum_{i=1}^{n} \\left( y_i - X_i \\beta \\right)^2\n",
    "$$\n",
    "\n",
    "Where:\n",
    "- $ y_i $ is the observed response for observation $ i $,\n",
    "- $ X_i $ is the vector of predictors for observation $ i $,\n",
    "- $ \\beta $ is the vector of coefficients,\n",
    "- $ \\epsilon_i = y_i - X_i \\beta $ is the residual for observation $ i $,\n",
    "- $ n $ is the total number of observations.\n",
    "\n",
    "### WLS:\n",
    "In WLS, each observation is assigned a weight $ w_i $, often set to the inverse of the variance of the error term for observation $ i $. The objective becomes minimizing the weighted sum of squared residuals:\n",
    "\n",
    "$$\n",
    "\\min_{\\beta} \\sum_{i=1}^{n} w_i \\left( y_i - X_i \\beta \\right)^2\n",
    "$$\n",
    "\n",
    "Where $ w_i $ is the weight for observation $ i $, and typically $ w_i = \\frac{1}{\\sigma_i^2} $, where $ \\sigma_i^2 $ is the variance of the error for observation $ i $.\n",
    "\n",
    "### Matrix Form:\n",
    "In matrix notation, WLS can be written as:\n",
    "\n",
    "$$\n",
    "\\min_{\\beta} (Y - X \\beta)^\\top W (Y - X \\beta)\n",
    "$$\n",
    "\n",
    "Where:\n",
    "- $ Y $ is the $ n \\times 1 $ vector of observed responses,\n",
    "- $ X $ is the $ n \\times p $ matrix of predictors,\n",
    "- $ \\beta $ is the $ p \\times 1 $ vector of coefficients,\n",
    "- $ W $ is the $ n \\times n $ diagonal matrix of weights with $ w_i $ as diagonal elements.\n",
    "\n",
    "The solution is given by the **normal equations** for WLS:\n",
    "\n",
    "$$\n",
    "\\hat{\\beta} = \\left( X^\\top W X \\right)^{-1} X^\\top W Y\n",
    "$$\n",
    "\n",
    "### Assumptions of WLS:\n",
    "1. **Linearity**: The relationship between predictors and response is linear.\n",
    "2. **Independence**: The observations are independent.\n",
    "3. **Heteroscedasticity**: The error variances differ across observations and are known or estimated.\n",
    "4. **Normally Distributed Errors**: The errors are normally distributed (not strictly necessary for large samples).\n",
    "\n",
    "### Derivation of the WLS Estimator:\n",
    "To derive the WLS estimator, minimize the weighted sum of squared residuals:\n",
    "\n",
    "$$\n",
    "S(\\beta) = \\sum_{i=1}^{n} w_i \\left( y_i - X_i \\beta \\right)^2\n",
    "$$\n",
    "\n",
    "This is equivalent to minimizing:\n",
    "\n",
    "$$\n",
    "S(\\beta) = (Y - X \\beta)^\\top W (Y - X \\beta)\n",
    "$$\n",
    "\n",
    "Taking the derivative with respect to $ \\beta $ and setting it to zero:\n",
    "\n",
    "$$\n",
    "\\frac{\\partial S(\\beta)}{\\partial \\beta} = -2 X^\\top W (Y - X \\beta) = 0\n",
    "$$\n",
    "\n",
    "Solving for $ \\beta $:\n",
    "\n",
    "$$\n",
    "X^\\top W X \\beta = X^\\top W Y\n",
    "$$\n",
    "\n",
    "Thus, the WLS estimator is:\n",
    "\n",
    "$$\n",
    "\\hat{\\beta} = \\left( X^\\top W X \\right)^{-1} X^\\top W Y\n",
    "$$\n",
    "\n",
    "### Properties of WLS:\n",
    "- **Unbiasedness**: WLS is unbiased if the weights are correctly specified.\n",
    "- **Efficiency**: WLS is more efficient than OLS under heteroscedasticity, as it accounts for differing variances.\n",
    "\n",
    "### Special Case: Homoscedasticity:\n",
    "If the errors are homoscedastic (constant variance), all weights $ w_i $ are equal, and WLS reduces to OLS:\n",
    "\n",
    "$$\n",
    "\\hat{\\beta}_{\\text{OLS}} = \\left( X^\\top X \\right)^{-1} X^\\top Y\n",
    "$$\n"
   ]
  },
  {
   "cell_type": "markdown",
   "id": "447ff0b2-c95a-4432-9ba5-72f52c59f75c",
   "metadata": {},
   "source": [
    "# mAP (mean absolute precision)\n",
    "\n",
    "mean of area under the precision-recall curve"
   ]
  },
  {
   "cell_type": "code",
   "execution_count": 80,
   "id": "0f2b3e5c-9d84-4c63-aa8d-b10d626b50f7",
   "metadata": {},
   "outputs": [
    {
     "name": "stdout",
     "output_type": "stream",
     "text": [
      "AP for Cars: 1.0000\n",
      "AP for Pedestrians: 1.0000\n",
      "mAP: 1.0000\n"
     ]
    },
    {
     "data": {
      "image/png": "[encoded data removed]",
      "text/plain": [
       "<Figure size 1000x500 with 2 Axes>"
      ]
     },
     "metadata": {},
     "output_type": "display_data"
    }
   ],
   "source": [
    "import numpy as np\n",
    "from sklearn.metrics import average_precision_score, precision_recall_curve\n",
    "import matplotlib.pyplot as plt\n",
    "\n",
    "def calculate_ap(y_true, y_scores):\n",
    "    \"\"\"Calculate Average Precision for a single class.\"\"\"\n",
    "    precision, recall, _ = precision_recall_curve(y_true, y_scores)\n",
    "    ap = average_precision_score(y_true, y_scores)\n",
    "    return ap, precision, recall\n",
    "\n",
    "# Example data\n",
    "# Let's say we have two classes: cars and pedestrians\n",
    "# Each row represents a prediction, with scores for each class\n",
    "# Ground truth is 1 if the object belongs to that class, 0 otherwise\n",
    "\n",
    "# Class 0: Cars\n",
    "y_true_cars = np.array([1, 0, 1, 1, 0, 1])\n",
    "y_scores_cars = np.array([0.9, 0.1, 0.8, 0.7, 0.2, 0.6])\n",
    "\n",
    "# Class 1: Pedestrians\n",
    "y_true_pedestrians = np.array([0, 1, 0, 0, 1, 0])\n",
    "y_scores_pedestrians = np.array([0.1, 0.9, 0.2, 0.3, 0.8, 0.4])\n",
    "\n",
    "# Calculate AP for each class\n",
    "ap_cars, precision_cars, recall_cars = calculate_ap(y_true_cars, y_scores_cars)\n",
    "ap_pedestrians, precision_pedestrians, recall_pedestrians = calculate_ap(y_true_pedestrians, y_scores_pedestrians)\n",
    "\n",
    "# Calculate mAP\n",
    "mAP = (ap_cars + ap_pedestrians) / 2\n",
    "\n",
    "print(f\"AP for Cars: {ap_cars:.4f}\")\n",
    "print(f\"AP for Pedestrians: {ap_pedestrians:.4f}\")\n",
    "print(f\"mAP: {mAP:.4f}\")\n",
    "\n",
    "# Plot Precision-Recall curves\n",
    "plt.figure(figsize=(10, 5))\n",
    "\n",
    "plt.subplot(1, 2, 1)\n",
    "plt.step(recall_cars, precision_cars, where='post')\n",
    "plt.fill_between(recall_cars, precision_cars, step='post', alpha=0.2)\n",
    "plt.title(f'Precision-Recall Curve: Cars (AP={ap_cars:.4f})')\n",
    "plt.xlabel('Recall')\n",
    "plt.ylabel('Precision')\n",
    "\n",
    "plt.subplot(1, 2, 2)\n",
    "plt.step(recall_pedestrians, precision_pedestrians, where='post')\n",
    "plt.fill_between(recall_pedestrians, precision_pedestrians, step='post', alpha=0.2)\n",
    "plt.title(f'Precision-Recall Curve: Pedestrians (AP={ap_pedestrians:.4f})')\n",
    "plt.xlabel('Recall')\n",
    "plt.ylabel('Precision')\n",
    "\n",
    "plt.tight_layout()\n",
    "plt.show()"
   ]
  },
  {
   "cell_type": "markdown",
   "id": "080b7fc3-2144-40df-a829-0ccd57c01836",
   "metadata": {},
   "source": [
    "# Flipping label to use precision and recall on imbalance data "
   ]
  },
  {
   "cell_type": "code",
   "execution_count": 169,
   "id": "ec998521-1f05-4e09-abcc-88b82d4b6629",
   "metadata": {},
   "outputs": [],
   "source": [
    "from sklearn.metrics import confusion_matrix\n",
    "import numpy as np\n",
    "y_true = np.array([1,1,1,1,1,1,1,1,1,0,0])\n",
    "y_pred = np.ones(len(y_true)) #* 0.6"
   ]
  },
  {
   "cell_type": "code",
   "execution_count": 171,
   "id": "f0c2c606-a805-42cc-8b02-6ab2e316646f",
   "metadata": {},
   "outputs": [],
   "source": [
    "tn, fp, fn, tp = confusion_matrix(y_true, y_pred).ravel()"
   ]
  },
  {
   "cell_type": "code",
   "execution_count": 173,
   "id": "8268950a-56f0-462d-a31d-45b598ef4969",
   "metadata": {},
   "outputs": [
    {
     "data": {
      "text/plain": [
       "0.8181818181818182"
      ]
     },
     "execution_count": 173,
     "metadata": {},
     "output_type": "execute_result"
    }
   ],
   "source": [
    "precision, recall, _ = precision_recall_curve(y_true, y_pred)\n",
    "ap = average_precision_score(y_true, y_pred)\n",
    "ap"
   ]
  },
  {
   "cell_type": "code",
   "execution_count": 135,
   "id": "cbd601f9-b5fa-422e-92bd-07068c3e996d",
   "metadata": {},
   "outputs": [
    {
     "data": {
      "text/plain": [
       "1.0"
      ]
     },
     "execution_count": 135,
     "metadata": {},
     "output_type": "execute_result"
    }
   ],
   "source": [
    "fpr = fp/(fp+tn)\n",
    "fpr"
   ]
  },
  {
   "cell_type": "code",
   "execution_count": 137,
   "id": "eb09e0e3-5d99-474f-8c15-aa4c9fbc5e1a",
   "metadata": {},
   "outputs": [
    {
     "data": {
      "text/plain": [
       "1.0"
      ]
     },
     "execution_count": 137,
     "metadata": {},
     "output_type": "execute_result"
    }
   ],
   "source": [
    "# recall\n",
    "tpr = tp / (tp + fn) # sum(y_true)\n",
    "tpr"
   ]
  },
  {
   "cell_type": "code",
   "execution_count": 139,
   "id": "7467353c-cfb1-42b1-9c0d-69ffd07efd8b",
   "metadata": {},
   "outputs": [
    {
     "data": {
      "text/plain": [
       "0.8181818181818182"
      ]
     },
     "execution_count": 139,
     "metadata": {},
     "output_type": "execute_result"
    }
   ],
   "source": [
    "# precision\n",
    "tp / (fp + tp)"
   ]
  },
  {
   "cell_type": "code",
   "execution_count": 72,
   "id": "ec0f16ef-052c-4117-b12a-824b84f39148",
   "metadata": {},
   "outputs": [],
   "source": [
    "y_true_new = np.where(y_true == 1, 0, 1)\n",
    "y_pred_new = y_pred-1"
   ]
  },
  {
   "cell_type": "code",
   "execution_count": 74,
   "id": "9ce029b2-db02-45e8-90c7-87caa63a89c1",
   "metadata": {},
   "outputs": [],
   "source": [
    "tn, fp, fn, tp = confusion_matrix(y_true_new, y_pred_new).ravel()"
   ]
  },
  {
   "cell_type": "code",
   "execution_count": 127,
   "id": "b34cd59c-58e4-48a8-b53e-cff5c0d6b387",
   "metadata": {},
   "outputs": [
    {
     "data": {
      "text/plain": [
       "array([[9, 0],\n",
       "       [3, 0]], dtype=int64)"
      ]
     },
     "execution_count": 127,
     "metadata": {},
     "output_type": "execute_result"
    }
   ],
   "source": [
    "confusion_matrix(y_true_new, y_pred_new)"
   ]
  },
  {
   "cell_type": "code",
   "execution_count": 76,
   "id": "783cd199-7c3b-4ff0-a6b9-a74a66728d1f",
   "metadata": {},
   "outputs": [
    {
     "name": "stderr",
     "output_type": "stream",
     "text": [
      "C:\\Users\\josep\\AppData\\Local\\Temp\\ipykernel_24348\\2596830856.py:1: RuntimeWarning: invalid value encountered in scalar divide\n",
      "  tp / (tp + fn), tp / (fp + tp)\n"
     ]
    },
    {
     "data": {
      "text/plain": [
       "(0.0, nan)"
      ]
     },
     "execution_count": 76,
     "metadata": {},
     "output_type": "execute_result"
    }
   ],
   "source": [
    "tp / (tp + fn), tp / (fp + tp)"
   ]
  },
  {
   "cell_type": "markdown",
   "id": "4edd7b33-ddf6-4e57-a3bc-f7c165bcdcdb",
   "metadata": {},
   "source": [
    "# Summary of mAP, AP, and ROC\n",
    "\n",
    "## Mean Average Precision (mAP)\n",
    "- Average of AP scores across all classes\n",
    "- Ideal for multi-class detection tasks (e.g., Waymo dataset)\n",
    "- Handles class imbalance well\n",
    "\n",
    "## Average Precision (AP)\n",
    "- Area under Precision-Recall curve\n",
    "- Calculated using step function (rectangular approximation)\n",
    "- Generalizes F1-score across all thresholds\n",
    "- More conservative than trapezoidal method used in ROC AUC\n",
    "\n",
    "## ROC (Receiver Operating Characteristic)\n",
    "- Plots True Positive Rate vs False Positive Rate\n",
    "- Uses trapezoidal method for AUC calculation\n",
    "- Better for balanced datasets\n",
    "- Provides insight into specificity-sensitivity trade-off\n",
    "\n",
    "## Key Differences\n",
    "- AP/mAP preferred for imbalanced datasets (common in object detection)\n",
    "- ROC more informative for balanced classes\n",
    "- Both use all unique prediction scores as thresholds\n",
    "\n",
    "## Relevance to Waymo Dataset\n",
    "- mAP typically preferred due to class imbalance and ranking sensitivity\n",
    "- Comprehensive evaluation across all confidence thresholds crucial for autonomous driving safety\n",
    "- Considering both AP and ROC can provide fuller picture of model performance"
   ]
  },
  {
   "cell_type": "code",
   "execution_count": null,
   "id": "cd98cd51-a041-4452-97b0-6d5f9efa9d81",
   "metadata": {},
   "outputs": [],
   "source": []
  }
 ],
 "metadata": {
  "kernelspec": {
   "display_name": "Python 3 (ipykernel)",
   "language": "python",
   "name": "python3"
  },
  "language_info": {
   "codemirror_mode": {
    "name": "ipython",
    "version": 3
   },
   "file_extension": ".py",
   "mimetype": "text/x-python",
   "name": "python",
   "nbconvert_exporter": "python",
   "pygments_lexer": "ipython3",
   "version": "3.12.4"
  }
 },
 "nbformat": 4,
 "nbformat_minor": 5
}
