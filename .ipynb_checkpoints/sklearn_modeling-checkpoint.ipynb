{
 "cells": [
  {
   "cell_type": "markdown",
   "id": "f3325d77-cb92-4ddc-874c-0076683e0322",
   "metadata": {},
   "source": [
    "# Sklearn statistical machine learning"
   ]
  },
  {
   "cell_type": "markdown",
   "id": "02917e44-746a-498d-9a13-4f8fc26d9071",
   "metadata": {},
   "source": [
    "## Train test split, Standardize (columns) and normalize (rows)"
   ]
  },
  {
   "cell_type": "code",
   "execution_count": 48,
   "id": "99688706-213f-40bd-8101-31910495cbf5",
   "metadata": {},
   "outputs": [],
   "source": [
    "import numpy as np\n",
    "import pandas as pd\n",
    "from sklearn.preprocessing import StandardScaler,Normalizer\n",
    "from sklearn.model_selection import train_test_split\n",
    "import matplotlib.pyplot as plt"
   ]
  },
  {
   "cell_type": "code",
   "execution_count": 59,
   "id": "9c1eee56-cb7d-4a53-baf1-179dcd8f137c",
   "metadata": {},
   "outputs": [],
   "source": [
    "n = 10000\n",
    "p = 40\n",
    "rng = np.random.RandomState(8888)\n",
    "x_mat = rng.normal(size=(n,p))\n",
    "beta_true = rng.normal(size = p)\n",
    "y = np.dot(x_mat,beta_true) + rng.normal(size=n)"
   ]
  },
  {
   "cell_type": "code",
   "execution_count": 60,
   "id": "88deebea-57bf-4ba0-8597-85be29f5bf3c",
   "metadata": {},
   "outputs": [
    {
     "data": {
      "text/plain": [
       "(array([  22.,  158.,  658., 1704., 2741., 2637., 1465.,  505.,   89.,\n",
       "          21.]),\n",
       " array([-21.44136517, -17.06860753, -12.69584989,  -8.32309224,\n",
       "         -3.9503346 ,   0.42242304,   4.79518068,   9.16793833,\n",
       "         13.54069597,  17.91345361,  22.28621125]),\n",
       " <BarContainer object of 10 artists>)"
      ]
     },
     "execution_count": 60,
     "metadata": {},
     "output_type": "execute_result"
    },
    {
     "data": {
      "image/png": "[encoded data removed]",
      "text/plain": [
       "<Figure size 432x288 with 1 Axes>"
      ]
     },
     "metadata": {
      "needs_background": "light"
     },
     "output_type": "display_data"
    }
   ],
   "source": [
    "plt.hist(y)"
   ]
  },
  {
   "cell_type": "code",
   "execution_count": 61,
   "id": "4e1f1384-67a5-4860-89c3-db90ee2abcb6",
   "metadata": {},
   "outputs": [],
   "source": [
    "## make random class\n",
    "z = np.zeros_like(y)\n",
    "z[y>10] = 3\n",
    "z[y<-10] = 2"
   ]
  },
  {
   "cell_type": "markdown",
   "id": "b8cc706f-0a96-4470-9a84-8be8863c01a3",
   "metadata": {},
   "source": [
    "__`stratify`__: classification label"
   ]
  },
  {
   "cell_type": "code",
   "execution_count": 62,
   "id": "4e77f115-5b37-4a58-8ee0-ecd155fda948",
   "metadata": {},
   "outputs": [],
   "source": [
    "tr_X, ts_X, tr_Y, ts_Y = train_test_split(x_mat,y,test_size=0.2,random_state =0)"
   ]
  },
  {
   "cell_type": "code",
   "execution_count": 63,
   "id": "fbfb2553-b414-4399-829b-d914bdfedbc3",
   "metadata": {},
   "outputs": [],
   "source": [
    "tr_X, ts_X, tr_z, ts_z = train_test_split(x_mat,z,test_size=0.2,random_state =0,stratify=z)"
   ]
  },
  {
   "cell_type": "code",
   "execution_count": 64,
   "id": "e4eec05e-fd80-4b1b-8c0a-0108280569f6",
   "metadata": {},
   "outputs": [
    {
     "name": "stdout",
     "output_type": "stream",
     "text": [
      "0.0465 0.0465\n"
     ]
    }
   ],
   "source": [
    "print(sum(tr_z==3)/len(tr_z),sum(ts_z==3)/len(ts_z))"
   ]
  },
  {
   "cell_type": "code",
   "execution_count": 65,
   "id": "fc55fcee-19c0-491f-b867-82646d78a44e",
   "metadata": {},
   "outputs": [
    {
     "name": "stdout",
     "output_type": "stream",
     "text": [
      "0.048625 0.0485\n"
     ]
    }
   ],
   "source": [
    "print(sum(tr_z==2)/len(tr_z),sum(ts_z==2)/len(ts_z))"
   ]
  },
  {
   "cell_type": "code",
   "execution_count": 66,
   "id": "7d0dfe67-ea3c-4508-99eb-f9cb828184d4",
   "metadata": {},
   "outputs": [
    {
     "name": "stdout",
     "output_type": "stream",
     "text": [
      "0.904875 0.905\n"
     ]
    }
   ],
   "source": [
    "print(sum(tr_z==0)/len(tr_z),sum(ts_z==0)/len(ts_z))"
   ]
  },
  {
   "cell_type": "markdown",
   "id": "210be049-d184-4901-8c99-ffa664b1a0a8",
   "metadata": {},
   "source": [
    "#### `StandardScaler` defaults `with_mean=True` and  `with_std=True` can be adjusted"
   ]
  },
  {
   "cell_type": "code",
   "execution_count": 67,
   "id": "0ea4c926-1bae-4d25-a3a3-406a78f76caf",
   "metadata": {},
   "outputs": [],
   "source": [
    "standardizer = StandardScaler().fit(tr_X)\n",
    "tr_X = standardizer.transform(tr_X)\n",
    "ts_X = standardizer.transform(ts_X)"
   ]
  },
  {
   "cell_type": "code",
   "execution_count": 68,
   "id": "6db874a0-a1d6-47dc-a80d-974486a271c4",
   "metadata": {},
   "outputs": [
    {
     "data": {
      "text/plain": [
       "array([-2.57576079e-17,  3.62487818e-17,  3.78239107e-17, -1.78329573e-18,\n",
       "       -1.99840144e-18, -2.88380431e-17, -6.97497615e-17, -3.85247390e-17,\n",
       "       -8.18789481e-18,  3.36952688e-17,  8.84015083e-18,  7.82728916e-17,\n",
       "       -3.38062911e-17, -3.20021787e-17, -3.61516372e-18, -1.12132525e-17,\n",
       "        2.85604873e-17, -3.18911564e-17,  1.92484917e-17,  2.15938378e-17,\n",
       "       -5.09314813e-17, -2.77555756e-19, -3.46944695e-18, -4.95298247e-17,\n",
       "        7.60502772e-18, -1.37390099e-17, -2.04974926e-17, -1.00336406e-17,\n",
       "        3.06005221e-18, -1.61988478e-17,  8.38218384e-18,  4.79200013e-17,\n",
       "       -2.23709939e-17,  6.65023592e-17, -2.62984079e-17, -2.89490654e-17,\n",
       "        2.68396416e-17,  2.70616862e-17, -1.72570291e-17,  3.37299633e-17])"
      ]
     },
     "execution_count": 68,
     "metadata": {},
     "output_type": "execute_result"
    }
   ],
   "source": [
    "tr_X.mean(axis=0)"
   ]
  },
  {
   "cell_type": "code",
   "execution_count": 69,
   "id": "17fb30ed-1a85-4a53-a82e-a34fac8d6d7e",
   "metadata": {},
   "outputs": [
    {
     "data": {
      "text/plain": [
       "array([1., 1., 1., 1., 1., 1., 1., 1., 1., 1., 1., 1., 1., 1., 1., 1., 1.,\n",
       "       1., 1., 1., 1., 1., 1., 1., 1., 1., 1., 1., 1., 1., 1., 1., 1., 1.,\n",
       "       1., 1., 1., 1., 1., 1.])"
      ]
     },
     "execution_count": 69,
     "metadata": {},
     "output_type": "execute_result"
    }
   ],
   "source": [
    "tr_X.std(axis=0)"
   ]
  },
  {
   "cell_type": "markdown",
   "id": "e04f1ac2-7be4-467c-adb8-9eff23fd7db5",
   "metadata": {},
   "source": [
    "#### `Normalizer` default is `l2`, `l1` and `max` are available"
   ]
  },
  {
   "cell_type": "code",
   "execution_count": 70,
   "id": "7475544f-c696-4126-98b0-07d7fc3489e6",
   "metadata": {},
   "outputs": [],
   "source": [
    "normalizer = Normalizer().fit(tr_X)\n",
    "tr_X_norm = normalizer.transform(tr_X)\n",
    "ts_X_norm = normalizer.transform(ts_X)"
   ]
  },
  {
   "cell_type": "code",
   "execution_count": 79,
   "id": "5138d9e6-1423-4e64-83c1-3b80863ba90e",
   "metadata": {},
   "outputs": [
    {
     "data": {
      "text/plain": [
       "True"
      ]
     },
     "execution_count": 79,
     "metadata": {},
     "output_type": "execute_result"
    }
   ],
   "source": [
    "np.sqrt(np.sum(tr_X_norm**2,axis=1)).sum() == tr_X_norm.shape[0]"
   ]
  },
  {
   "cell_type": "code",
   "execution_count": 80,
   "id": "df90311b-794c-4082-bc62-69474a2337e9",
   "metadata": {},
   "outputs": [
    {
     "data": {
      "text/plain": [
       "True"
      ]
     },
     "execution_count": 80,
     "metadata": {},
     "output_type": "execute_result"
    }
   ],
   "source": [
    "np.sqrt(np.sum(tr_X_norm**2,axis=1)).sum() == tr_X_norm.shape[0]"
   ]
  }
 ],
 "metadata": {
  "kernelspec": {
   "display_name": "Python 3 (ipykernel)",
   "language": "python",
   "name": "python3"
  },
  "language_info": {
   "codemirror_mode": {
    "name": "ipython",
    "version": 3
   },
   "file_extension": ".py",
   "mimetype": "text/x-python",
   "name": "python",
   "nbconvert_exporter": "python",
   "pygments_lexer": "ipython3",
   "version": "3.9.7"
  }
 },
 "nbformat": 4,
 "nbformat_minor": 5
}
