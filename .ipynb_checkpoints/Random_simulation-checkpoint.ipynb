{
 "cells": [
  {
   "cell_type": "markdown",
   "id": "faba1c45-a27c-4b20-ad9b-7c7b2ff45b5b",
   "metadata": {},
   "source": [
    "This notebook includes many simulation to study many statisitcal problems"
   ]
  },
  {
   "cell_type": "code",
   "execution_count": 97,
   "id": "62240275-bed3-468a-843b-f620eb386105",
   "metadata": {},
   "outputs": [],
   "source": [
    "import numpy as np\n",
    "import pandas as pd\n",
    "from scipy import stats"
   ]
  },
  {
   "cell_type": "code",
   "execution_count": 88,
   "id": "f9411d6f-dbdb-4f8f-a228-668eebab6dde",
   "metadata": {},
   "outputs": [],
   "source": [
    "rng = np.random.RandomState(8888)"
   ]
  },
  {
   "cell_type": "code",
   "execution_count": 92,
   "id": "2e75fc9a-2dff-4ae6-80bf-9bbcc5dc9139",
   "metadata": {},
   "outputs": [
    {
     "data": {
      "text/plain": [
       "9.086643338640132"
      ]
     },
     "execution_count": 92,
     "metadata": {},
     "output_type": "execute_result"
    }
   ],
   "source": [
    "n = 100\n",
    "true_y = rng.normal(size=n,loc = 0,scale=3)\n",
    "np.var(true_y)"
   ]
  },
  {
   "cell_type": "markdown",
   "id": "2b783998-5dcd-426b-8488-dee402b92651",
   "metadata": {},
   "source": [
    "Samples are correlated (some user's measurement were taken multiple times), bootstrap can correct it (assuming `true_y` is I.I.D)\n",
    "\n",
    "__Recall from A/B Testing books: Having the randomization unit be coarser than the analysis uniut, such as randomizing by user and the click-through rate (by page) , will work, but requires more nuanced anlayses methods such as bootstrap or the delta method__."
   ]
  },
  {
   "cell_type": "code",
   "execution_count": 95,
   "id": "b7056df2-7088-420a-be6d-00cf20f873bc",
   "metadata": {},
   "outputs": [],
   "source": [
    "n_replicates = 1000\n",
    "out = rng.choice(true_y,size=(n_replicates,n))"
   ]
  },
  {
   "cell_type": "code",
   "execution_count": 94,
   "id": "ce4b7609-f628-44b2-b17a-7cf05fb3a557",
   "metadata": {},
   "outputs": [
    {
     "data": {
      "text/plain": [
       "9.040614450723973"
      ]
     },
     "execution_count": 94,
     "metadata": {},
     "output_type": "execute_result"
    }
   ],
   "source": [
    "np.mean(out.var(axis=1))"
   ]
  },
  {
   "cell_type": "markdown",
   "id": "5465f5fd-13e2-43b5-bc37-0cc805874d3c",
   "metadata": {},
   "source": [
    "__Outlier effect on A/B testing, p-value of 0.32 and T-stat of 1.__\n",
    "\n",
    "https://statisticaloddsandends.wordpress.com/2020/10/01/p-value-around-0-32-you-may-have-a-problem-with-outliers/"
   ]
  },
  {
   "cell_type": "code",
   "execution_count": 151,
   "id": "5433165a-fcb0-4dce-898a-c9593cd93704",
   "metadata": {},
   "outputs": [
    {
     "data": {
      "text/plain": [
       "Ttest_1sampResult(statistic=-0.41372975536954076, pvalue=0.6799669338684812)"
      ]
     },
     "execution_count": 151,
     "metadata": {},
     "output_type": "execute_result"
    }
   ],
   "source": [
    "n = 100\n",
    "a = rng.uniform(size = n)\n",
    "b = rng.uniform(size = n)\n",
    "stats.ttest_1samp(a,popmean= 1/2 )"
   ]
  },
  {
   "cell_type": "markdown",
   "id": "f1e5ab19-4264-4170-89f2-485fb5c4f83f",
   "metadata": {},
   "source": [
    "#### still not significant due to cancellation of the outlier in both numerator and denominator"
   ]
  },
  {
   "cell_type": "code",
   "execution_count": 155,
   "id": "4689b9f0-1c6e-45d9-8be3-8b612250abf7",
   "metadata": {},
   "outputs": [
    {
     "data": {
      "text/plain": [
       "Ttest_1sampResult(statistic=0.999871774925432, pvalue=0.319810219439993)"
      ]
     },
     "execution_count": 155,
     "metadata": {},
     "output_type": "execute_result"
    }
   ],
   "source": [
    "a[-1] = 10000\n",
    "stats.ttest_1samp(a,popmean=1/2)"
   ]
  },
  {
   "cell_type": "code",
   "execution_count": 154,
   "id": "52198b4d-25c5-4c14-93ce-06adae04c14e",
   "metadata": {},
   "outputs": [
    {
     "data": {
      "text/plain": [
       "Ttest_1sampResult(statistic=1.000424968301513, pvalue=0.3195438921705351)"
      ]
     },
     "execution_count": 154,
     "metadata": {},
     "output_type": "execute_result"
    }
   ],
   "source": [
    "stats.ttest_1samp(a-b,popmean=0)"
   ]
  },
  {
   "cell_type": "markdown",
   "id": "0cc529e6-ebf0-4952-88ee-aa7aa719c711",
   "metadata": {},
   "source": [
    "__T-stats__"
   ]
  },
  {
   "cell_type": "code",
   "execution_count": 128,
   "id": "abe1ceb9-b729-4212-bbd3-b4a5a404442a",
   "metadata": {},
   "outputs": [
    {
     "data": {
      "text/plain": [
       "1.0101943786644874"
      ]
     },
     "execution_count": 128,
     "metadata": {},
     "output_type": "execute_result"
    }
   ],
   "source": [
    "a.mean()/(a.std()/np.sqrt(n))"
   ]
  }
 ],
 "metadata": {
  "kernelspec": {
   "display_name": "Python 3 (ipykernel)",
   "language": "python",
   "name": "python3"
  },
  "language_info": {
   "codemirror_mode": {
    "name": "ipython",
    "version": 3
   },
   "file_extension": ".py",
   "mimetype": "text/x-python",
   "name": "python",
   "nbconvert_exporter": "python",
   "pygments_lexer": "ipython3",
   "version": "3.9.7"
  }
 },
 "nbformat": 4,
 "nbformat_minor": 5
}
