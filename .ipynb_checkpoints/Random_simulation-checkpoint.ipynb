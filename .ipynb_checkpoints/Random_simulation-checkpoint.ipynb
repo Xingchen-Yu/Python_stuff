{
 "cells": [
  {
   "cell_type": "markdown",
   "id": "faba1c45-a27c-4b20-ad9b-7c7b2ff45b5b",
   "metadata": {},
   "source": [
    "This notebook includes many simulation to study many statisitcal problems"
   ]
  },
  {
   "cell_type": "code",
   "execution_count": 11,
   "id": "62240275-bed3-468a-843b-f620eb386105",
   "metadata": {},
   "outputs": [],
   "source": [
    "import numpy as np\n",
    "import pandas as pd\n",
    "import seaborn as sns\n",
    "from scipy import stats\n",
    "from joblib import Parallel, delayed"
   ]
  },
  {
   "cell_type": "code",
   "execution_count": 5,
   "id": "f9411d6f-dbdb-4f8f-a228-668eebab6dde",
   "metadata": {},
   "outputs": [],
   "source": [
    "rng = np.random.RandomState(8888)"
   ]
  },
  {
   "cell_type": "code",
   "execution_count": 7,
   "id": "2e75fc9a-2dff-4ae6-80bf-9bbcc5dc9139",
   "metadata": {},
   "outputs": [
    {
     "data": {
      "text/plain": [
       "8.862893068247667"
      ]
     },
     "execution_count": 7,
     "metadata": {},
     "output_type": "execute_result"
    }
   ],
   "source": [
    "n = 100\n",
    "true_y = rng.normal(size=n,loc = 0,scale=3)\n",
    "np.var(true_y)"
   ]
  },
  {
   "cell_type": "code",
   "execution_count": 15,
   "id": "53e81a2a-64a7-4357-973f-11ecd2a95f20",
   "metadata": {},
   "outputs": [
    {
     "data": {
      "text/plain": [
       "array([492.24610295, 502.85358726, 472.59419786, 494.11218604,\n",
       "       506.62247862])"
      ]
     },
     "execution_count": 15,
     "metadata": {},
     "output_type": "execute_result"
    }
   ],
   "source": [
    "temp = rng.normal(size = (100,5),loc = 5)\n",
    "temp.sum(axis=0)"
   ]
  },
  {
   "cell_type": "markdown",
   "id": "591e1542-3d67-4084-9eae-28608faa8d6d",
   "metadata": {},
   "source": [
    "#### normalize so that columns sum to 1"
   ]
  },
  {
   "cell_type": "code",
   "execution_count": 16,
   "id": "4a0b5d1b-9b88-4829-ae45-3093c91538a2",
   "metadata": {},
   "outputs": [
    {
     "data": {
      "text/plain": [
       "array([1., 1., 1., 1., 1.])"
      ]
     },
     "execution_count": 16,
     "metadata": {},
     "output_type": "execute_result"
    }
   ],
   "source": [
    "temp_norm = temp/temp.sum(axis=0)\n",
    "temp_norm.sum(axis=0)"
   ]
  },
  {
   "cell_type": "markdown",
   "id": "41878beb-70fe-4c48-afff-a4467880b28d",
   "metadata": {
    "tags": []
   },
   "source": [
    "#### normalize so that rows sum to 1"
   ]
  },
  {
   "cell_type": "code",
   "execution_count": 18,
   "id": "24846e31-0821-4666-8512-2dfbc31a35f0",
   "metadata": {},
   "outputs": [
    {
     "data": {
      "text/plain": [
       "array([1., 1., 1., 1., 1., 1., 1., 1., 1., 1., 1., 1., 1., 1., 1., 1., 1.,\n",
       "       1., 1., 1., 1., 1., 1., 1., 1., 1., 1., 1., 1., 1., 1., 1., 1., 1.,\n",
       "       1., 1., 1., 1., 1., 1., 1., 1., 1., 1., 1., 1., 1., 1., 1., 1., 1.,\n",
       "       1., 1., 1., 1., 1., 1., 1., 1., 1., 1., 1., 1., 1., 1., 1., 1., 1.,\n",
       "       1., 1., 1., 1., 1., 1., 1., 1., 1., 1., 1., 1., 1., 1., 1., 1., 1.,\n",
       "       1., 1., 1., 1., 1., 1., 1., 1., 1., 1., 1., 1., 1., 1., 1.])"
      ]
     },
     "execution_count": 18,
     "metadata": {},
     "output_type": "execute_result"
    }
   ],
   "source": [
    "temp_norm_row = (temp.T / temp.sum(axis=1)).T\n",
    "temp_norm_row.sum(axis=1)"
   ]
  },
  {
   "cell_type": "markdown",
   "id": "b15dc50f-7fa0-4687-9dfa-4fca62e8a1f1",
   "metadata": {},
   "source": [
    "#### distinct, NA"
   ]
  },
  {
   "cell_type": "code",
   "execution_count": 19,
   "id": "78646d97-22c8-4160-b9b5-5774c28a3dea",
   "metadata": {},
   "outputs": [],
   "source": [
    "df = pd.DataFrame({\"x\":[1,np.nan,3,5],'y':[2,5,1,3]})"
   ]
  },
  {
   "cell_type": "code",
   "execution_count": 21,
   "id": "f63014f4-5261-4331-a7e8-f06b8522ed4d",
   "metadata": {},
   "outputs": [
    {
     "data": {
      "text/plain": [
       "x    1\n",
       "y    0\n",
       "dtype: int64"
      ]
     },
     "execution_count": 21,
     "metadata": {},
     "output_type": "execute_result"
    }
   ],
   "source": [
    "df.isnull().sum(axis=0)"
   ]
  },
  {
   "cell_type": "code",
   "execution_count": 26,
   "id": "929566c7-bc7d-4ebd-ad2d-ed8ecc0d79b3",
   "metadata": {},
   "outputs": [
    {
     "data": {
      "text/plain": [
       "x    3\n",
       "y    4\n",
       "dtype: int64"
      ]
     },
     "execution_count": 26,
     "metadata": {},
     "output_type": "execute_result"
    }
   ],
   "source": [
    "df.nunique()"
   ]
  },
  {
   "cell_type": "markdown",
   "id": "475f9aea-511e-44bc-85ff-6350eb0163a3",
   "metadata": {},
   "source": [
    "#### np not na index"
   ]
  },
  {
   "cell_type": "code",
   "execution_count": 3,
   "id": "2e36e59c-9a1f-4514-9393-b60405bf623a",
   "metadata": {},
   "outputs": [
    {
     "data": {
      "text/plain": [
       "array([1., 3., 5.])"
      ]
     },
     "execution_count": 3,
     "metadata": {},
     "output_type": "execute_result"
    }
   ],
   "source": [
    "x = np.array([1,3,np.nan,5])\n",
    "x[~np.isnan(x)]"
   ]
  },
  {
   "cell_type": "markdown",
   "id": "2b783998-5dcd-426b-8488-dee402b92651",
   "metadata": {},
   "source": [
    "Samples are correlated (some user's measurement were taken multiple times), bootstrap can correct it (assuming `true_y` is I.I.D)\n",
    "\n",
    "__Recall from A/B Testing books: Having the randomization unit be coarser than the analysis uniut, such as randomizing by user and the click-through rate (by page) , will work, but requires more nuanced anlayses methods such as bootstrap or the delta method__.\n",
    "\n",
    "- Bootstrap: We can sample 1 from each user_id (each user_id might mulitple page views) and estimate variance this way. Or later Bootstrap T method discussed later\n",
    "\n",
    "- Delta method: Directly brute force calculation of variance on the user metrics. (see book)\n",
    "- CUPED and other variance reduction techniques\n"
   ]
  },
  {
   "cell_type": "code",
   "execution_count": 8,
   "id": "b7056df2-7088-420a-be6d-00cf20f873bc",
   "metadata": {},
   "outputs": [],
   "source": [
    "n_replicates = 1000\n",
    "out = rng.choice(true_y,size=(n_replicates,n))"
   ]
  },
  {
   "cell_type": "code",
   "execution_count": 9,
   "id": "ce4b7609-f628-44b2-b17a-7cf05fb3a557",
   "metadata": {},
   "outputs": [
    {
     "data": {
      "text/plain": [
       "8.834754276635184"
      ]
     },
     "execution_count": 9,
     "metadata": {},
     "output_type": "execute_result"
    }
   ],
   "source": [
    "np.mean(out.var(axis=1))"
   ]
  },
  {
   "cell_type": "markdown",
   "id": "5465f5fd-13e2-43b5-bc37-0cc805874d3c",
   "metadata": {},
   "source": [
    "__Outlier effect on A/B testing, p-value of 0.32 and T-stat of 1.__\n",
    "\n",
    "https://statisticaloddsandends.wordpress.com/2020/10/01/p-value-around-0-32-you-may-have-a-problem-with-outliers/"
   ]
  },
  {
   "cell_type": "code",
   "execution_count": 16,
   "id": "5433165a-fcb0-4dce-898a-c9593cd93704",
   "metadata": {},
   "outputs": [
    {
     "data": {
      "text/plain": [
       "Ttest_1sampResult(statistic=0.6196367030219052, pvalue=0.5369205035631737)"
      ]
     },
     "execution_count": 16,
     "metadata": {},
     "output_type": "execute_result"
    }
   ],
   "source": [
    "n = 100\n",
    "a = rng.uniform(size = n)\n",
    "b = rng.uniform(size = n)\n",
    "stats.ttest_1samp(a,popmean= 1/2 )"
   ]
  },
  {
   "cell_type": "markdown",
   "id": "f1e5ab19-4264-4170-89f2-485fb5c4f83f",
   "metadata": {},
   "source": [
    "#### still same conclusion (insignificant) due to cancellation of the outlier in both numerator and denominator"
   ]
  },
  {
   "cell_type": "markdown",
   "id": "b8f9692a-07bc-43db-8d4a-f9ccbec5aad7",
   "metadata": {},
   "source": [
    "Assume paired test"
   ]
  },
  {
   "cell_type": "code",
   "execution_count": 17,
   "id": "4689b9f0-1c6e-45d9-8be3-8b612250abf7",
   "metadata": {},
   "outputs": [
    {
     "data": {
      "text/plain": [
       "Ttest_1sampResult(statistic=1.0002202132496276, pvalue=0.31964245147070597)"
      ]
     },
     "execution_count": 17,
     "metadata": {},
     "output_type": "execute_result"
    }
   ],
   "source": [
    "a[-1] = 10000\n",
    "stats.ttest_1samp(a,popmean=1/2)"
   ]
  },
  {
   "cell_type": "code",
   "execution_count": 18,
   "id": "52198b4d-25c5-4c14-93ce-06adae04c14e",
   "metadata": {},
   "outputs": [
    {
     "data": {
      "text/plain": [
       "Ttest_1sampResult(statistic=1.0004333959253777, pvalue=0.31953983594756175)"
      ]
     },
     "execution_count": 18,
     "metadata": {},
     "output_type": "execute_result"
    }
   ],
   "source": [
    "stats.ttest_1samp(a-b,popmean=0)"
   ]
  },
  {
   "cell_type": "code",
   "execution_count": 19,
   "id": "08732010-9e22-45c0-9f79-e74a035cf76a",
   "metadata": {},
   "outputs": [
    {
     "data": {
      "text/plain": [
       "Ttest_relResult(statistic=1.0004333959253777, pvalue=0.31953983594756175)"
      ]
     },
     "execution_count": 19,
     "metadata": {},
     "output_type": "execute_result"
    }
   ],
   "source": [
    "stats.ttest_rel(a,b)"
   ]
  },
  {
   "cell_type": "markdown",
   "id": "c4fbaac7-9cb6-4df4-8605-ffb88a6d4b76",
   "metadata": {},
   "source": [
    "Assume independent two sample test"
   ]
  },
  {
   "cell_type": "code",
   "execution_count": 19,
   "id": "15d42059-b1d1-4c20-a1a5-fd0dfb48ef9d",
   "metadata": {},
   "outputs": [
    {
     "data": {
      "text/plain": [
       "Ttest_indResult(statistic=0.9995821663324865, pvalue=0.31873277752641305)"
      ]
     },
     "execution_count": 19,
     "metadata": {},
     "output_type": "execute_result"
    }
   ],
   "source": [
    "stats.ttest_ind(a,b)"
   ]
  },
  {
   "cell_type": "code",
   "execution_count": 20,
   "id": "1c1534ce-ab89-4a34-b20a-b951059aab77",
   "metadata": {},
   "outputs": [
    {
     "data": {
      "text/plain": [
       "Ttest_indResult(statistic=0.9995821663324865, pvalue=0.87)"
      ]
     },
     "execution_count": 20,
     "metadata": {},
     "output_type": "execute_result"
    }
   ],
   "source": [
    "stats.ttest_ind(a,b,permutations = 1000)"
   ]
  },
  {
   "cell_type": "markdown",
   "id": "0cc529e6-ebf0-4952-88ee-aa7aa719c711",
   "metadata": {},
   "source": [
    "__T-stats__"
   ]
  },
  {
   "cell_type": "code",
   "execution_count": 13,
   "id": "abe1ceb9-b729-4212-bbd3-b4a5a404442a",
   "metadata": {},
   "outputs": [
    {
     "data": {
      "text/plain": [
       "1.0102845891186012"
      ]
     },
     "execution_count": 13,
     "metadata": {},
     "output_type": "execute_result"
    }
   ],
   "source": [
    "a.mean()/(a.std()/np.sqrt(n))"
   ]
  },
  {
   "cell_type": "markdown",
   "id": "e23985cc-bc12-4da9-8931-be6cd7c5e8cd",
   "metadata": {},
   "source": [
    "### prop test (same P-value as chis-squared test)\n",
    "$ Z^2 = \\chi^2_1$"
   ]
  },
  {
   "cell_type": "markdown",
   "id": "1b3ddb45-ef2c-419f-99b6-6a154cecde10",
   "metadata": {},
   "source": [
    "$H_0: p_1 - p_2$ =0\n",
    "\n",
    "$H_1: Not Equal $"
   ]
  },
  {
   "cell_type": "code",
   "execution_count": 95,
   "id": "09c817f7-931a-4805-b60f-0e84fac4fd42",
   "metadata": {},
   "outputs": [
    {
     "data": {
      "text/plain": [
       "(-1.129464917246783, 0.25870176105718956)"
      ]
     },
     "execution_count": 95,
     "metadata": {},
     "output_type": "execute_result"
    }
   ],
   "source": [
    "from statsmodels.stats.proportion import proportions_ztest\n",
    "count = np.array([14, 20])\n",
    "nobs = np.array([100, 100])\n",
    "stat, pval = proportions_ztest(count, nobs)\n",
    "stat, pval"
   ]
  },
  {
   "cell_type": "code",
   "execution_count": 94,
   "id": "04d5a348-2b3e-4645-becc-d6d74bb224e4",
   "metadata": {},
   "outputs": [
    {
     "data": {
      "text/plain": [
       "(-1.1294649172467832, 0.25870176105718945)"
      ]
     },
     "execution_count": 94,
     "metadata": {},
     "output_type": "execute_result"
    }
   ],
   "source": [
    "from scipy.stats import norm\n",
    "pooled = count.sum()/nobs.sum()\n",
    "stat_by_hand = (0.14 - 0.2) / np.sqrt(2 * pooled * (1-pooled)/nobs[0])\n",
    "stat_by_hand, 2 * norm.cdf(stat_by_hand)"
   ]
  },
  {
   "cell_type": "markdown",
   "id": "3dace4a5-1c1b-4f71-b8dc-1bb1480a18b3",
   "metadata": {},
   "source": [
    "__Chi-squared contingency test for independence__"
   ]
  },
  {
   "cell_type": "code",
   "execution_count": 509,
   "id": "2bc105db-48ff-4005-b89f-05d226dad6f3",
   "metadata": {},
   "outputs": [
    {
     "data": {
      "text/plain": [
       "array([[14, 86],\n",
       "       [20, 80]])"
      ]
     },
     "execution_count": 509,
     "metadata": {},
     "output_type": "execute_result"
    }
   ],
   "source": [
    "contingency_table = np.array([14,86,20,80]).reshape(2,2)\n",
    "contingency_table"
   ]
  },
  {
   "cell_type": "code",
   "execution_count": 500,
   "id": "8116e122-bd0c-4f68-be9d-0efd2abe912d",
   "metadata": {},
   "outputs": [
    {
     "data": {
      "text/plain": [
       "array([[17., 83.],\n",
       "       [17., 83.]])"
      ]
     },
     "execution_count": 500,
     "metadata": {},
     "output_type": "execute_result"
    }
   ],
   "source": [
    "exp_table = np.array([100*34/200,100*166/200,100*34/200,100*166/200]).reshape(2,2)\n",
    "exp_table"
   ]
  },
  {
   "cell_type": "code",
   "execution_count": 502,
   "id": "3d56d316-8eba-4e14-8e1d-aca6262b3485",
   "metadata": {},
   "outputs": [],
   "source": [
    "chi_stat = ((contingency_table - exp_table) ** 2 / exp_table).reshape(-1).sum()"
   ]
  },
  {
   "cell_type": "code",
   "execution_count": 504,
   "id": "e1b7e87f-53c4-4d66-9645-e4cc81cb8653",
   "metadata": {},
   "outputs": [
    {
     "data": {
      "text/plain": [
       "0.25870176105718934"
      ]
     },
     "execution_count": 504,
     "metadata": {},
     "output_type": "execute_result"
    }
   ],
   "source": [
    "from scipy.stats import chi2\n",
    "\n",
    "1 - chi2.cdf(chi_stat,df = 1)"
   ]
  },
  {
   "cell_type": "markdown",
   "id": "6e914c5f-d29d-4275-b112-d099b6a395e9",
   "metadata": {
    "tags": []
   },
   "source": [
    "## Permutation test\n",
    "\n",
    "Non-parametric test when the normality of tests do not hold"
   ]
  },
  {
   "cell_type": "code",
   "execution_count": 65,
   "id": "6944eee1-48d9-41ab-9766-ded8fb4f19c0",
   "metadata": {},
   "outputs": [],
   "source": [
    "n = 100\n",
    "treat_effect = 0.3\n",
    "control = 1 + np.random.normal(size = n)\n",
    "treatment = 1 + np.random.normal(size = n) + treat_effect"
   ]
  },
  {
   "cell_type": "code",
   "execution_count": 66,
   "id": "0ecabec1-24ec-4dd1-9a15-74e96f2561dc",
   "metadata": {},
   "outputs": [
    {
     "data": {
      "text/plain": [
       "Ttest_indResult(statistic=-2.817861558598173, pvalue=0.005324791945203552)"
      ]
     },
     "execution_count": 66,
     "metadata": {},
     "output_type": "execute_result"
    }
   ],
   "source": [
    "stats.ttest_ind(control,treatment)"
   ]
  },
  {
   "cell_type": "code",
   "execution_count": 67,
   "id": "d8c6f62d-7ca6-4c70-ba69-350221d15d85",
   "metadata": {},
   "outputs": [
    {
     "data": {
      "text/plain": [
       "Ttest_indResult(statistic=-2.817861558598173, pvalue=0.0041)"
      ]
     },
     "execution_count": 67,
     "metadata": {},
     "output_type": "execute_result"
    }
   ],
   "source": [
    "stats.ttest_ind(control,treatment,permutations = 10000)"
   ]
  },
  {
   "cell_type": "markdown",
   "id": "7f1dddd7-ef2a-4ff3-a83b-68a03a7c3ae8",
   "metadata": {},
   "source": [
    "## Fisher’s Exact Test\n",
    "\n",
    "Test for contingency table when sample size is small (or large), in particular, the P-value can be calculated exactly, rather than relying on an approximation that becomes exact in the limit as the sample size grows to infinity, as with many statistical tests. https://en.wikipedia.org/wiki/Fisher%27s_exact_test\n",
    "\n",
    "The question we ask about these data is: Knowing that 10 of these 24 teenagers are studying and that 12 of the 24 are female, and assuming the null hypothesis that men and women are equally likely to study, what is the probability that these 10 teenagers who are studying would be so unevenly distributed between the women and the men? If we were to choose 10 of the teenagers at random, what is the probability that 9 or more of them would be among the 12 women and only 1 or fewer from among the 12 men?"
   ]
  },
  {
   "cell_type": "markdown",
   "id": "cb0895e2-4ef5-4ab1-85c3-a9b36c6777fd",
   "metadata": {},
   "source": [
    "||Men|Women|\n",
    "|--|--|--|\n",
    "|Study|1|9|\n",
    "|Non Study|11|3|"
   ]
  },
  {
   "cell_type": "markdown",
   "id": "c39bbdc2-de1a-4575-93e1-0f2475d37c7e",
   "metadata": {},
   "source": [
    "#### less and greater based on table ordering"
   ]
  },
  {
   "cell_type": "code",
   "execution_count": 480,
   "id": "14e4eda7-b0a0-41c2-9942-20c573abf85f",
   "metadata": {},
   "outputs": [
    {
     "data": {
      "text/plain": [
       "SignificanceResult(statistic=0.030303030303030304, pvalue=0.0013797280926100418)"
      ]
     },
     "execution_count": 480,
     "metadata": {},
     "output_type": "execute_result"
    }
   ],
   "source": [
    "from scipy.stats import fisher_exact\n",
    "fisher_exact(table=[[1,9],[11,3]], alternative=\"less\")"
   ]
  },
  {
   "cell_type": "code",
   "execution_count": 482,
   "id": "7065b549-e752-4184-85f6-76a381fb22bd",
   "metadata": {},
   "outputs": [
    {
     "data": {
      "text/plain": [
       "SignificanceResult(statistic=33.0, pvalue=0.0013797280926100418)"
      ]
     },
     "execution_count": 482,
     "metadata": {},
     "output_type": "execute_result"
    }
   ],
   "source": [
    "fisher_exact(table=[[9,1],[3,11]], alternative=\"greater\")"
   ]
  },
  {
   "cell_type": "code",
   "execution_count": null,
   "id": "6eb02b4e-d43b-45fa-b352-ea49b73e7248",
   "metadata": {},
   "outputs": [],
   "source": []
  },
  {
   "cell_type": "markdown",
   "id": "f0608482-802b-4f87-b910-268938c324be",
   "metadata": {},
   "source": [
    "## Bootstrap with parallel"
   ]
  },
  {
   "cell_type": "markdown",
   "id": "e9acab8c-48f9-4bfc-bb65-7c799577a0e2",
   "metadata": {},
   "source": [
    "### non-parametric bootstrap"
   ]
  },
  {
   "cell_type": "code",
   "execution_count": 3,
   "id": "121ccf6b-195a-4af5-ae08-1ff8ec9c1ee6",
   "metadata": {},
   "outputs": [
    {
     "data": {
      "text/plain": [
       "array([ 7.83456167,  8.84695193, 10.07557688])"
      ]
     },
     "execution_count": 3,
     "metadata": {},
     "output_type": "execute_result"
    }
   ],
   "source": [
    "from joblib import Parallel, delayed # for parallel processing\n",
    "import numpy as np\n",
    "x = np.random.normal(size = 100, scale =10)\n",
    "bootstrap_samples = 100\n",
    "def std_sample(x):\n",
    "    x = np.random.choice(x,size = len(x),replace = True)\n",
    "    return(x.std())\n",
    "out = Parallel(n_jobs = 10)(delayed(std_sample)(x) for _ in range(bootstrap_samples))\n",
    "\n",
    "np.quantile(out,[0.025,0.5,0.975])"
   ]
  },
  {
   "cell_type": "code",
   "execution_count": 6,
   "id": "332bcaa4-bc7e-40dd-b335-552006565b18",
   "metadata": {},
   "outputs": [],
   "source": [
    "from joblib import delayed, Parallel\n",
    "import scipy.stats as ss\n",
    "import numpy as np"
   ]
  },
  {
   "cell_type": "code",
   "execution_count": 61,
   "id": "bafab10a-8549-4953-9a03-075e722b0157",
   "metadata": {},
   "outputs": [],
   "source": [
    "np.random.seed(8888)\n",
    "x = ss.cauchy.rvs(size = 100)\n",
    "n_boot_samples = 5000\n",
    "def var_sample(x):\n",
    "    x_boot = np.random.choice(x, size = len(x), replace = True)\n",
    "    return np.median(x_boot)"
   ]
  },
  {
   "cell_type": "code",
   "execution_count": 62,
   "id": "874d38d0-d757-4fe9-ad89-da25c01100bb",
   "metadata": {},
   "outputs": [
    {
     "data": {
      "text/plain": [
       "0.024537052995451843"
      ]
     },
     "execution_count": 62,
     "metadata": {},
     "output_type": "execute_result"
    }
   ],
   "source": [
    "boot_median = Parallel(n_jobs = 10)(delayed(var_sample)(x) for _ in range(n_boot_samples))\n",
    "np.var(boot_median)"
   ]
  },
  {
   "cell_type": "markdown",
   "id": "708f5d68-e885-4905-a88c-055aee12200f",
   "metadata": {},
   "source": [
    "### Check the lecture notes on bootstrap for math detail"
   ]
  },
  {
   "cell_type": "markdown",
   "id": "5410d2d8-28f3-458e-ac0b-e8b4d554254d",
   "metadata": {},
   "source": [
    "### Parametric bootstrap\n",
    "\n",
    "Use sample statistic and assumes a parametric distribution.\n",
    "\n",
    "Example: Use the sample median and assummes true population is a Cauchy, do bootstrap and construct interval"
   ]
  },
  {
   "cell_type": "code",
   "execution_count": 63,
   "id": "870caeab-19a4-4283-b05d-7ff7a6b38812",
   "metadata": {},
   "outputs": [],
   "source": [
    "np.random.seed(8888)\n",
    "x = ss.cauchy.rvs(size = 100)\n",
    "n_boot_samples = 5000\n",
    "sample_median = np.median(x)\n",
    "def var_sample(x0):\n",
    "    x_par = ss.cauchy.rvs(size = 100,loc = x0)\n",
    "    return np.median(x_par)"
   ]
  },
  {
   "cell_type": "code",
   "execution_count": 64,
   "id": "a7555e9e-4dc0-47ff-bc09-d463124e3153",
   "metadata": {},
   "outputs": [
    {
     "data": {
      "text/plain": [
       "0.02447355007653579"
      ]
     },
     "execution_count": 64,
     "metadata": {},
     "output_type": "execute_result"
    }
   ],
   "source": [
    "para_bootstrap = Parallel(n_jobs = 10)(delayed(var_sample)(sample_median) for _ in range(n_boot_samples))\n",
    "np.var(para_bootstrap)"
   ]
  },
  {
   "cell_type": "markdown",
   "id": "808ca01c-b7f9-47ce-b51c-7678962ed7be",
   "metadata": {},
   "source": [
    "### Non parametric Bootstrap percentile vs. T-method"
   ]
  },
  {
   "cell_type": "code",
   "execution_count": 20,
   "id": "1128bd55-5b9b-4201-8c0a-1c73f5d26e53",
   "metadata": {},
   "outputs": [],
   "source": [
    "rng = np.random.RandomState(0)\n",
    "n = 500\n",
    "p = 1\n",
    "x = rng.normal(size=(n,p))\n",
    "beta = [1,5]\n",
    "y = np.dot(np.concatenate((np.repeat(1,n)[:,None],x),axis=1),beta) + rng.normal(size =n)"
   ]
  },
  {
   "cell_type": "code",
   "execution_count": 21,
   "id": "daa06cb0-f97c-4e35-9098-6ff87f1a61ff",
   "metadata": {},
   "outputs": [],
   "source": [
    "import pandas as pd\n",
    "data = pd.DataFrame(np.concatenate((y[:,None],x),axis=1),columns = [\"y\",'x'])\n",
    "              "
   ]
  },
  {
   "cell_type": "markdown",
   "id": "f1794160-768a-452d-b3d8-5833214da10d",
   "metadata": {},
   "source": [
    "#### percentile CI method"
   ]
  },
  {
   "cell_type": "code",
   "execution_count": 22,
   "id": "3beaa6fc-4892-4793-a55e-e2fdce02c97b",
   "metadata": {},
   "outputs": [],
   "source": [
    "## percentile CI method\n",
    "import statsmodels.formula.api as smf\n",
    "n_boot = 1000\n",
    "def get_ratio_boot(data):\n",
    "    coef = smf.ols(\"y~x\",data = data).fit().params\n",
    "    return coef[1]/coef[0]\n",
    "\n",
    "out = Parallel(n_jobs = 10)(delayed(get_ratio_boot)(data.sample(frac = 1, replace = True)) for _ in range(n_boot))"
   ]
  },
  {
   "cell_type": "code",
   "execution_count": 23,
   "id": "8b544e7a-5523-4871-9419-cc8103ccc9ce",
   "metadata": {},
   "outputs": [
    {
     "data": {
      "text/plain": [
       "array([4.85929696, 5.82460528])"
      ]
     },
     "execution_count": 23,
     "metadata": {},
     "output_type": "execute_result"
    }
   ],
   "source": [
    "np.quantile(out,[0.025,0.975])"
   ]
  },
  {
   "cell_type": "markdown",
   "id": "fb9aa9f8-42dd-4a75-a01f-f518a0a0c716",
   "metadata": {},
   "source": [
    "#### T method"
   ]
  },
  {
   "cell_type": "code",
   "execution_count": 24,
   "id": "1fc1cf10-2629-48c3-802d-a486819ad8fc",
   "metadata": {
    "tags": []
   },
   "outputs": [],
   "source": [
    "import statsmodels.formula.api as smf\n",
    "n_boot = 1000\n",
    "model = smf.ols(\"y~x\",data = data).fit()\n",
    "model_coef = model.params\n",
    "coef_cov = model.cov_params()\n",
    "theta_hat = model_coef[1] / model_coef[0]\n",
    "sigma2_delta = theta_hat**2 * (coef_cov.iloc[1,1]/(model_coef[1]**2)  + coef_cov.iloc[0,0]/(model_coef[0]**2) - 2 * (coef_cov.iloc[1,0])/ (model_coef[0] * model_coef[1]))\n",
    "\n",
    "def get_ratio_boot(data,theta_hat):\n",
    "    model = smf.ols(\"y~x\",data = data).fit()\n",
    "    coef = model.params\n",
    "    coef_cov = model.cov_params()\n",
    "    theta_hat_boot =  coef[1]/coef[0]\n",
    "    sigma2_delta = theta_hat_boot**2 * (coef_cov.iloc[1,1]/(coef[1]**2)  + coef_cov.iloc[0,0]/(coef[0]**2) - 2 * (coef_cov.iloc[1,0])/ (coef[0] * coef[1]))\n",
    "    return ((theta_hat_boot-theta_hat) / np.sqrt(sigma2_delta))\n",
    "\n",
    "out = Parallel(n_jobs = 10)(delayed(get_ratio_boot)(data.sample(frac = 1, replace = True), theta_hat) for _ in range(n_boot))"
   ]
  },
  {
   "cell_type": "code",
   "execution_count": 26,
   "id": "3e2e4e4f-0406-46da-aa84-c3c73fa77f2a",
   "metadata": {},
   "outputs": [
    {
     "data": {
      "text/plain": [
       "array([4.76660753, 5.76852671])"
      ]
     },
     "execution_count": 26,
     "metadata": {},
     "output_type": "execute_result"
    }
   ],
   "source": [
    "t_quant = np.quantile(out,[0.025,0.975])\n",
    "theta_hat + t_quant * np.sqrt(sigma2_delta)"
   ]
  },
  {
   "cell_type": "markdown",
   "id": "3c07c8de-921b-4a7d-9cf0-7c5a11927aae",
   "metadata": {},
   "source": [
    "## Given U(0,1), sample discrete distribution (a,b)"
   ]
  },
  {
   "cell_type": "code",
   "execution_count": 130,
   "id": "5c964ce5-4ea1-4e48-80a0-b16b6e7322e5",
   "metadata": {},
   "outputs": [
    {
     "data": {
      "text/plain": [
       "<AxesSubplot:ylabel='Count'>"
      ]
     },
     "execution_count": 130,
     "metadata": {},
     "output_type": "execute_result"
    },
    {
     "data": {
      "image/png": "[encoded data removed]",
      "text/plain": [
       "<Figure size 432x288 with 1 Axes>"
      ]
     },
     "metadata": {
      "needs_background": "light"
     },
     "output_type": "display_data"
    }
   ],
   "source": [
    "import numpy as np\n",
    "import seaborn as sns\n",
    "import matplotlib.pyplot as plt\n",
    "def map_u_to_discrete(a,b,n=1000):\n",
    "    x = np.random.uniform(size = n)\n",
    "    y = np.linspace(a,b,b-a+1)\n",
    "    buckets = np.linspace(0,1,b-a+2)[1:] ## same as below question\n",
    "    return [y[np.where(x_i<=buckets)[0][0]] for x_i in x]\n",
    "out = map_u_to_discrete(-3,3)\n",
    "sns.histplot(out,bins=20)"
   ]
  },
  {
   "cell_type": "markdown",
   "id": "7bdfc455-a23c-4b51-a47c-5c7e95b7de5b",
   "metadata": {},
   "source": [
    "## Given U(0,1) generate binomial(n = 4, p =5/8)"
   ]
  },
  {
   "cell_type": "code",
   "execution_count": 11,
   "id": "fc8c0c71-830d-471b-9827-bc939ff6c0bb",
   "metadata": {},
   "outputs": [
    {
     "data": {
      "image/png": "[encoded data removed]",
      "text/plain": [
       "<Figure size 432x288 with 1 Axes>"
      ]
     },
     "metadata": {
      "needs_background": "light"
     },
     "output_type": "display_data"
    }
   ],
   "source": [
    "from scipy.stats import binom\n",
    "\n",
    "p = binom.cdf(k= np.linspace(0,4,5),n=4,p=5/8)\n",
    "x = np.random.uniform(size = 10000)\n",
    "y_samples = [np.where(x_i <= p)[0][0] for x_i in x]\n",
    "sns.histplot(y_samples,bins=20, stat = 'probability');"
   ]
  },
  {
   "cell_type": "code",
   "execution_count": 10,
   "id": "2095f8b3-31a1-4435-a2dc-bfea5a8bc3c8",
   "metadata": {},
   "outputs": [
    {
     "data": {
      "text/plain": [
       "array([0.01977539, 0.13183594, 0.32958984, 0.36621094, 0.15258789])"
      ]
     },
     "execution_count": 10,
     "metadata": {},
     "output_type": "execute_result"
    }
   ],
   "source": [
    "binom.pmf(k= np.linspace(0,4,5),n=4,p=5/8)"
   ]
  },
  {
   "cell_type": "code",
   "execution_count": 124,
   "id": "30b59392-18ea-4188-8fce-712ae6cd3387",
   "metadata": {},
   "outputs": [
    {
     "data": {
      "text/plain": [
       "array([0.01977539, 0.15161133, 0.48120117, 0.84741211, 1.        ])"
      ]
     },
     "execution_count": 124,
     "metadata": {},
     "output_type": "execute_result"
    }
   ],
   "source": [
    "p"
   ]
  },
  {
   "cell_type": "markdown",
   "id": "43130048-6613-4986-9f02-67da8ecdb239",
   "metadata": {},
   "source": [
    "## OLS R style formula trick "
   ]
  },
  {
   "cell_type": "code",
   "execution_count": 20,
   "id": "e265f276-3ef3-4716-b240-c3b029c60787",
   "metadata": {},
   "outputs": [
    {
     "name": "stdout",
     "output_type": "stream",
     "text": [
      "y~x1+x2+x3\n"
     ]
    }
   ],
   "source": [
    "import statsmodels.formula.api as smf\n",
    "feature_name = ['x1','x2','x3']\n",
    "formula = \"y~\"+\"+\".join(feature_name)\n",
    "print(formula)\n",
    "#model = smf.ols(formula,data = data).fit()"
   ]
  },
  {
   "cell_type": "markdown",
   "id": "340345b9-3c2c-4896-95d0-38e71ab71206",
   "metadata": {},
   "source": [
    "## Sequential probability ratio test \n",
    "https://en.wikipedia.org/wiki/Sequential_probability_ratio_test\n",
    "https://towardsdatascience.com/experiments-peeking-and-optimal-stopping-954506cec665\n",
    "\n",
    "$H_0 = \\theta_0$\n",
    "\n",
    "$H_1 = \\theta_1$ \n",
    "\n",
    "where $\\theta_1 > \\theta_0$\n",
    "\n",
    "Likelihood ratio is taken by $ \\frac{L(\\theta_1)}{L(\\theta_0)}$"
   ]
  },
  {
   "cell_type": "code",
   "execution_count": 1,
   "id": "58b93760-68e6-4cae-acea-efe379408b26",
   "metadata": {},
   "outputs": [],
   "source": [
    "import numpy as np\n",
    "import pandas as pd\n",
    "import seaborn as sns\n",
    "from scipy.stats import norm\n",
    "from scipy.stats import expon\n",
    "import matplotlib.pyplot as plt"
   ]
  },
  {
   "cell_type": "code",
   "execution_count": 4,
   "id": "95a50c61-9aec-44b8-9a6f-de2d6c8e5a23",
   "metadata": {},
   "outputs": [],
   "source": [
    "def SLRT(alpha = 0.05, beta = 0.2, true_diff = 0.1, theta_alt = 0.1, total_n = 1000, n_stream = 1):\n",
    "    a = np.log( beta / (1-alpha) )\n",
    "    b = np.log( (1-beta) / alpha )\n",
    "    Y = np.array([])\n",
    "    LR = np.repeat(0.0,int(total_n/n_stream))\n",
    "    decision = np.nan\n",
    "    for idx, i in enumerate(range(0,total_n,n_stream)):\n",
    "        y_new = norm.rvs(loc=true_diff,scale=1,size=n_stream)\n",
    "        Y = np.concatenate((Y,y_new))\n",
    "        LR[idx] = norm.logpdf(y_new,loc=theta_alt,scale=1).sum() - norm.logpdf(y_new,loc=0,scale=1).sum()\n",
    "        if sum(LR) < a:\n",
    "            decision = 0\n",
    "            break\n",
    "        elif sum(LR) > b:\n",
    "            decision = 1\n",
    "            break \n",
    "    plt.plot(np.cumsum(LR))\n",
    "    plt.axhline(y=a, color='r', linestyle='-')\n",
    "    plt.axhline(y=b, color='r', linestyle='-')\n",
    "    return idx+1, decision"
   ]
  },
  {
   "cell_type": "code",
   "execution_count": 5,
   "id": "0b49a905-0aaf-4ce8-9153-4f3621dde1c9",
   "metadata": {},
   "outputs": [
    {
     "data": {
      "image/png": "[encoded data removed]",
      "text/plain": [
       "<Figure size 432x288 with 1 Axes>"
      ]
     },
     "metadata": {
      "needs_background": "light"
     },
     "output_type": "display_data"
    }
   ],
   "source": [
    "n_total = np.array([])\n",
    "decision = np.array([])\n",
    "for i in range(10):\n",
    "    n, d = SLRT()\n",
    "    n_total = np.append(n_total,n)\n",
    "    decision =  np.append(decision, d)"
   ]
  },
  {
   "cell_type": "code",
   "execution_count": 127,
   "id": "f26bfaff-3e68-40a9-9600-b1dbc75f0082",
   "metadata": {},
   "outputs": [
    {
     "data": {
      "text/plain": [
       "0.7708333333333334"
      ]
     },
     "execution_count": 127,
     "metadata": {},
     "output_type": "execute_result"
    }
   ],
   "source": [
    "np.nanmean(decision) ## power"
   ]
  },
  {
   "cell_type": "code",
   "execution_count": 128,
   "id": "ce7cd885-ad84-4f98-b9cd-2007df143bac",
   "metadata": {},
   "outputs": [
    {
     "data": {
      "text/plain": [
       "391.25"
      ]
     },
     "execution_count": 128,
     "metadata": {},
     "output_type": "execute_result"
    }
   ],
   "source": [
    "np.mean(n_total)"
   ]
  },
  {
   "cell_type": "markdown",
   "id": "ac4e978d-2856-4148-a72e-e69c7581e72f",
   "metadata": {},
   "source": [
    "## Sample with weights"
   ]
  },
  {
   "cell_type": "code",
   "execution_count": 129,
   "id": "ccb49448-f001-4756-bcc5-612653ee491b",
   "metadata": {},
   "outputs": [],
   "source": [
    "import numpy as np"
   ]
  },
  {
   "cell_type": "code",
   "execution_count": 152,
   "id": "a68365b6-eae8-4f32-a2f0-3a700e7f029f",
   "metadata": {},
   "outputs": [],
   "source": [
    "rng = np.random.RandomState(0)\n",
    "weight = np.array([1,2,3,4,5])\n",
    "samples = rng.choice(5,p=weight/sum(weight),size=1000) ## In R, you don't have to normalize"
   ]
  },
  {
   "cell_type": "code",
   "execution_count": 153,
   "id": "0d894e6a-4e42-41d2-a7e1-549339ecd490",
   "metadata": {},
   "outputs": [],
   "source": [
    "import collections\n",
    "summary = collections.Counter(samples)"
   ]
  },
  {
   "cell_type": "code",
   "execution_count": 156,
   "id": "1c9ca5cf-0275-4ab7-a13a-424df507edd8",
   "metadata": {},
   "outputs": [
    {
     "data": {
      "text/plain": [
       "{0: 66, 1: 134, 2: 215, 3: 254, 4: 331}"
      ]
     },
     "execution_count": 156,
     "metadata": {},
     "output_type": "execute_result"
    }
   ],
   "source": [
    "dict(sorted(summary.items(), key = lambda x: x[0]))"
   ]
  },
  {
   "cell_type": "code",
   "execution_count": 25,
   "id": "c3686e5e-c90c-4002-9889-b56d0ddb9ddf",
   "metadata": {},
   "outputs": [
    {
     "data": {
      "text/plain": [
       "1"
      ]
     },
     "execution_count": 25,
     "metadata": {},
     "output_type": "execute_result"
    }
   ],
   "source": [
    "temp = [[]]\n",
    "len(temp)"
   ]
  },
  {
   "cell_type": "code",
   "execution_count": 24,
   "id": "d244e75d-765e-4bf3-ba7f-bb3210f763b4",
   "metadata": {},
   "outputs": [
    {
     "name": "stdout",
     "output_type": "stream",
     "text": [
      "8\n"
     ]
    }
   ],
   "source": [
    "if temp:\n",
    "    print(8)"
   ]
  },
  {
   "cell_type": "code",
   "execution_count": 27,
   "id": "433ede4e-7b9d-4901-85cf-ee5f80612a41",
   "metadata": {},
   "outputs": [
    {
     "data": {
      "text/plain": [
       "5"
      ]
     },
     "execution_count": 27,
     "metadata": {},
     "output_type": "execute_result"
    }
   ],
   "source": [
    "ord(\"5\") - ord('0')"
   ]
  },
  {
   "cell_type": "markdown",
   "id": "b7a18751-2abc-45a0-9714-dffaee90e837",
   "metadata": {},
   "source": [
    "## Extreme value (fat tail)"
   ]
  },
  {
   "cell_type": "code",
   "execution_count": 20,
   "id": "3f783bb6-8148-4568-9ef1-f27e5c76d0b1",
   "metadata": {},
   "outputs": [
    {
     "data": {
      "image/png": "[encoded data removed]",
      "text/plain": [
       "<Figure size 640x480 with 1 Axes>"
      ]
     },
     "metadata": {},
     "output_type": "display_data"
    }
   ],
   "source": [
    "import numpy as np\n",
    "import scipy.stats as stats\n",
    "import matplotlib.pyplot as plt\n",
    "\n",
    "# Parameters\n",
    "N = 1000  # Number of random variables\n",
    "degrees_of_freedom = 3  # Degrees of freedom for Student's t-distribution\n",
    "\n",
    "# Step 1: Generate N random variables from a Student's t-distribution\n",
    "student_t_rvs = stats.t.rvs(df=degrees_of_freedom, size=N)\n",
    "\n",
    "# Step 2: Transform these variables to approximate a Frechét distribution\n",
    "# Frechét parameters from the image: alpha = 3, beta = 32\n",
    "alpha = 3\n",
    "beta = 32\n",
    "\n",
    "# Transform the t-distributed variables into Frechét-distributed variables\n",
    "frechet_rvs = beta * (np.abs(student_t_rvs)) ** (-1 / alpha)\n",
    "\n",
    "# Step 3: Plot the histogram of the generated data\n",
    "plt.hist(frechet_rvs, bins=50, density=True, alpha=0.7, color='b', label=\"Generated Data\")\n",
    "\n",
    "# Step 4: Plot the actual Frechét distribution for comparison using the Generalized Extreme Value (GEV) distribution\n",
    "# The Frechét distribution is a GEV with shape parameter c = -1/alpha\n",
    "c = -1 / alpha  # Frechét shape parameter\n",
    "x = np.linspace(0, np.max(frechet_rvs), 1000)\n",
    "frechet_pdf = stats.genextreme.pdf(x, c=c, scale=beta)\n",
    "plt.plot(x, frechet_pdf, 'r-', lw=2, label='Frechét PDF (GEV)')\n",
    "\n",
    "# Labels and title\n",
    "plt.title('Frechét Distribution Fit (alpha=3, beta=32)')\n",
    "plt.xlabel('x')\n",
    "plt.ylabel('Density')\n",
    "plt.legend()\n",
    "plt.show()\n"
   ]
  },
  {
   "cell_type": "code",
   "execution_count": 24,
   "id": "c7950e26-750f-4101-9a88-d2fd01cf7ba3",
   "metadata": {},
   "outputs": [
    {
     "data": {
      "text/plain": [
       "576.5302807276903"
      ]
     },
     "execution_count": 24,
     "metadata": {},
     "output_type": "execute_result"
    }
   ],
   "source": [
    "max(frechet_rvs)"
   ]
  },
  {
   "cell_type": "markdown",
   "id": "18cf06d3-709b-43f6-8867-5f8c2475a3ea",
   "metadata": {},
   "source": [
    "## Scale-invariance of power distribution"
   ]
  },
  {
   "cell_type": "code",
   "execution_count": 27,
   "id": "b0c6cebd-3dd5-40a9-8bb1-4204fdcfc809",
   "metadata": {},
   "outputs": [
    {
     "data": {
      "image/png": "[encoded data removed]",
      "text/plain": [
       "<Figure size 1000x600 with 1 Axes>"
      ]
     },
     "metadata": {},
     "output_type": "display_data"
    },
    {
     "data": {
      "image/png": "[encoded data removed]",
      "text/plain": [
       "<Figure size 1000x600 with 1 Axes>"
      ]
     },
     "metadata": {},
     "output_type": "display_data"
    }
   ],
   "source": [
    "import numpy as np\n",
    "import matplotlib.pyplot as plt\n",
    "\n",
    "# Parameters for the power-law distribution\n",
    "alpha = 2.5  # Tail exponent\n",
    "x_min = 1\n",
    "N = 100000  # Number of data points\n",
    "\n",
    "# Step 1: Generate random variables following a power-law distribution\n",
    "# Using inverse transform sampling for a power-law distribution\n",
    "r = np.random.uniform(0, 1, N)\n",
    "power_law_data = x_min * (1 - r) ** (-1 / (alpha - 1))\n",
    "\n",
    "# Step 2: Plot the full power-law distribution (log-log plot for clarity)\n",
    "plt.figure(figsize=(10, 6))\n",
    "plt.hist(power_law_data, bins=np.logspace(np.log10(x_min), np.log10(np.max(power_law_data)), 50), density=True, alpha=0.7, label='Full Data')\n",
    "plt.xscale('log')\n",
    "plt.yscale('log')\n",
    "plt.xlabel('x (event size)')\n",
    "plt.ylabel('P(x)')\n",
    "plt.title('Full Power-Law Distribution')\n",
    "plt.legend()\n",
    "\n",
    "# Step 3: Zoom in on a smaller portion of the distribution (e.g., events with x > 10)\n",
    "zoom_factor = 10  # Zoom in on events larger than 10\n",
    "zoomed_data = power_law_data[power_law_data > zoom_factor]\n",
    "\n",
    "plt.figure(figsize=(10, 6))\n",
    "plt.hist(zoomed_data, bins=np.logspace(np.log10(zoom_factor), np.log10(np.max(zoomed_data)), 30), density=True, alpha=0.7, color='r', label=f'Zoomed Data (x > {zoom_factor})')\n",
    "plt.xscale('log')\n",
    "plt.yscale('log')\n",
    "plt.xlabel('x (event size)')\n",
    "plt.ylabel('P(x)')\n",
    "plt.title(f'Zoomed Portion of Power-Law Distribution (x > {zoom_factor})')\n",
    "plt.legend()\n",
    "\n",
    "plt.show()\n"
   ]
  },
  {
   "cell_type": "markdown",
   "id": "cd8c0b85-2522-4e5e-ba26-7e7fb8d211cf",
   "metadata": {},
   "source": [
    "### Efficiancy of median and mean"
   ]
  },
  {
   "cell_type": "code",
   "execution_count": 7,
   "id": "116d137a-9fda-404c-86bf-6d5bb7f5546b",
   "metadata": {},
   "outputs": [],
   "source": [
    "rng = np.random.RandomState(seed=8888)"
   ]
  },
  {
   "cell_type": "code",
   "execution_count": 31,
   "id": "55c4982f-6f35-4620-b079-adaa0f8fb121",
   "metadata": {},
   "outputs": [],
   "source": [
    "def sample_gumbel(loc=0, scale=1, size=1000, func=None):\n",
    "    \"\"\"\n",
    "    Generate samples from a Gumbel distribution and optionally apply a function.\n",
    "    \n",
    "    Parameters:\n",
    "    - loc: location parameter (default 0)\n",
    "    - scale: scale parameter (default 1)\n",
    "    - size: number of samples to generate\n",
    "    - func: function to apply to the samples (default None)\n",
    "    \n",
    "    Returns:\n",
    "    - If func is None: Array of samples from the Gumbel distribution\n",
    "    - If func is provided: Result of applying func to the samples\n",
    "    \"\"\"\n",
    "    u = np.random.uniform(0, 1, size=size)\n",
    "    samples = loc - scale * np.log(-np.log(u))\n",
    "    \n",
    "    if func is not None:\n",
    "        return func(samples)\n",
    "    else:\n",
    "        return samples"
   ]
  },
  {
   "cell_type": "code",
   "execution_count": null,
   "id": "0c475b5a-1e21-442b-89ec-89836749edf6",
   "metadata": {},
   "outputs": [],
   "source": [
    "def sample_frechet():\n",
    "    # Parameters\n",
    "    N = 1000  # Number of random variables\n",
    "    degrees_of_freedom = 3  # Degrees of freedom for Student's t-distribution\n",
    "    \n",
    "    # Step 1: Generate N random variables from a Student's t-distribution\n",
    "    student_t_rvs = stats.t.rvs(df=degrees_of_freedom, size=N)\n",
    "    \n",
    "    # Step 2: Transform these variables to approximate a Frechét distribution\n",
    "    # Frechét parameters from the image: alpha = 3, beta = 32\n",
    "    alpha = 3\n",
    "    beta = 32\n",
    "    \n",
    "    # Transform the t-distributed variables into Frechét-distributed variables\n",
    "    frechet_rvs = beta * (np.abs(student_t_rvs)) ** (-1 / alpha)"
   ]
  },
  {
   "cell_type": "code",
   "execution_count": 61,
   "id": "ef778968-1bca-4328-a642-ce674eeacb53",
   "metadata": {},
   "outputs": [],
   "source": [
    "median_vec = Parallel(n_jobs=10)(delayed(sample_gumbel)(scale = 20, func=np.median) for _ in range(10000))\n",
    "mean_vec = Parallel(n_jobs=10)(delayed(sample_gumbel)(scale = 20, func=np.mean) for _ in range(10000))"
   ]
  },
  {
   "cell_type": "code",
   "execution_count": 62,
   "id": "da931e0d-287b-47f7-a2af-81802ef8f79b",
   "metadata": {},
   "outputs": [
    {
     "data": {
      "text/plain": [
       "False"
      ]
     },
     "execution_count": 62,
     "metadata": {},
     "output_type": "execute_result"
    }
   ],
   "source": [
    "np.var(mean_vec) > np.var(median_vec)"
   ]
  },
  {
   "cell_type": "code",
   "execution_count": 65,
   "id": "447e49a0-292a-4a3c-ab7c-89da297cd33a",
   "metadata": {},
   "outputs": [
    {
     "data": {
      "text/plain": [
       "(0.6587389712331541, 0.8231056315773402)"
      ]
     },
     "execution_count": 65,
     "metadata": {},
     "output_type": "execute_result"
    }
   ],
   "source": [
    "np.var(mean_vec),np.var(median_vec)"
   ]
  },
  {
   "cell_type": "markdown",
   "id": "ede7da4e-e7d6-4b81-9242-0fd7407fabee",
   "metadata": {},
   "source": [
    "## Median by hand"
   ]
  },
  {
   "cell_type": "code",
   "execution_count": 108,
   "id": "d3c143e5-efea-4a8b-a14b-e383b5961f45",
   "metadata": {},
   "outputs": [],
   "source": [
    "x = rng.normal(size=100)\n",
    "x = np.sort(x)"
   ]
  },
  {
   "cell_type": "code",
   "execution_count": 110,
   "id": "ff915a4e-7d82-41ed-b564-6fc66d14a409",
   "metadata": {},
   "outputs": [],
   "source": [
    "def temp_median(x):\n",
    "    n = len(x)\n",
    "    idx = n // 2\n",
    "    if n % 2 == 0:\n",
    "        return ((x[idx] + x[idx-1])/2)\n",
    "    else:\n",
    "        return x[idx]"
   ]
  },
  {
   "cell_type": "code",
   "execution_count": 112,
   "id": "51ba7dee-ae13-4f7c-9eca-584f7af21cef",
   "metadata": {},
   "outputs": [
    {
     "data": {
      "text/plain": [
       "True"
      ]
     },
     "execution_count": 112,
     "metadata": {},
     "output_type": "execute_result"
    }
   ],
   "source": [
    "temp_median(x) == np.median(x)"
   ]
  },
  {
   "cell_type": "markdown",
   "id": "ff27ac27-7179-4bd0-95fb-79792e4db6d6",
   "metadata": {},
   "source": [
    "## Truncated normal 1\n",
    "1.\tYou have random number X ~ N(mu, sigma^2), where mu and sigma^2 are unknown. You don't observe X, but observe Y, where Y=X if X<= 10; X>10 then Y unknown. How do you estimate mu and sigma^2?"
   ]
  },
  {
   "cell_type": "code",
   "execution_count": 523,
   "id": "114584a7-433b-4469-85b4-426f3cfb8364",
   "metadata": {},
   "outputs": [],
   "source": [
    "X_size = 10000\n",
    "X = rng.normal(size=X_size, loc = 9, scale = 4)\n",
    "Y = np.where(X <= 10, X, np.nan)\n",
    "Y_non_nan = Y[~np.isnan(Y)]"
   ]
  },
  {
   "cell_type": "code",
   "execution_count": 355,
   "id": "be1a0ebf-bca4-48ad-a789-d27044ede3cf",
   "metadata": {},
   "outputs": [],
   "source": [
    "import matplotlib.pyplot as plt"
   ]
  },
  {
   "cell_type": "code",
   "execution_count": 357,
   "id": "dd2f0dc3-72a9-4a00-ae2f-0de3125b7b98",
   "metadata": {},
   "outputs": [
    {
     "data": {
      "image/png": "[encoded data removed]",
      "text/plain": [
       "<Figure size 640x480 with 1 Axes>"
      ]
     },
     "metadata": {},
     "output_type": "display_data"
    }
   ],
   "source": [
    "plt.hist(Y_non_nan);"
   ]
  },
  {
   "cell_type": "code",
   "execution_count": 359,
   "id": "042891b9-e3e9-46fa-95f6-539f5d933e6d",
   "metadata": {},
   "outputs": [],
   "source": [
    "# Define bin edges with size 0.1\n",
    "bin_size = 0.2\n",
    "bin_edges = np.arange(np.min(Y_non_nan)-0.1, np.max(Y_non_nan), bin_size)\n",
    "\n",
    "# Use np.histogram to count the number of data points in each bin\n",
    "counts, _ = np.histogram(Y_non_nan, bins=bin_edges)\n",
    "\n",
    "# Convert bin edges and counts into a dictionary for easy access\n",
    "bin_counts = {f'{bin_edges[i]} - {bin_edges[i+1]}': counts[i] for i in range(len(counts))}\n"
   ]
  },
  {
   "cell_type": "code",
   "execution_count": 389,
   "id": "dd0baf4c-50f8-4734-aef4-c2a2fefff022",
   "metadata": {},
   "outputs": [
    {
     "data": {
      "text/plain": [
       "(80, 81)"
      ]
     },
     "execution_count": 389,
     "metadata": {},
     "output_type": "execute_result"
    }
   ],
   "source": [
    "len(counts), len(bin_edges)"
   ]
  },
  {
   "cell_type": "code",
   "execution_count": 361,
   "id": "2623afd7-7414-4b67-b1d0-3c5fe78d7405",
   "metadata": {},
   "outputs": [],
   "source": [
    "max_key = max(bin_counts.values())"
   ]
  },
  {
   "cell_type": "code",
   "execution_count": 363,
   "id": "bc92e40c-7303-46de-afce-6927b8f10a43",
   "metadata": {},
   "outputs": [
    {
     "data": {
      "text/plain": [
       "[('8.709796258908126 - 8.909796258908127', 223)]"
      ]
     },
     "execution_count": 363,
     "metadata": {},
     "output_type": "execute_result"
    }
   ],
   "source": [
    "[(bin, value) for bin, value in bin_counts.items() if value == max_key]"
   ]
  },
  {
   "cell_type": "code",
   "execution_count": 371,
   "id": "fd1f8c2d-ad78-43b9-babb-fb38a794f95e",
   "metadata": {},
   "outputs": [],
   "source": [
    "Y_non_nan_norm = Y_non_nan - 9"
   ]
  },
  {
   "cell_type": "code",
   "execution_count": 373,
   "id": "fce46a03-8f69-4061-8569-fbc1d416aecf",
   "metadata": {},
   "outputs": [
    {
     "data": {
      "image/png": "[encoded data removed]",
      "text/plain": [
       "<Figure size 640x480 with 1 Axes>"
      ]
     },
     "metadata": {},
     "output_type": "display_data"
    }
   ],
   "source": [
    "plt.hist(Y_non_nan_norm);"
   ]
  },
  {
   "cell_type": "code",
   "execution_count": 375,
   "id": "5da95bd3-a5eb-41db-8580-937c099435ac",
   "metadata": {},
   "outputs": [
    {
     "data": {
      "text/plain": [
       "3.9966757274072453"
      ]
     },
     "execution_count": 375,
     "metadata": {},
     "output_type": "execute_result"
    }
   ],
   "source": [
    "np.std(np.concatenate((Y_non_nan_norm[Y_non_nan_norm<=0],np.abs(Y_non_nan_norm[Y_non_nan_norm<=0]))))"
   ]
  },
  {
   "cell_type": "code",
   "execution_count": 423,
   "id": "3151fe17-2783-42be-8ee8-57252751d080",
   "metadata": {},
   "outputs": [
    {
     "name": "stdout",
     "output_type": "stream",
     "text": [
      "Estimated mu: 8.98943114023069\n",
      "Estimated sigma: 4.008274410964045\n"
     ]
    }
   ],
   "source": [
    "import numpy as np\n",
    "from scipy.stats import norm\n",
    "from scipy.optimize import minimize\n",
    "\n",
    "# Generate synthetic observed data for X <= 10\n",
    "np.random.seed(42)\n",
    "data = np.random.normal(loc=9, scale=4, size=10000)  # Normal distribution with mean=5, std=2\n",
    "observed_data = data[data <= 10]  # Only keep data where X <= 10\n",
    "censored_count = len(data[data > 10])  # Number of censored data points\n",
    "\n",
    "def log_likelihood(params, observed_data, censored_count):\n",
    "    mu, log_sigma = params  # log_sigma is unconstrained\n",
    "    sigma = np.exp(log_sigma)  # Transform to ensure sigma > 0\n",
    "    # Log-likelihood for observed data (X <= 10)\n",
    "    observed_ll = np.sum(norm.logpdf(observed_data, loc=mu, scale=sigma))\n",
    "    # Log-likelihood for censored data (X > 10)\n",
    "    censored_ll = censored_count * np.log(1 - norm.cdf(10, loc=mu, scale=sigma))\n",
    "    # Add Jacobian for the transformation of sigma = exp(log_sigma)\n",
    "    return -(observed_ll + censored_ll - log_sigma)  # Include Jacobian (log_sigma)\n",
    "\n",
    "# Initial guesses for mu and log_sigma\n",
    "initial_params = [5, np.log(2)]  # Start with log_sigma instead of sigma\n",
    "\n",
    "# Perform optimization without bounds since sigma is transformed to be positive\n",
    "result = minimize(log_likelihood, initial_params, args=(observed_data, censored_count))\n",
    "\n",
    "mu_hat, log_sigma_hat = result.x\n",
    "sigma_hat = np.exp(log_sigma_hat)\n",
    "print(f\"Estimated mu: {mu_hat}\")\n",
    "print(f\"Estimated sigma: {sigma_hat}\")\n"
   ]
  },
  {
   "cell_type": "markdown",
   "id": "d3aa53c2-a39c-4e84-b2dd-952e65c1c065",
   "metadata": {},
   "source": [
    "## Truncated normal 2\n",
    "\n",
    "假设现在有一个normal distribution with mean unknown，sd 1. 随机从这个distribution里面抽sample直到抽到的数字大于1，用这个数字和1.96进行比较，如果大于1.96就reject null hypothesis that the mean of the normal distribution is 1。要求用simulation来算type 1 error。"
   ]
  },
  {
   "cell_type": "code",
   "execution_count": 798,
   "id": "8514eeaf-ac98-4817-9fd6-83aac31b1b32",
   "metadata": {},
   "outputs": [],
   "source": [
    "from scipy.stats import truncnorm, norm"
   ]
  },
  {
   "cell_type": "markdown",
   "id": "26f0600f-8282-41d0-be27-5e624ad17485",
   "metadata": {},
   "source": [
    "### Standardized Bound Formulas for Truncated Normal Distribution:\n",
    "\n",
    "For a truncated normal distribution with mean $ \\mu $ and standard deviation $ \\sigma $, the standardized bounds are given by:\n",
    "\n",
    "$$\n",
    "a = \\frac{\\text{lower bound} - \\mu}{\\sigma}\n",
    "$$\n",
    "\n",
    "$$\n",
    "b = \\frac{\\text{upper bound} - \\mu}{\\sigma}\n",
    "$$\n",
    "\n",
    "Where:\n",
    "- $ a $ is the standardized lower bound.\n",
    "- $ b $ is the standardized upper bound.\n",
    "- $ \\mu $ is the mean of the truncated normal distribution.\n",
    "- $ \\sigma$ is the standard deviation (scale) of the distribution.\n"
   ]
  },
  {
   "cell_type": "code",
   "execution_count": 913,
   "id": "f974647b-a290-417e-8140-b036d8cfde12",
   "metadata": {},
   "outputs": [],
   "source": [
    "x = truncnorm.rvs(size=1000000,a=0,b=np.inf,loc=1,scale=1)"
   ]
  },
  {
   "cell_type": "code",
   "execution_count": 915,
   "id": "1c39eca6-3f13-4d62-9189-b132afb1455c",
   "metadata": {},
   "outputs": [
    {
     "data": {
      "image/png": "[encoded data removed]",
      "text/plain": [
       "<Figure size 640x480 with 1 Axes>"
      ]
     },
     "metadata": {},
     "output_type": "display_data"
    }
   ],
   "source": [
    "plt.hist(x);"
   ]
  },
  {
   "cell_type": "code",
   "execution_count": 917,
   "id": "850fe48e-aa31-4e92-80e2-99378d7167d4",
   "metadata": {},
   "outputs": [
    {
     "data": {
      "text/plain": [
       "0.336663"
      ]
     },
     "execution_count": 917,
     "metadata": {},
     "output_type": "execute_result"
    }
   ],
   "source": [
    "sum(x>=1.96)/len(x)"
   ]
  },
  {
   "cell_type": "code",
   "execution_count": 919,
   "id": "8da267e8-85f8-40de-a2a0-49477be04f9e",
   "metadata": {},
   "outputs": [],
   "source": [
    "x_norm = norm.rvs(size=1000000,loc=1,scale=1)\n",
    "x_trunc_norm = x_norm[x_norm>1]"
   ]
  },
  {
   "cell_type": "code",
   "execution_count": 921,
   "id": "187f5431-0a3c-44c1-af8f-e3256296fec4",
   "metadata": {},
   "outputs": [
    {
     "data": {
      "text/plain": [
       "0.33687528842062364"
      ]
     },
     "execution_count": 921,
     "metadata": {},
     "output_type": "execute_result"
    }
   ],
   "source": [
    "sum(x_trunc_norm>=1.96)/len(x_trunc_norm)"
   ]
  },
  {
   "cell_type": "code",
   "execution_count": 833,
   "id": "6c762da8-25e7-47e2-acbf-9023b264485d",
   "metadata": {},
   "outputs": [
    {
     "data": {
      "text/plain": [
       "0.33705521493367563"
      ]
     },
     "execution_count": 833,
     "metadata": {},
     "output_type": "execute_result"
    }
   ],
   "source": [
    "p_value = (1-norm.cdf(1.96, loc = 1)) / (1-norm.cdf(1, loc = 1))\n",
    "p_value"
   ]
  },
  {
   "cell_type": "code",
   "execution_count": 835,
   "id": "a59299d2-e334-4325-9e4a-63b1dc8c2bcb",
   "metadata": {},
   "outputs": [
    {
     "data": {
      "text/plain": [
       "0.33705521493367563"
      ]
     },
     "execution_count": 835,
     "metadata": {},
     "output_type": "execute_result"
    }
   ],
   "source": [
    "# more accurate than above\n",
    "norm.sf(1.96, loc = 1)/ norm.sf(1, loc = 1)"
   ]
  },
  {
   "cell_type": "code",
   "execution_count": 837,
   "id": "d32a2b07-ed08-49ba-8184-6a5469232e47",
   "metadata": {},
   "outputs": [
    {
     "data": {
      "text/plain": [
       "0.3370552149336757"
      ]
     },
     "execution_count": 837,
     "metadata": {},
     "output_type": "execute_result"
    }
   ],
   "source": [
    "# most accurate\n",
    "np.exp(norm.logsf(1.96, loc = 1)-norm.logsf(1, loc = 1))"
   ]
  },
  {
   "cell_type": "markdown",
   "id": "d92c2c9c-75d8-4501-9685-5390d1a217bf",
   "metadata": {},
   "source": [
    "4.\tNow, suppose that we employ the 1st option. Suppose that now the response is binary (better/worse), and we have 60 out of 100 subjects taking Drug A who felt better, and 70 out of 120 taking Drug B who felt better. How do you tell which drug is more effective?"
   ]
  },
  {
   "cell_type": "code",
   "execution_count": 449,
   "id": "91347cbc-1d1b-418d-9b76-b7fbc8aee5bc",
   "metadata": {},
   "outputs": [],
   "source": [
    "from scipy.stats import binom, norm"
   ]
  },
  {
   "cell_type": "markdown",
   "id": "3f6b7a77-01bf-4860-942b-b316c4314c72",
   "metadata": {},
   "source": [
    "__binomial test__"
   ]
  },
  {
   "cell_type": "code",
   "execution_count": 443,
   "id": "a7306369-73f7-4646-9c41-48a09412cc69",
   "metadata": {},
   "outputs": [
    {
     "data": {
      "text/plain": [
       "0.6809906480947429"
      ]
     },
     "execution_count": 443,
     "metadata": {},
     "output_type": "execute_result"
    }
   ],
   "source": [
    "## p_value\n",
    "1-binom.cdf(69, n=120,p=0.6)"
   ]
  },
  {
   "cell_type": "markdown",
   "id": "e0eb261e-098e-4728-bb56-1c18c549ac78",
   "metadata": {},
   "source": [
    "__using the pooled test__"
   ]
  },
  {
   "cell_type": "code",
   "execution_count": 459,
   "id": "993b77d0-0cba-41f2-b12f-1a9037e4db9d",
   "metadata": {},
   "outputs": [
    {
     "data": {
      "text/plain": [
       "0.40115607605930637"
      ]
     },
     "execution_count": 459,
     "metadata": {},
     "output_type": "execute_result"
    }
   ],
   "source": [
    "p1 = 60/100\n",
    "p2 = 70/120\n",
    "p_pool = 130/220\n",
    "pq = p_pool * (1-p_pool)\n",
    "sd = np.sqrt(pq/100 + pq/120)\n",
    "z = (p1 - p2) / sd\n",
    "(1-norm.cdf(z))"
   ]
  },
  {
   "cell_type": "markdown",
   "id": "742b3bb3-b32c-4bd7-acb1-edf4a6197682",
   "metadata": {},
   "source": [
    "__using the more conservative un-pooled test__"
   ]
  },
  {
   "cell_type": "code",
   "execution_count": 467,
   "id": "76b46e41-4fd9-4f49-8b2c-e87c930b18d9",
   "metadata": {},
   "outputs": [
    {
     "data": {
      "text/plain": [
       "0.40108660023967624"
      ]
     },
     "execution_count": 467,
     "metadata": {},
     "output_type": "execute_result"
    }
   ],
   "source": [
    "sd = np.sqrt(p1*(1-p1)/100 + p2*(1-p2)/120)\n",
    "z = (p1 - p2) / sd\n",
    "(1-norm.cdf(z))"
   ]
  },
  {
   "cell_type": "code",
   "execution_count": 493,
   "id": "a8a56625-e78f-4cc1-af17-5484be9ee022",
   "metadata": {},
   "outputs": [
    {
     "data": {
      "text/plain": [
       "(1.0714285714285714, 0.8905700679510844)"
      ]
     },
     "execution_count": 493,
     "metadata": {},
     "output_type": "execute_result"
    }
   ],
   "source": [
    "table = [[60, 40], [70, 50]]  # Example counts for Drug A and Drug B\n",
    "\n",
    "# Perform Fisher's exact test\n",
    "odds_ratio, p_value = stats.fisher_exact(table)\n",
    "odds_ratio, p_value"
   ]
  },
  {
   "cell_type": "code",
   "execution_count": 495,
   "id": "004bf1de-3b8b-4398-b2d6-5bf78489d178",
   "metadata": {},
   "outputs": [
    {
     "data": {
      "text/plain": [
       "(0.01269230769230753,\n",
       " 0.910300001739743,\n",
       " array([[59.09090909, 40.90909091],\n",
       "        [70.90909091, 49.09090909]]))"
      ]
     },
     "execution_count": 495,
     "metadata": {},
     "output_type": "execute_result"
    }
   ],
   "source": [
    "# Create a contingency table for Drug A and Drug B outcomes\n",
    "# Drug A: 60 better out of 100\n",
    "# Drug B: 70 better out of 120\n",
    "\n",
    "observed = np.array([[60, 40], [70, 50]])  # [Better, Not Better] for Drug A and Drug B\n",
    "\n",
    "# Perform the chi-squared test of independence\n",
    "chi2_stat, chi2_p_value, dof, expected = stats.chi2_contingency(observed)\n",
    "\n",
    "chi2_stat, chi2_p_value, expected\n"
   ]
  },
  {
   "cell_type": "markdown",
   "id": "486acc92-bf15-45ec-8c53-5adde46740c9",
   "metadata": {},
   "source": [
    "## QQ plot"
   ]
  },
  {
   "cell_type": "code",
   "execution_count": 470,
   "id": "5c0281a1-8ce9-42d0-b079-3b773980c5d9",
   "metadata": {},
   "outputs": [
    {
     "data": {
      "image/png": "[encoded data removed]",
      "text/plain": [
       "<Figure size 800x600 with 1 Axes>"
      ]
     },
     "metadata": {},
     "output_type": "display_data"
    }
   ],
   "source": [
    "import numpy as np\n",
    "import matplotlib.pyplot as plt\n",
    "from scipy import stats\n",
    "\n",
    "# Generate some sample data\n",
    "data = np.random.normal(0, 1, 1000)\n",
    "\n",
    "# Create QQ plot\n",
    "fig, ax = plt.subplots(figsize=(8, 6))\n",
    "stats.probplot(data, dist=\"norm\", plot=ax)\n",
    "ax.set_title(\"QQ Plot\")\n",
    "plt.show()"
   ]
  },
  {
   "cell_type": "markdown",
   "id": "22852662-f555-478d-a2d6-2200705cbda7",
   "metadata": {},
   "source": [
    "## KS and Anderson-Darling test"
   ]
  },
  {
   "cell_type": "code",
   "execution_count": 475,
   "id": "2b02b6e9-cc05-4106-a91a-d4f752fa4952",
   "metadata": {},
   "outputs": [
    {
     "data": {
      "text/plain": [
       "(0.07131002177386914, 0.6625690639030705)"
      ]
     },
     "execution_count": 475,
     "metadata": {},
     "output_type": "execute_result"
    }
   ],
   "source": [
    "from scipy.stats import kstest, norm, anderson\n",
    "\n",
    "# Generate a random sample from a normal distribution\n",
    "data = norm.rvs(size=100, loc=0, scale=1)\n",
    "\n",
    "# Perform the KS test for normality\n",
    "ks_stat, p_value = kstest(data, 'norm')\n",
    "ks_stat, p_value"
   ]
  },
  {
   "cell_type": "code",
   "execution_count": 477,
   "id": "45f27d16-2b90-41ce-8a39-372fd58e2458",
   "metadata": {},
   "outputs": [
    {
     "name": "stdout",
     "output_type": "stream",
     "text": [
      "Anderson-Darling Statistic: 0.4007380493655148\n",
      "Critical Values: [0.555 0.632 0.759 0.885 1.053]\n",
      "Significance Levels: [15.  10.   5.   2.5  1. ]\n"
     ]
    }
   ],
   "source": [
    "result = anderson(data, dist='norm')\n",
    "\n",
    "print('Anderson-Darling Statistic:', result.statistic)\n",
    "print('Critical Values:', result.critical_values)\n",
    "print('Significance Levels:', result.significance_level)"
   ]
  },
  {
   "cell_type": "markdown",
   "id": "1ec7e137-f496-4c41-983a-ae2caebcde7e",
   "metadata": {},
   "source": [
    "# Sampling"
   ]
  },
  {
   "cell_type": "markdown",
   "id": "6b8c98d0-7206-404c-8cf8-9763c2535ea8",
   "metadata": {},
   "source": [
    "## rejection sampling\n",
    "\n",
    "using laplace distribution to sample normal"
   ]
  },
  {
   "cell_type": "code",
   "execution_count": 598,
   "id": "798570ce-4954-415b-9a14-22f69fcf7de9",
   "metadata": {},
   "outputs": [],
   "source": [
    "from scipy.stats import laplace"
   ]
  },
  {
   "cell_type": "code",
   "execution_count": 721,
   "id": "dcb6408f-90ea-4232-b7d5-b2b9889aa43e",
   "metadata": {},
   "outputs": [],
   "source": [
    "scale = 1\n",
    "x = laplace.rvs(size= 100000,scale = scale, loc=0)"
   ]
  },
  {
   "cell_type": "code",
   "execution_count": 723,
   "id": "56b07b5a-0446-4723-af98-6c62fd95e615",
   "metadata": {},
   "outputs": [
    {
     "data": {
      "text/plain": [
       "0.007373305674470638"
      ]
     },
     "execution_count": 723,
     "metadata": {},
     "output_type": "execute_result"
    }
   ],
   "source": [
    "M = np.sqrt(2/len(x)) * scale * np.exp(1/(2*scale**2))\n",
    "M"
   ]
  },
  {
   "cell_type": "code",
   "execution_count": 725,
   "id": "fd5aed31-8037-4adf-837f-6dd12f4d2a2e",
   "metadata": {},
   "outputs": [],
   "source": [
    "r = np.random.uniform(size = len(x))"
   ]
  },
  {
   "cell_type": "code",
   "execution_count": 741,
   "id": "5ff3511f-54c9-4f8c-bfa7-5ae4c2b1c438",
   "metadata": {},
   "outputs": [],
   "source": [
    "p_mask = r < norm.pdf(x) / (M * laplace.pdf(x, scale=scale, loc=0))"
   ]
  },
  {
   "cell_type": "code",
   "execution_count": 743,
   "id": "de7fe975-350c-4395-b682-92c873c51a32",
   "metadata": {},
   "outputs": [
    {
     "data": {
      "text/plain": [
       "98821"
      ]
     },
     "execution_count": 743,
     "metadata": {},
     "output_type": "execute_result"
    }
   ],
   "source": [
    "sum(p_mask)"
   ]
  },
  {
   "cell_type": "code",
   "execution_count": 745,
   "id": "ffb73a0e-eb9c-4b1e-9eac-3ed61d2d9f0f",
   "metadata": {},
   "outputs": [
    {
     "data": {
      "image/png": "[encoded data removed]",
      "text/plain": [
       "<Figure size 640x480 with 1 Axes>"
      ]
     },
     "metadata": {},
     "output_type": "display_data"
    }
   ],
   "source": [
    "plt.hist(x[p_mask]);"
   ]
  },
  {
   "cell_type": "code",
   "execution_count": 747,
   "id": "0d93cdc7-dd30-453b-a797-a5cd11732f19",
   "metadata": {},
   "outputs": [
    {
     "data": {
      "image/png": "[encoded data removed]",
      "text/plain": [
       "<Figure size 800x600 with 1 Axes>"
      ]
     },
     "metadata": {},
     "output_type": "display_data"
    }
   ],
   "source": [
    "fig, ax = plt.subplots(figsize=(8, 6))\n",
    "stats.probplot(x[p_mask],dist=\"norm\",plot=ax);"
   ]
  },
  {
   "cell_type": "code",
   "execution_count": 734,
   "id": "7f920498-29ab-48d1-873d-e43424e785fb",
   "metadata": {},
   "outputs": [
    {
     "data": {
      "text/plain": [
       "KstestResult(statistic=0.04280952007921701, pvalue=9.234348350644197e-158, statistic_location=1.7601516724130493, statistic_sign=-1)"
      ]
     },
     "execution_count": 734,
     "metadata": {},
     "output_type": "execute_result"
    }
   ],
   "source": [
    "kstest(x[p_mask], 'norm')"
   ]
  },
  {
   "cell_type": "code",
   "execution_count": 681,
   "id": "605eabeb-573a-4fa1-a658-6a0fdb83d458",
   "metadata": {},
   "outputs": [
    {
     "data": {
      "text/plain": [
       "AndersonResult(statistic=565.094334870606, critical_values=array([0.576, 0.656, 0.787, 0.918, 1.092]), significance_level=array([15. , 10. ,  5. ,  2.5,  1. ]), fit_result=  params: FitParams(loc=0.00044832975930020276, scale=1.2845844660059527)\n",
       " success: True\n",
       " message: '`anderson` successfully fit the distribution to the data.')"
      ]
     },
     "execution_count": 681,
     "metadata": {},
     "output_type": "execute_result"
    }
   ],
   "source": [
    "anderson(x[p_mask], dist='norm')"
   ]
  },
  {
   "cell_type": "markdown",
   "id": "bce6ba00-c8ff-4b6d-88ff-9db820a828f8",
   "metadata": {},
   "source": [
    "## Importance sampling"
   ]
  },
  {
   "cell_type": "code",
   "execution_count": 739,
   "id": "4ef25e49-1d51-4038-85d1-d592f3638faf",
   "metadata": {},
   "outputs": [],
   "source": [
    "## Sampling from Laplace proposal distribution\n",
    "scale = 1\n",
    "x = laplace.rvs(size= 100000,scale = scale, loc=0)"
   ]
  },
  {
   "cell_type": "code",
   "execution_count": 755,
   "id": "45d00027-cb3c-4392-86c8-c48da03c2eab",
   "metadata": {},
   "outputs": [],
   "source": [
    "## Obtaining importance sampling weights and normalize it\n",
    "weight = norm.pdf(x)/laplace.pdf(x,scale=scale, loc=0)\n",
    "weight_norm = weight/sum(weight)"
   ]
  },
  {
   "cell_type": "code",
   "execution_count": 765,
   "id": "b56cb56b-e84f-47d7-a1eb-ee24167ec938",
   "metadata": {},
   "outputs": [],
   "source": [
    "## Resample based on weigths\n",
    "ip_samples = np.random.choice(x,p=weight_norm,replace=False, size = 1000)"
   ]
  },
  {
   "cell_type": "code",
   "execution_count": 767,
   "id": "f2778dc5-a502-4232-9a52-66590b92b057",
   "metadata": {},
   "outputs": [
    {
     "data": {
      "image/png": "[encoded data removed]",
      "text/plain": [
       "<Figure size 640x480 with 1 Axes>"
      ]
     },
     "metadata": {},
     "output_type": "display_data"
    }
   ],
   "source": [
    "plt.hist(ip_samples);"
   ]
  },
  {
   "cell_type": "code",
   "execution_count": 773,
   "id": "947e9872-703b-451f-9d67-c3f581c85453",
   "metadata": {},
   "outputs": [
    {
     "data": {
      "image/png": "[encoded data removed]",
      "text/plain": [
       "<Figure size 800x600 with 1 Axes>"
      ]
     },
     "metadata": {},
     "output_type": "display_data"
    }
   ],
   "source": [
    "fig, ax = plt.subplots(figsize=(8,6))\n",
    "stats.probplot(ip_samples, plot=ax, dist='norm');"
   ]
  },
  {
   "cell_type": "code",
   "execution_count": 779,
   "id": "8d2b2da5-05a3-4c58-b002-32b67ceef344",
   "metadata": {},
   "outputs": [
    {
     "data": {
      "text/plain": [
       "KstestResult(statistic=0.03782125688895843, pvalue=0.11153509503632875, statistic_location=-0.2902270887955193, statistic_sign=-1)"
      ]
     },
     "execution_count": 779,
     "metadata": {},
     "output_type": "execute_result"
    }
   ],
   "source": [
    "kstest(ip_samples, 'norm')"
   ]
  },
  {
   "cell_type": "code",
   "execution_count": 781,
   "id": "7205f986-164b-48be-a995-70aa5c043e4f",
   "metadata": {},
   "outputs": [
    {
     "data": {
      "text/plain": [
       "AndersonResult(statistic=0.3709730508069242, critical_values=array([0.574, 0.653, 0.784, 0.914, 1.088]), significance_level=array([15. , 10. ,  5. ,  2.5,  1. ]), fit_result=  params: FitParams(loc=0.029647286461092142, scale=0.9685918409754403)\n",
       " success: True\n",
       " message: '`anderson` successfully fit the distribution to the data.')"
      ]
     },
     "execution_count": 781,
     "metadata": {},
     "output_type": "execute_result"
    }
   ],
   "source": [
    "anderson(ip_samples,'norm')"
   ]
  },
  {
   "cell_type": "markdown",
   "id": "d026d914-63ba-49dd-8b14-5726844cc0b1",
   "metadata": {},
   "source": []
  }
 ],
 "metadata": {
  "kernelspec": {
   "display_name": "Python 3 (ipykernel)",
   "language": "python",
   "name": "python3"
  },
  "language_info": {
   "codemirror_mode": {
    "name": "ipython",
    "version": 3
   },
   "file_extension": ".py",
   "mimetype": "text/x-python",
   "name": "python",
   "nbconvert_exporter": "python",
   "pygments_lexer": "ipython3",
   "version": "3.12.4"
  }
 },
 "nbformat": 4,
 "nbformat_minor": 5
}
