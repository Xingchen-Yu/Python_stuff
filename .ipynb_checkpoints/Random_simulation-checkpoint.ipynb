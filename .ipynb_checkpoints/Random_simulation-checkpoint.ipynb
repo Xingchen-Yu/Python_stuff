{
 "cells": [
  {
   "cell_type": "markdown",
   "id": "faba1c45-a27c-4b20-ad9b-7c7b2ff45b5b",
   "metadata": {},
   "source": [
    "This notebook includes many simulation to study many statisitcal problems"
   ]
  },
  {
   "cell_type": "code",
   "execution_count": 47,
   "id": "62240275-bed3-468a-843b-f620eb386105",
   "metadata": {},
   "outputs": [],
   "source": [
    "import numpy as np\n",
    "import pandas as pd\n",
    "import seaborn as sns\n",
    "from scipy import stats"
   ]
  },
  {
   "cell_type": "code",
   "execution_count": 4,
   "id": "f9411d6f-dbdb-4f8f-a228-668eebab6dde",
   "metadata": {},
   "outputs": [],
   "source": [
    "rng = np.random.RandomState(8888)"
   ]
  },
  {
   "cell_type": "code",
   "execution_count": 5,
   "id": "2e75fc9a-2dff-4ae6-80bf-9bbcc5dc9139",
   "metadata": {},
   "outputs": [
    {
     "data": {
      "text/plain": [
       "8.862893068247667"
      ]
     },
     "execution_count": 5,
     "metadata": {},
     "output_type": "execute_result"
    }
   ],
   "source": [
    "n = 100\n",
    "true_y = rng.normal(size=n,loc = 0,scale=3)\n",
    "np.var(true_y)"
   ]
  },
  {
   "cell_type": "markdown",
   "id": "2b783998-5dcd-426b-8488-dee402b92651",
   "metadata": {},
   "source": [
    "Samples are correlated (some user's measurement were taken multiple times), bootstrap can correct it (assuming `true_y` is I.I.D)\n",
    "\n",
    "__Recall from A/B Testing books: Having the randomization unit be coarser than the analysis uniut, such as randomizing by user and the click-through rate (by page) , will work, but requires more nuanced anlayses methods such as bootstrap or the delta method__."
   ]
  },
  {
   "cell_type": "code",
   "execution_count": 6,
   "id": "b7056df2-7088-420a-be6d-00cf20f873bc",
   "metadata": {},
   "outputs": [],
   "source": [
    "n_replicates = 1000\n",
    "out = rng.choice(true_y,size=(n_replicates,n))"
   ]
  },
  {
   "cell_type": "code",
   "execution_count": 7,
   "id": "ce4b7609-f628-44b2-b17a-7cf05fb3a557",
   "metadata": {},
   "outputs": [
    {
     "data": {
      "text/plain": [
       "8.834754276635184"
      ]
     },
     "execution_count": 7,
     "metadata": {},
     "output_type": "execute_result"
    }
   ],
   "source": [
    "np.mean(out.var(axis=1))"
   ]
  },
  {
   "cell_type": "markdown",
   "id": "5465f5fd-13e2-43b5-bc37-0cc805874d3c",
   "metadata": {},
   "source": [
    "__Outlier effect on A/B testing, p-value of 0.32 and T-stat of 1.__\n",
    "\n",
    "https://statisticaloddsandends.wordpress.com/2020/10/01/p-value-around-0-32-you-may-have-a-problem-with-outliers/"
   ]
  },
  {
   "cell_type": "code",
   "execution_count": 15,
   "id": "5433165a-fcb0-4dce-898a-c9593cd93704",
   "metadata": {},
   "outputs": [
    {
     "data": {
      "text/plain": [
       "Ttest_1sampResult(statistic=-1.4600255827489745, pvalue=0.14744918186569625)"
      ]
     },
     "execution_count": 15,
     "metadata": {},
     "output_type": "execute_result"
    }
   ],
   "source": [
    "n = 100\n",
    "a = rng.uniform(size = n)\n",
    "b = rng.uniform(size = n)\n",
    "stats.ttest_1samp(a,popmean= 1/2 )"
   ]
  },
  {
   "cell_type": "markdown",
   "id": "f1e5ab19-4264-4170-89f2-485fb5c4f83f",
   "metadata": {},
   "source": [
    "#### still same conclusion (insignificant) due to cancellation of the outlier in both numerator and denominator"
   ]
  },
  {
   "cell_type": "markdown",
   "id": "b8f9692a-07bc-43db-8d4a-f9ccbec5aad7",
   "metadata": {},
   "source": [
    "Assume paired test"
   ]
  },
  {
   "cell_type": "code",
   "execution_count": 16,
   "id": "4689b9f0-1c6e-45d9-8be3-8b612250abf7",
   "metadata": {},
   "outputs": [
    {
     "data": {
      "text/plain": [
       "Ttest_1sampResult(statistic=0.9996142250135274, pvalue=0.31993426353989773)"
      ]
     },
     "execution_count": 16,
     "metadata": {},
     "output_type": "execute_result"
    }
   ],
   "source": [
    "a[-1] = 10000\n",
    "stats.ttest_1samp(a,popmean=1/2)"
   ]
  },
  {
   "cell_type": "code",
   "execution_count": 17,
   "id": "52198b4d-25c5-4c14-93ce-06adae04c14e",
   "metadata": {},
   "outputs": [
    {
     "data": {
      "text/plain": [
       "Ttest_1sampResult(statistic=0.999533781835471, pvalue=0.31997301403859324)"
      ]
     },
     "execution_count": 17,
     "metadata": {},
     "output_type": "execute_result"
    }
   ],
   "source": [
    "stats.ttest_1samp(a-b,popmean=0)"
   ]
  },
  {
   "cell_type": "code",
   "execution_count": 18,
   "id": "08732010-9e22-45c0-9f79-e74a035cf76a",
   "metadata": {},
   "outputs": [
    {
     "data": {
      "text/plain": [
       "Ttest_relResult(statistic=0.999533781835471, pvalue=0.31997301403859324)"
      ]
     },
     "execution_count": 18,
     "metadata": {},
     "output_type": "execute_result"
    }
   ],
   "source": [
    "stats.ttest_rel(a,b)"
   ]
  },
  {
   "cell_type": "markdown",
   "id": "c4fbaac7-9cb6-4df4-8605-ffb88a6d4b76",
   "metadata": {},
   "source": [
    "Assume independent two sample test"
   ]
  },
  {
   "cell_type": "code",
   "execution_count": 19,
   "id": "15d42059-b1d1-4c20-a1a5-fd0dfb48ef9d",
   "metadata": {},
   "outputs": [
    {
     "data": {
      "text/plain": [
       "Ttest_indResult(statistic=0.9995821663324865, pvalue=0.31873277752641305)"
      ]
     },
     "execution_count": 19,
     "metadata": {},
     "output_type": "execute_result"
    }
   ],
   "source": [
    "stats.ttest_ind(a,b)"
   ]
  },
  {
   "cell_type": "code",
   "execution_count": 20,
   "id": "1c1534ce-ab89-4a34-b20a-b951059aab77",
   "metadata": {},
   "outputs": [
    {
     "data": {
      "text/plain": [
       "Ttest_indResult(statistic=0.9995821663324865, pvalue=0.87)"
      ]
     },
     "execution_count": 20,
     "metadata": {},
     "output_type": "execute_result"
    }
   ],
   "source": [
    "stats.ttest_ind(a,b,permutations = 1000)"
   ]
  },
  {
   "cell_type": "markdown",
   "id": "0cc529e6-ebf0-4952-88ee-aa7aa719c711",
   "metadata": {},
   "source": [
    "__T-stats__"
   ]
  },
  {
   "cell_type": "code",
   "execution_count": 13,
   "id": "abe1ceb9-b729-4212-bbd3-b4a5a404442a",
   "metadata": {},
   "outputs": [
    {
     "data": {
      "text/plain": [
       "1.0102845891186012"
      ]
     },
     "execution_count": 13,
     "metadata": {},
     "output_type": "execute_result"
    }
   ],
   "source": [
    "a.mean()/(a.std()/np.sqrt(n))"
   ]
  },
  {
   "cell_type": "markdown",
   "id": "6e914c5f-d29d-4275-b112-d099b6a395e9",
   "metadata": {
    "tags": []
   },
   "source": [
    "## Permutation test\n",
    "\n",
    "Non-parametric test when the normality of tests do not hold"
   ]
  },
  {
   "cell_type": "code",
   "execution_count": 65,
   "id": "6944eee1-48d9-41ab-9766-ded8fb4f19c0",
   "metadata": {},
   "outputs": [],
   "source": [
    "n = 100\n",
    "treat_effect = 0.3\n",
    "control = 1 + np.random.normal(size = n)\n",
    "treatment = 1 + np.random.normal(size = n) + treat_effect"
   ]
  },
  {
   "cell_type": "code",
   "execution_count": 66,
   "id": "0ecabec1-24ec-4dd1-9a15-74e96f2561dc",
   "metadata": {},
   "outputs": [
    {
     "data": {
      "text/plain": [
       "Ttest_indResult(statistic=-2.817861558598173, pvalue=0.005324791945203552)"
      ]
     },
     "execution_count": 66,
     "metadata": {},
     "output_type": "execute_result"
    }
   ],
   "source": [
    "stats.ttest_ind(control,treatment)"
   ]
  },
  {
   "cell_type": "code",
   "execution_count": 67,
   "id": "d8c6f62d-7ca6-4c70-ba69-350221d15d85",
   "metadata": {},
   "outputs": [
    {
     "data": {
      "text/plain": [
       "Ttest_indResult(statistic=-2.817861558598173, pvalue=0.0041)"
      ]
     },
     "execution_count": 67,
     "metadata": {},
     "output_type": "execute_result"
    }
   ],
   "source": [
    "stats.ttest_ind(control,treatment,permutations = 10000)"
   ]
  },
  {
   "cell_type": "code",
   "execution_count": null,
   "id": "8078dd97-76f4-49dc-b8cc-0d4a9cf3e176",
   "metadata": {},
   "outputs": [],
   "source": []
  }
 ],
 "metadata": {
  "kernelspec": {
   "display_name": "Python 3 (ipykernel)",
   "language": "python",
   "name": "python3"
  },
  "language_info": {
   "codemirror_mode": {
    "name": "ipython",
    "version": 3
   },
   "file_extension": ".py",
   "mimetype": "text/x-python",
   "name": "python",
   "nbconvert_exporter": "python",
   "pygments_lexer": "ipython3",
   "version": "3.9.7"
  }
 },
 "nbformat": 4,
 "nbformat_minor": 5
}
