{
 "cells": [
  {
   "cell_type": "markdown",
   "id": "63c71cc8-4b4a-400e-8094-bd266a6fa4e4",
   "metadata": {},
   "source": [
    "# Udemy coding questions"
   ]
  },
  {
   "cell_type": "markdown",
   "id": "ffbcc357-f644-4e92-b75a-2ac093688bb6",
   "metadata": {},
   "source": [
    "## Given an array of integers (positive and negative) write a program that can find the largest continuous sum."
   ]
  },
  {
   "cell_type": "code",
   "execution_count": 1,
   "id": "28823c57-e838-4a48-833d-2670d4438192",
   "metadata": {
    "tags": []
   },
   "outputs": [
    {
     "data": {
      "text/plain": [
       "array([ 1.76405235,  0.40015721,  0.97873798,  2.2408932 ,  1.86755799,\n",
       "       -0.97727788,  0.95008842, -0.15135721, -0.10321885,  0.4105985 ,\n",
       "        0.14404357,  1.45427351,  0.76103773,  0.12167502,  0.44386323,\n",
       "        0.33367433,  1.49407907, -0.20515826,  0.3130677 , -0.85409574,\n",
       "       -2.55298982,  0.6536186 ,  0.8644362 , -0.74216502,  2.26975462,\n",
       "       -1.45436567,  0.04575852, -0.18718385,  1.53277921,  1.46935877,\n",
       "        0.15494743,  0.37816252, -0.88778575, -1.98079647, -0.34791215,\n",
       "        0.15634897,  1.23029068,  1.20237985, -0.38732682, -0.30230275,\n",
       "       -1.04855297, -1.42001794, -1.70627019,  1.9507754 , -0.50965218,\n",
       "       -0.4380743 , -1.25279536,  0.77749036, -1.61389785, -0.21274028,\n",
       "       -0.89546656,  0.3869025 , -0.51080514, -1.18063218, -0.02818223,\n",
       "        0.42833187,  0.06651722,  0.3024719 , -0.63432209, -0.36274117,\n",
       "       -0.67246045, -0.35955316, -0.81314628, -1.7262826 ,  0.17742614,\n",
       "       -0.40178094, -1.63019835,  0.46278226, -0.90729836,  0.0519454 ,\n",
       "        0.72909056,  0.12898291,  1.13940068, -1.23482582,  0.40234164,\n",
       "       -0.68481009, -0.87079715, -0.57884966, -0.31155253,  0.05616534,\n",
       "       -1.16514984,  0.90082649,  0.46566244, -1.53624369,  1.48825219,\n",
       "        1.89588918,  1.17877957, -0.17992484, -1.07075262,  1.05445173,\n",
       "       -0.40317695,  1.22244507,  0.20827498,  0.97663904,  0.3563664 ,\n",
       "        0.70657317,  0.01050002,  1.78587049,  0.12691209,  0.40198936])"
      ]
     },
     "execution_count": 1,
     "metadata": {},
     "output_type": "execute_result"
    }
   ],
   "source": [
    "import numpy as np\n",
    "rng = np.random.RandomState(0)\n",
    "x = rng.normal(size = 100)\n",
    "x"
   ]
  },
  {
   "cell_type": "code",
   "execution_count": 2,
   "id": "254862f0-50b4-4a1c-987d-e9e55bd0bf63",
   "metadata": {},
   "outputs": [],
   "source": [
    "def find_largest_continuous_sum (x = []):\n",
    "    current_sum = 0 \n",
    "    largest_sum = 0\n",
    "    for i in range(len(x)):\n",
    "        x_i = x[i:]\n",
    "        ## redundant, see below solution\n",
    "        current_sum =max([sum(x_i[:j]) for j in range(len(x_i) + 1)])\n",
    "        #current_sum = np.cumsum(x[i:]).max()\n",
    "        largest_sum = current_sum if current_sum > largest_sum else largest_sum\n",
    "    \n",
    "    return(largest_sum)\n",
    "\n",
    "\n",
    "def find_largest_continuous_sum_better (x = []):\n",
    "    current_sum = 0 \n",
    "    largest_sum = 0\n",
    "    for x_i in x:\n",
    "        current_sum = max(current_sum+x_i, x_i)\n",
    "        largest_sum = max(current_sum,largest_sum)\n",
    "    \n",
    "    return(largest_sum)\n",
    "      "
   ]
  },
  {
   "cell_type": "code",
   "execution_count": 3,
   "id": "c4ad49f2-fbcd-4ca3-872e-3bcb344ac346",
   "metadata": {},
   "outputs": [
    {
     "name": "stdout",
     "output_type": "stream",
     "text": [
      "13.818803363194323 0 24 24 11 14 12 100\n"
     ]
    }
   ],
   "source": [
    "print(find_largest_continuous_sum(x),\n",
    "      find_largest_continuous_sum([]),\n",
    "      find_largest_continuous_sum([7,8,9]),\n",
    "      find_largest_continuous_sum([-1,7,8,9,-10]),\n",
    "      find_largest_continuous_sum([2,3,-10,9,2]),\n",
    "      find_largest_continuous_sum([2,11,-10,9,2]),\n",
    "      find_largest_continuous_sum([12,-10,7,-8,4,6]),\n",
    "     find_largest_continuous_sum([100,-10,7,-8,4,6]))"
   ]
  },
  {
   "cell_type": "code",
   "execution_count": 4,
   "id": "1e5e7538-bcb3-426c-bf65-6c1e017dd717",
   "metadata": {},
   "outputs": [
    {
     "name": "stdout",
     "output_type": "stream",
     "text": [
      "13.818803363194323 0 24 24 11 14 12 100\n"
     ]
    }
   ],
   "source": [
    "print(find_largest_continuous_sum_better(x),\n",
    "      find_largest_continuous_sum([]),\n",
    "      find_largest_continuous_sum_better([7,8,9]),\n",
    "      find_largest_continuous_sum_better([-1,7,8,9,-10]),\n",
    "      find_largest_continuous_sum_better([2,3,-10,9,2]),\n",
    "      find_largest_continuous_sum_better([2,11,-10,9,2]),\n",
    "      find_largest_continuous_sum_better([12,-10,7,-8,4,6]),\n",
    "     find_largest_continuous_sum_better([100,-10,7,-8,4,6]))"
   ]
  },
  {
   "cell_type": "code",
   "execution_count": null,
   "id": "a2f1c984-8ecf-431a-9b4c-d646b7178fcc",
   "metadata": {},
   "outputs": [],
   "source": [
    "%timeit find_largest_continuous_sum_better(x)"
   ]
  },
  {
   "cell_type": "code",
   "execution_count": null,
   "id": "66747b99-f2ea-4c5d-92d6-64f83807c180",
   "metadata": {},
   "outputs": [],
   "source": [
    "%timeit find_largest_continuous_sum(x)"
   ]
  },
  {
   "cell_type": "markdown",
   "id": "3a5acabd-b947-4b4f-8507-d70676f0ce7f",
   "metadata": {},
   "source": [
    "#### don't forget to `+1` when using length for indexing"
   ]
  },
  {
   "cell_type": "code",
   "execution_count": 5,
   "id": "77e042bf-88d6-496f-b0ba-249952ba53b0",
   "metadata": {},
   "outputs": [
    {
     "data": {
      "text/plain": [
       "[0, 1, 2, 3, 4]"
      ]
     },
     "execution_count": 5,
     "metadata": {},
     "output_type": "execute_result"
    }
   ],
   "source": [
    "x_temp = list(range(5))\n",
    "x_temp"
   ]
  },
  {
   "cell_type": "code",
   "execution_count": 6,
   "id": "902e322f-e90a-4300-8987-8f159d79eb90",
   "metadata": {},
   "outputs": [
    {
     "name": "stdout",
     "output_type": "stream",
     "text": [
      "[0, 1, 2, 3, 4] [0, 1, 2, 3, 4]\n"
     ]
    }
   ],
   "source": [
    "print(x_temp[0:5],x_temp[0:len(x_temp)+1])"
   ]
  },
  {
   "cell_type": "markdown",
   "id": "ef9a71a7-a2f6-4e73-8a41-3a3c08777857",
   "metadata": {
    "tags": []
   },
   "source": [
    "## Given a string in the form 'AAAABBBBCCCCCDDEEEE' compress it to become 'A4B4C5D2E4'. \n"
   ]
  },
  {
   "cell_type": "code",
   "execution_count": 12,
   "id": "dae4e05c-0576-4961-ae96-f3fd53288f04",
   "metadata": {},
   "outputs": [],
   "source": [
    "import pandas as pd\n",
    "import numpy as np\n",
    "x = 'AAAABBBBCCCCCDDEEEE'\n",
    "\n",
    "def split_string_count(x=[]):\n",
    "    str_list = [x_i for x_i in x]\n",
    "    unique_list = np.unique(str_list)\n",
    "    df = pd.DataFrame({'strings':str_list})\n",
    "    kobe = df.groupby(['strings']).size().reset_index(name='n')\n",
    "    out = [kobe.strings[i] + str(kobe['n'][i]) for i in range(len(unique_list))]\n",
    "    return(\"\".join(out))\n",
    "\n",
    "# def split_string_count_new(x=[]):\n",
    "#     str_list = [x_i for x_i in x]\n",
    "#     unique_list = []\n",
    "#     count_list = []\n",
    "#     for x_i in str_list:\n",
    "#         check = len(list(set(x_i) - set(unique_list)))\n",
    "#         if check>0:\n",
    "#             unique_list.append(x_i)\n",
    "#             count_list.append(1)\n",
    "#         else:\n",
    "#             sum(str_list[i])\n",
    "   "
   ]
  },
  {
   "cell_type": "code",
   "execution_count": 13,
   "id": "dfea8ab3-1b05-49db-ab44-53d3947b98b7",
   "metadata": {},
   "outputs": [
    {
     "data": {
      "text/plain": [
       "'A4B4C5D2E4'"
      ]
     },
     "execution_count": 13,
     "metadata": {},
     "output_type": "execute_result"
    }
   ],
   "source": [
    "split_string_count(x)"
   ]
  },
  {
   "cell_type": "code",
   "execution_count": 24,
   "id": "730fba17-4bf7-472c-922a-cc0e695e0fe8",
   "metadata": {},
   "outputs": [
    {
     "data": {
      "text/plain": [
       "'A1B1C1D4'"
      ]
     },
     "execution_count": 24,
     "metadata": {},
     "output_type": "execute_result"
    }
   ],
   "source": [
    "split_string_count('ABCDDDD')"
   ]
  },
  {
   "cell_type": "code",
   "execution_count": 28,
   "id": "aeb789f5-5120-461e-9d0a-1d67d07b1a90",
   "metadata": {},
   "outputs": [
    {
     "data": {
      "text/plain": [
       "2"
      ]
     },
     "execution_count": 28,
     "metadata": {},
     "output_type": "execute_result"
    }
   ],
   "source": [
    "sum([['A','A','B'][i] == 'A' for i in range(3)])"
   ]
  },
  {
   "cell_type": "markdown",
   "id": "e1b1cec0-f9df-43c8-8275-10e51b62b197",
   "metadata": {},
   "source": [
    "## Write an algorithm that figures out what days (index of array) you could buy and sell the stock for maximum profit.\n",
    "You are given an array of historical stock prices per day, for example `[ 6 ,13 , 2, 10 , 3, 5]`,\n",
    "You make the most profit by buying on day 3 (price of `$2`) and selling on day 4 (price of `$10`), netting you an `$8` gain.\n",
    "\n",
    "\n"
   ]
  },
  {
   "cell_type": "markdown",
   "id": "fa619222-21f7-4dbc-b5c4-e488496ae2c8",
   "metadata": {},
   "source": [
    "__Think about edge cases like below__"
   ]
  },
  {
   "cell_type": "code",
   "execution_count": 75,
   "id": "2d658014-ccde-460a-a33f-e1dba67253c1",
   "metadata": {},
   "outputs": [],
   "source": [
    "def to_the_moon(x=[]):\n",
    "    if len(x) <2 :\n",
    "        return print('need more prices')\n",
    "    else:\n",
    "        x = np.array(x)\n",
    "        n = len(x)\n",
    "        x_buy = x[np.array(list(range(0,n-1)))]\n",
    "        x_sell = x[np.array(list(range(1,n)))]\n",
    "        return((x_sell - x_buy).argmax() + 1)"
   ]
  },
  {
   "cell_type": "code",
   "execution_count": 76,
   "id": "16d20d72-2bf8-4a64-b396-9c789dd376ed",
   "metadata": {},
   "outputs": [
    {
     "data": {
      "text/plain": [
       "3"
      ]
     },
     "execution_count": 76,
     "metadata": {},
     "output_type": "execute_result"
    }
   ],
   "source": [
    "to_the_moon([ 6 ,13 , 2, 10 , 3, 5])"
   ]
  },
  {
   "cell_type": "code",
   "execution_count": 77,
   "id": "7699ee9d-19f3-4ac6-a86f-582ce3e8314a",
   "metadata": {},
   "outputs": [
    {
     "data": {
      "text/plain": [
       "4"
      ]
     },
     "execution_count": 77,
     "metadata": {},
     "output_type": "execute_result"
    }
   ],
   "source": [
    "to_the_moon([ 5,13 , 2, 10 , 300, 5])"
   ]
  },
  {
   "cell_type": "code",
   "execution_count": 79,
   "id": "8cd0ef05-0733-479d-9b74-dcb36b6dc706",
   "metadata": {},
   "outputs": [
    {
     "name": "stdout",
     "output_type": "stream",
     "text": [
      "need more prices\n"
     ]
    }
   ],
   "source": [
    "to_the_moon([ 5])"
   ]
  },
  {
   "cell_type": "markdown",
   "id": "f5096a80-a9d6-4114-873a-b20142b868bc",
   "metadata": {},
   "source": [
    "##  Given two arrays, find which element is missing in the second array. \n",
    "Consider an array of non-negative integers. \n",
    "A second array is formed by shuffling the elements of the first array and deleting a random element. Given these two arrays, find which element is missing in the second array.\n"
   ]
  },
  {
   "cell_type": "code",
   "execution_count": 96,
   "id": "e6ca9adf-6d48-405d-af0e-16e5a01c759c",
   "metadata": {},
   "outputs": [],
   "source": [
    "def find_diff (x=[],y=[]):\n",
    "    return(np.array(x)[np.array([ x_i not in y for x_i in x])])\n",
    "\n",
    "def find_diff_smart (x=[],y=[]):\n",
    "    return(sum(x)-sum(y))"
   ]
  },
  {
   "cell_type": "code",
   "execution_count": 80,
   "id": "cc6a0f95-b587-4294-af94-fa955e607a03",
   "metadata": {},
   "outputs": [],
   "source": [
    "x = [1,3,5,7]\n",
    "y = [1,3,5]"
   ]
  },
  {
   "cell_type": "code",
   "execution_count": 99,
   "id": "9ab59725-0801-446d-8f67-5ef24429b869",
   "metadata": {},
   "outputs": [
    {
     "data": {
      "text/plain": [
       "7"
      ]
     },
     "execution_count": 99,
     "metadata": {},
     "output_type": "execute_result"
    }
   ],
   "source": [
    "find_diff(x,y)[0]"
   ]
  },
  {
   "cell_type": "code",
   "execution_count": 97,
   "id": "8910557f-a202-4673-9862-f310ae3f90cb",
   "metadata": {},
   "outputs": [
    {
     "data": {
      "text/plain": [
       "7"
      ]
     },
     "execution_count": 97,
     "metadata": {},
     "output_type": "execute_result"
    }
   ],
   "source": [
    "find_diff_smart(x,y)"
   ]
  },
  {
   "cell_type": "code",
   "execution_count": null,
   "id": "72014335-450a-402b-9498-d35c40132bcd",
   "metadata": {},
   "outputs": [],
   "source": []
  }
 ],
 "metadata": {
  "kernelspec": {
   "display_name": "Python 3 (ipykernel)",
   "language": "python",
   "name": "python3"
  },
  "language_info": {
   "codemirror_mode": {
    "name": "ipython",
    "version": 3
   },
   "file_extension": ".py",
   "mimetype": "text/x-python",
   "name": "python",
   "nbconvert_exporter": "python",
   "pygments_lexer": "ipython3",
   "version": "3.9.7"
  }
 },
 "nbformat": 4,
 "nbformat_minor": 5
}
