{
 "cells": [
  {
   "cell_type": "markdown",
   "id": "63c71cc8-4b4a-400e-8094-bd266a6fa4e4",
   "metadata": {},
   "source": [
    "# Udemy coding questions"
   ]
  },
  {
   "cell_type": "markdown",
   "id": "ef9a71a7-a2f6-4e73-8a41-3a3c08777857",
   "metadata": {
    "tags": []
   },
   "source": [
    "## Given a string in the form 'AAAABBBBCCCCCDDEEEE' compress it to become 'A4B4C5D2E4'. \n"
   ]
  },
  {
   "cell_type": "markdown",
   "id": "f5096a80-a9d6-4114-873a-b20142b868bc",
   "metadata": {
    "tags": []
   },
   "source": [
    "##  Given two arrays, find which element is missing in the second array. \n",
    "Consider an array of non-negative integers. \n",
    "A second array is formed by shuffling the elements of the first array and deleting a random element. Given these two arrays, find which element is missing in the second array.\n"
   ]
  },
  {
   "cell_type": "markdown",
   "id": "92dbe27b-9cc7-4569-892d-ef168586c630",
   "metadata": {},
   "source": [
    "## graph (t, x) where t = 1:100, when signs of $x_t$ - $x_{t-1}$ and $x_{t+1} - x_t$ disagree，x changed direction at point t, all t where x changed direction."
   ]
  },
  {
   "cell_type": "code",
   "execution_count": 4,
   "id": "3738257f-144d-4e05-9c09-af2f3a01d985",
   "metadata": {},
   "outputs": [],
   "source": [
    "import numpy as np\n",
    "rng = np.random.RandomState(0)\n",
    "x = rng.normal(size=100)"
   ]
  },
  {
   "cell_type": "code",
   "execution_count": 40,
   "id": "e8908860-aa0d-47fd-ab78-add2e967afe7",
   "metadata": {},
   "outputs": [],
   "source": [
    "def kobe(x):\n",
    "    out = []\n",
    "    for i in range(1,len(x)-1):\n",
    "        a1 = x[i] - x[i-1]\n",
    "        a2 = x[i+1] - x[i]\n",
    "        if a1 * a2<0:\n",
    "            out += [i]\n",
    "    return out"
   ]
  },
  {
   "cell_type": "markdown",
   "id": "b4a8bbb7-040f-4456-86da-4bd215877e1b",
   "metadata": {},
   "source": [
    "## Giving a list, get the sum of numbers at even(odd) indices"
   ]
  },
  {
   "cell_type": "code",
   "execution_count": 67,
   "id": "81b87979-1b6c-45cc-a903-9159aabaabb5",
   "metadata": {
    "tags": []
   },
   "outputs": [],
   "source": [
    "def sum_odd_even(x,even=True):\n",
    "    if even:\n",
    "        out = x[np.arange(1,len(x),2)].sum()\n",
    "    else:\n",
    "        out = x[np.arange(0,len(x),2)].sum()\n",
    "    return out"
   ]
  },
  {
   "cell_type": "markdown",
   "id": "d25b22ef-5494-4371-b2ec-251aaf743f2e",
   "metadata": {},
   "source": [
    "## given U(0,1), generate discrete U(a,b)"
   ]
  },
  {
   "cell_type": "code",
   "execution_count": 5,
   "id": "8cd63bc5-565d-470f-b56e-29552f534fb2",
   "metadata": {},
   "outputs": [],
   "source": [
    "x = np.random.uniform(size = 10000)"
   ]
  },
  {
   "cell_type": "code",
   "execution_count": 9,
   "id": "163ba650-c480-4701-945d-2950a48806fc",
   "metadata": {},
   "outputs": [],
   "source": [
    "def gen_discrete(x, a, b):\n",
    "    bucket = np.linspace(0,1,b-a + 2)\n",
    "    out = np.zeros_like(x)\n",
    "    for i,x_i in enumerate(x):\n",
    "        out[i] = np.where((x_i <= bucket) == True)[0][0]\n",
    "        #out[i] = x_i[x_i<=bucket][0]\n",
    "    return(out)"
   ]
  },
  {
   "cell_type": "code",
   "execution_count": 10,
   "id": "55f06639-8b17-40e5-886a-a1dc50234139",
   "metadata": {},
   "outputs": [
    {
     "data": {
      "text/plain": [
       "<AxesSubplot:ylabel='Count'>"
      ]
     },
     "execution_count": 16,
     "metadata": {},
     "output_type": "execute_result"
    },
    {
     "data": {
      "image/png": "[encoded data removed]",
      "text/plain": [
       "<Figure size 432x288 with 1 Axes>"
      ]
     },
     "metadata": {
      "needs_background": "light"
     },
     "output_type": "display_data"
    }
   ],
   "source": [
    "import seaborn as sns\n",
    "\n",
    "sns.histplot(gen_discrete(x,1,20),discrete = True)"
   ]
  },
  {
   "cell_type": "markdown",
   "id": "23a25c3e-dfca-427d-b766-49e0b3d683da",
   "metadata": {},
   "source": [
    "## Given an unsorted array of integers nums,  return the length of the longest continuous increasing subsequence (i.e. subarray), The subsequence must be strictly increasing."
   ]
  },
  {
   "cell_type": "code",
   "execution_count": null,
   "id": "de2a706d-f63b-4235-8d2f-41d13a14a036",
   "metadata": {},
   "outputs": [],
   "source": []
  },
  {
   "cell_type": "markdown",
   "id": "62603e98-8d04-4e8a-a928-dae46968d7f6",
   "metadata": {},
   "source": [
    "## Manual standardize"
   ]
  },
  {
   "cell_type": "code",
   "execution_count": 171,
   "id": "5c5a92ca-b2f5-4c4d-b8b9-f08dbceda94e",
   "metadata": {},
   "outputs": [],
   "source": [
    "x = np.random.normal(size = 100, loc = 5, scale = 3)\n",
    "x2 = np.random.normal(size = 100, loc = 2, scale = 7)\n",
    "x = np.concatenate((x[:,None],x2[:,None]),axis=1)\n",
    "x = (x - x.mean(axis=0))/x.std(axis=0)"
   ]
  },
  {
   "cell_type": "code",
   "execution_count": 175,
   "id": "99a0b3b8-28c2-4a52-b325-21c885a0e669",
   "metadata": {},
   "outputs": [
    {
     "data": {
      "text/plain": [
       "array([ 4.66293670e-16, -6.38378239e-17])"
      ]
     },
     "execution_count": 175,
     "metadata": {},
     "output_type": "execute_result"
    }
   ],
   "source": [
    "x.mean(axis=0)"
   ]
  },
  {
   "cell_type": "code",
   "execution_count": 173,
   "id": "0b2042d6-c0c1-46c2-99e3-c2f74cc38f59",
   "metadata": {},
   "outputs": [
    {
     "data": {
      "text/plain": [
       "array([1., 1.])"
      ]
     },
     "execution_count": 173,
     "metadata": {},
     "output_type": "execute_result"
    }
   ],
   "source": [
    "x.std(axis=0)"
   ]
  },
  {
   "cell_type": "code",
   "execution_count": null,
   "id": "9cc67a46-2eac-4a5e-976f-0e73581b27d6",
   "metadata": {},
   "outputs": [],
   "source": [
    "\n",
    "[a,a,a,b,b,a,c,c,d] -> [a,b,a,c,d]"
   ]
  },
  {
   "cell_type": "code",
   "execution_count": 10,
   "id": "e9e88300-15dd-46fd-9470-84c3e3b0eb79",
   "metadata": {},
   "outputs": [
    {
     "name": "stdout",
     "output_type": "stream",
     "text": [
      "0 a\n",
      "1 a\n",
      "2 a\n",
      "3 b\n",
      "4 b\n",
      "5 a\n",
      "6 c\n",
      "7 c\n",
      "8 d\n"
     ]
    }
   ],
   "source": [
    "for i, x in enumerate(temp):\n",
    "    print(i,x)"
   ]
  },
  {
   "cell_type": "code",
   "execution_count": 1,
   "id": "e3bd4de1-6b93-46fc-b119-dea1608a535e",
   "metadata": {},
   "outputs": [],
   "source": [
    "def return_unique(temp):\n",
    "    unique_list = []\n",
    "    if len(temp) == 0:\n",
    "        return unique_list\n",
    "    for x in temp:\n",
    "        if x not in unique_list:\n",
    "            unique_list.append(x)\n",
    "    return unique_list"
   ]
  },
  {
   "cell_type": "code",
   "execution_count": null,
   "id": "44b48c3d-b9b9-4cec-bca4-803c6fc22b08",
   "metadata": {},
   "outputs": [],
   "source": [
    "i = len(test)-1\n",
    "while (i>=0):\n",
    "    del test[i]\n",
    "    i-=1\n",
    "print(test)"
   ]
  },
  {
   "cell_type": "code",
   "execution_count": 102,
   "id": "836c1bd9-9dc5-4dda-8724-75c3661b303b",
   "metadata": {},
   "outputs": [],
   "source": [
    "def return_unique2(x):\n",
    "    len_x = len(x)\n",
    "    i = 1\n",
    "    for j in range(1,len_x):\n",
    "        if x[i] == x[i-1]:\n",
    "            x.pop(i-1)\n",
    "            i = 1 if i-1 ==0 else i-1\n",
    "        else:\n",
    "            i += 1\n",
    "    return x"
   ]
  },
  {
   "cell_type": "code",
   "execution_count": 13,
   "id": "7be28831-5485-4935-9f42-59a625fbf63d",
   "metadata": {},
   "outputs": [
    {
     "data": {
      "text/plain": [
       "['a', 'b', 'c', 'd']"
      ]
     },
     "execution_count": 13,
     "metadata": {},
     "output_type": "execute_result"
    }
   ],
   "source": [
    "temp = [\"a\",\"a\",\"a\",\"b\",\"b\",\"c\",\"c\",\"d\"]\n",
    "return_unique(temp)"
   ]
  },
  {
   "cell_type": "code",
   "execution_count": null,
   "id": "76a1e366-9b78-40c2-8233-25c5b61fc79a",
   "metadata": {},
   "outputs": [],
   "source": [
    "i = len(x) - 1\n",
    "while(i>=0):\n",
    "    if x[i] == x[i-1]:\n",
    "        x.pop(0)\n",
    "        i -= 1"
   ]
  },
  {
   "cell_type": "code",
   "execution_count": 19,
   "id": "6099f794-8652-463d-a6e9-c35f3b1f77e1",
   "metadata": {},
   "outputs": [
    {
     "data": {
      "text/plain": [
       "[]"
      ]
     },
     "execution_count": 19,
     "metadata": {},
     "output_type": "execute_result"
    }
   ],
   "source": [
    "return_unique([])"
   ]
  },
  {
   "cell_type": "code",
   "execution_count": 100,
   "id": "89809714-982c-4173-9c6e-f874aad83cf3",
   "metadata": {},
   "outputs": [],
   "source": [
    "temp = [\"a\",\"a\",\"a\",\"b\",\"b\",\"c\",\"c\",\"d\"]"
   ]
  },
  {
   "cell_type": "code",
   "execution_count": 103,
   "id": "b41c005c-6d23-48a5-85fb-b153d2ab39b3",
   "metadata": {},
   "outputs": [
    {
     "data": {
      "text/plain": [
       "['a', 'b', 'c', 'd']"
      ]
     },
     "execution_count": 103,
     "metadata": {},
     "output_type": "execute_result"
    }
   ],
   "source": [
    "return_unique2(temp)"
   ]
  },
  {
   "cell_type": "code",
   "execution_count": null,
   "id": "45a6b134-09f4-4379-97d7-3912c88c8d6a",
   "metadata": {},
   "outputs": [],
   "source": []
  }
 ],
 "metadata": {
  "kernelspec": {
   "display_name": "Python 3 (ipykernel)",
   "language": "python",
   "name": "python3"
  },
  "language_info": {
   "codemirror_mode": {
    "name": "ipython",
    "version": 3
   },
   "file_extension": ".py",
   "mimetype": "text/x-python",
   "name": "python",
   "nbconvert_exporter": "python",
   "pygments_lexer": "ipython3",
   "version": "3.9.7"
  }
 },
 "nbformat": 4,
 "nbformat_minor": 5
}
