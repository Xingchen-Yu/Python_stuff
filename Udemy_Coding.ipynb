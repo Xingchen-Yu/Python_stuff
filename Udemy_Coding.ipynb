{
 "cells": [
  {
   "cell_type": "markdown",
   "id": "63c71cc8-4b4a-400e-8094-bd266a6fa4e4",
   "metadata": {},
   "source": [
    "# Udemy coding questions"
   ]
  },
  {
   "cell_type": "markdown",
   "id": "ef9a71a7-a2f6-4e73-8a41-3a3c08777857",
   "metadata": {
    "tags": []
   },
   "source": [
    "## Given a string in the form 'AAAABBBBCCCCCDDEEEE' compress it to become 'A4B4C5D2E4'. \n"
   ]
  },
  {
   "cell_type": "code",
   "execution_count": 12,
   "id": "dae4e05c-0576-4961-ae96-f3fd53288f04",
   "metadata": {},
   "outputs": [],
   "source": [
    "import pandas as pd\n",
    "import numpy as np\n",
    "x = 'AAAABBBBCCCCCDDEEEE'\n",
    "\n",
    "def split_string_count(x=[]):\n",
    "    str_list = [x_i for x_i in x]\n",
    "    unique_list = np.unique(str_list)\n",
    "    df = pd.DataFrame({'strings':str_list})\n",
    "    kobe = df.groupby(['strings']).size().reset_index(name='n')\n",
    "    out = [kobe.strings[i] + str(kobe['n'][i]) for i in range(len(unique_list))]\n",
    "    return(\"\".join(out))\n",
    "\n",
    "# def split_string_count_new(x=[]):\n",
    "#     str_list = [x_i for x_i in x]\n",
    "#     unique_list = []\n",
    "#     count_list = []\n",
    "#     for x_i in str_list:\n",
    "#         check = len(list(set(x_i) - set(unique_list)))\n",
    "#         if check>0:\n",
    "#             unique_list.append(x_i)\n",
    "#             count_list.append(1)\n",
    "#         else:\n",
    "#             sum(str_list[i])\n",
    "   "
   ]
  },
  {
   "cell_type": "code",
   "execution_count": 13,
   "id": "dfea8ab3-1b05-49db-ab44-53d3947b98b7",
   "metadata": {},
   "outputs": [
    {
     "data": {
      "text/plain": [
       "'A4B4C5D2E4'"
      ]
     },
     "execution_count": 13,
     "metadata": {},
     "output_type": "execute_result"
    }
   ],
   "source": [
    "split_string_count(x)"
   ]
  },
  {
   "cell_type": "code",
   "execution_count": 24,
   "id": "730fba17-4bf7-472c-922a-cc0e695e0fe8",
   "metadata": {},
   "outputs": [
    {
     "data": {
      "text/plain": [
       "'A1B1C1D4'"
      ]
     },
     "execution_count": 24,
     "metadata": {},
     "output_type": "execute_result"
    }
   ],
   "source": [
    "split_string_count('ABCDDDD')"
   ]
  },
  {
   "cell_type": "code",
   "execution_count": 28,
   "id": "aeb789f5-5120-461e-9d0a-1d67d07b1a90",
   "metadata": {},
   "outputs": [
    {
     "data": {
      "text/plain": [
       "2"
      ]
     },
     "execution_count": 28,
     "metadata": {},
     "output_type": "execute_result"
    }
   ],
   "source": [
    "sum([['A','A','B'][i] == 'A' for i in range(3)])"
   ]
  },
  {
   "cell_type": "markdown",
   "id": "f5096a80-a9d6-4114-873a-b20142b868bc",
   "metadata": {},
   "source": [
    "##  Given two arrays, find which element is missing in the second array. \n",
    "Consider an array of non-negative integers. \n",
    "A second array is formed by shuffling the elements of the first array and deleting a random element. Given these two arrays, find which element is missing in the second array.\n"
   ]
  },
  {
   "cell_type": "code",
   "execution_count": 96,
   "id": "e6ca9adf-6d48-405d-af0e-16e5a01c759c",
   "metadata": {},
   "outputs": [],
   "source": [
    "def find_diff (x=[],y=[]):\n",
    "    return(np.array(x)[np.array([ x_i not in y for x_i in x])])\n",
    "\n",
    "def find_diff_smart (x=[],y=[]):\n",
    "    return(sum(x)-sum(y))"
   ]
  },
  {
   "cell_type": "code",
   "execution_count": 80,
   "id": "cc6a0f95-b587-4294-af94-fa955e607a03",
   "metadata": {},
   "outputs": [],
   "source": [
    "x = [1,3,5,7]\n",
    "y = [1,3,5]"
   ]
  },
  {
   "cell_type": "code",
   "execution_count": 99,
   "id": "9ab59725-0801-446d-8f67-5ef24429b869",
   "metadata": {},
   "outputs": [
    {
     "data": {
      "text/plain": [
       "7"
      ]
     },
     "execution_count": 99,
     "metadata": {},
     "output_type": "execute_result"
    }
   ],
   "source": [
    "find_diff(x,y)[0]"
   ]
  },
  {
   "cell_type": "code",
   "execution_count": 97,
   "id": "8910557f-a202-4673-9862-f310ae3f90cb",
   "metadata": {},
   "outputs": [
    {
     "data": {
      "text/plain": [
       "7"
      ]
     },
     "execution_count": 97,
     "metadata": {},
     "output_type": "execute_result"
    }
   ],
   "source": [
    "find_diff_smart(x,y)"
   ]
  },
  {
   "cell_type": "markdown",
   "id": "92dbe27b-9cc7-4569-892d-ef168586c630",
   "metadata": {},
   "source": [
    "## graph (t, x) where t = 1:100, when signs of $x_t$ - $x_{t-1}$ and $x_{t+1} - x_t$ disagree，x changed direction at point t, all t where x changed direction."
   ]
  },
  {
   "cell_type": "code",
   "execution_count": 39,
   "id": "3738257f-144d-4e05-9c09-af2f3a01d985",
   "metadata": {},
   "outputs": [],
   "source": [
    "import numpy as np\n",
    "rng = np.random.RandomState(0)\n",
    "x = rng.normal(size=100)"
   ]
  },
  {
   "cell_type": "code",
   "execution_count": 40,
   "id": "e8908860-aa0d-47fd-ab78-add2e967afe7",
   "metadata": {},
   "outputs": [],
   "source": [
    "def kobe(x):\n",
    "    out = []\n",
    "    for i in range(1,len(x)-1):\n",
    "        a1 = x[i] - x[i-1]\n",
    "        a2 = x[i+1] - x[i]\n",
    "        if a1 * a2<0:\n",
    "            out += [i]\n",
    "    return out"
   ]
  },
  {
   "cell_type": "markdown",
   "id": "b4a8bbb7-040f-4456-86da-4bd215877e1b",
   "metadata": {},
   "source": [
    "## Giving a list, get the sum of numbers at even(odd) indices"
   ]
  },
  {
   "cell_type": "code",
   "execution_count": 67,
   "id": "81b87979-1b6c-45cc-a903-9159aabaabb5",
   "metadata": {
    "tags": []
   },
   "outputs": [],
   "source": [
    "def sum_odd_even(x,even=True):\n",
    "    if even:\n",
    "        out = x[np.arange(1,len(x),2)].sum()\n",
    "    else:\n",
    "        out = x[np.arange(0,len(x),2)].sum()\n",
    "    return out"
   ]
  },
  {
   "cell_type": "markdown",
   "id": "d25b22ef-5494-4371-b2ec-251aaf743f2e",
   "metadata": {},
   "source": [
    "## given U(0,1), generate discrete U(a,b)"
   ]
  },
  {
   "cell_type": "code",
   "execution_count": 132,
   "id": "8cd63bc5-565d-470f-b56e-29552f534fb2",
   "metadata": {},
   "outputs": [],
   "source": [
    "x = np.random.uniform(size = 10000)"
   ]
  },
  {
   "cell_type": "code",
   "execution_count": 133,
   "id": "163ba650-c480-4701-945d-2950a48806fc",
   "metadata": {},
   "outputs": [],
   "source": [
    "def gen_discrete(x, a, b):\n",
    "    bucket = np.linspace(0,1,b-a + 2)\n",
    "    out = np.zeros_like(x)\n",
    "    for i,x_i in enumerate(x):\n",
    "        out[i] = np.where((x_i <= bucket) == True)[0][0]\n",
    "    return(out)"
   ]
  },
  {
   "cell_type": "code",
   "execution_count": 139,
   "id": "55f06639-8b17-40e5-886a-a1dc50234139",
   "metadata": {},
   "outputs": [
    {
     "data": {
      "text/plain": [
       "<AxesSubplot:ylabel='Count'>"
      ]
     },
     "execution_count": 139,
     "metadata": {},
     "output_type": "execute_result"
    },
    {
     "data": {
      "image/png": "[encoded data removed]",
      "text/plain": [
       "<Figure size 432x288 with 1 Axes>"
      ]
     },
     "metadata": {
      "needs_background": "light"
     },
     "output_type": "display_data"
    }
   ],
   "source": [
    "import seaborn as sns\n",
    "\n",
    "sns.histplot(gen_discrete(x,1,5),discrete = True)"
   ]
  },
  {
   "cell_type": "markdown",
   "id": "23a25c3e-dfca-427d-b766-49e0b3d683da",
   "metadata": {},
   "source": [
    "## Given an unsorted array of integers nums,  return the length of the longest continuous increasing subsequence (i.e. subarray), The subsequence must be strictly increasing."
   ]
  },
  {
   "cell_type": "code",
   "execution_count": null,
   "id": "de2a706d-f63b-4235-8d2f-41d13a14a036",
   "metadata": {},
   "outputs": [],
   "source": []
  },
  {
   "cell_type": "markdown",
   "id": "62603e98-8d04-4e8a-a928-dae46968d7f6",
   "metadata": {},
   "source": [
    "## Manual standardize"
   ]
  },
  {
   "cell_type": "code",
   "execution_count": 171,
   "id": "5c5a92ca-b2f5-4c4d-b8b9-f08dbceda94e",
   "metadata": {},
   "outputs": [],
   "source": [
    "x = np.random.normal(size = 100, loc = 5, scale = 3)\n",
    "x2 = np.random.normal(size = 100, loc = 2, scale = 7)\n",
    "x = np.concatenate((x[:,None],x2[:,None]),axis=1)\n",
    "x = (x - x.mean(axis=0))/x.std(axis=0)"
   ]
  },
  {
   "cell_type": "code",
   "execution_count": 175,
   "id": "99a0b3b8-28c2-4a52-b325-21c885a0e669",
   "metadata": {},
   "outputs": [
    {
     "data": {
      "text/plain": [
       "array([ 4.66293670e-16, -6.38378239e-17])"
      ]
     },
     "execution_count": 175,
     "metadata": {},
     "output_type": "execute_result"
    }
   ],
   "source": [
    "x.mean(axis=0)"
   ]
  },
  {
   "cell_type": "code",
   "execution_count": 173,
   "id": "0b2042d6-c0c1-46c2-99e3-c2f74cc38f59",
   "metadata": {},
   "outputs": [
    {
     "data": {
      "text/plain": [
       "array([1., 1.])"
      ]
     },
     "execution_count": 173,
     "metadata": {},
     "output_type": "execute_result"
    }
   ],
   "source": [
    "x.std(axis=0)"
   ]
  }
 ],
 "metadata": {
  "kernelspec": {
   "display_name": "Python 3 (ipykernel)",
   "language": "python",
   "name": "python3"
  },
  "language_info": {
   "codemirror_mode": {
    "name": "ipython",
    "version": 3
   },
   "file_extension": ".py",
   "mimetype": "text/x-python",
   "name": "python",
   "nbconvert_exporter": "python",
   "pygments_lexer": "ipython3",
   "version": "3.9.7"
  }
 },
 "nbformat": 4,
 "nbformat_minor": 5
}
