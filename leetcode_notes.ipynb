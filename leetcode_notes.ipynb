{
 "cells": [
  {
   "cell_type": "markdown",
   "id": "803a1f69-1a55-4a6f-8c6b-1501cead3017",
   "metadata": {},
   "source": [
    "## Sort dictionary with lexicographical order and descending counts "
   ]
  },
  {
   "cell_type": "code",
   "execution_count": 3,
   "id": "3be7b8f9-6176-4eba-8b7c-7ad5c318e2e1",
   "metadata": {},
   "outputs": [
    {
     "data": {
      "text/plain": [
       "dict_keys(['z', 'y', 'x'])"
      ]
     },
     "execution_count": 3,
     "metadata": {},
     "output_type": "execute_result"
    }
   ],
   "source": [
    "count_dict = {\"x\":3,\"y\":4,\"z\":5}\n",
    "\n",
    "dict(sorted(count_dict.items(), key = lambda x: (-x[1],x[0]))).keys()"
   ]
  },
  {
   "cell_type": "code",
   "execution_count": 1,
   "id": "ef2ffe6f-2962-4fdb-9ffd-bbb873027564",
   "metadata": {},
   "outputs": [],
   "source": [
    "a = ['kobe','bryant','apple','joe','random','banana']\n",
    "b = ['apple', 'random']"
   ]
  },
  {
   "cell_type": "code",
   "execution_count": 2,
   "id": "0a83c4ae-20d9-4ad5-9c4b-d5b4694983b3",
   "metadata": {},
   "outputs": [
    {
     "data": {
      "text/plain": [
       "['bryant', 'joe', 'banana', 'kobe']"
      ]
     },
     "execution_count": 2,
     "metadata": {},
     "output_type": "execute_result"
    }
   ],
   "source": [
    "list(set(a) - set(b))"
   ]
  },
  {
   "cell_type": "code",
   "execution_count": 14,
   "id": "cfc21c60-eec2-4d17-88d6-e201df2e6f7b",
   "metadata": {},
   "outputs": [
    {
     "data": {
      "text/plain": [
       "['joe', 'kobe', 'bryant', 'banana']"
      ]
     },
     "execution_count": 14,
     "metadata": {},
     "output_type": "execute_result"
    }
   ],
   "source": [
    "list(set(a) - set(b))"
   ]
  },
  {
   "cell_type": "code",
   "execution_count": null,
   "id": "eff61332-d901-4fcf-9bf2-bdd8e4692fac",
   "metadata": {},
   "outputs": [],
   "source": []
  }
 ],
 "metadata": {
  "kernelspec": {
   "display_name": "Python 3 (ipykernel)",
   "language": "python",
   "name": "python3"
  },
  "language_info": {
   "codemirror_mode": {
    "name": "ipython",
    "version": 3
   },
   "file_extension": ".py",
   "mimetype": "text/x-python",
   "name": "python",
   "nbconvert_exporter": "python",
   "pygments_lexer": "ipython3",
   "version": "3.9.7"
  }
 },
 "nbformat": 4,
 "nbformat_minor": 5
}
