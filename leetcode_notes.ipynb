{
 "cells": [
  {
   "cell_type": "markdown",
   "id": "aa4abdf0-a531-434d-9cd1-eebea48122e4",
   "metadata": {},
   "source": [
    "## Get the maximum key or value from dictionary"
   ]
  },
  {
   "cell_type": "code",
   "execution_count": 28,
   "id": "563b85c3-263e-47d7-91bb-9e1e3290cd00",
   "metadata": {},
   "outputs": [],
   "source": [
    "a_dictionary = {\"a\": 1, \"b\": 2, \"c\": 0}"
   ]
  },
  {
   "cell_type": "markdown",
   "id": "9ca18f4c-bd07-4060-bd4c-2e53518897b8",
   "metadata": {},
   "source": [
    "#### max elements"
   ]
  },
  {
   "cell_type": "code",
   "execution_count": 34,
   "id": "97a7bb74-db93-40ef-b135-2e51858c0677",
   "metadata": {},
   "outputs": [
    {
     "data": {
      "text/plain": [
       "'b'"
      ]
     },
     "execution_count": 34,
     "metadata": {},
     "output_type": "execute_result"
    }
   ],
   "source": [
    "max(a_dictionary.keys(), key=a_dictionary.get)"
   ]
  },
  {
   "cell_type": "code",
   "execution_count": 28,
   "id": "c9305e21-0f11-414c-b709-9ecbc8009c4b",
   "metadata": {},
   "outputs": [
    {
     "data": {
      "text/plain": [
       "'b'"
      ]
     },
     "execution_count": 28,
     "metadata": {},
     "output_type": "execute_result"
    }
   ],
   "source": [
    "max(a_dictionary, key=a_dictionary.get)"
   ]
  },
  {
   "cell_type": "code",
   "execution_count": 33,
   "id": "5dafdf9d-e41e-4ab3-ba7c-85c5d4c295f9",
   "metadata": {},
   "outputs": [
    {
     "data": {
      "text/plain": [
       "'b'"
      ]
     },
     "execution_count": 33,
     "metadata": {},
     "output_type": "execute_result"
    }
   ],
   "source": [
    "sorted(a_dictionary, key=a_dictionary.get)[-1]"
   ]
  },
  {
   "cell_type": "code",
   "execution_count": 36,
   "id": "2cf6a85b-daae-42c0-99b4-9f4d37bea645",
   "metadata": {},
   "outputs": [
    {
     "data": {
      "text/plain": [
       "'b'"
      ]
     },
     "execution_count": 36,
     "metadata": {},
     "output_type": "execute_result"
    }
   ],
   "source": [
    "sorted(a_dictionary, key=a_dictionary.get, reverse = True)[0]"
   ]
  },
  {
   "cell_type": "markdown",
   "id": "62d76654-58d0-4c5d-b14f-717eb6c82a26",
   "metadata": {},
   "source": [
    "#### max values"
   ]
  },
  {
   "cell_type": "code",
   "execution_count": 35,
   "id": "83289667-402c-4c5b-ad29-24d1aad642e7",
   "metadata": {},
   "outputs": [
    {
     "data": {
      "text/plain": [
       "2"
      ]
     },
     "execution_count": 35,
     "metadata": {},
     "output_type": "execute_result"
    }
   ],
   "source": [
    "all_values = a_dictionary.values()\n",
    "max(all_values)"
   ]
  },
  {
   "cell_type": "markdown",
   "id": "803a1f69-1a55-4a6f-8c6b-1501cead3017",
   "metadata": {},
   "source": [
    "__Sort dictionary with lexicographical order and descending counts__"
   ]
  },
  {
   "cell_type": "code",
   "execution_count": 26,
   "id": "3be7b8f9-6176-4eba-8b7c-7ad5c318e2e1",
   "metadata": {},
   "outputs": [
    {
     "data": {
      "text/plain": [
       "dict_keys(['z', 'a', 'y', 'x'])"
      ]
     },
     "execution_count": 26,
     "metadata": {},
     "output_type": "execute_result"
    }
   ],
   "source": [
    "count_dict = {\"x\":3,\"y\":4,\"z\":5,\"a\":4}\n",
    "\n",
    "dict(sorted(count_dict.items(), key = lambda x: (-x[1],x[0]))).keys()"
   ]
  },
  {
   "cell_type": "markdown",
   "id": "a38e1689-b57f-43ee-add0-0174dddd28ce",
   "metadata": {},
   "source": [
    "__sort on both element ascending__"
   ]
  },
  {
   "cell_type": "code",
   "execution_count": 23,
   "id": "4f31e1f1-83bb-4c15-bbc9-a8b7200a747c",
   "metadata": {},
   "outputs": [],
   "source": [
    "temp = [[5,6],[5,5],[2,10],[2,11]]"
   ]
  },
  {
   "cell_type": "code",
   "execution_count": 17,
   "id": "840cf543-0e3f-42cc-8a91-c65a96a01c61",
   "metadata": {},
   "outputs": [
    {
     "data": {
      "text/plain": [
       "[[2, 10], [2, 11], [5, 5], [5, 6]]"
      ]
     },
     "execution_count": 17,
     "metadata": {},
     "output_type": "execute_result"
    }
   ],
   "source": [
    "temp.sort()\n",
    "temp"
   ]
  },
  {
   "cell_type": "markdown",
   "id": "2fb9c61b-f70a-4c10-b28e-cbd99c980d43",
   "metadata": {},
   "source": [
    "__only sort the first element__"
   ]
  },
  {
   "cell_type": "code",
   "execution_count": 20,
   "id": "287c5ebc-a256-45cd-9255-80c98fb5bbe6",
   "metadata": {},
   "outputs": [
    {
     "data": {
      "text/plain": [
       "[[2, 10], [2, 11], [5, 6], [5, 5]]"
      ]
     },
     "execution_count": 20,
     "metadata": {},
     "output_type": "execute_result"
    }
   ],
   "source": [
    "temp = [[5,6],[5,5],[2,10],[2,11]]\n",
    "sorted(temp, key = lambda x:(x[0]))"
   ]
  },
  {
   "cell_type": "markdown",
   "id": "2df5539e-8760-481d-b91e-7297c44c89d2",
   "metadata": {},
   "source": [
    "__sort on both (same as `.sort()`)__"
   ]
  },
  {
   "cell_type": "code",
   "execution_count": 21,
   "id": "c4bd3587-e0fe-4205-b8e0-b0c23d31ea89",
   "metadata": {},
   "outputs": [
    {
     "data": {
      "text/plain": [
       "[[2, 10], [2, 11], [5, 5], [5, 6]]"
      ]
     },
     "execution_count": 21,
     "metadata": {},
     "output_type": "execute_result"
    }
   ],
   "source": [
    "sorted(temp, key = lambda x:(x[0],x[1])) "
   ]
  },
  {
   "cell_type": "markdown",
   "id": "3f59e113-16a2-4069-a66c-41d85855e596",
   "metadata": {},
   "source": [
    "__sort on first ascending and second descending__"
   ]
  },
  {
   "cell_type": "code",
   "execution_count": 22,
   "id": "47ac88c0-7f2e-46b6-8cc7-2369cd23bf43",
   "metadata": {},
   "outputs": [
    {
     "data": {
      "text/plain": [
       "[[2, 11], [2, 10], [5, 6], [5, 5]]"
      ]
     },
     "execution_count": 22,
     "metadata": {},
     "output_type": "execute_result"
    }
   ],
   "source": [
    "sorted(temp, key = lambda x:(x[0],-x[1])) "
   ]
  },
  {
   "cell_type": "code",
   "execution_count": 30,
   "id": "5135e381-6f99-47b6-9490-6fe39032bac9",
   "metadata": {},
   "outputs": [],
   "source": [
    "temp2 = {1:None}"
   ]
  },
  {
   "cell_type": "code",
   "execution_count": 17,
   "id": "d75fb977-b7ea-4fa9-9db5-48dd2ed6c557",
   "metadata": {},
   "outputs": [
    {
     "data": {
      "text/plain": [
       "True"
      ]
     },
     "execution_count": 17,
     "metadata": {},
     "output_type": "execute_result"
    }
   ],
   "source": [
    "1 in temp2"
   ]
  },
  {
   "cell_type": "code",
   "execution_count": 13,
   "id": "86de748d-893f-40de-9630-74e0e104c1ac",
   "metadata": {},
   "outputs": [
    {
     "data": {
      "text/plain": [
       "[1, 3, 5]"
      ]
     },
     "execution_count": 13,
     "metadata": {},
     "output_type": "execute_result"
    }
   ],
   "source": [
    "a = [3,5,1]\n",
    "sorted(a)"
   ]
  },
  {
   "cell_type": "code",
   "execution_count": 11,
   "id": "7af111db-7f0d-4a20-9c1d-bb76c3589f9b",
   "metadata": {},
   "outputs": [
    {
     "data": {
      "text/plain": [
       "[1, 3, 5]"
      ]
     },
     "execution_count": 11,
     "metadata": {},
     "output_type": "execute_result"
    }
   ],
   "source": [
    "sorted(a)"
   ]
  },
  {
   "cell_type": "code",
   "execution_count": 14,
   "id": "9618432c-8a42-4808-9d29-0f385fd46c0d",
   "metadata": {},
   "outputs": [
    {
     "data": {
      "text/plain": [
       "[5, 1]"
      ]
     },
     "execution_count": 14,
     "metadata": {},
     "output_type": "execute_result"
    }
   ],
   "source": [
    "a.pop(0)\n",
    "a"
   ]
  },
  {
   "cell_type": "code",
   "execution_count": 41,
   "id": "51a29961-0cda-4e6d-a943-0484179b2e00",
   "metadata": {},
   "outputs": [
    {
     "data": {
      "text/plain": [
       "[[0, 30], [5, 10], [15, 20]]"
      ]
     },
     "execution_count": 41,
     "metadata": {},
     "output_type": "execute_result"
    }
   ],
   "source": [
    "intervals =  [[0,30],[5,10],[15,20]]\n",
    "intervals = sorted(intervals,key = lambda x: (x[0],x[1]))\n",
    "i = 0\n",
    "intervals"
   ]
  },
  {
   "cell_type": "code",
   "execution_count": 40,
   "id": "efbcee4c-8d7c-4d4d-a983-0ed970d93399",
   "metadata": {},
   "outputs": [
    {
     "name": "stdout",
     "output_type": "stream",
     "text": [
      "false\n"
     ]
    }
   ],
   "source": [
    "if (intervals[i][1]>intervals[i+1][0]) or (intervals[i][0] == intervals[i+1][0]):\n",
    "    print(\"false\") "
   ]
  },
  {
   "cell_type": "code",
   "execution_count": 43,
   "id": "76e1497d-d53f-49c2-beb7-57f66d9bf5fe",
   "metadata": {},
   "outputs": [
    {
     "data": {
      "text/plain": [
       "3"
      ]
     },
     "execution_count": 43,
     "metadata": {},
     "output_type": "execute_result"
    }
   ],
   "source": [
    "len(intervals)"
   ]
  },
  {
   "cell_type": "code",
   "execution_count": 25,
   "id": "73579743-9428-4240-95e0-ba01d083db44",
   "metadata": {},
   "outputs": [
    {
     "data": {
      "text/plain": [
       "[[5, 6], [5, 5], [2, 10]]"
      ]
     },
     "execution_count": 25,
     "metadata": {},
     "output_type": "execute_result"
    }
   ],
   "source": [
    "temp = [[5,6],[5,5],[2,10],[2,11]]\n",
    "temp.pop()\n",
    "temp"
   ]
  },
  {
   "cell_type": "code",
   "execution_count": 27,
   "id": "7be74470-12a2-4565-8a85-2c6f35bda7f4",
   "metadata": {},
   "outputs": [
    {
     "data": {
      "text/plain": [
       "[[5, 5], [2, 10], [2, 11]]"
      ]
     },
     "execution_count": 27,
     "metadata": {},
     "output_type": "execute_result"
    }
   ],
   "source": [
    "temp = [[5,6],[5,5],[2,10],[2,11]]\n",
    "temp.pop(0)\n",
    "temp"
   ]
  },
  {
   "cell_type": "code",
   "execution_count": 30,
   "id": "b9f738eb-0aff-47df-aace-8d691b4df747",
   "metadata": {},
   "outputs": [],
   "source": [
    "temp = [[5,6],[5,5],[2,10],[2,11]]\n",
    "for i in range(len(temp)-1):\n",
    "    temp.pop(0)"
   ]
  },
  {
   "cell_type": "code",
   "execution_count": 31,
   "id": "d7cd1a58-9bd1-4a7b-a6a5-78ec2f98ab7b",
   "metadata": {},
   "outputs": [
    {
     "data": {
      "text/plain": [
       "[[2, 11]]"
      ]
     },
     "execution_count": 31,
     "metadata": {},
     "output_type": "execute_result"
    }
   ],
   "source": [
    "temp"
   ]
  },
  {
   "cell_type": "code",
   "execution_count": 33,
   "id": "203e6ad3-a244-4565-823f-2a95ae985b47",
   "metadata": {},
   "outputs": [],
   "source": [
    "temp2 = temp[-1]"
   ]
  },
  {
   "cell_type": "code",
   "execution_count": 34,
   "id": "f51a1756-d17b-4c2e-b745-51971237102b",
   "metadata": {},
   "outputs": [
    {
     "data": {
      "text/plain": [
       "[[10000, 11]]"
      ]
     },
     "execution_count": 34,
     "metadata": {},
     "output_type": "execute_result"
    }
   ],
   "source": [
    "temp2[0] = 10000\n",
    "temp"
   ]
  },
  {
   "cell_type": "markdown",
   "id": "59c3f5fa-9ab0-4dc3-ba3f-385c14062c6e",
   "metadata": {},
   "source": [
    "## `collections` count "
   ]
  },
  {
   "cell_type": "code",
   "execution_count": 7,
   "id": "dbf3f9bc-501a-4418-849e-8e68dd9abee5",
   "metadata": {},
   "outputs": [],
   "source": [
    "import collections"
   ]
  },
  {
   "cell_type": "code",
   "execution_count": 8,
   "id": "a225e9b3-aa43-411f-a61a-c53f9e7c3781",
   "metadata": {},
   "outputs": [],
   "source": [
    "def majorityElement(nums):\n",
    "    counts = collections.Counter(nums)\n",
    "    return max(counts.keys(), key=counts.get)"
   ]
  },
  {
   "cell_type": "code",
   "execution_count": 9,
   "id": "9a05efcb-bf34-4314-9cd5-7ded0b0956c0",
   "metadata": {},
   "outputs": [
    {
     "data": {
      "text/plain": [
       "3"
      ]
     },
     "execution_count": 9,
     "metadata": {},
     "output_type": "execute_result"
    }
   ],
   "source": [
    "majorityElement([1,3,3,3,5])"
   ]
  },
  {
   "cell_type": "code",
   "execution_count": 10,
   "id": "eef9a0e7-60a0-4154-8b66-a18cba06ccb4",
   "metadata": {},
   "outputs": [],
   "source": [
    "temp = collections.Counter([1,3,3,3,5])"
   ]
  },
  {
   "cell_type": "code",
   "execution_count": 1,
   "id": "c76355a8-4347-48fc-ac1e-7a81d96adabd",
   "metadata": {},
   "outputs": [],
   "source": [
    "import numpy as np"
   ]
  },
  {
   "cell_type": "code",
   "execution_count": 2,
   "id": "2ba6acd4-f990-40fe-b86b-645cbe55990b",
   "metadata": {},
   "outputs": [
    {
     "data": {
      "text/plain": [
       "[1]"
      ]
     },
     "execution_count": 2,
     "metadata": {},
     "output_type": "execute_result"
    }
   ],
   "source": [
    "list(range(1,2))"
   ]
  },
  {
   "cell_type": "markdown",
   "id": "5bd59b5f-5acd-41cd-993e-f0a1c8ec94fe",
   "metadata": {},
   "source": [
    "#### list of lists"
   ]
  },
  {
   "cell_type": "code",
   "execution_count": 4,
   "id": "14ec146d-94a3-4e52-8ef4-5791909e2108",
   "metadata": {},
   "outputs": [
    {
     "name": "stdout",
     "output_type": "stream",
     "text": [
      "3 5\n",
      "2 4\n"
     ]
    }
   ],
   "source": [
    "for i, j in [[3,5],[2,4]]:\n",
    "    print(i,j)"
   ]
  },
  {
   "cell_type": "markdown",
   "id": "2a2b1c26-7441-46ef-a1a5-00138b37c0f5",
   "metadata": {},
   "source": [
    "### create heterogeneous lists\n",
    "\n",
    "But this flexibility comes at a cost: to allow these flexible types, each item in the list must contain its own type info, reference count, and other information–that is, each item is a complete Python object. In the special case that all variables are of the same type, much of this information is redundant: it can be much more efficient to store data in a fixed-type array. "
   ]
  },
  {
   "cell_type": "code",
   "execution_count": 2,
   "id": "61975e38-c320-4d5e-aec1-11ba3ebdcd79",
   "metadata": {},
   "outputs": [
    {
     "data": {
      "text/plain": [
       "[bool, str, float, int]"
      ]
     },
     "execution_count": 2,
     "metadata": {},
     "output_type": "execute_result"
    }
   ],
   "source": [
    "L3 = [True, \"2\", 3.0, 4]\n",
    "[type(item) for item in L3]"
   ]
  },
  {
   "cell_type": "markdown",
   "id": "0f8792b6-d2a1-4e0c-b81e-f9633496b5fd",
   "metadata": {},
   "source": [
    "### fixed type"
   ]
  },
  {
   "cell_type": "code",
   "execution_count": 6,
   "id": "9b561d3c-53dc-458e-8e3c-3714df5304cc",
   "metadata": {},
   "outputs": [
    {
     "data": {
      "text/plain": [
       "array([[2, 3, 4],\n",
       "       [4, 5, 6],\n",
       "       [6, 7, 8]])"
      ]
     },
     "execution_count": 6,
     "metadata": {},
     "output_type": "execute_result"
    }
   ],
   "source": [
    "x = np.array([range(i, i + 3) for i in [2, 4, 6]])\n",
    "x"
   ]
  },
  {
   "cell_type": "markdown",
   "id": "80f97b40-5d90-4f09-899f-cf723e85f286",
   "metadata": {},
   "source": [
    "### numpy confusing functions"
   ]
  },
  {
   "cell_type": "markdown",
   "id": "625e622c-a9bb-4fc8-8d50-d8852ede9624",
   "metadata": {},
   "source": [
    "difference between `np.arrange` and `np.linspace`"
   ]
  },
  {
   "cell_type": "code",
   "execution_count": 9,
   "id": "a4a523ce-cb7a-4bbe-bda1-5e367b1a8b14",
   "metadata": {},
   "outputs": [
    {
     "data": {
      "text/plain": [
       "array([ 0,  2,  4,  6,  8, 10, 12, 14, 16, 18])"
      ]
     },
     "execution_count": 9,
     "metadata": {},
     "output_type": "execute_result"
    }
   ],
   "source": [
    "np.arange(0, 20, 2)"
   ]
  },
  {
   "cell_type": "code",
   "execution_count": 12,
   "id": "25e322be-99c9-4749-abb3-79954a77feba",
   "metadata": {},
   "outputs": [
    {
     "data": {
      "text/plain": [
       "array([ 0.,  2.,  4.,  6.,  8., 10., 12., 14., 16., 18.])"
      ]
     },
     "execution_count": 12,
     "metadata": {},
     "output_type": "execute_result"
    }
   ],
   "source": [
    "np.linspace(0,18,10)"
   ]
  },
  {
   "cell_type": "markdown",
   "id": "1752cdf6-0315-4739-bedd-5c8c943f11e4",
   "metadata": {},
   "source": [
    "### numpy distributions"
   ]
  },
  {
   "cell_type": "code",
   "execution_count": 20,
   "id": "c14f2d1d-125b-412e-a520-7b78f75b4c28",
   "metadata": {},
   "outputs": [
    {
     "data": {
      "text/plain": [
       "array([3.00076968, 4.0011984 , 4.94693757])"
      ]
     },
     "execution_count": 20,
     "metadata": {},
     "output_type": "execute_result"
    }
   ],
   "source": [
    "## uniform (a,b)\n",
    "a = 3\n",
    "b = 5\n",
    "out = np.random.random(100) * (b-a) + a\n",
    "np.quantile(out,[0,0.5,1])"
   ]
  },
  {
   "cell_type": "code",
   "execution_count": 33,
   "id": "89cb5008-139a-4834-8f30-d4022537a321",
   "metadata": {},
   "outputs": [
    {
     "data": {
      "text/plain": [
       "array([[ 1.31970288, -0.3063791 , -2.06636449, -0.3009498 , -0.58731355],\n",
       "       [-1.65031391, -1.11686232,  0.36602873, -0.98115691, -1.52107592]])"
      ]
     },
     "execution_count": 33,
     "metadata": {},
     "output_type": "execute_result"
    }
   ],
   "source": [
    "## normal (mean, sd)\n",
    "np.random.normal(loc = 0,scale=1,size=10)\n",
    "np.random.normal(loc = 0,scale=1,size=(2,5))"
   ]
  },
  {
   "cell_type": "code",
   "execution_count": 30,
   "id": "7e1c5e1a-c363-43bc-9d9b-30fa89100645",
   "metadata": {},
   "outputs": [
    {
     "data": {
      "text/plain": [
       "array(['a', 'b', 'a', 'b', 'b'], dtype='<U1')"
      ]
     },
     "execution_count": 30,
     "metadata": {},
     "output_type": "execute_result"
    }
   ],
   "source": [
    "## multinomial like sample in R\n",
    "np.random.choice(np.array(['a','b']),size=5,replace=True,p=[0.1,0.9])"
   ]
  },
  {
   "cell_type": "code",
   "execution_count": 34,
   "id": "45133873-1500-4362-b3e8-b4c0cf2e29ed",
   "metadata": {},
   "outputs": [
    {
     "data": {
      "text/plain": [
       "9"
      ]
     },
     "execution_count": 37,
     "metadata": {},
     "output_type": "execute_result"
    }
   ],
   "source": [
    "## sample random intergers from discrete 0 to 9\n",
    "np.random.randint(0, 10, (3, 3))"
   ]
  },
  {
   "cell_type": "code",
   "execution_count": 3,
   "id": "4ed8a18a-dc74-4007-8c0a-09a3b247b681",
   "metadata": {},
   "outputs": [
    {
     "name": "stdout",
     "output_type": "stream",
     "text": [
      "Jessa's age is: 20\n",
      "Joy's age is: 27\n"
     ]
    }
   ],
   "source": [
    "from datetime import date\n",
    "\n",
    "class Student:\n",
    "    def __init__(self, name, age):\n",
    "        self.name = name\n",
    "        self.age = age\n",
    "\n",
    "    @classmethod\n",
    "    def calculate_age(cls, name, birth_year):\n",
    "        # calculate age an set it as a age\n",
    "        # return new object\n",
    "        return cls(name, date.today().year - birth_year)\n",
    "\n",
    "    def show(self):\n",
    "        print(self.name + \"'s age is: \" + str(self.age))\n",
    "\n",
    "jessa = Student('Jessa', 20)\n",
    "jessa.show()\n",
    "\n",
    "# create new object using the factory method\n",
    "joy = Student.calculate_age(\"Joy\", 1995)\n",
    "joy.show()"
   ]
  },
  {
   "cell_type": "markdown",
   "id": "d3357867-3094-4f2a-aab1-86dd6bb48903",
   "metadata": {},
   "source": [
    "### dictionary"
   ]
  },
  {
   "cell_type": "code",
   "execution_count": 4,
   "id": "e27dc7b1-8af9-4a39-8d38-5abdcb103b91",
   "metadata": {},
   "outputs": [],
   "source": [
    "hashmap = {}\n",
    "hashmap[35] = 1\n",
    "hashmap[26] = 2"
   ]
  },
  {
   "cell_type": "code",
   "execution_count": 5,
   "id": "0ebb902f-1907-4909-bc17-a59fe99ef82d",
   "metadata": {},
   "outputs": [
    {
     "data": {
      "text/plain": [
       "{35: 1, 26: 2}"
      ]
     },
     "execution_count": 5,
     "metadata": {},
     "output_type": "execute_result"
    }
   ],
   "source": [
    "hashmap"
   ]
  },
  {
   "cell_type": "code",
   "execution_count": 6,
   "id": "65100416-643b-4361-9127-9abdec931d1b",
   "metadata": {},
   "outputs": [
    {
     "data": {
      "text/plain": [
       "True"
      ]
     },
     "execution_count": 6,
     "metadata": {},
     "output_type": "execute_result"
    }
   ],
   "source": [
    "35 in hashmap"
   ]
  },
  {
   "cell_type": "code",
   "execution_count": 10,
   "id": "2661a802-0f39-4c52-a166-979d966a580f",
   "metadata": {},
   "outputs": [
    {
     "data": {
      "text/plain": [
       "[1, 2]"
      ]
     },
     "execution_count": 10,
     "metadata": {},
     "output_type": "execute_result"
    }
   ],
   "source": [
    "[hashmap[35], hashmap[26]]"
   ]
  },
  {
   "cell_type": "code",
   "execution_count": 12,
   "id": "b4396c01-4433-4ba4-9005-4aa487d8e425",
   "metadata": {},
   "outputs": [
    {
     "data": {
      "text/plain": [
       "1"
      ]
     },
     "execution_count": 12,
     "metadata": {},
     "output_type": "execute_result"
    }
   ],
   "source": [
    "min(hashmap[35], hashmap[26])"
   ]
  },
  {
   "cell_type": "code",
   "execution_count": 18,
   "id": "753ca167-aebe-43d9-9638-9539e65429a2",
   "metadata": {},
   "outputs": [
    {
     "data": {
      "text/plain": [
       "[4, 3, 2, 1, 0]"
      ]
     },
     "execution_count": 18,
     "metadata": {},
     "output_type": "execute_result"
    }
   ],
   "source": [
    "list(reversed(range(5)))"
   ]
  },
  {
   "cell_type": "markdown",
   "id": "b723c404-b336-478a-8d3a-192d8d1e8fc2",
   "metadata": {},
   "source": [
    "### heap\n",
    "To access the smallest item without popping it, use `heap[0]`."
   ]
  },
  {
   "cell_type": "code",
   "execution_count": 13,
   "id": "7a326b0a-6d0f-4207-829c-e32cfa756e89",
   "metadata": {},
   "outputs": [
    {
     "name": "stdout",
     "output_type": "stream",
     "text": [
      "The created heap is : [1, 3, 9, 7, 5]\n",
      "The modified heap after push is : [1, 3, 4, 7, 5, 9]\n",
      "The popped and smallest element is : 1\n"
     ]
    }
   ],
   "source": [
    "# Python code to demonstrate working of \n",
    "# heapify(), heappush() and heappop()\n",
    "  \n",
    "# importing \"heapq\" to implement heap queue\n",
    "import heapq\n",
    "  \n",
    "# initializing list\n",
    "li = [5, 7, 9, 1, 3]\n",
    "  \n",
    "# using heapify to convert list into heap\n",
    "heapq.heapify(li)\n",
    "  \n",
    "# printing created heap\n",
    "print (\"The created heap is : \",end=\"\")\n",
    "print (list(li))\n",
    "  \n",
    "# using heappush() to push elements into heap\n",
    "# pushes 4\n",
    "heapq.heappush(li,4)\n",
    "  \n",
    "# printing modified heap\n",
    "print (\"The modified heap after push is : \",end=\"\")\n",
    "print (list(li))\n",
    "  \n",
    "# using heappop() to pop smallest element\n",
    "print (\"The popped and smallest element is : \",end=\"\")\n",
    "print (heapq.heappop(li))"
   ]
  },
  {
   "cell_type": "code",
   "execution_count": 3,
   "id": "e20d061a-ce20-4804-82b4-be81d8a18663",
   "metadata": {},
   "outputs": [
    {
     "name": "stdout",
     "output_type": "stream",
     "text": [
      "3 5\n",
      "2 4\n"
     ]
    }
   ],
   "source": [
    "for i, j in [[3,5],[2,4]]:\n",
    "    print(i,j)"
   ]
  },
  {
   "cell_type": "markdown",
   "id": "e10983f0-b30e-4d13-af36-af30b5fd9a00",
   "metadata": {},
   "source": [
    "## Parsing numbers from text"
   ]
  },
  {
   "cell_type": "code",
   "execution_count": 6,
   "id": "f29d93f1-d1e3-40b2-a07c-654b5ae56296",
   "metadata": {},
   "outputs": [
    {
     "data": {
      "text/plain": [
       "['23', '11', '2']"
      ]
     },
     "execution_count": 6,
     "metadata": {},
     "output_type": "execute_result"
    }
   ],
   "source": [
    "txt = \"h3110 23 cat 444.4 rabbit 11 2 dog\"\n",
    "[s for s in txt.split(\" \") if s.isnumeric()]\n",
    "#[23, 11, 2]"
   ]
  },
  {
   "cell_type": "code",
   "execution_count": 25,
   "id": "b33002f0-45ac-4cb9-86e0-089d15173cbe",
   "metadata": {},
   "outputs": [],
   "source": [
    "l = []\n",
    "for t in txt.split():\n",
    "    try:\n",
    "        l.append(float(t))\n",
    "    except ValueError:\n",
    "        pass"
   ]
  },
  {
   "cell_type": "markdown",
   "id": "aa493664-cbed-487e-80c4-6c6182f94f8d",
   "metadata": {},
   "source": [
    "## List Index"
   ]
  },
  {
   "cell_type": "code",
   "execution_count": 19,
   "id": "58c6b2aa-833a-4ed6-b0f2-b44cc62124f0",
   "metadata": {},
   "outputs": [],
   "source": [
    "temp = [3,5,10,\"kobe\",5]"
   ]
  },
  {
   "cell_type": "code",
   "execution_count": 20,
   "id": "c5317a63-6fb9-4bd4-baff-960cd4d4ba7f",
   "metadata": {},
   "outputs": [
    {
     "data": {
      "text/plain": [
       "3"
      ]
     },
     "execution_count": 20,
     "metadata": {},
     "output_type": "execute_result"
    }
   ],
   "source": [
    "temp.index('kobe')"
   ]
  },
  {
   "cell_type": "code",
   "execution_count": 22,
   "id": "8a08dbb0-39f6-476f-b4e4-c636c7c2b3b3",
   "metadata": {},
   "outputs": [
    {
     "data": {
      "text/plain": [
       "1"
      ]
     },
     "execution_count": 22,
     "metadata": {},
     "output_type": "execute_result"
    }
   ],
   "source": [
    "temp.index(5) ## find the index of first 5"
   ]
  },
  {
   "cell_type": "code",
   "execution_count": 24,
   "id": "438243d2-7097-49c6-8377-1b64a5df8bf3",
   "metadata": {},
   "outputs": [
    {
     "data": {
      "text/plain": [
       "4"
      ]
     },
     "execution_count": 24,
     "metadata": {},
     "output_type": "execute_result"
    }
   ],
   "source": [
    "temp.index(5,2) ##find 5 from index 2 to last"
   ]
  },
  {
   "cell_type": "code",
   "execution_count": 23,
   "id": "7b8d2d3b-59b9-4a87-88be-9d1457757a2e",
   "metadata": {},
   "outputs": [
    {
     "data": {
      "text/plain": [
       "[1, 4]"
      ]
     },
     "execution_count": 23,
     "metadata": {},
     "output_type": "execute_result"
    }
   ],
   "source": [
    "[i for i, x in enumerate(temp) if x == 5] "
   ]
  },
  {
   "cell_type": "markdown",
   "id": "c62f3490-bcb8-4cf1-926e-88b32504519f",
   "metadata": {},
   "source": [
    "## List of list looping\n"
   ]
  },
  {
   "cell_type": "code",
   "execution_count": 1,
   "id": "b2c7b3c0-fcde-45aa-a17a-0d3fc018870e",
   "metadata": {},
   "outputs": [
    {
     "name": "stdout",
     "output_type": "stream",
     "text": [
      "2 3\n",
      "5 10\n",
      "2 10\n"
     ]
    }
   ],
   "source": [
    "temp = [[2,3],[5,10],[2,10]]\n",
    "for i,j in temp:\n",
    "    print(i,j)"
   ]
  },
  {
   "cell_type": "markdown",
   "id": "85ad5cc4-9d04-4dc5-9d89-e21673c42fe7",
   "metadata": {},
   "source": [
    "## string operation `split` and `strip`"
   ]
  },
  {
   "cell_type": "code",
   "execution_count": 24,
   "id": "56ec596f-a1e5-4212-8629-5d27b33c9221",
   "metadata": {},
   "outputs": [
    {
     "data": {
      "text/plain": [
       "['a', 'b', 'c', 'd', 'e']"
      ]
     },
     "execution_count": 24,
     "metadata": {},
     "output_type": "execute_result"
    }
   ],
   "source": [
    "txt = \"a \\tb\\tc\\td\\te\"\n",
    "things = txt.split(\"\\t\")\n",
    "[x.strip(\" \") for x in things]"
   ]
  },
  {
   "cell_type": "markdown",
   "id": "33fec473-f9aa-48b6-bff7-887a80c032ca",
   "metadata": {},
   "source": [
    "## `copy` and `deepcopy`"
   ]
  },
  {
   "cell_type": "code",
   "execution_count": 16,
   "id": "0177e37f-6137-441b-85a8-88105dd47a59",
   "metadata": {},
   "outputs": [],
   "source": [
    "import copy"
   ]
  },
  {
   "cell_type": "code",
   "execution_count": 17,
   "id": "8f26a142-1d44-4186-bdd0-63b13032b112",
   "metadata": {},
   "outputs": [
    {
     "data": {
      "text/plain": [
       "[3, 2, [1000, 5]]"
      ]
     },
     "execution_count": 17,
     "metadata": {},
     "output_type": "execute_result"
    }
   ],
   "source": [
    "temp = [3,2,[2,5]]\n",
    "temp2 = temp.copy()\n",
    "temp2[2][0]=1000\n",
    "temp"
   ]
  },
  {
   "cell_type": "code",
   "execution_count": 18,
   "id": "3979b5b4-996d-4173-beae-dd732b45b112",
   "metadata": {},
   "outputs": [
    {
     "data": {
      "text/plain": [
       "[3, 2, [1000, 5]]"
      ]
     },
     "execution_count": 18,
     "metadata": {},
     "output_type": "execute_result"
    }
   ],
   "source": [
    "import copy\n",
    "temp = [3,2,[2,5]]\n",
    "temp2 = copy.copy(temp)\n",
    "temp2[2][0]=1000\n",
    "temp"
   ]
  },
  {
   "cell_type": "code",
   "execution_count": 19,
   "id": "9866d4ab-44df-4c4c-b320-c79ac3a46d7e",
   "metadata": {},
   "outputs": [
    {
     "data": {
      "text/plain": [
       "[3, 2, [2, 5]]"
      ]
     },
     "execution_count": 19,
     "metadata": {},
     "output_type": "execute_result"
    }
   ],
   "source": [
    "import copy\n",
    "temp = [3,2,[2,5]]\n",
    "temp2 = copy.deepcopy(temp)\n",
    "temp2[2][0]=1000\n",
    "temp"
   ]
  },
  {
   "cell_type": "code",
   "execution_count": 4,
   "id": "5524bf62-61fa-49ad-9426-e1492734d154",
   "metadata": {},
   "outputs": [
    {
     "data": {
      "text/plain": [
       "'234'"
      ]
     },
     "execution_count": 4,
     "metadata": {},
     "output_type": "execute_result"
    }
   ],
   "source": [
    "str(234)"
   ]
  },
  {
   "cell_type": "markdown",
   "id": "c062ad91-e8be-428e-8cbd-1d474825dd1b",
   "metadata": {},
   "source": [
    "### check whether a value (string or non-string) is `int` or `float`"
   ]
  },
  {
   "cell_type": "markdown",
   "id": "284d5edd-b261-495d-bf95-6504a5785fea",
   "metadata": {},
   "source": [
    "`isinstance` work for both negative and postive"
   ]
  },
  {
   "cell_type": "code",
   "execution_count": 4,
   "id": "769d6f90-e5e8-4807-8b1d-1056ecba6cc1",
   "metadata": {},
   "outputs": [
    {
     "data": {
      "text/plain": [
       "True"
      ]
     },
     "execution_count": 4,
     "metadata": {},
     "output_type": "execute_result"
    }
   ],
   "source": [
    "isinstance(1, int)"
   ]
  },
  {
   "cell_type": "code",
   "execution_count": 5,
   "id": "fec6a816-f0e6-4e2d-b9f0-f1c20c128462",
   "metadata": {},
   "outputs": [
    {
     "data": {
      "text/plain": [
       "True"
      ]
     },
     "execution_count": 5,
     "metadata": {},
     "output_type": "execute_result"
    }
   ],
   "source": [
    "isinstance(-1, int)"
   ]
  },
  {
   "cell_type": "code",
   "execution_count": 2,
   "id": "bda6b576-88fb-4758-ae7c-28d32c9d0136",
   "metadata": {},
   "outputs": [
    {
     "data": {
      "text/plain": [
       "False"
      ]
     },
     "execution_count": 2,
     "metadata": {},
     "output_type": "execute_result"
    }
   ],
   "source": [
    "isinstance(\"1\", float)"
   ]
  },
  {
   "cell_type": "code",
   "execution_count": 7,
   "id": "3df27344-643a-4e5c-9e39-3d083f030111",
   "metadata": {},
   "outputs": [
    {
     "data": {
      "text/plain": [
       "True"
      ]
     },
     "execution_count": 7,
     "metadata": {},
     "output_type": "execute_result"
    }
   ],
   "source": [
    "isinstance(1.0, float)"
   ]
  },
  {
   "cell_type": "code",
   "execution_count": 15,
   "id": "500c076e-a778-47ee-a969-80e6472da035",
   "metadata": {},
   "outputs": [
    {
     "data": {
      "text/plain": [
       "False"
      ]
     },
     "execution_count": 15,
     "metadata": {},
     "output_type": "execute_result"
    }
   ],
   "source": [
    "\"as\".isnumeric()"
   ]
  },
  {
   "cell_type": "markdown",
   "id": "54eb0c8b-36b8-4b45-bd8f-8d23573f347e",
   "metadata": {},
   "source": [
    "`is_digit` works for non-negative number"
   ]
  },
  {
   "cell_type": "code",
   "execution_count": 20,
   "id": "162928f8-5fa7-44a4-8124-a4d23c8140da",
   "metadata": {},
   "outputs": [
    {
     "data": {
      "text/plain": [
       "False"
      ]
     },
     "execution_count": 20,
     "metadata": {},
     "output_type": "execute_result"
    }
   ],
   "source": [
    "\"-3\".isdigit()"
   ]
  },
  {
   "cell_type": "code",
   "execution_count": 8,
   "id": "791ce28c-4883-46ee-a2b9-ea78a9ff2594",
   "metadata": {},
   "outputs": [
    {
     "data": {
      "text/plain": [
       "True"
      ]
     },
     "execution_count": 8,
     "metadata": {},
     "output_type": "execute_result"
    }
   ],
   "source": [
    "\"3\".isdigit()"
   ]
  },
  {
   "cell_type": "code",
   "execution_count": 11,
   "id": "54af3d35-66d6-4251-8e23-690254098095",
   "metadata": {},
   "outputs": [
    {
     "data": {
      "text/plain": [
       "True"
      ]
     },
     "execution_count": 11,
     "metadata": {},
     "output_type": "execute_result"
    }
   ],
   "source": [
    "\"0\".isdigit()"
   ]
  },
  {
   "cell_type": "markdown",
   "id": "3344016c-cb7b-4980-867b-d2f73aa2a7e5",
   "metadata": {},
   "source": [
    "## sort list of string by length"
   ]
  },
  {
   "cell_type": "code",
   "execution_count": 2,
   "id": "457c3a6b-814f-4ef9-a9d4-00793d858b96",
   "metadata": {},
   "outputs": [
    {
     "data": {
      "text/plain": [
       "['flow', 'flower', 'flight']"
      ]
     },
     "execution_count": 2,
     "metadata": {},
     "output_type": "execute_result"
    }
   ],
   "source": [
    "x = [\"flower\",\"flow\",\"flight\"]\n",
    "sorted(x,key = lambda x: len(x))"
   ]
  },
  {
   "cell_type": "code",
   "execution_count": null,
   "id": "eb70f897-c43a-410a-918b-fdeb4c6f51f3",
   "metadata": {},
   "outputs": [],
   "source": [
    "for t in txt.split():\n",
    "    try:\n",
    "        l.append(float(t))\n",
    "    except ValueError:\n",
    "        pass"
   ]
  },
  {
   "cell_type": "code",
   "execution_count": 10,
   "id": "14d3443b-d620-4262-ab8b-c8b8b8a1feb9",
   "metadata": {},
   "outputs": [],
   "source": [
    "temp = ['5 min','-5 asdf','asdf','0 asdf']"
   ]
  },
  {
   "cell_type": "code",
   "execution_count": 11,
   "id": "69bdc7de-39a0-41e7-9e02-2404453e0b8e",
   "metadata": {},
   "outputs": [],
   "source": [
    "out = []\n",
    "for i in range(len(temp)):\n",
    "    for j in temp[i].split():\n",
    "        try:\n",
    "            out.append(float(j))\n",
    "        except ValueError:\n",
    "            pass"
   ]
  },
  {
   "cell_type": "code",
   "execution_count": 12,
   "id": "f551cf68-b9c8-4507-907e-0c640afd3970",
   "metadata": {},
   "outputs": [
    {
     "data": {
      "text/plain": [
       "[5.0, -5.0, 0.0]"
      ]
     },
     "execution_count": 12,
     "metadata": {},
     "output_type": "execute_result"
    }
   ],
   "source": [
    "out"
   ]
  },
  {
   "cell_type": "code",
   "execution_count": null,
   "id": "9aaaed8b-9054-4e5a-abd3-7b9b28c24bd5",
   "metadata": {},
   "outputs": [],
   "source": []
  }
 ],
 "metadata": {
  "kernelspec": {
   "display_name": "Python 3 (ipykernel)",
   "language": "python",
   "name": "python3"
  },
  "language_info": {
   "codemirror_mode": {
    "name": "ipython",
    "version": 3
   },
   "file_extension": ".py",
   "mimetype": "text/x-python",
   "name": "python",
   "nbconvert_exporter": "python",
   "pygments_lexer": "ipython3",
   "version": "3.9.7"
  }
 },
 "nbformat": 4,
 "nbformat_minor": 5
}
