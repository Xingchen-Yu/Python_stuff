{
 "cells": [
  {
   "cell_type": "markdown",
   "id": "faba1c45-a27c-4b20-ad9b-7c7b2ff45b5b",
   "metadata": {},
   "source": [
    "This notebook includes many simulation to study many statisitcal problems"
   ]
  },
  {
   "cell_type": "code",
   "execution_count": 2,
   "id": "62240275-bed3-468a-843b-f620eb386105",
   "metadata": {},
   "outputs": [],
   "source": [
    "import numpy as np\n",
    "import pandas as pd\n",
    "import seaborn as sns\n",
    "from scipy import stats"
   ]
  },
  {
   "cell_type": "code",
   "execution_count": 4,
   "id": "f9411d6f-dbdb-4f8f-a228-668eebab6dde",
   "metadata": {},
   "outputs": [],
   "source": [
    "rng = np.random.RandomState(8888)"
   ]
  },
  {
   "cell_type": "code",
   "execution_count": 5,
   "id": "2e75fc9a-2dff-4ae6-80bf-9bbcc5dc9139",
   "metadata": {},
   "outputs": [
    {
     "data": {
      "text/plain": [
       "8.862893068247667"
      ]
     },
     "execution_count": 5,
     "metadata": {},
     "output_type": "execute_result"
    }
   ],
   "source": [
    "n = 100\n",
    "true_y = rng.normal(size=n,loc = 0,scale=3)\n",
    "np.var(true_y)"
   ]
  },
  {
   "cell_type": "markdown",
   "id": "2b783998-5dcd-426b-8488-dee402b92651",
   "metadata": {},
   "source": [
    "Samples are correlated (some user's measurement were taken multiple times), bootstrap can correct it (assuming `true_y` is I.I.D)\n",
    "\n",
    "__Recall from A/B Testing books: Having the randomization unit be coarser than the analysis uniut, such as randomizing by user and the click-through rate (by page) , will work, but requires more nuanced anlayses methods such as bootstrap or the delta method__."
   ]
  },
  {
   "cell_type": "code",
   "execution_count": 6,
   "id": "b7056df2-7088-420a-be6d-00cf20f873bc",
   "metadata": {},
   "outputs": [],
   "source": [
    "n_replicates = 1000\n",
    "out = rng.choice(true_y,size=(n_replicates,n))"
   ]
  },
  {
   "cell_type": "code",
   "execution_count": 7,
   "id": "ce4b7609-f628-44b2-b17a-7cf05fb3a557",
   "metadata": {},
   "outputs": [
    {
     "data": {
      "text/plain": [
       "8.834754276635184"
      ]
     },
     "execution_count": 7,
     "metadata": {},
     "output_type": "execute_result"
    }
   ],
   "source": [
    "np.mean(out.var(axis=1))"
   ]
  },
  {
   "cell_type": "markdown",
   "id": "5465f5fd-13e2-43b5-bc37-0cc805874d3c",
   "metadata": {},
   "source": [
    "__Outlier effect on A/B testing, p-value of 0.32 and T-stat of 1.__\n",
    "\n",
    "https://statisticaloddsandends.wordpress.com/2020/10/01/p-value-around-0-32-you-may-have-a-problem-with-outliers/"
   ]
  },
  {
   "cell_type": "code",
   "execution_count": 15,
   "id": "5433165a-fcb0-4dce-898a-c9593cd93704",
   "metadata": {},
   "outputs": [
    {
     "data": {
      "text/plain": [
       "Ttest_1sampResult(statistic=-1.4600255827489745, pvalue=0.14744918186569625)"
      ]
     },
     "execution_count": 15,
     "metadata": {},
     "output_type": "execute_result"
    }
   ],
   "source": [
    "n = 100\n",
    "a = rng.uniform(size = n)\n",
    "b = rng.uniform(size = n)\n",
    "stats.ttest_1samp(a,popmean= 1/2 )"
   ]
  },
  {
   "cell_type": "markdown",
   "id": "f1e5ab19-4264-4170-89f2-485fb5c4f83f",
   "metadata": {},
   "source": [
    "#### still same conclusion (insignificant) due to cancellation of the outlier in both numerator and denominator"
   ]
  },
  {
   "cell_type": "markdown",
   "id": "b8f9692a-07bc-43db-8d4a-f9ccbec5aad7",
   "metadata": {},
   "source": [
    "Assume paired test"
   ]
  },
  {
   "cell_type": "code",
   "execution_count": 16,
   "id": "4689b9f0-1c6e-45d9-8be3-8b612250abf7",
   "metadata": {},
   "outputs": [
    {
     "data": {
      "text/plain": [
       "Ttest_1sampResult(statistic=0.9996142250135274, pvalue=0.31993426353989773)"
      ]
     },
     "execution_count": 16,
     "metadata": {},
     "output_type": "execute_result"
    }
   ],
   "source": [
    "a[-1] = 10000\n",
    "stats.ttest_1samp(a,popmean=1/2)"
   ]
  },
  {
   "cell_type": "code",
   "execution_count": 17,
   "id": "52198b4d-25c5-4c14-93ce-06adae04c14e",
   "metadata": {},
   "outputs": [
    {
     "data": {
      "text/plain": [
       "Ttest_1sampResult(statistic=0.999533781835471, pvalue=0.31997301403859324)"
      ]
     },
     "execution_count": 17,
     "metadata": {},
     "output_type": "execute_result"
    }
   ],
   "source": [
    "stats.ttest_1samp(a-b,popmean=0)"
   ]
  },
  {
   "cell_type": "code",
   "execution_count": 18,
   "id": "08732010-9e22-45c0-9f79-e74a035cf76a",
   "metadata": {},
   "outputs": [
    {
     "data": {
      "text/plain": [
       "Ttest_relResult(statistic=0.999533781835471, pvalue=0.31997301403859324)"
      ]
     },
     "execution_count": 18,
     "metadata": {},
     "output_type": "execute_result"
    }
   ],
   "source": [
    "stats.ttest_rel(a,b)"
   ]
  },
  {
   "cell_type": "markdown",
   "id": "c4fbaac7-9cb6-4df4-8605-ffb88a6d4b76",
   "metadata": {},
   "source": [
    "Assume independent two sample test"
   ]
  },
  {
   "cell_type": "code",
   "execution_count": 19,
   "id": "15d42059-b1d1-4c20-a1a5-fd0dfb48ef9d",
   "metadata": {},
   "outputs": [
    {
     "data": {
      "text/plain": [
       "Ttest_indResult(statistic=0.9995821663324865, pvalue=0.31873277752641305)"
      ]
     },
     "execution_count": 19,
     "metadata": {},
     "output_type": "execute_result"
    }
   ],
   "source": [
    "stats.ttest_ind(a,b)"
   ]
  },
  {
   "cell_type": "code",
   "execution_count": 20,
   "id": "1c1534ce-ab89-4a34-b20a-b951059aab77",
   "metadata": {},
   "outputs": [
    {
     "data": {
      "text/plain": [
       "Ttest_indResult(statistic=0.9995821663324865, pvalue=0.87)"
      ]
     },
     "execution_count": 20,
     "metadata": {},
     "output_type": "execute_result"
    }
   ],
   "source": [
    "stats.ttest_ind(a,b,permutations = 1000)"
   ]
  },
  {
   "cell_type": "markdown",
   "id": "0cc529e6-ebf0-4952-88ee-aa7aa719c711",
   "metadata": {},
   "source": [
    "__T-stats__"
   ]
  },
  {
   "cell_type": "code",
   "execution_count": 13,
   "id": "abe1ceb9-b729-4212-bbd3-b4a5a404442a",
   "metadata": {},
   "outputs": [
    {
     "data": {
      "text/plain": [
       "1.0102845891186012"
      ]
     },
     "execution_count": 13,
     "metadata": {},
     "output_type": "execute_result"
    }
   ],
   "source": [
    "a.mean()/(a.std()/np.sqrt(n))"
   ]
  },
  {
   "cell_type": "markdown",
   "id": "6e914c5f-d29d-4275-b112-d099b6a395e9",
   "metadata": {
    "tags": []
   },
   "source": [
    "## Permutation test\n",
    "\n",
    "Non-parametric test when the normality of tests do not hold"
   ]
  },
  {
   "cell_type": "code",
   "execution_count": 65,
   "id": "6944eee1-48d9-41ab-9766-ded8fb4f19c0",
   "metadata": {},
   "outputs": [],
   "source": [
    "n = 100\n",
    "treat_effect = 0.3\n",
    "control = 1 + np.random.normal(size = n)\n",
    "treatment = 1 + np.random.normal(size = n) + treat_effect"
   ]
  },
  {
   "cell_type": "code",
   "execution_count": 66,
   "id": "0ecabec1-24ec-4dd1-9a15-74e96f2561dc",
   "metadata": {},
   "outputs": [
    {
     "data": {
      "text/plain": [
       "Ttest_indResult(statistic=-2.817861558598173, pvalue=0.005324791945203552)"
      ]
     },
     "execution_count": 66,
     "metadata": {},
     "output_type": "execute_result"
    }
   ],
   "source": [
    "stats.ttest_ind(control,treatment)"
   ]
  },
  {
   "cell_type": "code",
   "execution_count": 67,
   "id": "d8c6f62d-7ca6-4c70-ba69-350221d15d85",
   "metadata": {},
   "outputs": [
    {
     "data": {
      "text/plain": [
       "Ttest_indResult(statistic=-2.817861558598173, pvalue=0.0041)"
      ]
     },
     "execution_count": 67,
     "metadata": {},
     "output_type": "execute_result"
    }
   ],
   "source": [
    "stats.ttest_ind(control,treatment,permutations = 10000)"
   ]
  },
  {
   "cell_type": "markdown",
   "id": "f0608482-802b-4f87-b910-268938c324be",
   "metadata": {},
   "source": [
    "## Bootstrap with parallel"
   ]
  },
  {
   "cell_type": "markdown",
   "id": "e9acab8c-48f9-4bfc-bb65-7c799577a0e2",
   "metadata": {},
   "source": [
    "### non-parametric bootstrap"
   ]
  },
  {
   "cell_type": "code",
   "execution_count": 3,
   "id": "121ccf6b-195a-4af5-ae08-1ff8ec9c1ee6",
   "metadata": {},
   "outputs": [
    {
     "data": {
      "text/plain": [
       "array([ 7.83456167,  8.84695193, 10.07557688])"
      ]
     },
     "execution_count": 3,
     "metadata": {},
     "output_type": "execute_result"
    }
   ],
   "source": [
    "from joblib import Parallel, delayed # for parallel processing\n",
    "import numpy as np\n",
    "x = np.random.normal(size = 100, scale =10)\n",
    "bootstrap_samples = 100\n",
    "def std_sample(x):\n",
    "    x = np.random.choice(x,size = len(x),replace = True)\n",
    "    return(x.std())\n",
    "out = Parallel(n_jobs = 10)(delayed(std_sample)(x) for _ in range(bootstrap_samples))\n",
    "\n",
    "np.quantile(out,[0.025,0.5,0.975])"
   ]
  },
  {
   "cell_type": "code",
   "execution_count": 6,
   "id": "332bcaa4-bc7e-40dd-b335-552006565b18",
   "metadata": {},
   "outputs": [],
   "source": [
    "from joblib import delayed, Parallel\n",
    "import scipy.stats as ss\n",
    "import numpy as np"
   ]
  },
  {
   "cell_type": "code",
   "execution_count": 61,
   "id": "bafab10a-8549-4953-9a03-075e722b0157",
   "metadata": {},
   "outputs": [],
   "source": [
    "np.random.seed(8888)\n",
    "x = ss.cauchy.rvs(size = 100)\n",
    "n_boot_samples = 5000\n",
    "def var_sample(x):\n",
    "    x_boot = np.random.choice(x, size = len(x), replace = True)\n",
    "    return np.median(x_boot)"
   ]
  },
  {
   "cell_type": "code",
   "execution_count": 62,
   "id": "874d38d0-d757-4fe9-ad89-da25c01100bb",
   "metadata": {},
   "outputs": [
    {
     "data": {
      "text/plain": [
       "0.024537052995451843"
      ]
     },
     "execution_count": 62,
     "metadata": {},
     "output_type": "execute_result"
    }
   ],
   "source": [
    "boot_median = Parallel(n_jobs = 10)(delayed(var_sample)(x) for _ in range(n_boot_samples))\n",
    "np.var(boot_median)"
   ]
  },
  {
   "cell_type": "markdown",
   "id": "5410d2d8-28f3-458e-ac0b-e8b4d554254d",
   "metadata": {},
   "source": [
    "### Parametric bootstrap\n",
    "\n",
    "Use sample statistic and assumes a parametric distribution."
   ]
  },
  {
   "cell_type": "code",
   "execution_count": 63,
   "id": "870caeab-19a4-4283-b05d-7ff7a6b38812",
   "metadata": {},
   "outputs": [],
   "source": [
    "np.random.seed(8888)\n",
    "x = ss.cauchy.rvs(size = 100)\n",
    "n_boot_samples = 5000\n",
    "sample_median = np.median(x)\n",
    "def var_sample(x0):\n",
    "    x_par = ss.cauchy.rvs(size = 100,loc = x0)\n",
    "    return np.median(x_par)"
   ]
  },
  {
   "cell_type": "code",
   "execution_count": 64,
   "id": "a7555e9e-4dc0-47ff-bc09-d463124e3153",
   "metadata": {},
   "outputs": [
    {
     "data": {
      "text/plain": [
       "0.02447355007653579"
      ]
     },
     "execution_count": 64,
     "metadata": {},
     "output_type": "execute_result"
    }
   ],
   "source": [
    "para_bootstrap = Parallel(n_jobs = 10)(delayed(var_sample)(sample_median) for _ in range(n_boot_samples))\n",
    "np.var(para_bootstrap)"
   ]
  },
  {
   "cell_type": "markdown",
   "id": "808ca01c-b7f9-47ce-b51c-7678962ed7be",
   "metadata": {},
   "source": [
    "### Bootstrap T-method"
   ]
  },
  {
   "cell_type": "code",
   "execution_count": 20,
   "id": "1128bd55-5b9b-4201-8c0a-1c73f5d26e53",
   "metadata": {},
   "outputs": [],
   "source": [
    "rng = np.random.RandomState(0)\n",
    "n = 500\n",
    "p = 1\n",
    "x = rng.normal(size=(n,p))\n",
    "beta = [1,5]\n",
    "y = np.dot(np.concatenate((np.repeat(1,n)[:,None],x),axis=1),beta) + rng.normal(size =n)"
   ]
  },
  {
   "cell_type": "code",
   "execution_count": 21,
   "id": "daa06cb0-f97c-4e35-9098-6ff87f1a61ff",
   "metadata": {},
   "outputs": [],
   "source": [
    "import pandas as pd\n",
    "data = pd.DataFrame(np.concatenate((y[:,None],x),axis=1),columns = [\"y\",'x'])\n",
    "              "
   ]
  },
  {
   "cell_type": "markdown",
   "id": "f1794160-768a-452d-b3d8-5833214da10d",
   "metadata": {},
   "source": [
    "#### percentile CI method"
   ]
  },
  {
   "cell_type": "code",
   "execution_count": 22,
   "id": "3beaa6fc-4892-4793-a55e-e2fdce02c97b",
   "metadata": {},
   "outputs": [],
   "source": [
    "## percentile CI method\n",
    "import statsmodels.formula.api as smf\n",
    "n_boot = 1000\n",
    "def get_ratio_boot(data):\n",
    "    coef = smf.ols(\"y~x\",data = data).fit().params\n",
    "    return coef[1]/coef[0]\n",
    "\n",
    "out = Parallel(n_jobs = 10)(delayed(get_ratio_boot)(data.sample(frac = 1, replace = True)) for _ in range(n_boot))"
   ]
  },
  {
   "cell_type": "code",
   "execution_count": 23,
   "id": "8b544e7a-5523-4871-9419-cc8103ccc9ce",
   "metadata": {},
   "outputs": [
    {
     "data": {
      "text/plain": [
       "array([4.85929696, 5.82460528])"
      ]
     },
     "execution_count": 23,
     "metadata": {},
     "output_type": "execute_result"
    }
   ],
   "source": [
    "np.quantile(out,[0.025,0.975])"
   ]
  },
  {
   "cell_type": "markdown",
   "id": "fb9aa9f8-42dd-4a75-a01f-f518a0a0c716",
   "metadata": {},
   "source": [
    "#### T method"
   ]
  },
  {
   "cell_type": "code",
   "execution_count": 24,
   "id": "1fc1cf10-2629-48c3-802d-a486819ad8fc",
   "metadata": {
    "tags": []
   },
   "outputs": [],
   "source": [
    "## percentile CI method\n",
    "import statsmodels.formula.api as smf\n",
    "n_boot = 1000\n",
    "model = smf.ols(\"y~x\",data = data).fit()\n",
    "model_coef = model.params\n",
    "coef_cov = model.cov_params()\n",
    "theta_hat = model_coef[1] / model_coef[0]\n",
    "sigma2_delta = theta_hat**2 * (coef_cov.iloc[1,1]/(model_coef[1]**2)  + coef_cov.iloc[0,0]/(model_coef[0]**2) - 2 * (coef_cov.iloc[1,0])/ (model_coef[0] * model_coef[1]))\n",
    "\n",
    "def get_ratio_boot(data,theta_hat):\n",
    "    model = smf.ols(\"y~x\",data = data).fit()\n",
    "    coef = model.params\n",
    "    coef_cov = model.cov_params()\n",
    "    theta_hat_boot =  coef[1]/coef[0]\n",
    "    sigma2_delta = theta_hat_boot**2 * (coef_cov.iloc[1,1]/(coef[1]**2)  + coef_cov.iloc[0,0]/(coef[0]**2) - 2 * (coef_cov.iloc[1,0])/ (coef[0] * coef[1]))\n",
    "    return ((theta_hat_boot-theta_hat) / np.sqrt(sigma2_delta))\n",
    "\n",
    "out = Parallel(n_jobs = 10)(delayed(get_ratio_boot)(data.sample(frac = 1, replace = True), theta_hat) for _ in range(n_boot))"
   ]
  },
  {
   "cell_type": "code",
   "execution_count": 26,
   "id": "3e2e4e4f-0406-46da-aa84-c3c73fa77f2a",
   "metadata": {},
   "outputs": [
    {
     "data": {
      "text/plain": [
       "array([4.76660753, 5.76852671])"
      ]
     },
     "execution_count": 26,
     "metadata": {},
     "output_type": "execute_result"
    }
   ],
   "source": [
    "t_quant = np.quantile(out,[0.025,0.975])\n",
    "theta_hat + t_quant * np.sqrt(sigma2_delta)"
   ]
  },
  {
   "cell_type": "code",
   "execution_count": null,
   "id": "69d256f3-1592-41d5-8819-e50a2b870c7a",
   "metadata": {},
   "outputs": [],
   "source": []
  }
 ],
 "metadata": {
  "kernelspec": {
   "display_name": "Python 3 (ipykernel)",
   "language": "python",
   "name": "python3"
  },
  "language_info": {
   "codemirror_mode": {
    "name": "ipython",
    "version": 3
   },
   "file_extension": ".py",
   "mimetype": "text/x-python",
   "name": "python",
   "nbconvert_exporter": "python",
   "pygments_lexer": "ipython3",
   "version": "3.9.7"
  }
 },
 "nbformat": 4,
 "nbformat_minor": 5
}
