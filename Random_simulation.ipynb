{
 "cells": [
  {
   "cell_type": "markdown",
   "id": "faba1c45-a27c-4b20-ad9b-7c7b2ff45b5b",
   "metadata": {},
   "source": [
    "This notebook includes many simulation to study many statisitcal problems"
   ]
  },
  {
   "cell_type": "code",
   "execution_count": 2,
   "id": "62240275-bed3-468a-843b-f620eb386105",
   "metadata": {},
   "outputs": [],
   "source": [
    "import numpy as np\n",
    "import pandas as pd\n",
    "import seaborn as sns\n",
    "from scipy import stats"
   ]
  },
  {
   "cell_type": "code",
   "execution_count": 5,
   "id": "f9411d6f-dbdb-4f8f-a228-668eebab6dde",
   "metadata": {},
   "outputs": [],
   "source": [
    "rng = np.random.RandomState(8888)"
   ]
  },
  {
   "cell_type": "code",
   "execution_count": 7,
   "id": "2e75fc9a-2dff-4ae6-80bf-9bbcc5dc9139",
   "metadata": {},
   "outputs": [
    {
     "data": {
      "text/plain": [
       "8.862893068247667"
      ]
     },
     "execution_count": 7,
     "metadata": {},
     "output_type": "execute_result"
    }
   ],
   "source": [
    "n = 100\n",
    "true_y = rng.normal(size=n,loc = 0,scale=3)\n",
    "np.var(true_y)"
   ]
  },
  {
   "cell_type": "code",
   "execution_count": 15,
   "id": "53e81a2a-64a7-4357-973f-11ecd2a95f20",
   "metadata": {},
   "outputs": [
    {
     "data": {
      "text/plain": [
       "array([492.24610295, 502.85358726, 472.59419786, 494.11218604,\n",
       "       506.62247862])"
      ]
     },
     "execution_count": 15,
     "metadata": {},
     "output_type": "execute_result"
    }
   ],
   "source": [
    "temp = rng.normal(size = (100,5),loc = 5)\n",
    "temp.sum(axis=0)"
   ]
  },
  {
   "cell_type": "markdown",
   "id": "591e1542-3d67-4084-9eae-28608faa8d6d",
   "metadata": {},
   "source": [
    "#### normalize so that columns sum to 1"
   ]
  },
  {
   "cell_type": "code",
   "execution_count": 16,
   "id": "4a0b5d1b-9b88-4829-ae45-3093c91538a2",
   "metadata": {},
   "outputs": [
    {
     "data": {
      "text/plain": [
       "array([1., 1., 1., 1., 1.])"
      ]
     },
     "execution_count": 16,
     "metadata": {},
     "output_type": "execute_result"
    }
   ],
   "source": [
    "temp_norm = temp/temp.sum(axis=0)\n",
    "temp_norm.sum(axis=0)"
   ]
  },
  {
   "cell_type": "markdown",
   "id": "41878beb-70fe-4c48-afff-a4467880b28d",
   "metadata": {
    "tags": []
   },
   "source": [
    "#### normalize so that rows sum to 1"
   ]
  },
  {
   "cell_type": "code",
   "execution_count": 18,
   "id": "24846e31-0821-4666-8512-2dfbc31a35f0",
   "metadata": {},
   "outputs": [
    {
     "data": {
      "text/plain": [
       "array([1., 1., 1., 1., 1., 1., 1., 1., 1., 1., 1., 1., 1., 1., 1., 1., 1.,\n",
       "       1., 1., 1., 1., 1., 1., 1., 1., 1., 1., 1., 1., 1., 1., 1., 1., 1.,\n",
       "       1., 1., 1., 1., 1., 1., 1., 1., 1., 1., 1., 1., 1., 1., 1., 1., 1.,\n",
       "       1., 1., 1., 1., 1., 1., 1., 1., 1., 1., 1., 1., 1., 1., 1., 1., 1.,\n",
       "       1., 1., 1., 1., 1., 1., 1., 1., 1., 1., 1., 1., 1., 1., 1., 1., 1.,\n",
       "       1., 1., 1., 1., 1., 1., 1., 1., 1., 1., 1., 1., 1., 1., 1.])"
      ]
     },
     "execution_count": 18,
     "metadata": {},
     "output_type": "execute_result"
    }
   ],
   "source": [
    "temp_norm_row = (temp.T / temp.sum(axis=1)).T\n",
    "temp_norm_row.sum(axis=1)"
   ]
  },
  {
   "cell_type": "markdown",
   "id": "b15dc50f-7fa0-4687-9dfa-4fca62e8a1f1",
   "metadata": {},
   "source": [
    "#### distinct, NA"
   ]
  },
  {
   "cell_type": "code",
   "execution_count": 19,
   "id": "78646d97-22c8-4160-b9b5-5774c28a3dea",
   "metadata": {},
   "outputs": [],
   "source": [
    "df = pd.DataFrame({\"x\":[1,np.nan,3,5],'y':[2,5,1,3]})"
   ]
  },
  {
   "cell_type": "code",
   "execution_count": 21,
   "id": "f63014f4-5261-4331-a7e8-f06b8522ed4d",
   "metadata": {},
   "outputs": [
    {
     "data": {
      "text/plain": [
       "x    1\n",
       "y    0\n",
       "dtype: int64"
      ]
     },
     "execution_count": 21,
     "metadata": {},
     "output_type": "execute_result"
    }
   ],
   "source": [
    "df.isnull().sum(axis=0)"
   ]
  },
  {
   "cell_type": "code",
   "execution_count": 26,
   "id": "929566c7-bc7d-4ebd-ad2d-ed8ecc0d79b3",
   "metadata": {},
   "outputs": [
    {
     "data": {
      "text/plain": [
       "x    3\n",
       "y    4\n",
       "dtype: int64"
      ]
     },
     "execution_count": 26,
     "metadata": {},
     "output_type": "execute_result"
    }
   ],
   "source": [
    "df.nunique()"
   ]
  },
  {
   "cell_type": "markdown",
   "id": "475f9aea-511e-44bc-85ff-6350eb0163a3",
   "metadata": {},
   "source": [
    "#### np not na index"
   ]
  },
  {
   "cell_type": "code",
   "execution_count": 3,
   "id": "2e36e59c-9a1f-4514-9393-b60405bf623a",
   "metadata": {},
   "outputs": [
    {
     "data": {
      "text/plain": [
       "array([1., 3., 5.])"
      ]
     },
     "execution_count": 3,
     "metadata": {},
     "output_type": "execute_result"
    }
   ],
   "source": [
    "x = np.array([1,3,np.nan,5])\n",
    "x[~np.isnan(x)]"
   ]
  },
  {
   "cell_type": "markdown",
   "id": "2b783998-5dcd-426b-8488-dee402b92651",
   "metadata": {},
   "source": [
    "Samples are correlated (some user's measurement were taken multiple times), bootstrap can correct it (assuming `true_y` is I.I.D)\n",
    "\n",
    "__Recall from A/B Testing books: Having the randomization unit be coarser than the analysis uniut, such as randomizing by user and the click-through rate (by page) , will work, but requires more nuanced anlayses methods such as bootstrap or the delta method__.\n",
    "\n",
    "- Bootstrap: We can sample 1 from each user_id (each user_id might mulitple page views) and estimate variance this way. Or later Bootstrap T method discussed later\n",
    "\n",
    "- Delta method: Directly brute force calculation of variance on the user metrics. (see book)\n",
    "- CUPED and other variance reduction techniques\n"
   ]
  },
  {
   "cell_type": "code",
   "execution_count": 8,
   "id": "b7056df2-7088-420a-be6d-00cf20f873bc",
   "metadata": {},
   "outputs": [],
   "source": [
    "n_replicates = 1000\n",
    "out = rng.choice(true_y,size=(n_replicates,n))"
   ]
  },
  {
   "cell_type": "code",
   "execution_count": 9,
   "id": "ce4b7609-f628-44b2-b17a-7cf05fb3a557",
   "metadata": {},
   "outputs": [
    {
     "data": {
      "text/plain": [
       "8.834754276635184"
      ]
     },
     "execution_count": 9,
     "metadata": {},
     "output_type": "execute_result"
    }
   ],
   "source": [
    "np.mean(out.var(axis=1))"
   ]
  },
  {
   "cell_type": "markdown",
   "id": "5465f5fd-13e2-43b5-bc37-0cc805874d3c",
   "metadata": {},
   "source": [
    "__Outlier effect on A/B testing, p-value of 0.32 and T-stat of 1.__\n",
    "\n",
    "https://statisticaloddsandends.wordpress.com/2020/10/01/p-value-around-0-32-you-may-have-a-problem-with-outliers/"
   ]
  },
  {
   "cell_type": "code",
   "execution_count": 16,
   "id": "5433165a-fcb0-4dce-898a-c9593cd93704",
   "metadata": {},
   "outputs": [
    {
     "data": {
      "text/plain": [
       "Ttest_1sampResult(statistic=0.6196367030219052, pvalue=0.5369205035631737)"
      ]
     },
     "execution_count": 16,
     "metadata": {},
     "output_type": "execute_result"
    }
   ],
   "source": [
    "n = 100\n",
    "a = rng.uniform(size = n)\n",
    "b = rng.uniform(size = n)\n",
    "stats.ttest_1samp(a,popmean= 1/2 )"
   ]
  },
  {
   "cell_type": "markdown",
   "id": "f1e5ab19-4264-4170-89f2-485fb5c4f83f",
   "metadata": {},
   "source": [
    "#### still same conclusion (insignificant) due to cancellation of the outlier in both numerator and denominator"
   ]
  },
  {
   "cell_type": "markdown",
   "id": "b8f9692a-07bc-43db-8d4a-f9ccbec5aad7",
   "metadata": {},
   "source": [
    "Assume paired test"
   ]
  },
  {
   "cell_type": "code",
   "execution_count": 17,
   "id": "4689b9f0-1c6e-45d9-8be3-8b612250abf7",
   "metadata": {},
   "outputs": [
    {
     "data": {
      "text/plain": [
       "Ttest_1sampResult(statistic=1.0002202132496276, pvalue=0.31964245147070597)"
      ]
     },
     "execution_count": 17,
     "metadata": {},
     "output_type": "execute_result"
    }
   ],
   "source": [
    "a[-1] = 10000\n",
    "stats.ttest_1samp(a,popmean=1/2)"
   ]
  },
  {
   "cell_type": "code",
   "execution_count": 18,
   "id": "52198b4d-25c5-4c14-93ce-06adae04c14e",
   "metadata": {},
   "outputs": [
    {
     "data": {
      "text/plain": [
       "Ttest_1sampResult(statistic=1.0004333959253777, pvalue=0.31953983594756175)"
      ]
     },
     "execution_count": 18,
     "metadata": {},
     "output_type": "execute_result"
    }
   ],
   "source": [
    "stats.ttest_1samp(a-b,popmean=0)"
   ]
  },
  {
   "cell_type": "code",
   "execution_count": 19,
   "id": "08732010-9e22-45c0-9f79-e74a035cf76a",
   "metadata": {},
   "outputs": [
    {
     "data": {
      "text/plain": [
       "Ttest_relResult(statistic=1.0004333959253777, pvalue=0.31953983594756175)"
      ]
     },
     "execution_count": 19,
     "metadata": {},
     "output_type": "execute_result"
    }
   ],
   "source": [
    "stats.ttest_rel(a,b)"
   ]
  },
  {
   "cell_type": "markdown",
   "id": "c4fbaac7-9cb6-4df4-8605-ffb88a6d4b76",
   "metadata": {},
   "source": [
    "Assume independent two sample test"
   ]
  },
  {
   "cell_type": "code",
   "execution_count": 19,
   "id": "15d42059-b1d1-4c20-a1a5-fd0dfb48ef9d",
   "metadata": {},
   "outputs": [
    {
     "data": {
      "text/plain": [
       "Ttest_indResult(statistic=0.9995821663324865, pvalue=0.31873277752641305)"
      ]
     },
     "execution_count": 19,
     "metadata": {},
     "output_type": "execute_result"
    }
   ],
   "source": [
    "stats.ttest_ind(a,b)"
   ]
  },
  {
   "cell_type": "code",
   "execution_count": 20,
   "id": "1c1534ce-ab89-4a34-b20a-b951059aab77",
   "metadata": {},
   "outputs": [
    {
     "data": {
      "text/plain": [
       "Ttest_indResult(statistic=0.9995821663324865, pvalue=0.87)"
      ]
     },
     "execution_count": 20,
     "metadata": {},
     "output_type": "execute_result"
    }
   ],
   "source": [
    "stats.ttest_ind(a,b,permutations = 1000)"
   ]
  },
  {
   "cell_type": "markdown",
   "id": "0cc529e6-ebf0-4952-88ee-aa7aa719c711",
   "metadata": {},
   "source": [
    "__T-stats__"
   ]
  },
  {
   "cell_type": "code",
   "execution_count": 13,
   "id": "abe1ceb9-b729-4212-bbd3-b4a5a404442a",
   "metadata": {},
   "outputs": [
    {
     "data": {
      "text/plain": [
       "1.0102845891186012"
      ]
     },
     "execution_count": 13,
     "metadata": {},
     "output_type": "execute_result"
    }
   ],
   "source": [
    "a.mean()/(a.std()/np.sqrt(n))"
   ]
  },
  {
   "cell_type": "markdown",
   "id": "e23985cc-bc12-4da9-8931-be6cd7c5e8cd",
   "metadata": {},
   "source": [
    "### prop test (same P-value as chis-squared test)\n",
    "$ Z^2 = \\chi^2_1$"
   ]
  },
  {
   "cell_type": "markdown",
   "id": "1b3ddb45-ef2c-419f-99b6-6a154cecde10",
   "metadata": {},
   "source": [
    "$H_0: p_1 - p_2$ =0\n",
    "\n",
    "$H_1: Not Equal $"
   ]
  },
  {
   "cell_type": "code",
   "execution_count": 95,
   "id": "09c817f7-931a-4805-b60f-0e84fac4fd42",
   "metadata": {},
   "outputs": [
    {
     "data": {
      "text/plain": [
       "(-1.129464917246783, 0.25870176105718956)"
      ]
     },
     "execution_count": 95,
     "metadata": {},
     "output_type": "execute_result"
    }
   ],
   "source": [
    "from statsmodels.stats.proportion import proportions_ztest\n",
    "count = np.array([14, 20])\n",
    "nobs = np.array([100, 100])\n",
    "stat, pval = proportions_ztest(count, nobs)\n",
    "stat, pval"
   ]
  },
  {
   "cell_type": "code",
   "execution_count": 94,
   "id": "04d5a348-2b3e-4645-becc-d6d74bb224e4",
   "metadata": {},
   "outputs": [
    {
     "data": {
      "text/plain": [
       "(-1.1294649172467832, 0.25870176105718945)"
      ]
     },
     "execution_count": 94,
     "metadata": {},
     "output_type": "execute_result"
    }
   ],
   "source": [
    "from scipy.stats import norm\n",
    "pooled = count.sum()/nobs.sum()\n",
    "stat_by_hand = (0.14 - 0.2) / np.sqrt(2 * pooled * (1-pooled)/nobs[0])\n",
    "stat_by_hand, 2 * norm.cdf(stat_by_hand)"
   ]
  },
  {
   "cell_type": "markdown",
   "id": "3dace4a5-1c1b-4f71-b8dc-1bb1480a18b3",
   "metadata": {},
   "source": [
    "__Chi-squared__"
   ]
  },
  {
   "cell_type": "code",
   "execution_count": 70,
   "id": "2bc105db-48ff-4005-b89f-05d226dad6f3",
   "metadata": {},
   "outputs": [
    {
     "data": {
      "text/plain": [
       "array([[14, 86],\n",
       "       [20, 80]])"
      ]
     },
     "execution_count": 70,
     "metadata": {},
     "output_type": "execute_result"
    }
   ],
   "source": [
    "contingency_table = np.array([14,86,20,80]).reshape(2,2)\n",
    "contingency_table"
   ]
  },
  {
   "cell_type": "code",
   "execution_count": 81,
   "id": "8116e122-bd0c-4f68-be9d-0efd2abe912d",
   "metadata": {},
   "outputs": [
    {
     "data": {
      "text/plain": [
       "array([[17., 83.],\n",
       "       [17., 83.]])"
      ]
     },
     "execution_count": 81,
     "metadata": {},
     "output_type": "execute_result"
    }
   ],
   "source": [
    "exp_table = np.array([100*34/200,100*166/200,100*34/200,100*166/200]).reshape(2,2)\n",
    "exp_table"
   ]
  },
  {
   "cell_type": "code",
   "execution_count": 84,
   "id": "3d56d316-8eba-4e14-8e1d-aca6262b3485",
   "metadata": {},
   "outputs": [],
   "source": [
    "chi_stat = ((contingency_table - exp_table) ** 2 / exp_table).reshape(-1).sum()"
   ]
  },
  {
   "cell_type": "code",
   "execution_count": 92,
   "id": "e1b7e87f-53c4-4d66-9645-e4cc81cb8653",
   "metadata": {},
   "outputs": [
    {
     "data": {
      "text/plain": [
       "0.25870176105718934"
      ]
     },
     "execution_count": 92,
     "metadata": {},
     "output_type": "execute_result"
    }
   ],
   "source": [
    "from scipy.stats import chi2\n",
    "\n",
    "1 - chi2.cdf(chi_stat,df = 1)"
   ]
  },
  {
   "cell_type": "markdown",
   "id": "6e914c5f-d29d-4275-b112-d099b6a395e9",
   "metadata": {
    "tags": []
   },
   "source": [
    "## Permutation test\n",
    "\n",
    "Non-parametric test when the normality of tests do not hold"
   ]
  },
  {
   "cell_type": "code",
   "execution_count": 65,
   "id": "6944eee1-48d9-41ab-9766-ded8fb4f19c0",
   "metadata": {},
   "outputs": [],
   "source": [
    "n = 100\n",
    "treat_effect = 0.3\n",
    "control = 1 + np.random.normal(size = n)\n",
    "treatment = 1 + np.random.normal(size = n) + treat_effect"
   ]
  },
  {
   "cell_type": "code",
   "execution_count": 66,
   "id": "0ecabec1-24ec-4dd1-9a15-74e96f2561dc",
   "metadata": {},
   "outputs": [
    {
     "data": {
      "text/plain": [
       "Ttest_indResult(statistic=-2.817861558598173, pvalue=0.005324791945203552)"
      ]
     },
     "execution_count": 66,
     "metadata": {},
     "output_type": "execute_result"
    }
   ],
   "source": [
    "stats.ttest_ind(control,treatment)"
   ]
  },
  {
   "cell_type": "code",
   "execution_count": 67,
   "id": "d8c6f62d-7ca6-4c70-ba69-350221d15d85",
   "metadata": {},
   "outputs": [
    {
     "data": {
      "text/plain": [
       "Ttest_indResult(statistic=-2.817861558598173, pvalue=0.0041)"
      ]
     },
     "execution_count": 67,
     "metadata": {},
     "output_type": "execute_result"
    }
   ],
   "source": [
    "stats.ttest_ind(control,treatment,permutations = 10000)"
   ]
  },
  {
   "cell_type": "markdown",
   "id": "7f1dddd7-ef2a-4ff3-a83b-68a03a7c3ae8",
   "metadata": {},
   "source": [
    "## Fisher’s Exact Test\n",
    "\n",
    "Test for contingency table when sample size is small (or large), in particular, the P-value can be calculated exactly, rather than relying on an approximation that becomes exact in the limit as the sample size grows to infinity, as with many statistical tests. \n",
    "https://en.wikipedia.org/wiki/Fisher%27s_exact_test"
   ]
  },
  {
   "cell_type": "markdown",
   "id": "cb0895e2-4ef5-4ab1-85c3-a9b36c6777fd",
   "metadata": {},
   "source": [
    "||Men|Women|\n",
    "|--|--|--|\n",
    "|Study|1|9|\n",
    "|Non Study|11|3|"
   ]
  },
  {
   "cell_type": "markdown",
   "id": "c39bbdc2-de1a-4575-93e1-0f2475d37c7e",
   "metadata": {},
   "source": [
    "#### less and greater based on table ordering"
   ]
  },
  {
   "cell_type": "code",
   "execution_count": 23,
   "id": "14e4eda7-b0a0-41c2-9942-20c573abf85f",
   "metadata": {},
   "outputs": [
    {
     "data": {
      "text/plain": [
       "(0.030303030303030304, 0.0013797280926100372)"
      ]
     },
     "execution_count": 23,
     "metadata": {},
     "output_type": "execute_result"
    }
   ],
   "source": [
    "from scipy.stats import fisher_exact\n",
    "fisher_exact(table=[[1,9],[11,3]], alternative=\"less\")"
   ]
  },
  {
   "cell_type": "code",
   "execution_count": 26,
   "id": "7065b549-e752-4184-85f6-76a381fb22bd",
   "metadata": {},
   "outputs": [
    {
     "data": {
      "text/plain": [
       "(33.0, 0.0013797280926100372)"
      ]
     },
     "execution_count": 26,
     "metadata": {},
     "output_type": "execute_result"
    }
   ],
   "source": [
    "fisher_exact(table=[[9,1],[3,11]], alternative=\"greater\")"
   ]
  },
  {
   "cell_type": "markdown",
   "id": "f0608482-802b-4f87-b910-268938c324be",
   "metadata": {},
   "source": [
    "## Bootstrap with parallel"
   ]
  },
  {
   "cell_type": "markdown",
   "id": "e9acab8c-48f9-4bfc-bb65-7c799577a0e2",
   "metadata": {},
   "source": [
    "### non-parametric bootstrap"
   ]
  },
  {
   "cell_type": "code",
   "execution_count": 3,
   "id": "121ccf6b-195a-4af5-ae08-1ff8ec9c1ee6",
   "metadata": {},
   "outputs": [
    {
     "data": {
      "text/plain": [
       "array([ 7.83456167,  8.84695193, 10.07557688])"
      ]
     },
     "execution_count": 3,
     "metadata": {},
     "output_type": "execute_result"
    }
   ],
   "source": [
    "from joblib import Parallel, delayed # for parallel processing\n",
    "import numpy as np\n",
    "x = np.random.normal(size = 100, scale =10)\n",
    "bootstrap_samples = 100\n",
    "def std_sample(x):\n",
    "    x = np.random.choice(x,size = len(x),replace = True)\n",
    "    return(x.std())\n",
    "out = Parallel(n_jobs = 10)(delayed(std_sample)(x) for _ in range(bootstrap_samples))\n",
    "\n",
    "np.quantile(out,[0.025,0.5,0.975])"
   ]
  },
  {
   "cell_type": "code",
   "execution_count": 6,
   "id": "332bcaa4-bc7e-40dd-b335-552006565b18",
   "metadata": {},
   "outputs": [],
   "source": [
    "from joblib import delayed, Parallel\n",
    "import scipy.stats as ss\n",
    "import numpy as np"
   ]
  },
  {
   "cell_type": "code",
   "execution_count": 61,
   "id": "bafab10a-8549-4953-9a03-075e722b0157",
   "metadata": {},
   "outputs": [],
   "source": [
    "np.random.seed(8888)\n",
    "x = ss.cauchy.rvs(size = 100)\n",
    "n_boot_samples = 5000\n",
    "def var_sample(x):\n",
    "    x_boot = np.random.choice(x, size = len(x), replace = True)\n",
    "    return np.median(x_boot)"
   ]
  },
  {
   "cell_type": "code",
   "execution_count": 62,
   "id": "874d38d0-d757-4fe9-ad89-da25c01100bb",
   "metadata": {},
   "outputs": [
    {
     "data": {
      "text/plain": [
       "0.024537052995451843"
      ]
     },
     "execution_count": 62,
     "metadata": {},
     "output_type": "execute_result"
    }
   ],
   "source": [
    "boot_median = Parallel(n_jobs = 10)(delayed(var_sample)(x) for _ in range(n_boot_samples))\n",
    "np.var(boot_median)"
   ]
  },
  {
   "cell_type": "markdown",
   "id": "708f5d68-e885-4905-a88c-055aee12200f",
   "metadata": {},
   "source": [
    "### Check the lecture notes on bootstrap for math detail"
   ]
  },
  {
   "cell_type": "markdown",
   "id": "5410d2d8-28f3-458e-ac0b-e8b4d554254d",
   "metadata": {},
   "source": [
    "### Parametric bootstrap\n",
    "\n",
    "Use sample statistic and assumes a parametric distribution.\n",
    "\n",
    "Example: Use the sample median and assummes true population is a Cauchy, do bootstrap and construct interval"
   ]
  },
  {
   "cell_type": "code",
   "execution_count": 63,
   "id": "870caeab-19a4-4283-b05d-7ff7a6b38812",
   "metadata": {},
   "outputs": [],
   "source": [
    "np.random.seed(8888)\n",
    "x = ss.cauchy.rvs(size = 100)\n",
    "n_boot_samples = 5000\n",
    "sample_median = np.median(x)\n",
    "def var_sample(x0):\n",
    "    x_par = ss.cauchy.rvs(size = 100,loc = x0)\n",
    "    return np.median(x_par)"
   ]
  },
  {
   "cell_type": "code",
   "execution_count": 64,
   "id": "a7555e9e-4dc0-47ff-bc09-d463124e3153",
   "metadata": {},
   "outputs": [
    {
     "data": {
      "text/plain": [
       "0.02447355007653579"
      ]
     },
     "execution_count": 64,
     "metadata": {},
     "output_type": "execute_result"
    }
   ],
   "source": [
    "para_bootstrap = Parallel(n_jobs = 10)(delayed(var_sample)(sample_median) for _ in range(n_boot_samples))\n",
    "np.var(para_bootstrap)"
   ]
  },
  {
   "cell_type": "markdown",
   "id": "808ca01c-b7f9-47ce-b51c-7678962ed7be",
   "metadata": {},
   "source": [
    "### Non parametric Bootstrap percentile vs. T-method"
   ]
  },
  {
   "cell_type": "code",
   "execution_count": 20,
   "id": "1128bd55-5b9b-4201-8c0a-1c73f5d26e53",
   "metadata": {},
   "outputs": [],
   "source": [
    "rng = np.random.RandomState(0)\n",
    "n = 500\n",
    "p = 1\n",
    "x = rng.normal(size=(n,p))\n",
    "beta = [1,5]\n",
    "y = np.dot(np.concatenate((np.repeat(1,n)[:,None],x),axis=1),beta) + rng.normal(size =n)"
   ]
  },
  {
   "cell_type": "code",
   "execution_count": 21,
   "id": "daa06cb0-f97c-4e35-9098-6ff87f1a61ff",
   "metadata": {},
   "outputs": [],
   "source": [
    "import pandas as pd\n",
    "data = pd.DataFrame(np.concatenate((y[:,None],x),axis=1),columns = [\"y\",'x'])\n",
    "              "
   ]
  },
  {
   "cell_type": "markdown",
   "id": "f1794160-768a-452d-b3d8-5833214da10d",
   "metadata": {},
   "source": [
    "#### percentile CI method"
   ]
  },
  {
   "cell_type": "code",
   "execution_count": 22,
   "id": "3beaa6fc-4892-4793-a55e-e2fdce02c97b",
   "metadata": {},
   "outputs": [],
   "source": [
    "## percentile CI method\n",
    "import statsmodels.formula.api as smf\n",
    "n_boot = 1000\n",
    "def get_ratio_boot(data):\n",
    "    coef = smf.ols(\"y~x\",data = data).fit().params\n",
    "    return coef[1]/coef[0]\n",
    "\n",
    "out = Parallel(n_jobs = 10)(delayed(get_ratio_boot)(data.sample(frac = 1, replace = True)) for _ in range(n_boot))"
   ]
  },
  {
   "cell_type": "code",
   "execution_count": 23,
   "id": "8b544e7a-5523-4871-9419-cc8103ccc9ce",
   "metadata": {},
   "outputs": [
    {
     "data": {
      "text/plain": [
       "array([4.85929696, 5.82460528])"
      ]
     },
     "execution_count": 23,
     "metadata": {},
     "output_type": "execute_result"
    }
   ],
   "source": [
    "np.quantile(out,[0.025,0.975])"
   ]
  },
  {
   "cell_type": "markdown",
   "id": "fb9aa9f8-42dd-4a75-a01f-f518a0a0c716",
   "metadata": {},
   "source": [
    "#### T method"
   ]
  },
  {
   "cell_type": "code",
   "execution_count": 24,
   "id": "1fc1cf10-2629-48c3-802d-a486819ad8fc",
   "metadata": {
    "tags": []
   },
   "outputs": [],
   "source": [
    "import statsmodels.formula.api as smf\n",
    "n_boot = 1000\n",
    "model = smf.ols(\"y~x\",data = data).fit()\n",
    "model_coef = model.params\n",
    "coef_cov = model.cov_params()\n",
    "theta_hat = model_coef[1] / model_coef[0]\n",
    "sigma2_delta = theta_hat**2 * (coef_cov.iloc[1,1]/(model_coef[1]**2)  + coef_cov.iloc[0,0]/(model_coef[0]**2) - 2 * (coef_cov.iloc[1,0])/ (model_coef[0] * model_coef[1]))\n",
    "\n",
    "def get_ratio_boot(data,theta_hat):\n",
    "    model = smf.ols(\"y~x\",data = data).fit()\n",
    "    coef = model.params\n",
    "    coef_cov = model.cov_params()\n",
    "    theta_hat_boot =  coef[1]/coef[0]\n",
    "    sigma2_delta = theta_hat_boot**2 * (coef_cov.iloc[1,1]/(coef[1]**2)  + coef_cov.iloc[0,0]/(coef[0]**2) - 2 * (coef_cov.iloc[1,0])/ (coef[0] * coef[1]))\n",
    "    return ((theta_hat_boot-theta_hat) / np.sqrt(sigma2_delta))\n",
    "\n",
    "out = Parallel(n_jobs = 10)(delayed(get_ratio_boot)(data.sample(frac = 1, replace = True), theta_hat) for _ in range(n_boot))"
   ]
  },
  {
   "cell_type": "code",
   "execution_count": 26,
   "id": "3e2e4e4f-0406-46da-aa84-c3c73fa77f2a",
   "metadata": {},
   "outputs": [
    {
     "data": {
      "text/plain": [
       "array([4.76660753, 5.76852671])"
      ]
     },
     "execution_count": 26,
     "metadata": {},
     "output_type": "execute_result"
    }
   ],
   "source": [
    "t_quant = np.quantile(out,[0.025,0.975])\n",
    "theta_hat + t_quant * np.sqrt(sigma2_delta)"
   ]
  },
  {
   "cell_type": "markdown",
   "id": "3c07c8de-921b-4a7d-9cf0-7c5a11927aae",
   "metadata": {},
   "source": [
    "## Given U(0,1), sample discrete distribution (a,b)"
   ]
  },
  {
   "cell_type": "code",
   "execution_count": 130,
   "id": "5c964ce5-4ea1-4e48-80a0-b16b6e7322e5",
   "metadata": {},
   "outputs": [
    {
     "data": {
      "text/plain": [
       "<AxesSubplot:ylabel='Count'>"
      ]
     },
     "execution_count": 130,
     "metadata": {},
     "output_type": "execute_result"
    },
    {
     "data": {
      "image/png": "[encoded data removed]",
      "text/plain": [
       "<Figure size 432x288 with 1 Axes>"
      ]
     },
     "metadata": {
      "needs_background": "light"
     },
     "output_type": "display_data"
    }
   ],
   "source": [
    "import numpy as np\n",
    "import seaborn as sns\n",
    "import matplotlib.pyplot as plt\n",
    "def map_u_to_discrete(a,b,n=1000):\n",
    "    x = np.random.uniform(size = n)\n",
    "    y = np.linspace(a,b,b-a+1)\n",
    "    buckets = np.linspace(0,1,b-a+2)[1:] ## same as below question\n",
    "    return [y[np.where(x_i<=buckets)[0][0]] for x_i in x]\n",
    "out = map_u_to_discrete(-3,3)\n",
    "sns.histplot(out,bins=20)"
   ]
  },
  {
   "cell_type": "markdown",
   "id": "7bdfc455-a23c-4b51-a47c-5c7e95b7de5b",
   "metadata": {},
   "source": [
    "## Given U(0,1) generate binomial(n = 4, p =5/8)"
   ]
  },
  {
   "cell_type": "code",
   "execution_count": 11,
   "id": "fc8c0c71-830d-471b-9827-bc939ff6c0bb",
   "metadata": {},
   "outputs": [
    {
     "data": {
      "image/png": "[encoded data removed]",
      "text/plain": [
       "<Figure size 432x288 with 1 Axes>"
      ]
     },
     "metadata": {
      "needs_background": "light"
     },
     "output_type": "display_data"
    }
   ],
   "source": [
    "from scipy.stats import binom\n",
    "\n",
    "p = binom.cdf(k= np.linspace(0,4,5),n=4,p=5/8)\n",
    "x = np.random.uniform(size = 10000)\n",
    "y_samples = [np.where(x_i <= p)[0][0] for x_i in x]\n",
    "sns.histplot(y_samples,bins=20, stat = 'probability');"
   ]
  },
  {
   "cell_type": "code",
   "execution_count": 10,
   "id": "2095f8b3-31a1-4435-a2dc-bfea5a8bc3c8",
   "metadata": {},
   "outputs": [
    {
     "data": {
      "text/plain": [
       "array([0.01977539, 0.13183594, 0.32958984, 0.36621094, 0.15258789])"
      ]
     },
     "execution_count": 10,
     "metadata": {},
     "output_type": "execute_result"
    }
   ],
   "source": [
    "binom.pmf(k= np.linspace(0,4,5),n=4,p=5/8)"
   ]
  },
  {
   "cell_type": "code",
   "execution_count": 124,
   "id": "30b59392-18ea-4188-8fce-712ae6cd3387",
   "metadata": {},
   "outputs": [
    {
     "data": {
      "text/plain": [
       "array([0.01977539, 0.15161133, 0.48120117, 0.84741211, 1.        ])"
      ]
     },
     "execution_count": 124,
     "metadata": {},
     "output_type": "execute_result"
    }
   ],
   "source": [
    "p"
   ]
  },
  {
   "cell_type": "markdown",
   "id": "43130048-6613-4986-9f02-67da8ecdb239",
   "metadata": {},
   "source": [
    "## OLS R style formula trick "
   ]
  },
  {
   "cell_type": "code",
   "execution_count": 20,
   "id": "e265f276-3ef3-4716-b240-c3b029c60787",
   "metadata": {},
   "outputs": [
    {
     "name": "stdout",
     "output_type": "stream",
     "text": [
      "y~x1+x2+x3\n"
     ]
    }
   ],
   "source": [
    "import statsmodels.formula.api as smf\n",
    "feature_name = ['x1','x2','x3']\n",
    "formula = \"y~\"+\"+\".join(feature_name)\n",
    "print(formula)\n",
    "#model = smf.ols(formula,data = data).fit()"
   ]
  },
  {
   "cell_type": "markdown",
   "id": "340345b9-3c2c-4896-95d0-38e71ab71206",
   "metadata": {},
   "source": [
    "## Sequential probability ratio test \n",
    "https://en.wikipedia.org/wiki/Sequential_probability_ratio_test\n",
    "https://towardsdatascience.com/experiments-peeking-and-optimal-stopping-954506cec665\n",
    "\n",
    "$H_0 = \\theta_0$\n",
    "\n",
    "$H_1 = \\theta_1$ \n",
    "\n",
    "where $\\theta_1 > \\theta_0$\n",
    "\n",
    "Likelihood ratio is taken by $ \\frac{L(\\theta_1)}{L(\\theta_0)}$"
   ]
  },
  {
   "cell_type": "code",
   "execution_count": 1,
   "id": "58b93760-68e6-4cae-acea-efe379408b26",
   "metadata": {},
   "outputs": [],
   "source": [
    "import numpy as np\n",
    "import pandas as pd\n",
    "import seaborn as sns\n",
    "from scipy.stats import norm\n",
    "from scipy.stats import expon\n",
    "import matplotlib.pyplot as plt"
   ]
  },
  {
   "cell_type": "code",
   "execution_count": 4,
   "id": "95a50c61-9aec-44b8-9a6f-de2d6c8e5a23",
   "metadata": {},
   "outputs": [],
   "source": [
    "def SLRT(alpha = 0.05, beta = 0.2, true_diff = 0.1, theta_alt = 0.1, total_n = 1000, n_stream = 1):\n",
    "    a = np.log( beta / (1-alpha) )\n",
    "    b = np.log( (1-beta) / alpha )\n",
    "    Y = np.array([])\n",
    "    LR = np.repeat(0.0,int(total_n/n_stream))\n",
    "    decision = np.nan\n",
    "    for idx, i in enumerate(range(0,total_n,n_stream)):\n",
    "        y_new = norm.rvs(loc=true_diff,scale=1,size=n_stream)\n",
    "        Y = np.concatenate((Y,y_new))\n",
    "        LR[idx] = norm.logpdf(y_new,loc=theta_alt,scale=1).sum() - norm.logpdf(y_new,loc=0,scale=1).sum()\n",
    "        if sum(LR) < a:\n",
    "            decision = 0\n",
    "            break\n",
    "        elif sum(LR) > b:\n",
    "            decision = 1\n",
    "            break \n",
    "    plt.plot(np.cumsum(LR))\n",
    "    plt.axhline(y=a, color='r', linestyle='-')\n",
    "    plt.axhline(y=b, color='r', linestyle='-')\n",
    "    return idx+1, decision"
   ]
  },
  {
   "cell_type": "code",
   "execution_count": 5,
   "id": "0b49a905-0aaf-4ce8-9153-4f3621dde1c9",
   "metadata": {},
   "outputs": [
    {
     "data": {
      "image/png": "[encoded data removed]",
      "text/plain": [
       "<Figure size 432x288 with 1 Axes>"
      ]
     },
     "metadata": {
      "needs_background": "light"
     },
     "output_type": "display_data"
    }
   ],
   "source": [
    "n_total = np.array([])\n",
    "decision = np.array([])\n",
    "for i in range(10):\n",
    "    n, d = SLRT()\n",
    "    n_total = np.append(n_total,n)\n",
    "    decision =  np.append(decision, d)"
   ]
  },
  {
   "cell_type": "code",
   "execution_count": 127,
   "id": "f26bfaff-3e68-40a9-9600-b1dbc75f0082",
   "metadata": {},
   "outputs": [
    {
     "data": {
      "text/plain": [
       "0.7708333333333334"
      ]
     },
     "execution_count": 127,
     "metadata": {},
     "output_type": "execute_result"
    }
   ],
   "source": [
    "np.nanmean(decision) ## power"
   ]
  },
  {
   "cell_type": "code",
   "execution_count": 128,
   "id": "ce7cd885-ad84-4f98-b9cd-2007df143bac",
   "metadata": {},
   "outputs": [
    {
     "data": {
      "text/plain": [
       "391.25"
      ]
     },
     "execution_count": 128,
     "metadata": {},
     "output_type": "execute_result"
    }
   ],
   "source": [
    "np.mean(n_total)"
   ]
  },
  {
   "cell_type": "markdown",
   "id": "ac4e978d-2856-4148-a72e-e69c7581e72f",
   "metadata": {},
   "source": [
    "## Sample with weights"
   ]
  },
  {
   "cell_type": "code",
   "execution_count": 129,
   "id": "ccb49448-f001-4756-bcc5-612653ee491b",
   "metadata": {},
   "outputs": [],
   "source": [
    "import numpy as np"
   ]
  },
  {
   "cell_type": "code",
   "execution_count": 152,
   "id": "a68365b6-eae8-4f32-a2f0-3a700e7f029f",
   "metadata": {},
   "outputs": [],
   "source": [
    "rng = np.random.RandomState(0)\n",
    "weight = np.array([1,2,3,4,5])\n",
    "samples = rng.choice(5,p=weight/sum(weight),size=1000) ## In R, you don't have to normalize"
   ]
  },
  {
   "cell_type": "code",
   "execution_count": 153,
   "id": "0d894e6a-4e42-41d2-a7e1-549339ecd490",
   "metadata": {},
   "outputs": [],
   "source": [
    "import collections\n",
    "summary = collections.Counter(samples)"
   ]
  },
  {
   "cell_type": "code",
   "execution_count": 156,
   "id": "1c9ca5cf-0275-4ab7-a13a-424df507edd8",
   "metadata": {},
   "outputs": [
    {
     "data": {
      "text/plain": [
       "{0: 66, 1: 134, 2: 215, 3: 254, 4: 331}"
      ]
     },
     "execution_count": 156,
     "metadata": {},
     "output_type": "execute_result"
    }
   ],
   "source": [
    "dict(sorted(summary.items(), key = lambda x: x[0]))"
   ]
  },
  {
   "cell_type": "code",
   "execution_count": null,
   "id": "693d0415-7c6f-4aa1-bf87-8ea093fe7f1b",
   "metadata": {},
   "outputs": [],
   "source": []
  }
 ],
 "metadata": {
  "kernelspec": {
   "display_name": "Python 3 (ipykernel)",
   "language": "python",
   "name": "python3"
  },
  "language_info": {
   "codemirror_mode": {
    "name": "ipython",
    "version": 3
   },
   "file_extension": ".py",
   "mimetype": "text/x-python",
   "name": "python",
   "nbconvert_exporter": "python",
   "pygments_lexer": "ipython3",
   "version": "3.9.7"
  }
 },
 "nbformat": 4,
 "nbformat_minor": 5
}
