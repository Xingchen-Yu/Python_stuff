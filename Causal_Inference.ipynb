{
 "cells": [
  {
   "cell_type": "markdown",
   "id": "47527f7b-6072-49a9-a6e4-5cacb49a2acd",
   "metadata": {},
   "source": [
    "https://matheusfacure.github.io/python-causality-handbook/10-Matching.html"
   ]
  },
  {
   "cell_type": "code",
   "execution_count": 2,
   "id": "9b3e578d-0347-4f6f-ac5e-7c7853628f2d",
   "metadata": {},
   "outputs": [],
   "source": [
    "data_path = '../../Python_Scripts/python-causality-handbook/causal-inference-for-the-brave-and-true/'"
   ]
  },
  {
   "cell_type": "code",
   "execution_count": 16,
   "id": "a4f51639-8632-4519-b845-71e76fb0a780",
   "metadata": {},
   "outputs": [],
   "source": [
    "import pandas as pd\n",
    "import numpy as np\n",
    "from matplotlib import pyplot as plt\n",
    "import seaborn as sns"
   ]
  },
  {
   "cell_type": "markdown",
   "id": "1f4a7651-1f65-45c5-b0c2-564b8146f6d9",
   "metadata": {},
   "source": [
    "## Matching example"
   ]
  },
  {
   "cell_type": "code",
   "execution_count": 104,
   "id": "589a3e5c-ad09-42f6-94ff-8b177884b920",
   "metadata": {},
   "outputs": [
    {
     "data": {
      "text/html": [
       "<div>\n",
       "<style scoped>\n",
       "    .dataframe tbody tr th:only-of-type {\n",
       "        vertical-align: middle;\n",
       "    }\n",
       "\n",
       "    .dataframe tbody tr th {\n",
       "        vertical-align: top;\n",
       "    }\n",
       "\n",
       "    .dataframe thead th {\n",
       "        text-align: right;\n",
       "    }\n",
       "</style>\n",
       "<table border=\"1\" class=\"dataframe\">\n",
       "  <thead>\n",
       "    <tr style=\"text-align: right;\">\n",
       "      <th></th>\n",
       "      <th>sex</th>\n",
       "      <th>age</th>\n",
       "      <th>severity</th>\n",
       "      <th>medication</th>\n",
       "      <th>recovery</th>\n",
       "    </tr>\n",
       "  </thead>\n",
       "  <tbody>\n",
       "    <tr>\n",
       "      <th>0</th>\n",
       "      <td>0</td>\n",
       "      <td>35.049134</td>\n",
       "      <td>0.887658</td>\n",
       "      <td>1</td>\n",
       "      <td>31</td>\n",
       "    </tr>\n",
       "    <tr>\n",
       "      <th>1</th>\n",
       "      <td>1</td>\n",
       "      <td>41.580323</td>\n",
       "      <td>0.899784</td>\n",
       "      <td>1</td>\n",
       "      <td>49</td>\n",
       "    </tr>\n",
       "    <tr>\n",
       "      <th>2</th>\n",
       "      <td>1</td>\n",
       "      <td>28.127491</td>\n",
       "      <td>0.486349</td>\n",
       "      <td>0</td>\n",
       "      <td>38</td>\n",
       "    </tr>\n",
       "    <tr>\n",
       "      <th>3</th>\n",
       "      <td>1</td>\n",
       "      <td>36.375033</td>\n",
       "      <td>0.323091</td>\n",
       "      <td>0</td>\n",
       "      <td>35</td>\n",
       "    </tr>\n",
       "    <tr>\n",
       "      <th>4</th>\n",
       "      <td>0</td>\n",
       "      <td>25.091717</td>\n",
       "      <td>0.209006</td>\n",
       "      <td>0</td>\n",
       "      <td>15</td>\n",
       "    </tr>\n",
       "  </tbody>\n",
       "</table>\n",
       "</div>"
      ],
      "text/plain": [
       "   sex        age  severity  medication  recovery\n",
       "0    0  35.049134  0.887658           1        31\n",
       "1    1  41.580323  0.899784           1        49\n",
       "2    1  28.127491  0.486349           0        38\n",
       "3    1  36.375033  0.323091           0        35\n",
       "4    0  25.091717  0.209006           0        15"
      ]
     },
     "execution_count": 104,
     "metadata": {},
     "output_type": "execute_result"
    }
   ],
   "source": [
    "med = pd.read_csv(data_path + \"./data/medicine_impact_recovery.csv\")\n",
    "med_ori = med.copy()\n",
    "med.head()"
   ]
  },
  {
   "cell_type": "code",
   "execution_count": 105,
   "id": "5c12f5d5-91b9-42eb-91d1-9d4575be01c6",
   "metadata": {},
   "outputs": [
    {
     "data": {
      "text/html": [
       "<div>\n",
       "<style scoped>\n",
       "    .dataframe tbody tr th:only-of-type {\n",
       "        vertical-align: middle;\n",
       "    }\n",
       "\n",
       "    .dataframe tbody tr th {\n",
       "        vertical-align: top;\n",
       "    }\n",
       "\n",
       "    .dataframe thead th {\n",
       "        text-align: right;\n",
       "    }\n",
       "</style>\n",
       "<table border=\"1\" class=\"dataframe\">\n",
       "  <thead>\n",
       "    <tr style=\"text-align: right;\">\n",
       "      <th></th>\n",
       "      <th>sex</th>\n",
       "      <th>age</th>\n",
       "      <th>severity</th>\n",
       "      <th>medication</th>\n",
       "      <th>recovery</th>\n",
       "    </tr>\n",
       "  </thead>\n",
       "  <tbody>\n",
       "    <tr>\n",
       "      <th>0</th>\n",
       "      <td>-0.996980</td>\n",
       "      <td>0.280787</td>\n",
       "      <td>1.459800</td>\n",
       "      <td>1</td>\n",
       "      <td>31</td>\n",
       "    </tr>\n",
       "    <tr>\n",
       "      <th>1</th>\n",
       "      <td>1.002979</td>\n",
       "      <td>0.865375</td>\n",
       "      <td>1.502164</td>\n",
       "      <td>1</td>\n",
       "      <td>49</td>\n",
       "    </tr>\n",
       "    <tr>\n",
       "      <th>2</th>\n",
       "      <td>1.002979</td>\n",
       "      <td>-0.338749</td>\n",
       "      <td>0.057796</td>\n",
       "      <td>0</td>\n",
       "      <td>38</td>\n",
       "    </tr>\n",
       "    <tr>\n",
       "      <th>3</th>\n",
       "      <td>1.002979</td>\n",
       "      <td>0.399465</td>\n",
       "      <td>-0.512557</td>\n",
       "      <td>0</td>\n",
       "      <td>35</td>\n",
       "    </tr>\n",
       "    <tr>\n",
       "      <th>4</th>\n",
       "      <td>-0.996980</td>\n",
       "      <td>-0.610473</td>\n",
       "      <td>-0.911125</td>\n",
       "      <td>0</td>\n",
       "      <td>15</td>\n",
       "    </tr>\n",
       "  </tbody>\n",
       "</table>\n",
       "</div>"
      ],
      "text/plain": [
       "        sex       age  severity  medication  recovery\n",
       "0 -0.996980  0.280787  1.459800           1        31\n",
       "1  1.002979  0.865375  1.502164           1        49\n",
       "2  1.002979 -0.338749  0.057796           0        38\n",
       "3  1.002979  0.399465 -0.512557           0        35\n",
       "4 -0.996980 -0.610473 -0.911125           0        15"
      ]
     },
     "execution_count": 105,
     "metadata": {},
     "output_type": "execute_result"
    }
   ],
   "source": [
    "# scale features\n",
    "X = [\"severity\", \"age\", \"sex\"]\n",
    "y = \"recovery\"\n",
    "\n",
    "med = med.assign(**{f: (med[f] - med[f].mean())/med[f].std() for f in X})\n",
    "med.head()"
   ]
  },
  {
   "cell_type": "markdown",
   "id": "91a14488-6f1e-46b9-900b-46a3ccad3bcc",
   "metadata": {},
   "source": [
    "use the K-Nearest neighbor regression with `k=1` as a trick match each treatment with a control and a control with a treatment"
   ]
  },
  {
   "cell_type": "code",
   "execution_count": 106,
   "id": "7d14c569-b517-441f-b342-7b6db680613a",
   "metadata": {},
   "outputs": [
    {
     "data": {
      "text/html": [
       "<div>\n",
       "<style scoped>\n",
       "    .dataframe tbody tr th:only-of-type {\n",
       "        vertical-align: middle;\n",
       "    }\n",
       "\n",
       "    .dataframe tbody tr th {\n",
       "        vertical-align: top;\n",
       "    }\n",
       "\n",
       "    .dataframe thead th {\n",
       "        text-align: right;\n",
       "    }\n",
       "</style>\n",
       "<table border=\"1\" class=\"dataframe\">\n",
       "  <thead>\n",
       "    <tr style=\"text-align: right;\">\n",
       "      <th></th>\n",
       "      <th>sex</th>\n",
       "      <th>age</th>\n",
       "      <th>severity</th>\n",
       "      <th>medication</th>\n",
       "      <th>recovery</th>\n",
       "      <th>match</th>\n",
       "    </tr>\n",
       "  </thead>\n",
       "  <tbody>\n",
       "    <tr>\n",
       "      <th>0</th>\n",
       "      <td>-0.996980</td>\n",
       "      <td>0.280787</td>\n",
       "      <td>1.459800</td>\n",
       "      <td>1</td>\n",
       "      <td>31</td>\n",
       "      <td>39.0</td>\n",
       "    </tr>\n",
       "    <tr>\n",
       "      <th>1</th>\n",
       "      <td>1.002979</td>\n",
       "      <td>0.865375</td>\n",
       "      <td>1.502164</td>\n",
       "      <td>1</td>\n",
       "      <td>49</td>\n",
       "      <td>52.0</td>\n",
       "    </tr>\n",
       "    <tr>\n",
       "      <th>7</th>\n",
       "      <td>-0.996980</td>\n",
       "      <td>1.495134</td>\n",
       "      <td>1.268540</td>\n",
       "      <td>1</td>\n",
       "      <td>38</td>\n",
       "      <td>46.0</td>\n",
       "    </tr>\n",
       "    <tr>\n",
       "      <th>10</th>\n",
       "      <td>1.002979</td>\n",
       "      <td>-0.106534</td>\n",
       "      <td>0.545911</td>\n",
       "      <td>1</td>\n",
       "      <td>34</td>\n",
       "      <td>45.0</td>\n",
       "    </tr>\n",
       "    <tr>\n",
       "      <th>16</th>\n",
       "      <td>-0.996980</td>\n",
       "      <td>0.043034</td>\n",
       "      <td>1.428732</td>\n",
       "      <td>1</td>\n",
       "      <td>30</td>\n",
       "      <td>39.0</td>\n",
       "    </tr>\n",
       "  </tbody>\n",
       "</table>\n",
       "</div>"
      ],
      "text/plain": [
       "         sex       age  severity  medication  recovery  match\n",
       "0  -0.996980  0.280787  1.459800           1        31   39.0\n",
       "1   1.002979  0.865375  1.502164           1        49   52.0\n",
       "7  -0.996980  1.495134  1.268540           1        38   46.0\n",
       "10  1.002979 -0.106534  0.545911           1        34   45.0\n",
       "16 -0.996980  0.043034  1.428732           1        30   39.0"
      ]
     },
     "execution_count": 106,
     "metadata": {},
     "output_type": "execute_result"
    }
   ],
   "source": [
    "from sklearn.neighbors import KNeighborsRegressor\n",
    "\n",
    "treated = med.query(\"medication==1\")\n",
    "untreated = med.query(\"medication==0\")\n",
    "\n",
    "mt0 = KNeighborsRegressor(n_neighbors=1).fit(untreated[X], untreated[y])\n",
    "mt1 = KNeighborsRegressor(n_neighbors=1).fit(treated[X], treated[y])\n",
    "\n",
    "predicted = pd.concat([\n",
    "    # find matches for the treated looking at the untreated knn model\n",
    "    treated.assign(match=mt0.predict(treated[X])),\n",
    "    \n",
    "    # find matches for the untreated looking at the treated knn model\n",
    "    untreated.assign(match=mt1.predict(untreated[X]))\n",
    "])\n",
    "\n",
    "predicted.head()"
   ]
  },
  {
   "cell_type": "markdown",
   "id": "6977da62-c3a6-4f8c-8ac8-b476b4f13d79",
   "metadata": {},
   "source": [
    "Estimator: \n",
    "$\n",
    "\\hat{ATE} = \\frac{1}{N} \\sum^N_{i=0} (2T_i - 1)\\big(Y_i - Y_{jm}(i)\\big)\n",
    "$ where $(2T_i - 1)$ is for adjusting the sign (Treatment - control). __This estimator is baised__"
   ]
  },
  {
   "cell_type": "markdown",
   "id": "d61f82b0-bc23-4127-a406-30e6ebe02fef",
   "metadata": {},
   "source": [
    "After controlling for confounder, medication reduces hospital stay by 1 day. However, __this estimator is baised__"
   ]
  },
  {
   "cell_type": "code",
   "execution_count": 107,
   "id": "472ab60f-d98f-4f54-80a1-1187c374a365",
   "metadata": {},
   "outputs": [
    {
     "data": {
      "text/plain": [
       "-0.9954"
      ]
     },
     "execution_count": 107,
     "metadata": {},
     "output_type": "execute_result"
    }
   ],
   "source": [
    "np.mean((2*predicted[\"medication\"] - 1)*(predicted[\"recovery\"] - predicted[\"match\"]))"
   ]
  },
  {
   "cell_type": "markdown",
   "id": "4fcb264d-3438-406b-9090-fd58503c559a",
   "metadata": {},
   "source": [
    "Recall that if we don't control for confounding variables, medications somehow prolong recovery by 17 days. Draper 007\n",
    "had a similar example of smoking and mortality if age is not blocked."
   ]
  },
  {
   "cell_type": "code",
   "execution_count": 108,
   "id": "addd5649-6b39-4222-8fc9-8e3312b94fd8",
   "metadata": {},
   "outputs": [
    {
     "data": {
      "text/plain": [
       "16.895799546498726"
      ]
     },
     "execution_count": 108,
     "metadata": {},
     "output_type": "execute_result"
    }
   ],
   "source": [
    "np.mean(predicted.query('medication == 1')['recovery']) - np.mean(predicted.query('medication == 0')['recovery'])"
   ]
  },
  {
   "cell_type": "code",
   "execution_count": 109,
   "id": "c739c848-2f80-4540-b9a9-dbe2711efdd4",
   "metadata": {},
   "outputs": [
    {
     "data": {
      "text/html": [
       "<table class=\"simpletable\">\n",
       "<tr>\n",
       "       <td></td>         <th>coef</th>     <th>std err</th>      <th>t</th>      <th>P>|t|</th>  <th>[0.025</th>    <th>0.975]</th>  \n",
       "</tr>\n",
       "<tr>\n",
       "  <th>Intercept</th>  <td>   21.6761</td> <td>    0.121</td> <td>  178.865</td> <td> 0.000</td> <td>   21.439</td> <td>   21.914</td>\n",
       "</tr>\n",
       "<tr>\n",
       "  <th>medication</th> <td>   16.8958</td> <td>    0.206</td> <td>   82.033</td> <td> 0.000</td> <td>   16.492</td> <td>   17.300</td>\n",
       "</tr>\n",
       "</table>"
      ],
      "text/plain": [
       "<class 'statsmodels.iolib.table.SimpleTable'>"
      ]
     },
     "execution_count": 109,
     "metadata": {},
     "output_type": "execute_result"
    }
   ],
   "source": [
    "import statsmodels.formula.api as smf\n",
    "smf.ols(\"recovery ~ medication\", data=predicted).fit().summary().tables[1]"
   ]
  },
  {
   "cell_type": "code",
   "execution_count": 110,
   "id": "e63a56b5-2205-47b2-a433-873e69c819c4",
   "metadata": {},
   "outputs": [
    {
     "data": {
      "text/html": [
       "<table class=\"simpletable\">\n",
       "<tr>\n",
       "       <td></td>         <th>coef</th>     <th>std err</th>      <th>t</th>      <th>P>|t|</th>  <th>[0.025</th>    <th>0.975]</th>  \n",
       "</tr>\n",
       "<tr>\n",
       "  <th>Intercept</th>  <td>   -0.3651</td> <td>    0.008</td> <td>  -48.267</td> <td> 0.000</td> <td>   -0.380</td> <td>   -0.350</td>\n",
       "</tr>\n",
       "<tr>\n",
       "  <th>medication</th> <td>    1.0547</td> <td>    0.013</td> <td>   82.033</td> <td> 0.000</td> <td>    1.029</td> <td>    1.080</td>\n",
       "</tr>\n",
       "</table>"
      ],
      "text/plain": [
       "<class 'statsmodels.iolib.table.SimpleTable'>"
      ]
     },
     "execution_count": 110,
     "metadata": {},
     "output_type": "execute_result"
    }
   ],
   "source": [
    "import statsmodels.formula.api as smf\n",
    "predicted = predicted.assign(recovery_std = lambda x: (x['recovery'] - x['recovery'].mean())/x['recovery'].std())\n",
    "smf.ols(\"recovery_std ~ medication\", data=predicted).fit().summary().tables[1]"
   ]
  },
  {
   "cell_type": "code",
   "execution_count": 111,
   "id": "a61bfc46-9634-49c3-ae26-32f77eb404a7",
   "metadata": {},
   "outputs": [
    {
     "data": {
      "text/plain": [
       "1.0546584823348348"
      ]
     },
     "execution_count": 111,
     "metadata": {},
     "output_type": "execute_result"
    }
   ],
   "source": [
    "np.mean(predicted.query('medication == 1')['recovery_std']) - np.mean(predicted.query('medication == 0')['recovery_std'])"
   ]
  },
  {
   "cell_type": "code",
   "execution_count": 112,
   "id": "2c28dbec-23ad-419b-b67e-f508e0e13101",
   "metadata": {},
   "outputs": [
    {
     "data": {
      "text/plain": [
       "medication\n",
       "0    13076\n",
       "1     6924\n",
       "dtype: int64"
      ]
     },
     "execution_count": 112,
     "metadata": {},
     "output_type": "execute_result"
    }
   ],
   "source": [
    "predicted.groupby('medication').size()"
   ]
  },
  {
   "cell_type": "markdown",
   "id": "da7bccfb-a14a-4980-9151-0390d49e880d",
   "metadata": {
    "tags": []
   },
   "source": [
    "### (Selection) Bias correction\n",
    "__The above estimator $\\hat{ATE}$:  \\\n",
    "Outcome for treated - Outcome for untreated = [Outcome for treated - Outcome for treated if not treated] + [Outcome for treated if not treated - Outcome for untreated]\n",
    " = Treatment Effect + Selection Bias__\n",
    " \n",
    " Therefore we need to substract the __Selection Bias__"
   ]
  },
  {
   "cell_type": "markdown",
   "id": "b0f7bd76-86b2-4072-9205-ef663d34a408",
   "metadata": {},
   "source": [
    "Bias: $\n",
    "E[\\sqrt{N_1}(\\hat{ATET} - ATET)] = E[\\sqrt{N_1}(\\mu_0(X_i) - \\mu_0(X_j(i)))] \n",
    "$ = __E[counterfactual(treated if untreated) - matched_factual (untreated)]__\n",
    "\n",
    "Now, $\\mu_0(X_i) - \\mu_0(X_j(i))$ is not so simple to understand, so let's look at it more carefully. $\\mu_0(X_i)$ is the outcome Y value of a treated unit $i$ had it not been treated. So, it is the counterfactual outcome $Y_0$ for unit i. $\\mu_0(X_j(i))$ is the outcome of the untreated unit $j$ that is the match of unit $i$. So, it is also the $Y_0$ , but for unit $j$ now. Only this time, it is a factual outcome, because $j$ is in the non treated group. Now, because $j$ and $i$ are only similar, but not the same, this will likely not be zero. In other words, $X_i \\approx X_j $. So, $Y_{0i} \\approx Y_{0j} $. \n",
    "\n",
    "As we increase the sample size, there will be more units to match, so the difference between unit $i$ and its match $j$ will also get smaller. But this difference converges to zero slowly. As a result $E[\\sqrt{N_1}(\\mu_0(X_i) - \\mu_0(X_j(i)))]$ may not converge to zero, because the $\\sqrt{N_1}$ grows faster than $(\\mu_0(X_i) - \\mu_0(X_j(i)))$ diminishes.\n",
    "\n",
    "Bias arises when the matching discrepancies are huge. Fortunately, we know how to correct it. Each observation contributes $(\\mu_0(X_i) - \\mu_0(X_j(i)))$ to the bias so all we need to do is subtract this quantity from each matching comparison in our estimator. To do so, we can replace $\\mu_0(X_j(i))$ with some sort of estimate of this quantity $\\hat{\\mu_0}(X_j(i))$, which can be obtained with models like linear regression. This updates the ATET estimator to the following equation\n",
    "\n",
    "$\n",
    "\\hat{ATET} = \\frac{1}{N_1}\\sum \\big((Y_i - Y_{j(i)}) - (\\hat{\\mu_0}(X_i) - \\hat{\\mu_0}(X_{j(i)}))\\big)\n",
    "$\n",
    "\n",
    "where $\\hat{\\mu_0}(x)$ is some estimative of $E[Y|X, T=0]$, like a linear regression fitted only on the untreated sample."
   ]
  },
  {
   "cell_type": "code",
   "execution_count": 115,
   "id": "7bc81517-e5ce-4b09-8b06-8aae586230b1",
   "metadata": {},
   "outputs": [
    {
     "data": {
      "text/html": [
       "<div>\n",
       "<style scoped>\n",
       "    .dataframe tbody tr th:only-of-type {\n",
       "        vertical-align: middle;\n",
       "    }\n",
       "\n",
       "    .dataframe tbody tr th {\n",
       "        vertical-align: top;\n",
       "    }\n",
       "\n",
       "    .dataframe thead th {\n",
       "        text-align: right;\n",
       "    }\n",
       "</style>\n",
       "<table border=\"1\" class=\"dataframe\">\n",
       "  <thead>\n",
       "    <tr style=\"text-align: right;\">\n",
       "      <th></th>\n",
       "      <th>sex</th>\n",
       "      <th>age</th>\n",
       "      <th>severity</th>\n",
       "      <th>medication</th>\n",
       "      <th>recovery</th>\n",
       "      <th>match</th>\n",
       "      <th>bias_correct</th>\n",
       "    </tr>\n",
       "  </thead>\n",
       "  <tbody>\n",
       "    <tr>\n",
       "      <th>0</th>\n",
       "      <td>-0.996980</td>\n",
       "      <td>0.280787</td>\n",
       "      <td>1.459800</td>\n",
       "      <td>1</td>\n",
       "      <td>31</td>\n",
       "      <td>39.0</td>\n",
       "      <td>4.404034</td>\n",
       "    </tr>\n",
       "    <tr>\n",
       "      <th>1</th>\n",
       "      <td>1.002979</td>\n",
       "      <td>0.865375</td>\n",
       "      <td>1.502164</td>\n",
       "      <td>1</td>\n",
       "      <td>49</td>\n",
       "      <td>52.0</td>\n",
       "      <td>12.915348</td>\n",
       "    </tr>\n",
       "    <tr>\n",
       "      <th>7</th>\n",
       "      <td>-0.996980</td>\n",
       "      <td>1.495134</td>\n",
       "      <td>1.268540</td>\n",
       "      <td>1</td>\n",
       "      <td>38</td>\n",
       "      <td>46.0</td>\n",
       "      <td>1.871428</td>\n",
       "    </tr>\n",
       "    <tr>\n",
       "      <th>10</th>\n",
       "      <td>1.002979</td>\n",
       "      <td>-0.106534</td>\n",
       "      <td>0.545911</td>\n",
       "      <td>1</td>\n",
       "      <td>34</td>\n",
       "      <td>45.0</td>\n",
       "      <td>-0.496970</td>\n",
       "    </tr>\n",
       "    <tr>\n",
       "      <th>16</th>\n",
       "      <td>-0.996980</td>\n",
       "      <td>0.043034</td>\n",
       "      <td>1.428732</td>\n",
       "      <td>1</td>\n",
       "      <td>30</td>\n",
       "      <td>39.0</td>\n",
       "      <td>2.610159</td>\n",
       "    </tr>\n",
       "  </tbody>\n",
       "</table>\n",
       "</div>"
      ],
      "text/plain": [
       "         sex       age  severity  medication  recovery  match  bias_correct\n",
       "0  -0.996980  0.280787  1.459800           1        31   39.0      4.404034\n",
       "1   1.002979  0.865375  1.502164           1        49   52.0     12.915348\n",
       "7  -0.996980  1.495134  1.268540           1        38   46.0      1.871428\n",
       "10  1.002979 -0.106534  0.545911           1        34   45.0     -0.496970\n",
       "16 -0.996980  0.043034  1.428732           1        30   39.0      2.610159"
      ]
     },
     "execution_count": 115,
     "metadata": {},
     "output_type": "execute_result"
    }
   ],
   "source": [
    "from sklearn.linear_model import LinearRegression\n",
    "\n",
    "# fit the linear regression model to estimate mu_0(x)\n",
    "ols0 = LinearRegression().fit(untreated[X], untreated[y])\n",
    "ols1 = LinearRegression().fit(treated[X], treated[y])\n",
    "\n",
    "# find the units that match to the treated, [0] is value, [1] is the matched index\n",
    "treated_match_index = mt0.kneighbors(treated[X], n_neighbors=1)[1].ravel()\n",
    "\n",
    "# find the units that match to the untreatd, [0] is value, [1] is the matched index\n",
    "untreated_match_index = mt1.kneighbors(untreated[X], n_neighbors=1)[1].ravel()\n",
    "\n",
    "predicted = pd.concat([\n",
    "    (treated\n",
    "     # find the Y match on the other group\n",
    "     .assign(match=mt0.predict(treated[X])) \n",
    "     \n",
    "     # build the bias correction term \n",
    "     \n",
    "     ## (predicted) treated as if untreated - (predicted) matched treated (for the untreated)\n",
    "     ## out of sample - in_sample\n",
    "     .assign(bias_correct=ols0.predict(treated[X]) - ols0.predict(untreated.iloc[treated_match_index][X]))),\n",
    "    \n",
    "    (untreated\n",
    "     .assign(match=mt1.predict(untreated[X]))\n",
    "     ## (predicted) untreated as if treated - (predicted) matched untreated (for the treated)\n",
    "     .assign(bias_correct=ols1.predict(untreated[X]) - ols1.predict(treated.iloc[untreated_match_index][X])))\n",
    "])\n",
    "\n",
    "predicted2 = pd.concat([\n",
    "    (treated\n",
    "     # find the Y match on the other group\n",
    "     .assign(match=mt0.predict(treated[X])) \n",
    "     \n",
    "     # build the bias correction term \n",
    "     \n",
    "     ## (predicted) treated as if untreated - (predicted) matched treated (for the untreated)\n",
    "     .assign(bias_correct=ols0.predict(treated[X]) - ols0.predict(untreated.iloc[treated_match_index][X]))),\n",
    "    \n",
    "    (untreated\n",
    "     .assign(match=mt1.predict(untreated[X]))\n",
    "     \n",
    "     ## (predicted) treated as if untreated - (predicted) matched treated (for the untreated)\n",
    "     .assign(bias_correct=ols1.predict(treated.iloc[untreated_match_index][X]) - ols1.predict(untreated[X])))\n",
    "])\n",
    "\n",
    "predicted.head()"
   ]
  },
  {
   "cell_type": "markdown",
   "id": "fc20478b-1411-4a82-b593-81fad078de4b",
   "metadata": {},
   "source": [
    "After bias correction, the medication effect is more obvious, which reduces hospital stays by 7 days"
   ]
  },
  {
   "cell_type": "code",
   "execution_count": 10,
   "id": "290e1599-0fd8-442a-bad0-f7be50fc93dd",
   "metadata": {},
   "outputs": [
    {
     "data": {
      "text/plain": [
       "-7.362660906141352"
      ]
     },
     "execution_count": 10,
     "metadata": {},
     "output_type": "execute_result"
    }
   ],
   "source": [
    "np.mean((2*predicted[\"medication\"] - 1)*((predicted[\"recovery\"] - predicted[\"match\"])-predicted[\"bias_correct\"]))"
   ]
  },
  {
   "cell_type": "code",
   "execution_count": 11,
   "id": "84a83c96-f419-43f2-96f9-39f5b4a97111",
   "metadata": {},
   "outputs": [],
   "source": [
    "d1 = predicted.query('medication == 1')\n",
    "d0 = predicted.query('medication == 0')"
   ]
  },
  {
   "cell_type": "code",
   "execution_count": 12,
   "id": "c2a4745e-19de-4559-bfcf-f2b0dd0715c3",
   "metadata": {},
   "outputs": [
    {
     "data": {
      "text/plain": [
       "-7.362660906141408"
      ]
     },
     "execution_count": 12,
     "metadata": {},
     "output_type": "execute_result"
    }
   ],
   "source": [
    "np.concatenate((d1['recovery'] - d1['match'] - d1['bias_correct'], d0['match'] - d0['recovery'] +  d0['bias_correct'])).mean()"
   ]
  },
  {
   "cell_type": "code",
   "execution_count": 117,
   "id": "97a7a548-5296-448f-9fd2-b62a9fad3be9",
   "metadata": {},
   "outputs": [],
   "source": [
    "d11 = predicted2.query('medication == 1')\n",
    "d00 = predicted2.query('medication == 0')"
   ]
  },
  {
   "cell_type": "code",
   "execution_count": 118,
   "id": "adbc825b-255e-4d23-a658-66d8b63ec0db",
   "metadata": {},
   "outputs": [
    {
     "data": {
      "text/plain": [
       "-7.362660906141408"
      ]
     },
     "execution_count": 118,
     "metadata": {},
     "output_type": "execute_result"
    }
   ],
   "source": [
    "np.concatenate((d11['recovery'] - d11['match'] - d11['bias_correct'], d00['match'] - d00['recovery'] -  d00['bias_correct'])).mean()"
   ]
  },
  {
   "cell_type": "markdown",
   "id": "1f97fdac-2e1f-4f8a-a85d-dcec9e40c786",
   "metadata": {},
   "source": [
    "__bias correction could also be obtained through the doubly robust estimator__"
   ]
  },
  {
   "cell_type": "markdown",
   "id": "25c6defd-bfaf-4f0b-acda-c40b9fb8469e",
   "metadata": {},
   "source": [
    "### Using package"
   ]
  },
  {
   "cell_type": "code",
   "execution_count": 13,
   "id": "58a0633c-6a82-42cf-9a60-02d69a2aef33",
   "metadata": {},
   "outputs": [
    {
     "name": "stdout",
     "output_type": "stream",
     "text": [
      "Requirement already satisfied: causalinference in c:\\users\\josep\\anaconda3\\lib\\site-packages (0.1.3)\n"
     ]
    }
   ],
   "source": [
    "!pip3 install causalinference"
   ]
  },
  {
   "cell_type": "code",
   "execution_count": 14,
   "id": "96d6ef49-bf12-405b-9c9c-4405a13f9d1f",
   "metadata": {},
   "outputs": [
    {
     "name": "stderr",
     "output_type": "stream",
     "text": [
      "C:\\Users\\josep\\anaconda3\\lib\\site-packages\\causalinference\\estimators\\matching.py:100: FutureWarning: `rcond` parameter will change to the default of machine precision times ``max(M, N)`` where M and N are the input matrix dimensions.\n",
      "To use the future default and silence this warning we advise to pass `rcond=None`, to keep using the old, explicitly pass `rcond=-1`.\n",
      "  return np.linalg.lstsq(X, Y)[0][1:]  # don't need intercept coef\n"
     ]
    },
    {
     "name": "stdout",
     "output_type": "stream",
     "text": [
      "\n",
      "Treatment Effect Estimates: Matching\n",
      "\n",
      "                     Est.       S.e.          z      P>|z|      [95% Conf. int.]\n",
      "--------------------------------------------------------------------------------\n",
      "           ATE     -7.709      0.609    -12.649      0.000     -8.903     -6.514\n",
      "           ATC     -6.665      0.246    -27.047      0.000     -7.148     -6.182\n",
      "           ATT     -9.679      1.693     -5.717      0.000    -12.997     -6.361\n",
      "\n"
     ]
    }
   ],
   "source": [
    "from causalinference import CausalModel\n",
    "\n",
    "cm = CausalModel(\n",
    "    Y=med[\"recovery\"].values, \n",
    "    D=med[\"medication\"].values, \n",
    "    X=med[[\"severity\", \"age\", \"sex\"]].values ## recall .values is the same as .to_numpy()\n",
    ")\n",
    "\n",
    "cm.est_via_matching(matches=1, bias_adj=True)\n",
    "\n",
    "print(cm.estimates)"
   ]
  },
  {
   "cell_type": "markdown",
   "id": "cad1e8b7-57f2-4c96-9283-5a42de3b2df9",
   "metadata": {},
   "source": [
    "Here ATE, ATC, and ATT standfor, respectively, average treatment effect, average treatment effect for the controls, and average treatment effect for the treated."
   ]
  },
  {
   "cell_type": "markdown",
   "id": "11348ec5-f0f5-4548-93fb-2c52401790b1",
   "metadata": {},
   "source": [
    "## Propensity score method"
   ]
  },
  {
   "cell_type": "code",
   "execution_count": 16,
   "id": "edd7fd67-82ca-4699-ad65-07d811e79437",
   "metadata": {},
   "outputs": [],
   "source": [
    "from sklearn.linear_model import LogisticRegression"
   ]
  },
  {
   "cell_type": "code",
   "execution_count": 17,
   "id": "0f3ec1d6-3170-4e2a-ae2b-bb5f1b8e42e2",
   "metadata": {},
   "outputs": [],
   "source": [
    "model = LogisticRegression(C=1e5).fit(med[[\"severity\", \"age\", \"sex\"]].values, med[\"medication\"].values)"
   ]
  },
  {
   "cell_type": "code",
   "execution_count": 18,
   "id": "f1281a35-c774-4310-8e7b-30b2fb67ea0b",
   "metadata": {},
   "outputs": [],
   "source": [
    "pos = model.predict_proba(med[[\"severity\", \"age\", \"sex\"]].values)[:,1] ## probability of receiving the treatment"
   ]
  },
  {
   "cell_type": "code",
   "execution_count": 19,
   "id": "e18c3353-2e38-4efa-a2e6-ecd3837068b0",
   "metadata": {},
   "outputs": [],
   "source": [
    "med['pos'] = pos\n",
    "med_ori['pos'] = pos"
   ]
  },
  {
   "cell_type": "markdown",
   "id": "2891054f-4443-4a1a-a271-6c5efe8e3615",
   "metadata": {},
   "source": [
    "__We can't use this method since propensity scores are very unbalanced__"
   ]
  },
  {
   "cell_type": "code",
   "execution_count": 20,
   "id": "90b556c4-c658-4e84-a837-23ff8f7c623b",
   "metadata": {},
   "outputs": [
    {
     "data": {
      "image/png": "[encoded data removed]",
      "text/plain": [
       "<Figure size 432x288 with 1 Axes>"
      ]
     },
     "metadata": {
      "needs_background": "light"
     },
     "output_type": "display_data"
    }
   ],
   "source": [
    "sns.histplot(data = med, y='pos',hue='medication');"
   ]
  },
  {
   "cell_type": "code",
   "execution_count": 21,
   "id": "d67f6480-264f-4b9b-baa0-18f555ea421e",
   "metadata": {},
   "outputs": [
    {
     "data": {
      "image/png": "[encoded data removed]",
      "text/plain": [
       "<Figure size 432x288 with 1 Axes>"
      ]
     },
     "metadata": {
      "needs_background": "light"
     },
     "output_type": "display_data"
    }
   ],
   "source": [
    "med_ori['age'] = np.round(med_ori['age'],-1)\n",
    "\n",
    "sns.boxplot(data = med_ori, y='pos',x='age');"
   ]
  },
  {
   "cell_type": "code",
   "execution_count": 22,
   "id": "1200f819-80c9-414c-b569-41fb7c3094d0",
   "metadata": {},
   "outputs": [
    {
     "data": {
      "text/plain": [
       "-2.63643186081017"
      ]
     },
     "execution_count": 22,
     "metadata": {},
     "output_type": "execute_result"
    }
   ],
   "source": [
    "w1 = 1/med.query('medication==1')['pos']\n",
    "w0 = 1/(1-med.query('medication==0')['pos'])\n",
    "## divide by the original sample size!!!\n",
    "sum(w1 * med.query('medication==1')['recovery'])/med.shape[0] - \\\n",
    "sum((w0 * med.query('medication==0')['recovery']))/med.shape[0]"
   ]
  },
  {
   "cell_type": "markdown",
   "id": "ae3cd84f-d930-4dbf-824b-fab448e3578f",
   "metadata": {},
   "source": [
    "__Very unbalanced, propensity score will lead to more unbalanceness__\n",
    "\n",
    "see paper\n",
    "https://gking.harvard.edu/publications/why-propensity-scores-should-not-be-used-formatching"
   ]
  },
  {
   "cell_type": "code",
   "execution_count": 23,
   "id": "8e3eea95-700e-45a7-b881-ab8e4f71f34c",
   "metadata": {},
   "outputs": [
    {
     "name": "stdout",
     "output_type": "stream",
     "text": [
      "10051.065813151487 15977.97153917509 20000\n"
     ]
    }
   ],
   "source": [
    "print(sum(w1) ,sum(w0), med.shape[0]) ## they should be approximately equal for propensity score to work properly"
   ]
  },
  {
   "cell_type": "code",
   "execution_count": 24,
   "id": "cbd7a7fa-970e-407b-ba57-9a4c27986c8e",
   "metadata": {},
   "outputs": [
    {
     "data": {
      "text/plain": [
       "-2.6364318608101804"
      ]
     },
     "execution_count": 24,
     "metadata": {},
     "output_type": "execute_result"
    }
   ],
   "source": [
    "weight = ((med[\"medication\"]-med[\"pos\"]) /\n",
    "          (med[\"pos\"]*(1-med[\"pos\"])))\n",
    "np.mean(weight * med[\"recovery\"])"
   ]
  },
  {
   "cell_type": "markdown",
   "id": "20beed67-223f-46e7-8bf5-0c3d7ae18a01",
   "metadata": {},
   "source": [
    "## Doubly Robust Estimators\n",
    "\n",
    "If only one of them is correct, we get similar result as if both were correct, except the bootstrap variance is higher."
   ]
  },
  {
   "cell_type": "code",
   "execution_count": 25,
   "id": "bd5800c6-7838-4db5-9132-e42d303d6a2d",
   "metadata": {},
   "outputs": [
    {
     "data": {
      "text/html": [
       "<div>\n",
       "<style scoped>\n",
       "    .dataframe tbody tr th:only-of-type {\n",
       "        vertical-align: middle;\n",
       "    }\n",
       "\n",
       "    .dataframe tbody tr th {\n",
       "        vertical-align: top;\n",
       "    }\n",
       "\n",
       "    .dataframe thead th {\n",
       "        text-align: right;\n",
       "    }\n",
       "</style>\n",
       "<table border=\"1\" class=\"dataframe\">\n",
       "  <thead>\n",
       "    <tr style=\"text-align: right;\">\n",
       "      <th></th>\n",
       "      <th>schoolid</th>\n",
       "      <th>intervention</th>\n",
       "      <th>achievement_score</th>\n",
       "      <th>success_expect</th>\n",
       "      <th>ethnicity</th>\n",
       "      <th>gender</th>\n",
       "      <th>frst_in_family</th>\n",
       "      <th>school_urbanicity</th>\n",
       "      <th>school_mindset</th>\n",
       "      <th>school_achievement</th>\n",
       "      <th>school_ethnic_minority</th>\n",
       "      <th>school_poverty</th>\n",
       "      <th>school_size</th>\n",
       "    </tr>\n",
       "  </thead>\n",
       "  <tbody>\n",
       "    <tr>\n",
       "      <th>259</th>\n",
       "      <td>73</td>\n",
       "      <td>1</td>\n",
       "      <td>1.480828</td>\n",
       "      <td>5</td>\n",
       "      <td>1</td>\n",
       "      <td>2</td>\n",
       "      <td>0</td>\n",
       "      <td>1</td>\n",
       "      <td>-0.462945</td>\n",
       "      <td>0.652608</td>\n",
       "      <td>-0.515202</td>\n",
       "      <td>-0.169849</td>\n",
       "      <td>0.173954</td>\n",
       "    </tr>\n",
       "    <tr>\n",
       "      <th>3435</th>\n",
       "      <td>76</td>\n",
       "      <td>0</td>\n",
       "      <td>-0.987277</td>\n",
       "      <td>5</td>\n",
       "      <td>13</td>\n",
       "      <td>1</td>\n",
       "      <td>1</td>\n",
       "      <td>4</td>\n",
       "      <td>0.334544</td>\n",
       "      <td>0.648586</td>\n",
       "      <td>-1.310927</td>\n",
       "      <td>0.224077</td>\n",
       "      <td>-0.426757</td>\n",
       "    </tr>\n",
       "    <tr>\n",
       "      <th>9963</th>\n",
       "      <td>4</td>\n",
       "      <td>0</td>\n",
       "      <td>-0.152340</td>\n",
       "      <td>5</td>\n",
       "      <td>2</td>\n",
       "      <td>2</td>\n",
       "      <td>1</td>\n",
       "      <td>0</td>\n",
       "      <td>-2.289636</td>\n",
       "      <td>0.190797</td>\n",
       "      <td>0.875012</td>\n",
       "      <td>-0.724801</td>\n",
       "      <td>0.761781</td>\n",
       "    </tr>\n",
       "    <tr>\n",
       "      <th>4488</th>\n",
       "      <td>67</td>\n",
       "      <td>0</td>\n",
       "      <td>0.358336</td>\n",
       "      <td>6</td>\n",
       "      <td>14</td>\n",
       "      <td>1</td>\n",
       "      <td>0</td>\n",
       "      <td>4</td>\n",
       "      <td>-1.115337</td>\n",
       "      <td>1.053089</td>\n",
       "      <td>0.315755</td>\n",
       "      <td>0.054586</td>\n",
       "      <td>1.862187</td>\n",
       "    </tr>\n",
       "    <tr>\n",
       "      <th>2637</th>\n",
       "      <td>16</td>\n",
       "      <td>1</td>\n",
       "      <td>1.360920</td>\n",
       "      <td>6</td>\n",
       "      <td>4</td>\n",
       "      <td>1</td>\n",
       "      <td>0</td>\n",
       "      <td>1</td>\n",
       "      <td>-0.538975</td>\n",
       "      <td>1.433826</td>\n",
       "      <td>-0.033161</td>\n",
       "      <td>-0.982274</td>\n",
       "      <td>1.591641</td>\n",
       "    </tr>\n",
       "  </tbody>\n",
       "</table>\n",
       "</div>"
      ],
      "text/plain": [
       "      schoolid  intervention  achievement_score  success_expect  ethnicity  \\\n",
       "259         73             1           1.480828               5          1   \n",
       "3435        76             0          -0.987277               5         13   \n",
       "9963         4             0          -0.152340               5          2   \n",
       "4488        67             0           0.358336               6         14   \n",
       "2637        16             1           1.360920               6          4   \n",
       "\n",
       "      gender  frst_in_family  school_urbanicity  school_mindset  \\\n",
       "259        2               0                  1       -0.462945   \n",
       "3435       1               1                  4        0.334544   \n",
       "9963       2               1                  0       -2.289636   \n",
       "4488       1               0                  4       -1.115337   \n",
       "2637       1               0                  1       -0.538975   \n",
       "\n",
       "      school_achievement  school_ethnic_minority  school_poverty  school_size  \n",
       "259             0.652608               -0.515202       -0.169849     0.173954  \n",
       "3435            0.648586               -1.310927        0.224077    -0.426757  \n",
       "9963            0.190797                0.875012       -0.724801     0.761781  \n",
       "4488            1.053089                0.315755        0.054586     1.862187  \n",
       "2637            1.433826               -0.033161       -0.982274     1.591641  "
      ]
     },
     "execution_count": 25,
     "metadata": {},
     "output_type": "execute_result"
    }
   ],
   "source": [
    "data = pd.read_csv(data_path + \"./data/learning_mindset.csv\")\n",
    "data.sample(5, random_state=5)"
   ]
  },
  {
   "cell_type": "code",
   "execution_count": 26,
   "id": "7779fe49-efa7-4538-810e-1ffc20247b99",
   "metadata": {},
   "outputs": [
    {
     "name": "stdout",
     "output_type": "stream",
     "text": [
      "(10391, 32)\n"
     ]
    }
   ],
   "source": [
    "categ = [\"ethnicity\", \"gender\", \"school_urbanicity\"]\n",
    "cont = [\"school_mindset\", \"school_achievement\", \"school_ethnic_minority\", \"school_poverty\", \"school_size\"]\n",
    "\n",
    "data_with_categ = pd.concat([\n",
    "    data.drop(columns=categ), # dataset without the categorical features\n",
    "    pd.get_dummies(data[categ], columns=categ, drop_first=False) # categorical features converted to dummies\n",
    "], axis=1)\n",
    "\n",
    "print(data_with_categ.shape)"
   ]
  },
  {
   "cell_type": "code",
   "execution_count": 27,
   "id": "adc36740-b5d8-4446-9936-ad0809f6b369",
   "metadata": {},
   "outputs": [
    {
     "data": {
      "text/html": [
       "<div>\n",
       "<style scoped>\n",
       "    .dataframe tbody tr th:only-of-type {\n",
       "        vertical-align: middle;\n",
       "    }\n",
       "\n",
       "    .dataframe tbody tr th {\n",
       "        vertical-align: top;\n",
       "    }\n",
       "\n",
       "    .dataframe thead th {\n",
       "        text-align: right;\n",
       "    }\n",
       "</style>\n",
       "<table border=\"1\" class=\"dataframe\">\n",
       "  <thead>\n",
       "    <tr style=\"text-align: right;\">\n",
       "      <th></th>\n",
       "      <th>sex</th>\n",
       "      <th>age</th>\n",
       "      <th>severity</th>\n",
       "      <th>medication</th>\n",
       "      <th>recovery</th>\n",
       "      <th>pos</th>\n",
       "    </tr>\n",
       "  </thead>\n",
       "  <tbody>\n",
       "    <tr>\n",
       "      <th>0</th>\n",
       "      <td>-0.996980</td>\n",
       "      <td>0.280787</td>\n",
       "      <td>1.459800</td>\n",
       "      <td>1</td>\n",
       "      <td>31</td>\n",
       "      <td>0.998795</td>\n",
       "    </tr>\n",
       "    <tr>\n",
       "      <th>1</th>\n",
       "      <td>1.002979</td>\n",
       "      <td>0.865375</td>\n",
       "      <td>1.502164</td>\n",
       "      <td>1</td>\n",
       "      <td>49</td>\n",
       "      <td>0.999985</td>\n",
       "    </tr>\n",
       "    <tr>\n",
       "      <th>7</th>\n",
       "      <td>-0.996980</td>\n",
       "      <td>1.495134</td>\n",
       "      <td>1.268540</td>\n",
       "      <td>1</td>\n",
       "      <td>38</td>\n",
       "      <td>0.993040</td>\n",
       "    </tr>\n",
       "    <tr>\n",
       "      <th>10</th>\n",
       "      <td>1.002979</td>\n",
       "      <td>-0.106534</td>\n",
       "      <td>0.545911</td>\n",
       "      <td>1</td>\n",
       "      <td>34</td>\n",
       "      <td>0.879452</td>\n",
       "    </tr>\n",
       "    <tr>\n",
       "      <th>16</th>\n",
       "      <td>-0.996980</td>\n",
       "      <td>0.043034</td>\n",
       "      <td>1.428732</td>\n",
       "      <td>1</td>\n",
       "      <td>30</td>\n",
       "      <td>0.998367</td>\n",
       "    </tr>\n",
       "    <tr>\n",
       "      <th>...</th>\n",
       "      <td>...</td>\n",
       "      <td>...</td>\n",
       "      <td>...</td>\n",
       "      <td>...</td>\n",
       "      <td>...</td>\n",
       "      <td>...</td>\n",
       "    </tr>\n",
       "    <tr>\n",
       "      <th>19982</th>\n",
       "      <td>1.002979</td>\n",
       "      <td>0.444150</td>\n",
       "      <td>1.667773</td>\n",
       "      <td>1</td>\n",
       "      <td>48</td>\n",
       "      <td>0.999997</td>\n",
       "    </tr>\n",
       "    <tr>\n",
       "      <th>19988</th>\n",
       "      <td>1.002979</td>\n",
       "      <td>-0.736709</td>\n",
       "      <td>0.227483</td>\n",
       "      <td>1</td>\n",
       "      <td>28</td>\n",
       "      <td>0.258804</td>\n",
       "    </tr>\n",
       "    <tr>\n",
       "      <th>19989</th>\n",
       "      <td>1.002979</td>\n",
       "      <td>1.002589</td>\n",
       "      <td>0.326361</td>\n",
       "      <td>1</td>\n",
       "      <td>39</td>\n",
       "      <td>0.489000</td>\n",
       "    </tr>\n",
       "    <tr>\n",
       "      <th>19993</th>\n",
       "      <td>1.002979</td>\n",
       "      <td>1.627845</td>\n",
       "      <td>0.920818</td>\n",
       "      <td>1</td>\n",
       "      <td>49</td>\n",
       "      <td>0.996342</td>\n",
       "    </tr>\n",
       "    <tr>\n",
       "      <th>19995</th>\n",
       "      <td>-0.996980</td>\n",
       "      <td>2.416531</td>\n",
       "      <td>0.635395</td>\n",
       "      <td>1</td>\n",
       "      <td>40</td>\n",
       "      <td>0.270493</td>\n",
       "    </tr>\n",
       "  </tbody>\n",
       "</table>\n",
       "<p>6924 rows × 6 columns</p>\n",
       "</div>"
      ],
      "text/plain": [
       "            sex       age  severity  medication  recovery       pos\n",
       "0     -0.996980  0.280787  1.459800           1        31  0.998795\n",
       "1      1.002979  0.865375  1.502164           1        49  0.999985\n",
       "7     -0.996980  1.495134  1.268540           1        38  0.993040\n",
       "10     1.002979 -0.106534  0.545911           1        34  0.879452\n",
       "16    -0.996980  0.043034  1.428732           1        30  0.998367\n",
       "...         ...       ...       ...         ...       ...       ...\n",
       "19982  1.002979  0.444150  1.667773           1        48  0.999997\n",
       "19988  1.002979 -0.736709  0.227483           1        28  0.258804\n",
       "19989  1.002979  1.002589  0.326361           1        39  0.489000\n",
       "19993  1.002979  1.627845  0.920818           1        49  0.996342\n",
       "19995 -0.996980  2.416531  0.635395           1        40  0.270493\n",
       "\n",
       "[6924 rows x 6 columns]"
      ]
     },
     "execution_count": 27,
     "metadata": {},
     "output_type": "execute_result"
    }
   ],
   "source": [
    "temp_name = 'medication'\n",
    "\n",
    "med.query(f'{temp_name}==1')"
   ]
  },
  {
   "cell_type": "code",
   "execution_count": 28,
   "id": "7a7adefe-562f-43f2-8d22-5963d3250b8c",
   "metadata": {},
   "outputs": [],
   "source": [
    "def doubly_robust(df, X, T, Y, n_runs = 1, bootstrap = False):\n",
    "    out = np.zeros(n_runs)\n",
    "    if bootstrap:\n",
    "        df = df.sample(frac=1,replace=True)\n",
    "    for i in range(n_runs):\n",
    "        ps = LogisticRegression(C=1e6, max_iter=1000).fit(df[X], df[T]).predict_proba(df[X])[:, 1]\n",
    "        mu0 = LinearRegression().fit(df.query(f\"{T}==0\")[X], df.query(f\"{T}==0\")[Y]).predict(df[X])\n",
    "        mu1 = LinearRegression().fit(df.query(f\"{T}==1\")[X], df.query(f\"{T}==1\")[Y]).predict(df[X])\n",
    "        out[i] = np.mean(df[T]*(df[Y] - mu1)/ps + mu1) - np.mean((1-df[T])*(df[Y] - mu0)/(1-ps) + mu0)\n",
    "    return(out)"
   ]
  },
  {
   "cell_type": "code",
   "execution_count": 29,
   "id": "271d180d-e5d0-47d6-bba4-159dcab2c8ea",
   "metadata": {},
   "outputs": [
    {
     "data": {
      "text/plain": [
       "array([0.38822161])"
      ]
     },
     "execution_count": 29,
     "metadata": {},
     "output_type": "execute_result"
    }
   ],
   "source": [
    "T = 'intervention'\n",
    "Y = 'achievement_score'\n",
    "X = data_with_categ.columns.drop(['schoolid', T, Y])\n",
    "\n",
    "doubly_robust(data_with_categ, X, T, Y,1)"
   ]
  },
  {
   "cell_type": "code",
   "execution_count": 30,
   "id": "05a22b7f-f190-4777-b30d-49afc3aac3b3",
   "metadata": {},
   "outputs": [],
   "source": [
    "from joblib import Parallel, delayed # for parallel processing\n",
    "\n",
    "np.random.seed(88)\n",
    "# run 1000 bootstrap samples\n",
    "bootstrap_sample = 1000\n",
    "ates = Parallel(n_jobs=4)(delayed(doubly_robust)(data_with_categ.sample(frac=1, replace=True), X, T, Y)\n",
    "                          for _ in range(bootstrap_sample))\n",
    "ates = np.array(ates).reshape(-1)"
   ]
  },
  {
   "cell_type": "code",
   "execution_count": 37,
   "id": "5b634720-826d-4097-9d7c-51d9b864a9bc",
   "metadata": {},
   "outputs": [
    {
     "data": {
      "image/png": "[encoded data removed]",
      "text/plain": [
       "<Figure size 432x288 with 1 Axes>"
      ]
     },
     "metadata": {
      "needs_background": "light"
     },
     "output_type": "display_data"
    }
   ],
   "source": [
    "sns.distplot(ates, kde=False)\n",
    "plt.vlines(np.percentile(ates, 2.5), 0, 20, linestyles=\"dotted\")\n",
    "plt.vlines(np.percentile(ates, 97.5), 0, 20, linestyles=\"dotted\", label=\"95% CI\")\n",
    "plt.title(\"ATE Bootstrap Distribution\")\n",
    "plt.legend();"
   ]
  },
  {
   "cell_type": "markdown",
   "id": "920dc027-95b3-43ef-8284-dc2726d5c678",
   "metadata": {},
   "source": [
    "## Example where Propensity score works"
   ]
  },
  {
   "cell_type": "code",
   "execution_count": 4,
   "id": "451c95a5-05aa-48da-b766-c582b95f6407",
   "metadata": {},
   "outputs": [
    {
     "data": {
      "text/html": [
       "<div>\n",
       "<style scoped>\n",
       "    .dataframe tbody tr th:only-of-type {\n",
       "        vertical-align: middle;\n",
       "    }\n",
       "\n",
       "    .dataframe tbody tr th {\n",
       "        vertical-align: top;\n",
       "    }\n",
       "\n",
       "    .dataframe thead th {\n",
       "        text-align: right;\n",
       "    }\n",
       "</style>\n",
       "<table border=\"1\" class=\"dataframe\">\n",
       "  <thead>\n",
       "    <tr style=\"text-align: right;\">\n",
       "      <th></th>\n",
       "      <th>schoolid</th>\n",
       "      <th>intervention</th>\n",
       "      <th>achievement_score</th>\n",
       "      <th>success_expect</th>\n",
       "      <th>ethnicity</th>\n",
       "      <th>gender</th>\n",
       "      <th>frst_in_family</th>\n",
       "      <th>school_urbanicity</th>\n",
       "      <th>school_mindset</th>\n",
       "      <th>school_achievement</th>\n",
       "      <th>school_ethnic_minority</th>\n",
       "      <th>school_poverty</th>\n",
       "      <th>school_size</th>\n",
       "    </tr>\n",
       "  </thead>\n",
       "  <tbody>\n",
       "    <tr>\n",
       "      <th>259</th>\n",
       "      <td>73</td>\n",
       "      <td>1</td>\n",
       "      <td>1.480828</td>\n",
       "      <td>5</td>\n",
       "      <td>1</td>\n",
       "      <td>2</td>\n",
       "      <td>0</td>\n",
       "      <td>1</td>\n",
       "      <td>-0.462945</td>\n",
       "      <td>0.652608</td>\n",
       "      <td>-0.515202</td>\n",
       "      <td>-0.169849</td>\n",
       "      <td>0.173954</td>\n",
       "    </tr>\n",
       "    <tr>\n",
       "      <th>3435</th>\n",
       "      <td>76</td>\n",
       "      <td>0</td>\n",
       "      <td>-0.987277</td>\n",
       "      <td>5</td>\n",
       "      <td>13</td>\n",
       "      <td>1</td>\n",
       "      <td>1</td>\n",
       "      <td>4</td>\n",
       "      <td>0.334544</td>\n",
       "      <td>0.648586</td>\n",
       "      <td>-1.310927</td>\n",
       "      <td>0.224077</td>\n",
       "      <td>-0.426757</td>\n",
       "    </tr>\n",
       "    <tr>\n",
       "      <th>9963</th>\n",
       "      <td>4</td>\n",
       "      <td>0</td>\n",
       "      <td>-0.152340</td>\n",
       "      <td>5</td>\n",
       "      <td>2</td>\n",
       "      <td>2</td>\n",
       "      <td>1</td>\n",
       "      <td>0</td>\n",
       "      <td>-2.289636</td>\n",
       "      <td>0.190797</td>\n",
       "      <td>0.875012</td>\n",
       "      <td>-0.724801</td>\n",
       "      <td>0.761781</td>\n",
       "    </tr>\n",
       "    <tr>\n",
       "      <th>4488</th>\n",
       "      <td>67</td>\n",
       "      <td>0</td>\n",
       "      <td>0.358336</td>\n",
       "      <td>6</td>\n",
       "      <td>14</td>\n",
       "      <td>1</td>\n",
       "      <td>0</td>\n",
       "      <td>4</td>\n",
       "      <td>-1.115337</td>\n",
       "      <td>1.053089</td>\n",
       "      <td>0.315755</td>\n",
       "      <td>0.054586</td>\n",
       "      <td>1.862187</td>\n",
       "    </tr>\n",
       "    <tr>\n",
       "      <th>2637</th>\n",
       "      <td>16</td>\n",
       "      <td>1</td>\n",
       "      <td>1.360920</td>\n",
       "      <td>6</td>\n",
       "      <td>4</td>\n",
       "      <td>1</td>\n",
       "      <td>0</td>\n",
       "      <td>1</td>\n",
       "      <td>-0.538975</td>\n",
       "      <td>1.433826</td>\n",
       "      <td>-0.033161</td>\n",
       "      <td>-0.982274</td>\n",
       "      <td>1.591641</td>\n",
       "    </tr>\n",
       "  </tbody>\n",
       "</table>\n",
       "</div>"
      ],
      "text/plain": [
       "      schoolid  intervention  achievement_score  success_expect  ethnicity  \\\n",
       "259         73             1           1.480828               5          1   \n",
       "3435        76             0          -0.987277               5         13   \n",
       "9963         4             0          -0.152340               5          2   \n",
       "4488        67             0           0.358336               6         14   \n",
       "2637        16             1           1.360920               6          4   \n",
       "\n",
       "      gender  frst_in_family  school_urbanicity  school_mindset  \\\n",
       "259        2               0                  1       -0.462945   \n",
       "3435       1               1                  4        0.334544   \n",
       "9963       2               1                  0       -2.289636   \n",
       "4488       1               0                  4       -1.115337   \n",
       "2637       1               0                  1       -0.538975   \n",
       "\n",
       "      school_achievement  school_ethnic_minority  school_poverty  school_size  \n",
       "259             0.652608               -0.515202       -0.169849     0.173954  \n",
       "3435            0.648586               -1.310927        0.224077    -0.426757  \n",
       "9963            0.190797                0.875012       -0.724801     0.761781  \n",
       "4488            1.053089                0.315755        0.054586     1.862187  \n",
       "2637            1.433826               -0.033161       -0.982274     1.591641  "
      ]
     },
     "execution_count": 4,
     "metadata": {},
     "output_type": "execute_result"
    }
   ],
   "source": [
    "data = pd.read_csv(data_path + \"./data/learning_mindset.csv\")\n",
    "data.sample(5, random_state=5)"
   ]
  },
  {
   "cell_type": "code",
   "execution_count": 5,
   "id": "1da1c685-7424-4b1f-a8f2-141d44da4236",
   "metadata": {},
   "outputs": [
    {
     "data": {
      "text/plain": [
       "intervention\n",
       "0    7007\n",
       "1    3384\n",
       "dtype: int64"
      ]
     },
     "execution_count": 5,
     "metadata": {},
     "output_type": "execute_result"
    }
   ],
   "source": [
    "data.groupby('intervention').size()"
   ]
  },
  {
   "cell_type": "markdown",
   "id": "3a5a0c35-d047-4a74-9dbb-6aa762b99e93",
   "metadata": {},
   "source": [
    "__counfounding variable__: obviously, students have higher expectation will visit the seminar"
   ]
  },
  {
   "cell_type": "code",
   "execution_count": 14,
   "id": "5d97a2f1-cba8-448c-af9c-f0303094b49a",
   "metadata": {},
   "outputs": [
    {
     "data": {
      "text/plain": [
       "success_expect\n",
       "1    0.271739\n",
       "2    0.265957\n",
       "3    0.294118\n",
       "4    0.271617\n",
       "5    0.311070\n",
       "6    0.354287\n",
       "7    0.362319\n",
       "Name: intervention, dtype: float64"
      ]
     },
     "execution_count": 14,
     "metadata": {},
     "output_type": "execute_result"
    }
   ],
   "source": [
    "data.groupby(\"success_expect\")[\"intervention\"].mean()"
   ]
  },
  {
   "cell_type": "code",
   "execution_count": 13,
   "id": "6fef79be-c10b-4704-928e-bebf6e915263",
   "metadata": {},
   "outputs": [
    {
     "data": {
      "text/plain": [
       "intervention\n",
       "0   -0.153803\n",
       "1    0.318469\n",
       "Name: achievement_score, dtype: float64"
      ]
     },
     "execution_count": 13,
     "metadata": {},
     "output_type": "execute_result"
    }
   ],
   "source": [
    "data.groupby(\"intervention\")[\"achievement_score\"].mean()"
   ]
  },
  {
   "cell_type": "markdown",
   "id": "4da6b869-28c0-42e9-acbb-16169dffaa7c",
   "metadata": {},
   "source": [
    "__difference of Standardized variable is deviation__:\n",
    "\n",
    "For example normal distribution of 1.96 and 0 and 2 std deviation."
   ]
  },
  {
   "cell_type": "code",
   "execution_count": 15,
   "id": "35c8e897-3571-4f00-99f0-42780bf1fc1e",
   "metadata": {},
   "outputs": [
    {
     "data": {
      "text/plain": [
       "count    1.039100e+04\n",
       "mean     1.324073e-16\n",
       "std      1.000000e+00\n",
       "min     -3.111431e+00\n",
       "25%     -7.033152e-01\n",
       "50%     -3.449486e-02\n",
       "75%      6.724723e-01\n",
       "max      3.563639e+00\n",
       "Name: achievement_score, dtype: float64"
      ]
     },
     "execution_count": 15,
     "metadata": {},
     "output_type": "execute_result"
    }
   ],
   "source": [
    "data['achievement_score'].describe() ## the score is standardized"
   ]
  },
  {
   "cell_type": "code",
   "execution_count": 17,
   "id": "f723247b-a07a-4f52-8f06-624844919ad6",
   "metadata": {},
   "outputs": [
    {
     "data": {
      "text/plain": [
       "<AxesSubplot:xlabel='achievement_score', ylabel='Count'>"
      ]
     },
     "execution_count": 17,
     "metadata": {},
     "output_type": "execute_result"
    },
    {
     "data": {
      "image/png": "[encoded data removed]",
      "text/plain": [
       "<Figure size 432x288 with 1 Axes>"
      ]
     },
     "metadata": {
      "needs_background": "light"
     },
     "output_type": "display_data"
    }
   ],
   "source": [
    "sns.histplot(data['achievement_score'])"
   ]
  },
  {
   "cell_type": "code",
   "execution_count": 59,
   "id": "e0896d61-cfe6-4639-b672-636701d9b341",
   "metadata": {},
   "outputs": [
    {
     "data": {
      "text/html": [
       "<table class=\"simpletable\">\n",
       "<tr>\n",
       "        <td></td>          <th>coef</th>     <th>std err</th>      <th>t</th>      <th>P>|t|</th>  <th>[0.025</th>    <th>0.975]</th>  \n",
       "</tr>\n",
       "<tr>\n",
       "  <th>Intercept</th>    <td>   -0.1538</td> <td>    0.012</td> <td>  -13.201</td> <td> 0.000</td> <td>   -0.177</td> <td>   -0.131</td>\n",
       "</tr>\n",
       "<tr>\n",
       "  <th>intervention</th> <td>    0.4723</td> <td>    0.020</td> <td>   23.133</td> <td> 0.000</td> <td>    0.432</td> <td>    0.512</td>\n",
       "</tr>\n",
       "</table>"
      ],
      "text/plain": [
       "<class 'statsmodels.iolib.table.SimpleTable'>"
      ]
     },
     "execution_count": 59,
     "metadata": {},
     "output_type": "execute_result"
    }
   ],
   "source": [
    "import statsmodels.formula.api as smf\n",
    "smf.ols(\"achievement_score ~ (intervention)\", data=data).fit().summary().tables[1]"
   ]
  },
  {
   "cell_type": "code",
   "execution_count": 94,
   "id": "be5d4178-393e-4716-a9d5-ea7d6f4aaf7f",
   "metadata": {},
   "outputs": [],
   "source": [
    "n = 10000\n",
    "mask = np.random.choice(2,size=n)\n",
    "y = TE * mask + np.random.normal(size = n)\n",
    "xy_df = pd.DataFrame({\"y\":y,\"x\":mask})"
   ]
  },
  {
   "cell_type": "code",
   "execution_count": 95,
   "id": "8f378a6f-c003-4028-84c3-dad70e594814",
   "metadata": {},
   "outputs": [
    {
     "data": {
      "text/html": [
       "<table class=\"simpletable\">\n",
       "<tr>\n",
       "      <td></td>         <th>coef</th>     <th>std err</th>      <th>t</th>      <th>P>|t|</th>  <th>[0.025</th>    <th>0.975]</th>  \n",
       "</tr>\n",
       "<tr>\n",
       "  <th>Intercept</th> <td>   -0.0182</td> <td>    0.014</td> <td>   -1.275</td> <td> 0.202</td> <td>   -0.046</td> <td>    0.010</td>\n",
       "</tr>\n",
       "<tr>\n",
       "  <th>x</th>         <td>    5.0256</td> <td>    0.020</td> <td>  248.908</td> <td> 0.000</td> <td>    4.986</td> <td>    5.065</td>\n",
       "</tr>\n",
       "</table>"
      ],
      "text/plain": [
       "<class 'statsmodels.iolib.table.SimpleTable'>"
      ]
     },
     "execution_count": 95,
     "metadata": {},
     "output_type": "execute_result"
    }
   ],
   "source": [
    "smf.ols('y~x',data = xy_df).fit().summary().tables[1]"
   ]
  },
  {
   "cell_type": "code",
   "execution_count": 101,
   "id": "511835e2-b908-407a-97fb-4df5aca2ac73",
   "metadata": {},
   "outputs": [
    {
     "data": {
      "text/plain": [
       "5.025587889019991"
      ]
     },
     "execution_count": 101,
     "metadata": {},
     "output_type": "execute_result"
    }
   ],
   "source": [
    "np.mean(xy_df.query('x==1')['y']) - np.mean(xy_df.query('x==0')['y'])"
   ]
  },
  {
   "cell_type": "code",
   "execution_count": 96,
   "id": "e51921a6-c7a4-48ca-9d2c-9022825ca770",
   "metadata": {},
   "outputs": [],
   "source": [
    "xy_df = xy_df.assign(y_sd = lambda x: (x['y'] - x['y'].mean())/x['y'].std())"
   ]
  },
  {
   "cell_type": "code",
   "execution_count": 97,
   "id": "ae1c1940-2bbe-42c8-8cc4-ce4fecec9c26",
   "metadata": {},
   "outputs": [
    {
     "data": {
      "text/html": [
       "<table class=\"simpletable\">\n",
       "<tr>\n",
       "      <td></td>         <th>coef</th>     <th>std err</th>      <th>t</th>      <th>P>|t|</th>  <th>[0.025</th>    <th>0.975]</th>  \n",
       "</tr>\n",
       "<tr>\n",
       "  <th>Intercept</th> <td>   -0.9299</td> <td>    0.005</td> <td> -176.198</td> <td> 0.000</td> <td>   -0.940</td> <td>   -0.920</td>\n",
       "</tr>\n",
       "<tr>\n",
       "  <th>x</th>         <td>    1.8558</td> <td>    0.007</td> <td>  248.908</td> <td> 0.000</td> <td>    1.841</td> <td>    1.870</td>\n",
       "</tr>\n",
       "</table>"
      ],
      "text/plain": [
       "<class 'statsmodels.iolib.table.SimpleTable'>"
      ]
     },
     "execution_count": 97,
     "metadata": {},
     "output_type": "execute_result"
    }
   ],
   "source": [
    "smf.ols('y_sd~x',data = xy_df).fit().summary().tables[1]"
   ]
  },
  {
   "cell_type": "code",
   "execution_count": 100,
   "id": "bf72c097-a76b-470b-946f-70adaf29c7c8",
   "metadata": {},
   "outputs": [
    {
     "data": {
      "text/plain": [
       "1.8557654512264934"
      ]
     },
     "execution_count": 100,
     "metadata": {},
     "output_type": "execute_result"
    }
   ],
   "source": [
    "np.mean(xy_df.query('x==1')['y_sd']) - np.mean(xy_df.query('x==0')['y_sd'])"
   ]
  },
  {
   "cell_type": "code",
   "execution_count": null,
   "id": "4cd9a7fa-3f25-4472-aa4f-81556a7c06ba",
   "metadata": {},
   "outputs": [],
   "source": []
  }
 ],
 "metadata": {
  "kernelspec": {
   "display_name": "Python 3 (ipykernel)",
   "language": "python",
   "name": "python3"
  },
  "language_info": {
   "codemirror_mode": {
    "name": "ipython",
    "version": 3
   },
   "file_extension": ".py",
   "mimetype": "text/x-python",
   "name": "python",
   "nbconvert_exporter": "python",
   "pygments_lexer": "ipython3",
   "version": "3.9.7"
  }
 },
 "nbformat": 4,
 "nbformat_minor": 5
}
