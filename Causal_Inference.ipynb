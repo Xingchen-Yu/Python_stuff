{
 "cells": [
  {
   "cell_type": "markdown",
   "id": "47527f7b-6072-49a9-a6e4-5cacb49a2acd",
   "metadata": {},
   "source": [
    "https://matheusfacure.github.io/python-causality-handbook/10-Matching.html"
   ]
  },
  {
   "cell_type": "code",
   "execution_count": 2,
   "id": "9b3e578d-0347-4f6f-ac5e-7c7853628f2d",
   "metadata": {},
   "outputs": [],
   "source": [
    "data_path = '../../Python_Scripts/python-causality-handbook/causal-inference-for-the-brave-and-true/'"
   ]
  },
  {
   "cell_type": "code",
   "execution_count": 4,
   "id": "a4f51639-8632-4519-b845-71e76fb0a780",
   "metadata": {},
   "outputs": [],
   "source": [
    "import pandas as pd\n",
    "import numpy as np\n",
    "from matplotlib import pyplot as plt\n",
    "import seaborn as sns\n",
    "from sklearn.linear_model import LogisticRegression, LinearRegression"
   ]
  },
  {
   "cell_type": "markdown",
   "id": "1f4a7651-1f65-45c5-b0c2-564b8146f6d9",
   "metadata": {},
   "source": [
    "## Matching example"
   ]
  },
  {
   "cell_type": "code",
   "execution_count": 104,
   "id": "589a3e5c-ad09-42f6-94ff-8b177884b920",
   "metadata": {},
   "outputs": [
    {
     "data": {
      "text/html": [
       "<div>\n",
       "<style scoped>\n",
       "    .dataframe tbody tr th:only-of-type {\n",
       "        vertical-align: middle;\n",
       "    }\n",
       "\n",
       "    .dataframe tbody tr th {\n",
       "        vertical-align: top;\n",
       "    }\n",
       "\n",
       "    .dataframe thead th {\n",
       "        text-align: right;\n",
       "    }\n",
       "</style>\n",
       "<table border=\"1\" class=\"dataframe\">\n",
       "  <thead>\n",
       "    <tr style=\"text-align: right;\">\n",
       "      <th></th>\n",
       "      <th>sex</th>\n",
       "      <th>age</th>\n",
       "      <th>severity</th>\n",
       "      <th>medication</th>\n",
       "      <th>recovery</th>\n",
       "    </tr>\n",
       "  </thead>\n",
       "  <tbody>\n",
       "    <tr>\n",
       "      <th>0</th>\n",
       "      <td>0</td>\n",
       "      <td>35.049134</td>\n",
       "      <td>0.887658</td>\n",
       "      <td>1</td>\n",
       "      <td>31</td>\n",
       "    </tr>\n",
       "    <tr>\n",
       "      <th>1</th>\n",
       "      <td>1</td>\n",
       "      <td>41.580323</td>\n",
       "      <td>0.899784</td>\n",
       "      <td>1</td>\n",
       "      <td>49</td>\n",
       "    </tr>\n",
       "    <tr>\n",
       "      <th>2</th>\n",
       "      <td>1</td>\n",
       "      <td>28.127491</td>\n",
       "      <td>0.486349</td>\n",
       "      <td>0</td>\n",
       "      <td>38</td>\n",
       "    </tr>\n",
       "    <tr>\n",
       "      <th>3</th>\n",
       "      <td>1</td>\n",
       "      <td>36.375033</td>\n",
       "      <td>0.323091</td>\n",
       "      <td>0</td>\n",
       "      <td>35</td>\n",
       "    </tr>\n",
       "    <tr>\n",
       "      <th>4</th>\n",
       "      <td>0</td>\n",
       "      <td>25.091717</td>\n",
       "      <td>0.209006</td>\n",
       "      <td>0</td>\n",
       "      <td>15</td>\n",
       "    </tr>\n",
       "  </tbody>\n",
       "</table>\n",
       "</div>"
      ],
      "text/plain": [
       "   sex        age  severity  medication  recovery\n",
       "0    0  35.049134  0.887658           1        31\n",
       "1    1  41.580323  0.899784           1        49\n",
       "2    1  28.127491  0.486349           0        38\n",
       "3    1  36.375033  0.323091           0        35\n",
       "4    0  25.091717  0.209006           0        15"
      ]
     },
     "execution_count": 104,
     "metadata": {},
     "output_type": "execute_result"
    }
   ],
   "source": [
    "med = pd.read_csv(data_path + \"./data/medicine_impact_recovery.csv\")\n",
    "med_ori = med.copy()\n",
    "med.head()"
   ]
  },
  {
   "cell_type": "markdown",
   "id": "1da0b9a3-e065-43f6-9205-e4eb041b7d4d",
   "metadata": {},
   "source": [
    "__Always scale features where distance needs to be computed or regularization is used__"
   ]
  },
  {
   "cell_type": "code",
   "execution_count": 105,
   "id": "5c12f5d5-91b9-42eb-91d1-9d4575be01c6",
   "metadata": {},
   "outputs": [
    {
     "data": {
      "text/html": [
       "<div>\n",
       "<style scoped>\n",
       "    .dataframe tbody tr th:only-of-type {\n",
       "        vertical-align: middle;\n",
       "    }\n",
       "\n",
       "    .dataframe tbody tr th {\n",
       "        vertical-align: top;\n",
       "    }\n",
       "\n",
       "    .dataframe thead th {\n",
       "        text-align: right;\n",
       "    }\n",
       "</style>\n",
       "<table border=\"1\" class=\"dataframe\">\n",
       "  <thead>\n",
       "    <tr style=\"text-align: right;\">\n",
       "      <th></th>\n",
       "      <th>sex</th>\n",
       "      <th>age</th>\n",
       "      <th>severity</th>\n",
       "      <th>medication</th>\n",
       "      <th>recovery</th>\n",
       "    </tr>\n",
       "  </thead>\n",
       "  <tbody>\n",
       "    <tr>\n",
       "      <th>0</th>\n",
       "      <td>-0.996980</td>\n",
       "      <td>0.280787</td>\n",
       "      <td>1.459800</td>\n",
       "      <td>1</td>\n",
       "      <td>31</td>\n",
       "    </tr>\n",
       "    <tr>\n",
       "      <th>1</th>\n",
       "      <td>1.002979</td>\n",
       "      <td>0.865375</td>\n",
       "      <td>1.502164</td>\n",
       "      <td>1</td>\n",
       "      <td>49</td>\n",
       "    </tr>\n",
       "    <tr>\n",
       "      <th>2</th>\n",
       "      <td>1.002979</td>\n",
       "      <td>-0.338749</td>\n",
       "      <td>0.057796</td>\n",
       "      <td>0</td>\n",
       "      <td>38</td>\n",
       "    </tr>\n",
       "    <tr>\n",
       "      <th>3</th>\n",
       "      <td>1.002979</td>\n",
       "      <td>0.399465</td>\n",
       "      <td>-0.512557</td>\n",
       "      <td>0</td>\n",
       "      <td>35</td>\n",
       "    </tr>\n",
       "    <tr>\n",
       "      <th>4</th>\n",
       "      <td>-0.996980</td>\n",
       "      <td>-0.610473</td>\n",
       "      <td>-0.911125</td>\n",
       "      <td>0</td>\n",
       "      <td>15</td>\n",
       "    </tr>\n",
       "  </tbody>\n",
       "</table>\n",
       "</div>"
      ],
      "text/plain": [
       "        sex       age  severity  medication  recovery\n",
       "0 -0.996980  0.280787  1.459800           1        31\n",
       "1  1.002979  0.865375  1.502164           1        49\n",
       "2  1.002979 -0.338749  0.057796           0        38\n",
       "3  1.002979  0.399465 -0.512557           0        35\n",
       "4 -0.996980 -0.610473 -0.911125           0        15"
      ]
     },
     "execution_count": 105,
     "metadata": {},
     "output_type": "execute_result"
    }
   ],
   "source": [
    "# scale features\n",
    "X = [\"severity\", \"age\", \"sex\"]\n",
    "y = \"recovery\"\n",
    "\n",
    "med = med.assign(**{f: (med[f] - med[f].mean())/med[f].std() for f in X})\n",
    "med.head()"
   ]
  },
  {
   "cell_type": "markdown",
   "id": "91a14488-6f1e-46b9-900b-46a3ccad3bcc",
   "metadata": {},
   "source": [
    "use the K-Nearest neighbor regression with `k=1` as a trick match each treatment with a control and a control with a treatment"
   ]
  },
  {
   "cell_type": "code",
   "execution_count": 106,
   "id": "7d14c569-b517-441f-b342-7b6db680613a",
   "metadata": {},
   "outputs": [
    {
     "data": {
      "text/html": [
       "<div>\n",
       "<style scoped>\n",
       "    .dataframe tbody tr th:only-of-type {\n",
       "        vertical-align: middle;\n",
       "    }\n",
       "\n",
       "    .dataframe tbody tr th {\n",
       "        vertical-align: top;\n",
       "    }\n",
       "\n",
       "    .dataframe thead th {\n",
       "        text-align: right;\n",
       "    }\n",
       "</style>\n",
       "<table border=\"1\" class=\"dataframe\">\n",
       "  <thead>\n",
       "    <tr style=\"text-align: right;\">\n",
       "      <th></th>\n",
       "      <th>sex</th>\n",
       "      <th>age</th>\n",
       "      <th>severity</th>\n",
       "      <th>medication</th>\n",
       "      <th>recovery</th>\n",
       "      <th>match</th>\n",
       "    </tr>\n",
       "  </thead>\n",
       "  <tbody>\n",
       "    <tr>\n",
       "      <th>0</th>\n",
       "      <td>-0.996980</td>\n",
       "      <td>0.280787</td>\n",
       "      <td>1.459800</td>\n",
       "      <td>1</td>\n",
       "      <td>31</td>\n",
       "      <td>39.0</td>\n",
       "    </tr>\n",
       "    <tr>\n",
       "      <th>1</th>\n",
       "      <td>1.002979</td>\n",
       "      <td>0.865375</td>\n",
       "      <td>1.502164</td>\n",
       "      <td>1</td>\n",
       "      <td>49</td>\n",
       "      <td>52.0</td>\n",
       "    </tr>\n",
       "    <tr>\n",
       "      <th>7</th>\n",
       "      <td>-0.996980</td>\n",
       "      <td>1.495134</td>\n",
       "      <td>1.268540</td>\n",
       "      <td>1</td>\n",
       "      <td>38</td>\n",
       "      <td>46.0</td>\n",
       "    </tr>\n",
       "    <tr>\n",
       "      <th>10</th>\n",
       "      <td>1.002979</td>\n",
       "      <td>-0.106534</td>\n",
       "      <td>0.545911</td>\n",
       "      <td>1</td>\n",
       "      <td>34</td>\n",
       "      <td>45.0</td>\n",
       "    </tr>\n",
       "    <tr>\n",
       "      <th>16</th>\n",
       "      <td>-0.996980</td>\n",
       "      <td>0.043034</td>\n",
       "      <td>1.428732</td>\n",
       "      <td>1</td>\n",
       "      <td>30</td>\n",
       "      <td>39.0</td>\n",
       "    </tr>\n",
       "  </tbody>\n",
       "</table>\n",
       "</div>"
      ],
      "text/plain": [
       "         sex       age  severity  medication  recovery  match\n",
       "0  -0.996980  0.280787  1.459800           1        31   39.0\n",
       "1   1.002979  0.865375  1.502164           1        49   52.0\n",
       "7  -0.996980  1.495134  1.268540           1        38   46.0\n",
       "10  1.002979 -0.106534  0.545911           1        34   45.0\n",
       "16 -0.996980  0.043034  1.428732           1        30   39.0"
      ]
     },
     "execution_count": 106,
     "metadata": {},
     "output_type": "execute_result"
    }
   ],
   "source": [
    "from sklearn.neighbors import KNeighborsRegressor\n",
    "\n",
    "treated = med.query(\"medication==1\")\n",
    "untreated = med.query(\"medication==0\")\n",
    "\n",
    "mt0 = KNeighborsRegressor(n_neighbors=1).fit(untreated[X], untreated[y])\n",
    "mt1 = KNeighborsRegressor(n_neighbors=1).fit(treated[X], treated[y])\n",
    "\n",
    "predicted = pd.concat([\n",
    "    # find matches for the treated looking at the untreated knn model\n",
    "    treated.assign(match=mt0.predict(treated[X])),\n",
    "    \n",
    "    # find matches for the untreated looking at the treated knn model\n",
    "    untreated.assign(match=mt1.predict(untreated[X]))\n",
    "])\n",
    "\n",
    "predicted.head()"
   ]
  },
  {
   "cell_type": "markdown",
   "id": "6977da62-c3a6-4f8c-8ac8-b476b4f13d79",
   "metadata": {},
   "source": [
    "Estimator: \n",
    "$\n",
    "\\hat{ATE} = \\frac{1}{N} \\sum^N_{i=0} (2T_i - 1)\\big(Y_i - Y_{jm}(i)\\big)\n",
    "$ where $(2T_i - 1)$ is for adjusting the sign (Treatment - control). __This estimator is biased__"
   ]
  },
  {
   "cell_type": "markdown",
   "id": "d61f82b0-bc23-4127-a406-30e6ebe02fef",
   "metadata": {},
   "source": [
    "After controlling for confounder, medication reduces hospital stay by 1 day. However, __this estimator is baised__"
   ]
  },
  {
   "cell_type": "code",
   "execution_count": 107,
   "id": "472ab60f-d98f-4f54-80a1-1187c374a365",
   "metadata": {},
   "outputs": [
    {
     "data": {
      "text/plain": [
       "-0.9954"
      ]
     },
     "execution_count": 107,
     "metadata": {},
     "output_type": "execute_result"
    }
   ],
   "source": [
    "np.mean((2*predicted[\"medication\"] - 1)*(predicted[\"recovery\"] - predicted[\"match\"]))"
   ]
  },
  {
   "cell_type": "markdown",
   "id": "4fcb264d-3438-406b-9090-fd58503c559a",
   "metadata": {},
   "source": [
    "Recall that if we don't control for confounding variables, medications somehow prolong recovery by 17 days. Draper 007\n",
    "had a similar example of smoking and mortality if age is not blocked."
   ]
  },
  {
   "cell_type": "code",
   "execution_count": 108,
   "id": "addd5649-6b39-4222-8fc9-8e3312b94fd8",
   "metadata": {},
   "outputs": [
    {
     "data": {
      "text/plain": [
       "16.895799546498726"
      ]
     },
     "execution_count": 108,
     "metadata": {},
     "output_type": "execute_result"
    }
   ],
   "source": [
    "np.mean(predicted.query('medication == 1')['recovery']) - np.mean(predicted.query('medication == 0')['recovery'])"
   ]
  },
  {
   "cell_type": "code",
   "execution_count": 109,
   "id": "c739c848-2f80-4540-b9a9-dbe2711efdd4",
   "metadata": {},
   "outputs": [
    {
     "data": {
      "text/html": [
       "<table class=\"simpletable\">\n",
       "<tr>\n",
       "       <td></td>         <th>coef</th>     <th>std err</th>      <th>t</th>      <th>P>|t|</th>  <th>[0.025</th>    <th>0.975]</th>  \n",
       "</tr>\n",
       "<tr>\n",
       "  <th>Intercept</th>  <td>   21.6761</td> <td>    0.121</td> <td>  178.865</td> <td> 0.000</td> <td>   21.439</td> <td>   21.914</td>\n",
       "</tr>\n",
       "<tr>\n",
       "  <th>medication</th> <td>   16.8958</td> <td>    0.206</td> <td>   82.033</td> <td> 0.000</td> <td>   16.492</td> <td>   17.300</td>\n",
       "</tr>\n",
       "</table>"
      ],
      "text/plain": [
       "<class 'statsmodels.iolib.table.SimpleTable'>"
      ]
     },
     "execution_count": 109,
     "metadata": {},
     "output_type": "execute_result"
    }
   ],
   "source": [
    "import statsmodels.formula.api as smf\n",
    "smf.ols(\"recovery ~ medication\", data=predicted).fit().summary().tables[1]"
   ]
  },
  {
   "cell_type": "code",
   "execution_count": 112,
   "id": "2c28dbec-23ad-419b-b67e-f508e0e13101",
   "metadata": {},
   "outputs": [
    {
     "data": {
      "text/plain": [
       "medication\n",
       "0    13076\n",
       "1     6924\n",
       "dtype: int64"
      ]
     },
     "execution_count": 112,
     "metadata": {},
     "output_type": "execute_result"
    }
   ],
   "source": [
    "predicted.groupby('medication').size()"
   ]
  },
  {
   "cell_type": "markdown",
   "id": "da7bccfb-a14a-4980-9151-0390d49e880d",
   "metadata": {
    "tags": []
   },
   "source": [
    "### (Selection) Bias correction\n",
    "__The above estimator $\\hat{ATE}$:  \\\n",
    "Outcome for treated - Outcome for untreated = [Outcome for treated - Outcome for treated if not treated] + [Outcome for treated if not treated - Outcome for untreated]\n",
    " = Treatment Effect on the treated + Selection Bias__\n",
    " \n",
    " Therefore we need to substract the __Selection Bias__ to get the unbiased treatment effect"
   ]
  },
  {
   "cell_type": "markdown",
   "id": "b0f7bd76-86b2-4072-9205-ef663d34a408",
   "metadata": {},
   "source": [
    "Bias: $\n",
    "E[\\sqrt{N_1}(\\hat{ATET} - ATET)] = E[\\sqrt{N_1}(\\mu_0(X_i) - \\mu_0(X_j(i)))] \n",
    "$ = __E[counterfactual(treated if untreated) - matched_factual (untreated)]__\n",
    "\n",
    "Now, $\\mu_0(X_i) - \\mu_0(X_j(i))$ is not so simple to understand, so let's look at it more carefully. $\\mu_0(X_i)$ is the outcome Y value of a treated unit $i$ had it not been treated. So, it is the counterfactual outcome $Y_0$ for unit i. $\\mu_0(X_j(i))$ is the outcome of the untreated unit $j$ that is the match of unit $i$. So, it is also the $Y_0$ , but for unit $j$ now. Only this time, it is a factual outcome, because $j$ is in the non treated group. Now, because $j$ and $i$ are only similar, but not the same, this will likely not be zero. In other words, $X_i \\approx X_j $. So, $Y_{0i} \\approx Y_{0j} $. \n",
    "\n",
    "As we increase the sample size, there will be more units to match, so the difference between unit $i$ and its match $j$ will also get smaller. But this difference converges to zero slowly. As a result $E[\\sqrt{N_1}(\\mu_0(X_i) - \\mu_0(X_j(i)))]$ may not converge to zero, because the $\\sqrt{N_1}$ grows faster than $(\\mu_0(X_i) - \\mu_0(X_j(i)))$ diminishes.\n",
    "\n",
    "Bias arises when the matching discrepancies are huge. Fortunately, we know how to correct it. Each observation contributes $(\\mu_0(X_i) - \\mu_0(X_j(i)))$ to the bias so all we need to do is subtract this quantity from each matching comparison in our estimator. To do so, we can replace $\\mu_0(X_j(i))$ with some sort of estimate of this quantity $\\hat{\\mu_0}(X_j(i))$, which can be obtained with models like linear regression. This updates the ATET estimator to the following equation\n",
    "\n",
    "$\n",
    "\\hat{ATET} = \\frac{1}{N_1}\\sum \\big((Y_i - Y_{j(i)}) - (\\hat{\\mu_0}(X_i) - \\hat{\\mu_0}(X_{j(i)}))\\big)\n",
    "$\n",
    "\n",
    "where $\\hat{\\mu_0}(x)$ is some estimative of $E[Y|X, T=0]$, like a linear regression fitted only on the untreated sample."
   ]
  },
  {
   "cell_type": "code",
   "execution_count": 115,
   "id": "7bc81517-e5ce-4b09-8b06-8aae586230b1",
   "metadata": {},
   "outputs": [
    {
     "data": {
      "text/html": [
       "<div>\n",
       "<style scoped>\n",
       "    .dataframe tbody tr th:only-of-type {\n",
       "        vertical-align: middle;\n",
       "    }\n",
       "\n",
       "    .dataframe tbody tr th {\n",
       "        vertical-align: top;\n",
       "    }\n",
       "\n",
       "    .dataframe thead th {\n",
       "        text-align: right;\n",
       "    }\n",
       "</style>\n",
       "<table border=\"1\" class=\"dataframe\">\n",
       "  <thead>\n",
       "    <tr style=\"text-align: right;\">\n",
       "      <th></th>\n",
       "      <th>sex</th>\n",
       "      <th>age</th>\n",
       "      <th>severity</th>\n",
       "      <th>medication</th>\n",
       "      <th>recovery</th>\n",
       "      <th>match</th>\n",
       "      <th>bias_correct</th>\n",
       "    </tr>\n",
       "  </thead>\n",
       "  <tbody>\n",
       "    <tr>\n",
       "      <th>0</th>\n",
       "      <td>-0.996980</td>\n",
       "      <td>0.280787</td>\n",
       "      <td>1.459800</td>\n",
       "      <td>1</td>\n",
       "      <td>31</td>\n",
       "      <td>39.0</td>\n",
       "      <td>4.404034</td>\n",
       "    </tr>\n",
       "    <tr>\n",
       "      <th>1</th>\n",
       "      <td>1.002979</td>\n",
       "      <td>0.865375</td>\n",
       "      <td>1.502164</td>\n",
       "      <td>1</td>\n",
       "      <td>49</td>\n",
       "      <td>52.0</td>\n",
       "      <td>12.915348</td>\n",
       "    </tr>\n",
       "    <tr>\n",
       "      <th>7</th>\n",
       "      <td>-0.996980</td>\n",
       "      <td>1.495134</td>\n",
       "      <td>1.268540</td>\n",
       "      <td>1</td>\n",
       "      <td>38</td>\n",
       "      <td>46.0</td>\n",
       "      <td>1.871428</td>\n",
       "    </tr>\n",
       "    <tr>\n",
       "      <th>10</th>\n",
       "      <td>1.002979</td>\n",
       "      <td>-0.106534</td>\n",
       "      <td>0.545911</td>\n",
       "      <td>1</td>\n",
       "      <td>34</td>\n",
       "      <td>45.0</td>\n",
       "      <td>-0.496970</td>\n",
       "    </tr>\n",
       "    <tr>\n",
       "      <th>16</th>\n",
       "      <td>-0.996980</td>\n",
       "      <td>0.043034</td>\n",
       "      <td>1.428732</td>\n",
       "      <td>1</td>\n",
       "      <td>30</td>\n",
       "      <td>39.0</td>\n",
       "      <td>2.610159</td>\n",
       "    </tr>\n",
       "  </tbody>\n",
       "</table>\n",
       "</div>"
      ],
      "text/plain": [
       "         sex       age  severity  medication  recovery  match  bias_correct\n",
       "0  -0.996980  0.280787  1.459800           1        31   39.0      4.404034\n",
       "1   1.002979  0.865375  1.502164           1        49   52.0     12.915348\n",
       "7  -0.996980  1.495134  1.268540           1        38   46.0      1.871428\n",
       "10  1.002979 -0.106534  0.545911           1        34   45.0     -0.496970\n",
       "16 -0.996980  0.043034  1.428732           1        30   39.0      2.610159"
      ]
     },
     "execution_count": 115,
     "metadata": {},
     "output_type": "execute_result"
    }
   ],
   "source": [
    "# fit the linear regression model to estimate mu_0(x)\n",
    "ols0 = LinearRegression().fit(untreated[X], untreated[y])\n",
    "ols1 = LinearRegression().fit(treated[X], treated[y])\n",
    "\n",
    "# find the units that match to the treated, [0] is value, [1] is the matched index\n",
    "treated_match_index = mt0.kneighbors(treated[X], n_neighbors=1)[1].ravel()\n",
    "\n",
    "# find the units that match to the untreatd, [0] is value, [1] is the matched index\n",
    "untreated_match_index = mt1.kneighbors(untreated[X], n_neighbors=1)[1].ravel()\n",
    "\n",
    "predicted = pd.concat([\n",
    "    (treated\n",
    "     # find the Y match on the other group\n",
    "     .assign(match=mt0.predict(treated[X])) \n",
    "     \n",
    "     # build the bias correction term \n",
    "     \n",
    "     ## (predicted) treated as if untreated - (predicted) matched untreated \n",
    "     ## out of sample - in_sample\n",
    "     .assign(bias_correct=ols0.predict(treated[X]) - ols0.predict(untreated.iloc[treated_match_index][X]))),\n",
    "    \n",
    "    (untreated\n",
    "     .assign(match=mt1.predict(untreated[X]))\n",
    "     ## (predicted) untreated as if treated - (predicted) matched treated\n",
    "     .assign(bias_correct=ols1.predict(untreated[X]) - ols1.predict(treated.iloc[untreated_match_index][X])))\n",
    "])\n",
    "\n",
    "predicted2 = pd.concat([\n",
    "    (treated\n",
    "     # find the Y match on the other group\n",
    "     .assign(match=mt0.predict(treated[X])) \n",
    "     \n",
    "     # build the bias correction term \n",
    "     \n",
    "     ## (predicted) treated as if untreated - (predicted) matched treated (for the untreated)\n",
    "     .assign(bias_correct=ols0.predict(treated[X]) - ols0.predict(untreated.iloc[treated_match_index][X]))),\n",
    "    \n",
    "    (untreated\n",
    "     .assign(match=mt1.predict(untreated[X]))\n",
    "     \n",
    "     ## (predicted) treated as if untreated - (predicted) matched treated (for the untreated)\n",
    "     .assign(bias_correct=ols1.predict(treated.iloc[untreated_match_index][X]) - ols1.predict(untreated[X])))\n",
    "])\n",
    "\n",
    "predicted.head()"
   ]
  },
  {
   "cell_type": "markdown",
   "id": "fc20478b-1411-4a82-b593-81fad078de4b",
   "metadata": {},
   "source": [
    "After bias correction, the medication effect is more obvious, which reduces hospital stays by 7 days"
   ]
  },
  {
   "cell_type": "code",
   "execution_count": 10,
   "id": "290e1599-0fd8-442a-bad0-f7be50fc93dd",
   "metadata": {},
   "outputs": [
    {
     "data": {
      "text/plain": [
       "-7.362660906141352"
      ]
     },
     "execution_count": 10,
     "metadata": {},
     "output_type": "execute_result"
    }
   ],
   "source": [
    "np.mean((2*predicted[\"medication\"] - 1)*((predicted[\"recovery\"] - predicted[\"match\"])-predicted[\"bias_correct\"]))"
   ]
  },
  {
   "cell_type": "code",
   "execution_count": 11,
   "id": "84a83c96-f419-43f2-96f9-39f5b4a97111",
   "metadata": {},
   "outputs": [],
   "source": [
    "d1 = predicted.query('medication == 1')\n",
    "d0 = predicted.query('medication == 0')"
   ]
  },
  {
   "cell_type": "code",
   "execution_count": 12,
   "id": "c2a4745e-19de-4559-bfcf-f2b0dd0715c3",
   "metadata": {},
   "outputs": [
    {
     "data": {
      "text/plain": [
       "-7.362660906141408"
      ]
     },
     "execution_count": 12,
     "metadata": {},
     "output_type": "execute_result"
    }
   ],
   "source": [
    "np.concatenate((d1['recovery'] - d1['match'] - d1['bias_correct'], d0['match'] - d0['recovery'] +  d0['bias_correct'])).mean()"
   ]
  },
  {
   "cell_type": "code",
   "execution_count": 117,
   "id": "97a7a548-5296-448f-9fd2-b62a9fad3be9",
   "metadata": {},
   "outputs": [],
   "source": [
    "d11 = predicted2.query('medication == 1')\n",
    "d00 = predicted2.query('medication == 0')"
   ]
  },
  {
   "cell_type": "code",
   "execution_count": 118,
   "id": "adbc825b-255e-4d23-a658-66d8b63ec0db",
   "metadata": {},
   "outputs": [
    {
     "data": {
      "text/plain": [
       "-7.362660906141408"
      ]
     },
     "execution_count": 118,
     "metadata": {},
     "output_type": "execute_result"
    }
   ],
   "source": [
    "np.concatenate((d11['recovery'] - d11['match'] - d11['bias_correct'], d00['match'] - d00['recovery'] -  d00['bias_correct'])).mean()"
   ]
  },
  {
   "cell_type": "markdown",
   "id": "1f97fdac-2e1f-4f8a-a85d-dcec9e40c786",
   "metadata": {},
   "source": [
    "__bias correction could also be obtained through the doubly robust estimator__"
   ]
  },
  {
   "cell_type": "markdown",
   "id": "25c6defd-bfaf-4f0b-acda-c40b9fb8469e",
   "metadata": {},
   "source": [
    "### Using package"
   ]
  },
  {
   "cell_type": "code",
   "execution_count": 13,
   "id": "58a0633c-6a82-42cf-9a60-02d69a2aef33",
   "metadata": {},
   "outputs": [
    {
     "name": "stdout",
     "output_type": "stream",
     "text": [
      "Requirement already satisfied: causalinference in c:\\users\\josep\\anaconda3\\lib\\site-packages (0.1.3)\n"
     ]
    }
   ],
   "source": [
    "!pip3 install causalinference"
   ]
  },
  {
   "cell_type": "code",
   "execution_count": 14,
   "id": "96d6ef49-bf12-405b-9c9c-4405a13f9d1f",
   "metadata": {},
   "outputs": [
    {
     "name": "stderr",
     "output_type": "stream",
     "text": [
      "C:\\Users\\josep\\anaconda3\\lib\\site-packages\\causalinference\\estimators\\matching.py:100: FutureWarning: `rcond` parameter will change to the default of machine precision times ``max(M, N)`` where M and N are the input matrix dimensions.\n",
      "To use the future default and silence this warning we advise to pass `rcond=None`, to keep using the old, explicitly pass `rcond=-1`.\n",
      "  return np.linalg.lstsq(X, Y)[0][1:]  # don't need intercept coef\n"
     ]
    },
    {
     "name": "stdout",
     "output_type": "stream",
     "text": [
      "\n",
      "Treatment Effect Estimates: Matching\n",
      "\n",
      "                     Est.       S.e.          z      P>|z|      [95% Conf. int.]\n",
      "--------------------------------------------------------------------------------\n",
      "           ATE     -7.709      0.609    -12.649      0.000     -8.903     -6.514\n",
      "           ATC     -6.665      0.246    -27.047      0.000     -7.148     -6.182\n",
      "           ATT     -9.679      1.693     -5.717      0.000    -12.997     -6.361\n",
      "\n"
     ]
    }
   ],
   "source": [
    "from causalinference import CausalModel\n",
    "\n",
    "cm = CausalModel(\n",
    "    Y=med[\"recovery\"].values, \n",
    "    D=med[\"medication\"].values, \n",
    "    X=med[[\"severity\", \"age\", \"sex\"]].values ## recall .values is the same as .to_numpy()\n",
    ")\n",
    "\n",
    "cm.est_via_matching(matches=1, bias_adj=True)\n",
    "\n",
    "print(cm.estimates)"
   ]
  },
  {
   "cell_type": "markdown",
   "id": "cad1e8b7-57f2-4c96-9283-5a42de3b2df9",
   "metadata": {},
   "source": [
    "Here ATE, ATC, and ATT standfor, respectively, average treatment effect, average treatment effect for the controls, and average treatment effect for the treated."
   ]
  },
  {
   "cell_type": "markdown",
   "id": "11348ec5-f0f5-4548-93fb-2c52401790b1",
   "metadata": {},
   "source": [
    "## Propensity score method"
   ]
  },
  {
   "cell_type": "code",
   "execution_count": 17,
   "id": "0f3ec1d6-3170-4e2a-ae2b-bb5f1b8e42e2",
   "metadata": {},
   "outputs": [],
   "source": [
    "model = LogisticRegression(C=1e5).fit(med[[\"severity\", \"age\", \"sex\"]].values, med[\"medication\"].values)"
   ]
  },
  {
   "cell_type": "code",
   "execution_count": 18,
   "id": "f1281a35-c774-4310-8e7b-30b2fb67ea0b",
   "metadata": {},
   "outputs": [],
   "source": [
    "pos = model.predict_proba(med[[\"severity\", \"age\", \"sex\"]].values)[:,1] ## probability of receiving the treatment"
   ]
  },
  {
   "cell_type": "code",
   "execution_count": 19,
   "id": "e18c3353-2e38-4efa-a2e6-ecd3837068b0",
   "metadata": {},
   "outputs": [],
   "source": [
    "med['pos'] = pos\n",
    "med_ori['pos'] = pos"
   ]
  },
  {
   "cell_type": "markdown",
   "id": "2891054f-4443-4a1a-a271-6c5efe8e3615",
   "metadata": {},
   "source": [
    "__We can't use this method since propensity scores are very unbalanced__"
   ]
  },
  {
   "cell_type": "code",
   "execution_count": 20,
   "id": "90b556c4-c658-4e84-a837-23ff8f7c623b",
   "metadata": {},
   "outputs": [
    {
     "data": {
      "image/png": "[encoded data removed]",
      "text/plain": [
       "<Figure size 432x288 with 1 Axes>"
      ]
     },
     "metadata": {
      "needs_background": "light"
     },
     "output_type": "display_data"
    }
   ],
   "source": [
    "sns.histplot(data = med, y='pos',hue='medication');"
   ]
  },
  {
   "cell_type": "code",
   "execution_count": 21,
   "id": "d67f6480-264f-4b9b-baa0-18f555ea421e",
   "metadata": {},
   "outputs": [
    {
     "data": {
      "image/png": "[encoded data removed]",
      "text/plain": [
       "<Figure size 432x288 with 1 Axes>"
      ]
     },
     "metadata": {
      "needs_background": "light"
     },
     "output_type": "display_data"
    }
   ],
   "source": [
    "med_ori['age'] = np.round(med_ori['age'],-1)\n",
    "\n",
    "sns.boxplot(data = med_ori, y='pos',x='age');"
   ]
  },
  {
   "cell_type": "code",
   "execution_count": 22,
   "id": "1200f819-80c9-414c-b569-41fb7c3094d0",
   "metadata": {},
   "outputs": [
    {
     "data": {
      "text/plain": [
       "-2.63643186081017"
      ]
     },
     "execution_count": 22,
     "metadata": {},
     "output_type": "execute_result"
    }
   ],
   "source": [
    "w1 = 1/med.query('medication==1')['pos']\n",
    "w0 = 1/(1-med.query('medication==0')['pos'])\n",
    "## divide by the original sample size!!! (so the counterfactual component is captured to address bias)\n",
    "sum(w1 * med.query('medication==1')['recovery'])/med.shape[0] - \\\n",
    "sum((w0 * med.query('medication==0')['recovery']))/med.shape[0]"
   ]
  },
  {
   "cell_type": "markdown",
   "id": "ae3cd84f-d930-4dbf-824b-fab448e3578f",
   "metadata": {},
   "source": [
    "__Very unbalanced, propensity score will lead to more unbalanceness__\n",
    "\n",
    "see paper\n",
    "https://gking.harvard.edu/publications/why-propensity-scores-should-not-be-used-formatching"
   ]
  },
  {
   "cell_type": "code",
   "execution_count": 23,
   "id": "8e3eea95-700e-45a7-b881-ab8e4f71f34c",
   "metadata": {},
   "outputs": [
    {
     "name": "stdout",
     "output_type": "stream",
     "text": [
      "10051.065813151487 15977.97153917509 20000\n"
     ]
    }
   ],
   "source": [
    "print(sum(w1) ,sum(w0), med.shape[0]) ## they should be approximately equal for propensity score to work properly"
   ]
  },
  {
   "cell_type": "code",
   "execution_count": 24,
   "id": "cbd7a7fa-970e-407b-ba57-9a4c27986c8e",
   "metadata": {},
   "outputs": [
    {
     "data": {
      "text/plain": [
       "-2.6364318608101804"
      ]
     },
     "execution_count": 24,
     "metadata": {},
     "output_type": "execute_result"
    }
   ],
   "source": [
    "weight = ((med[\"medication\"]-med[\"pos\"]) /\n",
    "          (med[\"pos\"]*(1-med[\"pos\"])))\n",
    "np.mean(weight * med[\"recovery\"])"
   ]
  },
  {
   "cell_type": "markdown",
   "id": "20beed67-223f-46e7-8bf5-0c3d7ae18a01",
   "metadata": {},
   "source": [
    "## Doubly Robust Estimators\n",
    "\n",
    "If only one of them is correct, we get similar result as if both were correct, except the bootstrap variance is higher."
   ]
  },
  {
   "cell_type": "code",
   "execution_count": 10,
   "id": "bd5800c6-7838-4db5-9132-e42d303d6a2d",
   "metadata": {},
   "outputs": [
    {
     "data": {
      "text/html": [
       "<div>\n",
       "<style scoped>\n",
       "    .dataframe tbody tr th:only-of-type {\n",
       "        vertical-align: middle;\n",
       "    }\n",
       "\n",
       "    .dataframe tbody tr th {\n",
       "        vertical-align: top;\n",
       "    }\n",
       "\n",
       "    .dataframe thead th {\n",
       "        text-align: right;\n",
       "    }\n",
       "</style>\n",
       "<table border=\"1\" class=\"dataframe\">\n",
       "  <thead>\n",
       "    <tr style=\"text-align: right;\">\n",
       "      <th></th>\n",
       "      <th>schoolid</th>\n",
       "      <th>intervention</th>\n",
       "      <th>achievement_score</th>\n",
       "      <th>success_expect</th>\n",
       "      <th>ethnicity</th>\n",
       "      <th>gender</th>\n",
       "      <th>frst_in_family</th>\n",
       "      <th>school_urbanicity</th>\n",
       "      <th>school_mindset</th>\n",
       "      <th>school_achievement</th>\n",
       "      <th>school_ethnic_minority</th>\n",
       "      <th>school_poverty</th>\n",
       "      <th>school_size</th>\n",
       "    </tr>\n",
       "  </thead>\n",
       "  <tbody>\n",
       "    <tr>\n",
       "      <th>259</th>\n",
       "      <td>73</td>\n",
       "      <td>1</td>\n",
       "      <td>1.480828</td>\n",
       "      <td>5</td>\n",
       "      <td>1</td>\n",
       "      <td>2</td>\n",
       "      <td>0</td>\n",
       "      <td>1</td>\n",
       "      <td>-0.462945</td>\n",
       "      <td>0.652608</td>\n",
       "      <td>-0.515202</td>\n",
       "      <td>-0.169849</td>\n",
       "      <td>0.173954</td>\n",
       "    </tr>\n",
       "    <tr>\n",
       "      <th>3435</th>\n",
       "      <td>76</td>\n",
       "      <td>0</td>\n",
       "      <td>-0.987277</td>\n",
       "      <td>5</td>\n",
       "      <td>13</td>\n",
       "      <td>1</td>\n",
       "      <td>1</td>\n",
       "      <td>4</td>\n",
       "      <td>0.334544</td>\n",
       "      <td>0.648586</td>\n",
       "      <td>-1.310927</td>\n",
       "      <td>0.224077</td>\n",
       "      <td>-0.426757</td>\n",
       "    </tr>\n",
       "    <tr>\n",
       "      <th>9963</th>\n",
       "      <td>4</td>\n",
       "      <td>0</td>\n",
       "      <td>-0.152340</td>\n",
       "      <td>5</td>\n",
       "      <td>2</td>\n",
       "      <td>2</td>\n",
       "      <td>1</td>\n",
       "      <td>0</td>\n",
       "      <td>-2.289636</td>\n",
       "      <td>0.190797</td>\n",
       "      <td>0.875012</td>\n",
       "      <td>-0.724801</td>\n",
       "      <td>0.761781</td>\n",
       "    </tr>\n",
       "    <tr>\n",
       "      <th>4488</th>\n",
       "      <td>67</td>\n",
       "      <td>0</td>\n",
       "      <td>0.358336</td>\n",
       "      <td>6</td>\n",
       "      <td>14</td>\n",
       "      <td>1</td>\n",
       "      <td>0</td>\n",
       "      <td>4</td>\n",
       "      <td>-1.115337</td>\n",
       "      <td>1.053089</td>\n",
       "      <td>0.315755</td>\n",
       "      <td>0.054586</td>\n",
       "      <td>1.862187</td>\n",
       "    </tr>\n",
       "    <tr>\n",
       "      <th>2637</th>\n",
       "      <td>16</td>\n",
       "      <td>1</td>\n",
       "      <td>1.360920</td>\n",
       "      <td>6</td>\n",
       "      <td>4</td>\n",
       "      <td>1</td>\n",
       "      <td>0</td>\n",
       "      <td>1</td>\n",
       "      <td>-0.538975</td>\n",
       "      <td>1.433826</td>\n",
       "      <td>-0.033161</td>\n",
       "      <td>-0.982274</td>\n",
       "      <td>1.591641</td>\n",
       "    </tr>\n",
       "  </tbody>\n",
       "</table>\n",
       "</div>"
      ],
      "text/plain": [
       "      schoolid  intervention  achievement_score  success_expect  ethnicity  \\\n",
       "259         73             1           1.480828               5          1   \n",
       "3435        76             0          -0.987277               5         13   \n",
       "9963         4             0          -0.152340               5          2   \n",
       "4488        67             0           0.358336               6         14   \n",
       "2637        16             1           1.360920               6          4   \n",
       "\n",
       "      gender  frst_in_family  school_urbanicity  school_mindset  \\\n",
       "259        2               0                  1       -0.462945   \n",
       "3435       1               1                  4        0.334544   \n",
       "9963       2               1                  0       -2.289636   \n",
       "4488       1               0                  4       -1.115337   \n",
       "2637       1               0                  1       -0.538975   \n",
       "\n",
       "      school_achievement  school_ethnic_minority  school_poverty  school_size  \n",
       "259             0.652608               -0.515202       -0.169849     0.173954  \n",
       "3435            0.648586               -1.310927        0.224077    -0.426757  \n",
       "9963            0.190797                0.875012       -0.724801     0.761781  \n",
       "4488            1.053089                0.315755        0.054586     1.862187  \n",
       "2637            1.433826               -0.033161       -0.982274     1.591641  "
      ]
     },
     "execution_count": 10,
     "metadata": {},
     "output_type": "execute_result"
    }
   ],
   "source": [
    "data = pd.read_csv(data_path + \"./data/learning_mindset.csv\")\n",
    "data.sample(5, random_state=5)"
   ]
  },
  {
   "cell_type": "code",
   "execution_count": 12,
   "id": "7779fe49-efa7-4538-810e-1ffc20247b99",
   "metadata": {},
   "outputs": [
    {
     "name": "stdout",
     "output_type": "stream",
     "text": [
      "(10391, 32)\n"
     ]
    }
   ],
   "source": [
    "categ = [\"ethnicity\", \"gender\", \"school_urbanicity\"]\n",
    "cont = [\"school_mindset\", \"school_achievement\", \"school_ethnic_minority\", \"school_poverty\", \"school_size\"]\n",
    "\n",
    "data_with_categ = pd.concat([\n",
    "    data.drop(columns=categ), # dataset without the categorical features\n",
    "    pd.get_dummies(data[categ], columns=categ, drop_first=False) # categorical features converted to dummies\n",
    "], axis=1)\n",
    "\n",
    "print(data_with_categ.shape)"
   ]
  },
  {
   "cell_type": "code",
   "execution_count": 27,
   "id": "adc36740-b5d8-4446-9936-ad0809f6b369",
   "metadata": {},
   "outputs": [
    {
     "data": {
      "text/html": [
       "<div>\n",
       "<style scoped>\n",
       "    .dataframe tbody tr th:only-of-type {\n",
       "        vertical-align: middle;\n",
       "    }\n",
       "\n",
       "    .dataframe tbody tr th {\n",
       "        vertical-align: top;\n",
       "    }\n",
       "\n",
       "    .dataframe thead th {\n",
       "        text-align: right;\n",
       "    }\n",
       "</style>\n",
       "<table border=\"1\" class=\"dataframe\">\n",
       "  <thead>\n",
       "    <tr style=\"text-align: right;\">\n",
       "      <th></th>\n",
       "      <th>sex</th>\n",
       "      <th>age</th>\n",
       "      <th>severity</th>\n",
       "      <th>medication</th>\n",
       "      <th>recovery</th>\n",
       "      <th>pos</th>\n",
       "    </tr>\n",
       "  </thead>\n",
       "  <tbody>\n",
       "    <tr>\n",
       "      <th>0</th>\n",
       "      <td>-0.996980</td>\n",
       "      <td>0.280787</td>\n",
       "      <td>1.459800</td>\n",
       "      <td>1</td>\n",
       "      <td>31</td>\n",
       "      <td>0.998795</td>\n",
       "    </tr>\n",
       "    <tr>\n",
       "      <th>1</th>\n",
       "      <td>1.002979</td>\n",
       "      <td>0.865375</td>\n",
       "      <td>1.502164</td>\n",
       "      <td>1</td>\n",
       "      <td>49</td>\n",
       "      <td>0.999985</td>\n",
       "    </tr>\n",
       "    <tr>\n",
       "      <th>7</th>\n",
       "      <td>-0.996980</td>\n",
       "      <td>1.495134</td>\n",
       "      <td>1.268540</td>\n",
       "      <td>1</td>\n",
       "      <td>38</td>\n",
       "      <td>0.993040</td>\n",
       "    </tr>\n",
       "    <tr>\n",
       "      <th>10</th>\n",
       "      <td>1.002979</td>\n",
       "      <td>-0.106534</td>\n",
       "      <td>0.545911</td>\n",
       "      <td>1</td>\n",
       "      <td>34</td>\n",
       "      <td>0.879452</td>\n",
       "    </tr>\n",
       "    <tr>\n",
       "      <th>16</th>\n",
       "      <td>-0.996980</td>\n",
       "      <td>0.043034</td>\n",
       "      <td>1.428732</td>\n",
       "      <td>1</td>\n",
       "      <td>30</td>\n",
       "      <td>0.998367</td>\n",
       "    </tr>\n",
       "    <tr>\n",
       "      <th>...</th>\n",
       "      <td>...</td>\n",
       "      <td>...</td>\n",
       "      <td>...</td>\n",
       "      <td>...</td>\n",
       "      <td>...</td>\n",
       "      <td>...</td>\n",
       "    </tr>\n",
       "    <tr>\n",
       "      <th>19982</th>\n",
       "      <td>1.002979</td>\n",
       "      <td>0.444150</td>\n",
       "      <td>1.667773</td>\n",
       "      <td>1</td>\n",
       "      <td>48</td>\n",
       "      <td>0.999997</td>\n",
       "    </tr>\n",
       "    <tr>\n",
       "      <th>19988</th>\n",
       "      <td>1.002979</td>\n",
       "      <td>-0.736709</td>\n",
       "      <td>0.227483</td>\n",
       "      <td>1</td>\n",
       "      <td>28</td>\n",
       "      <td>0.258804</td>\n",
       "    </tr>\n",
       "    <tr>\n",
       "      <th>19989</th>\n",
       "      <td>1.002979</td>\n",
       "      <td>1.002589</td>\n",
       "      <td>0.326361</td>\n",
       "      <td>1</td>\n",
       "      <td>39</td>\n",
       "      <td>0.489000</td>\n",
       "    </tr>\n",
       "    <tr>\n",
       "      <th>19993</th>\n",
       "      <td>1.002979</td>\n",
       "      <td>1.627845</td>\n",
       "      <td>0.920818</td>\n",
       "      <td>1</td>\n",
       "      <td>49</td>\n",
       "      <td>0.996342</td>\n",
       "    </tr>\n",
       "    <tr>\n",
       "      <th>19995</th>\n",
       "      <td>-0.996980</td>\n",
       "      <td>2.416531</td>\n",
       "      <td>0.635395</td>\n",
       "      <td>1</td>\n",
       "      <td>40</td>\n",
       "      <td>0.270493</td>\n",
       "    </tr>\n",
       "  </tbody>\n",
       "</table>\n",
       "<p>6924 rows × 6 columns</p>\n",
       "</div>"
      ],
      "text/plain": [
       "            sex       age  severity  medication  recovery       pos\n",
       "0     -0.996980  0.280787  1.459800           1        31  0.998795\n",
       "1      1.002979  0.865375  1.502164           1        49  0.999985\n",
       "7     -0.996980  1.495134  1.268540           1        38  0.993040\n",
       "10     1.002979 -0.106534  0.545911           1        34  0.879452\n",
       "16    -0.996980  0.043034  1.428732           1        30  0.998367\n",
       "...         ...       ...       ...         ...       ...       ...\n",
       "19982  1.002979  0.444150  1.667773           1        48  0.999997\n",
       "19988  1.002979 -0.736709  0.227483           1        28  0.258804\n",
       "19989  1.002979  1.002589  0.326361           1        39  0.489000\n",
       "19993  1.002979  1.627845  0.920818           1        49  0.996342\n",
       "19995 -0.996980  2.416531  0.635395           1        40  0.270493\n",
       "\n",
       "[6924 rows x 6 columns]"
      ]
     },
     "execution_count": 27,
     "metadata": {},
     "output_type": "execute_result"
    }
   ],
   "source": [
    "temp_name = 'medication'\n",
    "\n",
    "med.query(f'{temp_name}==1')"
   ]
  },
  {
   "cell_type": "code",
   "execution_count": 26,
   "id": "7a7adefe-562f-43f2-8d22-5963d3250b8c",
   "metadata": {},
   "outputs": [],
   "source": [
    "def doubly_robust(df, X, T, Y, n_runs = 1, bootstrap = False):\n",
    "    out = np.zeros(n_runs)\n",
    "    if bootstrap:\n",
    "        df = df.sample(frac=1,replace=True)\n",
    "    for i in range(n_runs):\n",
    "        ps = LogisticRegression(C=1e6, max_iter=1000).fit(df[X], df[T]).predict_proba(df[X])[:, 1]\n",
    "        mu0 = LinearRegression().fit(df.query(f\"{T}==0\")[X], df.query(f\"{T}==0\")[Y]).predict(df[X])\n",
    "        mu1 = LinearRegression().fit(df.query(f\"{T}==1\")[X], df.query(f\"{T}==1\")[Y]).predict(df[X])\n",
    "        out[i] = np.mean(df[T]*(df[Y] - mu1)/ps + mu1) - np.mean((1-df[T])*(df[Y] - mu0)/(1-ps) + mu0)\n",
    "    return(out)"
   ]
  },
  {
   "cell_type": "code",
   "execution_count": 28,
   "id": "271d180d-e5d0-47d6-bba4-159dcab2c8ea",
   "metadata": {},
   "outputs": [
    {
     "data": {
      "text/plain": [
       "array([0.38820054])"
      ]
     },
     "execution_count": 28,
     "metadata": {},
     "output_type": "execute_result"
    }
   ],
   "source": [
    "T = 'intervention'\n",
    "Y = 'achievement_score'\n",
    "X = data_with_categ.columns.drop(['schoolid', T, Y])\n",
    "\n",
    "doubly_robust(data_with_categ, X, T, Y,1)"
   ]
  },
  {
   "cell_type": "code",
   "execution_count": null,
   "id": "4672b560-8712-496e-a4d5-01757db726a7",
   "metadata": {},
   "outputs": [],
   "source": []
  },
  {
   "cell_type": "code",
   "execution_count": 30,
   "id": "05a22b7f-f190-4777-b30d-49afc3aac3b3",
   "metadata": {},
   "outputs": [],
   "source": [
    "from joblib import Parallel, delayed # for parallel processing\n",
    "\n",
    "np.random.seed(88)\n",
    "# run 1000 bootstrap samples\n",
    "bootstrap_sample = 1000\n",
    "ates = Parallel(n_jobs=4)(delayed(doubly_robust)(data_with_categ.sample(frac=1, replace=True), X, T, Y)\n",
    "                          for _ in range(bootstrap_sample))\n",
    "ates = np.array(ates).reshape(-1)"
   ]
  },
  {
   "cell_type": "code",
   "execution_count": 37,
   "id": "5b634720-826d-4097-9d7c-51d9b864a9bc",
   "metadata": {},
   "outputs": [
    {
     "data": {
      "image/png": "[encoded data removed]",
      "text/plain": [
       "<Figure size 432x288 with 1 Axes>"
      ]
     },
     "metadata": {
      "needs_background": "light"
     },
     "output_type": "display_data"
    }
   ],
   "source": [
    "sns.distplot(ates, kde=False)\n",
    "plt.vlines(np.percentile(ates, 2.5), 0, 20, linestyles=\"dotted\")\n",
    "plt.vlines(np.percentile(ates, 97.5), 0, 20, linestyles=\"dotted\", label=\"95% CI\")\n",
    "plt.title(\"ATE Bootstrap Distribution\")\n",
    "plt.legend();"
   ]
  },
  {
   "cell_type": "markdown",
   "id": "920dc027-95b3-43ef-8284-dc2726d5c678",
   "metadata": {},
   "source": [
    "## Example where Propensity score works"
   ]
  },
  {
   "cell_type": "code",
   "execution_count": 4,
   "id": "451c95a5-05aa-48da-b766-c582b95f6407",
   "metadata": {},
   "outputs": [
    {
     "data": {
      "text/html": [
       "<div>\n",
       "<style scoped>\n",
       "    .dataframe tbody tr th:only-of-type {\n",
       "        vertical-align: middle;\n",
       "    }\n",
       "\n",
       "    .dataframe tbody tr th {\n",
       "        vertical-align: top;\n",
       "    }\n",
       "\n",
       "    .dataframe thead th {\n",
       "        text-align: right;\n",
       "    }\n",
       "</style>\n",
       "<table border=\"1\" class=\"dataframe\">\n",
       "  <thead>\n",
       "    <tr style=\"text-align: right;\">\n",
       "      <th></th>\n",
       "      <th>schoolid</th>\n",
       "      <th>intervention</th>\n",
       "      <th>achievement_score</th>\n",
       "      <th>success_expect</th>\n",
       "      <th>ethnicity</th>\n",
       "      <th>gender</th>\n",
       "      <th>frst_in_family</th>\n",
       "      <th>school_urbanicity</th>\n",
       "      <th>school_mindset</th>\n",
       "      <th>school_achievement</th>\n",
       "      <th>school_ethnic_minority</th>\n",
       "      <th>school_poverty</th>\n",
       "      <th>school_size</th>\n",
       "    </tr>\n",
       "  </thead>\n",
       "  <tbody>\n",
       "    <tr>\n",
       "      <th>259</th>\n",
       "      <td>73</td>\n",
       "      <td>1</td>\n",
       "      <td>1.480828</td>\n",
       "      <td>5</td>\n",
       "      <td>1</td>\n",
       "      <td>2</td>\n",
       "      <td>0</td>\n",
       "      <td>1</td>\n",
       "      <td>-0.462945</td>\n",
       "      <td>0.652608</td>\n",
       "      <td>-0.515202</td>\n",
       "      <td>-0.169849</td>\n",
       "      <td>0.173954</td>\n",
       "    </tr>\n",
       "    <tr>\n",
       "      <th>3435</th>\n",
       "      <td>76</td>\n",
       "      <td>0</td>\n",
       "      <td>-0.987277</td>\n",
       "      <td>5</td>\n",
       "      <td>13</td>\n",
       "      <td>1</td>\n",
       "      <td>1</td>\n",
       "      <td>4</td>\n",
       "      <td>0.334544</td>\n",
       "      <td>0.648586</td>\n",
       "      <td>-1.310927</td>\n",
       "      <td>0.224077</td>\n",
       "      <td>-0.426757</td>\n",
       "    </tr>\n",
       "    <tr>\n",
       "      <th>9963</th>\n",
       "      <td>4</td>\n",
       "      <td>0</td>\n",
       "      <td>-0.152340</td>\n",
       "      <td>5</td>\n",
       "      <td>2</td>\n",
       "      <td>2</td>\n",
       "      <td>1</td>\n",
       "      <td>0</td>\n",
       "      <td>-2.289636</td>\n",
       "      <td>0.190797</td>\n",
       "      <td>0.875012</td>\n",
       "      <td>-0.724801</td>\n",
       "      <td>0.761781</td>\n",
       "    </tr>\n",
       "    <tr>\n",
       "      <th>4488</th>\n",
       "      <td>67</td>\n",
       "      <td>0</td>\n",
       "      <td>0.358336</td>\n",
       "      <td>6</td>\n",
       "      <td>14</td>\n",
       "      <td>1</td>\n",
       "      <td>0</td>\n",
       "      <td>4</td>\n",
       "      <td>-1.115337</td>\n",
       "      <td>1.053089</td>\n",
       "      <td>0.315755</td>\n",
       "      <td>0.054586</td>\n",
       "      <td>1.862187</td>\n",
       "    </tr>\n",
       "    <tr>\n",
       "      <th>2637</th>\n",
       "      <td>16</td>\n",
       "      <td>1</td>\n",
       "      <td>1.360920</td>\n",
       "      <td>6</td>\n",
       "      <td>4</td>\n",
       "      <td>1</td>\n",
       "      <td>0</td>\n",
       "      <td>1</td>\n",
       "      <td>-0.538975</td>\n",
       "      <td>1.433826</td>\n",
       "      <td>-0.033161</td>\n",
       "      <td>-0.982274</td>\n",
       "      <td>1.591641</td>\n",
       "    </tr>\n",
       "  </tbody>\n",
       "</table>\n",
       "</div>"
      ],
      "text/plain": [
       "      schoolid  intervention  achievement_score  success_expect  ethnicity  \\\n",
       "259         73             1           1.480828               5          1   \n",
       "3435        76             0          -0.987277               5         13   \n",
       "9963         4             0          -0.152340               5          2   \n",
       "4488        67             0           0.358336               6         14   \n",
       "2637        16             1           1.360920               6          4   \n",
       "\n",
       "      gender  frst_in_family  school_urbanicity  school_mindset  \\\n",
       "259        2               0                  1       -0.462945   \n",
       "3435       1               1                  4        0.334544   \n",
       "9963       2               1                  0       -2.289636   \n",
       "4488       1               0                  4       -1.115337   \n",
       "2637       1               0                  1       -0.538975   \n",
       "\n",
       "      school_achievement  school_ethnic_minority  school_poverty  school_size  \n",
       "259             0.652608               -0.515202       -0.169849     0.173954  \n",
       "3435            0.648586               -1.310927        0.224077    -0.426757  \n",
       "9963            0.190797                0.875012       -0.724801     0.761781  \n",
       "4488            1.053089                0.315755        0.054586     1.862187  \n",
       "2637            1.433826               -0.033161       -0.982274     1.591641  "
      ]
     },
     "execution_count": 4,
     "metadata": {},
     "output_type": "execute_result"
    }
   ],
   "source": [
    "data = pd.read_csv(data_path + \"./data/learning_mindset.csv\")\n",
    "data.sample(5, random_state=5)"
   ]
  },
  {
   "cell_type": "code",
   "execution_count": 5,
   "id": "1da1c685-7424-4b1f-a8f2-141d44da4236",
   "metadata": {},
   "outputs": [
    {
     "data": {
      "text/plain": [
       "intervention\n",
       "0    7007\n",
       "1    3384\n",
       "dtype: int64"
      ]
     },
     "execution_count": 5,
     "metadata": {},
     "output_type": "execute_result"
    }
   ],
   "source": [
    "data.groupby('intervention').size()"
   ]
  },
  {
   "cell_type": "markdown",
   "id": "3a5a0c35-d047-4a74-9dbb-6aa762b99e93",
   "metadata": {},
   "source": [
    "__counfounding variable__: obviously, students have higher expectation will visit the seminar"
   ]
  },
  {
   "cell_type": "code",
   "execution_count": 14,
   "id": "5d97a2f1-cba8-448c-af9c-f0303094b49a",
   "metadata": {},
   "outputs": [
    {
     "data": {
      "text/plain": [
       "success_expect\n",
       "1    0.271739\n",
       "2    0.265957\n",
       "3    0.294118\n",
       "4    0.271617\n",
       "5    0.311070\n",
       "6    0.354287\n",
       "7    0.362319\n",
       "Name: intervention, dtype: float64"
      ]
     },
     "execution_count": 14,
     "metadata": {},
     "output_type": "execute_result"
    }
   ],
   "source": [
    "data.groupby(\"success_expect\")[\"intervention\"].mean()"
   ]
  },
  {
   "cell_type": "code",
   "execution_count": 13,
   "id": "6fef79be-c10b-4704-928e-bebf6e915263",
   "metadata": {},
   "outputs": [
    {
     "data": {
      "text/plain": [
       "intervention\n",
       "0   -0.153803\n",
       "1    0.318469\n",
       "Name: achievement_score, dtype: float64"
      ]
     },
     "execution_count": 13,
     "metadata": {},
     "output_type": "execute_result"
    }
   ],
   "source": [
    "data.groupby(\"intervention\")[\"achievement_score\"].mean()"
   ]
  },
  {
   "cell_type": "markdown",
   "id": "4da6b869-28c0-42e9-acbb-16169dffaa7c",
   "metadata": {},
   "source": [
    "__difference of Standardized variable is deviation__:\n",
    "\n",
    "For example normal distribution of 1.96 and 0 and 2 std deviation."
   ]
  },
  {
   "cell_type": "code",
   "execution_count": 15,
   "id": "35c8e897-3571-4f00-99f0-42780bf1fc1e",
   "metadata": {},
   "outputs": [
    {
     "data": {
      "text/plain": [
       "count    1.039100e+04\n",
       "mean     1.324073e-16\n",
       "std      1.000000e+00\n",
       "min     -3.111431e+00\n",
       "25%     -7.033152e-01\n",
       "50%     -3.449486e-02\n",
       "75%      6.724723e-01\n",
       "max      3.563639e+00\n",
       "Name: achievement_score, dtype: float64"
      ]
     },
     "execution_count": 15,
     "metadata": {},
     "output_type": "execute_result"
    }
   ],
   "source": [
    "data['achievement_score'].describe() ## the score is standardized"
   ]
  },
  {
   "cell_type": "code",
   "execution_count": 17,
   "id": "f723247b-a07a-4f52-8f06-624844919ad6",
   "metadata": {},
   "outputs": [
    {
     "data": {
      "text/plain": [
       "<AxesSubplot:xlabel='achievement_score', ylabel='Count'>"
      ]
     },
     "execution_count": 17,
     "metadata": {},
     "output_type": "execute_result"
    },
    {
     "data": {
      "image/png": "[encoded data removed]",
      "text/plain": [
       "<Figure size 432x288 with 1 Axes>"
      ]
     },
     "metadata": {
      "needs_background": "light"
     },
     "output_type": "display_data"
    }
   ],
   "source": [
    "sns.histplot(data['achievement_score'])"
   ]
  },
  {
   "cell_type": "code",
   "execution_count": 59,
   "id": "e0896d61-cfe6-4639-b672-636701d9b341",
   "metadata": {},
   "outputs": [
    {
     "data": {
      "text/html": [
       "<table class=\"simpletable\">\n",
       "<tr>\n",
       "        <td></td>          <th>coef</th>     <th>std err</th>      <th>t</th>      <th>P>|t|</th>  <th>[0.025</th>    <th>0.975]</th>  \n",
       "</tr>\n",
       "<tr>\n",
       "  <th>Intercept</th>    <td>   -0.1538</td> <td>    0.012</td> <td>  -13.201</td> <td> 0.000</td> <td>   -0.177</td> <td>   -0.131</td>\n",
       "</tr>\n",
       "<tr>\n",
       "  <th>intervention</th> <td>    0.4723</td> <td>    0.020</td> <td>   23.133</td> <td> 0.000</td> <td>    0.432</td> <td>    0.512</td>\n",
       "</tr>\n",
       "</table>"
      ],
      "text/plain": [
       "<class 'statsmodels.iolib.table.SimpleTable'>"
      ]
     },
     "execution_count": 59,
     "metadata": {},
     "output_type": "execute_result"
    }
   ],
   "source": [
    "import statsmodels.formula.api as smf\n",
    "smf.ols(\"achievement_score ~ (intervention)\", data=data).fit().summary().tables[1]"
   ]
  },
  {
   "cell_type": "code",
   "execution_count": 94,
   "id": "be5d4178-393e-4716-a9d5-ea7d6f4aaf7f",
   "metadata": {},
   "outputs": [],
   "source": [
    "n = 10000\n",
    "mask = np.random.choice(2,size=n)\n",
    "y = TE * mask + np.random.normal(size = n)\n",
    "xy_df = pd.DataFrame({\"y\":y,\"x\":mask})"
   ]
  },
  {
   "cell_type": "code",
   "execution_count": 95,
   "id": "8f378a6f-c003-4028-84c3-dad70e594814",
   "metadata": {},
   "outputs": [
    {
     "data": {
      "text/html": [
       "<table class=\"simpletable\">\n",
       "<tr>\n",
       "      <td></td>         <th>coef</th>     <th>std err</th>      <th>t</th>      <th>P>|t|</th>  <th>[0.025</th>    <th>0.975]</th>  \n",
       "</tr>\n",
       "<tr>\n",
       "  <th>Intercept</th> <td>   -0.0182</td> <td>    0.014</td> <td>   -1.275</td> <td> 0.202</td> <td>   -0.046</td> <td>    0.010</td>\n",
       "</tr>\n",
       "<tr>\n",
       "  <th>x</th>         <td>    5.0256</td> <td>    0.020</td> <td>  248.908</td> <td> 0.000</td> <td>    4.986</td> <td>    5.065</td>\n",
       "</tr>\n",
       "</table>"
      ],
      "text/plain": [
       "<class 'statsmodels.iolib.table.SimpleTable'>"
      ]
     },
     "execution_count": 95,
     "metadata": {},
     "output_type": "execute_result"
    }
   ],
   "source": [
    "smf.ols('y~x',data = xy_df).fit().summary().tables[1]"
   ]
  },
  {
   "cell_type": "code",
   "execution_count": 101,
   "id": "511835e2-b908-407a-97fb-4df5aca2ac73",
   "metadata": {},
   "outputs": [
    {
     "data": {
      "text/plain": [
       "5.025587889019991"
      ]
     },
     "execution_count": 101,
     "metadata": {},
     "output_type": "execute_result"
    }
   ],
   "source": [
    "np.mean(xy_df.query('x==1')['y']) - np.mean(xy_df.query('x==0')['y'])"
   ]
  },
  {
   "cell_type": "code",
   "execution_count": 96,
   "id": "e51921a6-c7a4-48ca-9d2c-9022825ca770",
   "metadata": {},
   "outputs": [],
   "source": [
    "xy_df = xy_df.assign(y_sd = lambda x: (x['y'] - x['y'].mean())/x['y'].std())"
   ]
  },
  {
   "cell_type": "code",
   "execution_count": 97,
   "id": "ae1c1940-2bbe-42c8-8cc4-ce4fecec9c26",
   "metadata": {},
   "outputs": [
    {
     "data": {
      "text/html": [
       "<table class=\"simpletable\">\n",
       "<tr>\n",
       "      <td></td>         <th>coef</th>     <th>std err</th>      <th>t</th>      <th>P>|t|</th>  <th>[0.025</th>    <th>0.975]</th>  \n",
       "</tr>\n",
       "<tr>\n",
       "  <th>Intercept</th> <td>   -0.9299</td> <td>    0.005</td> <td> -176.198</td> <td> 0.000</td> <td>   -0.940</td> <td>   -0.920</td>\n",
       "</tr>\n",
       "<tr>\n",
       "  <th>x</th>         <td>    1.8558</td> <td>    0.007</td> <td>  248.908</td> <td> 0.000</td> <td>    1.841</td> <td>    1.870</td>\n",
       "</tr>\n",
       "</table>"
      ],
      "text/plain": [
       "<class 'statsmodels.iolib.table.SimpleTable'>"
      ]
     },
     "execution_count": 97,
     "metadata": {},
     "output_type": "execute_result"
    }
   ],
   "source": [
    "smf.ols('y_sd~x',data = xy_df).fit().summary().tables[1]"
   ]
  },
  {
   "cell_type": "code",
   "execution_count": 100,
   "id": "bf72c097-a76b-470b-946f-70adaf29c7c8",
   "metadata": {},
   "outputs": [
    {
     "data": {
      "text/plain": [
       "1.8557654512264934"
      ]
     },
     "execution_count": 100,
     "metadata": {},
     "output_type": "execute_result"
    }
   ],
   "source": [
    "np.mean(xy_df.query('x==1')['y_sd']) - np.mean(xy_df.query('x==0')['y_sd'])"
   ]
  },
  {
   "cell_type": "markdown",
   "id": "7710e870-75ad-4428-85a3-0b2e6532b555",
   "metadata": {},
   "source": [
    "# DID\n",
    "\n",
    "In order to figure out how good billboards were as a marketing channel, we placed 3 billboards in the city of Porto Alegre, the capital of the state of Rio Grande do Sul. We wanted to see if that boosted deposits into our savings account. As a note for those not very familiar with Brazilian geography, Rio Grande do Sul is part of the south of the country, one of the most developed regions.\n",
    "\n",
    "Having this in mind, we decided to also look at data from another capital from the south, Florianopolis, the capital city of the state of Santa Catarina. The idea is that we could use Florianopolis as a control sample to estimate the counterfactual  when compared to Porto Alegre. We placed the billboard in Porto Alegre for the entire month of June. \n",
    "\n",
    "Remember that deposits are our outcome variable, the one we wish to increase with the billboards. POA is a dummy indicator for the city of Porto Alegre. When it is zero, it means the samples are from Florianopolis. Jul is a dummy for the month of July, or for the post intervention period. When it is zero it refers to samples from May, the pre-intervention period."
   ]
  },
  {
   "cell_type": "code",
   "execution_count": 17,
   "id": "cef26994-0403-4e76-98b6-ad6f865ff273",
   "metadata": {},
   "outputs": [
    {
     "data": {
      "text/plain": [
       "'../../Python_Scripts/python-causality-handbook/causal-inference-for-the-brave-and-true/'"
      ]
     },
     "execution_count": 17,
     "metadata": {},
     "output_type": "execute_result"
    }
   ],
   "source": [
    "data_path"
   ]
  },
  {
   "cell_type": "code",
   "execution_count": 30,
   "id": "13387dd3-51cd-437a-8e2a-33026921d74e",
   "metadata": {},
   "outputs": [
    {
     "data": {
      "text/html": [
       "<div>\n",
       "<style scoped>\n",
       "    .dataframe tbody tr th:only-of-type {\n",
       "        vertical-align: middle;\n",
       "    }\n",
       "\n",
       "    .dataframe tbody tr th {\n",
       "        vertical-align: top;\n",
       "    }\n",
       "\n",
       "    .dataframe thead th {\n",
       "        text-align: right;\n",
       "    }\n",
       "</style>\n",
       "<table border=\"1\" class=\"dataframe\">\n",
       "  <thead>\n",
       "    <tr style=\"text-align: right;\">\n",
       "      <th></th>\n",
       "      <th>deposits</th>\n",
       "      <th>poa</th>\n",
       "      <th>jul</th>\n",
       "    </tr>\n",
       "  </thead>\n",
       "  <tbody>\n",
       "    <tr>\n",
       "      <th>0</th>\n",
       "      <td>42</td>\n",
       "      <td>1</td>\n",
       "      <td>0</td>\n",
       "    </tr>\n",
       "    <tr>\n",
       "      <th>1</th>\n",
       "      <td>0</td>\n",
       "      <td>1</td>\n",
       "      <td>0</td>\n",
       "    </tr>\n",
       "    <tr>\n",
       "      <th>2</th>\n",
       "      <td>52</td>\n",
       "      <td>1</td>\n",
       "      <td>0</td>\n",
       "    </tr>\n",
       "    <tr>\n",
       "      <th>3</th>\n",
       "      <td>119</td>\n",
       "      <td>1</td>\n",
       "      <td>0</td>\n",
       "    </tr>\n",
       "    <tr>\n",
       "      <th>4</th>\n",
       "      <td>21</td>\n",
       "      <td>1</td>\n",
       "      <td>0</td>\n",
       "    </tr>\n",
       "  </tbody>\n",
       "</table>\n",
       "</div>"
      ],
      "text/plain": [
       "   deposits  poa  jul\n",
       "0        42    1    0\n",
       "1         0    1    0\n",
       "2        52    1    0\n",
       "3       119    1    0\n",
       "4        21    1    0"
      ]
     },
     "execution_count": 30,
     "metadata": {},
     "output_type": "execute_result"
    }
   ],
   "source": [
    "data = pd.read_csv(data_path + \"data/billboard_impact.csv\")\n",
    "data.head()"
   ]
  },
  {
   "cell_type": "markdown",
   "id": "a83347c9-8790-4c36-acd1-2293afcebdd9",
   "metadata": {},
   "source": [
    "$DID = (Y_{t,1} - Y_{c,1}) - (Y_{t,0} - Y_{c,0}) $"
   ]
  },
  {
   "cell_type": "code",
   "execution_count": 32,
   "id": "913516bd-20c2-48b8-82c9-6051abe8038e",
   "metadata": {},
   "outputs": [
    {
     "data": {
      "text/plain": [
       "6.524557692307695"
      ]
     },
     "execution_count": 32,
     "metadata": {},
     "output_type": "execute_result"
    }
   ],
   "source": [
    "DID = (data.query('poa == 1 and jul ==1')['deposits'].mean() - data.query('poa == 0 and jul ==1')['deposits'].mean()) -\\\n",
    "       (data.query('poa == 1 and jul ==0')['deposits'].mean() - data.query('poa == 0 and jul ==0')['deposits'].mean())\n",
    "DID"
   ]
  },
  {
   "cell_type": "code",
   "execution_count": 34,
   "id": "3bb745d7-5449-40da-8d0e-99b8baa3471a",
   "metadata": {},
   "outputs": [
    {
     "data": {
      "text/plain": [
       "6.524557692307688"
      ]
     },
     "execution_count": 34,
     "metadata": {},
     "output_type": "execute_result"
    }
   ],
   "source": [
    "poa_before = data.query(\"poa==1 & jul==0\")[\"deposits\"].mean()\n",
    "\n",
    "poa_after = data.query(\"poa==1 & jul==1\")[\"deposits\"].mean()\n",
    "\n",
    "fl_after = data.query(\"poa==0 & jul==1\")[\"deposits\"].mean()\n",
    "\n",
    "fl_before = data.query(\"poa==0 & jul==0\")[\"deposits\"].mean()\n",
    "\n",
    "diff_in_diff = (poa_after-poa_before)-(fl_after-fl_before)\n",
    "diff_in_diff"
   ]
  },
  {
   "cell_type": "code",
   "execution_count": 36,
   "id": "053ec066-78db-4385-8ae2-99ab47f7792a",
   "metadata": {},
   "outputs": [
    {
     "data": {
      "text/plain": [
       "6.524557692307695"
      ]
     },
     "execution_count": 36,
     "metadata": {},
     "output_type": "execute_result"
    }
   ],
   "source": [
    "(poa_after-fl_after)-(poa_before-fl_before)"
   ]
  },
  {
   "cell_type": "markdown",
   "id": "bc5e3048-1b2e-4fba-94cf-6504f6c155cc",
   "metadata": {},
   "source": [
    "__Very small treatment effect: $6.52/customer increase by setting up the bill boards__"
   ]
  },
  {
   "cell_type": "code",
   "execution_count": 15,
   "id": "cb1b680e-cfaf-4c28-8dfe-a81ec10255f1",
   "metadata": {},
   "outputs": [
    {
     "data": {
      "image/png": "[encoded data removed]",
      "text/plain": [
       "<Figure size 720x360 with 1 Axes>"
      ]
     },
     "metadata": {
      "needs_background": "light"
     },
     "output_type": "display_data"
    }
   ],
   "source": [
    "plt.figure(figsize=(10,5))\n",
    "plt.plot([\"May\", \"Jul\"], [fl_before, fl_after], label=\"FL\", lw=2)\n",
    "plt.plot([\"May\", \"Jul\"], [poa_before, poa_after], label=\"POA\", lw=2)\n",
    "\n",
    "plt.plot([\"May\", \"Jul\"], [poa_before, poa_before+(fl_after-fl_before)],\n",
    "         label=\"Counterfactual\", lw=2, color=\"C2\", ls=\"-.\")\n",
    "\n",
    "plt.legend();"
   ]
  },
  {
   "cell_type": "markdown",
   "id": "e3eeee68-70c7-4a4d-bf72-b98badfdf996",
   "metadata": {},
   "source": [
    "__regression with the interaction gives the same effect__"
   ]
  },
  {
   "cell_type": "markdown",
   "id": "9fa1dcaf-110f-4d37-808e-4b3fd0544536",
   "metadata": {},
   "source": [
    "$\n",
    "Y_i = \\beta_0 + \\beta_1 POA_i + \\beta_2 Jul_i + \\beta_3 POA_i*Jul_i + e_i\n",
    "$"
   ]
  },
  {
   "cell_type": "markdown",
   "id": "bfeea0cf-0a63-4611-8e9b-1cdecbd2e580",
   "metadata": {},
   "source": [
    "__Notice that $\\beta_0$ is the baseline of the control. In our case, is the level of deposits in Florianopolis in the month of May. If we turn on the treated city dummy, we get $\\beta_1$. So $\\beta_0 + \\beta_1$ is the baseline of Porto Alegre in May, before the intervention, and $\\beta_1$ is the increase of Porto Alegre baseline on top of Florianopolis. If we turn the POA dummy off and turn the July dummy on, we get $\\beta_0 + \\beta_2$, which is the level of Florianópolis in July, after the intervention period. $\\beta_2$ is then the trend of the control, since we add it on top of the baseline to get the level of the control at the period post intervention. As a recap, $\\beta_1$ is the increment we get by going from the control to the treated, $\\beta_2$ is the increment we get by going from the period before to the period after the intervention. Finally, if we turn both dummies on, we get $\\beta_3$. $\\beta_0 + \\beta_1 + \\beta_2 + \\beta_3$ is the level in Porto Alegre after the intervention. So $\\beta_3$ is the incremental impact when you go from May to July and from Florianopolis to POA. In other words, it is the Difference in Difference estimator.__"
   ]
  },
  {
   "cell_type": "code",
   "execution_count": 16,
   "id": "e747d9c1-d13f-4c5e-a3ad-14f42f3a891e",
   "metadata": {},
   "outputs": [
    {
     "data": {
      "text/html": [
       "<table class=\"simpletable\">\n",
       "<tr>\n",
       "      <td></td>         <th>coef</th>     <th>std err</th>      <th>t</th>      <th>P>|t|</th>  <th>[0.025</th>    <th>0.975]</th>  \n",
       "</tr>\n",
       "<tr>\n",
       "  <th>Intercept</th> <td>  171.6423</td> <td>    2.363</td> <td>   72.625</td> <td> 0.000</td> <td>  167.009</td> <td>  176.276</td>\n",
       "</tr>\n",
       "<tr>\n",
       "  <th>poa</th>       <td> -125.6263</td> <td>    4.484</td> <td>  -28.015</td> <td> 0.000</td> <td> -134.418</td> <td> -116.835</td>\n",
       "</tr>\n",
       "<tr>\n",
       "  <th>jul</th>       <td>   34.5232</td> <td>    3.036</td> <td>   11.372</td> <td> 0.000</td> <td>   28.571</td> <td>   40.475</td>\n",
       "</tr>\n",
       "<tr>\n",
       "  <th>poa:jul</th>   <td>    6.5246</td> <td>    5.729</td> <td>    1.139</td> <td> 0.255</td> <td>   -4.706</td> <td>   17.755</td>\n",
       "</tr>\n",
       "</table>"
      ],
      "text/plain": [
       "<class 'statsmodels.iolib.table.SimpleTable'>"
      ]
     },
     "execution_count": 16,
     "metadata": {},
     "output_type": "execute_result"
    }
   ],
   "source": [
    "import statsmodels.formula.api as smf\n",
    "smf.ols('deposits ~ poa*jul', data=data).fit().summary().tables[1]"
   ]
  },
  {
   "cell_type": "markdown",
   "id": "58323d90-580d-44cd-afcd-23012e7151be",
   "metadata": {},
   "source": [
    "## Non Parallel Trends\n",
    "\n",
    "One obvious problem with Diff-in-Diff is failure to satisfy the parallel trend assumption. If the growth trend from the treated is different from the trend of the control, diff-in-diff will be biased. This is a common problem with non-random data, where the decision to treat a region is based on its potential to respond well to the treatment, or when the treatment is targeted at regions that are not performing very well. Take our marketing example. We decided to test billboards in Porto Alegre not in order to check the effect of billboards in general. __The reason is simply because sales perform poorly there. Perhaps online marketing is not working there. In this case, it could be that the growth we would see in Porto Alegre without a billboard would be lower than the growth we observe in other cities. This would cause us to underestimate the effect of the billboard there.__\n",
    "\n",
    "__One way to check if this is happening is to plot the trend using past periods before the intervention (billboard).__ For example, let's suppose POA had a small decreasing trend but Florianopolis was on a steep ascent. In this case, showing periods from before would reveal those trends and we would know Diff-in-Diff is not a reliable estimator."
   ]
  },
  {
   "cell_type": "code",
   "execution_count": 18,
   "id": "b74a1b87-9af4-4ebd-9bd6-f2e2ed362051",
   "metadata": {
    "tags": [
     "hide-input"
    ]
   },
   "outputs": [
    {
     "data": {
      "image/png": "[encoded data removed]",
      "text/plain": [
       "<Figure size 720x360 with 1 Axes>"
      ]
     },
     "metadata": {
      "needs_background": "light"
     },
     "output_type": "display_data"
    }
   ],
   "source": [
    "plt.figure(figsize=(10,5))\n",
    "x = [\"Jan\", \"Mar\", \"May\", \"Jul\"]\n",
    "\n",
    "plt.plot(x, [120, 150, fl_before,  fl_after], label=\"FL\", lw=2)\n",
    "plt.plot(x, [60, 50, poa_before, poa_after], label=\"POA\", lw=2)\n",
    "\n",
    "plt.plot([\"May\", \"Jul\"], [poa_before, poa_before+(fl_after-fl_before)], label=\"Counterfactual\", lw=2, color=\"C2\", ls=\"-.\")\n",
    "\n",
    "plt.legend();"
   ]
  },
  {
   "cell_type": "markdown",
   "id": "ae8ff92a-8006-46be-a544-5c0f60aea877",
   "metadata": {
    "tags": []
   },
   "source": [
    "__We will see how to solve this problem with synthetic control. It will use multiple cities to create a synthetic city that closely follows the trend of the city of interest. But for now, remember that you always need to check if you have parallel trends when applying diff-in-diff.__\n",
    "\n",
    "One final issue that it's worth mentioning is that you won't be able to place confidence intervals around your Diff-in-Diff estimator if you only have aggregated data. Say for instance you don't have data on what each of our customers from Florianópolis or Porto Alegre did. Instead, you only have the average deposits before and after the intervention for both cities. In this case, you will still be able to estimate the causal effect by Diff-in-Diff, but you won't know the variance of it. That's because all the variability in your data got squashed out in aggregation.\n",
    "\n",
    "__Recall in the data above in which we have data on each customer, we could estimate the CI__\n",
    "\n"
   ]
  },
  {
   "cell_type": "markdown",
   "id": "483f945f-8db0-4a0e-a8f3-65565f62f2b5",
   "metadata": {
    "tags": []
   },
   "source": [
    "## Synthetic control"
   ]
  },
  {
   "cell_type": "markdown",
   "id": "7b1d064c-cf6f-4889-b040-4e12138e6cb9",
   "metadata": {},
   "source": [
    "__One Amazing Math Trick to Learn What can’t be Known__\n",
    "\n",
    "When we looked at difference-in-difference, we had data on multiple customers from 2 different cities: Porto Alegre and Florianopolis. The data span 2 different time periods: before and after a marketing intervention was done in Porto Alegre to boost customer deposits. To estimate the treatment effect, we ran a regression that gave us the difference-in-difference estimator and its standard error. \n",
    "\n",
    "For that case, we had a lot of samples, because data was disaggregated. But what if all we have is aggregated data on the city level? For instance, let's pretend all we have is the average level of deposits in both cities before and after the intervention.\n",
    "\n",
    "|city|before|after|\n",
    "|--|--|--|\n",
    "|FL|171.64|206.16|\n",
    "|POA|46.01|87.06|\n",
    "\n",
    "We would still be able to compute the Diff-in-Diff estimator \n",
    "\n",
    "$\n",
    "(E[Y(1)|D=1] - E[Y(1)|D=0]) - (E[Y(0)|D=1] - E[Y(0)|D=0]) = (87.06 - 206.16) - (46.01 - 171.64) = 6.53\n",
    "$\n",
    "\n",
    "__However, note that the sample size here is 4, which is also the number of parameters in our Diff-in-Diff models. In this case, the standard error is not well defined, so what should we do? Another problem is that Florianopolis might not be as similar to Porto Alegre as we would want to.__ For instance, Florianopolis is known for its beautiful beaches and easy going people while Porto Alegre is more famous for its barbecue and prairies. The problem here is that you can't ever know for sure if you are using an appropriate control group.\n",
    "\n",
    "To work around this, we will use what is known as [**\"the most important innovation in the policy evaluation literature in the last few years\"**](https://www.aeaweb.org/articles?id=10.1257/jep.31.2.3), Synthetic Controls. It is based on a simple, yet powerful idea. We don't need to find any single unit in the untreated that is very similar to the treated. Instead, we can forge our own as a combination of multiple untreated units, creating what is effectively a synthetic control. Synthetic control is so effective yet so intuitive that it even got an article published, not on a scientific journal, but on the [Washington Post](https://www.washingtonpost.com/news/wonk/wp/2015/10/30/how-to-measure-things-in-a-world-of-competing-claims/)."
   ]
  },
  {
   "cell_type": "code",
   "execution_count": 31,
   "id": "801fe5ba-6071-4998-9ec8-4dd45fedf279",
   "metadata": {},
   "outputs": [
    {
     "data": {
      "text/html": [
       "<div>\n",
       "<style scoped>\n",
       "    .dataframe tbody tr th:only-of-type {\n",
       "        vertical-align: middle;\n",
       "    }\n",
       "\n",
       "    .dataframe tbody tr th {\n",
       "        vertical-align: top;\n",
       "    }\n",
       "\n",
       "    .dataframe thead th {\n",
       "        text-align: right;\n",
       "    }\n",
       "</style>\n",
       "<table border=\"1\" class=\"dataframe\">\n",
       "  <thead>\n",
       "    <tr style=\"text-align: right;\">\n",
       "      <th></th>\n",
       "      <th>state</th>\n",
       "      <th>year</th>\n",
       "      <th>cigsale</th>\n",
       "      <th>retprice</th>\n",
       "      <th>california</th>\n",
       "      <th>after_treatment</th>\n",
       "    </tr>\n",
       "  </thead>\n",
       "  <tbody>\n",
       "    <tr>\n",
       "      <th>62</th>\n",
       "      <td>3</td>\n",
       "      <td>1970</td>\n",
       "      <td>123.000000</td>\n",
       "      <td>38.799999</td>\n",
       "      <td>True</td>\n",
       "      <td>False</td>\n",
       "    </tr>\n",
       "    <tr>\n",
       "      <th>63</th>\n",
       "      <td>3</td>\n",
       "      <td>1971</td>\n",
       "      <td>121.000000</td>\n",
       "      <td>39.700001</td>\n",
       "      <td>True</td>\n",
       "      <td>False</td>\n",
       "    </tr>\n",
       "    <tr>\n",
       "      <th>64</th>\n",
       "      <td>3</td>\n",
       "      <td>1972</td>\n",
       "      <td>123.500000</td>\n",
       "      <td>39.900002</td>\n",
       "      <td>True</td>\n",
       "      <td>False</td>\n",
       "    </tr>\n",
       "    <tr>\n",
       "      <th>65</th>\n",
       "      <td>3</td>\n",
       "      <td>1973</td>\n",
       "      <td>124.400002</td>\n",
       "      <td>39.900002</td>\n",
       "      <td>True</td>\n",
       "      <td>False</td>\n",
       "    </tr>\n",
       "    <tr>\n",
       "      <th>66</th>\n",
       "      <td>3</td>\n",
       "      <td>1974</td>\n",
       "      <td>126.699997</td>\n",
       "      <td>41.900002</td>\n",
       "      <td>True</td>\n",
       "      <td>False</td>\n",
       "    </tr>\n",
       "  </tbody>\n",
       "</table>\n",
       "</div>"
      ],
      "text/plain": [
       "    state  year     cigsale   retprice  california  after_treatment\n",
       "62      3  1970  123.000000  38.799999        True            False\n",
       "63      3  1971  121.000000  39.700001        True            False\n",
       "64      3  1972  123.500000  39.900002        True            False\n",
       "65      3  1973  124.400002  39.900002        True            False\n",
       "66      3  1974  126.699997  41.900002        True            False"
      ]
     },
     "execution_count": 31,
     "metadata": {},
     "output_type": "execute_result"
    }
   ],
   "source": [
    "cigar = (pd.read_csv(data_path + \"data/smoking.csv\")\n",
    "         .drop(columns=[\"lnincome\",\"beer\", \"age15to24\"]))\n",
    "\n",
    "cigar.query(\"california\").head()"
   ]
  },
  {
   "cell_type": "markdown",
   "id": "dbb5846d-bc10-4267-aabe-beb47e9c1537",
   "metadata": {},
   "source": [
    "We have `state` as the state index, where California is the number 3. Our covariates are `retprice`, the cigarette retail price, and `cigsale`, the per-capita sales of cigarettes in packs. Our outcome variable of interest is `cigsale`. Finally, we have boolean helper variables to signal the state of California and the post intervention period (after Prop 99). If we plot the sales of cigarettes for California and other states across time, this is what we would get."
   ]
  },
  {
   "cell_type": "code",
   "execution_count": 33,
   "id": "9bd8f76d-bec2-4f8d-8a69-c0fc3a78218e",
   "metadata": {},
   "outputs": [
    {
     "ename": "TypeError",
     "evalue": "DataFrame.pivot() takes 1 positional argument but 4 were given",
     "output_type": "error",
     "traceback": [
      "\u001b[1;31m---------------------------------------------------------------------------\u001b[0m",
      "\u001b[1;31mTypeError\u001b[0m                                 Traceback (most recent call last)",
      "Cell \u001b[1;32mIn[33], line 9\u001b[0m\n\u001b[0;32m      1\u001b[0m ax \u001b[38;5;241m=\u001b[39m plt\u001b[38;5;241m.\u001b[39msubplot(\u001b[38;5;241m1\u001b[39m, \u001b[38;5;241m1\u001b[39m, \u001b[38;5;241m1\u001b[39m)\n\u001b[0;32m      3\u001b[0m (cigar\n\u001b[0;32m      4\u001b[0m  \u001b[38;5;241m.\u001b[39massign(california \u001b[38;5;241m=\u001b[39m np\u001b[38;5;241m.\u001b[39mwhere(cigar[\u001b[38;5;124m\"\u001b[39m\u001b[38;5;124mcalifornia\u001b[39m\u001b[38;5;124m\"\u001b[39m], \u001b[38;5;124m\"\u001b[39m\u001b[38;5;124mCalifornia\u001b[39m\u001b[38;5;124m\"\u001b[39m, \u001b[38;5;124m\"\u001b[39m\u001b[38;5;124mOther States\u001b[39m\u001b[38;5;124m\"\u001b[39m))\n\u001b[0;32m      5\u001b[0m  \u001b[38;5;241m.\u001b[39mgroupby([\u001b[38;5;124m\"\u001b[39m\u001b[38;5;124myear\u001b[39m\u001b[38;5;124m\"\u001b[39m, \u001b[38;5;124m\"\u001b[39m\u001b[38;5;124mcalifornia\u001b[39m\u001b[38;5;124m\"\u001b[39m])\n\u001b[0;32m      6\u001b[0m  [\u001b[38;5;124m\"\u001b[39m\u001b[38;5;124mcigsale\u001b[39m\u001b[38;5;124m\"\u001b[39m]\n\u001b[0;32m      7\u001b[0m  \u001b[38;5;241m.\u001b[39mmean()\n\u001b[0;32m      8\u001b[0m  \u001b[38;5;241m.\u001b[39mreset_index()\n\u001b[1;32m----> 9\u001b[0m  \u001b[38;5;241m.\u001b[39mpivot(\u001b[38;5;124m\"\u001b[39m\u001b[38;5;124myear\u001b[39m\u001b[38;5;124m\"\u001b[39m, \u001b[38;5;124m\"\u001b[39m\u001b[38;5;124mcalifornia\u001b[39m\u001b[38;5;124m\"\u001b[39m, \u001b[38;5;124m\"\u001b[39m\u001b[38;5;124mcigsale\u001b[39m\u001b[38;5;124m\"\u001b[39m)\n\u001b[0;32m     10\u001b[0m  \u001b[38;5;241m.\u001b[39mplot(ax\u001b[38;5;241m=\u001b[39max, figsize\u001b[38;5;241m=\u001b[39m(\u001b[38;5;241m10\u001b[39m,\u001b[38;5;241m5\u001b[39m)))\n\u001b[0;32m     12\u001b[0m plt\u001b[38;5;241m.\u001b[39mvlines(x\u001b[38;5;241m=\u001b[39m\u001b[38;5;241m1988\u001b[39m, ymin\u001b[38;5;241m=\u001b[39m\u001b[38;5;241m40\u001b[39m, ymax\u001b[38;5;241m=\u001b[39m\u001b[38;5;241m140\u001b[39m, linestyle\u001b[38;5;241m=\u001b[39m\u001b[38;5;124m\"\u001b[39m\u001b[38;5;124m:\u001b[39m\u001b[38;5;124m\"\u001b[39m, lw\u001b[38;5;241m=\u001b[39m\u001b[38;5;241m2\u001b[39m, label\u001b[38;5;241m=\u001b[39m\u001b[38;5;124m\"\u001b[39m\u001b[38;5;124mProposition 99\u001b[39m\u001b[38;5;124m\"\u001b[39m)\n\u001b[0;32m     13\u001b[0m plt\u001b[38;5;241m.\u001b[39mylabel(\u001b[38;5;124m\"\u001b[39m\u001b[38;5;124mCigarette Sales Trend\u001b[39m\u001b[38;5;124m\"\u001b[39m)\n",
      "\u001b[1;31mTypeError\u001b[0m: DataFrame.pivot() takes 1 positional argument but 4 were given"
     ]
    },
    {
     "data": {
      "image/png": "[encoded data removed]",
      "text/plain": [
       "<Figure size 640x480 with 1 Axes>"
      ]
     },
     "metadata": {},
     "output_type": "display_data"
    }
   ],
   "source": [
    "ax = plt.subplot(1, 1, 1)\n",
    "\n",
    "(cigar\n",
    " .assign(california = np.where(cigar[\"california\"], \"California\", \"Other States\"))\n",
    " .groupby([\"year\", \"california\"])\n",
    " [\"cigsale\"]\n",
    " .mean()\n",
    " .reset_index()\n",
    " .pivot(\"year\", \"california\", \"cigsale\")\n",
    " .plot(ax=ax, figsize=(10,5)))\n",
    "\n",
    "plt.vlines(x=1988, ymin=40, ymax=140, linestyle=\":\", lw=2, label=\"Proposition 99\")\n",
    "plt.ylabel(\"Cigarette Sales Trend\")\n",
    "plt.title(\"Gap in per-capita cigarette sales (in packs)\")\n",
    "plt.legend();  "
   ]
  },
  {
   "cell_type": "markdown",
   "id": "6204b181-cb17-4d4c-b89f-9be561f6e900",
   "metadata": {},
   "source": [
    "__Both Response and features are weighted for the Synthetic control__"
   ]
  },
  {
   "cell_type": "code",
   "execution_count": 35,
   "id": "93f50714-bef5-4b22-a07e-5330fc4fa4f8",
   "metadata": {},
   "outputs": [
    {
     "data": {
      "text/html": [
       "<div>\n",
       "<style scoped>\n",
       "    .dataframe tbody tr th:only-of-type {\n",
       "        vertical-align: middle;\n",
       "    }\n",
       "\n",
       "    .dataframe tbody tr th {\n",
       "        vertical-align: top;\n",
       "    }\n",
       "\n",
       "    .dataframe thead th {\n",
       "        text-align: right;\n",
       "    }\n",
       "</style>\n",
       "<table border=\"1\" class=\"dataframe\">\n",
       "  <thead>\n",
       "    <tr style=\"text-align: right;\">\n",
       "      <th></th>\n",
       "      <th>state</th>\n",
       "      <th>1</th>\n",
       "      <th>2</th>\n",
       "      <th>3</th>\n",
       "      <th>4</th>\n",
       "      <th>5</th>\n",
       "      <th>6</th>\n",
       "      <th>7</th>\n",
       "      <th>8</th>\n",
       "      <th>9</th>\n",
       "      <th>10</th>\n",
       "      <th>...</th>\n",
       "      <th>30</th>\n",
       "      <th>31</th>\n",
       "      <th>32</th>\n",
       "      <th>33</th>\n",
       "      <th>34</th>\n",
       "      <th>35</th>\n",
       "      <th>36</th>\n",
       "      <th>37</th>\n",
       "      <th>38</th>\n",
       "      <th>39</th>\n",
       "    </tr>\n",
       "    <tr>\n",
       "      <th></th>\n",
       "      <th>year</th>\n",
       "      <th></th>\n",
       "      <th></th>\n",
       "      <th></th>\n",
       "      <th></th>\n",
       "      <th></th>\n",
       "      <th></th>\n",
       "      <th></th>\n",
       "      <th></th>\n",
       "      <th></th>\n",
       "      <th></th>\n",
       "      <th></th>\n",
       "      <th></th>\n",
       "      <th></th>\n",
       "      <th></th>\n",
       "      <th></th>\n",
       "      <th></th>\n",
       "      <th></th>\n",
       "      <th></th>\n",
       "      <th></th>\n",
       "      <th></th>\n",
       "      <th></th>\n",
       "    </tr>\n",
       "  </thead>\n",
       "  <tbody>\n",
       "    <tr>\n",
       "      <th rowspan=\"5\" valign=\"top\">cigsale</th>\n",
       "      <th>1970</th>\n",
       "      <td>89.800003</td>\n",
       "      <td>100.300003</td>\n",
       "      <td>123.000000</td>\n",
       "      <td>124.800003</td>\n",
       "      <td>120.000000</td>\n",
       "      <td>155.000000</td>\n",
       "      <td>109.900002</td>\n",
       "      <td>102.400002</td>\n",
       "      <td>124.800003</td>\n",
       "      <td>134.600006</td>\n",
       "      <td>...</td>\n",
       "      <td>103.599998</td>\n",
       "      <td>92.699997</td>\n",
       "      <td>99.800003</td>\n",
       "      <td>106.400002</td>\n",
       "      <td>65.500000</td>\n",
       "      <td>122.599998</td>\n",
       "      <td>124.300003</td>\n",
       "      <td>114.500000</td>\n",
       "      <td>106.400002</td>\n",
       "      <td>132.199997</td>\n",
       "    </tr>\n",
       "    <tr>\n",
       "      <th>1971</th>\n",
       "      <td>95.400002</td>\n",
       "      <td>104.099998</td>\n",
       "      <td>121.000000</td>\n",
       "      <td>125.500000</td>\n",
       "      <td>117.599998</td>\n",
       "      <td>161.100006</td>\n",
       "      <td>115.699997</td>\n",
       "      <td>108.500000</td>\n",
       "      <td>125.599998</td>\n",
       "      <td>139.300003</td>\n",
       "      <td>...</td>\n",
       "      <td>115.000000</td>\n",
       "      <td>96.699997</td>\n",
       "      <td>106.300003</td>\n",
       "      <td>108.900002</td>\n",
       "      <td>67.699997</td>\n",
       "      <td>124.400002</td>\n",
       "      <td>128.399994</td>\n",
       "      <td>111.500000</td>\n",
       "      <td>105.400002</td>\n",
       "      <td>131.699997</td>\n",
       "    </tr>\n",
       "    <tr>\n",
       "      <th>1972</th>\n",
       "      <td>101.099998</td>\n",
       "      <td>103.900002</td>\n",
       "      <td>123.500000</td>\n",
       "      <td>134.300003</td>\n",
       "      <td>110.800003</td>\n",
       "      <td>156.300003</td>\n",
       "      <td>117.000000</td>\n",
       "      <td>126.099998</td>\n",
       "      <td>126.599998</td>\n",
       "      <td>149.199997</td>\n",
       "      <td>...</td>\n",
       "      <td>118.699997</td>\n",
       "      <td>103.000000</td>\n",
       "      <td>111.500000</td>\n",
       "      <td>108.599998</td>\n",
       "      <td>71.300003</td>\n",
       "      <td>138.000000</td>\n",
       "      <td>137.000000</td>\n",
       "      <td>117.500000</td>\n",
       "      <td>108.800003</td>\n",
       "      <td>140.000000</td>\n",
       "    </tr>\n",
       "    <tr>\n",
       "      <th>1973</th>\n",
       "      <td>102.900002</td>\n",
       "      <td>108.000000</td>\n",
       "      <td>124.400002</td>\n",
       "      <td>137.899994</td>\n",
       "      <td>109.300003</td>\n",
       "      <td>154.699997</td>\n",
       "      <td>119.800003</td>\n",
       "      <td>121.800003</td>\n",
       "      <td>124.400002</td>\n",
       "      <td>156.000000</td>\n",
       "      <td>...</td>\n",
       "      <td>125.500000</td>\n",
       "      <td>103.500000</td>\n",
       "      <td>109.699997</td>\n",
       "      <td>110.400002</td>\n",
       "      <td>72.699997</td>\n",
       "      <td>146.800003</td>\n",
       "      <td>143.100006</td>\n",
       "      <td>116.599998</td>\n",
       "      <td>109.500000</td>\n",
       "      <td>141.199997</td>\n",
       "    </tr>\n",
       "    <tr>\n",
       "      <th>1974</th>\n",
       "      <td>108.199997</td>\n",
       "      <td>109.699997</td>\n",
       "      <td>126.699997</td>\n",
       "      <td>132.800003</td>\n",
       "      <td>112.400002</td>\n",
       "      <td>151.300003</td>\n",
       "      <td>123.699997</td>\n",
       "      <td>125.599998</td>\n",
       "      <td>131.899994</td>\n",
       "      <td>159.600006</td>\n",
       "      <td>...</td>\n",
       "      <td>129.699997</td>\n",
       "      <td>108.400002</td>\n",
       "      <td>114.800003</td>\n",
       "      <td>114.699997</td>\n",
       "      <td>75.599998</td>\n",
       "      <td>151.800003</td>\n",
       "      <td>149.600006</td>\n",
       "      <td>119.900002</td>\n",
       "      <td>111.800003</td>\n",
       "      <td>145.800003</td>\n",
       "    </tr>\n",
       "  </tbody>\n",
       "</table>\n",
       "<p>5 rows × 39 columns</p>\n",
       "</div>"
      ],
      "text/plain": [
       "state                 1           2           3           4           5   \\\n",
       "        year                                                               \n",
       "cigsale 1970   89.800003  100.300003  123.000000  124.800003  120.000000   \n",
       "        1971   95.400002  104.099998  121.000000  125.500000  117.599998   \n",
       "        1972  101.099998  103.900002  123.500000  134.300003  110.800003   \n",
       "        1973  102.900002  108.000000  124.400002  137.899994  109.300003   \n",
       "        1974  108.199997  109.699997  126.699997  132.800003  112.400002   \n",
       "\n",
       "state                 6           7           8           9           10  ...  \\\n",
       "        year                                                              ...   \n",
       "cigsale 1970  155.000000  109.900002  102.400002  124.800003  134.600006  ...   \n",
       "        1971  161.100006  115.699997  108.500000  125.599998  139.300003  ...   \n",
       "        1972  156.300003  117.000000  126.099998  126.599998  149.199997  ...   \n",
       "        1973  154.699997  119.800003  121.800003  124.400002  156.000000  ...   \n",
       "        1974  151.300003  123.699997  125.599998  131.899994  159.600006  ...   \n",
       "\n",
       "state                 30          31          32          33         34  \\\n",
       "        year                                                              \n",
       "cigsale 1970  103.599998   92.699997   99.800003  106.400002  65.500000   \n",
       "        1971  115.000000   96.699997  106.300003  108.900002  67.699997   \n",
       "        1972  118.699997  103.000000  111.500000  108.599998  71.300003   \n",
       "        1973  125.500000  103.500000  109.699997  110.400002  72.699997   \n",
       "        1974  129.699997  108.400002  114.800003  114.699997  75.599998   \n",
       "\n",
       "state                 35          36          37          38          39  \n",
       "        year                                                              \n",
       "cigsale 1970  122.599998  124.300003  114.500000  106.400002  132.199997  \n",
       "        1971  124.400002  128.399994  111.500000  105.400002  131.699997  \n",
       "        1972  138.000000  137.000000  117.500000  108.800003  140.000000  \n",
       "        1973  146.800003  143.100006  116.599998  109.500000  141.199997  \n",
       "        1974  151.800003  149.600006  119.900002  111.800003  145.800003  \n",
       "\n",
       "[5 rows x 39 columns]"
      ]
     },
     "execution_count": 35,
     "metadata": {},
     "output_type": "execute_result"
    }
   ],
   "source": [
    "features = [\"cigsale\", \"retprice\"]\n",
    "\n",
    "inverted = (cigar.query(\"~after_treatment\") # filter pre-intervention period\n",
    "            .pivot(index='state', columns=\"year\")[features] # make one column per year and one row per state\n",
    "            .T) # flip the table to have one column per state\n",
    "\n",
    "inverted.head()"
   ]
  },
  {
   "cell_type": "code",
   "execution_count": 37,
   "id": "8ed9db22-7a5c-42cf-a919-2476326a2834",
   "metadata": {},
   "outputs": [],
   "source": [
    "y = inverted[3].values # state of california\n",
    "X = inverted.drop(columns=3).values  # other states"
   ]
  },
  {
   "cell_type": "code",
   "execution_count": 39,
   "id": "97c9de46-f844-423b-8ab7-6a8a88b62371",
   "metadata": {},
   "outputs": [
    {
     "data": {
      "text/plain": [
       "array([-0.436, -1.038,  0.679,  0.078,  0.339,  1.213,  0.143,  0.555,\n",
       "       -0.295,  0.052, -0.529,  1.235, -0.549,  0.437, -0.023, -0.266,\n",
       "       -0.25 , -0.667, -0.106, -0.145,  0.109,  0.242, -0.328,  0.594,\n",
       "        0.243, -0.171, -0.02 ,  0.14 , -0.811,  0.362,  0.519, -0.304,\n",
       "        0.805, -0.318, -1.246,  0.773, -0.055, -0.032])"
      ]
     },
     "execution_count": 39,
     "metadata": {},
     "output_type": "execute_result"
    }
   ],
   "source": [
    "from sklearn.linear_model import LinearRegression, ElasticNet\n",
    "model = LinearRegression(fit_intercept=False).fit(X, y)\n",
    "weights_lr = model.coef_\n",
    "## weight that minimized the MSE between California and the sythetic control + convariates\n",
    "weights_lr.round(3)"
   ]
  },
  {
   "cell_type": "markdown",
   "id": "0d932774-021d-485a-afdc-c20f80fc08cd",
   "metadata": {},
   "source": [
    "__despite we trained our weights using both `cigsale` and `retprice`, we shouldn't use `retprice` for prediction since prop 99 affects this variable?__"
   ]
  },
  {
   "cell_type": "code",
   "execution_count": 42,
   "id": "627019fb-80d4-456f-9d5e-9f77c3164ece",
   "metadata": {},
   "outputs": [
    {
     "data": {
      "text/html": [
       "<div>\n",
       "<style scoped>\n",
       "    .dataframe tbody tr th:only-of-type {\n",
       "        vertical-align: middle;\n",
       "    }\n",
       "\n",
       "    .dataframe tbody tr th {\n",
       "        vertical-align: top;\n",
       "    }\n",
       "\n",
       "    .dataframe thead th {\n",
       "        text-align: right;\n",
       "    }\n",
       "</style>\n",
       "<table border=\"1\" class=\"dataframe\">\n",
       "  <thead>\n",
       "    <tr style=\"text-align: right;\">\n",
       "      <th>state</th>\n",
       "      <th>1</th>\n",
       "      <th>2</th>\n",
       "      <th>4</th>\n",
       "      <th>5</th>\n",
       "      <th>6</th>\n",
       "      <th>7</th>\n",
       "      <th>8</th>\n",
       "      <th>9</th>\n",
       "      <th>10</th>\n",
       "      <th>11</th>\n",
       "      <th>...</th>\n",
       "      <th>30</th>\n",
       "      <th>31</th>\n",
       "      <th>32</th>\n",
       "      <th>33</th>\n",
       "      <th>34</th>\n",
       "      <th>35</th>\n",
       "      <th>36</th>\n",
       "      <th>37</th>\n",
       "      <th>38</th>\n",
       "      <th>39</th>\n",
       "    </tr>\n",
       "    <tr>\n",
       "      <th>year</th>\n",
       "      <th></th>\n",
       "      <th></th>\n",
       "      <th></th>\n",
       "      <th></th>\n",
       "      <th></th>\n",
       "      <th></th>\n",
       "      <th></th>\n",
       "      <th></th>\n",
       "      <th></th>\n",
       "      <th></th>\n",
       "      <th></th>\n",
       "      <th></th>\n",
       "      <th></th>\n",
       "      <th></th>\n",
       "      <th></th>\n",
       "      <th></th>\n",
       "      <th></th>\n",
       "      <th></th>\n",
       "      <th></th>\n",
       "      <th></th>\n",
       "      <th></th>\n",
       "    </tr>\n",
       "  </thead>\n",
       "  <tbody>\n",
       "    <tr>\n",
       "      <th>1970</th>\n",
       "      <td>89.800003</td>\n",
       "      <td>100.300003</td>\n",
       "      <td>124.800003</td>\n",
       "      <td>120.000000</td>\n",
       "      <td>155.000000</td>\n",
       "      <td>109.900002</td>\n",
       "      <td>102.400002</td>\n",
       "      <td>124.800003</td>\n",
       "      <td>134.600006</td>\n",
       "      <td>108.500000</td>\n",
       "      <td>...</td>\n",
       "      <td>103.599998</td>\n",
       "      <td>92.699997</td>\n",
       "      <td>99.800003</td>\n",
       "      <td>106.400002</td>\n",
       "      <td>65.500000</td>\n",
       "      <td>122.599998</td>\n",
       "      <td>124.300003</td>\n",
       "      <td>114.500000</td>\n",
       "      <td>106.400002</td>\n",
       "      <td>132.199997</td>\n",
       "    </tr>\n",
       "    <tr>\n",
       "      <th>1971</th>\n",
       "      <td>95.400002</td>\n",
       "      <td>104.099998</td>\n",
       "      <td>125.500000</td>\n",
       "      <td>117.599998</td>\n",
       "      <td>161.100006</td>\n",
       "      <td>115.699997</td>\n",
       "      <td>108.500000</td>\n",
       "      <td>125.599998</td>\n",
       "      <td>139.300003</td>\n",
       "      <td>108.400002</td>\n",
       "      <td>...</td>\n",
       "      <td>115.000000</td>\n",
       "      <td>96.699997</td>\n",
       "      <td>106.300003</td>\n",
       "      <td>108.900002</td>\n",
       "      <td>67.699997</td>\n",
       "      <td>124.400002</td>\n",
       "      <td>128.399994</td>\n",
       "      <td>111.500000</td>\n",
       "      <td>105.400002</td>\n",
       "      <td>131.699997</td>\n",
       "    </tr>\n",
       "    <tr>\n",
       "      <th>1972</th>\n",
       "      <td>101.099998</td>\n",
       "      <td>103.900002</td>\n",
       "      <td>134.300003</td>\n",
       "      <td>110.800003</td>\n",
       "      <td>156.300003</td>\n",
       "      <td>117.000000</td>\n",
       "      <td>126.099998</td>\n",
       "      <td>126.599998</td>\n",
       "      <td>149.199997</td>\n",
       "      <td>109.400002</td>\n",
       "      <td>...</td>\n",
       "      <td>118.699997</td>\n",
       "      <td>103.000000</td>\n",
       "      <td>111.500000</td>\n",
       "      <td>108.599998</td>\n",
       "      <td>71.300003</td>\n",
       "      <td>138.000000</td>\n",
       "      <td>137.000000</td>\n",
       "      <td>117.500000</td>\n",
       "      <td>108.800003</td>\n",
       "      <td>140.000000</td>\n",
       "    </tr>\n",
       "    <tr>\n",
       "      <th>1973</th>\n",
       "      <td>102.900002</td>\n",
       "      <td>108.000000</td>\n",
       "      <td>137.899994</td>\n",
       "      <td>109.300003</td>\n",
       "      <td>154.699997</td>\n",
       "      <td>119.800003</td>\n",
       "      <td>121.800003</td>\n",
       "      <td>124.400002</td>\n",
       "      <td>156.000000</td>\n",
       "      <td>110.599998</td>\n",
       "      <td>...</td>\n",
       "      <td>125.500000</td>\n",
       "      <td>103.500000</td>\n",
       "      <td>109.699997</td>\n",
       "      <td>110.400002</td>\n",
       "      <td>72.699997</td>\n",
       "      <td>146.800003</td>\n",
       "      <td>143.100006</td>\n",
       "      <td>116.599998</td>\n",
       "      <td>109.500000</td>\n",
       "      <td>141.199997</td>\n",
       "    </tr>\n",
       "    <tr>\n",
       "      <th>1974</th>\n",
       "      <td>108.199997</td>\n",
       "      <td>109.699997</td>\n",
       "      <td>132.800003</td>\n",
       "      <td>112.400002</td>\n",
       "      <td>151.300003</td>\n",
       "      <td>123.699997</td>\n",
       "      <td>125.599998</td>\n",
       "      <td>131.899994</td>\n",
       "      <td>159.600006</td>\n",
       "      <td>116.099998</td>\n",
       "      <td>...</td>\n",
       "      <td>129.699997</td>\n",
       "      <td>108.400002</td>\n",
       "      <td>114.800003</td>\n",
       "      <td>114.699997</td>\n",
       "      <td>75.599998</td>\n",
       "      <td>151.800003</td>\n",
       "      <td>149.600006</td>\n",
       "      <td>119.900002</td>\n",
       "      <td>111.800003</td>\n",
       "      <td>145.800003</td>\n",
       "    </tr>\n",
       "    <tr>\n",
       "      <th>1975</th>\n",
       "      <td>111.699997</td>\n",
       "      <td>114.800003</td>\n",
       "      <td>131.000000</td>\n",
       "      <td>110.199997</td>\n",
       "      <td>147.600006</td>\n",
       "      <td>122.900002</td>\n",
       "      <td>123.300003</td>\n",
       "      <td>131.800003</td>\n",
       "      <td>162.399994</td>\n",
       "      <td>120.500000</td>\n",
       "      <td>...</td>\n",
       "      <td>130.500000</td>\n",
       "      <td>113.500000</td>\n",
       "      <td>117.400002</td>\n",
       "      <td>116.000000</td>\n",
       "      <td>75.800003</td>\n",
       "      <td>155.500000</td>\n",
       "      <td>152.699997</td>\n",
       "      <td>123.199997</td>\n",
       "      <td>113.500000</td>\n",
       "      <td>160.699997</td>\n",
       "    </tr>\n",
       "    <tr>\n",
       "      <th>1976</th>\n",
       "      <td>116.199997</td>\n",
       "      <td>119.099998</td>\n",
       "      <td>134.199997</td>\n",
       "      <td>113.400002</td>\n",
       "      <td>153.000000</td>\n",
       "      <td>125.900002</td>\n",
       "      <td>125.099998</td>\n",
       "      <td>134.399994</td>\n",
       "      <td>166.600006</td>\n",
       "      <td>124.400002</td>\n",
       "      <td>...</td>\n",
       "      <td>136.800003</td>\n",
       "      <td>116.699997</td>\n",
       "      <td>121.699997</td>\n",
       "      <td>121.400002</td>\n",
       "      <td>77.900002</td>\n",
       "      <td>171.100006</td>\n",
       "      <td>158.100006</td>\n",
       "      <td>129.699997</td>\n",
       "      <td>115.400002</td>\n",
       "      <td>161.500000</td>\n",
       "    </tr>\n",
       "    <tr>\n",
       "      <th>1977</th>\n",
       "      <td>117.099998</td>\n",
       "      <td>122.599998</td>\n",
       "      <td>132.000000</td>\n",
       "      <td>117.300003</td>\n",
       "      <td>153.300003</td>\n",
       "      <td>127.900002</td>\n",
       "      <td>125.000000</td>\n",
       "      <td>134.000000</td>\n",
       "      <td>173.000000</td>\n",
       "      <td>125.500000</td>\n",
       "      <td>...</td>\n",
       "      <td>137.199997</td>\n",
       "      <td>115.599998</td>\n",
       "      <td>124.599998</td>\n",
       "      <td>124.199997</td>\n",
       "      <td>78.000000</td>\n",
       "      <td>169.399994</td>\n",
       "      <td>157.699997</td>\n",
       "      <td>133.899994</td>\n",
       "      <td>117.199997</td>\n",
       "      <td>160.399994</td>\n",
       "    </tr>\n",
       "    <tr>\n",
       "      <th>1978</th>\n",
       "      <td>123.000000</td>\n",
       "      <td>127.300003</td>\n",
       "      <td>129.199997</td>\n",
       "      <td>117.500000</td>\n",
       "      <td>155.500000</td>\n",
       "      <td>130.600006</td>\n",
       "      <td>122.800003</td>\n",
       "      <td>136.699997</td>\n",
       "      <td>150.899994</td>\n",
       "      <td>127.099998</td>\n",
       "      <td>...</td>\n",
       "      <td>140.399994</td>\n",
       "      <td>116.900002</td>\n",
       "      <td>127.300003</td>\n",
       "      <td>126.599998</td>\n",
       "      <td>79.599998</td>\n",
       "      <td>162.399994</td>\n",
       "      <td>155.899994</td>\n",
       "      <td>131.600006</td>\n",
       "      <td>116.699997</td>\n",
       "      <td>160.300003</td>\n",
       "    </tr>\n",
       "    <tr>\n",
       "      <th>1979</th>\n",
       "      <td>121.400002</td>\n",
       "      <td>126.500000</td>\n",
       "      <td>131.500000</td>\n",
       "      <td>117.400002</td>\n",
       "      <td>150.199997</td>\n",
       "      <td>131.000000</td>\n",
       "      <td>117.500000</td>\n",
       "      <td>135.300003</td>\n",
       "      <td>148.899994</td>\n",
       "      <td>124.199997</td>\n",
       "      <td>...</td>\n",
       "      <td>135.699997</td>\n",
       "      <td>117.400002</td>\n",
       "      <td>127.199997</td>\n",
       "      <td>126.400002</td>\n",
       "      <td>79.099998</td>\n",
       "      <td>160.899994</td>\n",
       "      <td>151.800003</td>\n",
       "      <td>122.099998</td>\n",
       "      <td>117.099998</td>\n",
       "      <td>168.600006</td>\n",
       "    </tr>\n",
       "    <tr>\n",
       "      <th>1980</th>\n",
       "      <td>123.199997</td>\n",
       "      <td>131.800003</td>\n",
       "      <td>131.000000</td>\n",
       "      <td>118.000000</td>\n",
       "      <td>150.500000</td>\n",
       "      <td>134.000000</td>\n",
       "      <td>115.199997</td>\n",
       "      <td>135.199997</td>\n",
       "      <td>146.899994</td>\n",
       "      <td>124.599998</td>\n",
       "      <td>...</td>\n",
       "      <td>138.300003</td>\n",
       "      <td>114.699997</td>\n",
       "      <td>130.399994</td>\n",
       "      <td>129.699997</td>\n",
       "      <td>74.800003</td>\n",
       "      <td>161.600006</td>\n",
       "      <td>148.899994</td>\n",
       "      <td>122.300003</td>\n",
       "      <td>117.599998</td>\n",
       "      <td>158.100006</td>\n",
       "    </tr>\n",
       "    <tr>\n",
       "      <th>1981</th>\n",
       "      <td>119.599998</td>\n",
       "      <td>128.699997</td>\n",
       "      <td>133.800003</td>\n",
       "      <td>116.400002</td>\n",
       "      <td>152.600006</td>\n",
       "      <td>131.699997</td>\n",
       "      <td>114.099998</td>\n",
       "      <td>133.000000</td>\n",
       "      <td>148.500000</td>\n",
       "      <td>132.899994</td>\n",
       "      <td>...</td>\n",
       "      <td>136.100006</td>\n",
       "      <td>115.699997</td>\n",
       "      <td>129.100006</td>\n",
       "      <td>129.000000</td>\n",
       "      <td>77.599998</td>\n",
       "      <td>163.800003</td>\n",
       "      <td>149.899994</td>\n",
       "      <td>120.500000</td>\n",
       "      <td>119.900002</td>\n",
       "      <td>163.100006</td>\n",
       "    </tr>\n",
       "    <tr>\n",
       "      <th>1982</th>\n",
       "      <td>119.099998</td>\n",
       "      <td>127.400002</td>\n",
       "      <td>130.500000</td>\n",
       "      <td>114.699997</td>\n",
       "      <td>154.100006</td>\n",
       "      <td>131.199997</td>\n",
       "      <td>111.500000</td>\n",
       "      <td>130.699997</td>\n",
       "      <td>147.699997</td>\n",
       "      <td>116.199997</td>\n",
       "      <td>...</td>\n",
       "      <td>136.000000</td>\n",
       "      <td>113.000000</td>\n",
       "      <td>131.399994</td>\n",
       "      <td>131.199997</td>\n",
       "      <td>73.599998</td>\n",
       "      <td>162.300003</td>\n",
       "      <td>147.399994</td>\n",
       "      <td>119.800003</td>\n",
       "      <td>115.599998</td>\n",
       "      <td>157.699997</td>\n",
       "    </tr>\n",
       "    <tr>\n",
       "      <th>1983</th>\n",
       "      <td>116.300003</td>\n",
       "      <td>128.000000</td>\n",
       "      <td>125.300003</td>\n",
       "      <td>114.099998</td>\n",
       "      <td>149.600006</td>\n",
       "      <td>128.600006</td>\n",
       "      <td>111.300003</td>\n",
       "      <td>127.900002</td>\n",
       "      <td>143.000000</td>\n",
       "      <td>115.599998</td>\n",
       "      <td>...</td>\n",
       "      <td>131.100006</td>\n",
       "      <td>109.800003</td>\n",
       "      <td>129.000000</td>\n",
       "      <td>126.400002</td>\n",
       "      <td>69.000000</td>\n",
       "      <td>153.800003</td>\n",
       "      <td>144.699997</td>\n",
       "      <td>115.699997</td>\n",
       "      <td>106.300003</td>\n",
       "      <td>141.199997</td>\n",
       "    </tr>\n",
       "    <tr>\n",
       "      <th>1984</th>\n",
       "      <td>113.000000</td>\n",
       "      <td>123.099998</td>\n",
       "      <td>119.699997</td>\n",
       "      <td>112.500000</td>\n",
       "      <td>144.000000</td>\n",
       "      <td>126.300003</td>\n",
       "      <td>103.599998</td>\n",
       "      <td>124.000000</td>\n",
       "      <td>137.800003</td>\n",
       "      <td>111.199997</td>\n",
       "      <td>...</td>\n",
       "      <td>127.000000</td>\n",
       "      <td>105.699997</td>\n",
       "      <td>125.099998</td>\n",
       "      <td>117.199997</td>\n",
       "      <td>66.300003</td>\n",
       "      <td>144.300003</td>\n",
       "      <td>136.800003</td>\n",
       "      <td>111.900002</td>\n",
       "      <td>105.599998</td>\n",
       "      <td>128.899994</td>\n",
       "    </tr>\n",
       "    <tr>\n",
       "      <th>1985</th>\n",
       "      <td>114.500000</td>\n",
       "      <td>125.800003</td>\n",
       "      <td>112.400002</td>\n",
       "      <td>111.000000</td>\n",
       "      <td>144.500000</td>\n",
       "      <td>128.800003</td>\n",
       "      <td>100.699997</td>\n",
       "      <td>121.599998</td>\n",
       "      <td>135.300003</td>\n",
       "      <td>109.400002</td>\n",
       "      <td>...</td>\n",
       "      <td>125.400002</td>\n",
       "      <td>104.400002</td>\n",
       "      <td>128.699997</td>\n",
       "      <td>115.900002</td>\n",
       "      <td>66.500000</td>\n",
       "      <td>144.500000</td>\n",
       "      <td>134.600006</td>\n",
       "      <td>109.099998</td>\n",
       "      <td>107.000000</td>\n",
       "      <td>125.699997</td>\n",
       "    </tr>\n",
       "    <tr>\n",
       "      <th>1986</th>\n",
       "      <td>116.300003</td>\n",
       "      <td>126.000000</td>\n",
       "      <td>109.900002</td>\n",
       "      <td>108.500000</td>\n",
       "      <td>142.399994</td>\n",
       "      <td>129.000000</td>\n",
       "      <td>96.699997</td>\n",
       "      <td>118.199997</td>\n",
       "      <td>137.600006</td>\n",
       "      <td>104.099998</td>\n",
       "      <td>...</td>\n",
       "      <td>126.599998</td>\n",
       "      <td>97.000000</td>\n",
       "      <td>129.000000</td>\n",
       "      <td>113.699997</td>\n",
       "      <td>64.400002</td>\n",
       "      <td>131.199997</td>\n",
       "      <td>135.800003</td>\n",
       "      <td>112.099998</td>\n",
       "      <td>105.400002</td>\n",
       "      <td>124.800003</td>\n",
       "    </tr>\n",
       "    <tr>\n",
       "      <th>1987</th>\n",
       "      <td>114.000000</td>\n",
       "      <td>122.300003</td>\n",
       "      <td>102.400002</td>\n",
       "      <td>109.000000</td>\n",
       "      <td>141.000000</td>\n",
       "      <td>129.300003</td>\n",
       "      <td>95.000000</td>\n",
       "      <td>109.500000</td>\n",
       "      <td>134.000000</td>\n",
       "      <td>101.099998</td>\n",
       "      <td>...</td>\n",
       "      <td>126.599998</td>\n",
       "      <td>95.800003</td>\n",
       "      <td>130.600006</td>\n",
       "      <td>105.800003</td>\n",
       "      <td>67.699997</td>\n",
       "      <td>128.300003</td>\n",
       "      <td>133.000000</td>\n",
       "      <td>107.500000</td>\n",
       "      <td>106.000000</td>\n",
       "      <td>110.400002</td>\n",
       "    </tr>\n",
       "    <tr>\n",
       "      <th>1988</th>\n",
       "      <td>112.099998</td>\n",
       "      <td>121.500000</td>\n",
       "      <td>94.599998</td>\n",
       "      <td>104.800003</td>\n",
       "      <td>137.100006</td>\n",
       "      <td>124.099998</td>\n",
       "      <td>84.500000</td>\n",
       "      <td>107.599998</td>\n",
       "      <td>134.000000</td>\n",
       "      <td>100.199997</td>\n",
       "      <td>...</td>\n",
       "      <td>124.400002</td>\n",
       "      <td>91.900002</td>\n",
       "      <td>125.300003</td>\n",
       "      <td>96.500000</td>\n",
       "      <td>55.000000</td>\n",
       "      <td>128.699997</td>\n",
       "      <td>129.500000</td>\n",
       "      <td>109.099998</td>\n",
       "      <td>102.599998</td>\n",
       "      <td>114.300003</td>\n",
       "    </tr>\n",
       "    <tr>\n",
       "      <th>1989</th>\n",
       "      <td>105.599998</td>\n",
       "      <td>118.300003</td>\n",
       "      <td>88.800003</td>\n",
       "      <td>100.599998</td>\n",
       "      <td>131.699997</td>\n",
       "      <td>117.099998</td>\n",
       "      <td>78.400002</td>\n",
       "      <td>104.599998</td>\n",
       "      <td>132.500000</td>\n",
       "      <td>94.400002</td>\n",
       "      <td>...</td>\n",
       "      <td>122.400002</td>\n",
       "      <td>87.400002</td>\n",
       "      <td>124.699997</td>\n",
       "      <td>94.500000</td>\n",
       "      <td>57.000000</td>\n",
       "      <td>120.900002</td>\n",
       "      <td>122.500000</td>\n",
       "      <td>104.000000</td>\n",
       "      <td>100.300003</td>\n",
       "      <td>111.400002</td>\n",
       "    </tr>\n",
       "    <tr>\n",
       "      <th>1990</th>\n",
       "      <td>108.599998</td>\n",
       "      <td>113.099998</td>\n",
       "      <td>87.400002</td>\n",
       "      <td>91.500000</td>\n",
       "      <td>127.199997</td>\n",
       "      <td>113.800003</td>\n",
       "      <td>90.099998</td>\n",
       "      <td>94.099998</td>\n",
       "      <td>128.300003</td>\n",
       "      <td>95.400002</td>\n",
       "      <td>...</td>\n",
       "      <td>118.599998</td>\n",
       "      <td>88.300003</td>\n",
       "      <td>121.800003</td>\n",
       "      <td>85.599998</td>\n",
       "      <td>53.400002</td>\n",
       "      <td>124.300003</td>\n",
       "      <td>118.900002</td>\n",
       "      <td>104.099998</td>\n",
       "      <td>94.000000</td>\n",
       "      <td>96.900002</td>\n",
       "    </tr>\n",
       "    <tr>\n",
       "      <th>1991</th>\n",
       "      <td>107.900002</td>\n",
       "      <td>116.800003</td>\n",
       "      <td>90.199997</td>\n",
       "      <td>86.699997</td>\n",
       "      <td>118.800003</td>\n",
       "      <td>109.599998</td>\n",
       "      <td>85.400002</td>\n",
       "      <td>96.099998</td>\n",
       "      <td>127.199997</td>\n",
       "      <td>97.099998</td>\n",
       "      <td>...</td>\n",
       "      <td>121.500000</td>\n",
       "      <td>91.800003</td>\n",
       "      <td>120.599998</td>\n",
       "      <td>79.400002</td>\n",
       "      <td>53.500000</td>\n",
       "      <td>120.900002</td>\n",
       "      <td>109.099998</td>\n",
       "      <td>100.099998</td>\n",
       "      <td>95.500000</td>\n",
       "      <td>109.099998</td>\n",
       "    </tr>\n",
       "    <tr>\n",
       "      <th>1992</th>\n",
       "      <td>109.099998</td>\n",
       "      <td>126.000000</td>\n",
       "      <td>88.300003</td>\n",
       "      <td>83.500000</td>\n",
       "      <td>120.000000</td>\n",
       "      <td>109.199997</td>\n",
       "      <td>85.099998</td>\n",
       "      <td>94.800003</td>\n",
       "      <td>128.199997</td>\n",
       "      <td>95.199997</td>\n",
       "      <td>...</td>\n",
       "      <td>112.800003</td>\n",
       "      <td>93.000000</td>\n",
       "      <td>121.000000</td>\n",
       "      <td>77.199997</td>\n",
       "      <td>55.000000</td>\n",
       "      <td>126.500000</td>\n",
       "      <td>108.199997</td>\n",
       "      <td>97.900002</td>\n",
       "      <td>96.199997</td>\n",
       "      <td>110.800003</td>\n",
       "    </tr>\n",
       "    <tr>\n",
       "      <th>1993</th>\n",
       "      <td>108.500000</td>\n",
       "      <td>113.800003</td>\n",
       "      <td>88.599998</td>\n",
       "      <td>79.099998</td>\n",
       "      <td>123.800003</td>\n",
       "      <td>109.199997</td>\n",
       "      <td>86.699997</td>\n",
       "      <td>94.599998</td>\n",
       "      <td>126.800003</td>\n",
       "      <td>92.500000</td>\n",
       "      <td>...</td>\n",
       "      <td>115.199997</td>\n",
       "      <td>91.599998</td>\n",
       "      <td>120.800003</td>\n",
       "      <td>81.300003</td>\n",
       "      <td>56.200001</td>\n",
       "      <td>117.199997</td>\n",
       "      <td>105.400002</td>\n",
       "      <td>111.000000</td>\n",
       "      <td>91.199997</td>\n",
       "      <td>108.400002</td>\n",
       "    </tr>\n",
       "    <tr>\n",
       "      <th>1994</th>\n",
       "      <td>107.099998</td>\n",
       "      <td>108.800003</td>\n",
       "      <td>89.099998</td>\n",
       "      <td>76.599998</td>\n",
       "      <td>126.099998</td>\n",
       "      <td>107.800003</td>\n",
       "      <td>93.000000</td>\n",
       "      <td>85.699997</td>\n",
       "      <td>128.199997</td>\n",
       "      <td>93.400002</td>\n",
       "      <td>...</td>\n",
       "      <td>112.199997</td>\n",
       "      <td>94.800003</td>\n",
       "      <td>118.800003</td>\n",
       "      <td>78.800003</td>\n",
       "      <td>55.799999</td>\n",
       "      <td>120.300003</td>\n",
       "      <td>106.199997</td>\n",
       "      <td>104.199997</td>\n",
       "      <td>91.800003</td>\n",
       "      <td>111.199997</td>\n",
       "    </tr>\n",
       "    <tr>\n",
       "      <th>1995</th>\n",
       "      <td>102.599998</td>\n",
       "      <td>113.000000</td>\n",
       "      <td>85.400002</td>\n",
       "      <td>79.300003</td>\n",
       "      <td>127.199997</td>\n",
       "      <td>100.300003</td>\n",
       "      <td>78.199997</td>\n",
       "      <td>84.300003</td>\n",
       "      <td>135.399994</td>\n",
       "      <td>93.000000</td>\n",
       "      <td>...</td>\n",
       "      <td>109.199997</td>\n",
       "      <td>98.599998</td>\n",
       "      <td>125.400002</td>\n",
       "      <td>75.199997</td>\n",
       "      <td>52.000000</td>\n",
       "      <td>123.199997</td>\n",
       "      <td>106.699997</td>\n",
       "      <td>115.199997</td>\n",
       "      <td>93.500000</td>\n",
       "      <td>115.000000</td>\n",
       "    </tr>\n",
       "    <tr>\n",
       "      <th>1996</th>\n",
       "      <td>101.400002</td>\n",
       "      <td>110.699997</td>\n",
       "      <td>83.099998</td>\n",
       "      <td>76.000000</td>\n",
       "      <td>128.300003</td>\n",
       "      <td>102.699997</td>\n",
       "      <td>73.599998</td>\n",
       "      <td>81.800003</td>\n",
       "      <td>135.100006</td>\n",
       "      <td>94.000000</td>\n",
       "      <td>...</td>\n",
       "      <td>102.900002</td>\n",
       "      <td>92.300003</td>\n",
       "      <td>119.199997</td>\n",
       "      <td>74.599998</td>\n",
       "      <td>54.000000</td>\n",
       "      <td>102.500000</td>\n",
       "      <td>104.599998</td>\n",
       "      <td>112.699997</td>\n",
       "      <td>92.099998</td>\n",
       "      <td>110.300003</td>\n",
       "    </tr>\n",
       "    <tr>\n",
       "      <th>1997</th>\n",
       "      <td>104.900002</td>\n",
       "      <td>108.699997</td>\n",
       "      <td>81.300003</td>\n",
       "      <td>75.900002</td>\n",
       "      <td>124.099998</td>\n",
       "      <td>100.599998</td>\n",
       "      <td>75.000000</td>\n",
       "      <td>79.599998</td>\n",
       "      <td>135.300003</td>\n",
       "      <td>93.900002</td>\n",
       "      <td>...</td>\n",
       "      <td>124.500000</td>\n",
       "      <td>88.800003</td>\n",
       "      <td>118.900002</td>\n",
       "      <td>72.599998</td>\n",
       "      <td>57.000000</td>\n",
       "      <td>97.699997</td>\n",
       "      <td>108.000000</td>\n",
       "      <td>114.500000</td>\n",
       "      <td>91.900002</td>\n",
       "      <td>108.800003</td>\n",
       "    </tr>\n",
       "    <tr>\n",
       "      <th>1998</th>\n",
       "      <td>106.199997</td>\n",
       "      <td>109.500000</td>\n",
       "      <td>81.199997</td>\n",
       "      <td>75.500000</td>\n",
       "      <td>132.800003</td>\n",
       "      <td>100.500000</td>\n",
       "      <td>78.900002</td>\n",
       "      <td>80.300003</td>\n",
       "      <td>135.899994</td>\n",
       "      <td>94.000000</td>\n",
       "      <td>...</td>\n",
       "      <td>126.900002</td>\n",
       "      <td>88.300003</td>\n",
       "      <td>119.699997</td>\n",
       "      <td>73.199997</td>\n",
       "      <td>42.299999</td>\n",
       "      <td>97.000000</td>\n",
       "      <td>105.599998</td>\n",
       "      <td>114.599998</td>\n",
       "      <td>88.699997</td>\n",
       "      <td>102.900002</td>\n",
       "    </tr>\n",
       "    <tr>\n",
       "      <th>1999</th>\n",
       "      <td>100.699997</td>\n",
       "      <td>104.800003</td>\n",
       "      <td>79.599998</td>\n",
       "      <td>73.400002</td>\n",
       "      <td>139.500000</td>\n",
       "      <td>97.099998</td>\n",
       "      <td>75.099998</td>\n",
       "      <td>72.199997</td>\n",
       "      <td>133.300003</td>\n",
       "      <td>91.699997</td>\n",
       "      <td>...</td>\n",
       "      <td>109.400002</td>\n",
       "      <td>83.500000</td>\n",
       "      <td>115.599998</td>\n",
       "      <td>67.599998</td>\n",
       "      <td>43.900002</td>\n",
       "      <td>94.099998</td>\n",
       "      <td>102.099998</td>\n",
       "      <td>112.400002</td>\n",
       "      <td>84.400002</td>\n",
       "      <td>104.800003</td>\n",
       "    </tr>\n",
       "    <tr>\n",
       "      <th>2000</th>\n",
       "      <td>96.199997</td>\n",
       "      <td>99.400002</td>\n",
       "      <td>73.000000</td>\n",
       "      <td>71.400002</td>\n",
       "      <td>140.699997</td>\n",
       "      <td>88.400002</td>\n",
       "      <td>66.900002</td>\n",
       "      <td>70.000000</td>\n",
       "      <td>125.500000</td>\n",
       "      <td>88.900002</td>\n",
       "      <td>...</td>\n",
       "      <td>103.900002</td>\n",
       "      <td>75.099998</td>\n",
       "      <td>108.699997</td>\n",
       "      <td>69.300003</td>\n",
       "      <td>40.700001</td>\n",
       "      <td>88.900002</td>\n",
       "      <td>96.699997</td>\n",
       "      <td>107.900002</td>\n",
       "      <td>80.099998</td>\n",
       "      <td>90.500000</td>\n",
       "    </tr>\n",
       "  </tbody>\n",
       "</table>\n",
       "<p>31 rows × 38 columns</p>\n",
       "</div>"
      ],
      "text/plain": [
       "state          1           2           4           5           6           7   \\\n",
       "year                                                                            \n",
       "1970    89.800003  100.300003  124.800003  120.000000  155.000000  109.900002   \n",
       "1971    95.400002  104.099998  125.500000  117.599998  161.100006  115.699997   \n",
       "1972   101.099998  103.900002  134.300003  110.800003  156.300003  117.000000   \n",
       "1973   102.900002  108.000000  137.899994  109.300003  154.699997  119.800003   \n",
       "1974   108.199997  109.699997  132.800003  112.400002  151.300003  123.699997   \n",
       "1975   111.699997  114.800003  131.000000  110.199997  147.600006  122.900002   \n",
       "1976   116.199997  119.099998  134.199997  113.400002  153.000000  125.900002   \n",
       "1977   117.099998  122.599998  132.000000  117.300003  153.300003  127.900002   \n",
       "1978   123.000000  127.300003  129.199997  117.500000  155.500000  130.600006   \n",
       "1979   121.400002  126.500000  131.500000  117.400002  150.199997  131.000000   \n",
       "1980   123.199997  131.800003  131.000000  118.000000  150.500000  134.000000   \n",
       "1981   119.599998  128.699997  133.800003  116.400002  152.600006  131.699997   \n",
       "1982   119.099998  127.400002  130.500000  114.699997  154.100006  131.199997   \n",
       "1983   116.300003  128.000000  125.300003  114.099998  149.600006  128.600006   \n",
       "1984   113.000000  123.099998  119.699997  112.500000  144.000000  126.300003   \n",
       "1985   114.500000  125.800003  112.400002  111.000000  144.500000  128.800003   \n",
       "1986   116.300003  126.000000  109.900002  108.500000  142.399994  129.000000   \n",
       "1987   114.000000  122.300003  102.400002  109.000000  141.000000  129.300003   \n",
       "1988   112.099998  121.500000   94.599998  104.800003  137.100006  124.099998   \n",
       "1989   105.599998  118.300003   88.800003  100.599998  131.699997  117.099998   \n",
       "1990   108.599998  113.099998   87.400002   91.500000  127.199997  113.800003   \n",
       "1991   107.900002  116.800003   90.199997   86.699997  118.800003  109.599998   \n",
       "1992   109.099998  126.000000   88.300003   83.500000  120.000000  109.199997   \n",
       "1993   108.500000  113.800003   88.599998   79.099998  123.800003  109.199997   \n",
       "1994   107.099998  108.800003   89.099998   76.599998  126.099998  107.800003   \n",
       "1995   102.599998  113.000000   85.400002   79.300003  127.199997  100.300003   \n",
       "1996   101.400002  110.699997   83.099998   76.000000  128.300003  102.699997   \n",
       "1997   104.900002  108.699997   81.300003   75.900002  124.099998  100.599998   \n",
       "1998   106.199997  109.500000   81.199997   75.500000  132.800003  100.500000   \n",
       "1999   100.699997  104.800003   79.599998   73.400002  139.500000   97.099998   \n",
       "2000    96.199997   99.400002   73.000000   71.400002  140.699997   88.400002   \n",
       "\n",
       "state          8           9           10          11  ...          30  \\\n",
       "year                                                   ...               \n",
       "1970   102.400002  124.800003  134.600006  108.500000  ...  103.599998   \n",
       "1971   108.500000  125.599998  139.300003  108.400002  ...  115.000000   \n",
       "1972   126.099998  126.599998  149.199997  109.400002  ...  118.699997   \n",
       "1973   121.800003  124.400002  156.000000  110.599998  ...  125.500000   \n",
       "1974   125.599998  131.899994  159.600006  116.099998  ...  129.699997   \n",
       "1975   123.300003  131.800003  162.399994  120.500000  ...  130.500000   \n",
       "1976   125.099998  134.399994  166.600006  124.400002  ...  136.800003   \n",
       "1977   125.000000  134.000000  173.000000  125.500000  ...  137.199997   \n",
       "1978   122.800003  136.699997  150.899994  127.099998  ...  140.399994   \n",
       "1979   117.500000  135.300003  148.899994  124.199997  ...  135.699997   \n",
       "1980   115.199997  135.199997  146.899994  124.599998  ...  138.300003   \n",
       "1981   114.099998  133.000000  148.500000  132.899994  ...  136.100006   \n",
       "1982   111.500000  130.699997  147.699997  116.199997  ...  136.000000   \n",
       "1983   111.300003  127.900002  143.000000  115.599998  ...  131.100006   \n",
       "1984   103.599998  124.000000  137.800003  111.199997  ...  127.000000   \n",
       "1985   100.699997  121.599998  135.300003  109.400002  ...  125.400002   \n",
       "1986    96.699997  118.199997  137.600006  104.099998  ...  126.599998   \n",
       "1987    95.000000  109.500000  134.000000  101.099998  ...  126.599998   \n",
       "1988    84.500000  107.599998  134.000000  100.199997  ...  124.400002   \n",
       "1989    78.400002  104.599998  132.500000   94.400002  ...  122.400002   \n",
       "1990    90.099998   94.099998  128.300003   95.400002  ...  118.599998   \n",
       "1991    85.400002   96.099998  127.199997   97.099998  ...  121.500000   \n",
       "1992    85.099998   94.800003  128.199997   95.199997  ...  112.800003   \n",
       "1993    86.699997   94.599998  126.800003   92.500000  ...  115.199997   \n",
       "1994    93.000000   85.699997  128.199997   93.400002  ...  112.199997   \n",
       "1995    78.199997   84.300003  135.399994   93.000000  ...  109.199997   \n",
       "1996    73.599998   81.800003  135.100006   94.000000  ...  102.900002   \n",
       "1997    75.000000   79.599998  135.300003   93.900002  ...  124.500000   \n",
       "1998    78.900002   80.300003  135.899994   94.000000  ...  126.900002   \n",
       "1999    75.099998   72.199997  133.300003   91.699997  ...  109.400002   \n",
       "2000    66.900002   70.000000  125.500000   88.900002  ...  103.900002   \n",
       "\n",
       "state          31          32          33         34          35          36  \\\n",
       "year                                                                           \n",
       "1970    92.699997   99.800003  106.400002  65.500000  122.599998  124.300003   \n",
       "1971    96.699997  106.300003  108.900002  67.699997  124.400002  128.399994   \n",
       "1972   103.000000  111.500000  108.599998  71.300003  138.000000  137.000000   \n",
       "1973   103.500000  109.699997  110.400002  72.699997  146.800003  143.100006   \n",
       "1974   108.400002  114.800003  114.699997  75.599998  151.800003  149.600006   \n",
       "1975   113.500000  117.400002  116.000000  75.800003  155.500000  152.699997   \n",
       "1976   116.699997  121.699997  121.400002  77.900002  171.100006  158.100006   \n",
       "1977   115.599998  124.599998  124.199997  78.000000  169.399994  157.699997   \n",
       "1978   116.900002  127.300003  126.599998  79.599998  162.399994  155.899994   \n",
       "1979   117.400002  127.199997  126.400002  79.099998  160.899994  151.800003   \n",
       "1980   114.699997  130.399994  129.699997  74.800003  161.600006  148.899994   \n",
       "1981   115.699997  129.100006  129.000000  77.599998  163.800003  149.899994   \n",
       "1982   113.000000  131.399994  131.199997  73.599998  162.300003  147.399994   \n",
       "1983   109.800003  129.000000  126.400002  69.000000  153.800003  144.699997   \n",
       "1984   105.699997  125.099998  117.199997  66.300003  144.300003  136.800003   \n",
       "1985   104.400002  128.699997  115.900002  66.500000  144.500000  134.600006   \n",
       "1986    97.000000  129.000000  113.699997  64.400002  131.199997  135.800003   \n",
       "1987    95.800003  130.600006  105.800003  67.699997  128.300003  133.000000   \n",
       "1988    91.900002  125.300003   96.500000  55.000000  128.699997  129.500000   \n",
       "1989    87.400002  124.699997   94.500000  57.000000  120.900002  122.500000   \n",
       "1990    88.300003  121.800003   85.599998  53.400002  124.300003  118.900002   \n",
       "1991    91.800003  120.599998   79.400002  53.500000  120.900002  109.099998   \n",
       "1992    93.000000  121.000000   77.199997  55.000000  126.500000  108.199997   \n",
       "1993    91.599998  120.800003   81.300003  56.200001  117.199997  105.400002   \n",
       "1994    94.800003  118.800003   78.800003  55.799999  120.300003  106.199997   \n",
       "1995    98.599998  125.400002   75.199997  52.000000  123.199997  106.699997   \n",
       "1996    92.300003  119.199997   74.599998  54.000000  102.500000  104.599998   \n",
       "1997    88.800003  118.900002   72.599998  57.000000   97.699997  108.000000   \n",
       "1998    88.300003  119.699997   73.199997  42.299999   97.000000  105.599998   \n",
       "1999    83.500000  115.599998   67.599998  43.900002   94.099998  102.099998   \n",
       "2000    75.099998  108.699997   69.300003  40.700001   88.900002   96.699997   \n",
       "\n",
       "state          37          38          39  \n",
       "year                                       \n",
       "1970   114.500000  106.400002  132.199997  \n",
       "1971   111.500000  105.400002  131.699997  \n",
       "1972   117.500000  108.800003  140.000000  \n",
       "1973   116.599998  109.500000  141.199997  \n",
       "1974   119.900002  111.800003  145.800003  \n",
       "1975   123.199997  113.500000  160.699997  \n",
       "1976   129.699997  115.400002  161.500000  \n",
       "1977   133.899994  117.199997  160.399994  \n",
       "1978   131.600006  116.699997  160.300003  \n",
       "1979   122.099998  117.099998  168.600006  \n",
       "1980   122.300003  117.599998  158.100006  \n",
       "1981   120.500000  119.900002  163.100006  \n",
       "1982   119.800003  115.599998  157.699997  \n",
       "1983   115.699997  106.300003  141.199997  \n",
       "1984   111.900002  105.599998  128.899994  \n",
       "1985   109.099998  107.000000  125.699997  \n",
       "1986   112.099998  105.400002  124.800003  \n",
       "1987   107.500000  106.000000  110.400002  \n",
       "1988   109.099998  102.599998  114.300003  \n",
       "1989   104.000000  100.300003  111.400002  \n",
       "1990   104.099998   94.000000   96.900002  \n",
       "1991   100.099998   95.500000  109.099998  \n",
       "1992    97.900002   96.199997  110.800003  \n",
       "1993   111.000000   91.199997  108.400002  \n",
       "1994   104.199997   91.800003  111.199997  \n",
       "1995   115.199997   93.500000  115.000000  \n",
       "1996   112.699997   92.099998  110.300003  \n",
       "1997   114.500000   91.900002  108.800003  \n",
       "1998   114.599998   88.699997  102.900002  \n",
       "1999   112.400002   84.400002  104.800003  \n",
       "2000   107.900002   80.099998   90.500000  \n",
       "\n",
       "[31 rows x 38 columns]"
      ]
     },
     "execution_count": 42,
     "metadata": {},
     "output_type": "execute_result"
    }
   ],
   "source": [
    "post_inter_X = cigar.query(\"~california\").pivot(index='year', columns=\"state\")[\"cigsale\"]\n",
    "post_inter_X"
   ]
  },
  {
   "cell_type": "code",
   "execution_count": 44,
   "id": "bf7cf549-fb50-4b09-a40c-00f588805866",
   "metadata": {},
   "outputs": [
    {
     "data": {
      "text/plain": [
       "array([123.        , 121.        , 123.5       , 124.40000153,\n",
       "       126.69999695, 127.09999847, 128.        , 126.40000153,\n",
       "       126.09999847, 121.90000153, 120.19999695, 118.59999847,\n",
       "       115.40000153, 110.80000305, 104.80000305, 102.80000305,\n",
       "        99.69999695,  97.5       ,  90.09999847,  92.07147552,\n",
       "       102.7210304 ,  93.1500545 ,  76.61895546, 107.5980029 ,\n",
       "       105.8377827 ,  98.39453838, 112.84481194, 101.7323058 ,\n",
       "        73.01922051,  87.1804984 ,  72.83188875])"
      ]
     },
     "execution_count": 44,
     "metadata": {},
     "output_type": "execute_result"
    }
   ],
   "source": [
    "calif_synth_lr = post_inter_X.values.dot(weights_lr)\n",
    "calif_synth_lr"
   ]
  },
  {
   "cell_type": "code",
   "execution_count": 46,
   "id": "1725df64-6b72-452d-829c-14c35a4110b1",
   "metadata": {},
   "outputs": [
    {
     "data": {
      "image/png": "[encoded data removed]",
      "text/plain": [
       "<Figure size 1000x600 with 1 Axes>"
      ]
     },
     "metadata": {},
     "output_type": "display_data"
    }
   ],
   "source": [
    "plt.figure(figsize=(10,6))\n",
    "plt.plot(cigar.query(\"california\")[\"year\"], cigar.query(\"california\")[\"cigsale\"], label=\"California\")\n",
    "plt.plot(cigar.query(\"california\")[\"year\"], calif_synth_lr, label=\"Synthetic Control\")\n",
    "plt.vlines(x=1988, ymin=40, ymax=140, linestyle=\":\", lw=2, label=\"Proposition 99\")\n",
    "plt.ylabel(\"Gap in per-capita cigarette sales (in packs)\")\n",
    "plt.legend();"
   ]
  },
  {
   "cell_type": "markdown",
   "id": "a43b6dc3-78a1-4f12-a46f-3a99d22b2904",
   "metadata": {},
   "source": [
    "If we think about why this is happening, remember that we have 38 states in our donor pool. So our linear regression has 38 parameters to play with in order to make the pretreatment pool match the treatment as close as it can. This is the case where, even if T is large, N is also large, which gives too much flexibility to our linear regression model. __If you are familiar with regularized models, know that you could use Ridge or Lasso regression to fix this. Here, we will look at another more traditional way to avoid overfitting. However, penalized regression still won't resolve the extrapolation problem!!!! (eg., negative weights for sales don't make sense), hence we will use interpolation__"
   ]
  },
  {
   "cell_type": "code",
   "execution_count": 49,
   "id": "04e91354-31a3-4e27-a259-577138b6cf44",
   "metadata": {},
   "outputs": [
    {
     "data": {
      "image/png": "[encoded data removed]",
      "text/plain": [
       "<Figure size 1000x1000 with 1 Axes>"
      ]
     },
     "metadata": {},
     "output_type": "display_data"
    }
   ],
   "source": [
    "\n",
    "from PIL import Image\n",
    "\n",
    "# Load the image\n",
    "image_path = './images/interpolation_extrapolation.JPG'  # Replace with your image path\n",
    "img = Image.open(image_path)\n",
    "\n",
    "# Display the image\n",
    "plt.figure(figsize=(10, 10))  # Adjust the figure size as needed\n",
    "plt.imshow(img)\n",
    "plt.axis('off')  # Hide the axes\n",
    "plt.show()"
   ]
  },
  {
   "cell_type": "markdown",
   "id": "fcbd3c9c-cda0-4af2-bfb3-d8dd60cab025",
   "metadata": {},
   "source": [
    "### interpolation\n",
    "\n",
    "Solution: Constrain optimization with weights to be strickly positive and between 0 and 1 and sum to 1. In addition, negative price and sales are almost impossible in practice."
   ]
  },
  {
   "cell_type": "code",
   "execution_count": 52,
   "id": "bbf63551-0546-4f52-9aa9-825ec212ac4f",
   "metadata": {},
   "outputs": [],
   "source": [
    "from typing import List\n",
    "from operator import add\n",
    "from toolz import reduce, partial\n",
    "\n",
    "def loss_w(W, X, y) -> float:\n",
    "    return np.sqrt(np.mean((y - X.dot(W))**2))"
   ]
  },
  {
   "cell_type": "code",
   "execution_count": 54,
   "id": "3db3b034-1ae7-45d0-80ee-626a36fc3446",
   "metadata": {},
   "outputs": [],
   "source": [
    "from scipy.optimize import fmin_slsqp\n",
    "\n",
    "def get_w(X, y):\n",
    "    \n",
    "    w_start = [1/X.shape[1]]*X.shape[1]\n",
    "\n",
    "    weights = fmin_slsqp(partial(loss_w, X=X, y=y),\n",
    "                         np.array(w_start),\n",
    "                         ## sum to 1 \n",
    "                         f_eqcons=lambda x: np.sum(x) - 1,\n",
    "                         \n",
    "                         ## weight between 0 and 1\n",
    "                         bounds=[(0.0, 1.0)]*len(w_start),\n",
    "                         disp=False)\n",
    "    return weights"
   ]
  },
  {
   "cell_type": "code",
   "execution_count": 56,
   "id": "cd2cb1da-efe9-4253-8b88-eadc69d01289",
   "metadata": {},
   "outputs": [
    {
     "name": "stdout",
     "output_type": "stream",
     "text": [
      "Sum: 1.000000000000257\n"
     ]
    },
    {
     "data": {
      "text/plain": [
       "array([0.    , 0.    , 0.    , 0.0852, 0.    , 0.    , 0.    , 0.    ,\n",
       "       0.    , 0.    , 0.    , 0.    , 0.    , 0.    , 0.    , 0.    ,\n",
       "       0.    , 0.    , 0.    , 0.113 , 0.1051, 0.4566, 0.    , 0.    ,\n",
       "       0.    , 0.    , 0.    , 0.    , 0.    , 0.    , 0.    , 0.    ,\n",
       "       0.2401, 0.    , 0.    , 0.    , 0.    , 0.    ])"
      ]
     },
     "execution_count": 56,
     "metadata": {},
     "output_type": "execute_result"
    }
   ],
   "source": [
    "calif_weights = get_w(X, y)\n",
    "print(\"Sum:\", calif_weights.sum())\n",
    "np.round(calif_weights, 4)"
   ]
  },
  {
   "cell_type": "code",
   "execution_count": 76,
   "id": "49f22200-0ffc-40c0-8369-f69ef9e761d4",
   "metadata": {},
   "outputs": [],
   "source": [
    "from sklearn.linear_model import Lasso, ElasticNet\n",
    "lasso = Lasso(alpha=10, positive=True)"
   ]
  },
  {
   "cell_type": "code",
   "execution_count": 78,
   "id": "96ea578e-c986-4ec0-b4d1-5da05fd25881",
   "metadata": {},
   "outputs": [],
   "source": [
    "model = lasso.fit(X,y)"
   ]
  },
  {
   "cell_type": "code",
   "execution_count": 80,
   "id": "7f8a27f5-75a7-43fa-82aa-caf7f0a9b74a",
   "metadata": {},
   "outputs": [
    {
     "data": {
      "text/plain": [
       "array([0.        , 0.        , 0.06995609, 0.08175251, 0.        ,\n",
       "       0.        , 0.        , 0.        , 0.        , 0.        ,\n",
       "       0.        , 0.        , 0.        , 0.        , 0.        ,\n",
       "       0.        , 0.        , 0.01595597, 0.        , 0.13722017,\n",
       "       0.12544177, 0.        , 0.        , 0.        , 0.        ,\n",
       "       0.        , 0.        , 0.        , 0.        , 0.        ,\n",
       "       0.        , 0.        , 0.45505963, 0.        , 0.        ,\n",
       "       0.        , 0.        , 0.        ])"
      ]
     },
     "execution_count": 80,
     "metadata": {},
     "output_type": "execute_result"
    }
   ],
   "source": [
    "model.coef_"
   ]
  },
  {
   "cell_type": "code",
   "execution_count": 17,
   "id": "f0e062cc-3f98-4674-a877-686ef3714004",
   "metadata": {},
   "outputs": [],
   "source": [
    "calif_synth = cigar.query(\"~california\").pivot(index='year', columns=\"state\")[\"cigsale\"].values.dot(calif_weights)"
   ]
  },
  {
   "cell_type": "code",
   "execution_count": 18,
   "id": "d83acbe1-7df4-4019-9b6d-d0edc7511d03",
   "metadata": {},
   "outputs": [
    {
     "data": {
      "image/png": "[encoded data removed]",
      "text/plain": [
       "<Figure size 720x432 with 1 Axes>"
      ]
     },
     "metadata": {
      "needs_background": "light"
     },
     "output_type": "display_data"
    }
   ],
   "source": [
    "plt.figure(figsize=(10,6))\n",
    "plt.plot(cigar.query(\"california\")[\"year\"], cigar.query(\"california\")[\"cigsale\"], label=\"California\")\n",
    "plt.plot(cigar.query(\"california\")[\"year\"], calif_synth, label=\"Synthetic Control\")\n",
    "plt.vlines(x=1988, ymin=40, ymax=140, linestyle=\":\", lw=2, label=\"Proposition 99\")\n",
    "plt.ylabel(\"Per-capita cigarette sales (in packs)\")\n",
    "plt.legend();"
   ]
  },
  {
   "cell_type": "markdown",
   "id": "d2b52bce-d959-4935-abde-de7b6ffefdb1",
   "metadata": {},
   "source": [
    "__Treatment effect__"
   ]
  },
  {
   "cell_type": "code",
   "execution_count": 19,
   "id": "1eddabd6-eab3-48ed-bae3-c43a2dda66e0",
   "metadata": {},
   "outputs": [
    {
     "data": {
      "image/png": "[encoded data removed]",
      "text/plain": [
       "<Figure size 720x432 with 1 Axes>"
      ]
     },
     "metadata": {
      "needs_background": "light"
     },
     "output_type": "display_data"
    }
   ],
   "source": [
    "plt.figure(figsize=(10,6))\n",
    "plt.plot(cigar.query(\"california\")[\"year\"], cigar.query(\"california\")[\"cigsale\"] - calif_synth,\n",
    "         label=\"California Effect\")\n",
    "plt.vlines(x=1988, ymin=-30, ymax=7, linestyle=\":\", lw=2, label=\"Proposition 99\")\n",
    "plt.hlines(y=0, xmin=1970, xmax=2000, lw=2)\n",
    "plt.title(\"State - Synthetic Across Time\")\n",
    "plt.ylabel(\"Gap in per-capita cigarette sales (in packs)\")\n",
    "plt.legend();"
   ]
  },
  {
   "cell_type": "markdown",
   "id": "067d4afa-4cd3-4118-8afe-2e818e9d53fd",
   "metadata": {},
   "source": [
    "By the year 2000, it looks like Proposition 99 has reduced the sales in cigarettes by 25 packs. That is very cool and all, but something you might be asking yourself is: __how can I know if this is statistically significant?__"
   ]
  },
  {
   "cell_type": "markdown",
   "id": "d78fc72b-7fa8-4309-925f-0bbbafa0a96a",
   "metadata": {},
   "source": [
    "__permutation test__"
   ]
  },
  {
   "cell_type": "code",
   "execution_count": 27,
   "id": "31ee92fa-3451-422c-9bd5-f0453237f692",
   "metadata": {},
   "outputs": [],
   "source": [
    "def synthetic_control(state: int, data: pd.DataFrame) -> np.array:\n",
    "    \n",
    "    features = [\"cigsale\", \"retprice\"]\n",
    "    \n",
    "    inverted = (data.query(\"~after_treatment\")\n",
    "                .pivot(index='state', columns=\"year\")[features]\n",
    "                .T)\n",
    "    \n",
    "    y = inverted[state].values # treated\n",
    "    X = inverted.drop(columns=state).values # donor pool\n",
    "\n",
    "    weights = get_w(X, y)\n",
    "    synthetic = (data.query(f\"~(state=={state})\")\n",
    "                 .pivot(index='year', columns=\"state\")[\"cigsale\"]\n",
    "                 .values.dot(weights))\n",
    "\n",
    "    return (data\n",
    "            .query(f\"state=={state}\")[[\"state\", \"year\", \"cigsale\", \"after_treatment\"]]\n",
    "            .assign(synthetic=synthetic))"
   ]
  },
  {
   "cell_type": "code",
   "execution_count": 29,
   "id": "ccaf41c1-8069-42f0-849e-ae546662c561",
   "metadata": {},
   "outputs": [],
   "source": [
    "from joblib import Parallel, delayed\n",
    "\n",
    "control_pool = cigar[\"state\"].unique()\n",
    "\n",
    "parallel_fn = delayed(partial(synthetic_control, data=cigar))\n",
    "\n",
    "synthetic_states = Parallel(n_jobs=8)(parallel_fn(state) for state in control_pool)"
   ]
  },
  {
   "cell_type": "code",
   "execution_count": 37,
   "id": "2e52047f-8979-45e9-a5c2-e9d91b40889d",
   "metadata": {},
   "outputs": [
    {
     "data": {
      "image/png": "[encoded data removed]",
      "text/plain": [
       "<Figure size 864x504 with 1 Axes>"
      ]
     },
     "metadata": {
      "needs_background": "light"
     },
     "output_type": "display_data"
    }
   ],
   "source": [
    "plt.figure(figsize=(12,7))\n",
    "for state in synthetic_states:\n",
    "    plt.plot(state[\"year\"], state[\"cigsale\"] - state[\"synthetic\"], color=\"C5\",alpha=0.4)\n",
    "\n",
    "plt.plot(cigar.query(\"california\")[\"year\"], cigar.query(\"california\")[\"cigsale\"] - calif_synth,\n",
    "        label=\"California\");\n",
    "\n",
    "plt.vlines(x=1988, ymin=-50, ymax=120, linestyle=\":\", lw=2, label=\"Proposition 99\")\n",
    "plt.hlines(y=0, xmin=1970, xmax=2000, lw=3)\n",
    "plt.ylabel(\"Gap in per-capita cigarette sales (in packs)\")\n",
    "plt.title(\"State - Synthetic Across Time\")\n",
    "plt.legend();"
   ]
  },
  {
   "cell_type": "code",
   "execution_count": 38,
   "id": "3cb7b3f5-24f2-4a24-a085-0e857ace4328",
   "metadata": {},
   "outputs": [
    {
     "data": {
      "image/png": "[encoded data removed]",
      "text/plain": [
       "<Figure size 864x504 with 1 Axes>"
      ]
     },
     "metadata": {
      "needs_background": "light"
     },
     "output_type": "display_data"
    }
   ],
   "source": [
    "def pre_treatment_error(state):\n",
    "    pre_treat_error = (state.query(\"~after_treatment\")[\"cigsale\"] \n",
    "                       - state.query(\"~after_treatment\")[\"synthetic\"]) ** 2\n",
    "    return pre_treat_error.mean()\n",
    "\n",
    "plt.figure(figsize=(12,7))\n",
    "for state in synthetic_states:\n",
    "    \n",
    "    # remove units with mean error above 80.\n",
    "    if pre_treatment_error(state) < 80:\n",
    "        plt.plot(state[\"year\"], state[\"cigsale\"] - state[\"synthetic\"], color=\"C5\",alpha=0.4)\n",
    "\n",
    "plt.plot(cigar.query(\"california\")[\"year\"], cigar.query(\"california\")[\"cigsale\"] - calif_synth,\n",
    "        label=\"California\");\n",
    "\n",
    "plt.vlines(x=1988, ymin=-50, ymax=120, linestyle=\":\", lw=2, label=\"Proposition 99\")\n",
    "plt.hlines(y=0, xmin=1970, xmax=2000, lw=3)\n",
    "plt.ylabel(\"Gap in per-capita cigarette sales (in packs)\")\n",
    "plt.title(\"Distribution of Effects\")\n",
    "plt.title(\"State - Synthetic Across Time (Large Pre-Treatment Errors Removed)\")\n",
    "plt.legend();"
   ]
  },
  {
   "cell_type": "markdown",
   "id": "a3cef78c-a9b1-46f6-9194-fe165b765f87",
   "metadata": {},
   "source": [
    "Removing the noise, we can see how extreme of a value is the effect in the state of California. This image shows us that if we pretend the treatment had happened to any other state, we would almost never get an effect so extreme as the one we got with California.\n",
    "\n",
    "if we want to test the one sided hypothesis that the effect in California is below zero, we can estimate the P-value as the proportion of times the effect in California is bigger than all the estimated effects."
   ]
  },
  {
   "cell_type": "markdown",
   "id": "9f79f0d2-1e7e-41e4-8f3e-477f1235cf10",
   "metadata": {},
   "source": [
    "__P-value for year 2000__"
   ]
  },
  {
   "cell_type": "code",
   "execution_count": 39,
   "id": "4b492bd3-4d99-4232-b29d-735c90ab711e",
   "metadata": {},
   "outputs": [
    {
     "name": "stdout",
     "output_type": "stream",
     "text": [
      "California Treatment Effect for the Year 2000: -24.830159726635777\n"
     ]
    },
    {
     "data": {
      "text/plain": [
       "array([  5.79715876,   0.89458993, -24.83015973,  -7.16628117,\n",
       "       -10.9220487 ,  37.11640556, -15.06971715,  -0.49805123,\n",
       "       -18.45795075,  21.13366442,  12.57782778,  -1.47547825,\n",
       "        10.49627382, -11.67012364,   4.29850836,   8.0481141 ,\n",
       "        14.02322401,   8.2500273 ,   0.32576357,  -8.40826908,\n",
       "        -2.12402698,  -7.4286503 ,   2.9615756 ,  24.1047813 ,\n",
       "         4.25211766, -17.75844573,   7.93334015,   2.81640134,\n",
       "        12.64955971, -17.47677513, -25.16040942, -12.26469132,\n",
       "        24.69067414,  10.36299564,  -8.59880351])"
      ]
     },
     "execution_count": 39,
     "metadata": {},
     "output_type": "execute_result"
    }
   ],
   "source": [
    "calif_number = 3\n",
    "\n",
    "effects = [state.query(\"year==2000\").iloc[0][\"cigsale\"] - state.query(\"year==2000\").iloc[0][\"synthetic\"]\n",
    "           for state in synthetic_states\n",
    "           if pre_treatment_error(state) < 80] # filter out noise\n",
    "\n",
    "calif_effect = cigar.query(\"california & year==2000\").iloc[0][\"cigsale\"] - calif_synth[-1] \n",
    "\n",
    "print(\"California Treatment Effect for the Year 2000:\", calif_effect)\n",
    "np.array(effects)"
   ]
  },
  {
   "cell_type": "code",
   "execution_count": 40,
   "id": "f6094b12-d4ce-4e23-b989-d4b06c54697b",
   "metadata": {},
   "outputs": [
    {
     "data": {
      "text/plain": [
       "0.02857142857142857"
      ]
     },
     "execution_count": 40,
     "metadata": {},
     "output_type": "execute_result"
    }
   ],
   "source": [
    "np.mean(np.array(effects) < calif_effect) ## significant"
   ]
  },
  {
   "cell_type": "markdown",
   "id": "6ce1f221-53e9-4255-9093-ab2c503b0f1d",
   "metadata": {},
   "source": [
    "## LATE Effect"
   ]
  },
  {
   "cell_type": "code",
   "execution_count": 23,
   "id": "aaa75681-3fcc-4904-a0e0-fac278af3aea",
   "metadata": {
    "collapsed": true,
    "jupyter": {
     "outputs_hidden": true
    },
    "scrolled": true
   },
   "outputs": [
    {
     "name": "stdout",
     "output_type": "stream",
     "text": [
      "Collecting linearmodels\n",
      "  Downloading linearmodels-6.1-cp312-cp312-win_amd64.whl.metadata (8.1 kB)\n",
      "Requirement already satisfied: numpy<3,>=1.22.3 in c:\\users\\josep\\anaconda3\\lib\\site-packages (from linearmodels) (1.26.4)\n",
      "Requirement already satisfied: pandas>=1.4.0 in c:\\users\\josep\\anaconda3\\lib\\site-packages (from linearmodels) (2.2.2)\n",
      "Requirement already satisfied: scipy>=1.8.0 in c:\\users\\josep\\anaconda3\\lib\\site-packages (from linearmodels) (1.13.1)\n",
      "Requirement already satisfied: statsmodels>=0.13.0 in c:\\users\\josep\\anaconda3\\lib\\site-packages (from linearmodels) (0.14.2)\n",
      "Requirement already satisfied: mypy-extensions>=0.4 in c:\\users\\josep\\anaconda3\\lib\\site-packages (from linearmodels) (1.0.0)\n",
      "Collecting Cython>=3.0.10 (from linearmodels)\n",
      "  Downloading Cython-3.0.11-cp312-cp312-win_amd64.whl.metadata (3.2 kB)\n",
      "Collecting pyhdfe>=0.1 (from linearmodels)\n",
      "  Downloading pyhdfe-0.2.0-py3-none-any.whl.metadata (4.0 kB)\n",
      "Collecting formulaic>=1.0.0 (from linearmodels)\n",
      "  Downloading formulaic-1.0.2-py3-none-any.whl.metadata (6.8 kB)\n",
      "Collecting setuptools-scm<9.0.0,>=8.0.0 (from setuptools-scm[toml]<9.0.0,>=8.0.0->linearmodels)\n",
      "  Downloading setuptools_scm-8.1.0-py3-none-any.whl.metadata (6.6 kB)\n",
      "Collecting interface-meta>=1.2.0 (from formulaic>=1.0.0->linearmodels)\n",
      "  Downloading interface_meta-1.3.0-py3-none-any.whl.metadata (6.7 kB)\n",
      "Requirement already satisfied: typing-extensions>=4.2.0 in c:\\users\\josep\\anaconda3\\lib\\site-packages (from formulaic>=1.0.0->linearmodels) (4.11.0)\n",
      "Requirement already satisfied: wrapt>=1.0 in c:\\users\\josep\\anaconda3\\lib\\site-packages (from formulaic>=1.0.0->linearmodels) (1.14.1)\n",
      "Requirement already satisfied: python-dateutil>=2.8.2 in c:\\users\\josep\\anaconda3\\lib\\site-packages (from pandas>=1.4.0->linearmodels) (2.9.0.post0)\n",
      "Requirement already satisfied: pytz>=2020.1 in c:\\users\\josep\\anaconda3\\lib\\site-packages (from pandas>=1.4.0->linearmodels) (2024.1)\n",
      "Requirement already satisfied: tzdata>=2022.7 in c:\\users\\josep\\anaconda3\\lib\\site-packages (from pandas>=1.4.0->linearmodels) (2023.3)\n",
      "Requirement already satisfied: packaging>=20 in c:\\users\\josep\\anaconda3\\lib\\site-packages (from setuptools-scm<9.0.0,>=8.0.0->setuptools-scm[toml]<9.0.0,>=8.0.0->linearmodels) (23.2)\n",
      "Requirement already satisfied: setuptools in c:\\users\\josep\\anaconda3\\lib\\site-packages (from setuptools-scm<9.0.0,>=8.0.0->setuptools-scm[toml]<9.0.0,>=8.0.0->linearmodels) (69.5.1)\n",
      "Requirement already satisfied: patsy>=0.5.6 in c:\\users\\josep\\anaconda3\\lib\\site-packages (from statsmodels>=0.13.0->linearmodels) (0.5.6)\n",
      "Requirement already satisfied: six in c:\\users\\josep\\anaconda3\\lib\\site-packages (from patsy>=0.5.6->statsmodels>=0.13.0->linearmodels) (1.16.0)\n",
      "Downloading linearmodels-6.1-cp312-cp312-win_amd64.whl (1.7 MB)\n",
      "   ---------------------------------------- 0.0/1.7 MB ? eta -:--:--\n",
      "   - -------------------------------------- 0.1/1.7 MB 2.0 MB/s eta 0:00:01\n",
      "   ------------ --------------------------- 0.5/1.7 MB 6.3 MB/s eta 0:00:01\n",
      "   ---------------------------------------  1.7/1.7 MB 13.2 MB/s eta 0:00:01\n",
      "   ---------------------------------------- 1.7/1.7 MB 11.7 MB/s eta 0:00:00\n",
      "Downloading Cython-3.0.11-cp312-cp312-win_amd64.whl (2.8 MB)\n",
      "   ---------------------------------------- 0.0/2.8 MB ? eta -:--:--\n",
      "   ----------------- ---------------------- 1.2/2.8 MB 37.8 MB/s eta 0:00:01\n",
      "   ---------------------------- ----------- 2.0/2.8 MB 31.2 MB/s eta 0:00:01\n",
      "   ---------------------------------------- 2.8/2.8 MB 22.3 MB/s eta 0:00:00\n",
      "Downloading formulaic-1.0.2-py3-none-any.whl (94 kB)\n",
      "   ---------------------------------------- 0.0/94.5 kB ? eta -:--:--\n",
      "   ---------------------------------------- 94.5/94.5 kB 5.3 MB/s eta 0:00:00\n",
      "Downloading pyhdfe-0.2.0-py3-none-any.whl (19 kB)\n",
      "Downloading setuptools_scm-8.1.0-py3-none-any.whl (43 kB)\n",
      "   ---------------------------------------- 0.0/43.7 kB ? eta -:--:--\n",
      "   ---------------------------------------- 43.7/43.7 kB ? eta 0:00:00\n",
      "Downloading interface_meta-1.3.0-py3-none-any.whl (14 kB)\n",
      "Installing collected packages: setuptools-scm, interface-meta, Cython, pyhdfe, formulaic, linearmodels\n",
      "Successfully installed Cython-3.0.11 formulaic-1.0.2 interface-meta-1.3.0 linearmodels-6.1 pyhdfe-0.2.0 setuptools-scm-8.1.0\n"
     ]
    }
   ],
   "source": [
    "!pip install linearmodels, graphviz"
   ]
  },
  {
   "cell_type": "code",
   "execution_count": 31,
   "id": "d381e21a-a87c-4d72-b47e-adbebf5f9e27",
   "metadata": {},
   "outputs": [],
   "source": [
    "import pandas as pd\n",
    "import numpy as np\n",
    "from scipy import stats\n",
    "from matplotlib import style\n",
    "import seaborn as sns\n",
    "from matplotlib import pyplot as plt\n",
    "import statsmodels.formula.api as smf\n",
    "from linearmodels.iv import IV2SLS\n",
    "import graphviz as gr\n"
   ]
  },
  {
   "cell_type": "code",
   "execution_count": 49,
   "id": "99bc6948-c192-4d74-9810-b194e76e93c8",
   "metadata": {},
   "outputs": [],
   "source": [
    "%matplotlib inline\n",
    "\n",
    "style.use(\"fivethirtyeight\")"
   ]
  },
  {
   "cell_type": "code",
   "execution_count": 33,
   "id": "6e317df1-ea6f-4bb5-899a-dc57df363da4",
   "metadata": {},
   "outputs": [
    {
     "data": {
      "text/html": [
       "<div>\n",
       "<style scoped>\n",
       "    .dataframe tbody tr th:only-of-type {\n",
       "        vertical-align: middle;\n",
       "    }\n",
       "\n",
       "    .dataframe tbody tr th {\n",
       "        vertical-align: top;\n",
       "    }\n",
       "\n",
       "    .dataframe thead th {\n",
       "        text-align: right;\n",
       "    }\n",
       "</style>\n",
       "<table border=\"1\" class=\"dataframe\">\n",
       "  <thead>\n",
       "    <tr style=\"text-align: right;\">\n",
       "      <th></th>\n",
       "      <th>in_app_purchase</th>\n",
       "      <th>push_assigned</th>\n",
       "      <th>push_delivered</th>\n",
       "    </tr>\n",
       "  </thead>\n",
       "  <tbody>\n",
       "    <tr>\n",
       "      <th>0</th>\n",
       "      <td>47</td>\n",
       "      <td>1</td>\n",
       "      <td>1</td>\n",
       "    </tr>\n",
       "    <tr>\n",
       "      <th>1</th>\n",
       "      <td>43</td>\n",
       "      <td>1</td>\n",
       "      <td>0</td>\n",
       "    </tr>\n",
       "    <tr>\n",
       "      <th>2</th>\n",
       "      <td>51</td>\n",
       "      <td>1</td>\n",
       "      <td>1</td>\n",
       "    </tr>\n",
       "    <tr>\n",
       "      <th>3</th>\n",
       "      <td>49</td>\n",
       "      <td>0</td>\n",
       "      <td>0</td>\n",
       "    </tr>\n",
       "    <tr>\n",
       "      <th>4</th>\n",
       "      <td>79</td>\n",
       "      <td>0</td>\n",
       "      <td>0</td>\n",
       "    </tr>\n",
       "  </tbody>\n",
       "</table>\n",
       "</div>"
      ],
      "text/plain": [
       "   in_app_purchase  push_assigned  push_delivered\n",
       "0               47              1               1\n",
       "1               43              1               0\n",
       "2               51              1               1\n",
       "3               49              0               0\n",
       "4               79              0               0"
      ]
     },
     "execution_count": 33,
     "metadata": {},
     "output_type": "execute_result"
    }
   ],
   "source": [
    "data = pd.read_csv(f\"{data_path}/data/app_engagement_push.csv\")\n",
    "    \n",
    "data.head()"
   ]
  },
  {
   "cell_type": "markdown",
   "id": "1a501686-3d25-4198-8c42-43b2a24d626e",
   "metadata": {},
   "source": [
    "### Model them as independent variable "
   ]
  },
  {
   "cell_type": "code",
   "execution_count": 35,
   "id": "af794cb7-dc94-439b-a1ae-f71d46d4bb2e",
   "metadata": {},
   "outputs": [
    {
     "data": {
      "text/html": [
       "<table class=\"simpletable\">\n",
       "<caption>Parameter Estimates</caption>\n",
       "<tr>\n",
       "         <td></td>        <th>Parameter</th> <th>Std. Err.</th> <th>T-stat</th>  <th>P-value</th> <th>Lower CI</th> <th>Upper CI</th>\n",
       "</tr>\n",
       "<tr>\n",
       "  <th>Intercept</th>       <td>69.292</td>    <td>0.3624</td>   <td>191.22</td>  <td>0.0000</td>   <td>68.581</td>   <td>70.002</td> \n",
       "</tr>\n",
       "<tr>\n",
       "  <th>push_assigned</th>   <td>-17.441</td>   <td>0.5702</td>   <td>-30.590</td> <td>0.0000</td>   <td>-18.559</td>  <td>-16.324</td>\n",
       "</tr>\n",
       "<tr>\n",
       "  <th>push_delivered</th>  <td>27.600</td>    <td>0.6124</td>   <td>45.069</td>  <td>0.0000</td>   <td>26.399</td>   <td>28.800</td> \n",
       "</tr>\n",
       "</table>"
      ],
      "text/latex": [
       "\\begin{center}\n",
       "\\begin{tabular}{lcccccc}\n",
       "\\toprule\n",
       "                         & \\textbf{Parameter} & \\textbf{Std. Err.} & \\textbf{T-stat} & \\textbf{P-value} & \\textbf{Lower CI} & \\textbf{Upper CI}  \\\\\n",
       "\\midrule\n",
       "\\textbf{Intercept}       &       69.292       &       0.3624       &      191.22     &      0.0000      &       68.581      &       70.002       \\\\\n",
       "\\textbf{push\\_assigned}  &      -17.441       &       0.5702       &     -30.590     &      0.0000      &      -18.559      &      -16.324       \\\\\n",
       "\\textbf{push\\_delivered} &       27.600       &       0.6124       &      45.069     &      0.0000      &       26.399      &       28.800       \\\\\n",
       "\\bottomrule\n",
       "\\end{tabular}\n",
       "%\\caption{Parameter Estimates}\n",
       "\\end{center}"
      ],
      "text/plain": [
       "<class 'statsmodels.iolib.table.SimpleTable'>"
      ]
     },
     "execution_count": 35,
     "metadata": {},
     "output_type": "execute_result"
    }
   ],
   "source": [
    "ols = IV2SLS.from_formula(\"in_app_purchase ~ 1 + push_assigned + push_delivered\", data).fit()\n",
    "ols.summary.tables[1]"
   ]
  },
  {
   "cell_type": "markdown",
   "id": "29b64bc7-c9cb-438b-b281-fbf9d4447f52",
   "metadata": {},
   "source": [
    "### Model them in two stages"
   ]
  },
  {
   "cell_type": "code",
   "execution_count": 37,
   "id": "910015fa-b63a-4d90-9260-1792c57deb58",
   "metadata": {},
   "outputs": [
    {
     "data": {
      "text/html": [
       "<table class=\"simpletable\">\n",
       "<caption>Parameter Estimates</caption>\n",
       "<tr>\n",
       "        <td></td>        <th>Parameter</th> <th>Std. Err.</th> <th>T-stat</th> <th>P-value</th>  <th>Lower CI</th>  <th>Upper CI</th> \n",
       "</tr>\n",
       "<tr>\n",
       "  <th>Intercept</th>      <td>0.0000</td>   <td>4.88e-10</td>  <td>0.0000</td> <td>1.0000</td>  <td>-9.566e-10</td> <td>9.566e-10</td>\n",
       "</tr>\n",
       "<tr>\n",
       "  <th>push_assigned</th>  <td>0.7176</td>    <td>0.0064</td>   <td>112.07</td> <td>0.0000</td>    <td>0.7050</td>    <td>0.7301</td>  \n",
       "</tr>\n",
       "</table>"
      ],
      "text/latex": [
       "\\begin{center}\n",
       "\\begin{tabular}{lcccccc}\n",
       "\\toprule\n",
       "                        & \\textbf{Parameter} & \\textbf{Std. Err.} & \\textbf{T-stat} & \\textbf{P-value} & \\textbf{Lower CI} & \\textbf{Upper CI}  \\\\\n",
       "\\midrule\n",
       "\\textbf{Intercept}      &       0.0000       &      4.88e-10      &      0.0000     &      1.0000      &     -9.566e-10    &     9.566e-10      \\\\\n",
       "\\textbf{push\\_assigned} &       0.7176       &       0.0064       &      112.07     &      0.0000      &       0.7050      &       0.7301       \\\\\n",
       "\\bottomrule\n",
       "\\end{tabular}\n",
       "%\\caption{Parameter Estimates}\n",
       "\\end{center}"
      ],
      "text/plain": [
       "<class 'statsmodels.iolib.table.SimpleTable'>"
      ]
     },
     "execution_count": 37,
     "metadata": {},
     "output_type": "execute_result"
    }
   ],
   "source": [
    "first_stage = IV2SLS.from_formula(\"push_delivered ~ 1 + push_assigned\", data).fit()\n",
    "first_stage.summary.tables[1]"
   ]
  },
  {
   "cell_type": "code",
   "execution_count": 39,
   "id": "5822cc56-f3dc-44e4-9bfa-f63bc1eb8b46",
   "metadata": {},
   "outputs": [
    {
     "data": {
      "text/html": [
       "<table class=\"simpletable\">\n",
       "<caption>Parameter Estimates</caption>\n",
       "<tr>\n",
       "        <td></td>        <th>Parameter</th> <th>Std. Err.</th> <th>T-stat</th> <th>P-value</th> <th>Lower CI</th> <th>Upper CI</th>\n",
       "</tr>\n",
       "<tr>\n",
       "  <th>Intercept</th>      <td>69.292</td>    <td>0.3624</td>   <td>191.22</td> <td>0.0000</td>   <td>68.581</td>   <td>70.002</td> \n",
       "</tr>\n",
       "<tr>\n",
       "  <th>push_assigned</th>  <td>2.3636</td>    <td>0.5209</td>   <td>4.5376</td> <td>0.0000</td>   <td>1.3427</td>   <td>3.3845</td> \n",
       "</tr>\n",
       "</table>"
      ],
      "text/latex": [
       "\\begin{center}\n",
       "\\begin{tabular}{lcccccc}\n",
       "\\toprule\n",
       "                        & \\textbf{Parameter} & \\textbf{Std. Err.} & \\textbf{T-stat} & \\textbf{P-value} & \\textbf{Lower CI} & \\textbf{Upper CI}  \\\\\n",
       "\\midrule\n",
       "\\textbf{Intercept}      &       69.292       &       0.3624       &      191.22     &      0.0000      &       68.581      &       70.002       \\\\\n",
       "\\textbf{push\\_assigned} &       2.3636       &       0.5209       &      4.5376     &      0.0000      &       1.3427      &       3.3845       \\\\\n",
       "\\bottomrule\n",
       "\\end{tabular}\n",
       "%\\caption{Parameter Estimates}\n",
       "\\end{center}"
      ],
      "text/plain": [
       "<class 'statsmodels.iolib.table.SimpleTable'>"
      ]
     },
     "execution_count": 39,
     "metadata": {},
     "output_type": "execute_result"
    }
   ],
   "source": [
    "reduced_form = IV2SLS.from_formula(\"in_app_purchase ~ 1 + push_assigned\", data).fit()\n",
    "reduced_form.summary.tables[1]"
   ]
  },
  {
   "cell_type": "markdown",
   "id": "5652ee13-8749-4b7f-b7d1-10859aedd9de",
   "metadata": {},
   "source": [
    "__LATE__\n",
    "- Two-stage model:\n",
    "\n",
    "push_delivered = $\\alpha_1$ + $\\beta_1$ * push_assigned + $\\epsilon$\n",
    "\n",
    "app_purhace =  $\\alpha_2$ + $\\beta_2$ * push_delivered + $\\epsilon$\n",
    "\n",
    "\n",
    "- combines above into a one-stage model\n",
    "\n",
    "app_purhace =  $\\alpha_3$ + $\\beta_3$ * push_assigned  + $\\epsilon$ where $\\beta_3 = \\beta_2$ * $\\beta_1$ \n",
    "\n",
    "=> $\\beta_2$ =  $\\frac{\\beta_3} {\\beta_1} = \\frac{2.3636}{0.7176} = 3.2938$ "
   ]
  },
  {
   "cell_type": "markdown",
   "id": "48f3224e-c061-40a0-9307-3c793babd1b8",
   "metadata": {},
   "source": [
    "### Combine them together will get the same result"
   ]
  },
  {
   "cell_type": "code",
   "execution_count": 107,
   "id": "957ee192-b5e8-4ae1-9b77-c7c4654c9ed2",
   "metadata": {},
   "outputs": [
    {
     "data": {
      "text/html": [
       "<table class=\"simpletable\">\n",
       "<caption>Parameter Estimates</caption>\n",
       "<tr>\n",
       "         <td></td>        <th>Parameter</th> <th>Std. Err.</th> <th>T-stat</th> <th>P-value</th> <th>Lower CI</th> <th>Upper CI</th>\n",
       "</tr>\n",
       "<tr>\n",
       "  <th>Intercept</th>       <td>69.292</td>    <td>0.3624</td>   <td>191.22</td> <td>0.0000</td>   <td>68.581</td>   <td>70.002</td> \n",
       "</tr>\n",
       "<tr>\n",
       "  <th>push_delivered</th>  <td>3.2938</td>    <td>0.7165</td>   <td>4.5974</td> <td>0.0000</td>   <td>1.8896</td>   <td>4.6981</td> \n",
       "</tr>\n",
       "</table>"
      ],
      "text/latex": [
       "\\begin{center}\n",
       "\\begin{tabular}{lcccccc}\n",
       "\\toprule\n",
       "                         & \\textbf{Parameter} & \\textbf{Std. Err.} & \\textbf{T-stat} & \\textbf{P-value} & \\textbf{Lower CI} & \\textbf{Upper CI}  \\\\\n",
       "\\midrule\n",
       "\\textbf{Intercept}       &       69.292       &       0.3624       &      191.22     &      0.0000      &       68.581      &       70.002       \\\\\n",
       "\\textbf{push\\_delivered} &       3.2938       &       0.7165       &      4.5974     &      0.0000      &       1.8896      &       4.6981       \\\\\n",
       "\\bottomrule\n",
       "\\end{tabular}\n",
       "%\\caption{Parameter Estimates}\n",
       "\\end{center}"
      ],
      "text/plain": [
       "<class 'statsmodels.iolib.table.SimpleTable'>"
      ]
     },
     "execution_count": 107,
     "metadata": {},
     "output_type": "execute_result"
    }
   ],
   "source": [
    "iv = IV2SLS.from_formula(\"in_app_purchase ~ 1 + [push_delivered ~ push_assigned]\", data).fit()\n",
    "iv.summary.tables[1]"
   ]
  },
  {
   "cell_type": "markdown",
   "id": "1eadf1f4-5ac6-45c0-8eb7-db4031d4585d",
   "metadata": {},
   "source": [
    "### Recognize above is just hiearchical model"
   ]
  },
  {
   "cell_type": "markdown",
   "id": "e74218eb-5881-4b19-a5fb-989ac48b8d69",
   "metadata": {},
   "source": [
    "push_delivered = $\\alpha_1$ + $\\beta_1$ * push_assigned + $\\epsilon$\n",
    "\n",
    "app_purhace =  $\\alpha_2$ + $\\beta_2$ * push_delivered + $\\epsilon$"
   ]
  },
  {
   "cell_type": "code",
   "execution_count": 61,
   "id": "d59103f3-d069-42c3-bf42-28fcd2b7e37c",
   "metadata": {},
   "outputs": [],
   "source": [
    "import statsmodels.api as sm\n",
    "\n",
    "# Model 1: Push Delivered ~ Push Assigned\n",
    "X1 = sm.add_constant(data['push_assigned'])\n",
    "y1 = data['push_delivered']\n",
    "model_1 = sm.OLS(y1, X1).fit()\n",
    "\n",
    "# Get the predicted push_delivered\n",
    "data['predicted_push_delivered'] = model_1.predict(X1)\n",
    "\n",
    "# Model 2: In-App Purchase ~ Push Delivered (using predicted from Model 1)\n",
    "X2 = sm.add_constant(data['predicted_push_delivered'])\n",
    "y2 = data['in_app_purchase']\n",
    "model_2 = sm.OLS(y2, X2).fit()\n"
   ]
  },
  {
   "cell_type": "code",
   "execution_count": 79,
   "id": "2260e863-07ec-4fbb-99d5-21ffd92948cc",
   "metadata": {},
   "outputs": [
    {
     "data": {
      "text/html": [
       "<table class=\"simpletable\">\n",
       "<caption>OLS Regression Results</caption>\n",
       "<tr>\n",
       "  <th>Dep. Variable:</th>     <td>push_delivered</td>  <th>  R-squared:         </th> <td>   0.562</td> \n",
       "</tr>\n",
       "<tr>\n",
       "  <th>Model:</th>                   <td>OLS</td>       <th>  Adj. R-squared:    </th> <td>   0.562</td> \n",
       "</tr>\n",
       "<tr>\n",
       "  <th>Method:</th>             <td>Least Squares</td>  <th>  F-statistic:       </th> <td>1.285e+04</td>\n",
       "</tr>\n",
       "<tr>\n",
       "  <th>Date:</th>             <td>Wed, 09 Oct 2024</td> <th>  Prob (F-statistic):</th>  <td>  0.00</td>  \n",
       "</tr>\n",
       "<tr>\n",
       "  <th>Time:</th>                 <td>11:08:59</td>     <th>  Log-Likelihood:    </th> <td> -2685.2</td> \n",
       "</tr>\n",
       "<tr>\n",
       "  <th>No. Observations:</th>      <td> 10000</td>      <th>  AIC:               </th> <td>   5374.</td> \n",
       "</tr>\n",
       "<tr>\n",
       "  <th>Df Residuals:</th>          <td>  9998</td>      <th>  BIC:               </th> <td>   5389.</td> \n",
       "</tr>\n",
       "<tr>\n",
       "  <th>Df Model:</th>              <td>     1</td>      <th>                     </th>     <td> </td>    \n",
       "</tr>\n",
       "<tr>\n",
       "  <th>Covariance Type:</th>      <td>nonrobust</td>    <th>                     </th>     <td> </td>    \n",
       "</tr>\n",
       "</table>\n",
       "<table class=\"simpletable\">\n",
       "<tr>\n",
       "        <td></td>           <th>coef</th>     <th>std err</th>      <th>t</th>      <th>P>|t|</th>  <th>[0.025</th>    <th>0.975]</th>  \n",
       "</tr>\n",
       "<tr>\n",
       "  <th>const</th>         <td> 1.428e-16</td> <td>    0.004</td> <td> 3.21e-14</td> <td> 1.000</td> <td>   -0.009</td> <td>    0.009</td>\n",
       "</tr>\n",
       "<tr>\n",
       "  <th>push_assigned</th> <td>    0.7176</td> <td>    0.006</td> <td>  113.342</td> <td> 0.000</td> <td>    0.705</td> <td>    0.730</td>\n",
       "</tr>\n",
       "</table>\n",
       "<table class=\"simpletable\">\n",
       "<tr>\n",
       "  <th>Omnibus:</th>       <td>2032.205</td> <th>  Durbin-Watson:     </th> <td>   2.004</td>\n",
       "</tr>\n",
       "<tr>\n",
       "  <th>Prob(Omnibus):</th>  <td> 0.000</td>  <th>  Jarque-Bera (JB):  </th> <td>3498.233</td>\n",
       "</tr>\n",
       "<tr>\n",
       "  <th>Skew:</th>           <td>-1.375</td>  <th>  Prob(JB):          </th> <td>    0.00</td>\n",
       "</tr>\n",
       "<tr>\n",
       "  <th>Kurtosis:</th>       <td> 3.913</td>  <th>  Cond. No.          </th> <td>    2.60</td>\n",
       "</tr>\n",
       "</table><br/><br/>Notes:<br/>[1] Standard Errors assume that the covariance matrix of the errors is correctly specified."
      ],
      "text/latex": [
       "\\begin{center}\n",
       "\\begin{tabular}{lclc}\n",
       "\\toprule\n",
       "\\textbf{Dep. Variable:}    & push\\_delivered  & \\textbf{  R-squared:         } &     0.562   \\\\\n",
       "\\textbf{Model:}            &       OLS        & \\textbf{  Adj. R-squared:    } &     0.562   \\\\\n",
       "\\textbf{Method:}           &  Least Squares   & \\textbf{  F-statistic:       } & 1.285e+04   \\\\\n",
       "\\textbf{Date:}             & Wed, 09 Oct 2024 & \\textbf{  Prob (F-statistic):} &     0.00    \\\\\n",
       "\\textbf{Time:}             &     11:08:59     & \\textbf{  Log-Likelihood:    } &   -2685.2   \\\\\n",
       "\\textbf{No. Observations:} &       10000      & \\textbf{  AIC:               } &     5374.   \\\\\n",
       "\\textbf{Df Residuals:}     &        9998      & \\textbf{  BIC:               } &     5389.   \\\\\n",
       "\\textbf{Df Model:}         &           1      & \\textbf{                     } &             \\\\\n",
       "\\textbf{Covariance Type:}  &    nonrobust     & \\textbf{                     } &             \\\\\n",
       "\\bottomrule\n",
       "\\end{tabular}\n",
       "\\begin{tabular}{lcccccc}\n",
       "                        & \\textbf{coef} & \\textbf{std err} & \\textbf{t} & \\textbf{P$> |$t$|$} & \\textbf{[0.025} & \\textbf{0.975]}  \\\\\n",
       "\\midrule\n",
       "\\textbf{const}          &    1.428e-16  &        0.004     &  3.21e-14  &         1.000        &       -0.009    &        0.009     \\\\\n",
       "\\textbf{push\\_assigned} &       0.7176  &        0.006     &   113.342  &         0.000        &        0.705    &        0.730     \\\\\n",
       "\\bottomrule\n",
       "\\end{tabular}\n",
       "\\begin{tabular}{lclc}\n",
       "\\textbf{Omnibus:}       & 2032.205 & \\textbf{  Durbin-Watson:     } &    2.004  \\\\\n",
       "\\textbf{Prob(Omnibus):} &   0.000  & \\textbf{  Jarque-Bera (JB):  } & 3498.233  \\\\\n",
       "\\textbf{Skew:}          &  -1.375  & \\textbf{  Prob(JB):          } &     0.00  \\\\\n",
       "\\textbf{Kurtosis:}      &   3.913  & \\textbf{  Cond. No.          } &     2.60  \\\\\n",
       "\\bottomrule\n",
       "\\end{tabular}\n",
       "%\\caption{OLS Regression Results}\n",
       "\\end{center}\n",
       "\n",
       "Notes: \\newline\n",
       " [1] Standard Errors assume that the covariance matrix of the errors is correctly specified."
      ],
      "text/plain": [
       "<class 'statsmodels.iolib.summary.Summary'>\n",
       "\"\"\"\n",
       "                            OLS Regression Results                            \n",
       "==============================================================================\n",
       "Dep. Variable:         push_delivered   R-squared:                       0.562\n",
       "Model:                            OLS   Adj. R-squared:                  0.562\n",
       "Method:                 Least Squares   F-statistic:                 1.285e+04\n",
       "Date:                Wed, 09 Oct 2024   Prob (F-statistic):               0.00\n",
       "Time:                        11:08:59   Log-Likelihood:                -2685.2\n",
       "No. Observations:               10000   AIC:                             5374.\n",
       "Df Residuals:                    9998   BIC:                             5389.\n",
       "Df Model:                           1                                         \n",
       "Covariance Type:            nonrobust                                         \n",
       "=================================================================================\n",
       "                    coef    std err          t      P>|t|      [0.025      0.975]\n",
       "---------------------------------------------------------------------------------\n",
       "const          1.428e-16      0.004   3.21e-14      1.000      -0.009       0.009\n",
       "push_assigned     0.7176      0.006    113.342      0.000       0.705       0.730\n",
       "==============================================================================\n",
       "Omnibus:                     2032.205   Durbin-Watson:                   2.004\n",
       "Prob(Omnibus):                  0.000   Jarque-Bera (JB):             3498.233\n",
       "Skew:                          -1.375   Prob(JB):                         0.00\n",
       "Kurtosis:                       3.913   Cond. No.                         2.60\n",
       "==============================================================================\n",
       "\n",
       "Notes:\n",
       "[1] Standard Errors assume that the covariance matrix of the errors is correctly specified.\n",
       "\"\"\""
      ]
     },
     "execution_count": 79,
     "metadata": {},
     "output_type": "execute_result"
    }
   ],
   "source": [
    "model_1.summary()"
   ]
  },
  {
   "cell_type": "code",
   "execution_count": 81,
   "id": "21f2f8e3-66b8-4518-82d8-bfbdff03f70f",
   "metadata": {},
   "outputs": [
    {
     "data": {
      "text/html": [
       "<table class=\"simpletable\">\n",
       "<caption>OLS Regression Results</caption>\n",
       "<tr>\n",
       "  <th>Dep. Variable:</th>     <td>in_app_purchase</td> <th>  R-squared:         </th> <td>   0.002</td> \n",
       "</tr>\n",
       "<tr>\n",
       "  <th>Model:</th>                   <td>OLS</td>       <th>  Adj. R-squared:    </th> <td>   0.002</td> \n",
       "</tr>\n",
       "<tr>\n",
       "  <th>Method:</th>             <td>Least Squares</td>  <th>  F-statistic:       </th> <td>   20.60</td> \n",
       "</tr>\n",
       "<tr>\n",
       "  <th>Date:</th>             <td>Wed, 09 Oct 2024</td> <th>  Prob (F-statistic):</th> <td>5.74e-06</td> \n",
       "</tr>\n",
       "<tr>\n",
       "  <th>Time:</th>                 <td>11:09:10</td>     <th>  Log-Likelihood:    </th> <td> -46784.</td> \n",
       "</tr>\n",
       "<tr>\n",
       "  <th>No. Observations:</th>      <td> 10000</td>      <th>  AIC:               </th> <td>9.357e+04</td>\n",
       "</tr>\n",
       "<tr>\n",
       "  <th>Df Residuals:</th>          <td>  9998</td>      <th>  BIC:               </th> <td>9.359e+04</td>\n",
       "</tr>\n",
       "<tr>\n",
       "  <th>Df Model:</th>              <td>     1</td>      <th>                     </th>     <td> </td>    \n",
       "</tr>\n",
       "<tr>\n",
       "  <th>Covariance Type:</th>      <td>nonrobust</td>    <th>                     </th>     <td> </td>    \n",
       "</tr>\n",
       "</table>\n",
       "<table class=\"simpletable\">\n",
       "<tr>\n",
       "              <td></td>                <th>coef</th>     <th>std err</th>      <th>t</th>      <th>P>|t|</th>  <th>[0.025</th>    <th>0.975]</th>  \n",
       "</tr>\n",
       "<tr>\n",
       "  <th>const</th>                    <td>   69.2917</td> <td>    0.366</td> <td>  189.234</td> <td> 0.000</td> <td>   68.574</td> <td>   70.009</td>\n",
       "</tr>\n",
       "<tr>\n",
       "  <th>predicted_push_delivered</th> <td>    3.2938</td> <td>    0.726</td> <td>    4.538</td> <td> 0.000</td> <td>    1.871</td> <td>    4.717</td>\n",
       "</tr>\n",
       "</table>\n",
       "<table class=\"simpletable\">\n",
       "<tr>\n",
       "  <th>Omnibus:</th>       <td>908.959</td> <th>  Durbin-Watson:     </th> <td>   1.994</td> \n",
       "</tr>\n",
       "<tr>\n",
       "  <th>Prob(Omnibus):</th> <td> 0.000</td>  <th>  Jarque-Bera (JB):  </th> <td>1262.774</td> \n",
       "</tr>\n",
       "<tr>\n",
       "  <th>Skew:</th>          <td> 0.740</td>  <th>  Prob(JB):          </th> <td>6.19e-275</td>\n",
       "</tr>\n",
       "<tr>\n",
       "  <th>Kurtosis:</th>      <td> 3.917</td>  <th>  Cond. No.          </th> <td>    3.18</td> \n",
       "</tr>\n",
       "</table><br/><br/>Notes:<br/>[1] Standard Errors assume that the covariance matrix of the errors is correctly specified."
      ],
      "text/latex": [
       "\\begin{center}\n",
       "\\begin{tabular}{lclc}\n",
       "\\toprule\n",
       "\\textbf{Dep. Variable:}             & in\\_app\\_purchase & \\textbf{  R-squared:         } &     0.002   \\\\\n",
       "\\textbf{Model:}                     &        OLS        & \\textbf{  Adj. R-squared:    } &     0.002   \\\\\n",
       "\\textbf{Method:}                    &   Least Squares   & \\textbf{  F-statistic:       } &     20.60   \\\\\n",
       "\\textbf{Date:}                      &  Wed, 09 Oct 2024 & \\textbf{  Prob (F-statistic):} &  5.74e-06   \\\\\n",
       "\\textbf{Time:}                      &      11:09:10     & \\textbf{  Log-Likelihood:    } &   -46784.   \\\\\n",
       "\\textbf{No. Observations:}          &        10000      & \\textbf{  AIC:               } & 9.357e+04   \\\\\n",
       "\\textbf{Df Residuals:}              &         9998      & \\textbf{  BIC:               } & 9.359e+04   \\\\\n",
       "\\textbf{Df Model:}                  &            1      & \\textbf{                     } &             \\\\\n",
       "\\textbf{Covariance Type:}           &     nonrobust     & \\textbf{                     } &             \\\\\n",
       "\\bottomrule\n",
       "\\end{tabular}\n",
       "\\begin{tabular}{lcccccc}\n",
       "                                    & \\textbf{coef} & \\textbf{std err} & \\textbf{t} & \\textbf{P$> |$t$|$} & \\textbf{[0.025} & \\textbf{0.975]}  \\\\\n",
       "\\midrule\n",
       "\\textbf{const}                      &      69.2917  &        0.366     &   189.234  &         0.000        &       68.574    &       70.009     \\\\\n",
       "\\textbf{predicted\\_push\\_delivered} &       3.2938  &        0.726     &     4.538  &         0.000        &        1.871    &        4.717     \\\\\n",
       "\\bottomrule\n",
       "\\end{tabular}\n",
       "\\begin{tabular}{lclc}\n",
       "\\textbf{Omnibus:}       & 908.959 & \\textbf{  Durbin-Watson:     } &     1.994  \\\\\n",
       "\\textbf{Prob(Omnibus):} &   0.000 & \\textbf{  Jarque-Bera (JB):  } &  1262.774  \\\\\n",
       "\\textbf{Skew:}          &   0.740 & \\textbf{  Prob(JB):          } & 6.19e-275  \\\\\n",
       "\\textbf{Kurtosis:}      &   3.917 & \\textbf{  Cond. No.          } &      3.18  \\\\\n",
       "\\bottomrule\n",
       "\\end{tabular}\n",
       "%\\caption{OLS Regression Results}\n",
       "\\end{center}\n",
       "\n",
       "Notes: \\newline\n",
       " [1] Standard Errors assume that the covariance matrix of the errors is correctly specified."
      ],
      "text/plain": [
       "<class 'statsmodels.iolib.summary.Summary'>\n",
       "\"\"\"\n",
       "                            OLS Regression Results                            \n",
       "==============================================================================\n",
       "Dep. Variable:        in_app_purchase   R-squared:                       0.002\n",
       "Model:                            OLS   Adj. R-squared:                  0.002\n",
       "Method:                 Least Squares   F-statistic:                     20.60\n",
       "Date:                Wed, 09 Oct 2024   Prob (F-statistic):           5.74e-06\n",
       "Time:                        11:09:10   Log-Likelihood:                -46784.\n",
       "No. Observations:               10000   AIC:                         9.357e+04\n",
       "Df Residuals:                    9998   BIC:                         9.359e+04\n",
       "Df Model:                           1                                         \n",
       "Covariance Type:            nonrobust                                         \n",
       "============================================================================================\n",
       "                               coef    std err          t      P>|t|      [0.025      0.975]\n",
       "--------------------------------------------------------------------------------------------\n",
       "const                       69.2917      0.366    189.234      0.000      68.574      70.009\n",
       "predicted_push_delivered     3.2938      0.726      4.538      0.000       1.871       4.717\n",
       "==============================================================================\n",
       "Omnibus:                      908.959   Durbin-Watson:                   1.994\n",
       "Prob(Omnibus):                  0.000   Jarque-Bera (JB):             1262.774\n",
       "Skew:                           0.740   Prob(JB):                    6.19e-275\n",
       "Kurtosis:                       3.917   Cond. No.                         3.18\n",
       "==============================================================================\n",
       "\n",
       "Notes:\n",
       "[1] Standard Errors assume that the covariance matrix of the errors is correctly specified.\n",
       "\"\"\""
      ]
     },
     "execution_count": 81,
     "metadata": {},
     "output_type": "execute_result"
    }
   ],
   "source": [
    "model_2.summary()"
   ]
  },
  {
   "cell_type": "code",
   "execution_count": null,
   "id": "04b3f673-21b8-40a9-90fd-09cb961f6edc",
   "metadata": {},
   "outputs": [],
   "source": []
  }
 ],
 "metadata": {
  "kernelspec": {
   "display_name": "Python 3 (ipykernel)",
   "language": "python",
   "name": "python3"
  },
  "language_info": {
   "codemirror_mode": {
    "name": "ipython",
    "version": 3
   },
   "file_extension": ".py",
   "mimetype": "text/x-python",
   "name": "python",
   "nbconvert_exporter": "python",
   "pygments_lexer": "ipython3",
   "version": "3.12.4"
  }
 },
 "nbformat": 4,
 "nbformat_minor": 5
}
