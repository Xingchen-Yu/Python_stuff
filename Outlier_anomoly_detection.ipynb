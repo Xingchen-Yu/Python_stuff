{
 "cells": [
  {
   "cell_type": "markdown",
   "id": "b5040b6a-ffe6-4c4c-bce1-dc118898709a",
   "metadata": {},
   "source": [
    "## Novelty detection review\n",
    "[referece](https://scikit-learn.org/stable/modules/outlier_detection.html#isolation-forest)"
   ]
  },
  {
   "cell_type": "code",
   "execution_count": 70,
   "id": "82657e80-87c4-4f44-a8eb-13eed314fc17",
   "metadata": {},
   "outputs": [],
   "source": [
    "from sklearn.svm import OneClassSVM\n",
    "from sklearn.ensemble import IsolationForest\n",
    "from sklearn.neighbors import LocalOutlierFactor\n",
    "from sklearn.covariance import EllipticEnvelope\n",
    "import numpy as np\n",
    "import pandas as pd"
   ]
  },
  {
   "cell_type": "code",
   "execution_count": 60,
   "id": "d2c1845d-5582-4fd2-b2a0-d561eaa6045c",
   "metadata": {},
   "outputs": [],
   "source": [
    "rng = np.random.RandomState(0)\n",
    "x = rng.normal(size = (1000,1))\n",
    "x_to_test = rng.uniform(size = (10,1),low = -5, high =5)"
   ]
  },
  {
   "cell_type": "code",
   "execution_count": 61,
   "id": "02fa564a-eca2-4853-9878-1bd2f7d98442",
   "metadata": {},
   "outputs": [
    {
     "data": {
      "text/plain": [
       "array([[ 3.21903908],\n",
       "       [ 2.00528623],\n",
       "       [ 3.83077597],\n",
       "       [ 4.66575107],\n",
       "       [ 2.74747614],\n",
       "       [ 4.94233083],\n",
       "       [ 1.14769886],\n",
       "       [-4.62870396],\n",
       "       [-4.85748485],\n",
       "       [-1.57896125]])"
      ]
     },
     "execution_count": 61,
     "metadata": {},
     "output_type": "execute_result"
    }
   ],
   "source": [
    "x_to_test"
   ]
  },
  {
   "cell_type": "code",
   "execution_count": 73,
   "id": "913b9876-469e-4c2f-a0d3-ab0108c2193e",
   "metadata": {},
   "outputs": [
    {
     "data": {
      "text/plain": [
       "array([-1, -1, -1, -1, -1, -1,  1, -1, -1,  1], dtype=int64)"
      ]
     },
     "execution_count": 73,
     "metadata": {},
     "output_type": "execute_result"
    }
   ],
   "source": [
    "model = OneClassSVM(gamma = 'auto', nu =0.1).fit(x) ## sensitive to nu parameter\n",
    "model.predict(x_to_test)"
   ]
  },
  {
   "cell_type": "code",
   "execution_count": 63,
   "id": "a6c9c38a-53bd-43f4-aeae-e7bf8133befb",
   "metadata": {},
   "outputs": [
    {
     "data": {
      "text/plain": [
       "array([-1, -1, -1, -1, -1, -1, -1, -1, -1, -1])"
      ]
     },
     "execution_count": 63,
     "metadata": {},
     "output_type": "execute_result"
    }
   ],
   "source": [
    "model2 = IsolationForest(n_estimators=20, warm_start=False,random_state=8888)\n",
    "model2.fit(x).predict(x_to_test)"
   ]
  },
  {
   "cell_type": "code",
   "execution_count": 64,
   "id": "f3bbb798-5d97-4323-9323-3728c3b7bdd4",
   "metadata": {},
   "outputs": [
    {
     "data": {
      "text/plain": [
       "array([-1, -1, -1, -1, -1, -1, -1, -1, -1, -1])"
      ]
     },
     "execution_count": 64,
     "metadata": {},
     "output_type": "execute_result"
    }
   ],
   "source": [
    "# add 10 more trees  \n",
    "model2.set_params(n_estimators=20)\n",
    "model2.fit(x).predict(x_to_test)"
   ]
  },
  {
   "cell_type": "code",
   "execution_count": 71,
   "id": "3543d2f3-1dcb-4188-8a94-6bf59f372c0f",
   "metadata": {},
   "outputs": [
    {
     "data": {
      "text/plain": [
       "array([-1,  1, -1, -1,  1, -1,  1, -1, -1,  1])"
      ]
     },
     "execution_count": 71,
     "metadata": {},
     "output_type": "execute_result"
    }
   ],
   "source": [
    "model3 = LocalOutlierFactor(n_neighbors = 10, novelty= True, contamination=0.0000001)\n",
    "model3.fit(x).predict(x_to_test)"
   ]
  },
  {
   "cell_type": "code",
   "execution_count": 72,
   "id": "b8ff16bb-f509-4100-96a7-606b078ade14",
   "metadata": {},
   "outputs": [
    {
     "data": {
      "text/plain": [
       "array([-1,  1, -1, -1,  1, -1,  1, -1, -1,  1])"
      ]
     },
     "execution_count": 72,
     "metadata": {},
     "output_type": "execute_result"
    }
   ],
   "source": [
    "model4 = EllipticEnvelope(contamination=0.0000001)\n",
    "model4.fit(x).predict(x_to_test)"
   ]
  },
  {
   "cell_type": "code",
   "execution_count": null,
   "id": "ae52deb1-7018-486b-b0a4-6c0951ab4877",
   "metadata": {},
   "outputs": [],
   "source": []
  }
 ],
 "metadata": {
  "kernelspec": {
   "display_name": "Python 3 (ipykernel)",
   "language": "python",
   "name": "python3"
  },
  "language_info": {
   "codemirror_mode": {
    "name": "ipython",
    "version": 3
   },
   "file_extension": ".py",
   "mimetype": "text/x-python",
   "name": "python",
   "nbconvert_exporter": "python",
   "pygments_lexer": "ipython3",
   "version": "3.9.7"
  }
 },
 "nbformat": 4,
 "nbformat_minor": 5
}
