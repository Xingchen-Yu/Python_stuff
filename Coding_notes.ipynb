{
 "cells": [
  {
   "cell_type": "code",
   "execution_count": 1,
   "id": "bf41ac3e-6185-470e-a707-f9f90b99a085",
   "metadata": {},
   "outputs": [],
   "source": [
    " a = (1,3)"
   ]
  },
  {
   "cell_type": "code",
   "execution_count": 12,
   "id": "b2cc79eb-d943-4c2b-8e58-e3f2e376fdee",
   "metadata": {},
   "outputs": [],
   "source": [
    "from collections import deque\n"
   ]
  },
  {
   "cell_type": "code",
   "execution_count": 7,
   "id": "82756573-c5a8-4179-9c71-7ef9dfa05079",
   "metadata": {},
   "outputs": [],
   "source": [
    "a.add((3,1))"
   ]
  },
  {
   "cell_type": "code",
   "execution_count": 17,
   "id": "3997359d-5aa2-46e3-9583-ccf7c04ab75c",
   "metadata": {},
   "outputs": [],
   "source": [
    "def temp(a,b):\n",
    "    return a+b"
   ]
  },
  {
   "cell_type": "code",
   "execution_count": 18,
   "id": "c1d2ccb8-699e-4cac-96b6-ee82dc44c990",
   "metadata": {},
   "outputs": [],
   "source": [
    "kobe = [[1,3]]"
   ]
  },
  {
   "cell_type": "code",
   "execution_count": 21,
   "id": "148522cf-98bb-47f0-8169-6704ed859a4f",
   "metadata": {},
   "outputs": [
    {
     "data": {
      "text/plain": [
       "4"
      ]
     },
     "execution_count": 21,
     "metadata": {},
     "output_type": "execute_result"
    }
   ],
   "source": [
    "temp(*kobe[0])"
   ]
  },
  {
   "cell_type": "code",
   "execution_count": 3,
   "id": "cb03e000-bdc5-4f2b-be3b-b39c0302f6e0",
   "metadata": {},
   "outputs": [
    {
     "data": {
      "text/plain": [
       "2"
      ]
     },
     "execution_count": 3,
     "metadata": {},
     "output_type": "execute_result"
    }
   ],
   "source": [
    "n_diff"
   ]
  },
  {
   "cell_type": "code",
   "execution_count": null,
   "id": "70d49e6f-3490-4450-9333-6af0328678af",
   "metadata": {},
   "outputs": [],
   "source": [
    "[0,0,0,0 ]"
   ]
  },
  {
   "cell_type": "code",
   "execution_count": 33,
   "id": "f48095fa-ea8a-4805-96aa-e8b84fff18f2",
   "metadata": {},
   "outputs": [],
   "source": [
    "temp = set([(0,0,0,0)])"
   ]
  },
  {
   "cell_type": "code",
   "execution_count": 35,
   "id": "30d11723-d55b-4ded-84bb-752aa3319d09",
   "metadata": {},
   "outputs": [
    {
     "data": {
      "text/plain": [
       "True"
      ]
     },
     "execution_count": 35,
     "metadata": {},
     "output_type": "execute_result"
    }
   ],
   "source": [
    "temp = set([(0,0,0,0)])\n",
    "tuple([0,0,0,0]) in temp"
   ]
  },
  {
   "cell_type": "code",
   "execution_count": 27,
   "id": "8cae1872-bfc4-464f-b1c2-8c559d1a107a",
   "metadata": {},
   "outputs": [],
   "source": [
    "a = [3,5,2]\n",
    "b = a.copy()"
   ]
  },
  {
   "cell_type": "code",
   "execution_count": 22,
   "id": "28a8ce5e-d156-4f66-8dc4-b4528166ee01",
   "metadata": {},
   "outputs": [],
   "source": [
    "a = \"0202\""
   ]
  },
  {
   "cell_type": "code",
   "execution_count": 26,
   "id": "cce9d0d1-9e39-45e2-b507-a431daaf67b2",
   "metadata": {},
   "outputs": [
    {
     "data": {
      "text/plain": [
       "[0, 2, 0, 2]"
      ]
     },
     "execution_count": 26,
     "metadata": {},
     "output_type": "execute_result"
    }
   ],
   "source": [
    "[int(float(x)) for x in list(a)]"
   ]
  },
  {
   "cell_type": "code",
   "execution_count": 8,
   "id": "f9d24b30-7095-4409-8c66-fa92047e61cc",
   "metadata": {},
   "outputs": [],
   "source": [
    "blue, red = 0, 1\n",
    "seen = set([(0, blue), (0, red)])"
   ]
  },
  {
   "cell_type": "code",
   "execution_count": 20,
   "id": "ffd43526-60d6-4438-ad7d-89afa370fc28",
   "metadata": {},
   "outputs": [
    {
     "data": {
      "text/plain": [
       "{1}"
      ]
     },
     "execution_count": 20,
     "metadata": {},
     "output_type": "execute_result"
    }
   ],
   "source": [
    "set([1])"
   ]
  },
  {
   "cell_type": "code",
   "execution_count": 10,
   "id": "efc14dd7-1b28-4241-bda8-94a51cda7d18",
   "metadata": {},
   "outputs": [],
   "source": [
    "ls = [1,2]"
   ]
  },
  {
   "cell_type": "code",
   "execution_count": 14,
   "id": "b897080b-6646-4f84-b47f-bb7ac89d4227",
   "metadata": {},
   "outputs": [],
   "source": [
    "from collections import deque"
   ]
  },
  {
   "cell_type": "code",
   "execution_count": 15,
   "id": "5a31c5f5-a31d-4882-b76f-b40ca219b1c6",
   "metadata": {},
   "outputs": [],
   "source": [
    "temp = deque([ls])"
   ]
  },
  {
   "cell_type": "code",
   "execution_count": 17,
   "id": "0a257eca-be15-401f-8fef-bc423ab00199",
   "metadata": {},
   "outputs": [
    {
     "data": {
      "text/plain": [
       "[1, 2]"
      ]
     },
     "execution_count": 17,
     "metadata": {},
     "output_type": "execute_result"
    }
   ],
   "source": [
    "temp.popleft()"
   ]
  },
  {
   "cell_type": "code",
   "execution_count": null,
   "id": "a71fc4b5-19d4-4d0a-aeb8-adedaa66dd9b",
   "metadata": {},
   "outputs": [],
   "source": [
    "row, col = 0, 2\n",
    "m = 3\n",
    "n= 3"
   ]
  },
  {
   "cell_type": "code",
   "execution_count": null,
   "id": "ec647fb6-3c43-40f9-8483-d2ddb67e1323",
   "metadata": {},
   "outputs": [],
   "source": [
    " (row, col) !=  (entrance_row, entrance_col) and (row == (m-1) or col == (n-1))"
   ]
  },
  {
   "cell_type": "markdown",
   "id": "0fcc0bb8-f310-440d-942f-1363ad38a05a",
   "metadata": {
    "tags": []
   },
   "source": [
    "## Resources\n",
    "[Python-cheat-sheet](https://leetcode.com/discuss/study-guide/2122306/python-cheat-sheet-for-leetcode)"
   ]
  },
  {
   "cell_type": "markdown",
   "id": "aa4abdf0-a531-434d-9cd1-eebea48122e4",
   "metadata": {},
   "source": [
    "## Get the maximum key or value from dictionary"
   ]
  },
  {
   "cell_type": "code",
   "execution_count": 20,
   "id": "a521fe8c-1610-48f1-b95a-dadc8c77e21f",
   "metadata": {},
   "outputs": [
    {
     "data": {
      "text/plain": [
       "1562400"
      ]
     },
     "execution_count": 20,
     "metadata": {},
     "output_type": "execute_result"
    }
   ],
   "source": [
    "10*15*4*31*6*7*2"
   ]
  },
  {
   "cell_type": "code",
   "execution_count": 1,
   "id": "e9c62a69-0a57-49cb-a368-724d33448df2",
   "metadata": {},
   "outputs": [],
   "source": [
    "import numpy as np"
   ]
  },
  {
   "cell_type": "code",
   "execution_count": 19,
   "id": "e821f265-ea16-4a3e-8dbf-96a4691708ad",
   "metadata": {},
   "outputs": [
    {
     "data": {
      "text/plain": [
       "array([0.4, 0.5, 0.6, 0.7, 0.8, 0.9, 1. ])"
      ]
     },
     "execution_count": 19,
     "metadata": {},
     "output_type": "execute_result"
    }
   ],
   "source": [
    "np.arange(0.4, 1.1, 0.1)"
   ]
  },
  {
   "cell_type": "code",
   "execution_count": 18,
   "id": "7ecdab35-cc44-42ac-adf6-15b4e203981a",
   "metadata": {},
   "outputs": [
    {
     "data": {
      "text/plain": [
       "array([0.5, 0.6, 0.7, 0.8, 0.9, 1. ])"
      ]
     },
     "execution_count": 18,
     "metadata": {},
     "output_type": "execute_result"
    }
   ],
   "source": [
    "np.linspace(0.5, 1, 6)"
   ]
  },
  {
   "cell_type": "code",
   "execution_count": 12,
   "id": "712b8d5b-12b5-4ada-8b66-142f40664e28",
   "metadata": {},
   "outputs": [
    {
     "data": {
      "text/plain": [
       "array([0.5       , 0.5122449 , 0.5244898 , 0.53673469, 0.54897959,\n",
       "       0.56122449, 0.57346939, 0.58571429, 0.59795918, 0.61020408,\n",
       "       0.62244898, 0.63469388, 0.64693878, 0.65918367, 0.67142857,\n",
       "       0.68367347, 0.69591837, 0.70816327, 0.72040816, 0.73265306,\n",
       "       0.74489796, 0.75714286, 0.76938776, 0.78163265, 0.79387755,\n",
       "       0.80612245, 0.81836735, 0.83061224, 0.84285714, 0.85510204,\n",
       "       0.86734694, 0.87959184, 0.89183673, 0.90408163, 0.91632653,\n",
       "       0.92857143, 0.94081633, 0.95306122, 0.96530612, 0.97755102,\n",
       "       0.98979592, 1.00204082, 1.01428571, 1.02653061, 1.03877551,\n",
       "       1.05102041, 1.06326531, 1.0755102 , 1.0877551 , 1.1       ])"
      ]
     },
     "execution_count": 12,
     "metadata": {},
     "output_type": "execute_result"
    }
   ],
   "source": [
    "np.linspace(0.5,1, ste)"
   ]
  },
  {
   "cell_type": "code",
   "execution_count": 1,
   "id": "563b85c3-263e-47d7-91bb-9e1e3290cd00",
   "metadata": {},
   "outputs": [],
   "source": [
    "a_dictionary = {\"a\": 1, \"b\": 2, \"c\": 0}\n",
    "b_dictionary = {\"d\": 1, \"e\": 2, \"f\": 0}"
   ]
  },
  {
   "cell_type": "code",
   "execution_count": 2,
   "id": "5926cbb0-64a2-443a-8fae-8b5fa0374ba0",
   "metadata": {},
   "outputs": [],
   "source": [
    "a_dictionary.update(b_dictionary)"
   ]
  },
  {
   "cell_type": "code",
   "execution_count": 5,
   "id": "b4c78d7b-29ca-4ee6-9c9a-f3cc81aa0606",
   "metadata": {},
   "outputs": [
    {
     "data": {
      "text/plain": [
       "{'a': 1000, 'b': 2, 'c': 0, 'd': 1, 'e': 2, 'f': 0}"
      ]
     },
     "execution_count": 5,
     "metadata": {},
     "output_type": "execute_result"
    }
   ],
   "source": [
    "a2_dict = {\"a\":1000}\n",
    "a_dictionary.update(a2_dict)\n",
    "a_dictionary"
   ]
  },
  {
   "cell_type": "markdown",
   "id": "9ca18f4c-bd07-4060-bd4c-2e53518897b8",
   "metadata": {},
   "source": [
    "#### max elements"
   ]
  },
  {
   "cell_type": "code",
   "execution_count": 34,
   "id": "97a7bb74-db93-40ef-b135-2e51858c0677",
   "metadata": {},
   "outputs": [
    {
     "data": {
      "text/plain": [
       "'b'"
      ]
     },
     "execution_count": 34,
     "metadata": {},
     "output_type": "execute_result"
    }
   ],
   "source": [
    "max(a_dictionary.keys(), key=a_dictionary.get)"
   ]
  },
  {
   "cell_type": "code",
   "execution_count": 28,
   "id": "c9305e21-0f11-414c-b709-9ecbc8009c4b",
   "metadata": {},
   "outputs": [
    {
     "data": {
      "text/plain": [
       "'b'"
      ]
     },
     "execution_count": 28,
     "metadata": {},
     "output_type": "execute_result"
    }
   ],
   "source": [
    "max(a_dictionary, key=a_dictionary.get)"
   ]
  },
  {
   "cell_type": "code",
   "execution_count": 33,
   "id": "5dafdf9d-e41e-4ab3-ba7c-85c5d4c295f9",
   "metadata": {},
   "outputs": [
    {
     "data": {
      "text/plain": [
       "'b'"
      ]
     },
     "execution_count": 33,
     "metadata": {},
     "output_type": "execute_result"
    }
   ],
   "source": [
    "sorted(a_dictionary, key=a_dictionary.get)[-1]"
   ]
  },
  {
   "cell_type": "code",
   "execution_count": 36,
   "id": "2cf6a85b-daae-42c0-99b4-9f4d37bea645",
   "metadata": {},
   "outputs": [
    {
     "data": {
      "text/plain": [
       "'b'"
      ]
     },
     "execution_count": 36,
     "metadata": {},
     "output_type": "execute_result"
    }
   ],
   "source": [
    "sorted(a_dictionary, key=a_dictionary.get, reverse = True)[0]"
   ]
  },
  {
   "cell_type": "markdown",
   "id": "62d76654-58d0-4c5d-b14f-717eb6c82a26",
   "metadata": {},
   "source": [
    "#### max values"
   ]
  },
  {
   "cell_type": "code",
   "execution_count": 35,
   "id": "83289667-402c-4c5b-ad29-24d1aad642e7",
   "metadata": {},
   "outputs": [
    {
     "data": {
      "text/plain": [
       "2"
      ]
     },
     "execution_count": 35,
     "metadata": {},
     "output_type": "execute_result"
    }
   ],
   "source": [
    "all_values = a_dictionary.values()\n",
    "max(all_values)"
   ]
  },
  {
   "cell_type": "markdown",
   "id": "803a1f69-1a55-4a6f-8c6b-1501cead3017",
   "metadata": {},
   "source": [
    "__Sort dictionary with lexicographical order and descending counts__"
   ]
  },
  {
   "cell_type": "code",
   "execution_count": 26,
   "id": "3be7b8f9-6176-4eba-8b7c-7ad5c318e2e1",
   "metadata": {},
   "outputs": [
    {
     "data": {
      "text/plain": [
       "dict_keys(['z', 'a', 'y', 'x'])"
      ]
     },
     "execution_count": 26,
     "metadata": {},
     "output_type": "execute_result"
    }
   ],
   "source": [
    "count_dict = {\"x\":3,\"y\":4,\"z\":5,\"a\":4}\n",
    "\n",
    "dict(sorted(count_dict.items(), key = lambda x: (-x[1],x[0]))).keys()"
   ]
  },
  {
   "cell_type": "markdown",
   "id": "a38e1689-b57f-43ee-add0-0174dddd28ce",
   "metadata": {},
   "source": [
    "__sort on both element ascending__"
   ]
  },
  {
   "cell_type": "code",
   "execution_count": 23,
   "id": "4f31e1f1-83bb-4c15-bbc9-a8b7200a747c",
   "metadata": {},
   "outputs": [],
   "source": [
    "temp = [[5,6],[5,5],[2,10],[2,11]]"
   ]
  },
  {
   "cell_type": "code",
   "execution_count": 17,
   "id": "840cf543-0e3f-42cc-8a91-c65a96a01c61",
   "metadata": {},
   "outputs": [
    {
     "data": {
      "text/plain": [
       "[[2, 10], [2, 11], [5, 5], [5, 6]]"
      ]
     },
     "execution_count": 17,
     "metadata": {},
     "output_type": "execute_result"
    }
   ],
   "source": [
    "temp.sort()\n",
    "temp"
   ]
  },
  {
   "cell_type": "markdown",
   "id": "2fb9c61b-f70a-4c10-b28e-cbd99c980d43",
   "metadata": {},
   "source": [
    "__only sort the first element__"
   ]
  },
  {
   "cell_type": "code",
   "execution_count": 2,
   "id": "287c5ebc-a256-45cd-9255-80c98fb5bbe6",
   "metadata": {},
   "outputs": [
    {
     "data": {
      "text/plain": [
       "[[2, 10], [2, 11], [5, 6], [5, 5]]"
      ]
     },
     "execution_count": 2,
     "metadata": {},
     "output_type": "execute_result"
    }
   ],
   "source": [
    "temp = [[5,6],[5,5],[2,10],[2,11]]\n",
    "sorted(temp, key = lambda x:(x[0]))"
   ]
  },
  {
   "cell_type": "markdown",
   "id": "2df5539e-8760-481d-b91e-7297c44c89d2",
   "metadata": {},
   "source": [
    "__sort on both (same as `.sort()`)__"
   ]
  },
  {
   "cell_type": "code",
   "execution_count": 21,
   "id": "c4bd3587-e0fe-4205-b8e0-b0c23d31ea89",
   "metadata": {},
   "outputs": [
    {
     "data": {
      "text/plain": [
       "[[2, 10], [2, 11], [5, 5], [5, 6]]"
      ]
     },
     "execution_count": 21,
     "metadata": {},
     "output_type": "execute_result"
    }
   ],
   "source": [
    "sorted(temp, key = lambda x:(x[0],x[1])) "
   ]
  },
  {
   "cell_type": "markdown",
   "id": "3f59e113-16a2-4069-a66c-41d85855e596",
   "metadata": {},
   "source": [
    "__sort on first ascending and second descending__"
   ]
  },
  {
   "cell_type": "code",
   "execution_count": 22,
   "id": "47ac88c0-7f2e-46b6-8cc7-2369cd23bf43",
   "metadata": {},
   "outputs": [
    {
     "data": {
      "text/plain": [
       "[[2, 11], [2, 10], [5, 6], [5, 5]]"
      ]
     },
     "execution_count": 22,
     "metadata": {},
     "output_type": "execute_result"
    }
   ],
   "source": [
    "sorted(temp, key = lambda x:(x[0],-x[1])) "
   ]
  },
  {
   "cell_type": "code",
   "execution_count": 30,
   "id": "5135e381-6f99-47b6-9490-6fe39032bac9",
   "metadata": {},
   "outputs": [],
   "source": [
    "temp2 = {1:None}"
   ]
  },
  {
   "cell_type": "code",
   "execution_count": 17,
   "id": "d75fb977-b7ea-4fa9-9db5-48dd2ed6c557",
   "metadata": {},
   "outputs": [
    {
     "data": {
      "text/plain": [
       "True"
      ]
     },
     "execution_count": 17,
     "metadata": {},
     "output_type": "execute_result"
    }
   ],
   "source": [
    "1 in temp2"
   ]
  },
  {
   "cell_type": "code",
   "execution_count": 13,
   "id": "86de748d-893f-40de-9630-74e0e104c1ac",
   "metadata": {},
   "outputs": [
    {
     "data": {
      "text/plain": [
       "[1, 3, 5]"
      ]
     },
     "execution_count": 13,
     "metadata": {},
     "output_type": "execute_result"
    }
   ],
   "source": [
    "a = [3,5,1]\n",
    "sorted(a)"
   ]
  },
  {
   "cell_type": "code",
   "execution_count": 11,
   "id": "7af111db-7f0d-4a20-9c1d-bb76c3589f9b",
   "metadata": {},
   "outputs": [
    {
     "data": {
      "text/plain": [
       "[1, 3, 5]"
      ]
     },
     "execution_count": 11,
     "metadata": {},
     "output_type": "execute_result"
    }
   ],
   "source": [
    "sorted(a)"
   ]
  },
  {
   "cell_type": "code",
   "execution_count": 14,
   "id": "9618432c-8a42-4808-9d29-0f385fd46c0d",
   "metadata": {},
   "outputs": [
    {
     "data": {
      "text/plain": [
       "[5, 1]"
      ]
     },
     "execution_count": 14,
     "metadata": {},
     "output_type": "execute_result"
    }
   ],
   "source": [
    "a.pop(0)\n",
    "a"
   ]
  },
  {
   "cell_type": "code",
   "execution_count": 41,
   "id": "51a29961-0cda-4e6d-a943-0484179b2e00",
   "metadata": {},
   "outputs": [
    {
     "data": {
      "text/plain": [
       "[[0, 30], [5, 10], [15, 20]]"
      ]
     },
     "execution_count": 41,
     "metadata": {},
     "output_type": "execute_result"
    }
   ],
   "source": [
    "intervals =  [[0,30],[5,10],[15,20]]\n",
    "intervals = sorted(intervals,key = lambda x: (x[0],x[1]))\n",
    "i = 0\n",
    "intervals"
   ]
  },
  {
   "cell_type": "code",
   "execution_count": 40,
   "id": "efbcee4c-8d7c-4d4d-a983-0ed970d93399",
   "metadata": {},
   "outputs": [
    {
     "name": "stdout",
     "output_type": "stream",
     "text": [
      "false\n"
     ]
    }
   ],
   "source": [
    "if (intervals[i][1]>intervals[i+1][0]) or (intervals[i][0] == intervals[i+1][0]):\n",
    "    print(\"false\") "
   ]
  },
  {
   "cell_type": "code",
   "execution_count": 43,
   "id": "76e1497d-d53f-49c2-beb7-57f66d9bf5fe",
   "metadata": {},
   "outputs": [
    {
     "data": {
      "text/plain": [
       "3"
      ]
     },
     "execution_count": 43,
     "metadata": {},
     "output_type": "execute_result"
    }
   ],
   "source": [
    "len(intervals)"
   ]
  },
  {
   "cell_type": "code",
   "execution_count": 25,
   "id": "73579743-9428-4240-95e0-ba01d083db44",
   "metadata": {},
   "outputs": [
    {
     "data": {
      "text/plain": [
       "[[5, 6], [5, 5], [2, 10]]"
      ]
     },
     "execution_count": 25,
     "metadata": {},
     "output_type": "execute_result"
    }
   ],
   "source": [
    "temp = [[5,6],[5,5],[2,10],[2,11]]\n",
    "temp.pop()\n",
    "temp"
   ]
  },
  {
   "cell_type": "code",
   "execution_count": 27,
   "id": "7be74470-12a2-4565-8a85-2c6f35bda7f4",
   "metadata": {},
   "outputs": [
    {
     "data": {
      "text/plain": [
       "[[5, 5], [2, 10], [2, 11]]"
      ]
     },
     "execution_count": 27,
     "metadata": {},
     "output_type": "execute_result"
    }
   ],
   "source": [
    "temp = [[5,6],[5,5],[2,10],[2,11]]\n",
    "temp.pop(0)\n",
    "temp"
   ]
  },
  {
   "cell_type": "code",
   "execution_count": 30,
   "id": "b9f738eb-0aff-47df-aace-8d691b4df747",
   "metadata": {},
   "outputs": [],
   "source": [
    "temp = [[5,6],[5,5],[2,10],[2,11]]\n",
    "for i in range(len(temp)-1):\n",
    "    temp.pop(0)"
   ]
  },
  {
   "cell_type": "code",
   "execution_count": 31,
   "id": "d7cd1a58-9bd1-4a7b-a6a5-78ec2f98ab7b",
   "metadata": {},
   "outputs": [
    {
     "data": {
      "text/plain": [
       "[[2, 11]]"
      ]
     },
     "execution_count": 31,
     "metadata": {},
     "output_type": "execute_result"
    }
   ],
   "source": [
    "temp"
   ]
  },
  {
   "cell_type": "code",
   "execution_count": 33,
   "id": "203e6ad3-a244-4565-823f-2a95ae985b47",
   "metadata": {},
   "outputs": [],
   "source": [
    "temp2 = temp[-1]"
   ]
  },
  {
   "cell_type": "code",
   "execution_count": 34,
   "id": "f51a1756-d17b-4c2e-b745-51971237102b",
   "metadata": {},
   "outputs": [
    {
     "data": {
      "text/plain": [
       "[[10000, 11]]"
      ]
     },
     "execution_count": 34,
     "metadata": {},
     "output_type": "execute_result"
    }
   ],
   "source": [
    "temp2[0] = 10000\n",
    "temp"
   ]
  },
  {
   "cell_type": "markdown",
   "id": "8c62273a-07fe-48d6-b629-d5256600ae52",
   "metadata": {
    "tags": []
   },
   "source": [
    "## `dictionary.get()`"
   ]
  },
  {
   "cell_type": "code",
   "execution_count": 21,
   "id": "8576dfee-bdef-4855-adc0-9b9b1b3a9bfc",
   "metadata": {},
   "outputs": [],
   "source": [
    "a = {'x':3,'y':100}"
   ]
  },
  {
   "cell_type": "code",
   "execution_count": 22,
   "id": "a7fc1480-fb73-4554-bde4-f703656223f9",
   "metadata": {},
   "outputs": [
    {
     "data": {
      "text/plain": [
       "3"
      ]
     },
     "execution_count": 22,
     "metadata": {},
     "output_type": "execute_result"
    }
   ],
   "source": [
    "a.get('x')"
   ]
  },
  {
   "cell_type": "markdown",
   "id": "d1e147da-2321-4193-a56c-992203eba105",
   "metadata": {},
   "source": [
    "__`.get()` won't raise error__"
   ]
  },
  {
   "cell_type": "code",
   "execution_count": 23,
   "id": "8d78b72b-16a4-40e0-bfff-626adc88d0b0",
   "metadata": {},
   "outputs": [],
   "source": [
    "a.get('z')"
   ]
  },
  {
   "cell_type": "code",
   "execution_count": 24,
   "id": "17caaa68-e67a-4545-b654-80b2c1c333c8",
   "metadata": {},
   "outputs": [
    {
     "ename": "KeyError",
     "evalue": "'z'",
     "output_type": "error",
     "traceback": [
      "\u001b[1;31m---------------------------------------------------------------------------\u001b[0m",
      "\u001b[1;31mKeyError\u001b[0m                                  Traceback (most recent call last)",
      "\u001b[1;32m~\\AppData\\Local\\Temp/ipykernel_17756/2407688254.py\u001b[0m in \u001b[0;36m<module>\u001b[1;34m\u001b[0m\n\u001b[1;32m----> 1\u001b[1;33m \u001b[0ma\u001b[0m\u001b[1;33m[\u001b[0m\u001b[1;34m'z'\u001b[0m\u001b[1;33m]\u001b[0m\u001b[1;33m\u001b[0m\u001b[1;33m\u001b[0m\u001b[0m\n\u001b[0m",
      "\u001b[1;31mKeyError\u001b[0m: 'z'"
     ]
    }
   ],
   "source": [
    "a['z']"
   ]
  },
  {
   "cell_type": "markdown",
   "id": "daa99f88-32b4-4ec3-8483-63933f519f83",
   "metadata": {},
   "source": [
    "## List insert"
   ]
  },
  {
   "cell_type": "code",
   "execution_count": 7,
   "id": "7cc20d8f-a2f1-418b-8d3c-edd6c3c40a29",
   "metadata": {},
   "outputs": [
    {
     "data": {
      "text/plain": [
       "[0, 1, 2, 3, 4, 10, 11, 12, 5, 6, 7, 8, 9]"
      ]
     },
     "execution_count": 7,
     "metadata": {},
     "output_type": "execute_result"
    }
   ],
   "source": [
    "a = [0, 1, 2, 3, 4, 5, 6, 7, 8, 9]\n",
    "a[5:5] = range(10, 13)\n",
    "a"
   ]
  },
  {
   "cell_type": "code",
   "execution_count": 8,
   "id": "d3f44749-fbb6-49b6-b2b3-eff7cdb5f6ea",
   "metadata": {},
   "outputs": [
    {
     "data": {
      "text/plain": [
       "[1000, 0, 1, 2, 3, 4, 10, 11, 12, 5, 6, 7, 8, 9]"
      ]
     },
     "execution_count": 8,
     "metadata": {},
     "output_type": "execute_result"
    }
   ],
   "source": [
    "a.insert(0,1000)\n",
    "a"
   ]
  },
  {
   "cell_type": "code",
   "execution_count": null,
   "id": "838eee9a-4e10-41c8-9593-120ead01345e",
   "metadata": {},
   "outputs": [],
   "source": []
  },
  {
   "cell_type": "markdown",
   "id": "59c3f5fa-9ab0-4dc3-ba3f-385c14062c6e",
   "metadata": {},
   "source": [
    "## `collections` count "
   ]
  },
  {
   "cell_type": "code",
   "execution_count": 7,
   "id": "dbf3f9bc-501a-4418-849e-8e68dd9abee5",
   "metadata": {},
   "outputs": [],
   "source": [
    "import collections"
   ]
  },
  {
   "cell_type": "code",
   "execution_count": 8,
   "id": "a225e9b3-aa43-411f-a61a-c53f9e7c3781",
   "metadata": {},
   "outputs": [],
   "source": [
    "def majorityElement(nums):\n",
    "    counts = collections.Counter(nums)\n",
    "    return max(counts.keys(), key=counts.get)"
   ]
  },
  {
   "cell_type": "code",
   "execution_count": 9,
   "id": "9a05efcb-bf34-4314-9cd5-7ded0b0956c0",
   "metadata": {},
   "outputs": [
    {
     "data": {
      "text/plain": [
       "3"
      ]
     },
     "execution_count": 9,
     "metadata": {},
     "output_type": "execute_result"
    }
   ],
   "source": [
    "majorityElement([1,3,3,3,5])"
   ]
  },
  {
   "cell_type": "code",
   "execution_count": 10,
   "id": "eef9a0e7-60a0-4154-8b66-a18cba06ccb4",
   "metadata": {},
   "outputs": [],
   "source": [
    "temp = collections.Counter([1,3,3,3,5])"
   ]
  },
  {
   "cell_type": "code",
   "execution_count": 1,
   "id": "c76355a8-4347-48fc-ac1e-7a81d96adabd",
   "metadata": {},
   "outputs": [],
   "source": [
    "import numpy as np"
   ]
  },
  {
   "cell_type": "code",
   "execution_count": 2,
   "id": "2ba6acd4-f990-40fe-b86b-645cbe55990b",
   "metadata": {},
   "outputs": [
    {
     "data": {
      "text/plain": [
       "[1]"
      ]
     },
     "execution_count": 2,
     "metadata": {},
     "output_type": "execute_result"
    }
   ],
   "source": [
    "list(range(1,2))"
   ]
  },
  {
   "cell_type": "markdown",
   "id": "5bd59b5f-5acd-41cd-993e-f0a1c8ec94fe",
   "metadata": {},
   "source": [
    "#### list of lists"
   ]
  },
  {
   "cell_type": "code",
   "execution_count": 4,
   "id": "14ec146d-94a3-4e52-8ef4-5791909e2108",
   "metadata": {},
   "outputs": [
    {
     "name": "stdout",
     "output_type": "stream",
     "text": [
      "3 5\n",
      "2 4\n"
     ]
    }
   ],
   "source": [
    "for i, j in [[3,5],[2,4]]:\n",
    "    print(i,j)"
   ]
  },
  {
   "cell_type": "markdown",
   "id": "2a2b1c26-7441-46ef-a1a5-00138b37c0f5",
   "metadata": {},
   "source": [
    "### create heterogeneous lists\n",
    "\n",
    "But this flexibility comes at a cost: to allow these flexible types, each item in the list must contain its own type info, reference count, and other information–that is, each item is a complete Python object. In the special case that all variables are of the same type, much of this information is redundant: it can be much more efficient to store data in a fixed-type array. "
   ]
  },
  {
   "cell_type": "code",
   "execution_count": 2,
   "id": "61975e38-c320-4d5e-aec1-11ba3ebdcd79",
   "metadata": {},
   "outputs": [
    {
     "data": {
      "text/plain": [
       "[bool, str, float, int]"
      ]
     },
     "execution_count": 2,
     "metadata": {},
     "output_type": "execute_result"
    }
   ],
   "source": [
    "L3 = [True, \"2\", 3.0, 4]\n",
    "[type(item) for item in L3]"
   ]
  },
  {
   "cell_type": "markdown",
   "id": "0f8792b6-d2a1-4e0c-b81e-f9633496b5fd",
   "metadata": {},
   "source": [
    "### fixed type"
   ]
  },
  {
   "cell_type": "code",
   "execution_count": 6,
   "id": "9b561d3c-53dc-458e-8e3c-3714df5304cc",
   "metadata": {},
   "outputs": [
    {
     "data": {
      "text/plain": [
       "array([[2, 3, 4],\n",
       "       [4, 5, 6],\n",
       "       [6, 7, 8]])"
      ]
     },
     "execution_count": 6,
     "metadata": {},
     "output_type": "execute_result"
    }
   ],
   "source": [
    "x = np.array([range(i, i + 3) for i in [2, 4, 6]])\n",
    "x"
   ]
  },
  {
   "cell_type": "markdown",
   "id": "80f97b40-5d90-4f09-899f-cf723e85f286",
   "metadata": {},
   "source": [
    "### numpy confusing functions"
   ]
  },
  {
   "cell_type": "markdown",
   "id": "625e622c-a9bb-4fc8-8d50-d8852ede9624",
   "metadata": {},
   "source": [
    "difference between `np.arrange` and `np.linspace`"
   ]
  },
  {
   "cell_type": "code",
   "execution_count": 9,
   "id": "a4a523ce-cb7a-4bbe-bda1-5e367b1a8b14",
   "metadata": {},
   "outputs": [
    {
     "data": {
      "text/plain": [
       "array([ 0,  2,  4,  6,  8, 10, 12, 14, 16, 18])"
      ]
     },
     "execution_count": 9,
     "metadata": {},
     "output_type": "execute_result"
    }
   ],
   "source": [
    "np.arange(0, 20, 2)"
   ]
  },
  {
   "cell_type": "code",
   "execution_count": 12,
   "id": "25e322be-99c9-4749-abb3-79954a77feba",
   "metadata": {},
   "outputs": [
    {
     "data": {
      "text/plain": [
       "array([ 0.,  2.,  4.,  6.,  8., 10., 12., 14., 16., 18.])"
      ]
     },
     "execution_count": 12,
     "metadata": {},
     "output_type": "execute_result"
    }
   ],
   "source": [
    "np.linspace(0,18,10)"
   ]
  },
  {
   "cell_type": "markdown",
   "id": "1752cdf6-0315-4739-bedd-5c8c943f11e4",
   "metadata": {},
   "source": [
    "### numpy distributions"
   ]
  },
  {
   "cell_type": "code",
   "execution_count": 20,
   "id": "c14f2d1d-125b-412e-a520-7b78f75b4c28",
   "metadata": {},
   "outputs": [
    {
     "data": {
      "text/plain": [
       "array([3.00076968, 4.0011984 , 4.94693757])"
      ]
     },
     "execution_count": 20,
     "metadata": {},
     "output_type": "execute_result"
    }
   ],
   "source": [
    "## uniform (a,b)\n",
    "a = 3\n",
    "b = 5\n",
    "out = np.random.random(100) * (b-a) + a\n",
    "np.quantile(out,[0,0.5,1])"
   ]
  },
  {
   "cell_type": "code",
   "execution_count": 33,
   "id": "89cb5008-139a-4834-8f30-d4022537a321",
   "metadata": {},
   "outputs": [
    {
     "data": {
      "text/plain": [
       "array([[ 1.31970288, -0.3063791 , -2.06636449, -0.3009498 , -0.58731355],\n",
       "       [-1.65031391, -1.11686232,  0.36602873, -0.98115691, -1.52107592]])"
      ]
     },
     "execution_count": 33,
     "metadata": {},
     "output_type": "execute_result"
    }
   ],
   "source": [
    "## normal (mean, sd)\n",
    "np.random.normal(loc = 0,scale=1,size=10)\n",
    "np.random.normal(loc = 0,scale=1,size=(2,5))"
   ]
  },
  {
   "cell_type": "code",
   "execution_count": 30,
   "id": "7e1c5e1a-c363-43bc-9d9b-30fa89100645",
   "metadata": {},
   "outputs": [
    {
     "data": {
      "text/plain": [
       "array(['a', 'b', 'a', 'b', 'b'], dtype='<U1')"
      ]
     },
     "execution_count": 30,
     "metadata": {},
     "output_type": "execute_result"
    }
   ],
   "source": [
    "## multinomial like sample in R\n",
    "np.random.choice(np.array(['a','b']),size=5,replace=True,p=[0.1,0.9])"
   ]
  },
  {
   "cell_type": "code",
   "execution_count": 34,
   "id": "45133873-1500-4362-b3e8-b4c0cf2e29ed",
   "metadata": {},
   "outputs": [
    {
     "data": {
      "text/plain": [
       "9"
      ]
     },
     "execution_count": 37,
     "metadata": {},
     "output_type": "execute_result"
    }
   ],
   "source": [
    "## sample random intergers from discrete 0 to 9\n",
    "np.random.randint(0, 10, (3, 3))"
   ]
  },
  {
   "cell_type": "markdown",
   "id": "d3357867-3094-4f2a-aab1-86dd6bb48903",
   "metadata": {},
   "source": [
    "### dictionary"
   ]
  },
  {
   "cell_type": "code",
   "execution_count": 4,
   "id": "e27dc7b1-8af9-4a39-8d38-5abdcb103b91",
   "metadata": {},
   "outputs": [],
   "source": [
    "hashmap = {}\n",
    "hashmap[35] = 1\n",
    "hashmap[26] = 2"
   ]
  },
  {
   "cell_type": "code",
   "execution_count": 5,
   "id": "0ebb902f-1907-4909-bc17-a59fe99ef82d",
   "metadata": {},
   "outputs": [
    {
     "data": {
      "text/plain": [
       "{35: 1, 26: 2}"
      ]
     },
     "execution_count": 5,
     "metadata": {},
     "output_type": "execute_result"
    }
   ],
   "source": [
    "hashmap"
   ]
  },
  {
   "cell_type": "code",
   "execution_count": 6,
   "id": "65100416-643b-4361-9127-9abdec931d1b",
   "metadata": {},
   "outputs": [
    {
     "data": {
      "text/plain": [
       "True"
      ]
     },
     "execution_count": 6,
     "metadata": {},
     "output_type": "execute_result"
    }
   ],
   "source": [
    "35 in hashmap"
   ]
  },
  {
   "cell_type": "code",
   "execution_count": 10,
   "id": "2661a802-0f39-4c52-a166-979d966a580f",
   "metadata": {},
   "outputs": [
    {
     "data": {
      "text/plain": [
       "[1, 2]"
      ]
     },
     "execution_count": 10,
     "metadata": {},
     "output_type": "execute_result"
    }
   ],
   "source": [
    "[hashmap[35], hashmap[26]]"
   ]
  },
  {
   "cell_type": "code",
   "execution_count": 12,
   "id": "b4396c01-4433-4ba4-9005-4aa487d8e425",
   "metadata": {},
   "outputs": [
    {
     "data": {
      "text/plain": [
       "1"
      ]
     },
     "execution_count": 12,
     "metadata": {},
     "output_type": "execute_result"
    }
   ],
   "source": [
    "min(hashmap[35], hashmap[26])"
   ]
  },
  {
   "cell_type": "code",
   "execution_count": 18,
   "id": "753ca167-aebe-43d9-9638-9539e65429a2",
   "metadata": {},
   "outputs": [
    {
     "data": {
      "text/plain": [
       "[4, 3, 2, 1, 0]"
      ]
     },
     "execution_count": 18,
     "metadata": {},
     "output_type": "execute_result"
    }
   ],
   "source": [
    "list(reversed(range(5)))"
   ]
  },
  {
   "cell_type": "markdown",
   "id": "b723c404-b336-478a-8d3a-192d8d1e8fc2",
   "metadata": {},
   "source": [
    "### heap\n",
    "To access the smallest item without popping it, use `heap[0]`."
   ]
  },
  {
   "cell_type": "code",
   "execution_count": 13,
   "id": "7a326b0a-6d0f-4207-829c-e32cfa756e89",
   "metadata": {},
   "outputs": [
    {
     "name": "stdout",
     "output_type": "stream",
     "text": [
      "The created heap is : [1, 3, 9, 7, 5]\n",
      "The modified heap after push is : [1, 3, 4, 7, 5, 9]\n",
      "The popped and smallest element is : 1\n"
     ]
    }
   ],
   "source": [
    "# Python code to demonstrate working of \n",
    "# heapify(), heappush() and heappop()\n",
    "  \n",
    "# importing \"heapq\" to implement heap queue\n",
    "import heapq\n",
    "  \n",
    "# initializing list\n",
    "li = [5, 7, 9, 1, 3]\n",
    "  \n",
    "# using heapify to convert list into heap\n",
    "heapq.heapify(li)\n",
    "  \n",
    "# printing created heap\n",
    "print (\"The created heap is : \",end=\"\")\n",
    "print (list(li))\n",
    "  \n",
    "# using heappush() to push elements into heap\n",
    "# pushes 4\n",
    "heapq.heappush(li,4)\n",
    "  \n",
    "# printing modified heap\n",
    "print (\"The modified heap after push is : \",end=\"\")\n",
    "print (list(li))\n",
    "  \n",
    "# using heappop() to pop smallest element\n",
    "print (\"The popped and smallest element is : \",end=\"\")\n",
    "print (heapq.heappop(li))"
   ]
  },
  {
   "cell_type": "code",
   "execution_count": 3,
   "id": "e20d061a-ce20-4804-82b4-be81d8a18663",
   "metadata": {},
   "outputs": [
    {
     "name": "stdout",
     "output_type": "stream",
     "text": [
      "3 5\n",
      "2 4\n"
     ]
    }
   ],
   "source": [
    "for i, j in [[3,5],[2,4]]:\n",
    "    print(i,j)"
   ]
  },
  {
   "cell_type": "markdown",
   "id": "e10983f0-b30e-4d13-af36-af30b5fd9a00",
   "metadata": {},
   "source": [
    "## Parsing numbers from text"
   ]
  },
  {
   "cell_type": "code",
   "execution_count": 6,
   "id": "f29d93f1-d1e3-40b2-a07c-654b5ae56296",
   "metadata": {},
   "outputs": [
    {
     "data": {
      "text/plain": [
       "['23', '11', '2']"
      ]
     },
     "execution_count": 6,
     "metadata": {},
     "output_type": "execute_result"
    }
   ],
   "source": [
    "txt = \"h3110 23 cat 444.4 rabbit 11 2 dog\"\n",
    "[s for s in txt.split(\" \") if s.isnumeric()]\n",
    "#[23, 11, 2]"
   ]
  },
  {
   "cell_type": "code",
   "execution_count": 25,
   "id": "b33002f0-45ac-4cb9-86e0-089d15173cbe",
   "metadata": {},
   "outputs": [],
   "source": [
    "l = []\n",
    "for t in txt.split():\n",
    "    try:\n",
    "        l.append(float(t))\n",
    "    except ValueError:\n",
    "        pass"
   ]
  },
  {
   "cell_type": "markdown",
   "id": "aa493664-cbed-487e-80c4-6c6182f94f8d",
   "metadata": {},
   "source": [
    "## List Index"
   ]
  },
  {
   "cell_type": "code",
   "execution_count": 19,
   "id": "58c6b2aa-833a-4ed6-b0f2-b44cc62124f0",
   "metadata": {},
   "outputs": [],
   "source": [
    "temp = [3,5,10,\"kobe\",5]"
   ]
  },
  {
   "cell_type": "code",
   "execution_count": 20,
   "id": "c5317a63-6fb9-4bd4-baff-960cd4d4ba7f",
   "metadata": {},
   "outputs": [
    {
     "data": {
      "text/plain": [
       "3"
      ]
     },
     "execution_count": 20,
     "metadata": {},
     "output_type": "execute_result"
    }
   ],
   "source": [
    "temp.index('kobe')"
   ]
  },
  {
   "cell_type": "code",
   "execution_count": 22,
   "id": "8a08dbb0-39f6-476f-b4e4-c636c7c2b3b3",
   "metadata": {},
   "outputs": [
    {
     "data": {
      "text/plain": [
       "1"
      ]
     },
     "execution_count": 22,
     "metadata": {},
     "output_type": "execute_result"
    }
   ],
   "source": [
    "temp.index(5) ## find the index of first 5"
   ]
  },
  {
   "cell_type": "code",
   "execution_count": 24,
   "id": "438243d2-7097-49c6-8377-1b64a5df8bf3",
   "metadata": {},
   "outputs": [
    {
     "data": {
      "text/plain": [
       "4"
      ]
     },
     "execution_count": 24,
     "metadata": {},
     "output_type": "execute_result"
    }
   ],
   "source": [
    "temp.index(5,2) ##find 5 from index 2 to last"
   ]
  },
  {
   "cell_type": "code",
   "execution_count": 23,
   "id": "7b8d2d3b-59b9-4a87-88be-9d1457757a2e",
   "metadata": {},
   "outputs": [
    {
     "data": {
      "text/plain": [
       "[1, 4]"
      ]
     },
     "execution_count": 23,
     "metadata": {},
     "output_type": "execute_result"
    }
   ],
   "source": [
    "[i for i, x in enumerate(temp) if x == 5] "
   ]
  },
  {
   "cell_type": "markdown",
   "id": "c62f3490-bcb8-4cf1-926e-88b32504519f",
   "metadata": {},
   "source": [
    "## List of list looping\n"
   ]
  },
  {
   "cell_type": "code",
   "execution_count": 1,
   "id": "b2c7b3c0-fcde-45aa-a17a-0d3fc018870e",
   "metadata": {},
   "outputs": [
    {
     "name": "stdout",
     "output_type": "stream",
     "text": [
      "2 3\n",
      "5 10\n",
      "2 10\n"
     ]
    }
   ],
   "source": [
    "temp = [[2,3],[5,10],[2,10]]\n",
    "for i,j in temp:\n",
    "    print(i,j)"
   ]
  },
  {
   "cell_type": "markdown",
   "id": "85ad5cc4-9d04-4dc5-9d89-e21673c42fe7",
   "metadata": {},
   "source": [
    "## string operation `split` and `strip`"
   ]
  },
  {
   "cell_type": "code",
   "execution_count": 24,
   "id": "56ec596f-a1e5-4212-8629-5d27b33c9221",
   "metadata": {},
   "outputs": [
    {
     "data": {
      "text/plain": [
       "['a', 'b', 'c', 'd', 'e']"
      ]
     },
     "execution_count": 24,
     "metadata": {},
     "output_type": "execute_result"
    }
   ],
   "source": [
    "txt = \"a \\tb\\tc\\td\\te\"\n",
    "things = txt.split(\"\\t\")\n",
    "[x.strip(\" \") for x in things]"
   ]
  },
  {
   "cell_type": "markdown",
   "id": "33fec473-f9aa-48b6-bff7-887a80c032ca",
   "metadata": {},
   "source": [
    "## `copy` and `deepcopy`"
   ]
  },
  {
   "cell_type": "code",
   "execution_count": 16,
   "id": "0177e37f-6137-441b-85a8-88105dd47a59",
   "metadata": {},
   "outputs": [],
   "source": [
    "import copy"
   ]
  },
  {
   "cell_type": "code",
   "execution_count": 17,
   "id": "8f26a142-1d44-4186-bdd0-63b13032b112",
   "metadata": {},
   "outputs": [
    {
     "data": {
      "text/plain": [
       "[3, 2, [1000, 5]]"
      ]
     },
     "execution_count": 17,
     "metadata": {},
     "output_type": "execute_result"
    }
   ],
   "source": [
    "temp = [3,2,[2,5]]\n",
    "temp2 = temp.copy()\n",
    "temp2[2][0]=1000\n",
    "temp"
   ]
  },
  {
   "cell_type": "code",
   "execution_count": 18,
   "id": "3979b5b4-996d-4173-beae-dd732b45b112",
   "metadata": {},
   "outputs": [
    {
     "data": {
      "text/plain": [
       "[3, 2, [1000, 5]]"
      ]
     },
     "execution_count": 18,
     "metadata": {},
     "output_type": "execute_result"
    }
   ],
   "source": [
    "import copy\n",
    "temp = [3,2,[2,5]]\n",
    "temp2 = copy.copy(temp)\n",
    "temp2[2][0]=1000\n",
    "temp"
   ]
  },
  {
   "cell_type": "code",
   "execution_count": 19,
   "id": "9866d4ab-44df-4c4c-b320-c79ac3a46d7e",
   "metadata": {},
   "outputs": [
    {
     "data": {
      "text/plain": [
       "[3, 2, [2, 5]]"
      ]
     },
     "execution_count": 19,
     "metadata": {},
     "output_type": "execute_result"
    }
   ],
   "source": [
    "import copy\n",
    "temp = [3,2,[2,5]]\n",
    "temp2 = copy.deepcopy(temp)\n",
    "temp2[2][0]=1000\n",
    "temp"
   ]
  },
  {
   "cell_type": "code",
   "execution_count": 4,
   "id": "5524bf62-61fa-49ad-9426-e1492734d154",
   "metadata": {},
   "outputs": [
    {
     "data": {
      "text/plain": [
       "'234'"
      ]
     },
     "execution_count": 4,
     "metadata": {},
     "output_type": "execute_result"
    }
   ],
   "source": [
    "str(234)"
   ]
  },
  {
   "cell_type": "markdown",
   "id": "c062ad91-e8be-428e-8cbd-1d474825dd1b",
   "metadata": {},
   "source": [
    "### check whether a value (string or non-string) is `int` or `float`"
   ]
  },
  {
   "cell_type": "markdown",
   "id": "284d5edd-b261-495d-bf95-6504a5785fea",
   "metadata": {},
   "source": [
    "`isinstance` work for both negative and postive"
   ]
  },
  {
   "cell_type": "code",
   "execution_count": 4,
   "id": "769d6f90-e5e8-4807-8b1d-1056ecba6cc1",
   "metadata": {},
   "outputs": [
    {
     "data": {
      "text/plain": [
       "True"
      ]
     },
     "execution_count": 4,
     "metadata": {},
     "output_type": "execute_result"
    }
   ],
   "source": [
    "isinstance(1, int)"
   ]
  },
  {
   "cell_type": "code",
   "execution_count": 5,
   "id": "fec6a816-f0e6-4e2d-b9f0-f1c20c128462",
   "metadata": {},
   "outputs": [
    {
     "data": {
      "text/plain": [
       "True"
      ]
     },
     "execution_count": 5,
     "metadata": {},
     "output_type": "execute_result"
    }
   ],
   "source": [
    "isinstance(-1, int)"
   ]
  },
  {
   "cell_type": "code",
   "execution_count": 2,
   "id": "bda6b576-88fb-4758-ae7c-28d32c9d0136",
   "metadata": {},
   "outputs": [
    {
     "data": {
      "text/plain": [
       "False"
      ]
     },
     "execution_count": 2,
     "metadata": {},
     "output_type": "execute_result"
    }
   ],
   "source": [
    "isinstance(\"1\", float)"
   ]
  },
  {
   "cell_type": "code",
   "execution_count": 7,
   "id": "3df27344-643a-4e5c-9e39-3d083f030111",
   "metadata": {},
   "outputs": [
    {
     "data": {
      "text/plain": [
       "True"
      ]
     },
     "execution_count": 7,
     "metadata": {},
     "output_type": "execute_result"
    }
   ],
   "source": [
    "isinstance(1.0, float)"
   ]
  },
  {
   "cell_type": "code",
   "execution_count": 15,
   "id": "500c076e-a778-47ee-a969-80e6472da035",
   "metadata": {},
   "outputs": [
    {
     "data": {
      "text/plain": [
       "False"
      ]
     },
     "execution_count": 15,
     "metadata": {},
     "output_type": "execute_result"
    }
   ],
   "source": [
    "\"as\".isnumeric()"
   ]
  },
  {
   "cell_type": "markdown",
   "id": "54eb0c8b-36b8-4b45-bd8f-8d23573f347e",
   "metadata": {},
   "source": [
    "`is_digit` works for non-negative number"
   ]
  },
  {
   "cell_type": "code",
   "execution_count": 20,
   "id": "162928f8-5fa7-44a4-8124-a4d23c8140da",
   "metadata": {},
   "outputs": [
    {
     "data": {
      "text/plain": [
       "False"
      ]
     },
     "execution_count": 20,
     "metadata": {},
     "output_type": "execute_result"
    }
   ],
   "source": [
    "\"-3\".isdigit()"
   ]
  },
  {
   "cell_type": "code",
   "execution_count": 8,
   "id": "791ce28c-4883-46ee-a2b9-ea78a9ff2594",
   "metadata": {},
   "outputs": [
    {
     "data": {
      "text/plain": [
       "True"
      ]
     },
     "execution_count": 8,
     "metadata": {},
     "output_type": "execute_result"
    }
   ],
   "source": [
    "\"3\".isdigit()"
   ]
  },
  {
   "cell_type": "code",
   "execution_count": 11,
   "id": "54af3d35-66d6-4251-8e23-690254098095",
   "metadata": {},
   "outputs": [
    {
     "data": {
      "text/plain": [
       "True"
      ]
     },
     "execution_count": 11,
     "metadata": {},
     "output_type": "execute_result"
    }
   ],
   "source": [
    "\"0\".isdigit()"
   ]
  },
  {
   "cell_type": "markdown",
   "id": "3344016c-cb7b-4980-867b-d2f73aa2a7e5",
   "metadata": {},
   "source": [
    "## sort list of string by length"
   ]
  },
  {
   "cell_type": "code",
   "execution_count": 2,
   "id": "457c3a6b-814f-4ef9-a9d4-00793d858b96",
   "metadata": {},
   "outputs": [
    {
     "data": {
      "text/plain": [
       "['flow', 'flower', 'flight']"
      ]
     },
     "execution_count": 2,
     "metadata": {},
     "output_type": "execute_result"
    }
   ],
   "source": [
    "x = [\"flower\",\"flow\",\"flight\"]\n",
    "sorted(x,key = lambda x: len(x))"
   ]
  },
  {
   "cell_type": "code",
   "execution_count": null,
   "id": "eb70f897-c43a-410a-918b-fdeb4c6f51f3",
   "metadata": {},
   "outputs": [],
   "source": [
    "for t in txt.split():\n",
    "    try:\n",
    "        l.append(float(t))\n",
    "    except ValueError:\n",
    "        pass"
   ]
  },
  {
   "cell_type": "code",
   "execution_count": 10,
   "id": "14d3443b-d620-4262-ab8b-c8b8b8a1feb9",
   "metadata": {},
   "outputs": [],
   "source": [
    "temp = ['5 min','-5 asdf','asdf','0 asdf']"
   ]
  },
  {
   "cell_type": "code",
   "execution_count": 11,
   "id": "69bdc7de-39a0-41e7-9e02-2404453e0b8e",
   "metadata": {},
   "outputs": [],
   "source": [
    "out = []\n",
    "for i in range(len(temp)):\n",
    "    for j in temp[i].split():\n",
    "        try:\n",
    "            out.append(float(j))\n",
    "        except ValueError:\n",
    "            pass"
   ]
  },
  {
   "cell_type": "code",
   "execution_count": 12,
   "id": "f551cf68-b9c8-4507-907e-0c640afd3970",
   "metadata": {},
   "outputs": [
    {
     "data": {
      "text/plain": [
       "[5.0, -5.0, 0.0]"
      ]
     },
     "execution_count": 12,
     "metadata": {},
     "output_type": "execute_result"
    }
   ],
   "source": [
    "out"
   ]
  },
  {
   "cell_type": "markdown",
   "id": "67112550-cdc4-4f9c-86e4-9fa178d972e2",
   "metadata": {},
   "source": [
    "### The `isalnum()` method returns True if all characters in the string are alphanumeric (either alphabets or numbers)."
   ]
  },
  {
   "cell_type": "code",
   "execution_count": 2,
   "id": "9aaaed8b-9054-4e5a-abd3-7b9b28c24bd5",
   "metadata": {},
   "outputs": [
    {
     "data": {
      "text/plain": [
       "True"
      ]
     },
     "execution_count": 2,
     "metadata": {},
     "output_type": "execute_result"
    }
   ],
   "source": [
    "name1 = \"Python3\"\n",
    "name1.isalnum()"
   ]
  },
  {
   "cell_type": "code",
   "execution_count": 4,
   "id": "fef1d39c-48f2-476f-8b44-0f6de27940df",
   "metadata": {},
   "outputs": [
    {
     "data": {
      "text/plain": [
       "False"
      ]
     },
     "execution_count": 4,
     "metadata": {},
     "output_type": "execute_result"
    }
   ],
   "source": [
    "\"asdf :\".isalnum()"
   ]
  },
  {
   "cell_type": "code",
   "execution_count": 5,
   "id": "b840488a-939f-41f0-9e8f-5d970d3327dc",
   "metadata": {},
   "outputs": [
    {
     "data": {
      "text/plain": [
       "False"
      ]
     },
     "execution_count": 5,
     "metadata": {},
     "output_type": "execute_result"
    }
   ],
   "source": [
    "\":\".isalnum()"
   ]
  },
  {
   "cell_type": "code",
   "execution_count": 6,
   "id": "d4e6b324-e721-4efb-9e5f-0fdfc9c13668",
   "metadata": {},
   "outputs": [
    {
     "name": "stdout",
     "output_type": "stream",
     "text": [
      "bryant\n"
     ]
    }
   ],
   "source": [
    "if \":\".isalnum():\n",
    "    print('kobe')\n",
    "else:\n",
    "    print('bryant')"
   ]
  },
  {
   "cell_type": "code",
   "execution_count": 9,
   "id": "07326549-0ab8-4092-85c1-17e91de79457",
   "metadata": {},
   "outputs": [
    {
     "data": {
      "text/plain": [
       "'python3'"
      ]
     },
     "execution_count": 9,
     "metadata": {},
     "output_type": "execute_result"
    }
   ],
   "source": [
    "name1.lower()"
   ]
  },
  {
   "cell_type": "markdown",
   "id": "316d23dc-abc8-44c7-8063-3a8fc4d4f5cf",
   "metadata": {
    "tags": []
   },
   "source": [
    "## `zip` transpose\n",
    "`zip(*a)` is equal to `zip(a[0], a[1], a[2])`."
   ]
  },
  {
   "cell_type": "code",
   "execution_count": null,
   "id": "03be8ee3-72df-4dcc-ae7a-8311e641e815",
   "metadata": {},
   "outputs": [],
   "source": [
    "mat = [[0,0,1,0],[0,0,0,0],[0,0,0,0],[0,1,0,0]]"
   ]
  },
  {
   "cell_type": "code",
   "execution_count": 26,
   "id": "7cab4145-5cfc-4c67-9dac-4228469cbd7b",
   "metadata": {},
   "outputs": [
    {
     "data": {
      "text/plain": [
       "array([[0, 0, 0, 0],\n",
       "       [0, 0, 0, 1],\n",
       "       [1, 0, 0, 0],\n",
       "       [0, 0, 0, 0]])"
      ]
     },
     "execution_count": 26,
     "metadata": {},
     "output_type": "execute_result"
    }
   ],
   "source": [
    "np.array(mat_t)"
   ]
  },
  {
   "cell_type": "code",
   "execution_count": 38,
   "id": "e2ecca9f-3c85-477f-80df-384cc5acdda7",
   "metadata": {},
   "outputs": [
    {
     "data": {
      "text/plain": [
       "[(0, 0, 0, 0), (0, 0, 0, 1), (1, 0, 0, 0), (0, 0, 0, 0)]"
      ]
     },
     "execution_count": 38,
     "metadata": {},
     "output_type": "execute_result"
    }
   ],
   "source": [
    "list(zip(*mat))"
   ]
  },
  {
   "cell_type": "markdown",
   "id": "023a010d-7b19-491c-b0f6-56e50c263374",
   "metadata": {},
   "source": [
    "## `pop` also works as below"
   ]
  },
  {
   "cell_type": "code",
   "execution_count": 1,
   "id": "54a83191-ac2b-4853-b75f-3a1d8b17758c",
   "metadata": {},
   "outputs": [
    {
     "data": {
      "text/plain": [
       "5"
      ]
     },
     "execution_count": 1,
     "metadata": {},
     "output_type": "execute_result"
    }
   ],
   "source": [
    "temp = [3,2,5]\n",
    "temp2 = [3,2,5]\n",
    "temp2[temp.pop(1)]"
   ]
  },
  {
   "cell_type": "markdown",
   "id": "be8f0ef4-980d-4081-bf26-fdebb45ef926",
   "metadata": {},
   "source": [
    "# LC Course"
   ]
  },
  {
   "cell_type": "markdown",
   "id": "b0483311-2aed-41af-b364-f5fda497ce3f",
   "metadata": {},
   "source": [
    "## Recursive\n",
    "\n",
    "Computability theory proves that any iterative algorithm can be written recursively."
   ]
  },
  {
   "cell_type": "code",
   "execution_count": 5,
   "id": "c038b3bc-fe8f-4735-b818-c201675c1cb9",
   "metadata": {},
   "outputs": [
    {
     "name": "stdout",
     "output_type": "stream",
     "text": [
      "0\n",
      "1\n",
      "2\n",
      "3\n",
      "4\n",
      "5\n",
      "6\n",
      "7\n",
      "8\n",
      "9\n"
     ]
    }
   ],
   "source": [
    "for i in range(10):\n",
    "    print(i)"
   ]
  },
  {
   "cell_type": "code",
   "execution_count": 6,
   "id": "1965a0d0-a545-465d-9c3b-fea2d4942508",
   "metadata": {},
   "outputs": [],
   "source": [
    "def print_stuff(i):\n",
    "    print(i)\n",
    "    if i<9:\n",
    "        print_stuff(i+1) "
   ]
  },
  {
   "cell_type": "code",
   "execution_count": 8,
   "id": "17f856dc-6a49-4bac-80cf-11504d6d9834",
   "metadata": {},
   "outputs": [],
   "source": [
    "def print_stuff(i):\n",
    "    if i>=10:\n",
    "        return \n",
    "    print(i)\n",
    "    print_stuff(i+1) "
   ]
  },
  {
   "cell_type": "code",
   "execution_count": 9,
   "id": "7082787e-ef65-4706-bed2-48371fed7d3b",
   "metadata": {},
   "outputs": [
    {
     "name": "stdout",
     "output_type": "stream",
     "text": [
      "0\n",
      "1\n",
      "2\n",
      "3\n",
      "4\n",
      "5\n",
      "6\n",
      "7\n",
      "8\n",
      "9\n"
     ]
    }
   ],
   "source": [
    "print_stuff(0)"
   ]
  },
  {
   "cell_type": "code",
   "execution_count": 24,
   "id": "0c1a5d8c-a1a1-4aca-adf3-cb40e67ad0e5",
   "metadata": {},
   "outputs": [],
   "source": [
    "def fn(i):\n",
    "    if i > 3:\n",
    "        return\n",
    "\n",
    "    print(i)\n",
    "    fn(i + 1)\n",
    "    print(f\"End of call where i = {i}\")\n",
    "    return ## same with or without `return`"
   ]
  },
  {
   "cell_type": "markdown",
   "id": "b79dba6e-d28a-4fde-b6cd-741b99d118da",
   "metadata": {},
   "source": [
    "With recursion, it can get confusing because calls can cascade on top of each other. __The print text is executed in reverse order.__\n",
    "\n",
    "this is the important part: how recursion \"moves\" back \"up\". `fn(4)` triggers the base case, which returns. We are now back in the function call where `i = 3` and the `fn(i + 1)` line has finished, so we move to the next line which prints \"End of call where `i = 3`\". Once that line runs, we move to the next line, which is a return. Now, we are back in the function call where `i = 2` and the `fn(i + 1)` line has finished, so again we move to the next line and print \"End of the call where `i = 2`\". This repeats until the original function call to `fn(1)` returns."
   ]
  },
  {
   "cell_type": "code",
   "execution_count": 25,
   "id": "ca57b3c5-093b-45b6-a03d-c3622f9dc299",
   "metadata": {},
   "outputs": [
    {
     "name": "stdout",
     "output_type": "stream",
     "text": [
      "1\n",
      "2\n",
      "3\n",
      "End of call where i = 3\n",
      "End of call where i = 2\n",
      "End of call where i = 1\n"
     ]
    }
   ],
   "source": [
    "fn(1)"
   ]
  },
  {
   "cell_type": "markdown",
   "id": "25bb0a5d-a6a2-45a9-9ca0-589a2e3c1343",
   "metadata": {
    "tags": []
   },
   "source": [
    "## strings"
   ]
  },
  {
   "cell_type": "markdown",
   "id": "771667a8-e696-4f94-a60c-df352189813d",
   "metadata": {},
   "source": [
    "Python strings are not immutable\n",
    "\n",
    "### O(n) string building\n",
    "We mentioned earlier that in most languages, strings are immutable. This means concatenating a single character to a string is an $O(n)$ operation. If you have a string that is 1 million characters long, and you want to add one more character, all 1 million characters need to be copied over to another string.\n",
    "\n",
    "Many problems will ask you to return a string, and usually, this string will be built during the algorithm. Simple concatenation will result in an $O(n^2)$\n",
    "time complexity for Python.\n",
    "\n",
    "- Declare a list\n",
    "- When building the string, add the characters to the list. This is $O(1)$ per operation.\n",
    "- Once finished, convert the list to a string using `\"\".join(list)`. This is $O(n)$."
   ]
  },
  {
   "cell_type": "code",
   "execution_count": 26,
   "id": "6c371888-ffc5-47ed-ad16-bf0647b39130",
   "metadata": {},
   "outputs": [],
   "source": [
    "temp = 'asdf'"
   ]
  },
  {
   "cell_type": "code",
   "execution_count": 28,
   "id": "53558e0d-99d3-4897-9dfd-0e15ea38af9a",
   "metadata": {},
   "outputs": [
    {
     "ename": "TypeError",
     "evalue": "'str' object does not support item assignment",
     "output_type": "error",
     "traceback": [
      "\u001b[1;31m---------------------------------------------------------------------------\u001b[0m",
      "\u001b[1;31mTypeError\u001b[0m                                 Traceback (most recent call last)",
      "\u001b[1;32m~\\AppData\\Local\\Temp/ipykernel_12836/3904675870.py\u001b[0m in \u001b[0;36m<module>\u001b[1;34m\u001b[0m\n\u001b[1;32m----> 1\u001b[1;33m \u001b[0mtemp\u001b[0m\u001b[1;33m[\u001b[0m\u001b[1;36m0\u001b[0m\u001b[1;33m]\u001b[0m \u001b[1;33m=\u001b[0m \u001b[1;34m\"d\"\u001b[0m\u001b[1;33m\u001b[0m\u001b[1;33m\u001b[0m\u001b[0m\n\u001b[0m",
      "\u001b[1;31mTypeError\u001b[0m: 'str' object does not support item assignment"
     ]
    }
   ],
   "source": [
    "temp[0] = \"d\""
   ]
  },
  {
   "cell_type": "code",
   "execution_count": 1,
   "id": "c67d23ce-6feb-40ce-abe6-f8afa6a2b49a",
   "metadata": {},
   "outputs": [],
   "source": [
    "def build_string(s):\n",
    "    arr = []\n",
    "    for c in s:\n",
    "        arr.append(c)\n",
    "\n",
    "    return \"\".join(arr)"
   ]
  },
  {
   "cell_type": "markdown",
   "id": "f7eb44ab-3a28-40e8-a055-cd11cc40f339",
   "metadata": {},
   "source": [
    "## Array \n",
    "\n",
    "Appending to the end of a list is [amortized](https://stackoverflow.com/questions/33044883/why-is-the-time-complexity-of-pythons-list-append-method-o1) O(1)."
   ]
  },
  {
   "cell_type": "markdown",
   "id": "2c65519f-9317-48c6-bcf1-141e42635683",
   "metadata": {},
   "source": [
    "![title](https://leetcode.com/explore/interview/card/leetcodes-interview-crash-course-data-structures-and-algorithms/703/arraystrings/Figures/DSA/Chapter_1/1_1.png)"
   ]
  },
  {
   "cell_type": "markdown",
   "id": "c72af648-c4cc-435f-bac6-3e5c9795cb11",
   "metadata": {},
   "source": [
    "### Review `more common patterns`\n",
    "\n",
    "- `car pooling` and `Brightest Position on Street` \"\n",
    "\n",
    "- difference between subarray and subsequence"
   ]
  },
  {
   "cell_type": "markdown",
   "id": "01fddf7f-54e6-41ac-bf25-54ec3ba0c80f",
   "metadata": {},
   "source": [
    "## Linked lists\n",
    "\n",
    "The main advantage of a linked list is that you can add and remove elements at any position in `O(1)`. The caveat is that you need to have a reference to a node at the position in which you want to perform the addition/removal, otherwise the operation is `O(n)`. However, this is still much better than a normal (dynamic) array, which requires `O(n)` for adding and removing from an arbitrary position.\n",
    "\n",
    "The main disadvantage of a linked list is that there is no random access. If you have a large linked list and want to access the `150,000th` element, then there usually isn't a better way than to start at the head and iterate 150,000 times. So while an array has `O(1)` indexing, a linked list has `O(n)`.\n",
    "\n",
    "linked lists have the advantage of not having fixed sizes. While dynamic arrays can be resized, under the hood they still are allocated a fixed size - it's just that when this size is exceeded, the array is resized, which is expensive. Linked lists don't suffer from this. However, linked lists have more overhead than arrays - every element needs to have extra storage for the pointers. If you are only storing small items like booleans or characters, then you may be more than doubling the space needed.\n",
    "\n",
    "When it comes to linked list problems, many solutions are difficult to reach because of their elegance. In many cases, you could simply iterate through the linked list and put all the elements in an array, then just solve the problem using the array. However, the point of these problems is usually to manipulate pointers in a clean way using `O(1)` space"
   ]
  },
  {
   "cell_type": "code",
   "execution_count": 63,
   "id": "dcb46704-1999-4fe6-91a5-6620bbcc5f50",
   "metadata": {},
   "outputs": [],
   "source": [
    "class ListNode:\n",
    "    def __init__(self, val):\n",
    "        self.val = val\n",
    "        self.next = None\n",
    "    \n",
    "one = ListNode(1)\n",
    "two = ListNode(2)\n",
    "three = ListNode(3)\n",
    "one.next = two\n",
    "two.next = three\n",
    "head = one"
   ]
  },
  {
   "cell_type": "markdown",
   "id": "d430f5a0-91a0-4f2e-aec1-d2a911e529dd",
   "metadata": {},
   "source": [
    "### travesal through a linked list"
   ]
  },
  {
   "cell_type": "code",
   "execution_count": 64,
   "id": "7cc7be86-4f48-4a08-a20c-99b20ed7eb83",
   "metadata": {},
   "outputs": [],
   "source": [
    "# def get_sum(head):\n",
    "#     ans = 0\n",
    "#     while head:\n",
    "#         ans += head.val\n",
    "#         head = head.next\n",
    "    \n",
    "#     return ans\n",
    "## better version than above so head is still head\n",
    "def get_sum(head):\n",
    "    ans = 0\n",
    "    dummy = head\n",
    "    while dummy:\n",
    "        ans += dummy.val\n",
    "        dummy = dummy.next\n",
    "    \n",
    "    # same as before, but we still have a pointer at the head\n",
    "    return ans\n",
    "def print_val(head):\n",
    "    while head:\n",
    "        print(head.val)\n",
    "        head = head.next\n",
    "        \n",
    "def print_val_rev(end):\n",
    "    while end:\n",
    "        print(end.val)\n",
    "        end = end.prev        "
   ]
  },
  {
   "cell_type": "code",
   "execution_count": 65,
   "id": "0c71c7d5-c2d4-40ac-8ad6-4c88bcccf07c",
   "metadata": {},
   "outputs": [
    {
     "data": {
      "text/plain": [
       "6"
      ]
     },
     "execution_count": 65,
     "metadata": {},
     "output_type": "execute_result"
    }
   ],
   "source": [
    "get_sum(head)"
   ]
  },
  {
   "cell_type": "markdown",
   "id": "14f26eac-3eb5-48ef-bf1b-29a4d5816175",
   "metadata": {},
   "source": [
    "### singly linked list"
   ]
  },
  {
   "cell_type": "markdown",
   "id": "df98ac9a-0fb0-4ae0-b38f-990d57c20c24",
   "metadata": {
    "tags": []
   },
   "source": [
    "#### add elements to linked list\n",
    "\n",
    "Note: it is unusual that you will have a pointer to the node at the position before where you want to perform an operation, but we are writing these functions as a demonstration. In most cases, you will need to iterate from the `head` until you are at the desired position."
   ]
  },
  {
   "cell_type": "code",
   "execution_count": 66,
   "id": "ba22e676-12a7-468b-b822-d3795f3ea3f3",
   "metadata": {},
   "outputs": [],
   "source": [
    "# Let prev_node be the node at position i - 1\n",
    "def add_node(prev_node, node_to_add):\n",
    "    node_to_add.next = prev_node.next\n",
    "    prev_node.next = node_to_add"
   ]
  },
  {
   "cell_type": "code",
   "execution_count": 67,
   "id": "9fbf4217-2989-4a43-b65f-632cc776f0f1",
   "metadata": {},
   "outputs": [],
   "source": [
    "two_half = ListNode(8)"
   ]
  },
  {
   "cell_type": "code",
   "execution_count": 56,
   "id": "8ca2970d-fe1b-4e1e-ac73-9fb5f6d19fb3",
   "metadata": {},
   "outputs": [],
   "source": [
    "add_node(one,two_half)"
   ]
  },
  {
   "cell_type": "code",
   "execution_count": 57,
   "id": "5750a081-297b-4da2-94e9-ef7b88c0f790",
   "metadata": {},
   "outputs": [
    {
     "name": "stdout",
     "output_type": "stream",
     "text": [
      "1\n",
      "8\n",
      "2\n",
      "3\n"
     ]
    }
   ],
   "source": [
    "print_val(one)"
   ]
  },
  {
   "cell_type": "markdown",
   "id": "00972ae2-bd39-4420-b7b8-3199f9a20073",
   "metadata": {},
   "source": [
    "#### delete node\n",
    "\n",
    "As mentioned before, when you have a reference to the node at i - 1, then insertion and deletion is `O(1)`. However, without that reference, you need to obtain the reference by iterating from the head, which for an arbitrary position is `O(n)`."
   ]
  },
  {
   "cell_type": "code",
   "execution_count": 58,
   "id": "08f156d8-d86e-43d3-8d49-041caa05622e",
   "metadata": {},
   "outputs": [],
   "source": [
    "# Let prev_node be the node at position i - 1, delete i th position\n",
    "def delete_node(prev_node):\n",
    "    prev_node.next = prev_node.next.next"
   ]
  },
  {
   "cell_type": "code",
   "execution_count": 59,
   "id": "399008f7-9700-48de-a475-2cc1f242a5a4",
   "metadata": {},
   "outputs": [],
   "source": [
    "delete_node(two_half)"
   ]
  },
  {
   "cell_type": "code",
   "execution_count": 61,
   "id": "3efe1640-ada0-4bca-9541-dc9c84e23e66",
   "metadata": {},
   "outputs": [
    {
     "name": "stdout",
     "output_type": "stream",
     "text": [
      "1\n",
      "8\n",
      "3\n"
     ]
    }
   ],
   "source": [
    "print_val(one)"
   ]
  },
  {
   "cell_type": "code",
   "execution_count": 62,
   "id": "2680c1ee-09b6-429e-8623-a2756e48cdb6",
   "metadata": {},
   "outputs": [
    {
     "name": "stdout",
     "output_type": "stream",
     "text": [
      "1\n",
      "8\n",
      "3\n"
     ]
    }
   ],
   "source": [
    "print_val(head)"
   ]
  },
  {
   "cell_type": "markdown",
   "id": "fcd660ff-2258-409a-967a-5b22b89965a6",
   "metadata": {
    "tags": []
   },
   "source": [
    "##### manual deletion\n",
    "\n",
    "__important__\n",
    "\n",
    "check `Middle of the Linked List`, \n",
    "\n",
    "this is like list of list and data frame operation (see copy and deep copy above)"
   ]
  },
  {
   "cell_type": "code",
   "execution_count": 71,
   "id": "3d0ce905-cee1-437a-bfb4-e02fc7cc4f03",
   "metadata": {},
   "outputs": [
    {
     "data": {
      "text/plain": [
       "[1000, [3, 2], 5]"
      ]
     },
     "execution_count": 71,
     "metadata": {},
     "output_type": "execute_result"
    }
   ],
   "source": [
    "b = [1,[3,2],5]\n",
    "a = b\n",
    "a[0] = 1000\n",
    "b"
   ]
  },
  {
   "cell_type": "code",
   "execution_count": 75,
   "id": "7511dfc6-b42c-47fd-a812-9d287b3f2ccc",
   "metadata": {},
   "outputs": [
    {
     "data": {
      "text/html": [
       "<div>\n",
       "<style scoped>\n",
       "    .dataframe tbody tr th:only-of-type {\n",
       "        vertical-align: middle;\n",
       "    }\n",
       "\n",
       "    .dataframe tbody tr th {\n",
       "        vertical-align: top;\n",
       "    }\n",
       "\n",
       "    .dataframe thead th {\n",
       "        text-align: right;\n",
       "    }\n",
       "</style>\n",
       "<table border=\"1\" class=\"dataframe\">\n",
       "  <thead>\n",
       "    <tr style=\"text-align: right;\">\n",
       "      <th></th>\n",
       "      <th>x</th>\n",
       "      <th>y</th>\n",
       "    </tr>\n",
       "  </thead>\n",
       "  <tbody>\n",
       "    <tr>\n",
       "      <th>0</th>\n",
       "      <td>1000</td>\n",
       "      <td>2</td>\n",
       "    </tr>\n",
       "    <tr>\n",
       "      <th>1</th>\n",
       "      <td>20</td>\n",
       "      <td>4</td>\n",
       "    </tr>\n",
       "    <tr>\n",
       "      <th>2</th>\n",
       "      <td>3</td>\n",
       "      <td>5</td>\n",
       "    </tr>\n",
       "  </tbody>\n",
       "</table>\n",
       "</div>"
      ],
      "text/plain": [
       "      x  y\n",
       "0  1000  2\n",
       "1    20  4\n",
       "2     3  5"
      ]
     },
     "execution_count": 75,
     "metadata": {},
     "output_type": "execute_result"
    }
   ],
   "source": [
    "import pandas as pd\n",
    "\n",
    "df = pd.DataFrame({\"x\":[1,2,3], \"y\":[2,4,5]})\n",
    "df2 = df\n",
    "df2['x'] = [1000,20,3]\n",
    "df"
   ]
  },
  {
   "cell_type": "code",
   "execution_count": 41,
   "id": "50810933-757f-4d96-8227-a58821c26ea5",
   "metadata": {},
   "outputs": [],
   "source": [
    "class ListNode:\n",
    "    def __init__(self, val):\n",
    "        self.val = val\n",
    "        self.next = None\n",
    "    \n",
    "one = ListNode(1)\n",
    "two = ListNode(2)\n",
    "three = ListNode(3)\n",
    "one.next = two\n",
    "two.next = three\n",
    "head = one"
   ]
  },
  {
   "cell_type": "code",
   "execution_count": 42,
   "id": "df93ee41-14b1-43a4-ad18-af559c57dc42",
   "metadata": {},
   "outputs": [
    {
     "name": "stdout",
     "output_type": "stream",
     "text": [
      "1\n",
      "2\n",
      "3\n"
     ]
    }
   ],
   "source": [
    "print_val(one)"
   ]
  },
  {
   "cell_type": "code",
   "execution_count": 76,
   "id": "6298daf5-88f4-43c7-b71b-7338a1adb589",
   "metadata": {},
   "outputs": [],
   "source": [
    "## deleting a node\n",
    "head.next = head.next.next"
   ]
  },
  {
   "cell_type": "code",
   "execution_count": 77,
   "id": "ab5eeef5-bc19-4a30-a58e-2431401cb64a",
   "metadata": {},
   "outputs": [
    {
     "name": "stdout",
     "output_type": "stream",
     "text": [
      "1\n",
      "3\n"
     ]
    }
   ],
   "source": [
    "print_val(one)"
   ]
  },
  {
   "cell_type": "code",
   "execution_count": 37,
   "id": "0d85402d-2df7-47a8-8d90-956f649b6fe8",
   "metadata": {},
   "outputs": [],
   "source": [
    "class ListNode:\n",
    "    def __init__(self, val):\n",
    "        self.val = val\n",
    "        self.next = None\n",
    "    \n",
    "one = ListNode(1)\n",
    "two = ListNode(2)\n",
    "three = ListNode(3)\n",
    "one.next = two\n",
    "two.next = three\n",
    "head = one"
   ]
  },
  {
   "cell_type": "code",
   "execution_count": 38,
   "id": "3f0e1275-5e71-4669-be78-8989282cc276",
   "metadata": {},
   "outputs": [],
   "source": [
    "head = head.next"
   ]
  },
  {
   "cell_type": "code",
   "execution_count": 39,
   "id": "fc7ec405-6116-4b65-9fc9-efa245dd8d65",
   "metadata": {},
   "outputs": [
    {
     "name": "stdout",
     "output_type": "stream",
     "text": [
      "1\n",
      "2\n",
      "3\n"
     ]
    }
   ],
   "source": [
    "print_val(one)"
   ]
  },
  {
   "cell_type": "code",
   "execution_count": 40,
   "id": "7ed9f555-15fc-484f-864a-eacf68db83ae",
   "metadata": {},
   "outputs": [
    {
     "name": "stdout",
     "output_type": "stream",
     "text": [
      "2\n",
      "3\n"
     ]
    }
   ],
   "source": [
    "print_val(head)"
   ]
  },
  {
   "cell_type": "markdown",
   "id": "341c948a-75a1-4077-958f-bde0d459bbb7",
   "metadata": {},
   "source": [
    "### Doubly linked list"
   ]
  },
  {
   "cell_type": "code",
   "execution_count": 1,
   "id": "3a7ddf4c-2f09-49fc-810f-16752d829a0b",
   "metadata": {},
   "outputs": [],
   "source": [
    "class ListNode:\n",
    "    def __init__(self, val):\n",
    "        self.val = val\n",
    "        self.next = None\n",
    "        self.prev = None\n",
    "\n",
    "# Let node be the node at position i\n",
    "def add_node(node, node_to_add):\n",
    "    prev_node = node.prev\n",
    "    node_to_add.next = node\n",
    "    node_to_add.prev = prev_node\n",
    "    prev_node.next = node_to_add\n",
    "    node.prev = node_to_add\n",
    "    \n",
    "def add_node2(node, node_to_add):\n",
    "    prev_node = node.prev\n",
    "    node_to_add.prev = prev_node\n",
    "    node_to_add.next = node\n",
    "    node.prev = node_to_add\n",
    "    prev_node.next = node_to_add\n",
    "# Let node be the node at position i\n",
    "def delete_node(node):\n",
    "    prev_node = node.prev\n",
    "    next_node = node.next\n",
    "    prev_node.next = next_node\n",
    "    next_node.prev = prev_node"
   ]
  },
  {
   "cell_type": "code",
   "execution_count": 2,
   "id": "14450078-48e3-427e-8451-d40dc1a7e028",
   "metadata": {},
   "outputs": [],
   "source": [
    "one = ListNode(1)\n",
    "two = ListNode(2)\n",
    "three = ListNode(3)\n",
    "kobe = ListNode(8)\n",
    "one.next = two\n",
    "two.prev = one\n",
    "two.next = three\n",
    "three.prev = two"
   ]
  },
  {
   "cell_type": "code",
   "execution_count": 3,
   "id": "0a1ccecb-2a04-4dfe-847c-9da32b4f1efb",
   "metadata": {},
   "outputs": [
    {
     "ename": "NameError",
     "evalue": "name 'print_val' is not defined",
     "output_type": "error",
     "traceback": [
      "\u001b[1;31m---------------------------------------------------------------------------\u001b[0m",
      "\u001b[1;31mNameError\u001b[0m                                 Traceback (most recent call last)",
      "\u001b[1;32m~\\AppData\\Local\\Temp/ipykernel_16032/3632260664.py\u001b[0m in \u001b[0;36m<module>\u001b[1;34m\u001b[0m\n\u001b[1;32m----> 1\u001b[1;33m \u001b[0mprint_val\u001b[0m\u001b[1;33m(\u001b[0m\u001b[0mone\u001b[0m\u001b[1;33m)\u001b[0m\u001b[1;33m\u001b[0m\u001b[1;33m\u001b[0m\u001b[0m\n\u001b[0m",
      "\u001b[1;31mNameError\u001b[0m: name 'print_val' is not defined"
     ]
    }
   ],
   "source": [
    "print_val(one)"
   ]
  },
  {
   "cell_type": "code",
   "execution_count": 46,
   "id": "3dc5aa1d-0817-4f54-8972-0a838ecbe369",
   "metadata": {},
   "outputs": [
    {
     "name": "stdout",
     "output_type": "stream",
     "text": [
      "3\n",
      "2\n",
      "1\n"
     ]
    }
   ],
   "source": [
    "print_val_rev(three)"
   ]
  },
  {
   "cell_type": "code",
   "execution_count": 47,
   "id": "f2d28522-1972-4526-a1a2-367407f6abac",
   "metadata": {},
   "outputs": [],
   "source": [
    "#add_node(two,kobe)\n",
    "add_node2(two,kobe)"
   ]
  },
  {
   "cell_type": "code",
   "execution_count": 48,
   "id": "261dd48f-d1a7-4284-a616-332c331fd0d1",
   "metadata": {},
   "outputs": [
    {
     "name": "stdout",
     "output_type": "stream",
     "text": [
      "1\n",
      "8\n",
      "2\n",
      "3\n"
     ]
    }
   ],
   "source": [
    "print_val(one)"
   ]
  },
  {
   "cell_type": "code",
   "execution_count": 37,
   "id": "7da1cfea-e131-4421-8e22-bfa23336a486",
   "metadata": {},
   "outputs": [
    {
     "name": "stdout",
     "output_type": "stream",
     "text": [
      "3\n",
      "2\n",
      "8\n",
      "1\n"
     ]
    }
   ],
   "source": [
    "print_val_rev(three)"
   ]
  },
  {
   "cell_type": "markdown",
   "id": "7afc9cab-9f1d-4298-a558-89fe527356b9",
   "metadata": {},
   "source": [
    "### Linked lists with sentinel nodes\n",
    "\n",
    "The previous code we looked at is prone to errors. For example, if we are trying to delete the last node in list, then `nextNode` will be `null`, and trying to access `nextNode.next` would result in an error. With sentinel nodes, we don't need to worry about this scenario because the last node's next points to the sentinel tail."
   ]
  },
  {
   "cell_type": "code",
   "execution_count": 49,
   "id": "1fa5d973-4b70-4db6-96ae-ed3ea5bc2d95",
   "metadata": {},
   "outputs": [],
   "source": [
    "class ListNode:\n",
    "    def __init__(self, val):\n",
    "        self.val = val\n",
    "        self.next = None\n",
    "        self.prev = None\n",
    "\n",
    "def add_to_end(node_to_add):\n",
    "    node_to_add.next = tail\n",
    "    node_to_add.prev = tail.prev\n",
    "    tail.prev.next = node_to_add\n",
    "    tail.prev = node_to_add\n",
    "\n",
    "def remove_from_end():\n",
    "    if head.next == tail:\n",
    "        return\n",
    "\n",
    "    node_to_remove = tail.prev\n",
    "    node_to_remove.prev.next = tail\n",
    "    tail.prev = node_to_remove.prev\n",
    "\n",
    "def add_to_start(node_to_add):\n",
    "    node_to_add.prev = head\n",
    "    node_to_add.next = head.next\n",
    "    head.next.prev = node_to_add\n",
    "    head.next = node_to_add\n",
    "\n",
    "def remove_from_start():\n",
    "    if head.next == tail:\n",
    "        return\n",
    "    \n",
    "    node_to_remove = head.next\n",
    "    node_to_remove.next.prev = head\n",
    "    head.next = node_to_remove.next\n",
    "\n",
    "head = ListNode(None)\n",
    "tail = ListNode(None)\n",
    "head.next = tail\n",
    "tail.prev = head"
   ]
  },
  {
   "cell_type": "code",
   "execution_count": 20,
   "id": "b7cd939b-7fdd-4b9a-b9da-87dfb93fedeb",
   "metadata": {},
   "outputs": [],
   "source": [
    "def return_kth(head, k):\n",
    "    fast = slow = head\n",
    "    \n",
    "    for _ in range(k):\n",
    "        fast = fast.next\n",
    "    \n",
    "    while fast:\n",
    "        slow = slow.next\n",
    "        fast = fast.next\n",
    "        \n",
    "    return slow.val"
   ]
  },
  {
   "cell_type": "code",
   "execution_count": 14,
   "id": "fb546983-01e2-4fcd-8020-b784ecd1f94b",
   "metadata": {},
   "outputs": [],
   "source": [
    "class ListNode:\n",
    "    def __init__(self, val):\n",
    "        self.val = val\n",
    "        self.next = None\n",
    "    \n",
    "one = ListNode(1)\n",
    "two = ListNode(2)\n",
    "three = ListNode(3)\n",
    "four = ListNode(4)\n",
    "five = ListNode(5)"
   ]
  },
  {
   "cell_type": "code",
   "execution_count": 15,
   "id": "4695d2c8-b569-4884-a649-4105f8f3250a",
   "metadata": {},
   "outputs": [],
   "source": [
    "one.next = two\n",
    "two.next = three\n",
    "three.next = four\n",
    "four.next = five"
   ]
  },
  {
   "cell_type": "code",
   "execution_count": 21,
   "id": "0304fe9f-350b-4aa0-a76d-60ac15e03a95",
   "metadata": {},
   "outputs": [
    {
     "name": "stdout",
     "output_type": "stream",
     "text": [
      "None\n"
     ]
    },
    {
     "data": {
      "text/plain": [
       "4"
      ]
     },
     "execution_count": 21,
     "metadata": {},
     "output_type": "execute_result"
    }
   ],
   "source": [
    "return_kth(one,k = 2)"
   ]
  },
  {
   "cell_type": "code",
   "execution_count": 3,
   "id": "d074e550-0612-4dc7-8bd0-b350158441df",
   "metadata": {},
   "outputs": [],
   "source": [
    "temp = [1,2]\n",
    "temp2=temp.copy()"
   ]
  },
  {
   "cell_type": "code",
   "execution_count": 4,
   "id": "a466c6b2-524f-49e7-943c-5ab0e1e1ca9e",
   "metadata": {},
   "outputs": [
    {
     "data": {
      "text/plain": [
       "[1, 2]"
      ]
     },
     "execution_count": 4,
     "metadata": {},
     "output_type": "execute_result"
    }
   ],
   "source": [
    "temp[0]=100\n",
    "temp2"
   ]
  },
  {
   "cell_type": "code",
   "execution_count": 5,
   "id": "541d16a2-1909-4af2-9394-ea881bfb88a7",
   "metadata": {},
   "outputs": [
    {
     "data": {
      "text/plain": [
       "[100, 2]"
      ]
     },
     "execution_count": 5,
     "metadata": {},
     "output_type": "execute_result"
    }
   ],
   "source": [
    "temp"
   ]
  },
  {
   "cell_type": "code",
   "execution_count": 6,
   "id": "296bab2f-8f4d-4a5a-ab50-0e2b64bba84e",
   "metadata": {},
   "outputs": [
    {
     "data": {
      "text/plain": [
       "[100, 2]"
      ]
     },
     "execution_count": 6,
     "metadata": {},
     "output_type": "execute_result"
    }
   ],
   "source": [
    "temp"
   ]
  },
  {
   "cell_type": "code",
   "execution_count": 7,
   "id": "1ab50213-48f1-4146-b7a4-09ec53807c2a",
   "metadata": {},
   "outputs": [],
   "source": [
    "temp.insert(1,100)"
   ]
  },
  {
   "cell_type": "code",
   "execution_count": 9,
   "id": "0f529722-ba36-4863-bc6e-afb5bf329c24",
   "metadata": {},
   "outputs": [
    {
     "data": {
      "text/plain": [
       "[0, 0, 0, 0, 0]"
      ]
     },
     "execution_count": 9,
     "metadata": {},
     "output_type": "execute_result"
    }
   ],
   "source": [
    "[0]*5"
   ]
  },
  {
   "cell_type": "code",
   "execution_count": 11,
   "id": "4bb153ce-4c09-49cf-bb4d-c90704f8910b",
   "metadata": {},
   "outputs": [
    {
     "data": {
      "text/plain": [
       "[]"
      ]
     },
     "execution_count": 11,
     "metadata": {},
     "output_type": "execute_result"
    }
   ],
   "source": [
    "list(range(-1, 5, -1))"
   ]
  },
  {
   "cell_type": "code",
   "execution_count": 13,
   "id": "1ee155ee-b36d-40b3-b139-835ff52da291",
   "metadata": {},
   "outputs": [
    {
     "data": {
      "text/plain": [
       "[5, 4, 3, 2, 1, 0]"
      ]
     },
     "execution_count": 13,
     "metadata": {},
     "output_type": "execute_result"
    }
   ],
   "source": [
    "list(range(5,-1,-1))"
   ]
  },
  {
   "cell_type": "code",
   "execution_count": null,
   "id": "82049d04-e7e7-489b-a8ef-8634581083af",
   "metadata": {},
   "outputs": [],
   "source": []
  },
  {
   "cell_type": "code",
   "execution_count": 1,
   "id": "a4413974-4af4-4285-950c-da5788e763c9",
   "metadata": {},
   "outputs": [],
   "source": [
    "edges = [[0, 1], [1, 2], [2, 0], [2, 3]]"
   ]
  },
  {
   "cell_type": "code",
   "execution_count": 6,
   "id": "acfd1296-cde1-43a1-a295-b4145649f0ca",
   "metadata": {},
   "outputs": [],
   "source": [
    "from collections import defaultdict\n",
    "\n",
    "def build_graph(edges):\n",
    "    graph = defaultdict(list)\n",
    "    for x, y in edges:\n",
    "        graph[x].append(y)\n",
    "        graph[y].append(x)\n",
    "        #uncomment the above line if the graph is undirected\n",
    "    \n",
    "    return graph"
   ]
  },
  {
   "cell_type": "code",
   "execution_count": null,
   "id": "40533a98-1056-47b6-95db-736956955999",
   "metadata": {},
   "outputs": [],
   "source": []
  },
  {
   "cell_type": "code",
   "execution_count": 7,
   "id": "317db7cf-6c87-4a70-a464-284c1f401a72",
   "metadata": {},
   "outputs": [],
   "source": [
    "kobe = build_graph(edges)"
   ]
  },
  {
   "cell_type": "code",
   "execution_count": 8,
   "id": "8d7b470a-22f0-4334-aa96-1e7f3bce020e",
   "metadata": {},
   "outputs": [
    {
     "data": {
      "text/plain": [
       "defaultdict(list, {0: [1, 2], 1: [0, 2], 2: [1, 0, 3], 3: [2]})"
      ]
     },
     "execution_count": 8,
     "metadata": {},
     "output_type": "execute_result"
    }
   ],
   "source": [
    "kobe"
   ]
  },
  {
   "cell_type": "code",
   "execution_count": 10,
   "id": "dce68581-2fec-474a-912c-cc3633399f9c",
   "metadata": {},
   "outputs": [
    {
     "data": {
      "text/plain": [
       "True"
      ]
     },
     "execution_count": 10,
     "metadata": {},
     "output_type": "execute_result"
    }
   ],
   "source": [
    "3 in temp"
   ]
  },
  {
   "cell_type": "code",
   "execution_count": 11,
   "id": "33f250d5-3da8-4f78-aaad-947ae683266a",
   "metadata": {},
   "outputs": [
    {
     "data": {
      "text/plain": [
       "True"
      ]
     },
     "execution_count": 11,
     "metadata": {},
     "output_type": "execute_result"
    }
   ],
   "source": [
    "3 in [3,5]"
   ]
  },
  {
   "cell_type": "code",
   "execution_count": 16,
   "id": "667e6d24-aabf-4b24-ac25-00a2ddf660ac",
   "metadata": {},
   "outputs": [],
   "source": [
    "temp = set(((1,3),(2,4)))"
   ]
  },
  {
   "cell_type": "code",
   "execution_count": 18,
   "id": "8fbfd14b-f52f-47ae-bf72-607f8ee6eef3",
   "metadata": {},
   "outputs": [
    {
     "data": {
      "text/plain": [
       "True"
      ]
     },
     "execution_count": 18,
     "metadata": {},
     "output_type": "execute_result"
    }
   ],
   "source": [
    "(1,3) in temp"
   ]
  },
  {
   "cell_type": "code",
   "execution_count": 20,
   "id": "bfc2d990-8dc5-4cdd-9741-c90810069002",
   "metadata": {},
   "outputs": [
    {
     "data": {
      "text/plain": [
       "{0}"
      ]
     },
     "execution_count": 20,
     "metadata": {},
     "output_type": "execute_result"
    }
   ],
   "source": [
    "set([0])"
   ]
  },
  {
   "cell_type": "code",
   "execution_count": 21,
   "id": "86594d46-83ee-42ee-bfea-2256d83f03d9",
   "metadata": {},
   "outputs": [
    {
     "data": {
      "text/plain": [
       "{1, 3}"
      ]
     },
     "execution_count": 21,
     "metadata": {},
     "output_type": "execute_result"
    }
   ],
   "source": [
    "rooms = [[1,3],[3,0,1],[2],[0]]\n",
    "set(rooms[0])"
   ]
  },
  {
   "cell_type": "code",
   "execution_count": 27,
   "id": "e49f51de-c5a8-4af5-8eae-874acaaa8208",
   "metadata": {},
   "outputs": [],
   "source": [
    "from collections import deque, defaultdict\n",
    "\n",
    "rooms_que = deque(rooms)"
   ]
  },
  {
   "cell_type": "code",
   "execution_count": 24,
   "id": "a21212bd-d529-4fe0-acd7-e492a1266bde",
   "metadata": {},
   "outputs": [
    {
     "data": {
      "text/plain": [
       "[1, 3]"
      ]
     },
     "execution_count": 24,
     "metadata": {},
     "output_type": "execute_result"
    }
   ],
   "source": [
    "rooms_que.popleft()"
   ]
  },
  {
   "cell_type": "code",
   "execution_count": 25,
   "id": "17463f8f-82dc-4a5d-ad97-7b4e6215ac89",
   "metadata": {},
   "outputs": [
    {
     "data": {
      "text/plain": [
       "deque([[3, 0, 1], [2], [0]])"
      ]
     },
     "execution_count": 25,
     "metadata": {},
     "output_type": "execute_result"
    }
   ],
   "source": [
    "rooms_que"
   ]
  },
  {
   "cell_type": "code",
   "execution_count": 26,
   "id": "ae43ea8d-8633-4c6e-afa8-7a6914092c01",
   "metadata": {},
   "outputs": [],
   "source": [
    "temp = []\n",
    "if temp:\n",
    "    print('kobe')"
   ]
  },
  {
   "cell_type": "code",
   "execution_count": 28,
   "id": "4d895636-1460-483c-9596-d537520bad44",
   "metadata": {},
   "outputs": [],
   "source": [
    "temp = defaultdict(list)"
   ]
  },
  {
   "cell_type": "code",
   "execution_count": 29,
   "id": "cadcc0e1-3d0d-4e0e-ad9c-c3c7a18dfcbe",
   "metadata": {},
   "outputs": [
    {
     "data": {
      "text/plain": [
       "False"
      ]
     },
     "execution_count": 29,
     "metadata": {},
     "output_type": "execute_result"
    }
   ],
   "source": [
    "3 in temp"
   ]
  },
  {
   "cell_type": "code",
   "execution_count": 1,
   "id": "d23503c3-cd35-4b1b-ba3a-ccc22fff138b",
   "metadata": {},
   "outputs": [],
   "source": [
    "temp = {'x':3,'y':5}"
   ]
  },
  {
   "cell_type": "code",
   "execution_count": 3,
   "id": "41799fd6-ddbc-43e9-beb0-b28f3d4c11cc",
   "metadata": {},
   "outputs": [
    {
     "name": "stdout",
     "output_type": "stream",
     "text": [
      "x\n",
      "y\n"
     ]
    }
   ],
   "source": [
    "for key in temp:\n",
    "    print(key)"
   ]
  },
  {
   "cell_type": "code",
   "execution_count": 4,
   "id": "22e115fc-7403-40e4-8f46-16b09dc3db93",
   "metadata": {},
   "outputs": [
    {
     "name": "stdout",
     "output_type": "stream",
     "text": [
      "8\n"
     ]
    }
   ],
   "source": [
    "a = 1\n",
    "if a:\n",
    "    print(8)"
   ]
  },
  {
   "cell_type": "code",
   "execution_count": null,
   "id": "c1304846-880e-4d2e-b9f5-1b4f8d68e633",
   "metadata": {},
   "outputs": [],
   "source": []
  }
 ],
 "metadata": {
  "kernelspec": {
   "display_name": "Python 3 (ipykernel)",
   "language": "python",
   "name": "python3"
  },
  "language_info": {
   "codemirror_mode": {
    "name": "ipython",
    "version": 3
   },
   "file_extension": ".py",
   "mimetype": "text/x-python",
   "name": "python",
   "nbconvert_exporter": "python",
   "pygments_lexer": "ipython3",
   "version": "3.9.7"
  }
 },
 "nbformat": 4,
 "nbformat_minor": 5
}
