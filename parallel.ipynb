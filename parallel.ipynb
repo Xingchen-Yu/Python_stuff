{
 "cells": [
  {
   "cell_type": "code",
   "execution_count": 2,
   "id": "7c21aedd-b8c3-45b2-97eb-9beac2dfce5a",
   "metadata": {
    "collapsed": true,
    "jupyter": {
     "outputs_hidden": true
    },
    "tags": []
   },
   "outputs": [
    {
     "name": "stdout",
     "output_type": "stream",
     "text": [
      "Collecting ray\n",
      "  Downloading ray-1.9.2-cp39-cp39-win_amd64.whl (21.3 MB)\n",
      "Requirement already satisfied: filelock in c:\\users\\josep\\anaconda3\\lib\\site-packages (from ray) (3.3.1)\n",
      "Requirement already satisfied: attrs in c:\\users\\josep\\anaconda3\\lib\\site-packages (from ray) (21.2.0)\n",
      "Requirement already satisfied: numpy>=1.19.3 in c:\\users\\josep\\anaconda3\\lib\\site-packages (from ray) (1.20.3)\n",
      "Requirement already satisfied: jsonschema in c:\\users\\josep\\anaconda3\\lib\\site-packages (from ray) (3.2.0)\n",
      "Requirement already satisfied: pyyaml in c:\\users\\josep\\anaconda3\\lib\\site-packages (from ray) (6.0)\n",
      "Requirement already satisfied: click>=7.0 in c:\\users\\josep\\anaconda3\\lib\\site-packages (from ray) (8.0.3)\n",
      "Requirement already satisfied: msgpack<2.0.0,>=1.0.0 in c:\\users\\josep\\anaconda3\\lib\\site-packages (from ray) (1.0.2)\n",
      "Collecting redis>=3.5.0\n",
      "  Downloading redis-4.1.2-py3-none-any.whl (173 kB)\n",
      "Requirement already satisfied: protobuf>=3.15.3 in c:\\users\\josep\\anaconda3\\lib\\site-packages (from ray) (3.19.3)\n",
      "Requirement already satisfied: grpcio>=1.28.1 in c:\\users\\josep\\anaconda3\\lib\\site-packages (from ray) (1.43.0)\n",
      "Requirement already satisfied: colorama in c:\\users\\josep\\anaconda3\\lib\\site-packages (from click>=7.0->ray) (0.4.4)\n",
      "Requirement already satisfied: six>=1.5.2 in c:\\users\\josep\\anaconda3\\lib\\site-packages (from grpcio>=1.28.1->ray) (1.16.0)\n",
      "Collecting deprecated>=1.2.3\n",
      "  Downloading Deprecated-1.2.13-py2.py3-none-any.whl (9.6 kB)\n",
      "Requirement already satisfied: packaging>=20.4 in c:\\users\\josep\\anaconda3\\lib\\site-packages (from redis>=3.5.0->ray) (21.0)\n",
      "Requirement already satisfied: wrapt<2,>=1.10 in c:\\users\\josep\\anaconda3\\lib\\site-packages (from deprecated>=1.2.3->redis>=3.5.0->ray) (1.12.1)\n",
      "Requirement already satisfied: pyparsing>=2.0.2 in c:\\users\\josep\\anaconda3\\lib\\site-packages (from packaging>=20.4->redis>=3.5.0->ray) (3.0.4)\n",
      "Requirement already satisfied: setuptools in c:\\users\\josep\\anaconda3\\lib\\site-packages (from jsonschema->ray) (58.0.4)\n",
      "Requirement already satisfied: pyrsistent>=0.14.0 in c:\\users\\josep\\anaconda3\\lib\\site-packages (from jsonschema->ray) (0.18.0)\n",
      "Installing collected packages: deprecated, redis, ray\n",
      "Successfully installed deprecated-1.2.13 ray-1.9.2 redis-4.1.2\n"
     ]
    }
   ],
   "source": [
    "!pip3 install ray"
   ]
  },
  {
   "cell_type": "code",
   "execution_count": 3,
   "id": "a6593633-a7e5-48f8-9a56-629d8abb2297",
   "metadata": {},
   "outputs": [],
   "source": [
    "from sklearn.model_selection import train_test_split\n",
    "from sklearn.svm import SVR\n",
    "import numpy as np\n",
    "import ray\n",
    "import time"
   ]
  },
  {
   "cell_type": "code",
   "execution_count": 4,
   "id": "2bfa9178-f9aa-427d-b649-52016a4040a6",
   "metadata": {},
   "outputs": [],
   "source": [
    "# Start Ray.\n",
    "ray.init()\n",
    "\n",
    "@ray.remote\n",
    "def f(x):\n",
    "    time.sleep(1)\n",
    "    return x\n",
    "\n",
    "# Start 4 tasks in parallel.\n",
    "result_ids = []\n",
    "for i in range(4):\n",
    "    result_ids.append(f.remote(i))\n",
    "    \n",
    "# Wait for the tasks to complete and retrieve the results.\n",
    "# With at least 4 cores, this will take 1 second.\n",
    "results = ray.get(result_ids)  # [0, 1, 2, 3]"
   ]
  },
  {
   "cell_type": "code",
   "execution_count": 14,
   "id": "a691c86e-9744-4b3f-95cf-8520dfa4016f",
   "metadata": {},
   "outputs": [],
   "source": [
    "import numpy as np\n",
    "from joblib import parallel_backend # added line.\n",
    "from sklearn.datasets import load_digits\n",
    "from sklearn.model_selection import RandomizedSearchCV\n",
    "from sklearn.svm import SVC      \n",
    "\n",
    "from ray.util.joblib import register_ray # added line.\n",
    "register_ray() # added line.\n",
    "\n",
    "param_space = {\n",
    "    'C': np.logspace(-6, 6, 30),\n",
    "    'gamma': np.logspace(-8, 8, 30),\n",
    "    'tol': np.logspace(-4, -1, 30),\n",
    "    'class_weight': [None, 'balanced'],\n",
    "}\n",
    "\n",
    "model = SVC(kernel='rbf')\n",
    "search = RandomizedSearchCV(model, param_space, cv=5, n_iter=300,verbose=1)\n",
    "digits = load_digits()"
   ]
  },
  {
   "cell_type": "code",
   "execution_count": 16,
   "id": "1b9366c3-c5e6-45e3-b7eb-b55da4ee0056",
   "metadata": {},
   "outputs": [],
   "source": [
    "#ray.init(address=”auto”)\n",
    "def kobe():\n",
    "    with parallel_backend('ray',n_jobs=-1): # added line.\n",
    "        search.fit(digits.data, digits.target)"
   ]
  },
  {
   "cell_type": "code",
   "execution_count": 23,
   "id": "7dde2eff-58f2-4833-9b81-5a9cc8718253",
   "metadata": {},
   "outputs": [
    {
     "name": "stdout",
     "output_type": "stream",
     "text": [
      "Fitting 5 folds for each of 300 candidates, totalling 1500 fits\n",
      "44.3 s ± 0 ns per loop (mean ± std. dev. of 1 run, 1 loop each)\n"
     ]
    }
   ],
   "source": [
    "%timeit -n 1 -r 1 kobe()"
   ]
  },
  {
   "cell_type": "code",
   "execution_count": 22,
   "id": "a8f156b2-621b-4cfe-8703-48ce29d0934b",
   "metadata": {},
   "outputs": [
    {
     "name": "stdout",
     "output_type": "stream",
     "text": [
      "Fitting 5 folds for each of 300 candidates, totalling 1500 fits\n",
      "36.4 s ± 0 ns per loop (mean ± std. dev. of 1 run, 1 loop each)\n"
     ]
    }
   ],
   "source": [
    "search2 = RandomizedSearchCV(model, param_space, cv=5, n_iter=300,verbose=1,n_jobs=-1)\n",
    "%timeit -n 1 -r 1 search2.fit(digits.data, digits.target)"
   ]
  },
  {
   "cell_type": "code",
   "execution_count": 24,
   "id": "3cdc2534-c730-442a-b2c3-61f916218113",
   "metadata": {},
   "outputs": [
    {
     "name": "stdout",
     "output_type": "stream",
     "text": [
      "Fitting 5 folds for each of 300 candidates, totalling 1500 fits\n",
      "4min 23s ± 0 ns per loop (mean ± std. dev. of 1 run, 1 loop each)\n"
     ]
    }
   ],
   "source": [
    "%timeit -n 1 -r 1 search.fit(digits.data, digits.target)"
   ]
  },
  {
   "cell_type": "code",
   "execution_count": null,
   "id": "e5eea63e-e942-4faa-b0a7-106aaf84e49f",
   "metadata": {},
   "outputs": [],
   "source": [
    "n = 10000\n",
    "p = 40\n",
    "rng = np.random.RandomState(8888)\n",
    "x_mat = np.concatenate((np.full(n,1).reshape(-1,1),rng.normal(size=(n,p))),axis=1) \n",
    "beta_true = rng.normal(size = p+1)\n",
    "y = np.dot(x_mat,beta_true) + rng.normal(n)"
   ]
  }
 ],
 "metadata": {
  "kernelspec": {
   "display_name": "Python 3 (ipykernel)",
   "language": "python",
   "name": "python3"
  },
  "language_info": {
   "codemirror_mode": {
    "name": "ipython",
    "version": 3
   },
   "file_extension": ".py",
   "mimetype": "text/x-python",
   "name": "python",
   "nbconvert_exporter": "python",
   "pygments_lexer": "ipython3",
   "version": "3.9.7"
  }
 },
 "nbformat": 4,
 "nbformat_minor": 5
}
